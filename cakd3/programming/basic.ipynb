{
 "cells": [
  {
   "cell_type": "markdown",
   "id": "a85f50ee",
   "metadata": {},
   "source": [
    "# 파이썬 기초"
   ]
  },
  {
   "cell_type": "code",
   "execution_count": 9,
   "id": "3285981d",
   "metadata": {},
   "outputs": [
    {
     "name": "stdout",
     "output_type": "stream",
     "text": [
      "Python 3.8.10\n"
     ]
    }
   ],
   "source": [
    " ! python -V"
   ]
  },
  {
   "cell_type": "markdown",
   "id": "8e2b6ce8",
   "metadata": {},
   "source": [
    "#### 참조\n",
    "- 표현식 : 어떠한 값을 만들어 내는 간단한 코드. 273, 10 + 20 + 30, \"Python Programming\"\n",
    "- 문장 : 표현식이 하나 이상 모이면 문장. print(\"Hello\")\n",
    "- 프로그램 : 문장이 모여서 프로그램\n",
    "- 식별자 : 프로그램밍 언어에서 이름을 붙일 때 사용하는 단어. 주로 변수 또는 함수 이름 등으로 사용\n",
    "- 주석 : 프로그램을 설명하기 위해 사용. # 기호로 주석 처리\n",
    "- 연산자 : 스스로 값이 되는 것이 아니고 값과 값 사이에 무언가 기능을 적용할 때 사용\n",
    "- 자료 : 리터럴이라고 하는데 숫자이든 문자이든 어떠한 값 자체를 의미. 1, 10, \"Hello\"\n",
    "- 키워드 : 파이썬이 만들어질 때 이미 사용하겠다고 예약해 놓는 것. False, None, True, ...\n",
    "- 프로그램밍 언어에서 사용자가 이름을 정할 때 키워드는 사용할 수 없음"
   ]
  },
  {
   "cell_type": "code",
   "execution_count": 62,
   "id": "fd12eac1",
   "metadata": {},
   "outputs": [
    {
     "name": "stdout",
     "output_type": "stream",
     "text": [
      "273\n",
      "60\n"
     ]
    },
    {
     "data": {
      "text/plain": [
       "'python programming'"
      ]
     },
     "execution_count": 62,
     "metadata": {},
     "output_type": "execute_result"
    }
   ],
   "source": [
    "# 표현식\n",
    "print(273)\n",
    "print(10+20+30)\n",
    "\"python programming\""
   ]
  },
  {
   "cell_type": "code",
   "execution_count": 63,
   "id": "13366311",
   "metadata": {},
   "outputs": [
    {
     "name": "stdout",
     "output_type": "stream",
     "text": [
      "52 Hello Python 8\n"
     ]
    }
   ],
   "source": [
    "# 표현식이 하나 이상씩 모이면 문장\n",
    "print(5252, 'Hello Python', 5+3)"
   ]
  },
  {
   "cell_type": "code",
   "execution_count": 64,
   "id": "f1080f48",
   "metadata": {},
   "outputs": [
    {
     "name": "stdout",
     "output_type": "stream",
     "text": [
      "3\n"
     ]
    }
   ],
   "source": [
    "# 문장이 모여서 프로그램\n",
    "a=1;b=2;c=a+b;\n",
    "print(c)"
   ]
  },
  {
   "cell_type": "code",
   "execution_count": 15,
   "id": "a6505829",
   "metadata": {},
   "outputs": [
    {
     "name": "stdout",
     "output_type": "stream",
     "text": [
      "2가 있다\n"
     ]
    }
   ],
   "source": [
    "if 2 in [1,2,3,4]  :\n",
    "    print  ('2가 있다')"
   ]
  },
  {
   "cell_type": "code",
   "execution_count": 65,
   "id": "d404a50b",
   "metadata": {},
   "outputs": [
    {
     "name": "stdout",
     "output_type": "stream",
     "text": [
      "['False', 'None', 'True', 'and', 'as', 'assert', 'async', 'await', 'break', 'class', 'continue', 'def', 'del', 'elif', 'else', 'except', 'finally', 'for', 'from', 'global', 'if', 'import', 'in', 'is', 'lambda', 'nonlocal', 'not', 'or', 'pass', 'raise', 'return', 'try', 'while', 'with', 'yield']\n"
     ]
    }
   ],
   "source": [
    "# keyword\n",
    "import keyword\n",
    "print(keyword.kwlist)"
   ]
  },
  {
   "cell_type": "code",
   "execution_count": 21,
   "id": "f44eb043",
   "metadata": {},
   "outputs": [
    {
     "name": "stdout",
     "output_type": "stream",
     "text": [
      "123 -123 0 1.23 127 2748 2748 127\n"
     ]
    }
   ],
   "source": [
    "# 자료형\n",
    "\n",
    "a=123\n",
    "b = -123\n",
    "c = 0\n",
    "d=1.23\n",
    "e=0o177\n",
    "f=0xabc\n",
    "g=0xABC\n",
    "h=0O177\n",
    "# 숫자0,  영어 o \n",
    "print(a, b,c,d,e,f,g,h)\n"
   ]
  },
  {
   "cell_type": "code",
   "execution_count": 29,
   "id": "4241b8b8",
   "metadata": {},
   "outputs": [
    {
     "name": "stdout",
     "output_type": "stream",
     "text": [
      "10 2.3 \n",
      " 12.3 \n",
      " 4.347826086956522 \n",
      " 127 \n",
      " 0.8000000000000007 \n",
      " 4.0 \n",
      " 199.52623149688787\n"
     ]
    }
   ],
   "source": [
    "a=10\n",
    "b=2.3\n",
    "c=a+b\n",
    "d=a/b\n",
    "f=a%b\n",
    "g=a//b\n",
    "h=a**b\n",
    "\n",
    "print(a\n",
    ",b, '\\n'\n",
    ",c, '\\n'\n",
    ",d, '\\n'\n",
    ",e, '\\n'\n",
    ",f, '\\n'\n",
    ",g, '\\n'\n",
    ",h)\n",
    "\n"
   ]
  },
  {
   "cell_type": "code",
   "execution_count": 51,
   "id": "210869ed",
   "metadata": {},
   "outputs": [
    {
     "ename": "TypeError",
     "evalue": "can only concatenate str (not \"int\") to str",
     "output_type": "error",
     "traceback": [
      "\u001b[1;31m---------------------------------------------------------------------------\u001b[0m",
      "\u001b[1;31mTypeError\u001b[0m                                 Traceback (most recent call last)",
      "\u001b[1;32m<ipython-input-51-0ce71cfb6416>\u001b[0m in \u001b[0;36m<module>\u001b[1;34m\u001b[0m\n\u001b[0;32m      3\u001b[0m \u001b[0mnumber\u001b[0m \u001b[1;33m=\u001b[0m \u001b[1;36m273\u001b[0m\u001b[1;33m\u001b[0m\u001b[1;33m\u001b[0m\u001b[0m\n\u001b[0;32m      4\u001b[0m \u001b[1;33m\u001b[0m\u001b[0m\n\u001b[1;32m----> 5\u001b[1;33m \u001b[0mstring\u001b[0m \u001b[1;33m+\u001b[0m \u001b[0mnumber\u001b[0m\u001b[1;33m\u001b[0m\u001b[1;33m\u001b[0m\u001b[0m\n\u001b[0m\u001b[0;32m      6\u001b[0m \u001b[1;33m\u001b[0m\u001b[0m\n\u001b[0;32m      7\u001b[0m \u001b[0mstr\u001b[0m\u001b[1;33m(\u001b[0m\u001b[0mnumber\u001b[0m\u001b[1;33m)\u001b[0m\u001b[1;33m\u001b[0m\u001b[1;33m\u001b[0m\u001b[0m\n",
      "\u001b[1;31mTypeError\u001b[0m: can only concatenate str (not \"int\") to str"
     ]
    }
   ],
   "source": [
    "# 타입 다르면 연산 안됨\n",
    "string = '문자열'\n",
    "number = 273\n",
    "\n",
    "string + number\n",
    "\n",
    "str(number)\n",
    " \n",
    "string + number\n",
    "\n"
   ]
  },
  {
   "cell_type": "code",
   "execution_count": 33,
   "id": "bad890d8",
   "metadata": {},
   "outputs": [
    {
     "data": {
      "text/plain": [
       "int"
      ]
     },
     "execution_count": 33,
     "metadata": {},
     "output_type": "execute_result"
    }
   ],
   "source": [
    "a=10\n",
    "type(a)"
   ]
  },
  {
   "cell_type": "code",
   "execution_count": 42,
   "id": "6d86add1",
   "metadata": {},
   "outputs": [
    {
     "data": {
      "text/plain": [
       "200"
      ]
     },
     "execution_count": 42,
     "metadata": {},
     "output_type": "execute_result"
    }
   ],
   "source": [
    "num = 10\n",
    "num + 10\n",
    "\n",
    "num+=10\n",
    "num*=10\n",
    "\n",
    "num"
   ]
  },
  {
   "cell_type": "code",
   "execution_count": 46,
   "id": "5f2777fb",
   "metadata": {},
   "outputs": [
    {
     "name": "stdout",
     "output_type": "stream",
     "text": [
      "성함을 입력하세요d\n",
      "\n",
      "안녕하세요 d 님\n"
     ]
    }
   ],
   "source": [
    "# 사용자 입력\n",
    "#input('인사말을 입력하세요')\n",
    "\n",
    "a = input('성함을 입력하세요')\n",
    "print('\\n안녕하세요', a , '님')"
   ]
  },
  {
   "cell_type": "code",
   "execution_count": 48,
   "id": "019ac6f0",
   "metadata": {},
   "outputs": [
    {
     "name": "stdout",
     "output_type": "stream",
     "text": [
      "입력하세요5\n",
      "한번더 입력하세요3\n",
      "\n",
      " 53\n"
     ]
    }
   ],
   "source": [
    "num1 = input('입력하세요')\n",
    "num2 = input('한번더 입력하세요')\n",
    "\n",
    "print('\\n', num1 + num2  )\n"
   ]
  },
  {
   "cell_type": "code",
   "execution_count": 49,
   "id": "e4474c83",
   "metadata": {},
   "outputs": [
    {
     "name": "stdout",
     "output_type": "stream",
     "text": [
      "입력하세요5\n",
      "한번더 입력하세요2\n",
      "\n",
      " 7\n"
     ]
    }
   ],
   "source": [
    "num1 = input('입력하세요')\n",
    "num1 = int(num1)\n",
    "num2 = input('한번더 입력하세요')\n",
    "num2 = int(num2)\n",
    "\n",
    "print('\\n', num1 + num2  )"
   ]
  },
  {
   "cell_type": "code",
   "execution_count": 65,
   "id": "d33c01bd",
   "metadata": {},
   "outputs": [
    {
     "name": "stdout",
     "output_type": "stream",
     "text": [
      "3 \n",
      "    3\n",
      "3.3 \n",
      "    3.3\n"
     ]
    },
    {
     "data": {
      "text/plain": [
       "6.3"
      ]
     },
     "execution_count": 65,
     "metadata": {},
     "output_type": "execute_result"
    }
   ],
   "source": [
    "#Q1 3과 3.3을 입력 후, 6.3을 출력\n",
    "a = input('3 \\n    ')\n",
    "b=input('3.3 \\n    ')\n",
    "\n",
    "a= int(a)\n",
    "b= float(b)\n",
    "\n",
    "a+b\n",
    "\n",
    "#print(int(a)+int(b))"
   ]
  },
  {
   "cell_type": "code",
   "execution_count": 63,
   "id": "e876196c",
   "metadata": {},
   "outputs": [
    {
     "name": "stdout",
     "output_type": "stream",
     "text": [
      "5252.273\n"
     ]
    },
    {
     "data": {
      "text/plain": [
       "'5252.273'"
      ]
     },
     "execution_count": 63,
     "metadata": {},
     "output_type": "execute_result"
    }
   ],
   "source": [
    "#Q2 a=52, b=52.273  -> 5252.273 출력\n",
    "\n",
    "a=52\n",
    "b=52.273\n",
    "\n",
    "print(str(a)+str(b))\n",
    "\n",
    "a= str(a)\n",
    "b=str(b)\n",
    "\n",
    "a+b\n",
    "\n"
   ]
  },
  {
   "cell_type": "code",
   "execution_count": 1,
   "id": "0bdf044f",
   "metadata": {},
   "outputs": [
    {
     "data": {
      "text/plain": [
       "\"python's value is great\""
      ]
     },
     "execution_count": 1,
     "metadata": {},
     "output_type": "execute_result"
    }
   ],
   "source": [
    "# 문자열\n",
    "p1 = \" python's value is great\"\n",
    "p2 = '''python's value is great'''\n",
    "\n",
    "\"\"\" 주석이라며? \"\"\"\n",
    "\n",
    "p2\n"
   ]
  },
  {
   "cell_type": "code",
   "execution_count": 6,
   "id": "e0327f2c",
   "metadata": {},
   "outputs": [
    {
     "name": "stdout",
     "output_type": "stream",
     "text": [
      "(1,) 1\n",
      "3 3\n"
     ]
    }
   ],
   "source": [
    "t1 =  (1, )\n",
    "t2 =  (1)\n",
    "\n",
    "print(t1, t2)\n",
    "\n",
    "t1 = 3\n",
    "t2 = 3\n",
    "print (t1, t2)"
   ]
  },
  {
   "cell_type": "code",
   "execution_count": 3,
   "id": "04577c4d",
   "metadata": {},
   "outputs": [
    {
     "name": "stdout",
     "output_type": "stream",
     "text": [
      "3 3\n"
     ]
    }
   ],
   "source": [
    "t1 = 3\n",
    "t2 = 3\n",
    "print (t1, t2)"
   ]
  },
  {
   "cell_type": "code",
   "execution_count": 16,
   "id": "83ebb2bf",
   "metadata": {},
   "outputs": [
    {
     "name": "stdout",
     "output_type": "stream",
     "text": [
      "dict_keys(['a', 'b', 3])\n",
      "dict_values([7, 2, 'c'])\n",
      "dict_items([('a', 7), ('b', 2), (3, 'c')])\n"
     ]
    }
   ],
   "source": [
    "# 자료형 사전:딕셔너리\n",
    "di = {'a':1, 'b':2,3:'c'}\n",
    "# 인덱싱이 없다  = 순서가 없다\n",
    "\n",
    "di['a'] = 7\n",
    "\n",
    "print(di.keys())\n",
    "print(di.values())\n",
    "print(di.items())\n"
   ]
  },
  {
   "cell_type": "code",
   "execution_count": 21,
   "id": "da373213",
   "metadata": {},
   "outputs": [
    {
     "name": "stdout",
     "output_type": "stream",
     "text": [
      "{1, 2, 3, 4, 5} {'o', 'e', 'l', 'h'}\n"
     ]
    },
    {
     "data": {
      "text/plain": [
       "{'e', 'h', 'l', 'o'}"
      ]
     },
     "execution_count": 21,
     "metadata": {},
     "output_type": "execute_result"
    }
   ],
   "source": [
    "# set 중복불가, 순서 없음\n",
    "s1 = set([1,2,3,4,5])\n",
    "s2 = set ('hello')\n",
    "\n",
    "print(s1 , s2)\n",
    "s2"
   ]
  },
  {
   "cell_type": "code",
   "execution_count": 31,
   "id": "46a8c374",
   OADDELETEUPLOADDELETEUPLOADDELETEUPLOADDELETEUPLOADDELETEUPLOADDELETEUPLOADDELETEUPLOADDELETEUPLOADDELETEUPLOADDELETEUPLOADDELETE
UPLOADDELETE	UPLOADDELETEUPLOADDELETEUPLOADDELETEUPLOADDELETEUPLOADDELETEUPLOADDELETEUPLOADDELETEUPLOADDELETEUPLOADDELETE UPLOADDELETE�UPLOADMODIFY�� UPLOADCREATE�UPLOADCREATE�   &UPLOADCREATE�   UPLOADCREATE�UPLOADCREATE���1   

< �T ��	d�
0Tth\PD8, 
�xl`	X	L	@	4	(			�����������th\PD8, �������
$


 	�	�	�	�	�	�	�	�	�	�	|	p����|pdXL@4(�����������th\PD8, �����������xl`TH<0$ ����������|pdXL@4(���������������                                                                                                                                                                                                                                                                                                                                                                                                                                                                                                                                                                                                                                                                                                                                                                                                                                                                                                                                                                                                                                                                                                                                                                              CREATE�CREATE�� �CREATE�CREATE�� xCREATE�� lCREATE�  �CREATE�0 �CREATE�< �CREATE�H �CREATE�` �CREATE�l �CREATE�x �CREATE�CREATE�` �CREATE�` lCREATE�` lCREATE�` lCREATE�` `MODIFY�` TMODIFY�` HCREATE�` <CREATE�` 0CREATE�CREATE�CREATE�CREATE�CREATE�DELETEDELETE DELETE�MODIFY�MODIFY�MODIFY�CREATErDELETE%DELETE$DELETE#DELETE"DELETE!DELETE DELETEDELETEDELETEDELETEDELETEDELETEDELETEDELETEDELETEDELETEDELETEDELETEDELETEDELETEDELETEDELETEDELETEDELETEDELETEDELETEDELETEDELETE
DELETE	DELETEDELETEDELETEDELETEDELETEDELETEDELETECREATEoDELETE5DELETE4DELETE3DELETE2DELETE1DELETE0DELETE/DELETE.DELETE-DELETE,DELETE+DELETE*DELETE)DELETE(DELETE'DELETE&CREATE�� �CREATEr
� TCREATEuCREATE�CREATEp
� CREATEk
� CREATEjCREATEi
� CREATEhMODIFY�XCREATEf�8CREATEe  TCREATEdD CREATEcD CREATEbCREATEa, $CREATE`CREATE�CREATE�CREATE�CREATE�CREATE�CREATE�CREATE�CREATE�CREATE�CREATE�CREATE�DELETE�DELETE�DELETE�DELETE�DELETE�DELETE�DELETE�DELETE�DELETE�DELETE�DELETE�DELETE�DELETE�DELETE�DELETE�DELETE�DELETEDELETE~DELETE}DELETE|DELETE{DELETEzDELETEyDELETExDELETEwDELETEvDELETEuDELETEtDELETEsDELETErDELETEqDELETEpDELETEoDELETEnDELETEmDELETElDELETEkDELETEjDELETEiDELETEhDELETEgDELETEfDELETEeDELETEdDELETEcDELETEbDELETEaDELETE`DELETE_DELETE^DELETE]DELETE\DELETE[DELETEZDELETEYDELETEXDELETEWDELETEVDELETEUDELETETDELETESDELETERDELETEQDELETEPDELETEODELETENDELETEMDELETELDELETEKDELETEJDELETEIDELETEHDELETEGDELETEFDELETEEDELETEDDELETECDELETEBDELETEADELETE@DELETE?DELETE>DELETE=DELETE<DELETE;DELETE:DELETE9DELETE8DELETE7DELETE6� CREATE�CREATE�   CREATE�   CREATE�CREATEMODIFYd����   
 �� ��������������������|vpjd^XRLF@:4.("
������� ���������������������������|vpjd^XRLF@:4.("
����������������������ztnhb\VPJD>82,& ���������������������~��������������������������                                                                                                                                                                                                                                                                                                                                                                                                                                                                                                                                                                                                                                                                                                                                                                                                                                                                                                                                                                                                                                                                                                                                                                                                                                                                                                                                                                                                                                                                                                        