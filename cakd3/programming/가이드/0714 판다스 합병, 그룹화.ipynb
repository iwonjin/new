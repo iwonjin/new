{
 "cells": [
  {
   "cell_type": "markdown",
   "id": "79fb5982",
   "metadata": {
    "id": "9d4f9991"
   },
   "source": [
    "정규표현식의 기초, 메타 문자\n",
    "- . ^ $ * + ? {} [] \\ | ()\n",
    "- [] 문자 클래스\n",
    " - \\d 숫자와 매치, [0-9]와 동일한 표현식\n",
    " - \\D 숫자가 아닌 것과 매치, [^0-9]와 동일한 표현식\n",
    " - \\s whitespace 문자와 매치, [ \\t\\n\\r\\f\\v]와 동일한 표현식\n",
    " - \\S whitespace 문자가 아닌 것과 매치, [^ \\t\\n\\r\\f\\v]와 동일한 표현식\n",
    " - \\w 문자 + 숫자와 매치, [a-zA-Z0-9]와 동일한 표현식\n",
    " - \\W 문자 + 숫자가 아닌 문자와 매치, [^a-zA-Z0-9]와 동일한 표현식\n",
    "- whitespace\n",
    " -  스페이스 바 (아스키코드 32)\n",
    " -  ＼b  뒤로 한 칸 이동 (Backspace) (아스키코드 8)\n",
    " -  ＼t  수평탭 간격 띄우기 (아스키코드 9)\n",
    " -  ＼n  줄바꿈 (Linefeed) (아스키코드 10)\n",
    " -  ＼v  수직탭 간격 띄우기 (아스키코드 11)\n",
    " -  ＼f  프린트 출력 용지를 한 페이지 넘김 (Form feed) (아스키코드 12)\n",
    " -  ＼r  동일한 줄의 맨 앞으로 커서 이동 (Carriage Return) (아스키코드 13)\n",
    "- Dot(.) 메타 문자는 줄바꿈 문자인 \\n를 제외한 모든 문자와 매치됨을 의미\n",
    "- 반복(\\*) ca*t 0부터 무한대로 반복\n",
    "- 반복(\\+) ca+t 최소 1번 이상 반복\n",
    "- 반복({m,n}, ?) 반복 횟수를 제한, 반복 횟수가 m부터 n까지인 것을 매치\n",
    "- ca{2}t는 c+a(2번 반복)+t의 의미\n",
    "- 반복횟수가 {1,}은 1 이상, {0,}은 0 이상인 경우로 각각 +, *와 동일하며 {,1}은 반복횟수가 1 이하를 의미.\n",
    "- ab?c b가 0~1번 사용되면 매치되는 것으로 ?은 앞의 b가 있어도 되고 없어도 된다 \n",
    "\n",
    "re 모듈 : 파이썬은 정규표현식을 지원하기 위해 기본으로 제공\n",
    "- re.compile의 결과로 리턴되는 객체를 이용하여 그 이후 작업 수행\n",
    "\n",
    "정규식을 이용한 문자열 검색\n",
    "- match(): 문자열의 처음부터 정규식과 매치되는지 조사\n",
    "- search(): 문자열의 전체를 검색하여 정규식과 매치되는지 조사\n",
    "- findall(): 정규식과 매치되는 모든 문자열을 리스트로 리턴\n",
    "- finditer(): 정규식과 매치되는 모든 문자열을 반복 가능한 객체로 리턴"
   ]
  },
  {
   "cell_type": "code",
   "execution_count": null,
   "id": "a7383d43",
   "metadata": {
    "id": "a7383d43",
    "outputId": "d1a83d16-aba5-4e13-c4f9-aefe7a0e9f4d"
   },
   "outputs": [
    {
     "data": {
      "text/plain": [
       "<re.Match object; span=(0, 7), match='python '>"
      ]
     },
     "execution_count": 13,
     "metadata": {
      "tags": []
     },
     "output_type": "execute_result"
    }
   ],
   "source": [
    "import re\n",
    "p = re.compile('[a-z]+\\s')\n",
    "m = p.match('python python')\n",
    "m"
   ]
  },
  {
   "cell_type": "code",
   "execution_count": null,
   "id": "6417b8da",
   "metadata": {
    "id": "6417b8da",
    "outputId": "ee213efe-4b15-44c9-fc0a-2c5a18c9a5cf"
   },
   "outputs": [
    {
     "data": {
      "text/plain": [
       "['python ', 'python ']"
      ]
     },
     "execution_count": 14,
     "metadata": {
      "tags": []
     },
     "output_type": "execute_result"
    }
   ],
   "source": [
    "p.findall('python python ')"
   ]
  },
  {
   "cell_type": "code",
   "execution_count": null,
   "id": "aa12803e",
   "metadata": {
    "id": "aa12803e",
    "outputId": "d76b735b-e854-4e62-eb68-42539d60cbaa"
   },
   "outputs": [
    {
     "data": {
      "text/plain": [
       "['python ']"
      ]
     },
     "execution_count": 15,
     "metadata": {
      "tags": []
     },
     "output_type": "execute_result"
    }
   ],
   "source": [
    "p.findall('python python')"
   ]
  },
  {
   "cell_type": "code",
   "execution_count": null,
   "id": "d50419e2",
   "metadata": {
    "id": "d50419e2",
    "outputId": "a1d737c3-4cd1-4775-8bd3-146ee428f4cc"
   },
   "outputs": [
    {
     "name": "stdout",
     "output_type": "stream",
     "text": [
      "None\n"
     ]
    }
   ],
   "source": [
    "m = p.match('3python ')\n",
    "print(m)"
   ]
  },
  {
   "cell_type": "code",
   "execution_count": null,
   "id": "cfc58151",
   "metadata": {
    "id": "cfc58151",
    "outputId": "20859465-c2eb-4f32-bcf7-c5ef2fd145d9"
   },
   "outputs": [
    {
     "name": "stdout",
     "output_type": "stream",
     "text": [
      "<re.Match object; span=(1, 8), match='python '>\n"
     ]
    }
   ],
   "source": [
    "m = p.search('3python ')\n",
    "print(m)"
   ]
  },
  {
   "cell_type": "code",
   "execution_count": null,
   "id": "f1a45f01",
   "metadata": {
    "id": "f1a45f01",
    "outputId": "ab189c06-f93e-49b0-a65a-1429b6de169d"
   },
   "outputs": [
    {
     "name": "stdout",
     "output_type": "stream",
     "text": [
      "<re.Match object; span=(1, 6), match='anker'>\n",
      "<re.Match object; span=(0, 6), match='banker'>\n"
     ]
    }
   ],
   "source": [
    "# 문자 클래스 : []\n",
    "pattern = re.compile('[a-z]+')\n",
    "p1 = pattern.search('Banker')\n",
    "p2 = pattern.search('banker')\n",
    "print(p1)\n",
    "print(p2)"
   ]
  },
  {
   "cell_type": "code",
   "execution_count": null,
   "id": "57c44d61",
   "metadata": {
    "id": "57c44d61",
    "outputId": "58b2c631-5b0d-49b5-9815-2b231f397031"
   },
   "outputs": [
    {
     "data": {
      "text/plain": [
       "'a'"
      ]
     },
     "execution_count": 22,
     "metadata": {
      "tags": []
     },
     "output_type": "execute_result"
    }
   ],
   "source": [
    "# Q. '12345abc'에서 'a'만 출력하세요.\n",
    "import re\n",
    "regex = re.compile('[a]')\n",
    "text = '12345abc'\n",
    "m = regex.search(text)\n",
    "m.group()"
   ]
  },
  {
   "cell_type": "code",
   "execution_count": 3,
   "id": "8a4e7245",
   "metadata": {
    "id": "8a4e7245",
    "outputId": "e5dfcdd1-4d03-4f1f-ec6e-c96fc393388f"
   },
   "outputs": [
    {
     "data": {
      "text/plain": [
       "'A'"
      ]
     },
     "execution_count": 3,
     "metadata": {},
     "output_type": "execute_result"
    }
   ],
   "source": [
    "# Q. 'abc12345Abc'에서 'A'만 출력하세요.\n",
    "import re\n",
    "regex = re.compile('[A]')\n",
    "text = 'abc12345Abc'\n",
    "m = regex.search(text)\n",
    "m.group()"
   ]
  },
  {
   "cell_type": "code",
   "execution_count": 19,
   "id": "03eb82be",
   "metadata": {
    "id": "03eb82be",
    "outputId": "95e49d4d-e3c1-43ef-8d6a-f475aca488d8"
   },
   "outputs": [
    {
     "data": {
      "text/plain": [
       "'대'"
      ]
     },
     "execution_count": 19,
     "metadata": {},
     "output_type": "execute_result"
    }
   ],
   "source": [
    "# Q. 'KOREA 대한민국'에서 '대'만 출력하세요.\n",
    "import re\n",
    "regex = re.compile('[가-힣]')\n",
    "text = 'KOREA 대한민국'\n",
    "m = regex.search(text)\n",
    "m.group()"
   ]
  },
  {
   "cell_type": "code",
   "execution_count": 21,
   "id": "1647eb99",
   "metadata": {},
   "outputs": [
    {
     "data": {
      "text/plain": [
       "<re.Match object; span=(6, 10), match='대한민국'>"
      ]
     },
     "execution_count": 21,
     "metadata": {},
     "output_type": "execute_result"
    }
   ],
   "source": [
    "import re\n",
    "regex = re.compile('[가-힣]+')\n",
    "text = 'KOREA 대한민국'\n",
    "m = regex.search(text)\n",
    "m"
   ]
  },
  {
   "cell_type": "code",
   "execution_count": 8,
   "id": "e70c0e16",
   "metadata": {
    "id": "e70c0e16",
    "outputId": "68eff4c0-98b1-4fcb-d945-015d0fa63b87"
   },
   "outputs": [
    {
     "data": {
      "text/plain": [
       "'122333c'"
      ]
     },
     "execution_count": 8,
     "metadata": {},
     "output_type": "execute_result"
    }
   ],
   "source": [
    "# search는 문자열 전체를 검색하여 정규식과 매칭되는 패턴을 찾는다.\n",
    "# Q. '122333c'를 모두 출력하세요.\n",
    "import re\n",
    "# regex = re.compile('12{2}3{3}c')\n",
    "regex = re.compile('122333c')\n",
    "text = '122333c'\n",
    "m = regex.search(text)\n",
    "m.group()"
   ]
  },
  {
   "cell_type": "code",
   "execution_count": null,
   "id": "ebc77c55",
   "metadata": {
    "id": "ebc77c55",
    "outputId": "0ee89391-3e77-42ae-cac8-3de21f0689e9"
   },
   "outputs": [
    {
     "data": {
      "text/plain": [
       "'aaaaBBBcccDDDeee'"
      ]
     },
     "execution_count": 26,
     "metadata": {
      "tags": []
     },
     "output_type": "execute_result"
    }
   ],
   "source": [
    "# Q. 'aaaaBBBcccDDDeee'을 모두 출력하세요.\n",
    "import re\n",
    "regex = re.compile('a{4}B{3}c{3}D{3}e{3}')\n",
    "text = 'aaaaBBBcccDDDeee'\n",
    "\n",
    "li = regex.search(text)\n",
    "li.group()"
   ]
  },
  {
   "cell_type": "code",
   "execution_count": null,
   "id": "8bead53c",
   "metadata": {
    "id": "8bead53c"
   },
   "outputs": [],
   "source": [
    "# Q. BC, CC, ABC 모두 C가 출력되는 정규 표현식을 ( )에 작성하세요.\n",
    "pattern = re.compile(   )\n",
    "text1 = 'BC'\n",
    "text2 = 'CC'\n",
    "text3 = 'ABC'\n",
    "p1 = pattern.search(text1)\n",
    "p2 = pattern.search(text2)\n",
    "p3 = pattern.search(text3)\n",
    "print(p1)\n",
    "print(p2)\n",
    "print(p3)"
   ]
  },
  {
   "cell_type": "code",
   "execution_count": null,
   "id": "252b92b9",
   "metadata": {
    "id": "252b92b9",
    "outputId": "bc947dd4-9b31-4010-a04d-6a8f16fd16fe"
   },
   "outputs": [
    {
     "name": "stdout",
     "output_type": "stream",
     "text": [
      "<re.Match object; span=(0, 1), match='C'>\n",
      "<re.Match object; span=(1, 2), match='C'>\n",
      "<re.Match object; span=(2, 3), match='C'>\n"
     ]
    }
   ],
   "source": [
    "# A\n",
    "pattern = re.compile('A?C')\n",
    "text1 = 'BC'\n",
    "text2 = 'CC'\n",
    "text3 = 'ABC'\n",
    "p1 = pattern.search(text1)\n",
    "p2 = pattern.search(text2)\n",
    "p3 = pattern.search(text3)\n",
    "print(p1)\n",
    "print(p2)\n",
    "print(p3)"
   ]
  },
  {
   "cell_type": "code",
   "execution_count": null,
   "id": "7837fdc9",
   "metadata": {
    "id": "7837fdc9",
    "outputId": "0006f085-9360-4880-9a02-e7e40d2e41fb"
   },
   "outputs": [
    {
     "name": "stdout",
     "output_type": "stream",
     "text": [
      "['life', 'is', 'too', 'short']\n"
     ]
    }
   ],
   "source": [
    "result = p.findall('life is too short')\n",
    "print(result)"
   ]
  },
  {
   "cell_type": "code",
   "execution_count": null,
   "id": "d643abd4",
   "metadata": {
    "id": "d643abd4",
    "outputId": "d2b6f593-da8f-4739-df5c-afaea5edf562"
   },
   "outputs": [
    {
     "name": "stdout",
     "output_type": "stream",
     "text": [
      "life \n",
      "is \n",
      "too \n"
     ]
    }
   ],
   "source": [
    "# finditer는 findall과 동일하지만 그 결과로 반복 가능한 객체(iterator object)를 돌려준다.\n",
    "# 반복 가능한 객체가 포함하는 각각의 요소는 match 객체이다.\n",
    "result = p.finditer('life is too short')\n",
    "# print(list(result))\n",
    "for r in result:print(r.group())"
   ]
  },
  {
   "cell_type": "code",
   "execution_count": 24,
   "id": "650c4d51",
   "metadata": {
    "id": "650c4d51",
    "outputId": "c9537303-858c-4640-b646-440d687e6879"
   },
   "outputs": [
    {
     "data": {
      "text/plain": [
       "['1', '2', '3', '4', '1', '2', '3', '4']"
      ]
     },
     "execution_count": 24,
     "metadata": {},
     "output_type": "execute_result"
    }
   ],
   "source": [
    "# Q. '1234a1234'에서  '1', '2', '3', '4'를 모두 출력하세요.\n",
    "import re\n",
    "# regex = re.compile('[1234]')\n",
    "regex = re.compile('[1-9]')\n",
    "text = '1234a1234'\n",
    "\n",
    "regex.findall(text)"
   ]
  },
  {
   "cell_type": "code",
   "execution_count": null,
   "id": "96a4f922",
   "metadata": {
    "id": "96a4f922",
    "outputId": "804d031d-2788-45ea-9a17-53cc011db9d8"
   },
   "outputs": [
    {
     "data": {
      "text/plain": [
       "['Python', 'is', 'very', 'good', 'programming', 'language']"
      ]
     },
     "execution_count": 39,
     "metadata": {
      "tags": []
     },
     "output_type": "execute_result"
    }
   ],
   "source": [
    "# Q. ' Python3 is very good programming language!'에서  ['Python', 'is', 'very', 'good', 'programming', 'language']를 \n",
    "# 모두 출력하세요.\n",
    "pattern = re.compile('[a-zA-Z]+')\n",
    "pattern.findall(' Python3 is very good programming language!')"
   ]
  },
  {
   "cell_type": "code",
   "execution_count": null,
   "id": "142a5899",
   "metadata": {
    "id": "142a5899",
    "outputId": "a5c855e1-426c-441c-d22a-2c76c19aff38"
   },
   "outputs": [
    {
     "name": "stdout",
     "output_type": "stream",
     "text": [
      "life \n",
      "is \n",
      "too \n"
     ]
    }
   ],
   "source": [
    "# match 객체\n",
    "l = p.match('life ')\n",
    "i = p.match( 'is ' )\n",
    "t = p.match('too ')\n",
    "print(l.group())\n",
    "print(i.group())\n",
    "print(t.group())"
   ]
  },
  {
   "cell_type": "code",
   "execution_count": null,
   "id": "5ff15424",
   "metadata": {
    "id": "5ff15424",
    "outputId": "9d1515e9-b3b0-405e-c193-a18e3f923900"
   },
   "outputs": [
    {
     "name": "stdout",
     "output_type": "stream",
     "text": [
      "python\n",
      "0\n",
      "6\n",
      "(0, 6)\n"
     ]
    }
   ],
   "source": [
    "# match 객체의 메소드\n",
    "import re\n",
    "p = re.compile('[a-z]+')\n",
    "m = p.match('python')\n",
    "print(m.group())\n",
    "print(m.start())\n",
    "print(m.end())\n",
    "print(m.span())"
   ]
  },
  {
   "cell_type": "code",
   "execution_count": null,
   "id": "c401b71c",
   "metadata": {
    "id": "c401b71c",
    "outputId": "a2996ea3-16fa-4a4e-eb44-b01359289c50"
   },
   "outputs": [
    {
     "name": "stdout",
     "output_type": "stream",
     "text": [
      "python\n",
      "2\n",
      "8\n",
      "(2, 8)\n"
     ]
    }
   ],
   "source": [
    "m = p.search('3 python')\n",
    "print(m.group())\n",
    "print(m.start())\n",
    "print(m.end())\n",
    "print(m.span())"
   ]
  },
  {
   "cell_type": "code",
   "execution_count": null,
   "id": "4a093400",
   "metadata": {
    "id": "4a093400",
    "outputId": "2df40c9c-3188-45f4-9867-85703f915e14"
   },
   "outputs": [
    {
     "name": "stdout",
     "output_type": "stream",
     "text": [
      "python\n"
     ]
    }
   ],
   "source": [
    "# 모듈 단위로 수행하기\n",
    "m = re.match('[a-z]+', 'python')\n",
    "print(m.group())"
   ]
  },
  {
   "cell_type": "code",
   "execution_count": null,
   "id": "8a91dcec",
   "metadata": {
    "id": "8a91dcec",
    "outputId": "fbe1e545-d41e-4222-a16b-b572d0de31fd"
   },
   "outputs": [
    {
     "name": "stdout",
     "output_type": "stream",
     "text": [
      "None\n",
      "<re.Match object; span=(0, 3), match='acb'>\n",
      "<re.Match object; span=(0, 6), match='a12?Ab'>\n"
     ]
    }
   ],
   "source": [
    "# Dot(.) 메타 문자는 줄바꿈 문자(\\n)을 제외한 모든 문자와 매치\n",
    "import re\n",
    "p = re.compile('a.+b')\n",
    "m1 = p.match('a\\nb')\n",
    "m2 = p.match('acb')\n",
    "m3 = p.match('a12?Ab')\n",
    "print(m1)\n",
    "print(m2)\n",
    "print(m3)"
   ]
  },
  {
   "cell_type": "code",
   "execution_count": null,
   "id": "7f576e5e",
   "metadata": {
    "id": "7f576e5e",
    "outputId": "9273c4b4-7f3b-464a-8436-b0b9725e1af0"
   },
   "outputs": [
    {
     "name": "stdout",
     "output_type": "stream",
     "text": [
      "<re.Match object; span=(0, 3), match='a\\nb'>\n"
     ]
    }
   ],
   "source": [
    "# re.DOTALL 옵션은 여러 줄로 이루어진 문자열에서 \\n에 상관없이 검색시 사용\n",
    "p = re.compile('a.b', re.DOTALL)\n",
    "m = p.match('a\\nb')\n",
    "print(m)"
   ]
  },
  {
   "cell_type": "code",
   "execution_count": 29,
   "id": "19c08fb3",
   "metadata": {
    "id": "19c08fb3"
   },
   "outputs": [
    {
     "name": "stdout",
     "output_type": "stream",
     "text": [
      "what are you doing?\n"
     ]
    }
   ],
   "source": [
    "# 줄바꿈 문자의 조작. 일반적으로 . 도트(모든 것) * 별(0개 이상)을 컴파일하면 \n",
    "# 줄바꿈 문자 \\n 전까지 매치한다. 줄바꿈 문자가 있는 파일의 모든 범위를 \n",
    "# 매치하려면 compile 메소드에 두번째 매개변수를 re.DOTALL 로 지정한다. \n",
    "\n",
    "# Q. text에서 what are you doing?만 출력하세요 \n",
    "text = 'what are you doing?\\nit is going to be late for school'\n",
    "'\\nwe need to hurry up'\n",
    "regex = re.compile('.*')\n",
    "mo = regex.search(text)\n",
    "print(mo.group())"
   ]
  },
  {
   "cell_type": "code",
   "execution_count": 27,
   "id": "b865a6b3",
   "metadata": {
    "id": "b865a6b3"
   },
   "outputs": [
    {
     "name": "stdout",
     "output_type": "stream",
     "text": [
      "what are you doing?\n",
      "it is going to be late for school\n",
      "we need to hurry up\n"
     ]
    }
   ],
   "source": [
    "# Q. text에서 전체문장 모두 출력하세요 \n",
    "regex = re.compile('.*',re.DOTALL)\n",
    "mo = regex.search('what are you doing?\\nit is going to be late for school'\n",
    "             '\\nwe need to hurry up')\n",
    "print(mo.group())"
   ]
  },
  {
   "cell_type": "code",
   "execution_count": null,
   "id": "ac39c4e6",
   "metadata": {
    "id": "ac39c4e6",
    "outputId": "4d1ea32a-290a-44df-d8d1-bf7f3be4e008"
   },
   "outputs": [
    {
     "name": "stdout",
     "output_type": "stream",
     "text": [
      "<re.Match object; span=(0, 6), match='python'>\n",
      "<re.Match object; span=(0, 6), match='Python'>\n",
      "<re.Match object; span=(0, 6), match='PYTHON'>\n"
     ]
    }
   ],
   "source": [
    "# re.IGNORECASE 또는 re.I 옵션은 대소문자 구분 없이 매치를 수행시 사용\n",
    "p = re.compile('[a-z]+',re.I)\n",
    "print(p.match('python'))\n",
    "print(p.match('Python'))\n",
    "print(p.match('PYTHON'))"
   ]
  },
  {
   "cell_type": "code",
   "execution_count": null,
   "id": "53868da9",
   "metadata": {
    "id": "53868da9",
    "outputId": "96f86346-d238-458e-c548-6991ff3ab8c2"
   },
   "outputs": [
    {
     "name": "stdout",
     "output_type": "stream",
     "text": [
      "<re.Match object; span=(2, 8), match='python'>\n",
      "<re.Match object; span=(2, 8), match='Python'>\n",
      "<re.Match object; span=(2, 8), match='PYTHON'>\n"
     ]
    }
   ],
   "source": [
    "print(p.search('3 python'))\n",
    "print(p.search('3 Python'))\n",
    "print(p.search('3 PYTHON'))"
   ]
  },
  {
   "cell_type": "code",
   "execution_count": 34,
   "id": "afbc982f",
   "metadata": {
    "id": "afbc982f",
    "outputId": "06bc664b-4072-488c-e0c8-afc9850b5294"
   },
   "outputs": [
    {
     "name": "stdout",
     "output_type": "stream",
     "text": [
      "Friend\n",
      "fRiend\n",
      "friEnd\n",
      "FRIEND\n"
     ]
    }
   ],
   "source": [
    "# 대소문자를 구분하지 않고 매치시키려면 compile 메소드의 \n",
    "# 두번째 매개변수를 re.I로 넘겨준다. (re 모듈의 상수다)\n",
    "# Q. text에서 대소문자 구분없이 전체문장 모두 출력하세요 \n",
    "\n",
    "text = 'Friend fRiend friEnd FRIEND'\n",
    "regex = re.compile('[a-z]+',re.I)\n",
    "list = regex.findall(text)\n",
    "for i in list:\n",
    "    print(i)\n",
    "# print(list)"
   ]
  },
  {
   "cell_type": "code",
   "execution_count": null,
   "id": "0cf099e8",
   "metadata": {
    "id": "0cf099e8",
    "outputId": "50a4d1d4-1898-40ae-a4e3-5c3e07db0db8"
   },
   "outputs": [
    {
     "name": "stdout",
     "output_type": "stream",
     "text": [
      "['python one']\n"
     ]
    }
   ],
   "source": [
    "# python이라는 문자열로 시작하고 그 뒤에 whitespace, 그뒤에 단어가 오는 경우\n",
    "import re\n",
    "p = re.compile('^python\\s\\w+')\n",
    "\n",
    "data = \"\"\"python one \n",
    "life is too short\n",
    "python  two\n",
    "you need python\n",
    "python three\"\"\"\n",
    "print(p.findall(data))"
   ]
  },
  {
   "cell_type": "code",
   "execution_count": null,
   "id": "f24e3e34",
   "metadata": {
    "id": "f24e3e34",
    "outputId": "1f9f3564-b2de-4b6b-97d0-0f73e7f4fbb2"
   },
   "outputs": [
    {
     "name": "stdout",
     "output_type": "stream",
     "text": [
      "['python one', 'python two', 'python three']\n"
     ]
    }
   ],
   "source": [
    "# re.MULTILINE 또는 re.M옵션으로 ^메타 문자를 각 라인의 처음으로 인식시킴\n",
    "import re\n",
    "p = re.compile(\"^python\\s\\w+\",re.M)\n",
    "\n",
    "data = \"\"\"python one \n",
    "life is too short\n",
    "python two\n",
    "you need python\n",
    "python three\"\"\"\n",
    "print(p.findall(data))"
   ]
  },
  {
   "cell_type": "code",
   "execution_count": null,
   "id": "463ac7ca",
   "metadata": {
    "id": "463ac7ca"
   },
   "outputs": [],
   "source": [
    "# re.VERBOSE 또는 re.X : 이해하기 어려운 정규식을 주석 또는 라인 단위로 구분\n",
    "# charref = re.compile(r'&[#](0[0-7]+|[0-9]+|x[0-9a-fA-F]+);')\n",
    "\n",
    "charref = re.compile(r\"\"\"\n",
    "&[#]               # Start of a numeric entity reference\n",
    "(\n",
    "    0[0-7]+        # Octal form\n",
    "  | [0-9]+         # Decimal form \n",
    "  | x[0-9a-fA-F]+  # Hexadecimal form\n",
    ")\n",
    ";                  # Trailing semicolon \n",
    "\"\"\",re.VERBOSE)"
   ]
  },
  {
   "cell_type": "code",
   "execution_count": null,
   "id": "326b0830",
   "metadata": {
    "id": "326b0830",
    "outputId": "6c5cb9ab-e131-4880-e195-1c5d8a911fce"
   },
   "outputs": [
    {
     "name": "stdout",
     "output_type": "stream",
     "text": [
      "<re.Match object; span=(0, 8), match='\\\\section'>\n"
     ]
    },
    {
     "data": {
      "text/plain": [
       "['\\\\section', '\\\\section']"
      ]
     },
     "execution_count": 21,
     "metadata": {
      "tags": []
     },
     "output_type": "execute_result"
    }
   ],
   "source": [
    "# 정규식 문자열 앞에 r문자를 삽입하면 Raw String 규칙에 의하여 백슬래시 2개 대신 1개 사용\n",
    "# 파이썬 문자열 리터럴 규칙에 의하여 \\\\이 \\으로 변경되어 \\section이 전달\n",
    "p = re.compile(r'\\\\section')\n",
    "\n",
    "print(p.match('\\section'))\n",
    "p.findall('\\section\\section')"
   ]
  },
  {
   "cell_type": "code",
   "execution_count": null,
   "id": "797ddaf4",
   "metadata": {
    "id": "797ddaf4",
    "outputId": "8e402aaa-d678-4072-8b57-d49784e48667"
   },
   "outputs": [
    {
     "name": "stdout",
     "output_type": "stream",
     "text": [
      "<re.Match object; span=(0, 4), match='Crow'>\n",
      "\n",
      "<re.Match object; span=(0, 4), match='Life'>\n",
      "None\n",
      "\n",
      "None\n",
      "<re.Match object; span=(3, 7), match='Life'>\n"
     ]
    }
   ],
   "source": [
    "# 메타 문자\n",
    "# |(or와 동일한 의미), ^(문자열의 맨처음), $(문자열의 끝과 매치)\n",
    "import re\n",
    "p = re.compile('Crow|Servo')\n",
    "m = p.match('CrowHello')\n",
    "print(m)\n",
    "print()\n",
    "print(re.search('^Life', 'Life is too short'))\n",
    "print(re.search('^Life', 'My Life'))\n",
    "print()\n",
    "print(re.search('Life$', 'Life is too short'))\n",
    "print(re.search('Life$', 'My Life'))"
   ]
  },
  {
   "cell_type": "code",
   "execution_count": null,
   "id": "e8c65c0f",
   "metadata": {
    "id": "e8c65c0f",
    "outputId": "5db968f1-f344-46b6-ec0b-afe187958ba4"
   },
   "outputs": [
    {
     "name": "stdout",
     "output_type": "stream",
     "text": [
      "['Life']\n",
      "\n",
      "['Life', 'Life', 'Life']\n",
      "\n",
      "['good']\n",
      "\n",
      "['good', 'good']\n"
     ]
    }
   ],
   "source": [
    "# \\A(문자열의 처음과 매치. 단, re.MULTILINE 옵션 사용시 ^와은 달리 전체 문자열의 처음하고만 매치)\n",
    "# \\Z(문자열의 끝과 매치. 단, re.MULTILINE 옵션 사용시 ^와은 달리 전체 문자열의 끝하고만 매치)\n",
    "import re\n",
    "p = re.compile('\\ALife', re.MULTILINE)\n",
    "data = \"\"\"Life is too short\n",
    "Life is good\n",
    "Life is valuable\"\"\"\n",
    "print(p.findall(data))\n",
    "print()\n",
    "q = re.compile('^Life', re.MULTILINE)\n",
    "data = \"\"\"Life is too short\n",
    "Life is good\n",
    "Life is valuable\"\"\"\n",
    "print(q.findall(data))\n",
    "print()\n",
    "p1 = re.compile('good\\Z', re.MULTILINE)\n",
    "data1 = \"\"\"Life is too short\n",
    "Life is good\n",
    "Life is very good\"\"\"\n",
    "print(p1.findall(data1))\n",
    "print()\n",
    "q1 = re.compile('good$', re.MULTILINE)\n",
    "data1 = \"\"\"Life is too short\n",
    "Life is good\n",
    "Life is very good\"\"\"\n",
    "print(q1.findall(data1))"
   ]
  },
  {
   "cell_type": "code",
   "execution_count": null,
   "id": "787b5dd3",
   "metadata": {
    "id": "787b5dd3",
    "outputId": "a2acbc46-3332-487b-d736-a02cd593c080"
   },
   "outputs": [
    {
     "data": {
      "text/plain": [
       "'home'"
      ]
     },
     "execution_count": 13,
     "metadata": {
      "tags": []
     },
     "output_type": "execute_result"
    }
   ],
   "source": [
    "# Q. 'we are going home'에서 home만 출력하세요.\n",
    "regex = re.compile(r'home$')\n",
    "mo1 = regex.search('we are going home')\n",
    "mo1.group()"
   ]
  },
  {
   "cell_type": "code",
   "execution_count": null,
   "id": "c6957362",
   "metadata": {
    "id": "c6957362",
    "outputId": "92e6ec5c-bbf4-46d0-a565-7fadd76dcc94"
   },
   "outputs": [
    {
     "data": {
      "text/plain": [
       "'home'"
      ]
     },
     "execution_count": 14,
     "metadata": {
      "tags": []
     },
     "output_type": "execute_result"
    }
   ],
   "source": [
    "# Q. 'home sweet'에서 home만 출력하세요.\n",
    "regex = re.compile(r'^home')\n",
    "mo2 = regex.search('home sweet')\n",
    "mo2.group()"
   ]
  },
  {
   "cell_type": "code",
   "execution_count": 35,
   "id": "6091d5eb",
   "metadata": {
    "id": "6091d5eb",
    "outputId": "35e41fc4-8948-42fe-bc0a-0af29712926a"
   },
   "outputs": [
    {
     "data": {
      "text/plain": [
       "'199305'"
      ]
     },
     "execution_count": 35,
     "metadata": {},
     "output_type": "execute_result"
    }
   ],
   "source": [
    "# Q. '199305, 1923A, a93247'에서 '199305'만 출력하세요.\n",
    "# regex = re.compile(r'^\\d+')\n",
    "regex = re.compile('^\\d+')\n",
    "mo = regex.search('199305, 1923A, a93247')\n",
    "mo.group()"
   ]
  },
  {
   "cell_type": "code",
   "execution_count": 38,
   "id": "ff1998eb",
   "metadata": {
    "id": "ff1998eb",
    "outputId": "501950ad-d7a4-4cfd-adc5-78fba3385062"
   },
   "outputs": [
    {
     "data": {
      "text/plain": [
       "['99food234']"
      ]
     },
     "execution_count": 38,
     "metadata": {},
     "output_type": "execute_result"
    }
   ],
   "source": [
    "# Q. '99food234, a93456\\n, a9356ba '에서 '99food234'만 출력하세요.\n",
    "regex = re.compile('^\\w+\\d')\n",
    " \n",
    "regex.findall('99food234, a93456\\n, a9356ba ')"
   ]
  },
  {
   "cell_type": "code",
   "execution_count": null,
   "id": "1c541640",
   "metadata": {
    "id": "1c541640",
    "outputId": "aa6830d1-152f-4427-f10f-eba0296fe859"
   },
   "outputs": [
    {
     "name": "stdout",
     "output_type": "stream",
     "text": [
      "<re.Match object; span=(3, 8), match='class'>\n",
      "None\n",
      "\n",
      "None\n",
      "<re.Match object; span=(6, 11), match='class'>\n"
     ]
    }
   ],
   "source": [
    "# \\b whitespace에 의해 구분\n",
    "# \\B whitespace로 구분된 단어가 아닌 경우에만 매치\n",
    "p = re.compile(r'\\bclass\\b')\n",
    "print(p.search('no class at all'))\n",
    "print(p.search('the declassified algorithim'))\n",
    "print()\n",
    "q = re.compile(r'\\Bclass\\B')\n",
    "print(q.search('no class at all'))\n",
    "print(q.search('the declassified algorithim'))"
   ]
  },
  {
   "cell_type": "code",
   "execution_count": 44,
   "id": "032082d9",
   "metadata": {
    "id": "032082d9"
   },
   "outputs": [
    {
     "name": "stdout",
     "output_type": "stream",
     "text": [
      "<re.Match object; span=(10, 22), match='032-232-3245'>\n",
      "032-232-3245\n"
     ]
    }
   ],
   "source": [
    "# Q. 정규표현식을 사용하여 test에서 전화번호만  출력하세요\n",
    "# text = \"문의사항이 있으면 032-232-3245 으로 연락주시기 바랍니다.\"\n",
    "import re\n",
    " \n",
    "text = \"문의사항이 있으면 032-232-3245 으로 연락주시기 바랍니다.\"\n",
    " \n",
    "# regex = re.compile(r'\\d+-\\d+-\\d+')\n",
    "# regex = re.compile(r'(\\d+)-(\\d+)-(\\d+)')\n",
    "regex = re.compile(r'\\b[0-9-]+\\b')\n",
    "print(regex.search(text))\n",
    "\n",
    "matchobj = regex.search(text)\n",
    "phonenumber = matchobj.group()\n",
    "print(phonenumber) "
   ]
  },
  {
   "cell_type": "code",
   "execution_count": 41,
   "id": "2fc2ec48",
   "metadata": {
    "id": "2fc2ec48"
   },
   "outputs": [
    {
     "name": "stdout",
     "output_type": "stream",
     "text": [
      "['에러 1122', '에러 1033', '에러 xxx']\n"
     ]
    }
   ],
   "source": [
    "# Q. 정규표현식을 사용하여 text에서 에러가 들어간 부분만 포함하는 리스트를 출력하세요. \n",
    "# text = \"에러 1122, 레퍼런스 오류, 에러 1033, 아규먼트 오류, 에러 xxx\"\n",
    "\n",
    "import re\n",
    "text = \"에러 1122, 레퍼런스 오류, 에러 1033, 아규먼트 오류, 에러 xxx\"\n",
    "regex = re.compile(\"에러\\s\\w+\")\n",
    "mc = regex.findall(text)\n",
    "print(mc)"
   ]
  },
  {
   "cell_type": "code",
   "execution_count": null,
   "id": "97fa1a8d",
   "metadata": {
    "id": "97fa1a8d"
   },
   "outputs": [],
   "source": [
    "# Q. (     )에 정규표현식을 작성하여 아래와 같이 출력하세요.\n",
    "# ['1 apple', '5 oranges', '3 boys', '4 girls', '10 army', '11 mr']\n",
    "\n",
    "import re\n",
    "li = '1 apple, 5 oranges, 3 boys, 4 girls; 10 army| 11 mr'\n",
    "regex = re.compile(      )\n",
    "list = regex.findall(li)\n",
    "print(list)"
   ]
  },
  {
   "cell_type": "code",
   "execution_count": 46,
   "id": "dd156825",
   "metadata": {
    "id": "dd156825",
    "outputId": "375bd113-3c10-4fe5-a197-0ae49c32e6bf"
   },
   "outputs": [
    {
     "name": "stdout",
     "output_type": "stream",
     "text": [
      "['1 apple', '5 oranges', '3 boys', '4 girls', '10 army', '11 mr']\n"
     ]
    }
   ],
   "source": [
    "# A.\n",
    "import re\n",
    "li = '1 apple, 5 oranges, 3 boys, 4 girls; 10 army| 11 mr'\n",
    "regex = re.compile('\\d+\\s\\w+')\n",
    "list = regex.findall(li)\n",
    "print(list)"
   ]
  },
  {
   "cell_type": "code",
   "execution_count": 45,
   "id": "ef360ca7",
   "metadata": {
    "id": "ef360ca7",
    "outputId": "1a28fe7b-8262-4131-8fb8-9934d0155a7f"
   },
   "outputs": [
    {
     "name": "stdout",
     "output_type": "stream",
     "text": [
      "['H', 'h', 'h']\n"
     ]
    }
   ],
   "source": [
    "# Q. text에서 'H,h'만 출력하세요.\n",
    "text = 'Hello my friend! Life is short you need Python!'\n",
    "\n",
    "customRegex = re.compile('[Hh]')\n",
    "list = customRegex.findall(text)\n",
    "print(list)"
   ]
  },
  {
   "cell_type": "code",
   "execution_count": 47,
   "id": "d59b0d6e",
   "metadata": {
    "id": "d59b0d6e",
    "outputId": "2ebcf461-7388-4732-9d2d-14f175bab1c3"
   },
   "outputs": [
    {
     "name": "stdout",
     "output_type": "stream",
     "text": [
      "['e', 'l', 'l', 'o', ' ', 'm', 'y', ' ', 'f', 'r', 'i', 'e', 'n', 'd', '!', ' ', 'L', 'i', 'f', 'e', ' ', 'i', 's', ' ', 's', 'o', 'r', 't', ' ', 'y', 'o', 'u', ' ', 'n', 'e', 'e', 'd', ' ', 'P', 'y', 't', 'o', 'n', '!']\n"
     ]
    }
   ],
   "source": [
    "# Q. text에서 'H,h'가 아닌 것 모두를 출력하세요.\n",
    "text = 'Hello my friend! Life is short you need Python!'\n",
    "customRegex = re.compile('[^Hh]')\n",
    "list = customRegex.findall(text)\n",
    "print(list)"
   ]
  },
  {
   "cell_type": "code",
   "execution_count": null,
   "id": "ab638b72",
   "metadata": {
    "id": "ab638b72",
    "outputId": "5eb2cd1e-d321-4128-957f-16d70c73cc4b"
   },
   "outputs": [
    {
     "name": "stdout",
     "output_type": "stream",
     "text": [
      "<re.Match object; span=(0, 9), match='ABCABCABC'>\n",
      "ABCABCABC\n",
      "ABC\n"
     ]
    }
   ],
   "source": [
    "# 그룹핑 : 매치된 문자열 중에서 특정 부분의 문자열만 뽑아내는 경우 ()으로 만들어 준다.\n",
    "# group(0) 매치된 전체 문자열, 1 첫번째 그룹, 2 두번째 그룹, n n번째 그룹\n",
    "p = re.compile('(ABC)+')\n",
    "m = p.search('ABCABCABC OK?')\n",
    "print(m)\n",
    "print(m.group(0))\n",
    "print(m.group(1))"
   ]
  },
  {
   "cell_type": "code",
   "execution_count": null,
   "id": "3af4cac3",
   "metadata": {
    "id": "3af4cac3",
    "outputId": "dec44e7d-8d1a-4d12-a148-667eb0b7de1d"
   },
   "outputs": [
    {
     "name": "stdout",
     "output_type": "stream",
     "text": [
      "<re.Match object; span=(3, 9), match='ABCDEF'>\n",
      "ABCDEF\n",
      "ABCDEF\n",
      "AB\n",
      "CD\n",
      "EF\n"
     ]
    }
   ],
   "source": [
    "p = re.compile('((AB)(CD)(EF))+')\n",
    "m = p.search('DEFABCDEFDEF OK?')\n",
    "print(m)\n",
    "print(m.group(0))\n",
    "print(m.group(1))\n",
    "print(m.group(2))\n",
    "print(m.group(3))\n",
    "print(m.group(4))"
   ]
  },
  {
   "cell_type": "code",
   "execution_count": null,
   "id": "61cb9b8f",
   "metadata": {
    "id": "61cb9b8f",
    "outputId": "fcc8b9c7-42fa-41b1-8793-62f07c1b033e"
   },
   "outputs": [
    {
     "name": "stdout",
     "output_type": "stream",
     "text": [
      "<re.Match object; span=(0, 6), match='ABCDEF'>\n",
      "ABCDEF\n",
      "ABCDEF\n",
      "AB\n",
      "CD\n",
      "EF\n"
     ]
    }
   ],
   "source": [
    "p = re.compile('((AB)(CD)(EF))+')\n",
    "m = p.match('ABCDEFDEF OK?')\n",
    "print(m)\n",
    "print(m.group(0))\n",
    "print(m.group(1))\n",
    "print(m.group(2))\n",
    "print(m.group(3))\n",
    "print(m.group(4))"
   ]
  },
  {
   "cell_type": "code",
   "execution_count": null,
   "id": "d2ca8f7b",
   "metadata": {
    "id": "d2ca8f7b"
   },
   "outputs": [],
   "source": [
    "# Q. 정규표현식을 사용하여 text에서 지역코드만 출력하세요.\n",
    "import re\n",
    " \n",
    "text = \"문의사항이 있으면 032-232-3245 으로 연락주시기 바랍니다.\"\n",
    " \n",
    "regex = re.compile(r'(\\d{3})-(\\d{3}-\\d{4})')\n",
    "matchobj = regex.search(text)\n",
    "areaCode = matchobj.group(1)\n",
    "# num = matchobj.group(2)\n",
    "# fullNum = matchobj.group()\n",
    "print(areaCode) # 032 232-3245"
   ]
  },
  {
   "cell_type": "code",
   "execution_count": null,
   "id": "3c42f5c8",
   "metadata": {
    "id": "3c42f5c8",
    "outputId": "e60ccf87-de27-4e27-936d-1fbdbd9a9ef7"
   },
   "outputs": [
    {
     "name": "stdout",
     "output_type": "stream",
     "text": [
      "232-3245\n"
     ]
    }
   ],
   "source": [
    "# Q. 정규표현식을 사용하여 text에서 지역코드 제외한 번호만 출력하세요.\n",
    "\n",
    "import re\n",
    " \n",
    "text = \"문의사항이 있으면 032-232-3245 으로 연락주시기 바랍니다.\"\n",
    " \n",
    "regex = re.compile(r'(\\d{3})-(\\d{3}-\\d{4})')\n",
    "matchobj = regex.search(text)\n",
    "# areaCode = matchobj.group(1)\n",
    "num = matchobj.group(2)\n",
    "# fullNum = matchobj.group()\n",
    "print(num) # 032 232-3245"
   ]
  },
  {
   "cell_type": "code",
   "execution_count": null,
   "id": "ce8959e8",
   "metadata": {
    "id": "ce8959e8",
    "outputId": "6595b0ad-76e7-41f3-f430-22a1e547c746"
   },
   "outputs": [
    {
     "name": "stdout",
     "output_type": "stream",
     "text": [
      "<re.Match object; span=(0, 18), match='park 010-1234-1234'>\n",
      "park\n",
      "010-1234-1234\n",
      "010\n",
      "('park', '010-1234-1234', '010')\n"
     ]
    }
   ],
   "source": [
    "# 그룹이 중첩되어 있는 경우는 바깥쪽부터 시작하여 안쪽으로 들어갈수록 인덱스 증가\n",
    "# Q. 정규표현식을 사용하여 'park 010-1234-1234'에서 지역코드만 출력하세요.\n",
    "\n",
    "p = re.compile(r'(\\w+)\\s+((\\d+)[-]\\d+[-]\\d+)')\n",
    "m = p.search('park 010-1234-1234')\n",
    "print(m)\n",
    "print(m.group(1))\n",
    "print(m.group(2))\n",
    "print(m.group(3))\n",
    "print(m.groups())"
   ]
  },
  {
   "cell_type": "code",
   "execution_count": null,
   "id": "52370eb5",
   "metadata": {
    "id": "52370eb5",
    "outputId": "eaa711df-c6ed-4e42-bc1d-e919e59302ed"
   },
   "outputs": [
    {
     "data": {
      "text/plain": [
       "'the the the '"
      ]
     },
     "execution_count": 54,
     "metadata": {
      "tags": []
     },
     "output_type": "execute_result"
    }
   ],
   "source": [
    "# 그룹핑된 문자열 재참조\n",
    "# \\1은 재참조 메타 문자로서 정규식의 첫번째 그룹을 지칭 - 2개의 동일한 단어가 연속적으로 사용되어야 매치\n",
    "p = re.compile(r'(\\w+)\\s+\\1+\\s+\\1+\\s')\n",
    "p.search('Paris in the the the spring').group()"
   ]
  },
  {
   "cell_type": "code",
   "execution_count": null,
   "id": "8ddc4eb3",
   "metadata": {
    "id": "8ddc4eb3"
   },
   "outputs": [],
   "source": [
    "# Q. 'Paris is very very beautiful.'에서 'very very'를 출력하세요.\n",
    "\n",
    "p = re.compile(r'\\b(\\w+)\\s+\\1')\n",
    "p.search('Paris is very very beautiful.').group()"
   ]
  },
  {
   "cell_type": "code",
   "execution_count": null,
   "id": "28803573",
   "metadata": {
    "id": "28803573",
    "outputId": "0202aa48-ffc9-450b-c352-b05b9afdd03a"
   },
   "outputs": [
    {
     "name": "stdout",
     "output_type": "stream",
     "text": [
      "abcdefghij\n",
      "abcdefghi\n"
     ]
    },
    {
     "data": {
      "text/plain": [
       "'e'"
      ]
     },
     "execution_count": 5,
     "metadata": {
      "tags": []
     },
     "output_type": "execute_result"
    }
   ],
   "source": [
    "# Q.'abcdefghij' 에 대하여 중첩을 적용한 서브그룹 5개로 컴파일하여 group()함수를 이용하여 \n",
    "# 'abcdefghi'와 e'를 출력하세요\n",
    "\n",
    "p = re.compile('(a(b(c(d(e)f)g)h)i)j')\n",
    "m = p.match('abcdefghij')\n",
    "print(m.group(0))\n",
    "print(m.group(1))\n",
    "m.group(5)"
   ]
  },
  {
   "cell_type": "code",
   "execution_count": null,
   "id": "5d929315",
   "metadata": {
    "id": "5d929315",
    "outputId": "d6deb911-3855-4e83-9895-60991cd0a963"
   },
   "outputs": [
    {
     "data": {
      "text/plain": [
       "('abcdefghi', 'bcdefgh', 'cdefg', 'def', 'e')"
      ]
     },
     "execution_count": 6,
     "metadata": {
      "tags": []
     },
     "output_type": "execute_result"
    }
   ],
   "source": [
    "# Q. 위 문제에서 모든 서브 그룹에 대한 문자열을 포함하는 튜플을 출력하세요.\n",
    "m.groups()"
   ]
  },
  {
   "cell_type": "code",
   "execution_count": null,
   "id": "f991c986",
   "metadata": {
    "id": "f991c986",
    "outputId": "e6907dc3-3c6e-452c-8bd0-b7c7e4822151"
   },
   "outputs": [
    {
     "name": "stdout",
     "output_type": "stream",
     "text": [
      "park\n"
     ]
    }
   ],
   "source": [
    "# 그룹핑된 문자열에 이름 붙이기 : 확장 구문 (?P<name>\\w+)\n",
    "p = re.compile(r'(?P<name>\\w+)\\s+((\\d+)[-]\\d+[-]\\d+)')\n",
    "m = p.search('park 010-1234-1234')\n",
    "print(m.group('name'))"
   ]
  },
  {
   "cell_type": "code",
   "execution_count": null,
   "id": "502786b3",
   "metadata": {
    "id": "502786b3",
    "outputId": "4e3e4ea5-3f81-44fc-b955-34fa4498bc83"
   },
   "outputs": [
    {
     "data": {
      "text/plain": [
       "'the the'"
      ]
     },
     "execution_count": 55,
     "metadata": {
      "tags": []
     },
     "output_type": "execute_result"
    }
   ],
   "source": [
    "# 그룹명을 이용하여 정규식 내에서 재참조\n",
    "p = re.compile(r'(?P<word>\\w+)\\s+(?P=word)')\n",
    "p.search('Paris in the the spring').group()"
   ]
  },
  {
   "cell_type": "code",
   "execution_count": null,
   "id": "a2c1f545",
   "metadata": {
    "id": "a2c1f545",
    "outputId": "d38049bb-7575-4491-c23c-d58384a9d812"
   },
   "outputs": [
    {
     "name": "stdout",
     "output_type": "stream",
     "text": [
      "Lots\n"
     ]
    }
   ],
   "source": [
    "# Q. 이름으로 그룹을 참조하여 'Lots of punctuation 에서 Lots를 출력하세요.\n",
    "p = re.compile(r'(?P<word>\\b\\w+\\b)')\n",
    "m = p.search( '(((( Lots of punctuation )))' )\n",
    "print(m.group('word'))"
   ]
  },
  {
   "cell_type": "code",
   "execution_count": null,
   "id": "cc5558ab",
   "metadata": {
    "id": "cc5558ab",
    "outputId": "a6113655-24f6-4701-9108-dcb70dccdcd4"
   },
   "outputs": [
    {
     "name": "stdout",
     "output_type": "stream",
     "text": [
      "http:\n",
      "\n",
      "http\n",
      "\n"
     ]
    }
   ],
   "source": [
    "# 전방 탐색\n",
    "# 긍정(?=...) ...에 해당되는 정규식과 매치되어야 하며 조건이 통과되어도 문자열이 소모되지 않음\n",
    "# 부정(?!...) ...에 해당되는 정규식과 매치되지 않아야 하며 조건이 통과되어도 문자열이 소모되지 않음\n",
    "\n",
    "p = re.compile(r'.+:')\n",
    "m = p.search('http://google.com')\n",
    "print(m.group())\n",
    "print()\n",
    "p = re.compile(r'.+(?=:)')  # :에 해당되는 문자열이 정규식 엔진에 의해 소모되지 않음(검색에는 포함되지만 결과에는 제외)\n",
    "m = p.search('http://google.com')\n",
    "print(m.group())\n",
    "print()"
   ]
  },
  {
   "cell_type": "code",
   "execution_count": null,
   "id": "6fe27565",
   "metadata": {
    "id": "6fe27565",
    "outputId": "0a7c266a-9870-4a12-859a-2075f8fd82bc"
   },
   "outputs": [
    {
     "name": "stdout",
     "output_type": "stream",
     "text": [
      "foo.exe\n",
      "autoexec.bat\n",
      "sendmail.cf\n"
     ]
    }
   ],
   "source": [
    "# 파일명+.+확장자를 나타내는 정규식\n",
    "p =re.compile('.*[.].*$')\n",
    "list = ['foo.exe', 'autoexec.bat', 'sendmail.cf']\n",
    "for i in list:\n",
    "    if p.match(i):\n",
    "        print(i)"
   ]
  },
  {
   "cell_type": "code",
   "execution_count": null,
   "id": "c32ef029",
   "metadata": {
    "id": "c32ef029",
    "outputId": "f1611398-9316-4230-ca63-7556d36b7375"
   },
   "outputs": [
    {
     "name": "stdout",
     "output_type": "stream",
     "text": [
      "sendmail.cf\n"
     ]
    }
   ],
   "source": [
    "# 확장자가 bat 혹은 exe가 아닌 경우만 통과된다는 부정적 전방탐색\n",
    "p =re.compile('.*[.](?!bat$|exe$).*$')\n",
    "list = ['foo.exe', 'autoexec.bat', 'sendmail.cf']\n",
    "for i in list:\n",
    "    if p.match(i):\n",
    "        print(i)"
   ]
  },
  {
   "cell_type": "code",
   "execution_count": null,
   "id": "dc2205ce",
   "metadata": {
    "id": "dc2205ce",
    "outputId": "447067c3-dd53-4812-8392-b28da04ce36a"
   },
   "outputs": [
    {
     "name": "stdout",
     "output_type": "stream",
     "text": [
      "colour socks and colour shoes\n",
      "colour socks and red shoes\n",
      "('colour socks and colour shoes', 2)\n"
     ]
    }
   ],
   "source": [
    "# 문자열 바꾸기\n",
    "# sub 메서드를 사용하면 정규식과 매치되는 부분을 다른 문자로 쉽게 바꿀 수 있음\n",
    "# 바꾸기 횟수를 제어하려면 세 번째 매개변수로 count 값을 넘기면 됨\n",
    "# subn 역시 sub와 동일한 기능을 하지만 반환 결과를 튜플로 돌려줌. 두 번째 요소는 바꾸기 발생 횟수\n",
    "p = re.compile('(blue|white|red)')\n",
    "print(p.sub('colour', 'blue socks and red shoes'))\n",
    "print(p.sub('colour', 'blue socks and red shoes', count=1)) # 바꾸기 횟수를 제어\n",
    "print(p.subn( 'colour', 'blue socks and red shoes'))"
   ]
  },
  {
   "cell_type": "code",
   "execution_count": null,
   "id": "9dd4e044",
   "metadata": {
    "id": "9dd4e044",
    "outputId": "15f588df-7515-442b-8d91-4fafe58efe4d"
   },
   "outputs": [
    {
     "data": {
      "text/plain": [
       "'abc'"
      ]
     },
     "execution_count": 17,
     "metadata": {
      "tags": []
     },
     "output_type": "execute_result"
    }
   ],
   "source": [
    "# Q. '12345abc'에서 'abc'만 출력하세요.\n",
    "import re\n",
    "str = '12345abc'\n",
    "re.sub('\\d','',str)"
   ]
  },
  {
   "cell_type": "code",
   "execution_count": null,
   "id": "c886dee8",
   "metadata": {
    "id": "c886dee8",
    "outputId": "19b131b2-8aca-4887-b34a-e4e6f7ee7055"
   },
   "outputs": [
    {
     "data": {
      "text/plain": [
       "'abc'"
      ]
     },
     "execution_count": 20,
     "metadata": {
      "tags": []
     },
     "output_type": "execute_result"
    }
   ],
   "source": [
    "import re\n",
    "p = re.compile('\\d')\n",
    "p.sub('','12345abc')"
   ]
  },
  {
   "cell_type": "code",
   "execution_count": null,
   "id": "579692ba",
   "metadata": {
    "id": "579692ba",
    "outputId": "f1e899ed-2134-49ef-b568-3ec5a5934363"
   },
   "outputs": [
    {
     "data": {
      "text/plain": [
       "'12345'"
      ]
     },
     "execution_count": 18,
     "metadata": {
      "tags": []
     },
     "output_type": "execute_result"
    }
   ],
   "source": [
    "# Q. '12345abc'에서 '12345'만 출력하세요.\n",
    "import re\n",
    "str = '12345abc'\n",
    "re.sub('[^0-9]','',str) "
   ]
  },
  {
   "cell_type": "code",
   "execution_count": null,
   "id": "4a305567",
   "metadata": {
    "id": "4a305567",
    "outputId": "7ce06d85-edc1-42ae-c35d-780bf22ac132"
   },
   "outputs": [
    {
     "name": "stdout",
     "output_type": "stream",
     "text": [
      "010-1234-1234 park\n"
     ]
    }
   ],
   "source": [
    "# sub 메서드를 사용할 때 참조 구문을 사용\n",
    "# 이름 + 전화번호의 문자열을 전화번호 + 이름으로 바꾸는 예\n",
    "# sub의 바꿀 문자열 부분에 \\g<그룹이름>을 사용하면 정규식의 그룹 이름을 참조\n",
    "p = re.compile(r\"(?P<name>\\w+)\\s+(?P<phone>(\\d+)[-]\\d+[-]\\d+)\")\n",
    "print(p.sub(\"\\g<phone> \\g<name>\", \"park 010-1234-1234\"))"
   ]
  },
  {
   "cell_type": "code",
   "execution_count": null,
   "id": "34798fe7",
   "metadata": {
    "id": "34798fe7",
    "outputId": "dd238209-b75e-44c7-a0d9-9b17f9c15992"
   },
   "outputs": [
    {
     "name": "stdout",
     "output_type": "stream",
     "text": [
      "010-1234-1234 park\n"
     ]
    }
   ],
   "source": [
    "# 그룹 이름 대신 참조 번호를 사용할 수 있음\n",
    "p = re.compile(r\"(?P<name>\\w+)\\s+(?P<phone>(\\d+)[-]\\d+[-]\\d+)\")\n",
    "print(p.sub(\"\\g<2> \\g<1>\", \"park 010-1234-1234\"))"
   ]
  },
  {
   "cell_type": "code",
   "execution_count": null,
   "id": "930cab76",
   "metadata": {
    "id": "930cab76",
    "outputId": "e77bd4eb-31ec-4ebe-88a8-3d82d449a681"
   },
   "outputs": [
    {
     "data": {
      "text/plain": [
       "'Call 0xffd2 for printing, 0xc000 for user code.'"
      ]
     },
     "execution_count": 25,
     "metadata": {
      "tags": []
     },
     "output_type": "execute_result"
    }
   ],
   "source": [
    "# sub 메서드의 매개변수로 함수 넣기\n",
    "# hexrepl 함수는 match 객체(위에서 숫자에 매치되는)를 입력으로 받아 16진수로 변환하여 돌려주는 함수 \n",
    "# sub의 첫 번째 매개변수로 함수를 사용할 경우 해당 함수의 첫 번째 매개변수에는 정규식과 매치된 match 객체가 입력 \n",
    "# 매치되는 문자열은 함수의 반환 값으로 변환\n",
    "\n",
    "def hexrepl(match):\n",
    "    value = int(match.group())\n",
    "    return hex(value)\n",
    "\n",
    "p = re.compile(r'\\d+')\n",
    "p.sub(hexrepl, 'Call 65490 for printing, 49152 for user code.')"
   ]
  },
  {
   "cell_type": "code",
   "execution_count": null,
   "id": "ebaa2471",
   "metadata": {
    "id": "ebaa2471",
    "outputId": "be4c1790-f876-4528-924f-b7e6c1ee7cb1"
   },
   "outputs": [
    {
     "name": "stdout",
     "output_type": "stream",
     "text": [
      "<html><head><title>Title</title>\n",
      "\n",
      "32\n",
      "\n",
      "(0, 32)\n",
      "\n",
      "<html><head><title>Title</title>\n",
      "\n",
      "<html>\n",
      "\n",
      "(0, 6)\n"
     ]
    }
   ],
   "source": [
    "# Greedy vs Non-Greedy\n",
    "# * 메타 문자는 매우 탐욕스러워서 매치할 수 있는 최대한의 문자열인 <html><head><title>Title</title> 문자열을 모두 소비\n",
    "# non-greedy 문자인 ?는 *의 탐욕을 제한하여 최소한의 반복을 수행. *?, +?, ??, {m,n}?와 같이 사용\n",
    "s = '<html><head><title>Title</title>'\n",
    "print(s)\n",
    "print()\n",
    "print(len(s))\n",
    "print()\n",
    "print(re.match('<.*>', s).span())\n",
    "print()\n",
    "print(re.match('<.*>', s).group())\n",
    "print()\n",
    "print(re.match('<.*?>', s).group())\n",
    "print()\n",
    "print(re.match('<.*?>', s).span())"
   ]
  }
 ],
 "metadata": {
  "colab": {
   "name": "python_정규표현식.ipynb",
   "provenance": []
  },
  "kernelspec": {
   "display_name": "Python 3",
   "language": "python",
   "name": "python3"
  },
  "language_info": {
   "codemirror_mode": {
    "name": "ipython",
    "version": 3
   },
   "file_extension": ".py",
   "mimetype": "text/x-python",
   "name": "python",
   "nbconvert_exporter": "python",
   "pygments_lexer": "ipython3",
   "version": "3.8.10"
  }
 },
 "nbformat": 4,
 "nbformat_minor": 5
}
                                                                                                                                                                                                                                                                                                                                                                                                                                             <td>3</td>\n",
       "      <td>16</td>\n",
       "      <td>17</td>\n",
       "      <td>18</td>\n",
       "    </tr>\n",
       "    <tr>\n",
       "      <th>6</th>\n",
       "      <td>3</td>\n",
       "      <td>19</td>\n",
       "      <td>20</td>\n",
       "      <td>21</td>\n",
       "    </tr>\n",
       "  </tbody>\n",
       "</table>\n",
       "</div>"
      ],
      "text/plain": [
       "  index   a   b   c\n",
       "0     1   1   2   3\n",
       "1     1   4   5   6\n",
       "2     2   7   8   9\n",
       "3     2  10  11  12\n",
       "4     3  13  14  15\n",
       "5     3  16  17  18\n",
       "6     3  19  20  21"
      ]
     },
     "execution_count": 134,
     "metadata": {},
     "output_type": "execute_result"
    }
   ],
   "source": [
    "df.reset_index(inplace=True)\n",
    "df"
   ]
  },
  {
   "cell_type": "code",
   "execution_count": 141,
   "id": "9fcacb22",
   "metadata": {},
   "outputs": [
    {
     "data": {
      "text/html": [
       "<div>\n",
       "<style scoped>\n",
       "    .dataframe tbody tr th:only-of-type {\n",
       "        vertical-align: middle;\n",
       "    }\n",
       "\n",
       "    .dataframe tbody tr th {\n",
       "        vertical-align: top;\n",
       "    }\n",
       "\n",
       "    .dataframe thead th {\n",
       "        text-align: right;\n",
       "    }\n",
       "</style>\n",
       "<table border=\"1\" class=\"dataframe\">\n",
       "  <thead>\n",
       "    <tr style=\"text-align: right;\">\n",
       "      <th></th>\n",
       "      <th>a</th>\n",
       "      <th>b</th>\n",
       "      <th>c</th>\n",
       "    </tr>\n",
       "    <tr>\n",
       "      <th>index</th>\n",
       "      <th></th>\n",
       "      <th></th>\n",
       "      <th></th>\n",
       "    </tr>\n",
       "  </thead>\n",
       "  <tbody>\n",
       "    <tr>\n",
       "      <th>1</th>\n",
       "      <td>2.5</td>\n",
       "      <td>3.5</td>\n",
       "      <td>4.5</td>\n",
       "    </tr>\n",
       "    <tr>\n",
       "      <th>2</th>\n",
       "      <td>8.5</td>\n",
       "      <td>9.5</td>\n",
       "      <td>10.5</td>\n",
       "    </tr>\n",
       "    <tr>\n",
       "      <th>3</th>\n",
       "      <td>16.0</td>\n",
       "      <td>17.0</td>\n",
       "      <td>18.0</td>\n",
       "    </tr>\n",
       "  </tbody>\n",
       "</table>\n",
       "</div>"
      ],
      "text/plain": [
       "          a     b     c\n",
       "index                  \n",
       "1       2.5   3.5   4.5\n",
       "2       8.5   9.5  10.5\n",
       "3      16.0  17.0  18.0"
      ]
     },
     "execution_count": 141,
     "metadata": {},
     "output_type": "execute_result"
    }
   ],
   "source": [
    "# 과제\n",
    "# Q1. index를 기준으로 3개 그룹으로 구분하여 a:평균, b:최대값, c:합계를 \n",
    "# 각각 계산하여 출력하세요.\n",
    "d_g = df.groupby('index').mean()\n",
    "d_g"
   ]
  },
  {
   "cell_type": "code",
   "execution_count": 142,
   "id": "08f42210",
   "metadata": {},
   "outputs": [
    {
     "data": {
      "text/html": [
       "<div>\n",
       "<style scoped>\n",
       "    .dataframe tbody tr th:only-of-type {\n",
       "        vertical-align: middle;\n",
       "    }\n",
       "\n",
       "    .dataframe tbody tr th {\n",
       "        vertical-align: top;\n",
       "    }\n",
       "\n",
       "    .dataframe thead th {\n",
       "        text-align: right;\n",
       "    }\n",
       "</style>\n",
       "<table border=\"1\" class=\"dataframe\">\n",
       "  <thead>\n",
       "    <tr style=\"text-align: right;\">\n",
       "      <th></th>\n",
       "      <th>survived</th>\n",
       "      <th>pclass</th>\n",
       "      <th>sex</th>\n",
       "      <th>age</th>\n",
       "      <th>sibsp</th>\n",
       "      <th>...</th>\n",
       "      <th>adult_male</th>\n",
       "      <th>deck</th>\n",
       "      <th>embark_town</th>\n",
       "      <th>alive</th>\n",
       "      <th>alone</th>\n",
       "    </tr>\n",
       "  </thead>\n",
       "  <tbody>\n",
       "    <tr>\n",
       "      <th>0</th>\n",
       "      <td>0</td>\n",
       "      <td>3</td>\n",
       "      <td>male</td>\n",
       "      <td>22.0</td>\n",
       "      <td>1</td>\n",
       "      <td>...</td>\n",
       "      <td>True</td>\n",
       "      <td>NaN</td>\n",
       "      <td>Southampton</td>\n",
       "      <td>no</td>\n",
       "      <td>False</td>\n",
       "    </tr>\n",
       "    <tr>\n",
       "      <th>1</th>\n",
       "      <td>1</td>\n",
       "      <td>1</td>\n",
       "      <td>female</td>\n",
       "      <td>38.0</td>\n",
       "      <td>1</td>\n",
       "      <td>...</td>\n",
       "      <td>False</td>\n",
       "      <td>C</td>\n",
       "      <td>Cherbourg</td>\n",
       "      <td>yes</td>\n",
       "      <td>False</td>\n",
       "    </tr>\n",
       "    <tr>\n",
       "      <th>2</th>\n",
       "      <td>1</td>\n",
       "      <td>3</td>\n",
       "      <td>female</td>\n",
       "      <td>26.0</td>\n",
       "      <td>0</td>\n",
       "      <td>...</td>\n",
       "      <td>False</td>\n",
       "      <td>NaN</td>\n",
       "      <td>Southampton</td>\n",
       "      <td>yes</td>\n",
       "      <td>True</td>\n",
       "    </tr>\n",
       "    <tr>\n",
       "      <th>3</th>\n",
       "      <td>1</td>\n",
       "      <td>1</td>\n",
       "      <td>female</td>\n",
       "      <td>35.0</td>\n",
       "      <td>1</td>\n",
       "      <td>...</td>\n",
       "      <td>False</td>\n",
       "      <td>C</td>\n",
       "      <td>Southampton</td>\n",
       "      <td>yes</td>\n",
       "      <td>False</td>\n",
       "    </tr>\n",
       "    <tr>\n",
       "      <th>4</th>\n",
       "      <td>0</td>\n",
       "      <td>3</td>\n",
       "      <td>male</td>\n",
       "      <td>35.0</td>\n",
       "      <td>0</td>\n",
       "      <td>...</td>\n",
       "      <td>True</td>\n",
       "      <td>NaN</td>\n",
       "      <td>Southampton</td>\n",
       "      <td>no</td>\n",
       "      <td>True</td>\n",
       "    </tr>\n",
       "  </tbody>\n",
       "</table>\n",
       "<p>5 rows × 15 columns</p>\n",
       "</div>"
      ],
      "text/plain": [
       "   survived  pclass     sex   age  sibsp  ...  adult_male  deck  embark_town  \\\n",
       "0         0       3    male  22.0      1  ...        True   NaN  Southampton   \n",
       "1         1       1  female  38.0      1  ...       False     C    Cherbourg   \n",
       "2         1       3  female  26.0      0  ...       False   NaN  Southampton   \n",
       "3         1       1  female  35.0      1  ...       False     C  Southampton   \n",
       "4         0       3    male  35.0      0  ...        True   NaN  Southampton   \n",
       "\n",
       "  alive  alone  \n",
       "0    no  False  \n",
       "1   yes  False  \n",
       "2   yes   True  \n",
       "3   yes  False  \n",
       "4    no   True  \n",
       "\n",
       "[5 rows x 15 columns]"
      ]
     },
     "execution_count": 142,
     "metadata": {},
     "output_type": "execute_result"
    }
   ],
   "source": [
    "# 과제\n",
    "# Q2. deck 열의 NaN 갯수를 계산하세요.\n",
    "import seaborn as sns\n",
    "titanic_df = sns.load_dataset('titanic')\n",
    "titanic_df.head()"
   ]
  },
  {
   "cell_type": "code",
   "execution_count": null,
   "id": "bb8a3d74",
   "metadata": {},
   "outputs": [],
   "source": [
    "# 과제\n",
    "# Q3. titanic_df의 처음 5개 행에서 null 값을 찾아 출력하세요.(True, False로)"
   ]
  },
  {
   "cell_type": "code",
   "execution_count": null,
   "id": "872a6485",
   "metadata": {},
   "outputs": [],
   "source": [
    "# 과제\n",
    "# Q4. titanic_df의 각 칼럼별 null의 갯수를 for 반복문을 사용해서 구한 후 \n",
    "# 출력하세요. (missing_count는 예외 처리하고 처리 방식은 0을 출력함 \n",
    "# - null 값이 없으면 0  )"
   ]
  },
  {
   "cell_type": "code",
   "execution_count": 143,
   "id": "eb6d68d5",
   "metadata": {},
   "outputs": [
    {
     "data": {
      "text/html": [
       "<div>\n",
       "<style scoped>\n",
       "    .dataframe tbody tr th:only-of-type {\n",
       "        vertical-align: middle;\n",
       "    }\n",
       "\n",
       "    .dataframe tbody tr th {\n",
       "        vertical-align: top;\n",
       "    }\n",
       "\n",
       "    .dataframe thead th {\n",
       "        text-align: right;\n",
       "    }\n",
       "</style>\n",
       "<table border=\"1\" class=\"dataframe\">\n",
       "  <thead>\n",
       "    <tr style=\"text-align: right;\">\n",
       "      <th></th>\n",
       "      <th>mpg</th>\n",
       "      <th>cylinders</th>\n",
       "      <th>displacement</th>\n",
       "      <th>horsepower</th>\n",
       "      <th>weight</th>\n",
       "      <th>acceleration</th>\n",
       "      <th>model year</th>\n",
       "      <th>origin</th>\n",
       "      <th>car name</th>\n",
       "    </tr>\n",
       "  </thead>\n",
       "  <tbody>\n",
       "    <tr>\n",
       "      <th>0</th>\n",
       "      <td>18.0</td>\n",
       "      <td>8</td>\n",
       "      <td>307.0</td>\n",
       "      <td>130</td>\n",
       "      <td>3504</td>\n",
       "      <td>12.0</td>\n",
       "      <td>70</td>\n",
       "      <td>1</td>\n",
       "      <td>chevrolet chevelle malibu</td>\n",
       "    </tr>\n",
       "    <tr>\n",
       "      <th>1</th>\n",
       "      <td>15.0</td>\n",
       "      <td>8</td>\n",
       "      <td>350.0</td>\n",
       "      <td>165</td>\n",
       "      <td>3693</td>\n",
       "      <td>11.5</td>\n",
       "      <td>70</td>\n",
       "      <td>1</td>\n",
       "      <td>buick skylark 320</td>\n",
       "    </tr>\n",
       "    <tr>\n",
       "      <th>2</th>\n",
       "      <td>18.0</td>\n",
       "      <td>8</td>\n",
       "      <td>318.0</td>\n",
       "      <td>150</td>\n",
       "      <td>3436</td>\n",
       "      <td>11.0</td>\n",
       "      <td>70</td>\n",
       "      <td>1</td>\n",
       "      <td>plymouth satellite</td>\n",
       "    </tr>\n",
       "    <tr>\n",
       "      <th>3</th>\n",
       "      <td>16.0</td>\n",
       "      <td>8</td>\n",
       "      <td>304.0</td>\n",
       "      <td>150</td>\n",
       "      <td>3433</td>\n",
       "      <td>12.0</td>\n",
       "      <td>70</td>\n",
       "      <td>1</td>\n",
       "      <td>amc rebel sst</td>\n",
       "    </tr>\n",
       "    <tr>\n",
       "      <th>4</th>\n",
       "      <td>17.0</td>\n",
       "      <td>8</td>\n",
       "      <td>302.0</td>\n",
       "      <td>140</td>\n",
       "      <td>3449</td>\n",
       "      <td>10.5</td>\n",
       "      <td>70</td>\n",
       "      <td>1</td>\n",
       "      <td>ford torino</td>\n",
       "    </tr>\n",
       "  </tbody>\n",
       "</table>\n",
       "</div>"
      ],
      "text/plain": [
       "    mpg  cylinders  displacement horsepower  weight  acceleration  model year  \\\n",
       "0  18.0          8         307.0        130    3504          12.0          70   \n",
       "1  15.0          8         350.0        165    3693          11.5          70   \n",
       "2  18.0          8         318.0        150    3436          11.0          70   \n",
       "3  16.0          8         304.0        150    3433          12.0          70   \n",
       "4  17.0          8         302.0        140    3449          10.5          70   \n",
       "\n",
       "   origin                   car name  \n",
       "0       1  chevrolet chevelle malibu  \n",
       "1       1          buick skylark 320  \n",
       "2       1         plymouth satellite  \n",
       "3       1              amc rebel sst  \n",
       "4       1                ford torino  "
      ]
     },
     "execution_count": 143,
     "metadata": {},
     "output_type": "execute_result"
    }
   ],
   "source": [
    "# 과제\n",
    "# Q5. 'mpg'를 'kpl' 로 환산하여 새로운 열을 생성하고 처음 3개 행을 소수점 아래 \n",
    "# 둘째 자리에서 반올림하여 출력하세요.\n",
    "import pandas as pd\n",
    "auto_df = pd.read_csv('./dataset/auto-mpg.csv')\n",
    "auto_df.head()"
   ]
  },
  {
   "cell_type": "code",
   "execution_count": null,
   "id": "4dda6a9c",
   "metadata": {},
   "outputs": [],
   "source": [
    "# 과제\n",
    "# Q6. titanic_df 데이터 셋을 전처리하고 탐색하여 데이터 셋에 대한 설명 및\n",
    "# 분석 과제를 기술하세요 (전처리 최소 5개 이상) "
   ]
  },
  {
   "cell_type": "code",
   "execution_count": null,
   "id": "51d3f604",
   "metadata": {},
   "outputs": [],
   "source": []
  },
  {
   "cell_type": "code",
   "execution_count": null,
   "id": "4c32839d",
   "metadata": {},
   "outputs": [],
   "source": []
  }
 ],
 "metadata": {
  "kernelspec": {
   "display_name": "Python 3",
   "language": "python",
   "name": "python3"
  },
  "language_info": {
   "codemirror_mode": {
    "name": "ipython",
    "version": 3
   },
   "file_extension": ".py",
   "mimetype": "text/x-python",
   "name": "python",
   "nbconvert_exporter": "python",
   "pygments_lexer": "ipython3",
   "version": "3.8.8"
  }
 },
 "nbformat": 4,
 "nbformat_minor": 5
}
