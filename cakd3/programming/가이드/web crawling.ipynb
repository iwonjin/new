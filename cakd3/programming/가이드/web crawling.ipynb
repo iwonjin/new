{
 "cells": [
  {
   "cell_type": "code",
   "execution_count": 3,
   "id": "27a8976d",
   "metadata": {},
   "outputs": [],
   "source": [
    "# csv 파일 읽고 저장하기\n",
    "import numpy as np\n",
    "import pandas as pd\n",
    "ar1 = np.arange(10).reshape(2,5)\n",
    "df = pd.DataFrame(ar1,columns=list('abcde'))\n",
    "df.to_csv('dataset/test.csv')"
   ]
  },
  {
   "cell_type": "code",
   "execution_count": 5,
   "id": "1f36e76d",
   "metadata": {},
   "outputs": [
    {
     "data": {
      "text/html": [
       "<div>\n",
       "<style scoped>\n",
       "    .dataframe tbody tr th:only-of-type {\n",
       "        vertical-align: middle;\n",
       "    }\n",
       "\n",
       "    .dataframe tbody tr th {\n",
       "        vertical-align: top;\n",
       "    }\n",
       "\n",
       "    .dataframe thead th {\n",
       "        text-align: right;\n",
       "    }\n",
       "</style>\n",
       "<table border=\"1\" class=\"dataframe\">\n",
       "  <thead>\n",
       "    <tr style=\"text-align: right;\">\n",
       "      <th></th>\n",
       "      <th>a</th>\n",
       "      <th>b</th>\n",
       "      <th>c</th>\n",
       "      <th>d</th>\n",
       "      <th>e</th>\n",
       "    </tr>\n",
       "  </thead>\n",
       "  <tbody>\n",
       "    <tr>\n",
       "      <th>0</th>\n",
       "      <td>0</td>\n",
       "      <td>1</td>\n",
       "      <td>2</td>\n",
       "      <td>3</td>\n",
       "      <td>4</td>\n",
       "    </tr>\n",
       "    <tr>\n",
       "      <th>1</th>\n",
       "      <td>5</td>\n",
       "      <td>6</td>\n",
       "      <td>7</td>\n",
       "      <td>8</td>\n",
       "      <td>9</td>\n",
       "    </tr>\n",
       "  </tbody>\n",
       "</table>\n",
       "</div>"
      ],
      "text/plain": [
       "   a  b  c  d  e\n",
       "0  0  1  2  3  4\n",
       "1  5  6  7  8  9"
      ]
     },
     "execution_count": 5,
     "metadata": {},
     "output_type": "execute_result"
    }
   ],
   "source": [
    "df = pd.read_csv('dataset/test.csv',index_col=0)\n",
    "df"
   ]
  },
  {
   "cell_type": "code",
   "execution_count": 6,
   "id": "95e44ae5",
   "metadata": {},
   "outputs": [
    {
     "data": {
      "text/html": [
       "<div>\n",
       "<style scoped>\n",
       "    .dataframe tbody tr th:only-of-type {\n",
       "        vertical-align: middle;\n",
       "    }\n",
       "\n",
       "    .dataframe tbody tr th {\n",
       "        vertical-align: top;\n",
       "    }\n",
       "\n",
       "    .dataframe thead th {\n",
       "        text-align: right;\n",
       "    }\n",
       "</style>\n",
       "<table border=\"1\" class=\"dataframe\">\n",
       "  <thead>\n",
       "    <tr style=\"text-align: right;\">\n",
       "      <th></th>\n",
       "      <th>a</th>\n",
       "      <th>b</th>\n",
       "      <th>c</th>\n",
       "      <th>d</th>\n",
       "      <th>e</th>\n",
       "    </tr>\n",
       "  </thead>\n",
       "  <tbody>\n",
       "    <tr>\n",
       "      <th>0</th>\n",
       "      <td>0</td>\n",
       "      <td>1</td>\n",
       "      <td>2</td>\n",
       "      <td>3</td>\n",
       "      <td>4</td>\n",
       "    </tr>\n",
       "    <tr>\n",
       "      <th>1</th>\n",
       "      <td>5</td>\n",
       "      <td>6</td>\n",
       "      <td>7</td>\n",
       "      <td>8</td>\n",
       "      <td>9</td>\n",
       "    </tr>\n",
       "  </tbody>\n",
       "</table>\n",
       "</div>"
      ],
      "text/plain": [
       "   a  b  c  d  e\n",
       "0  0  1  2  3  4\n",
       "1  5  6  7  8  9"
      ]
     },
     "execution_count": 6,
     "metadata": {},
     "output_type": "execute_result"
    }
   ],
   "source": [
    "df1 = df.copy()\n",
    "df1"
   ]
  },
  {
   "cell_type": "code",
   "execution_count": 11,
   "id": "487abe9a",
   "metadata": {},
   "outputs": [
    {
     "data": {
      "text/html": [
       "<div>\n",
       "<style scoped>\n",
       "    .dataframe tbody tr th:only-of-type {\n",
       "        vertical-align: middle;\n",
       "    }\n",
       "\n",
       "    .dataframe tbody tr th {\n",
       "        vertical-align: top;\n",
       "    }\n",
       "\n",
       "    .dataframe thead th {\n",
       "        text-align: right;\n",
       "    }\n",
       "</style>\n",
       "<table border=\"1\" class=\"dataframe\">\n",
       "  <thead>\n",
       "    <tr style=\"text-align: right;\">\n",
       "      <th></th>\n",
       "      <th>a</th>\n",
       "      <th>b</th>\n",
       "      <th>c</th>\n",
       "      <th>d</th>\n",
       "      <th>e</th>\n",
       "      <th>7</th>\n",
       "    </tr>\n",
       "  </thead>\n",
       "  <tbody>\n",
       "    <tr>\n",
       "      <th>0</th>\n",
       "      <td>0.0</td>\n",
       "      <td>1.0</td>\n",
       "      <td>2.0</td>\n",
       "      <td>3.0</td>\n",
       "      <td>4.0</td>\n",
       "      <td>NaN</td>\n",
       "    </tr>\n",
       "    <tr>\n",
       "      <th>1</th>\n",
       "      <td>5.0</td>\n",
       "      <td>6.0</td>\n",
       "      <td>7.0</td>\n",
       "      <td>8.0</td>\n",
       "      <td>9.0</td>\n",
       "      <td>NaN</td>\n",
       "    </tr>\n",
       "    <tr>\n",
       "      <th>3</th>\n",
       "      <td>0.0</td>\n",
       "      <td>0.0</td>\n",
       "      <td>0.0</td>\n",
       "      <td>0.0</td>\n",
       "      <td>0.0</td>\n",
       "      <td>NaN</td>\n",
       "    </tr>\n",
       "    <tr>\n",
       "      <th>5</th>\n",
       "      <td>NaN</td>\n",
       "      <td>NaN</td>\n",
       "      <td>NaN</td>\n",
       "      <td>NaN</td>\n",
       "      <td>NaN</td>\n",
       "      <td>0.0</td>\n",
       "    </tr>\n",
       "  </tbody>\n",
       "</table>\n",
       "</div>"
      ],
      "text/plain": [
       "     a    b    c    d    e    7\n",
       "0  0.0  1.0  2.0  3.0  4.0  NaN\n",
       "1  5.0  6.0  7.0  8.0  9.0  NaN\n",
       "3  0.0  0.0  0.0  0.0  0.0  NaN\n",
       "5  NaN  NaN  NaN  NaN  NaN  0.0"
      ]
     },
     "execution_count": 11,
     "metadata": {},
     "output_type": "execute_result"
    }
   ],
   "source": [
    "df1.loc[5,7] = 0\n",
    "df1"
   ]
  },
  {
   "cell_type": "code",
   "execution_count": 12,
   "id": "ddb1cc19",
   "metadata": {},
   "outputs": [
    {
     "data": {
      "text/html": [
       "<div>\n",
       "<style scoped>\n",
       "    .dataframe tbody tr th:only-of-type {\n",
       "        vertical-align: middle;\n",
       "    }\n",
       "\n",
       "    .dataframe tbody tr th {\n",
       "        vertical-align: top;\n",
       "    }\n",
       "\n",
       "    .dataframe thead th {\n",
       "        text-align: right;\n",
       "    }\n",
       "</style>\n",
       "<table border=\"1\" class=\"dataframe\">\n",
       "  <thead>\n",
       "    <tr style=\"text-align: right;\">\n",
       "      <th></th>\n",
       "      <th>a</th>\n",
       "      <th>b</th>\n",
       "      <th>c</th>\n",
       "      <th>d</th>\n",
       "      <th>e</th>\n",
       "      <th>7</th>\n",
       "    </tr>\n",
       "  </thead>\n",
       "  <tbody>\n",
       "    <tr>\n",
       "      <th>0</th>\n",
       "      <td>0.0</td>\n",
       "      <td>1.0</td>\n",
       "      <td>2.0</td>\n",
       "      <td>3.0</td>\n",
       "      <td>4.0</td>\n",
       "      <td>NaN</td>\n",
       "    </tr>\n",
       "    <tr>\n",
       "      <th>1</th>\n",
       "      <td>5.0</td>\n",
       "      <td>6.0</td>\n",
       "      <td>7.0</td>\n",
       "      <td>8.0</td>\n",
       "      <td>9.0</td>\n",
       "      <td>NaN</td>\n",
       "    </tr>\n",
       "    <tr>\n",
       "      <th>3</th>\n",
       "      <td>0.0</td>\n",
       "      <td>0.0</td>\n",
       "      <td>0.0</td>\n",
       "      <td>0.0</td>\n",
       "      <td>0.0</td>\n",
       "      <td>NaN</td>\n",
       "    </tr>\n",
       "    <tr>\n",
       "      <th>5</th>\n",
       "      <td>0.0</td>\n",
       "      <td>0.0</td>\n",
       "      <td>0.0</td>\n",
       "      <td>0.0</td>\n",
       "      <td>0.0</td>\n",
       "      <td>0.0</td>\n",
       "    </tr>\n",
       "  </tbody>\n",
       "</table>\n",
       "</div>"
      ],
      "text/plain": [
       "     a    b    c    d    e    7\n",
       "0  0.0  1.0  2.0  3.0  4.0  NaN\n",
       "1  5.0  6.0  7.0  8.0  9.0  NaN\n",
       "3  0.0  0.0  0.0  0.0  0.0  NaN\n",
       "5  0.0  0.0  0.0  0.0  0.0  0.0"
      ]
     },
     "execution_count": 12,
     "metadata": {},
     "output_type": "execute_result"
    }
   ],
   "source": [
    "df1.loc[5] = 0\n",
    "df1"
   ]
  },
  {
   "cell_type": "code",
   "execution_count": 13,
   "id": "6f052efa",
   "metadata": {},
   "outputs": [
    {
     "data": {
      "text/html": [
       "<div>\n",
       "<style scoped>\n",
       "    .dataframe tbody tr th:only-of-type {\n",
       "        vertical-align: middle;\n",
       "    }\n",
       "\n",
       "    .dataframe tbody tr th {\n",
       "        vertical-align: top;\n",
       "    }\n",
       "\n",
       "    .dataframe thead th {\n",
       "        text-align: right;\n",
       "    }\n",
       "</style>\n",
       "<table border=\"1\" class=\"dataframe\">\n",
       "  <thead>\n",
       "    <tr style=\"text-align: right;\">\n",
       "      <th></th>\n",
       "      <th>a</th>\n",
       "      <th>b</th>\n",
       "      <th>c</th>\n",
       "      <th>d</th>\n",
       "      <th>e</th>\n",
       "      <th>7</th>\n",
       "      <th>7</th>\n",
       "    </tr>\n",
       "  </thead>\n",
       "  <tbody>\n",
       "    <tr>\n",
       "      <th>0</th>\n",
       "      <td>0.0</td>\n",
       "      <td>1.0</td>\n",
       "      <td>2.0</td>\n",
       "      <td>3.0</td>\n",
       "      <td>4.0</td>\n",
       "      <td>NaN</td>\n",
       "      <td>5</td>\n",
       "    </tr>\n",
       "    <tr>\n",
       "      <th>1</th>\n",
       "      <td>5.0</td>\n",
       "      <td>6.0</td>\n",
       "      <td>7.0</td>\n",
       "      <td>8.0</td>\n",
       "      <td>9.0</td>\n",
       "      <td>NaN</td>\n",
       "      <td>5</td>\n",
       "    </tr>\n",
       "    <tr>\n",
       "      <th>3</th>\n",
       "      <td>0.0</td>\n",
       "      <td>0.0</td>\n",
       "      <td>0.0</td>\n",
       "      <td>0.0</td>\n",
       "      <td>0.0</td>\n",
       "      <td>NaN</td>\n",
       "      <td>5</td>\n",
       "    </tr>\n",
       "    <tr>\n",
       "      <th>5</th>\n",
       "      <td>0.0</td>\n",
       "      <td>0.0</td>\n",
       "      <td>0.0</td>\n",
       "      <td>0.0</td>\n",
       "      <td>0.0</td>\n",
       "      <td>0.0</td>\n",
       "      <td>5</td>\n",
       "    </tr>\n",
       "  </tbody>\n",
       "</table>\n",
       "</div>"
      ],
      "text/plain": [
       "     a    b    c    d    e    7  7\n",
       "0  0.0  1.0  2.0  3.0  4.0  NaN  5\n",
       "1  5.0  6.0  7.0  8.0  9.0  NaN  5\n",
       "3  0.0  0.0  0.0  0.0  0.0  NaN  5\n",
       "5  0.0  0.0  0.0  0.0  0.0  0.0  5"
      ]
     },
     "execution_count": 13,
     "metadata": {},
     "output_type": "execute_result"
    }
   ],
   "source": [
    "df1[['7']] = 5\n",
    "df1"
   ]
  },
  {
   "cell_type": "code",
   "execution_count": 14,
   "id": "f12af896",
   "metadata": {},
   "outputs": [
    {
     "data": {
      "text/html": [
       "<div>\n",
       "<style scoped>\n",
       "    .dataframe tbody tr th:only-of-type {\n",
       "        vertical-align: middle;\n",
       "    }\n",
       "\n",
       "    .dataframe tbody tr th {\n",
       "        vertical-align: top;\n",
       "    }\n",
       "\n",
       "    .dataframe thead th {\n",
       "        text-align: right;\n",
       "    }\n",
       "</style>\n",
       "<table border=\"1\" class=\"dataframe\">\n",
       "  <thead>\n",
       "    <tr style=\"text-align: right;\">\n",
       "      <th></th>\n",
       "      <th>a</th>\n",
       "      <th>b</th>\n",
       "      <th>c</th>\n",
       "      <th>d</th>\n",
       "      <th>e</th>\n",
       "      <th>7</th>\n",
       "    </tr>\n",
       "  </thead>\n",
       "  <tbody>\n",
       "    <tr>\n",
       "      <th>0</th>\n",
       "      <td>0.0</td>\n",
       "      <td>1.0</td>\n",
       "      <td>2.0</td>\n",
       "      <td>3.0</td>\n",
       "      <td>4.0</td>\n",
       "      <td>NaN</td>\n",
       "    </tr>\n",
       "    <tr>\n",
       "      <th>1</th>\n",
       "      <td>5.0</td>\n",
       "      <td>6.0</td>\n",
       "      <td>7.0</td>\n",
       "      <td>8.0</td>\n",
       "      <td>9.0</td>\n",
       "      <td>NaN</td>\n",
       "    </tr>\n",
       "    <tr>\n",
       "      <th>3</th>\n",
       "      <td>0.0</td>\n",
       "      <td>0.0</td>\n",
       "      <td>0.0</td>\n",
       "      <td>0.0</td>\n",
       "      <td>0.0</td>\n",
       "      <td>NaN</td>\n",
       "    </tr>\n",
       "    <tr>\n",
       "      <th>5</th>\n",
       "      <td>0.0</td>\n",
       "      <td>0.0</td>\n",
       "      <td>0.0</td>\n",
       "      <td>0.0</td>\n",
       "      <td>0.0</td>\n",
       "      <td>0.0</td>\n",
       "    </tr>\n",
       "  </tbody>\n",
       "</table>\n",
       "</div>"
      ],
      "text/plain": [
       "     a    b    c    d    e    7\n",
       "0  0.0  1.0  2.0  3.0  4.0  NaN\n",
       "1  5.0  6.0  7.0  8.0  9.0  NaN\n",
       "3  0.0  0.0  0.0  0.0  0.0  NaN\n",
       "5  0.0  0.0  0.0  0.0  0.0  0.0"
      ]
     },
     "execution_count": 14,
     "metadata": {},
     "output_type": "execute_result"
    }
   ],
   "source": [
    "df1.drop(['7'],axis=1,inplace=True)\n",
    "df1"
   ]
  },
  {
   "cell_type": "code",
   "execution_count": 16,
   "id": "a54d8b15",
   "metadata": {},
   "outputs": [
    {
     "data": {
      "text/html": [
       "<div>\n",
       "<style scoped>\n",
       "    .dataframe tbody tr th:only-of-type {\n",
       "        vertical-align: middle;\n",
       "    }\n",
       "\n",
       "    .dataframe tbody tr th {\n",
       "        vertical-align: top;\n",
       "    }\n",
       "\n",
       "    .dataframe thead th {\n",
       "        text-align: right;\n",
       "    }\n",
       "</style>\n",
       "<table border=\"1\" class=\"dataframe\">\n",
       "  <thead>\n",
       "    <tr style=\"text-align: right;\">\n",
       "      <th></th>\n",
       "      <th>a</th>\n",
       "      <th>b</th>\n",
       "      <th>c</th>\n",
       "      <th>d</th>\n",
       "      <th>e</th>\n",
       "      <th>7</th>\n",
       "      <th>7</th>\n",
       "    </tr>\n",
       "  </thead>\n",
       "  <tbody>\n",
       "    <tr>\n",
       "      <th>0</th>\n",
       "      <td>0.0</td>\n",
       "      <td>1.0</td>\n",
       "      <td>2.0</td>\n",
       "      <td>3.0</td>\n",
       "      <td>4.0</td>\n",
       "      <td>0</td>\n",
       "      <td>0</td>\n",
       "    </tr>\n",
       "    <tr>\n",
       "      <th>1</th>\n",
       "      <td>5.0</td>\n",
       "      <td>6.0</td>\n",
       "      <td>7.0</td>\n",
       "      <td>8.0</td>\n",
       "      <td>9.0</td>\n",
       "      <td>0</td>\n",
       "      <td>0</td>\n",
       "    </tr>\n",
       "    <tr>\n",
       "      <th>3</th>\n",
       "      <td>0.0</td>\n",
       "      <td>0.0</td>\n",
       "      <td>0.0</td>\n",
       "      <td>0.0</td>\n",
       "      <td>0.0</td>\n",
       "      <td>0</td>\n",
       "      <td>0</td>\n",
       "    </tr>\n",
       "    <tr>\n",
       "      <th>5</th>\n",
       "      <td>0.0</td>\n",
       "      <td>0.0</td>\n",
       "      <td>0.0</td>\n",
       "      <td>0.0</td>\n",
       "      <td>0.0</td>\n",
       "      <td>0</td>\n",
       "      <td>0</td>\n",
       "    </tr>\n",
       "  </tbody>\n",
       "</table>\n",
       "</div>"
      ],
      "text/plain": [
       "     a    b    c    d    e  7  7\n",
       "0  0.0  1.0  2.0  3.0  4.0  0  0\n",
       "1  5.0  6.0  7.0  8.0  9.0  0  0\n",
       "3  0.0  0.0  0.0  0.0  0.0  0  0\n",
       "5  0.0  0.0  0.0  0.0  0.0  0  0"
      ]
     },
     "execution_count": 16,
     "metadata": {},
     "output_type": "execute_result"
    }
   ],
   "source": [
    "df1.iloc[:,5] = 0\n",
    "df1"
   ]
  },
  {
   "cell_type": "code",
   "execution_count": 19,
   "id": "26af7b26",
   "metadata": {},
   "outputs": [
    {
     "data": {
      "text/html": [
       "<div>\n",
       "<style scoped>\n",
       "    .dataframe tbody tr th:only-of-type {\n",
       "        vertical-align: middle;\n",
       "    }\n",
       "\n",
       "    .dataframe tbody tr th {\n",
       "        vertical-align: top;\n",
       "    }\n",
       "\n",
       "    .dataframe thead th {\n",
       "        text-align: right;\n",
       "    }\n",
       "</style>\n",
       "<table border=\"1\" class=\"dataframe\">\n",
       "  <thead>\n",
       "    <tr style=\"text-align: right;\">\n",
       "      <th></th>\n",
       "      <th>a</th>\n",
       "      <th>b</th>\n",
       "      <th>c</th>\n",
       "      <th>d</th>\n",
       "      <th>e</th>\n",
       "    </tr>\n",
       "  </thead>\n",
       "  <tbody>\n",
       "    <tr>\n",
       "      <th>0</th>\n",
       "      <td>0.0</td>\n",
       "      <td>1.0</td>\n",
       "      <td>2.0</td>\n",
       "      <td>3.0</td>\n",
       "      <td>4.0</td>\n",
       "    </tr>\n",
       "    <tr>\n",
       "      <th>1</th>\n",
       "      <td>5.0</td>\n",
       "      <td>6.0</td>\n",
       "      <td>7.0</td>\n",
       "      <td>8.0</td>\n",
       "      <td>9.0</td>\n",
       "    </tr>\n",
       "    <tr>\n",
       "      <th>3</th>\n",
       "      <td>0.0</td>\n",
       "      <td>0.0</td>\n",
       "      <td>0.0</td>\n",
       "      <td>0.0</td>\n",
       "      <td>0.0</td>\n",
       "    </tr>\n",
       "    <tr>\n",
       "      <th>5</th>\n",
       "      <td>0.0</td>\n",
       "      <td>0.0</td>\n",
       "      <td>0.0</td>\n",
       "      <td>0.0</td>\n",
       "      <td>0.0</td>\n",
       "    </tr>\n",
       "  </tbody>\n",
       "</table>\n",
       "</div>"
      ],
      "text/plain": [
       "     a    b    c    d    e\n",
       "0  0.0  1.0  2.0  3.0  4.0\n",
       "1  5.0  6.0  7.0  8.0  9.0\n",
       "3  0.0  0.0  0.0  0.0  0.0\n",
       "5  0.0  0.0  0.0  0.0  0.0"
      ]
     },
     "execution_count": 19,
     "metadata": {},
     "output_type": "execute_result"
    }
   ],
   "source": [
    "df1.drop([7],axis=1,inplace=True)\n",
    "df1"
   ]
  },
  {
   "cell_type": "code",
   "execution_count": 23,
   "id": "e054cdc8",
   "metadata": {},
   "outputs": [
    {
     "data": {
      "text/html": [
       "<div>\n",
       "<style scoped>\n",
       "    .dataframe tbody tr th:only-of-type {\n",
       "        vertical-align: middle;\n",
       "    }\n",
       "\n",
       "    .dataframe tbody tr th {\n",
       "        vertical-align: top;\n",
       "    }\n",
       "\n",
       "    .dataframe thead th {\n",
       "        text-align: right;\n",
       "    }\n",
       "</style>\n",
       "<table border=\"1\" class=\"dataframe\">\n",
       "  <thead>\n",
       "    <tr style=\"text-align: right;\">\n",
       "      <th></th>\n",
       "      <th>Unnamed: 0.1</th>\n",
       "      <th>a</th>\n",
       "      <th>b</th>\n",
       "      <th>c</th>\n",
       "      <th>d</th>\n",
       "      <th>e</th>\n",
       "    </tr>\n",
       "  </thead>\n",
       "  <tbody>\n",
       "    <tr>\n",
       "      <th>0</th>\n",
       "      <td>0</td>\n",
       "      <td>0</td>\n",
       "      <td>1</td>\n",
       "      <td>2</td>\n",
       "      <td>3</td>\n",
       "      <td>4</td>\n",
       "    </tr>\n",
       "    <tr>\n",
       "      <th>1</th>\n",
       "      <td>1</td>\n",
       "      <td>5</td>\n",
       "      <td>6</td>\n",
       "      <td>7</td>\n",
       "      <td>8</td>\n",
       "      <td>9</td>\n",
       "    </tr>\n",
       "    <tr>\n",
       "      <th>2</th>\n",
       "      <td>3</td>\n",
       "      <td>0</td>\n",
       "      <td>0</td>\n",
       "      <td>0</td>\n",
       "      <td>0</td>\n",
       "      <td>0</td>\n",
       "    </tr>\n",
       "    <tr>\n",
       "      <th>3</th>\n",
       "      <td>5</td>\n",
       "      <td>0</td>\n",
       "      <td>0</td>\n",
       "      <td>0</td>\n",
       "      <td>0</td>\n",
       "      <td>0</td>\n",
       "    </tr>\n",
       "  </tbody>\n",
       "</table>\n",
       "</div>"
      ],
      "text/plain": [
       "   Unnamed: 0.1  a  b  c  d  e\n",
       "0             0  0  1  2  3  4\n",
       "1             1  5  6  7  8  9\n",
       "2             3  0  0  0  0  0\n",
       "3             5  0  0  0  0  0"
      ]
     },
     "execution_count": 23,
     "metadata": {},
     "output_type": "execute_result"
    }
   ],
   "source": [
    "df1 = df1.astype(int)\n",
    "df1"
   ]
  },
  {
   "cell_type": "code",
   "execution_count": 30,
   "id": "cbe424a8",
   "metadata": {},
   "outputs": [
    {
     "data": {
      "text/html": [
       "<div>\n",
       "<style scoped>\n",
       "    .dataframe tbody tr th:only-of-type {\n",
       "        vertical-align: middle;\n",
       "    }\n",
       "\n",
       "    .dataframe tbody tr th {\n",
       "        vertical-align: top;\n",
       "    }\n",
       "\n",
       "    .dataframe thead th {\n",
       "        text-align: right;\n",
       "    }\n",
       "</style>\n",
       "<table border=\"1\" class=\"dataframe\">\n",
       "  <thead>\n",
       "    <tr style=\"text-align: right;\">\n",
       "      <th></th>\n",
       "      <th>a</th>\n",
       "      <th>b</th>\n",
       "      <th>c</th>\n",
       "      <th>d</th>\n",
       "      <th>e</th>\n",
       "    </tr>\n",
       "  </thead>\n",
       "  <tbody>\n",
       "    <tr>\n",
       "      <th>0</th>\n",
       "      <td>0</td>\n",
       "      <td>1</td>\n",
       "      <td>2</td>\n",
       "      <td>3</td>\n",
       "      <td>4</td>\n",
       "    </tr>\n",
       "    <tr>\n",
       "      <th>1</th>\n",
       "      <td>5</td>\n",
       "      <td>6</td>\n",
       "      <td>7</td>\n",
       "      <td>8</td>\n",
       "      <td>9</td>\n",
       "    </tr>\n",
       "    <tr>\n",
       "      <th>2</th>\n",
       "      <td>0</td>\n",
       "      <td>0</td>\n",
       "      <td>0</td>\n",
       "      <td>0</td>\n",
       "      <td>0</td>\n",
       "    </tr>\n",
       "    <tr>\n",
       "      <th>3</th>\n",
       "      <td>0</td>\n",
       "      <td>0</td>\n",
       "      <td>0</td>\n",
       "      <td>0</td>\n",
       "      <td>0</td>\n",
       "    </tr>\n",
       "  </tbody>\n",
       "</table>\n",
       "</div>"
      ],
      "text/plain": [
       "   a  b  c  d  e\n",
       "0  0  1  2  3  4\n",
       "1  5  6  7  8  9\n",
       "2  0  0  0  0  0\n",
       "3  0  0  0  0  0"
      ]
     },
     "execution_count": 30,
     "metadata": {},
     "output_type": "execute_result"
    }
   ],
   "source": [
    "df1 = df.copy()\n",
    "df1.loc[2,:] = 0\n",
    "df1.loc[3,:] = 0\n",
    "df1 = df1.astype(int)\n",
    "df1"
   ]
  },
  {
   "cell_type": "code",
   "execution_count": 31,
   "id": "534c4200",
   "metadata": {},
   "outputs": [
    {
     "data": {
      "text/html": [
       "<div>\n",
       "<style scoped>\n",
       "    .dataframe tbody tr th:only-of-type {\n",
       "        vertical-align: middle;\n",
       "    }\n",
       "\n",
       "    .dataframe tbody tr th {\n",
       "        vertical-align: top;\n",
       "    }\n",
       "\n",
       "    .dataframe thead th {\n",
       "        text-align: right;\n",
       "    }\n",
       "</style>\n",
       "<table border=\"1\" class=\"dataframe\">\n",
       "  <thead>\n",
       "    <tr style=\"text-align: right;\">\n",
       "      <th></th>\n",
       "      <th>a</th>\n",
       "      <th>b</th>\n",
       "      <th>c</th>\n",
       "      <th>d</th>\n",
       "      <th>e</th>\n",
       "    </tr>\n",
       "  </thead>\n",
       "  <tbody>\n",
       "    <tr>\n",
       "      <th>0</th>\n",
       "      <td>0</td>\n",
       "      <td>1</td>\n",
       "      <td>2</td>\n",
       "      <td>3</td>\n",
       "      <td>4</td>\n",
       "    </tr>\n",
       "    <tr>\n",
       "      <th>1</th>\n",
       "      <td>5</td>\n",
       "      <td>6</td>\n",
       "      <td>7</td>\n",
       "      <td>8</td>\n",
       "      <td>9</td>\n",
       "    </tr>\n",
       "    <tr>\n",
       "      <th>2</th>\n",
       "      <td>0</td>\n",
       "      <td>0</td>\n",
       "      <td>0</td>\n",
       "      <td>0</td>\n",
       "      <td>0</td>\n",
       "    </tr>\n",
       "    <tr>\n",
       "      <th>3</th>\n",
       "      <td>0</td>\n",
       "      <td>0</td>\n",
       "      <td>0</td>\n",
       "      <td>0</td>\n",
       "      <td>0</td>\n",
       "    </tr>\n",
       "  </tbody>\n",
       "</table>\n",
       "</div>"
      ],
      "text/plain": [
       "   a  b  c  d  e\n",
       "0  0  1  2  3  4\n",
       "1  5  6  7  8  9\n",
       "2  0  0  0  0  0\n",
       "3  0  0  0  0  0"
      ]
     },
     "execution_count": 31,
     "metadata": {},
     "output_type": "execute_result"
    }
   ],
   "source": [
    "df1.to_csv('dataset/test1.csv')\n",
    "df1 = pd.read_csv('dataset/test1.csv',index_col=0)\n",
    "df1"
   ]
  },
  {
   "cell_type": "code",
   "execution_count": 33,
   "id": "57b935a0",
   "metadata": {},
   "outputs": [
    {
     "data": {
      "text/html": [
       "<div>\n",
       "<style scoped>\n",
       "    .dataframe tbody tr th:only-of-type {\n",
       "        vertical-align: middle;\n",
       "    }\n",
       "\n",
       "    .dataframe tbody tr th {\n",
       "        vertical-align: top;\n",
       "    }\n",
       "\n",
       "    .dataframe thead th {\n",
       "        text-align: right;\n",
       "    }\n",
       "</style>\n",
       "<table border=\"1\" class=\"dataframe\">\n",
       "  <thead>\n",
       "    <tr style=\"text-align: right;\">\n",
       "      <th></th>\n",
       "      <th>a</th>\n",
       "      <th>b</th>\n",
       "      <th>c</th>\n",
       "      <th>d</th>\n",
       "      <th>e</th>\n",
       "    </tr>\n",
       "  </thead>\n",
       "  <tbody>\n",
       "    <tr>\n",
       "      <th>0</th>\n",
       "      <td>0</td>\n",
       "      <td>1</td>\n",
       "      <td>2</td>\n",
       "      <td>3</td>\n",
       "      <td>4</td>\n",
       "    </tr>\n",
       "    <tr>\n",
       "      <th>1</th>\n",
       "      <td>5</td>\n",
       "      <td>6</td>\n",
       "      <td>7</td>\n",
       "      <td>8</td>\n",
       "      <td>9</td>\n",
       "    </tr>\n",
       "    <tr>\n",
       "      <th>2</th>\n",
       "      <td>2</td>\n",
       "      <td>2</td>\n",
       "      <td>2</td>\n",
       "      <td>2</td>\n",
       "      <td>2</td>\n",
       "    </tr>\n",
       "    <tr>\n",
       "      <th>3</th>\n",
       "      <td>3</td>\n",
       "      <td>3</td>\n",
       "      <td>3</td>\n",
       "      <td>3</td>\n",
       "      <td>3</td>\n",
       "    </tr>\n",
       "  </tbody>\n",
       "</table>\n",
       "</div>"
      ],
      "text/plain": [
       "   a  b  c  d  e\n",
       "0  0  1  2  3  4\n",
       "1  5  6  7  8  9\n",
       "2  2  2  2  2  2\n",
       "3  3  3  3  3  3"
      ]
     },
     "execution_count": 33,
     "metadata": {},
     "output_type": "execute_result"
    }
   ],
   "source": [
    "# json 파일 읽고 쓰기\n",
    "df1.iloc[2] = 2\n",
    "df1.iloc[3] = 3\n",
    "df1"
   ]
  },
  {
   "cell_type": "code",
   "execution_count": 34,
   "id": "6c828e43",
   "metadata": {},
   "outputs": [
    {
     "data": {
      "text/html": [
       "<div>\n",
       "<style scoped>\n",
       "    .dataframe tbody tr th:only-of-type {\n",
       "        vertical-align: middle;\n",
       "    }\n",
       "\n",
       "    .dataframe tbody tr th {\n",
       "        vertical-align: top;\n",
       "    }\n",
       "\n",
       "    .dataframe thead th {\n",
       "        text-align: right;\n",
       "    }\n",
       "</style>\n",
       "<table border=\"1\" class=\"dataframe\">\n",
       "  <thead>\n",
       "    <tr style=\"text-align: right;\">\n",
       "      <th></th>\n",
       "      <th>a</th>\n",
       "      <th>b</th>\n",
       "      <th>c</th>\n",
       "      <th>d</th>\n",
       "      <th>e</th>\n",
       "    </tr>\n",
       "  </thead>\n",
       "  <tbody>\n",
       "    <tr>\n",
       "      <th>0</th>\n",
       "      <td>0</td>\n",
       "      <td>1</td>\n",
       "      <td>2</td>\n",
       "      <td>3</td>\n",
       "      <td>4</td>\n",
       "    </tr>\n",
       "    <tr>\n",
       "      <th>1</th>\n",
       "      <td>5</td>\n",
       "      <td>6</td>\n",
       "      <td>7</td>\n",
       "      <td>8</td>\n",
       "      <td>9</td>\n",
       "    </tr>\n",
       "    <tr>\n",
       "      <th>2</th>\n",
       "      <td>2</td>\n",
       "      <td>2</td>\n",
       "      <td>2</td>\n",
       "      <td>2</td>\n",
       "      <td>2</td>\n",
       "    </tr>\n",
       "    <tr>\n",
       "      <th>3</th>\n",
       "      <td>3</td>\n",
       "      <td>3</td>\n",
       "      <td>3</td>\n",
       "      <td>3</td>\n",
       "      <td>3</td>\n",
       "    </tr>\n",
       "  </tbody>\n",
       "</table>\n",
       "</div>"
      ],
      "text/plain": [
       "   a  b  c  d  e\n",
       "0  0  1  2  3  4\n",
       "1  5  6  7  8  9\n",
       "2  2  2  2  2  2\n",
       "3  3  3  3  3  3"
      ]
     },
     "execution_count": 34,
     "metadata": {},
     "output_type": "execute_result"
    }
   ],
   "source": [
    "df1.to_json('dataset/test2.json')\n",
    "df_j = pd.read_json('dataset/test2.json')\n",
    "df_j"
   ]
  },
  {
   "cell_type": "code",
   "execution_count": 36,
   "id": "9889c718",
   "metadata": {},
   "outputs": [
    {
     "data": {
      "text/html": [
       "<div>\n",
       "<style scoped>\n",
       "    .dataframe tbody tr th:only-of-type {\n",
       "        vertical-align: middle;\n",
       "    }\n",
       "\n",
       "    .dataframe tbody tr th {\n",
       "        vertical-align: top;\n",
       "    }\n",
       "\n",
       "    .dataframe thead th {\n",
       "        text-align: right;\n",
       "    }\n",
       "</style>\n",
       "<table border=\"1\" class=\"dataframe\">\n",
       "  <thead>\n",
       "    <tr style=\"text-align: right;\">\n",
       "      <th></th>\n",
       "      <th>a</th>\n",
       "      <th>b</th>\n",
       "      <th>c</th>\n",
       "      <th>d</th>\n",
       "      <th>e</th>\n",
       "    </tr>\n",
       "  </thead>\n",
       "  <tbody>\n",
       "    <tr>\n",
       "      <th>0</th>\n",
       "      <td>0</td>\n",
       "      <td>1</td>\n",
       "      <td>2</td>\n",
       "      <td>3</td>\n",
       "      <td>4</td>\n",
       "    </tr>\n",
       "    <tr>\n",
       "      <th>1</th>\n",
       "      <td>5</td>\n",
       "      <td>6</td>\n",
       "      <td>7</td>\n",
       "      <td>8</td>\n",
       "      <td>9</td>\n",
       "    </tr>\n",
       "    <tr>\n",
       "      <th>2</th>\n",
       "      <td>2</td>\n",
       "      <td>2</td>\n",
       "      <td>2</td>\n",
       "      <td>2</td>\n",
       "      <td>2</td>\n",
       "    </tr>\n",
       "    <tr>\n",
       "      <th>3</th>\n",
       "      <td>3</td>\n",
       "      <td>3</td>\n",
       "      <td>3</td>\n",
       "      <td>3</td>\n",
       "      <td>3</td>\n",
       "    </tr>\n",
       "  </tbody>\n",
       "</table>\n",
       "</div>"
      ],
      "text/plain": [
       "   a  b  c  d  e\n",
       "0  0  1  2  3  4\n",
       "1  5  6  7  8  9\n",
       "2  2  2  2  2  2\n",
       "3  3  3  3  3  3"
      ]
     },
     "execution_count": 36,
     "metadata": {},
     "output_type": "execute_result"
    }
   ],
   "source": [
    "# 바이너리 파일 읽고 쓰기\n",
    "df1.to_pickle('dataset/test3.pkl')\n",
    "df1 = pd.read_pickle('dataset/test3.pkl')\n",
    "df1"
   ]
  },
  {
   "cell_type": "code",
   "execution_count": null,
   "id": "9bc4b30e",
   "metadata": {},
   "outputs": [],
   "source": [
    "# Q. 간단한 데이터프레임 작성 후 csv, json, pickle 형태로 \n",
    "# 저장 후 다시 불러와서 출력하세요"
   ]
  },
  {
   "cell_type": "code",
   "execution_count": 37,
   "id": "1cb5fb96",
   "metadata": {},
   "outputs": [
    {
     "name": "stdout",
     "output_type": "stream",
     "text": [
      "Requirement already satisfied: openpyxl in c:\\anaconda3\\envs\\cakd3\\lib\\site-packages (3.0.7)\n",
      "Requirement already satisfied: et-xmlfile in c:\\anaconda3\\envs\\cakd3\\lib\\site-packages (from openpyxl) (1.1.0)\n"
     ]
    }
   ],
   "source": [
    "!pip install openpyxl\n",
    "# !pip install xlrd"
   ]
  },
  {
   "cell_type": "code",
   "execution_count": 49,
   "id": "0521b63a",
   "metadata": {},
   "outputs": [
    {
     "data": {
      "text/html": [
       "<div>\n",
       "<style scoped>\n",
       "    .dataframe tbody tr th:only-of-type {\n",
       "        vertical-align: middle;\n",
       "    }\n",
       "\n",
       "    .dataframe tbody tr th {\n",
       "        vertical-align: top;\n",
       "    }\n",
       "\n",
       "    .dataframe thead th {\n",
       "        text-align: right;\n",
       "    }\n",
       "</style>\n",
       "<table border=\"1\" class=\"dataframe\">\n",
       "  <thead>\n",
       "    <tr style=\"text-align: right;\">\n",
       "      <th></th>\n",
       "      <th>mpg</th>\n",
       "      <th>cylinders</th>\n",
       "      <th>displacement</th>\n",
       "      <th>horsepower</th>\n",
       "      <th>weight</th>\n",
       "      <th>acceleration</th>\n",
       "      <th>model year</th>\n",
       "      <th>origin</th>\n",
       "      <th>car name</th>\n",
       "    </tr>\n",
       "  </thead>\n",
       "  <tbody>\n",
       "    <tr>\n",
       "      <th>0</th>\n",
       "      <td>18.0</td>\n",
       "      <td>8</td>\n",
       "      <td>307.0</td>\n",
       "      <td>130</td>\n",
       "      <td>3504</td>\n",
       "      <td>12.0</td>\n",
       "      <td>70</td>\n",
       "      <td>1</td>\n",
       "      <td>chevrolet chevelle malibu</td>\n",
       "    </tr>\n",
       "    <tr>\n",
       "      <th>1</th>\n",
       "      <td>15.0</td>\n",
       "      <td>8</td>\n",
       "      <td>350.0</td>\n",
       "      <td>165</td>\n",
       "      <td>3693</td>\n",
       "      <td>11.5</td>\n",
       "      <td>70</td>\n",
       "      <td>1</td>\n",
       "      <td>buick skylark 320</td>\n",
       "    </tr>\n",
       "    <tr>\n",
       "      <th>2</th>\n",
       "      <td>18.0</td>\n",
       "      <td>8</td>\n",
       "      <td>318.0</td>\n",
       "      <td>150</td>\n",
       "      <td>3436</td>\n",
       "      <td>11.0</td>\n",
       "      <td>70</td>\n",
       "      <td>1</td>\n",
       "      <td>plymouth satellite</td>\n",
       "    </tr>\n",
       "    <tr>\n",
       "      <th>3</th>\n",
       "      <td>16.0</td>\n",
       "      <td>8</td>\n",
       "      <td>304.0</td>\n",
       "      <td>150</td>\n",
       "      <td>3433</td>\n",
       "      <td>12.0</td>\n",
       "      <td>70</td>\n",
       "      <td>1</td>\n",
       "      <td>amc rebel sst</td>\n",
       "    </tr>\n",
       "    <tr>\n",
       "      <th>4</th>\n",
       "      <td>17.0</td>\n",
       "      <td>8</td>\n",
       "      <td>302.0</td>\n",
       "      <td>140</td>\n",
       "      <td>3449</td>\n",
       "      <td>10.5</td>\n",
       "      <td>70</td>\n",
       "      <td>1</td>\n",
       "      <td>ford torino</td>\n",
       "    </tr>\n",
       "  </tbody>\n",
       "</table>\n",
       "</div>"
      ],
      "text/plain": [
       "    mpg  cylinders  displacement horsepower  weight  acceleration  model year  \\\n",
       "0  18.0          8         307.0        130    3504          12.0          70   \n",
       "1  15.0          8         350.0        165    3693          11.5          70   \n",
       "2  18.0          8         318.0        150    3436          11.0          70   \n",
       "3  16.0          8         304.0        150    3433          12.0          70   \n",
       "4  17.0          8         302.0        140    3449          10.5          70   \n",
       "\n",
       "   origin                   car name  \n",
       "0       1  chevrolet chevelle malibu  \n",
       "1       1          buick skylark 320  \n",
       "2       1         plymouth satellite  \n",
       "3       1              amc rebel sst  \n",
       "4       1                ford torino  "
      ]
     },
     "execution_count": 49,
     "metadata": {},
     "output_type": "execute_result"
    }
   ],
   "source": [
    "# 엑셀 파일 읽고 쓰기\n",
    "df = pd.read_excel('dataset/auto-mpg.xlsx')\n",
    "df.head()\n",
    "# df.to_excel('dataset/test5.xlsx')\n",
    "# df = pd.read_excel('dataset/test5.xlsx',index_col=0)\n",
    "# df"
   ]
  },
  {
   "cell_type": "code",
   "execution_count": 48,
   "id": "c0d133a8",
   "metadata": {},
   "outputs": [
    {
     "name": "stdout",
     "output_type": "stream",
     "text": [
      "<class 'pandas.core.frame.DataFrame'>\n",
      "RangeIndex: 398 entries, 0 to 397\n",
      "Data columns (total 9 columns):\n",
      " #   Column        Non-Null Count  Dtype  \n",
      "---  ------        --------------  -----  \n",
      " 0   mpg           398 non-null    float64\n",
      " 1   cylinders     398 non-null    int64  \n",
      " 2   displacement  398 non-null    float64\n",
      " 3   horsepower    398 non-null    object \n",
      " 4   weight        398 non-null    int64  \n",
      " 5   acceleration  398 non-null    float64\n",
      " 6   model year    398 non-null    int64  \n",
      " 7   origin        398 non-null    int64  \n",
      " 8   car name      398 non-null    object \n",
      "dtypes: float64(3), int64(4), object(2)\n",
      "memory usage: 28.1+ KB\n"
     ]
    }
   ],
   "source": [
    "df.info()"
   ]
  },
  {
   "cell_type": "code",
   "execution_count": 50,
   "id": "6ab14583",
   "metadata": {},
   "outputs": [
    {
     "data": {
      "text/html": [
       "<div>\n",
       "<style scoped>\n",
       "    .dataframe tbody tr th:only-of-type {\n",
       "        vertical-align: middle;\n",
       "    }\n",
       "\n",
       "    .dataframe tbody tr th {\n",
       "        vertical-align: top;\n",
       "    }\n",
       "\n",
       "    .dataframe thead th {\n",
       "        text-align: right;\n",
       "    }\n",
       "</style>\n",
       "<table border=\"1\" class=\"dataframe\">\n",
       "  <thead>\n",
       "    <tr style=\"text-align: right;\">\n",
       "      <th></th>\n",
       "      <th>mpg</th>\n",
       "      <th>cylinders</th>\n",
       "      <th>displacement</th>\n",
       "      <th>weight</th>\n",
       "      <th>acceleration</th>\n",
       "      <th>model year</th>\n",
       "      <th>origin</th>\n",
       "    </tr>\n",
       "  </thead>\n",
       "  <tbody>\n",
       "    <tr>\n",
       "      <th>count</th>\n",
       "      <td>398.000000</td>\n",
       "      <td>398.000000</td>\n",
       "      <td>398.000000</td>\n",
       "      <td>398.000000</td>\n",
       "      <td>398.000000</td>\n",
       "      <td>398.000000</td>\n",
       "      <td>398.000000</td>\n",
       "    </tr>\n",
       "    <tr>\n",
       "      <th>mean</th>\n",
       "      <td>23.514573</td>\n",
       "      <td>5.454774</td>\n",
       "      <td>193.425879</td>\n",
       "      <td>2970.424623</td>\n",
       "      <td>15.568090</td>\n",
       "      <td>76.010050</td>\n",
       "      <td>1.572864</td>\n",
       "    </tr>\n",
       "    <tr>\n",
       "      <th>std</th>\n",
       "      <td>7.815984</td>\n",
       "      <td>1.701004</td>\n",
       "      <td>104.269838</td>\n",
       "      <td>846.841774</td>\n",
       "      <td>2.757689</td>\n",
       "      <td>3.697627</td>\n",
       "      <td>0.802055</td>\n",
       "    </tr>\n",
       "    <tr>\n",
       "      <th>min</th>\n",
       "      <td>9.000000</td>\n",
       "      <td>3.000000</td>\n",
       "      <td>68.000000</td>\n",
       "      <td>1613.000000</td>\n",
       "      <td>8.000000</td>\n",
       "      <td>70.000000</td>\n",
       "      <td>1.000000</td>\n",
       "    </tr>\n",
       "    <tr>\n",
       "      <th>25%</th>\n",
       "      <td>17.500000</td>\n",
       "      <td>4.000000</td>\n",
       "      <td>104.250000</td>\n",
       "      <td>2223.750000</td>\n",
       "      <td>13.825000</td>\n",
       "      <td>73.000000</td>\n",
       "      <td>1.000000</td>\n",
       "    </tr>\n",
       "    <tr>\n",
       "      <th>50%</th>\n",
       "      <td>23.000000</td>\n",
       "      <td>4.000000</td>\n",
       "      <td>148.500000</td>\n",
       "      <td>2803.500000</td>\n",
       "      <td>15.500000</td>\n",
       "      <td>76.000000</td>\n",
       "      <td>1.000000</td>\n",
       "    </tr>\n",
       "    <tr>\n",
       "      <th>75%</th>\n",
       "      <td>29.000000</td>\n",
       "      <td>8.000000</td>\n",
       "      <td>262.000000</td>\n",
       "      <td>3608.000000</td>\n",
       "      <td>17.175000</td>\n",
       "      <td>79.000000</td>\n",
       "      <td>2.000000</td>\n",
       "    </tr>\n",
       "    <tr>\n",
       "      <th>max</th>\n",
       "      <td>46.600000</td>\n",
       "      <td>8.000000</td>\n",
       "      <td>455.000000</td>\n",
       "      <td>5140.000000</td>\n",
       "      <td>24.800000</td>\n",
       "      <td>82.000000</td>\n",
       "      <td>3.000000</td>\n",
       "    </tr>\n",
       "  </tbody>\n",
       "</table>\n",
       "</div>"
      ],
      "text/plain": [
       "              mpg   cylinders  displacement       weight  acceleration  \\\n",
       "count  398.000000  398.000000    398.000000   398.000000    398.000000   \n",
       "mean    23.514573    5.454774    193.425879  2970.424623     15.568090   \n",
       "std      7.815984    1.701004    104.269838   846.841774      2.757689   \n",
       "min      9.000000    3.000000     68.000000  1613.000000      8.000000   \n",
       "25%     17.500000    4.000000    104.250000  2223.750000     13.825000   \n",
       "50%     23.000000    4.000000    148.500000  2803.500000     15.500000   \n",
       "75%     29.000000    8.000000    262.000000  3608.000000     17.175000   \n",
       "max     46.600000    8.000000    455.000000  5140.000000     24.800000   \n",
       "\n",
       "       model year      origin  \n",
       "count  398.000000  398.000000  \n",
       "mean    76.010050    1.572864  \n",
       "std      3.697627    0.802055  \n",
       "min     70.000000    1.000000  \n",
       "25%     73.000000    1.000000  \n",
       "50%     76.000000    1.000000  \n",
       "75%     79.000000    2.000000  \n",
       "max     82.000000    3.000000  "
      ]
     },
     "execution_count": 50,
     "metadata": {},
     "output_type": "execute_result"
    }
   ],
   "source": [
    "df.describe()"
   ]
  },
  {
   "cell_type": "code",
   "execution_count": 53,
   "id": "342d112c",
   "metadata": {},
   "outputs": [
    {
     "data": {
      "text/plain": [
       "0"
      ]
     },
     "execution_count": 53,
     "metadata": {},
     "output_type": "execute_result"
    }
   ],
   "source": [
    "df.isnull().sum().sum()"
   ]
  },
  {
   "cell_type": "code",
   "execution_count": 57,
   "id": "1db55eef",
   "metadata": {},
   "outputs": [
    {
     "data": {
      "text/plain": [
       "<AxesSubplot:ylabel='Frequency'>"
      ]
     },
     "execution_count": 57,
     "metadata": {},
     "output_type": "execute_result"
    },
    {
     "data": {
      "image/png": "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\n",
      "text/plain": [
       "<Figure size 432x288 with 1 Axes>"
      ]
     },
     "metadata": {
      "needs_background": "light"
     },
     "output_type": "display_data"
    }
   ],
   "source": [
    "df.mpg\n",
    "df[['mpg']].plot(kind='hist')"
   ]
  },
  {
   "cell_type": "code",
   "execution_count": null,
   "id": "4b4142ac",
   "metadata": {},
   "outputs": [],
   "source": [
    "# 과제\n",
    "\n",
    "# 데이터 형식 과제로 생성한 데이터프레임을 csv, excel, pickle, json 파일로 \n",
    "# 저장하고 다시 읽어와서 출력하세요."
   ]
  },
  {
   "cell_type": "code",
   "execution_count": null,
   "id": "ecc0c5f5",
   "metadata": {},
   "outputs": [],
   "source": [
    "obj = \"\"\"\n",
    "{\"name\": \"Wes\",\n",
    " \"places_lived\": [\"United States\", \"Spain\", \"Germany\"],\n",
    " \"pet\": null,\n",
    " \"siblings\": [{\"name\": \"Scott\", \"age\": 30, \"pets\": [\"Zeus\", \"Zuko\"]},\n",
    "              {\"name\": \"Katie\", \"age\": 38,\n",
    "               \"pets\": [\"Sixes\", \"Stache\", \"Cisco\"]}]\n",
    "}\n",
    "\"\"\""
   ]
  },
  {
   "cell_type": "code",
   "execution_count": null,
   "id": "23a54c13",
   "metadata": {},
   "outputs": [],
   "source": [
    "# JSON 포맷 데이터를 Python 객체로 읽기, 역직렬화, 디코딩: json.loads()\n",
    "import json\n",
    "result = json.loads(obj)\n",
    "result"
   ]
  },
  {
   "cell_type": "code",
   "execution_count": null,
   "id": "f6f38f18",
   "metadata": {},
   "outputs": [],
   "source": [
    "# Python 객체를 JSON 데이터로 쓰기, 직렬화, 인코딩: json.dumps()\n",
    "asjson = json.dumps(result)\n",
    "asjson"
   ]
  },
  {
   "cell_type": "code",
   "execution_count": 1,
   "id": "b5de79da",
   "metadata": {},
   "outputs": [
    {
     "data": {
      "text/html": [
       "<div>\n",
       "<style scoped>\n",
       "    .dataframe tbody tr th:only-of-type {\n",
       "        vertical-align: middle;\n",
       "    }\n",
       "\n",
       "    .dataframe tbody tr th {\n",
       "        vertical-align: top;\n",
       "    }\n",
       "\n",
       "    .dataframe thead th {\n",
       "        text-align: right;\n",
       "    }\n",
       "</style>\n",
       "<table border=\"1\" class=\"dataframe\">\n",
       "  <thead>\n",
       "    <tr style=\"text-align: right;\">\n",
       "      <th></th>\n",
       "      <th>Bank Name</th>\n",
       "      <th>City</th>\n",
       "      <th>ST</th>\n",
       "      <th>CERT</th>\n",
       "      <th>Acquiring Institution</th>\n",
       "      <th>Closing Date</th>\n",
       "      <th>Updated Date</th>\n",
       "    </tr>\n",
       "  </thead>\n",
       "  <tbody>\n",
       "    <tr>\n",
       "      <th>0</th>\n",
       "      <td>Allied Bank</td>\n",
       "      <td>Mulberry</td>\n",
       "      <td>AR</td>\n",
       "      <td>91</td>\n",
       "      <td>Today's Bank</td>\n",
       "      <td>September 23, 2016</td>\n",
       "      <td>November 17, 2016</td>\n",
       "    </tr>\n",
       "    <tr>\n",
       "      <th>1</th>\n",
       "      <td>The Woodbury Banking Company</td>\n",
       "      <td>Woodbury</td>\n",
       "      <td>GA</td>\n",
       "      <td>11297</td>\n",
       "      <td>United Bank</td>\n",
       "      <td>August 19, 2016</td>\n",
       "      <td>November 17, 2016</td>\n",
       "    </tr>\n",
       "    <tr>\n",
       "      <th>2</th>\n",
       "      <td>First CornerStone Bank</td>\n",
       "      <td>King of Prussia</td>\n",
       "      <td>PA</td>\n",
       "      <td>35312</td>\n",
       "      <td>First-Citizens Bank &amp; Trust Company</td>\n",
       "      <td>May 6, 2016</td>\n",
       "      <td>September 6, 2016</td>\n",
       "    </tr>\n",
       "    <tr>\n",
       "      <th>3</th>\n",
       "      <td>Trust Company Bank</td>\n",
       "      <td>Memphis</td>\n",
       "      <td>TN</td>\n",
       "      <td>9956</td>\n",
       "      <td>The Bank of Fayette County</td>\n",
       "      <td>April 29, 2016</td>\n",
       "      <td>September 6, 2016</td>\n",
       "    </tr>\n",
       "    <tr>\n",
       "      <th>4</th>\n",
       "      <td>North Milwaukee State Bank</td>\n",
       "      <td>Milwaukee</td>\n",
       "      <td>WI</td>\n",
       "      <td>20364</td>\n",
       "      <td>First-Citizens Bank &amp; Trust Company</td>\n",
       "      <td>March 11, 2016</td>\n",
       "      <td>June 16, 2016</td>\n",
       "    </tr>\n",
       "  </tbody>\n",
       "</table>\n",
       "</div>"
      ],
      "text/plain": [
       "                      Bank Name             City  ST   CERT  \\\n",
       "0                   Allied Bank         Mulberry  AR     91   \n",
       "1  The Woodbury Banking Company         Woodbury  GA  11297   \n",
       "2        First CornerStone Bank  King of Prussia  PA  35312   \n",
       "3            Trust Company Bank          Memphis  TN   9956   \n",
       "4    North Milwaukee State Bank        Milwaukee  WI  20364   \n",
       "\n",
       "                 Acquiring Institution        Closing Date       Updated Date  \n",
       "0                         Today's Bank  September 23, 2016  November 17, 2016  \n",
       "1                          United Bank     August 19, 2016  November 17, 2016  \n",
       "2  First-Citizens Bank & Trust Company         May 6, 2016  September 6, 2016  \n",
       "3           The Bank of Fayette County      April 29, 2016  September 6, 2016  \n",
       "4  First-Citizens Bank & Trust Company      March 11, 2016      June 16, 2016  "
      ]
     },
     "execution_count": 1,
     "metadata": {},
     "output_type": "execute_result"
    }
   ],
   "source": [
    "# html을 데이터프레임으로 불러오기\n",
    "import pandas as pd\n",
    "tables = pd.read_html('examples/fdic_failed_bank_list.html')\n",
    "len(tables)\n",
    "failures = tables[0]\n",
    "failures.head()"
   ]
  },
  {
   "cell_type": "code",
   "execution_count": null,
   "id": "bebaa371",
   "metadata": {},
   "outputs": [],
   "source": [
    "close_timestamps = pd.to_datetime(failures['Closing Date'])\n",
    "close_timestamps.dt.year.value_counts()"
   ]
  },
  {
   "cell_type": "code",
   "execution_count": 2,
   "id": "90da9f28",
   "metadata": {},
   "outputs": [],
   "source": [
    "# XML 파싱하기\n",
    "from lxml import objectify\n",
    "\n",
    "path = 'dataset/mta_perf/Performance_MNR.xml'\n",
    "parsed = objectify.parse(open(path))\n",
    "root = parsed.getroot()"
   ]
  },
  {
   "cell_type": "code",
   "execution_count": 3,
   "id": "a12699fb",
   "metadata": {},
   "outputs": [],
   "source": [
    "data = []\n",
    "\n",
    "skip_fields = ['PARENT_SEQ', 'INDICATOR_SEQ',\n",
    "               'DESIRED_CHANGE', 'DECIMAL_PLACES']\n",
    "\n",
    "for elt in root.INDICATOR:\n",
    "    el_data = {}\n",
    "    for child in elt.getchildren():\n",
    "        if child.tag in skip_fields:\n",
    "            continue\n",
    "        el_data[child.tag] = child.pyval\n",
    "    data.append(el_data)"
   ]
  },
  {
   "cell_type": "code",
   "execution_count": 4,
   "id": "ef028b70",
   "metadata": {},
   "outputs": [
    {
     "data": {
      "text/plain": [
       "[{'AGENCY_NAME': 'Metro-North Railroad',\n",
       "  'INDICATOR_NAME': 'On-Time Performance (West of Hudson)',\n",
       "  'DESCRIPTION': 'Percent of commuter trains that arrive at their destinations within 5 minutes and 59 seconds of the scheduled time. West of Hudson services include the Pascack Valley and Port Jervis lines. Metro-North Railroad contracts with New Jersey Transit to operate service on these lines.\\n',\n",
       "  'PERIOD_YEAR': 2008,\n",
       "  'PERIOD_MONTH': 1,\n",
       "  'CATEGORY': 'Service Indicators',\n",
       "  'FREQUENCY': 'M',\n",
       "  'INDICATOR_UNIT': '%',\n",
       "  'YTD_TARGET': 95.0,\n",
       "  'YTD_ACTUAL': 96.9,\n",
       "  'MONTHLY_TARGET': 95.0,\n",
       "  'MONTHLY_ACTUAL': 96.9},\n",
       " {'AGENCY_NAME': 'Metro-North Railroad',\n",
       "  'INDICATOR_NAME': 'On-Time Performance (West of Hudson)',\n",
       "  'DESCRIPTION': 'Percent of commuter trains that arrive at their destinations within 5 minutes and 59 seconds of the scheduled time. West of Hudson services include the Pascack Valley and Port Jervis lines. Metro-North Railroad contracts with New Jersey Transit to operate service on these lines.\\n',\n",
       "  'PERIOD_YEAR': 2008,\n",
       "  'PERIOD_MONTH': 2,\n",
       "  'CATEGORY': 'Service Indicators',\n",
       "  'FREQUENCY': 'M',\n",
       "  'INDICATOR_UNIT': '%',\n",
       "  'YTD_TARGET': 95.0,\n",
       "  'YTD_ACTUAL': 96.0,\n",
       "  'MONTHLY_TARGET': 95.0,\n",
       "  'MONTHLY_ACTUAL': 95.0},\n",
       " {'AGENCY_NAME': 'Metro-North Railroad',\n",
       "  'INDICATOR_NAME': 'On-Time Performance (West of Hudson)',\n",
       "  'DESCRIPTION': 'Percent of commuter trains that arrive at their destinations within 5 minutes and 59 seconds of the scheduled time. West of Hudson services include the Pascack Valley and Port Jervis lines. Metro-North Railroad contracts with New Jersey Transit to operate service on these lines.\\n',\n",
       "  'PERIOD_YEAR': 2008,\n",
       "  'PERIOD_MONTH': 3,\n",
       "  'CATEGORY': 'Service Indicators',\n",
       "  'FREQUENCY': 'M',\n",
       "  'INDICATOR_UNIT': '%',\n",
       "  'YTD_TARGET': 95.0,\n",
       "  'YTD_ACTUAL': 96.3,\n",
       "  'MONTHLY_TARGET': 95.0,\n",
       "  'MONTHLY_ACTUAL': 96.9},\n",
       " {'AGENCY_NAME': 'Metro-North Railroad',\n",
       "  'INDICATOR_NAME': 'On-Time Performance (West of Hudson)',\n",
       "  'DESCRIPTION': 'Percent of commuter trains that arrive at their destinations within 5 minutes and 59 seconds of the scheduled time. West of Hudson services include the Pascack Valley and Port Jervis lines. Metro-North Railroad contracts with New Jersey Transit to operate service on these lines.\\n',\n",
       "  'PERIOD_YEAR': 2008,\n",
       "  'PERIOD_MONTH': 4,\n",
       "  'CATEGORY': 'Service Indicators',\n",
       "  'FREQUENCY': 'M',\n",
       "  'INDICATOR_UNIT': '%',\n",
       "  'YTD_TARGET': 95.0,\n",
       "  'YTD_ACTUAL': 96.8,\n",
       "  'MONTHLY_TARGET': 95.0,\n",
       "  'MONTHLY_ACTUAL': 98.3},\n",
       " {'AGENCY_NAME': 'Metro-North Railroad',\n",
       "  'INDICATOR_NAME': 'On-Time Performance (West of Hudson)',\n",
       "  'DESCRIPTION': 'Percent of commuter trains that arrive at their destinations within 5 minutes and 59 seconds of the scheduled time. West of Hudson services include the Pascack Valley and Port Jervis lines. Metro-North Railroad contracts with New Jersey Transit to operate service on these lines.\\n',\n",
       "  'PERIOD_YEAR': 2008,\n",
       "  'PERIOD_MONTH': 5,\n",
       "  'CATEGORY': 'Service Indicators',\n",
       "  'FREQUENCY': 'M',\n",
       "  'INDICATOR_UNIT': '%',\n",
       "  'YTD_TARGET': 95.0,\n",
       "  'YTD_ACTUAL': 96.6,\n",
       "  'MONTHLY_TARGET': 95.0,\n",
       "  'MONTHLY_ACTUAL': 95.8},\n",
       " {'AGENCY_NAME': 'Metro-North Railroad',\n",
       "  'INDICATOR_NAME': 'On-Time Performance (West of Hudson)',\n",
       "  'DESCRIPTION': 'Percent of commuter trains that arrive at their destinations within 5 minutes and 59 seconds of the scheduled time. West of Hudson services include the Pascack Valley and Port Jervis lines. Metro-North Railroad contracts with New Jersey Transit to operate service on these lines.\\n',\n",
       "  'PERIOD_YEAR': 2008,\n",
       "  'PERIOD_MONTH': 6,\n",
       "  'CATEGORY': 'Service Indicators',\n",
       "  'FREQUENCY': 'M',\n",
       "  'INDICATOR_UNIT': '%',\n",
       "  'YTD_TARGET': 95.0,\n",
       "  'YTD_ACTUAL': 96.2,\n",
       "  'MONTHLY_TARGET': 95.0,\n",
       "  'MONTHLY_ACTUAL': 94.4},\n",
       " {'AGENCY_NAME': 'Metro-North Railroad',\n",
       "  'INDICATOR_NAME': 'On-Time Performance (West of Hudson)',\n",
       "  'DESCRIPTION': 'Percent of commuter trains that arrive at their destinations within 5 minutes and 59 seconds of the scheduled time. West of Hudson services include the Pascack Valley and Port Jervis lines. Metro-North Railroad contracts with New Jersey Transit to operate service on these lines.\\n',\n",
       "  'PERIOD_YEAR': 2008,\n",
       "  'PERIOD_MONTH': 7,\n",
       "  'CATEGORY': 'Service Indicators',\n",
       "  'FREQUENCY': 'M',\n",
       "  'INDICATOR_UNIT': '%',\n",
       "  'YTD_TARGET': 95.0,\n",
       "  'YTD_ACTUAL': 96.2,\n",
       "  'MONTHLY_TARGET': 95.0,\n",
       "  'MONTHLY_ACTUAL': 96.0},\n",
       " {'AGENCY_NAME': 'Metro-North Railroad',\n",
       "  'INDICATOR_NAME': 'On-Time Performance (West of Hudson)',\n",
       "  'DESCRIPTION': 'Percent of commuter trains that arrive at their destinations within 5 minutes and 59 seconds of the scheduled time. West of Hudson services include the Pascack Valley and Port Jervis lines. Metro-North Railroad contracts with New Jersey Transit to operate service on these lines.\\n',\n",
       "  'PERIOD_YEAR': 2008,\n",
       "  'PERIOD_MONTH': 8,\n",
       "  'CATEGORY': 'Service Indicators',\n",
       "  'FREQUENCY': 'M',\n",
       "  'INDICATOR_UNIT': '%',\n",
       "  'YTD_TARGET': 95.0,\n",
       "  'YTD_ACTUAL': 96.2,\n",
       "  'MONTHLY_TARGET': 95.0,\n",
       "  'MONTHLY_ACTUAL': 96.4},\n",
       " {'AGENCY_NAME': 'Metro-North Railroad',\n",
       "  'INDICATOR_NAME': 'On-Time Performance (West of Hudson)',\n",
       "  'DESCRIPTION': 'Percent of commuter trains that arrive at their destinations within 5 minutes and 59 seconds of the scheduled time. West of Hudson services include the Pascack Valley and Port Jervis lines. Metro-North Railroad contracts with New Jersey Transit to operate service on these lines.\\n',\n",
       "  'PERIOD_YEAR': 2008,\n",
       "  'PERIOD_MONTH': 9,\n",
       "  'CATEGORY': 'Service Indicators',\n",
       "  'FREQUENCY': 'M',\n",
       "  'INDICATOR_UNIT': '%',\n",
       "  'YTD_TARGET': 95.0,\n",
       "  'YTD_ACTUAL': 95.9,\n",
       "  'MONTHLY_TARGET': 95.0,\n",
       "  'MONTHLY_ACTUAL': 93.7},\n",
       " {'AGENCY_NAME': 'Metro-North Railroad',\n",
       "  'INDICATOR_NAME': 'On-Time Performance (West of Hudson)',\n",
       "  'DESCRIPTION': 'Percent of commuter trains that arrive at their destinations within 5 minutes and 59 seconds of the scheduled time. West of Hudson services include the Pascack Valley and Port Jervis lines. Metro-North Railroad contracts with New Jersey Transit to operate service on these lines.\\n',\n",
       "  'PERIOD_YEAR': 2008,\n",
       "  'PERIOD_MONTH': 10,\n",
       "  'CATEGORY': 'Service Indicators',\n",
       "  'FREQUENCY': 'M',\n",
       "  'INDICATOR_UNIT': '%',\n",
       "  'YTD_TARGET': 95.0,\n",
       "  'YTD_ACTUAL': 96.0,\n",
       "  'MONTHLY_TARGET': 95.0,\n",
       "  'MONTHLY_ACTUAL': 96.4},\n",
       " {'AGENCY_NAME': 'Metro-North Railroad',\n",
       "  'INDICATOR_NAME': 'On-Time Performance (West of Hudson)',\n",
       "  'DESCRIPTION': 'Percent of commuter trains that arrive at their destinations within 5 minutes and 59 seconds of the scheduled time. West of Hudson services include the Pascack Valley and Port Jervis lines. Metro-North Railroad contracts with New Jersey Transit to operate service on these lines.\\n',\n",
       "  'PERIOD_YEAR': 2008,\n",
       "  'PERIOD_MONTH': 11,\n",
       "  'CATEGORY': 'Service Indicators',\n",
       "  'FREQUENCY': 'M',\n",
       "  'INDICATOR_UNIT': '%',\n",
       "  'YTD_TARGET': 95.0,\n",
       "  'YTD_ACTUAL': 96.1,\n",
       "  'MONTHLY_TARGET': 95.0,\n",
       "  'MONTHLY_ACTUAL': 96.9},\n",
       " {'AGENCY_NAME': 'Metro-North Railroad',\n",
       "  'INDICATOR_NAME': 'On-Time Performance (West of Hudson)',\n",
       "  'DESCRIPTION': 'Percent of commuter trains that arrive at their destinations within 5 minutes and 59 seconds of the scheduled time. West of Hudson services include the Pascack Valley and Port Jervis lines. Metro-North Railroad contracts with New Jersey Transit to operate service on these lines.\\n',\n",
       "  'PERIOD_YEAR': 2008,\n",
       "  'PERIOD_MONTH': 12,\n",
       "  'CATEGORY': 'Service Indicators',\n",
       "  'FREQUENCY': 'M',\n",
       "  'INDICATOR_UNIT': '%',\n",
       "  'YTD_TARGET': 95.0,\n",
       "  'YTD_ACTUAL': 96.0,\n",
       "  'MONTHLY_TARGET': 95.0,\n",
       "  'MONTHLY_ACTUAL': 95.1},\n",
       " {'AGENCY_NAME': 'Metro-North Railroad',\n",
       "  'INDICATOR_NAME': 'On-Time Performance (West of Hudson)',\n",
       "  'DESCRIPTION': 'Percent of commuter trains that arrive at their destinations within 5 minutes and 59 seconds of the scheduled time. West of Hudson services include the Pascack Valley and Port Jervis lines. Metro-North Railroad contracts with New Jersey Transit to operate service on these lines.\\n',\n",
       "  'PERIOD_YEAR': 2009,\n",
       "  'PERIOD_MONTH': 1,\n",
       "  'CATEGORY': 'Service Indicators',\n",
       "  'FREQUENCY': 'M',\n",
       "  'INDICATOR_UNIT': '%',\n",
       "  'YTD_TARGET': 96.2,\n",
       "  'YTD_ACTUAL': 92.6,\n",
       "  'MONTHLY_TARGET': 96.2,\n",
       "  'MONTHLY_ACTUAL': 92.6},\n",
       " {'AGENCY_NAME': 'Metro-North Railroad',\n",
       "  'INDICATOR_NAME': 'On-Time Performance (West of Hudson)',\n",
       "  'DESCRIPTION': 'Percent of commuter trains that arrive at their destinations within 5 minutes and 59 seconds of the scheduled time. West of Hudson services include the Pascack Valley and Port Jervis lines. Metro-North Railroad contracts with New Jersey Transit to operate service on these lines.\\n',\n",
       "  'PERIOD_YEAR': 2009,\n",
       "  'PERIOD_MONTH': 2,\n",
       "  'CATEGORY': 'Service Indicators',\n",
       "  'FREQUENCY': 'M',\n",
       "  'INDICATOR_UNIT': '%',\n",
       "  'YTD_TARGET': 96.2,\n",
       "  'YTD_ACTUAL': 94.6,\n",
       "  'MONTHLY_TARGET': 96.2,\n",
       "  'MONTHLY_ACTUAL': 96.8},\n",
       " {'AGENCY_NAME': 'Metro-North Railroad',\n",
       "  'INDICATOR_NAME': 'On-Time Performance (West of Hudson)',\n",
       "  'DESCRIPTION': 'Percent of commuter trains that arrive at their destinations within 5 minutes and 59 seconds of the scheduled time. West of Hudson services include the Pascack Valley and Port Jervis lines. Metro-North Railroad contracts with New Jersey Transit to operate service on these lines.\\n',\n",
       "  'PERIOD_YEAR': 2009,\n",
       "  'PERIOD_MONTH': 3,\n",
       "  'CATEGORY': 'Service Indicators',\n",
       "  'FREQUENCY': 'M',\n",
       "  'INDICATOR_UNIT': '%',\n",
       "  'YTD_TARGET': 96.2,\n",
       "  'YTD_ACTUAL': 95.4,\n",
       "  'MONTHLY_TARGET': 96.2,\n",
       "  'MONTHLY_ACTUAL': 96.9},\n",
       " {'AGENCY_NAME': 'Metro-North Railroad',\n",
       "  'INDICATOR_NAME': 'On-Time Performance (West of Hudson)',\n",
       "  'DESCRIPTION': 'Percent of commuter trains that arrive at their destinations within 5 minutes and 59 seconds of the scheduled time. West of Hudson services include the Pascack Valley and Port Jervis lines. Metro-North Railroad contracts with New Jersey Transit to operate service on these lines.\\n',\n",
       "  'PERIOD_YEAR': 2009,\n",
       "  'PERIOD_MONTH': 4,\n",
       "  'CATEGORY': 'Service Indicators',\n",
       "  'FREQUENCY': 'M',\n",
       "  'INDICATOR_UNIT': '%',\n",
       "  'YTD_TARGET': 96.2,\n",
       "  'YTD_ACTUAL': 95.9,\n",
       "  'MONTHLY_TARGET': 96.2,\n",
       "  'MONTHLY_ACTUAL': 97.1},\n",
       " {'AGENCY_NAME': 'Metro-North Railroad',\n",
       "  'INDICATOR_NAME': 'On-Time Performance (West of Hudson)',\n",
       "  'DESCRIPTION': 'Percent of commuter trains that arrive at their destinations within 5 minutes and 59 seconds of the scheduled time. West of Hudson services include the Pascack Valley and Port Jervis lines. Metro-North Railroad contracts with New Jersey Transit to operate service on these lines.\\n',\n",
       "  'PERIOD_YEAR': 2009,\n",
       "  'PERIOD_MONTH': 5,\n",
       "  'CATEGORY': 'Service Indicators',\n",
       "  'FREQUENCY': 'M',\n",
       "  'INDICATOR_UNIT': '%',\n",
       "  'YTD_TARGET': 96.2,\n",
       "  'YTD_ACTUAL': 96.2,\n",
       "  'MONTHLY_TARGET': 96.2,\n",
       "  'MONTHLY_ACTUAL': 97.8},\n",
       " {'AGENCY_NAME': 'Metro-North Railroad',\n",
       "  'INDICATOR_NAME': 'On-Time Performance (West of Hudson)',\n",
       "  'DESCRIPTION': 'Percent of commuter trains that arrive at their destinations within 5 minutes and 59 seconds of the scheduled time. West of Hudson services include the Pascack Valley and Port Jervis lines. Metro-North Railroad contracts with New Jersey Transit to operate service on these lines.\\n',\n",
       "  'PERIOD_YEAR': 2009,\n",
       "  'PERIOD_MONTH': 6,\n",
       "  'CATEGORY': 'Service Indicators',\n",
       "  'FREQUENCY': 'M',\n",
       "  'INDICATOR_UNIT': '%',\n",
       "  'YTD_TARGET': 96.2,\n",
       "  'YTD_ACTUAL': 96.4,\n",
       "  'MONTHLY_TARGET': 96.2,\n",
       "  'MONTHLY_ACTUAL': 97.3},\n",
       " {'AGENCY_NAME': 'Metro-North Railroad',\n",
       "  'INDICATOR_NAME': 'On-Time Performance (West of Hudson)',\n",
       "  'DESCRIPTION': 'Percent of commuter trains that arrive at their destinations within 5 minutes and 59 seconds of the scheduled time. West of Hudson services include the Pascack Valley and Port Jervis lines. Metro-North Railroad contracts with New Jersey Transit to operate service on these lines.\\n',\n",
       "  'PERIOD_YEAR': 2009,\n",
       "  'PERIOD_MONTH': 7,\n",
       "  'CATEGORY': 'Service Indicators',\n",
       "  'FREQUENCY': 'M',\n",
       "  'INDICATOR_UNIT': '%',\n",
       "  'YTD_TARGET': 96.2,\n",
       "  'YTD_ACTUAL': 96.5,\n",
       "  'MONTHLY_TARGET': 96.2,\n",
       "  'MONTHLY_ACTUAL': 96.7},\n",
       " {'AGENCY_NAME': 'Metro-North Railroad',\n",
       "  'INDICATOR_NAME': 'On-Time Performance (West of Hudson)',\n",
       "  'DESCRIPTION': 'Percent of commuter trains that arrive at their destinations within 5 minutes and 59 seconds of the scheduled time. West of Hudson services include the Pascack Valley and Port Jervis lines. Metro-North Railroad contracts with New Jersey Transit to operate service on these lines.\\n',\n",
       "  'PERIOD_YEAR': 2009,\n",
       "  'PERIOD_MONTH': 8,\n",
       "  'CATEGORY': 'Service Indicators',\n",
       "  'FREQUENCY': 'M',\n",
       "  'INDICATOR_UNIT': '%',\n",
       "  'YTD_TARGET': 96.2,\n",
       "  'YTD_ACTUAL': 96.4,\n",
       "  'MONTHLY_TARGET': 96.2,\n",
       "  'MONTHLY_ACTUAL': 95.7},\n",
       " {'AGENCY_NAME': 'Metro-North Railroad',\n",
       "  'INDICATOR_NAME': 'On-Time Performance (West of Hudson)',\n",
       "  'DESCRIPTION': 'Percent of commuter trains that arrive at their destinations within 5 minutes and 59 seconds of the scheduled time. West of Hudson services include the Pascack Valley and Port Jervis lines. Metro-North Railroad contracts with New Jersey Transit to operate service on these lines.\\n',\n",
       "  'PERIOD_YEAR': 2009,\n",
       "  'PERIOD_MONTH': 9,\n",
       "  'CATEGORY': 'Service Indicators',\n",
       "  'FREQUENCY': 'M',\n",
       "  'INDICATOR_UNIT': '%',\n",
       "  'YTD_TARGET': 96.2,\n",
       "  'YTD_ACTUAL': 96.3,\n",
       "  'MONTHLY_TARGET': 96.2,\n",
       "  'MONTHLY_ACTUAL': 96.1},\n",
       " {'AGENCY_NAME': 'Metro-North Railroad',\n",
       "  'INDICATOR_NAME': 'On-Time Performance (West of Hudson)',\n",
       "  'DESCRIPTION': 'Percent of commuter trains that arrive at their destinations within 5 minutes and 59 seconds of the scheduled time. West of Hudson services include the Pascack Valley and Port Jervis lines. Metro-North Railroad contracts with New Jersey Transit to operate service on these lines.\\n',\n",
       "  'PERIOD_YEAR': 2009,\n",
       "  'PERIOD_MONTH': 10,\n",
       "  'CATEGORY': 'Service Indicators',\n",
       "  'FREQUENCY': 'M',\n",
       "  'INDICATOR_UNIT': '%',\n",
       "  'YTD_TARGET': 96.2,\n",
       "  'YTD_ACTUAL': 96.2,\n",
       "  'MONTHLY_TARGET': 96.2,\n",
       "  'MONTHLY_ACTUAL': 94.8},\n",
       " {'AGENCY_NAME': 'Metro-North Railroad',\n",
       "  'INDICATOR_NAME': 'On-Time Performance (West of Hudson)',\n",
       "  'DESCRIPTION': 'Percent of commuter trains that arrive at their destinations within 5 minutes and 59 seconds of the scheduled time. West of Hudson services include the Pascack Valley and Port Jervis lines. Metro-North Railroad contracts with New Jersey Transit to operate service on these lines.\\n',\n",
       "  'PERIOD_YEAR': 2009,\n",
       "  'PERIOD_MONTH': 11,\n",
       "  'CATEGORY': 'Service Indicators',\n",
       "  'FREQUENCY': 'M',\n",
       "  'INDICATOR_UNIT': '%',\n",
       "  'YTD_TARGET': 96.2,\n",
       "  'YTD_ACTUAL': 96.1,\n",
       "  'MONTHLY_TARGET': 96.2,\n",
       "  'MONTHLY_ACTUAL': 95.7},\n",
       " {'AGENCY_NAME': 'Metro-North Railroad',\n",
       "  'INDICATOR_NAME': 'On-Time Performance (West of Hudson)',\n",
       "  'DESCRIPTION': 'Percent of commuter trains that arrive at their destinations within 5 minutes and 59 seconds of the scheduled time. West of Hudson services include the Pascack Valley and Port Jervis lines. Metro-North Railroad contracts with New Jersey Transit to operate service on these lines.\\n',\n",
       "  'PERIOD_YEAR': 2009,\n",
       "  'PERIOD_MONTH': 12,\n",
       "  'CATEGORY': 'Service Indicators',\n",
       "  'FREQUENCY': 'M',\n",
       "  'INDICATOR_UNIT': '%',\n",
       "  'YTD_TARGET': 96.2,\n",
       "  'YTD_ACTUAL': 96.0,\n",
       "  'MONTHLY_TARGET': 96.2,\n",
       "  'MONTHLY_ACTUAL': 95.0},\n",
       " {'AGENCY_NAME': 'Metro-North Railroad',\n",
       "  'INDICATOR_NAME': 'On-Time Performance (West of Hudson)',\n",
       "  'DESCRIPTION': 'Percent of commuter trains that arrive at their destinations within 5 minutes and 59 seconds of the scheduled time. West of Hudson services include the Pascack Valley and Port Jervis lines. Metro-North Railroad contracts with New Jersey Transit to operate service on these lines.\\n',\n",
       "  'PERIOD_YEAR': 2010,\n",
       "  'PERIOD_MONTH': 1,\n",
       "  'CATEGORY': 'Service Indicators',\n",
       "  'FREQUENCY': 'M',\n",
       "  'INDICATOR_UNIT': '%',\n",
       "  'YTD_TARGET': 96.3,\n",
       "  'YTD_ACTUAL': 98.0,\n",
       "  'MONTHLY_TARGET': 96.3,\n",
       "  'MONTHLY_ACTUAL': 98.0},\n",
       " {'AGENCY_NAME': 'Metro-North Railroad',\n",
       "  'INDICATOR_NAME': 'On-Time Performance (West of Hudson)',\n",
       "  'DESCRIPTION': 'Percent of commuter trains that arrive at their destinations within 5 minutes and 59 seconds of the scheduled time. West of Hudson services include the Pascack Valley and Port Jervis lines. Metro-North Railroad contracts with New Jersey Transit to operate service on these lines.\\n',\n",
       "  'PERIOD_YEAR': 2010,\n",
       "  'PERIOD_MONTH': 2,\n",
       "  'CATEGORY': 'Service Indicators',\n",
       "  'FREQUENCY': 'M',\n",
       "  'INDICATOR_UNIT': '%',\n",
       "  'YTD_TARGET': 96.3,\n",
       "  'YTD_ACTUAL': 95.6,\n",
       "  'MONTHLY_TARGET': 96.3,\n",
       "  'MONTHLY_ACTUAL': 93.0},\n",
       " {'AGENCY_NAME': 'Metro-North Railroad',\n",
       "  'INDICATOR_NAME': 'On-Time Performance (West of Hudson)',\n",
       "  'DESCRIPTION': 'Percent of commuter trains that arrive at their destinations within 5 minutes and 59 seconds of the scheduled time. West of Hudson services include the Pascack Valley and Port Jervis lines. Metro-North Railroad contracts with New Jersey Transit to operate service on these lines.\\n',\n",
       "  'PERIOD_YEAR': 2010,\n",
       "  'PERIOD_MONTH': 3,\n",
       "  'CATEGORY': 'Service Indicators',\n",
       "  'FREQUENCY': 'M',\n",
       "  'INDICATOR_UNIT': '%',\n",
       "  'YTD_TARGET': 96.3,\n",
       "  'YTD_ACTUAL': 96.1,\n",
       "  'MONTHLY_TARGET': 96.3,\n",
       "  'MONTHLY_ACTUAL': 96.9},\n",
       " {'AGENCY_NAME': 'Metro-North Railroad',\n",
       "  'INDICATOR_NAME': 'On-Time Performance (West of Hudson)',\n",
       "  'DESCRIPTION': 'Percent of commuter trains that arrive at their destinations within 5 minutes and 59 seconds of the scheduled time. West of Hudson services include the Pascack Valley and Port Jervis lines. Metro-North Railroad contracts with New Jersey Transit to operate service on these lines.\\n',\n",
       "  'PERIOD_YEAR': 2010,\n",
       "  'PERIOD_MONTH': 4,\n",
       "  'CATEGORY': 'Service Indicators',\n",
       "  'FREQUENCY': 'M',\n",
       "  'INDICATOR_UNIT': '%',\n",
       "  'YTD_TARGET': 96.3,\n",
       "  'YTD_ACTUAL': 96.6,\n",
       "  'MONTHLY_TARGET': 96.3,\n",
       "  'MONTHLY_ACTUAL': 98.1},\n",
       " {'AGENCY_NAME': 'Metro-North Railroad',\n",
       "  'INDICATOR_NAME': 'On-Time Performance (West of Hudson)',\n",
       "  'DESCRIPTION': 'Percent of commuter trains that arrive at their destinations within 5 minutes and 59 seconds of the scheduled time. West of Hudson services include the Pascack Valley and Port Jervis lines. Metro-North Railroad contracts with New Jersey Transit to operate service on these lines.\\n',\n",
       "  'PERIOD_YEAR': 2010,\n",
       "  'PERIOD_MONTH': 5,\n",
       "  'CATEGORY': 'Service Indicators',\n",
       "  'FREQUENCY': 'M',\n",
       "  'INDICATOR_UNIT': '%',\n",
       "  'YTD_TARGET': 96.3,\n",
       "  'YTD_ACTUAL': 96.8,\n",
       "  'MONTHLY_TARGET': 96.3,\n",
       "  'MONTHLY_ACTUAL': 97.6},\n",
       " {'AGENCY_NAME': 'Metro-North Railroad',\n",
       "  'INDICATOR_NAME': 'On-Time Performance (West of Hudson)',\n",
       "  'DESCRIPTION': 'Percent of commuter trains that arrive at their destinations within 5 minutes and 59 seconds of the scheduled time. West of Hudson services include the Pascack Valley and Port Jervis lines. Metro-North Railroad contracts with New Jersey Transit to operate service on these lines.\\n',\n",
       "  'PERIOD_YEAR': 2010,\n",
       "  'PERIOD_MONTH': 6,\n",
       "  'CATEGORY': 'Service Indicators',\n",
       "  'FREQUENCY': 'M',\n",
       "  'INDICATOR_UNIT': '%',\n",
       "  'YTD_TARGET': 96.3,\n",
       "  'YTD_ACTUAL': 96.9,\n",
       "  'MONTHLY_TARGET': 96.3,\n",
       "  'MONTHLY_ACTUAL': 97.4},\n",
       " {'AGENCY_NAME': 'Metro-North Railroad',\n",
       "  'INDICATOR_NAME': 'On-Time Performance (West of Hudson)',\n",
       "  'DESCRIPTION': 'Percent of commuter trains that arrive at their destinations within 5 minutes and 59 seconds of the scheduled time. West of Hudson services include the Pascack Valley and Port Jervis lines. Metro-North Railroad contracts with New Jersey Transit to operate service on these lines.\\n',\n",
       "  'PERIOD_YEAR': 2010,\n",
       "  'PERIOD_MONTH': 7,\n",
       "  'CATEGORY': 'Service Indicators',\n",
       "  'FREQUENCY': 'M',\n",
       "  'INDICATOR_UNIT': '%',\n",
       "  'YTD_TARGET': 96.3,\n",
       "  'YTD_ACTUAL': 96.9,\n",
       "  'MONTHLY_TARGET': 96.3,\n",
       "  'MONTHLY_ACTUAL': 96.6},\n",
       " {'AGENCY_NAME': 'Metro-North Railroad',\n",
       "  'INDICATOR_NAME': 'On-Time Performance (West of Hudson)',\n",
       "  'DESCRIPTION': 'Percent of commuter trains that arrive at their destinations within 5 minutes and 59 seconds of the scheduled time. West of Hudson services include the Pascack Valley and Port Jervis lines. Metro-North Railroad contracts with New Jersey Transit to operate service on these lines.\\n',\n",
       "  'PERIOD_YEAR': 2010,\n",
       "  'PERIOD_MONTH': 8,\n",
       "  'CATEGORY': 'Service Indicators',\n",
       "  'FREQUENCY': 'M',\n",
       "  'INDICATOR_UNIT': '%',\n",
       "  'YTD_TARGET': 96.3,\n",
       "  'YTD_ACTUAL': 96.9,\n",
       "  'MONTHLY_TARGET': 96.3,\n",
       "  'MONTHLY_ACTUAL': 97.1},\n",
       " {'AGENCY_NAME': 'Metro-North Railroad',\n",
       "  'INDICATOR_NAME': 'On-Time Performance (West of Hudson)',\n",
       "  'DESCRIPTION': 'Percent of commuter trains that arrive at their destinations within 5 minutes and 59 seconds of the scheduled time. West of Hudson services include the Pascack Valley and Port Jervis lines. Metro-North Railroad contracts with New Jersey Transit to operate service on these lines.\\n',\n",
       "  'PERIOD_YEAR': 2010,\n",
       "  'PERIOD_MONTH': 9,\n",
       "  'CATEGORY': 'Service Indicators',\n",
       "  'FREQUENCY': 'M',\n",
       "  'INDICATOR_UNIT': '%',\n",
       "  'YTD_TARGET': 96.3,\n",
       "  'YTD_ACTUAL': 96.9,\n",
       "  'MONTHLY_TARGET': 96.3,\n",
       "  'MONTHLY_ACTUAL': 96.7},\n",
       " {'AGENCY_NAME': 'Metro-North Railroad',\n",
       "  'INDICATOR_NAME': 'On-Time Performance (West of Hudson)',\n",
       "  'DESCRIPTION': 'Percent of commuter trains that arrive at their destinations within 5 minutes and 59 seconds of the scheduled time. West of Hudson services include the Pascack Valley and Port Jervis lines. Metro-North Railroad contracts with New Jersey Transit to operate service on these lines.\\n',\n",
       "  'PERIOD_YEAR': 2010,\n",
       "  'PERIOD_MONTH': 10,\n",
       "  'CATEGORY': 'Service Indicators',\n",
       "  'FREQUENCY': 'M',\n",
       "  'INDICATOR_UNIT': '%',\n",
       "  'YTD_TARGET': 96.3,\n",
       "  'YTD_ACTUAL': 96.7,\n",
       "  'MONTHLY_TARGET': 96.3,\n",
       "  'MONTHLY_ACTUAL': 95.0},\n",
       " {'AGENCY_NAME': 'Metro-North Railroad',\n",
       "  'INDICATOR_NAME': 'On-Time Performance (West of Hudson)',\n",
       "  'DESCRIPTION': 'Percent of commuter trains that arrive at their destinations within 5 minutes and 59 seconds of the scheduled time. West of Hudson services include the Pascack Valley and Port Jervis lines. Metro-North Railroad contracts with New Jersey Transit to operate service on these lines.\\n',\n",
       "  'PERIOD_YEAR': 2010,\n",
       "  'PERIOD_MONTH': 11,\n",
       "  'CATEGORY': 'Service Indicators',\n",
       "  'FREQUENCY': 'M',\n",
       "  'INDICATOR_UNIT': '%',\n",
       "  'YTD_TARGET': 96.3,\n",
       "  'YTD_ACTUAL': 96.6,\n",
       "  'MONTHLY_TARGET': 96.3,\n",
       "  'MONTHLY_ACTUAL': 96.1},\n",
       " {'AGENCY_NAME': 'Metro-North Railroad',\n",
       "  'INDICATOR_NAME': 'On-Time Performance (West of Hudson)',\n",
       "  'DESCRIPTION': 'Percent of commuter trains that arrive at their destinations within 5 minutes and 59 seconds of the scheduled time. West of Hudson services include the Pascack Valley and Port Jervis lines. Metro-North Railroad contracts with New Jersey Transit to operate service on these lines.\\n',\n",
       "  'PERIOD_YEAR': 2010,\n",
       "  'PERIOD_MONTH': 12,\n",
       "  'CATEGORY': 'Service Indicators',\n",
       "  'FREQUENCY': 'M',\n",
       "  'INDICATOR_UNIT': '%',\n",
       "  'YTD_TARGET': 96.3,\n",
       "  'YTD_ACTUAL': 96.5,\n",
       "  'MONTHLY_TARGET': 96.3,\n",
       "  'MONTHLY_ACTUAL': 94.6},\n",
       " {'AGENCY_NAME': 'Metro-North Railroad',\n",
       "  'INDICATOR_NAME': 'On-Time Performance (West of Hudson)',\n",
       "  'DESCRIPTION': 'Percent of commuter trains that arrive at their destinations within 5 minutes and 59 seconds of the scheduled time. West of Hudson services include the Pascack Valley and Port Jervis lines. Metro-North Railroad contracts with New Jersey Transit to operate service on these lines.\\n',\n",
       "  'PERIOD_YEAR': 2011,\n",
       "  'PERIOD_MONTH': 1,\n",
       "  'CATEGORY': 'Service Indicators',\n",
       "  'FREQUENCY': 'M',\n",
       "  'INDICATOR_UNIT': '%',\n",
       "  'YTD_TARGET': 96.4,\n",
       "  'YTD_ACTUAL': 92.1,\n",
       "  'MONTHLY_TARGET': 96.4,\n",
       "  'MONTHLY_ACTUAL': 92.1},\n",
       " {'AGENCY_NAME': 'Metro-North Railroad',\n",
       "  'INDICATOR_NAME': 'On-Time Performance (West of Hudson)',\n",
       "  'DESCRIPTION': 'Percent of commuter trains that arrive at their destinations within 5 minutes and 59 seconds of the scheduled time. West of Hudson services include the Pascack Valley and Port Jervis lines. Metro-North Railroad contracts with New Jersey Transit to operate service on these lines.\\n',\n",
       "  'PERIOD_YEAR': 2011,\n",
       "  'PERIOD_MONTH': 2,\n",
       "  'CATEGORY': 'Service Indicators',\n",
       "  'FREQUENCY': 'M',\n",
       "  'INDICATOR_UNIT': '%',\n",
       "  'YTD_TARGET': 96.4,\n",
       "  'YTD_ACTUAL': 93.4,\n",
       "  'MONTHLY_TARGET': 96.4,\n",
       "  'MONTHLY_ACTUAL': 94.8},\n",
       " {'AGENCY_NAME': 'Metro-North Railroad',\n",
       "  'INDICATOR_NAME': 'On-Time Performance (West of Hudson)',\n",
       "  'DESCRIPTION': 'Percent of commuter trains that arrive at their destinations within 5 minutes and 59 seconds of the scheduled time. West of Hudson services include the Pascack Valley and Port Jervis lines. Metro-North Railroad contracts with New Jersey Transit to operate service on these lines.\\n',\n",
       "  'PERIOD_YEAR': 2011,\n",
       "  'PERIOD_MONTH': 3,\n",
       "  'CATEGORY': 'Service Indicators',\n",
       "  'FREQUENCY': 'M',\n",
       "  'INDICATOR_UNIT': '%',\n",
       "  'YTD_TARGET': 96.4,\n",
       "  'YTD_ACTUAL': 94.6,\n",
       "  'MONTHLY_TARGET': 96.4,\n",
       "  'MONTHLY_ACTUAL': 96.9},\n",
       " {'AGENCY_NAME': 'Metro-North Railroad',\n",
       "  'INDICATOR_NAME': 'On-Time Performance (West of Hudson)',\n",
       "  'DESCRIPTION': 'Percent of commuter trains that arrive at their destinations within 5 minutes and 59 seconds of the scheduled time. West of Hudson services include the Pascack Valley and Port Jervis lines. Metro-North Railroad contracts with New Jersey Transit to operate service on these lines.\\n',\n",
       "  'PERIOD_YEAR': 2011,\n",
       "  'PERIOD_MONTH': 4,\n",
       "  'CATEGORY': 'Service Indicators',\n",
       "  'FREQUENCY': 'M',\n",
       "  'INDICATOR_UNIT': '%',\n",
       "  'YTD_TARGET': 96.4,\n",
       "  'YTD_ACTUAL': 95.2,\n",
       "  'MONTHLY_TARGET': 96.4,\n",
       "  'MONTHLY_ACTUAL': 96.9},\n",
       " {'AGENCY_NAME': 'Metro-North Railroad',\n",
       "  'INDICATOR_NAME': 'On-Time Performance (West of Hudson)',\n",
       "  'DESCRIPTION': 'Percent of commuter trains that arrive at their destinations within 5 minutes and 59 seconds of the scheduled time. West of Hudson services include the Pascack Valley and Port Jervis lines. Metro-North Railroad contracts with New Jersey Transit to operate service on these lines.\\n',\n",
       "  'PERIOD_YEAR': 2011,\n",
       "  'PERIOD_MONTH': 5,\n",
       "  'CATEGORY': 'Service Indicators',\n",
       "  'FREQUENCY': 'M',\n",
       "  'INDICATOR_UNIT': '%',\n",
       "  'YTD_TARGET': 96.4,\n",
       "  'YTD_ACTUAL': '',\n",
       "  'MONTHLY_TARGET': 96.4,\n",
       "  'MONTHLY_ACTUAL': ''},\n",
       " {'AGENCY_NAME': 'Metro-North Railroad',\n",
       "  'INDICATOR_NAME': 'On-Time Performance (West of Hudson)',\n",
       "  'DESCRIPTION': 'Percent of commuter trains that arrive at their destinations within 5 minutes and 59 seconds of the scheduled time. West of Hudson services include the Pascack Valley and Port Jervis lines. Metro-North Railroad contracts with New Jersey Transit to operate service on these lines.\\n',\n",
       "  'PERIOD_YEAR': 2011,\n",
       "  'PERIOD_MONTH': 6,\n",
       "  'CATEGORY': 'Service Indicators',\n",
       "  'FREQUENCY': 'M',\n",
       "  'INDICATOR_UNIT': '%',\n",
       "  'YTD_TARGET': 96.4,\n",
       "  'YTD_ACTUAL': '',\n",
       "  'MONTHLY_TARGET': 96.4,\n",
       "  'MONTHLY_ACTUAL': ''},\n",
       " {'AGENCY_NAME': 'Metro-North Railroad',\n",
       "  'INDICATOR_NAME': 'On-Time Performance (West of Hudson)',\n",
       "  'DESCRIPTION': 'Percent of commuter trains that arrive at their destinations within 5 minutes and 59 seconds of the scheduled time. West of Hudson services include the Pascack Valley and Port Jervis lines. Metro-North Railroad contracts with New Jersey Transit to operate service on these lines.\\n',\n",
       "  'PERIOD_YEAR': 2011,\n",
       "  'PERIOD_MONTH': 7,\n",
       "  'CATEGORY': 'Service Indicators',\n",
       "  'FREQUENCY': 'M',\n",
       "  'INDICATOR_UNIT': '%',\n",
       "  'YTD_TARGET': 96.4,\n",
       "  'YTD_ACTUAL': '',\n",
       "  'MONTHLY_TARGET': 96.4,\n",
       "  'MONTHLY_ACTUAL': ''},\n",
       " {'AGENCY_NAME': 'Metro-North Railroad',\n",
       "  'INDICATOR_NAME': 'On-Time Performance (West of Hudson)',\n",
       "  'DESCRIPTION': 'Percent of commuter trains that arrive at their destinations within 5 minutes and 59 seconds of the scheduled time. West of Hudson services include the Pascack Valley and Port Jervis lines. Metro-North Railroad contracts with New Jersey Transit to operate service on these lines.\\n',\n",
       "  'PERIOD_YEAR': 2011,\n",
       "  'PERIOD_MONTH': 8,\n",
       "  'CATEGORY': 'Service Indicators',\n",
       "  'FREQUENCY': 'M',\n",
       "  'INDICATOR_UNIT': '%',\n",
       "  'YTD_TARGET': 96.4,\n",
       "  'YTD_ACTUAL': '',\n",
       "  'MONTHLY_TARGET': 96.4,\n",
       "  'MONTHLY_ACTUAL': ''},\n",
       " {'AGENCY_NAME': 'Metro-North Railroad',\n",
       "  'INDICATOR_NAME': 'On-Time Performance (West of Hudson)',\n",
       "  'DESCRIPTION': 'Percent of commuter trains that arrive at their destinations within 5 minutes and 59 seconds of the scheduled time. West of Hudson services include the Pascack Valley and Port Jervis lines. Metro-North Railroad contracts with New Jersey Transit to operate service on these lines.\\n',\n",
       "  'PERIOD_YEAR': 2011,\n",
       "  'PERIOD_MONTH': 9,\n",
       "  'CATEGORY': 'Service Indicators',\n",
       "  'FREQUENCY': 'M',\n",
       "  'INDICATOR_UNIT': '%',\n",
       "  'YTD_TARGET': 96.4,\n",
       "  'YTD_ACTUAL': '',\n",
       "  'MONTHLY_TARGET': 96.4,\n",
       "  'MONTHLY_ACTUAL': ''},\n",
       " {'AGENCY_NAME': 'Metro-North Railroad',\n",
       "  'INDICATOR_NAME': 'On-Time Performance (West of Hudson)',\n",
       "  'DESCRIPTION': 'Percent of commuter trains that arrive at their destinations within 5 minutes and 59 seconds of the scheduled time. West of Hudson services include the Pascack Valley and Port Jervis lines. Metro-North Railroad contracts with New Jersey Transit to operate service on these lines.\\n',\n",
       "  'PERIOD_YEAR': 2011,\n",
       "  'PERIOD_MONTH': 10,\n",
       "  'CATEGORY': 'Service Indicators',\n",
       "  'FREQUENCY': 'M',\n",
       "  'INDICATOR_UNIT': '%',\n",
       "  'YTD_TARGET': 96.4,\n",
       "  'YTD_ACTUAL': '',\n",
       "  'MONTHLY_TARGET': 96.4,\n",
       "  'MONTHLY_ACTUAL': ''},\n",
       " {'AGENCY_NAME': 'Metro-North Railroad',\n",
       "  'INDICATOR_NAME': 'On-Time Performance (West of Hudson)',\n",
       "  'DESCRIPTION': 'Percent of commuter trains that arrive at their destinations within 5 minutes and 59 seconds of the scheduled time. West of Hudson services include the Pascack Valley and Port Jervis lines. Metro-North Railroad contracts with New Jersey Transit to operate service on these lines.\\n',\n",
       "  'PERIOD_YEAR': 2011,\n",
       "  'PERIOD_MONTH': 11,\n",
       "  'CATEGORY': 'Service Indicators',\n",
       "  'FREQUENCY': 'M',\n",
       "  'INDICATOR_UNIT': '%',\n",
       "  'YTD_TARGET': 96.4,\n",
       "  'YTD_ACTUAL': '',\n",
       "  'MONTHLY_TARGET': 96.4,\n",
       "  'MONTHLY_ACTUAL': ''},\n",
       " {'AGENCY_NAME': 'Metro-North Railroad',\n",
       "  'INDICATOR_NAME': 'On-Time Performance (West of Hudson)',\n",
       "  'DESCRIPTION': 'Percent of commuter trains that arrive at their destinations within 5 minutes and 59 seconds of the scheduled time. West of Hudson services include the Pascack Valley and Port Jervis lines. Metro-North Railroad contracts with New Jersey Transit to operate service on these lines.\\n',\n",
       "  'PERIOD_YEAR': 2011,\n",
       "  'PERIOD_MONTH': 12,\n",
       "  'CATEGORY': 'Service Indicators',\n",
       "  'FREQUENCY': 'M',\n",
       "  'INDICATOR_UNIT': '%',\n",
       "  'YTD_TARGET': 96.4,\n",
       "  'YTD_ACTUAL': '',\n",
       "  'MONTHLY_TARGET': 96.4,\n",
       "  'MONTHLY_ACTUAL': ''},\n",
       " {'AGENCY_NAME': 'Metro-North Railroad',\n",
       "  'INDICATOR_NAME': 'Port Jervis Line - OTP',\n",
       "  'DESCRIPTION': 'Percent of commuter trains that arrive at their destinations within 5 minutes and 59 seconds of the scheduled time. Metro-North Railroad contracts with New York Transit to operate service on the Port Jervis Line.',\n",
       "  'PERIOD_YEAR': 2008,\n",
       "  'PERIOD_MONTH': 1,\n",
       "  'CATEGORY': 'Service Indicators',\n",
       "  'FREQUENCY': 'M',\n",
       "  'INDICATOR_UNIT': '%',\n",
       "  'YTD_TARGET': 94.4,\n",
       "  'YTD_ACTUAL': 96.0,\n",
       "  'MONTHLY_TARGET': 94.4,\n",
       "  'MONTHLY_ACTUAL': 96.0},\n",
       " {'AGENCY_NAME': 'Metro-North Railroad',\n",
       "  'INDICATOR_NAME': 'Port Jervis Line - OTP',\n",
       "  'DESCRIPTION': 'Percent of commuter trains that arrive at their destinations within 5 minutes and 59 seconds of the scheduled time. Metro-North Railroad contracts with New York Transit to operate service on the Port Jervis Line.',\n",
       "  'PERIOD_YEAR': 2008,\n",
       "  'PERIOD_MONTH': 2,\n",
       "  'CATEGORY': 'Service Indicators',\n",
       "  'FREQUENCY': 'M',\n",
       "  'INDICATOR_UNIT': '%',\n",
       "  'YTD_TARGET': 94.4,\n",
       "  'YTD_ACTUAL': 94.8,\n",
       "  'MONTHLY_TARGET': 94.4,\n",
       "  'MONTHLY_ACTUAL': 93.5},\n",
       " {'AGENCY_NAME': 'Metro-North Railroad',\n",
       "  'INDICATOR_NAME': 'Port Jervis Line - OTP',\n",
       "  'DESCRIPTION': 'Percent of commuter trains that arrive at their destinations within 5 minutes and 59 seconds of the scheduled time. Metro-North Railroad contracts with New York Transit to operate service on the Port Jervis Line.',\n",
       "  'PERIOD_YEAR': 2008,\n",
       "  'PERIOD_MONTH': 3,\n",
       "  'CATEGORY': 'Service Indicators',\n",
       "  'FREQUENCY': 'M',\n",
       "  'INDICATOR_UNIT': '%',\n",
       "  'YTD_TARGET': 94.4,\n",
       "  'YTD_ACTUAL': 96.0,\n",
       "  'MONTHLY_TARGET': 94.4,\n",
       "  'MONTHLY_ACTUAL': 98.5},\n",
       " {'AGENCY_NAME': 'Metro-North Railroad',\n",
       "  'INDICATOR_NAME': 'Port Jervis Line - OTP',\n",
       "  'DESCRIPTION': 'Percent of commuter trains that arrive at their destinations within 5 minutes and 59 seconds of the scheduled time. Metro-North Railroad contracts with New York Transit to operate service on the Port Jervis Line.',\n",
       "  'PERIOD_YEAR': 2008,\n",
       "  'PERIOD_MONTH': 4,\n",
       "  'CATEGORY': 'Service Indicators',\n",
       "  'FREQUENCY': 'M',\n",
       "  'INDICATOR_UNIT': '%',\n",
       "  'YTD_TARGET': 94.4,\n",
       "  'YTD_ACTUAL': 96.6,\n",
       "  'MONTHLY_TARGET': 94.4,\n",
       "  'MONTHLY_ACTUAL': 98.5},\n",
       " {'AGENCY_NAME': 'Metro-North Railroad',\n",
       "  'INDICATOR_NAME': 'Port Jervis Line - OTP',\n",
       "  'DESCRIPTION': 'Percent of commuter trains that arrive at their destinations within 5 minutes and 59 seconds of the scheduled time. Metro-North Railroad contracts with New York Transit to operate service on the Port Jervis Line.',\n",
       "  'PERIOD_YEAR': 2008,\n",
       "  'PERIOD_MONTH': 5,\n",
       "  'CATEGORY': 'Service Indicators',\n",
       "  'FREQUENCY': 'M',\n",
       "  'INDICATOR_UNIT': '%',\n",
       "  'YTD_TARGET': 94.4,\n",
       "  'YTD_ACTUAL': 96.4,\n",
       "  'MONTHLY_TARGET': 94.4,\n",
       "  'MONTHLY_ACTUAL': 95.5},\n",
       " {'AGENCY_NAME': 'Metro-North Railroad',\n",
       "  'INDICATOR_NAME': 'Port Jervis Line - OTP',\n",
       "  'DESCRIPTION': 'Percent of commuter trains that arrive at their destinations within 5 minutes and 59 seconds of the scheduled time. Metro-North Railroad contracts with New York Transit to operate service on the Port Jervis Line.',\n",
       "  'PERIOD_YEAR': 2008,\n",
       "  'PERIOD_MONTH': 6,\n",
       "  'CATEGORY': 'Service Indicators',\n",
       "  'FREQUENCY': 'M',\n",
       "  'INDICATOR_UNIT': '%',\n",
       "  'YTD_TARGET': 94.4,\n",
       "  'YTD_ACTUAL': 95.7,\n",
       "  'MONTHLY_TARGET': 94.4,\n",
       "  'MONTHLY_ACTUAL': 92.3},\n",
       " {'AGENCY_NAME': 'Metro-North Railroad',\n",
       "  'INDICATOR_NAME': 'Port Jervis Line - OTP',\n",
       "  'DESCRIPTION': 'Percent of commuter trains that arrive at their destinations within 5 minutes and 59 seconds of the scheduled time. Metro-North Railroad contracts with New York Transit to operate service on the Port Jervis Line.',\n",
       "  'PERIOD_YEAR': 2008,\n",
       "  'PERIOD_MONTH': 7,\n",
       "  'CATEGORY': 'Service Indicators',\n",
       "  'FREQUENCY': 'M',\n",
       "  'INDICATOR_UNIT': '%',\n",
       "  'YTD_TARGET': 94.4,\n",
       "  'YTD_ACTUAL': 95.4,\n",
       "  'MONTHLY_TARGET': 94.4,\n",
       "  'MONTHLY_ACTUAL': 93.6},\n",
       " {'AGENCY_NAME': 'Metro-North Railroad',\n",
       "  'INDICATOR_NAME': 'Port Jervis Line - OTP',\n",
       "  'DESCRIPTION': 'Percent of commuter trains that arrive at their destinations within 5 minutes and 59 seconds of the scheduled time. Metro-North Railroad contracts with New York Transit to operate service on the Port Jervis Line.',\n",
       "  'PERIOD_YEAR': 2008,\n",
       "  'PERIOD_MONTH': 8,\n",
       "  'CATEGORY': 'Service Indicators',\n",
       "  'FREQUENCY': 'M',\n",
       "  'INDICATOR_UNIT': '%',\n",
       "  'YTD_TARGET': 94.4,\n",
       "  'YTD_ACTUAL': 95.1,\n",
       "  'MONTHLY_TARGET': 94.4,\n",
       "  'MONTHLY_ACTUAL': 93.1},\n",
       " {'AGENCY_NAME': 'Metro-North Railroad',\n",
       "  'INDICATOR_NAME': 'Port Jervis Line - OTP',\n",
       "  'DESCRIPTION': 'Percent of commuter trains that arrive at their destinations within 5 minutes and 59 seconds of the scheduled time. Metro-North Railroad contracts with New York Transit to operate service on the Port Jervis Line.',\n",
       "  'PERIOD_YEAR': 2008,\n",
       "  'PERIOD_MONTH': 9,\n",
       "  'CATEGORY': 'Service Indicators',\n",
       "  'FREQUENCY': 'M',\n",
       "  'INDICATOR_UNIT': '%',\n",
       "  'YTD_TARGET': 94.4,\n",
       "  'YTD_ACTUAL': 94.7,\n",
       "  'MONTHLY_TARGET': 94.4,\n",
       "  'MONTHLY_ACTUAL': 91.1},\n",
       " {'AGENCY_NAME': 'Metro-North Railroad',\n",
       "  'INDICATOR_NAME': 'Port Jervis Line - OTP',\n",
       "  'DESCRIPTION': 'Percent of commuter trains that arrive at their destinations within 5 minutes and 59 seconds of the scheduled time. Metro-North Railroad contracts with New York Transit to operate service on the Port Jervis Line.',\n",
       "  'PERIOD_YEAR': 2008,\n",
       "  'PERIOD_MONTH': 10,\n",
       "  'CATEGORY': 'Service Indicators',\n",
       "  'FREQUENCY': 'M',\n",
       "  'INDICATOR_UNIT': '%',\n",
       "  'YTD_TARGET': 94.4,\n",
       "  'YTD_ACTUAL': 94.7,\n",
       "  'MONTHLY_TARGET': 94.4,\n",
       "  'MONTHLY_ACTUAL': 95.2},\n",
       " {'AGENCY_NAME': 'Metro-North Railroad',\n",
       "  'INDICATOR_NAME': 'Port Jervis Line - OTP',\n",
       "  'DESCRIPTION': 'Percent of commuter trains that arrive at their destinations within 5 minutes and 59 seconds of the scheduled time. Metro-North Railroad contracts with New York Transit to operate service on the Port Jervis Line.',\n",
       "  'PERIOD_YEAR': 2008,\n",
       "  'PERIOD_MONTH': 11,\n",
       "  'CATEGORY': 'Service Indicators',\n",
       "  'FREQUENCY': 'M',\n",
       "  'INDICATOR_UNIT': '%',\n",
       "  'YTD_TARGET': 94.4,\n",
       "  'YTD_ACTUAL': 94.8,\n",
       "  'MONTHLY_TARGET': 94.4,\n",
       "  'MONTHLY_ACTUAL': 95.4},\n",
       " {'AGENCY_NAME': 'Metro-North Railroad',\n",
       "  'INDICATOR_NAME': 'Port Jervis Line - OTP',\n",
       "  'DESCRIPTION': 'Percent of commuter trains that arrive at their destinations within 5 minutes and 59 seconds of the scheduled time. Metro-North Railroad contracts with New York Transit to operate service on the Port Jervis Line.',\n",
       "  'PERIOD_YEAR': 2008,\n",
       "  'PERIOD_MONTH': 12,\n",
       "  'CATEGORY': 'Service Indicators',\n",
       "  'FREQUENCY': 'M',\n",
       "  'INDICATOR_UNIT': '%',\n",
       "  'YTD_TARGET': 94.4,\n",
       "  'YTD_ACTUAL': 94.7,\n",
       "  'MONTHLY_TARGET': 94.4,\n",
       "  'MONTHLY_ACTUAL': 94.1},\n",
       " {'AGENCY_NAME': 'Metro-North Railroad',\n",
       "  'INDICATOR_NAME': 'Port Jervis Line - OTP',\n",
       "  'DESCRIPTION': 'Percent of commuter trains that arrive at their destinations within 5 minutes and 59 seconds of the scheduled time. Metro-North Railroad contracts with New York Transit to operate service on the Port Jervis Line.',\n",
       "  'PERIOD_YEAR': 2009,\n",
       "  'PERIOD_MONTH': 1,\n",
       "  'CATEGORY': 'Service Indicators',\n",
       "  'FREQUENCY': 'M',\n",
       "  'INDICATOR_UNIT': '%',\n",
       "  'YTD_TARGET': 95.0,\n",
       "  'YTD_ACTUAL': 94.5,\n",
       "  'MONTHLY_TARGET': 95.0,\n",
       "  'MONTHLY_ACTUAL': 94.5},\n",
       " {'AGENCY_NAME': 'Metro-North Railroad',\n",
       "  'INDICATOR_NAME': 'Port Jervis Line - OTP',\n",
       "  'DESCRIPTION': 'Percent of commuter trains that arrive at their destinations within 5 minutes and 59 seconds of the scheduled time. Metro-North Railroad contracts with New York Transit to operate service on the Port Jervis Line.',\n",
       "  'PERIOD_YEAR': 2009,\n",
       "  'PERIOD_MONTH': 2,\n",
       "  'CATEGORY': 'Service Indicators',\n",
       "  'FREQUENCY': 'M',\n",
       "  'INDICATOR_UNIT': '%',\n",
       "  'YTD_TARGET': 95.0,\n",
       "  'YTD_ACTUAL': 95.3,\n",
       "  'MONTHLY_TARGET': 95.0,\n",
       "  'MONTHLY_ACTUAL': 96.3},\n",
       " {'AGENCY_NAME': 'Metro-North Railroad',\n",
       "  'INDICATOR_NAME': 'Port Jervis Line - OTP',\n",
       "  'DESCRIPTION': 'Percent of commuter trains that arrive at their destinations within 5 minutes and 59 seconds of the scheduled time. Metro-North Railroad contracts with New York Transit to operate service on the Port Jervis Line.',\n",
       "  'PERIOD_YEAR': 2009,\n",
       "  'PERIOD_MONTH': 3,\n",
       "  'CATEGORY': 'Service Indicators',\n",
       "  'FREQUENCY': 'M',\n",
       "  'INDICATOR_UNIT': '%',\n",
       "  'YTD_TARGET': 95.0,\n",
       "  'YTD_ACTUAL': 95.8,\n",
       "  'MONTHLY_TARGET': 95.0,\n",
       "  'MONTHLY_ACTUAL': 96.6},\n",
       " {'AGENCY_NAME': 'Metro-North Railroad',\n",
       "  'INDICATOR_NAME': 'Port Jervis Line - OTP',\n",
       "  'DESCRIPTION': 'Percent of commuter trains that arrive at their destinations within 5 minutes and 59 seconds of the scheduled time. Metro-North Railroad contracts with New York Transit to operate service on the Port Jervis Line.',\n",
       "  'PERIOD_YEAR': 2009,\n",
       "  'PERIOD_MONTH': 4,\n",
       "  'CATEGORY': 'Service Indicators',\n",
       "  'FREQUENCY': 'M',\n",
       "  'INDICATOR_UNIT': '%',\n",
       "  'YTD_TARGET': 95.0,\n",
       "  'YTD_ACTUAL': 96.3,\n",
       "  'MONTHLY_TARGET': 95.0,\n",
       "  'MONTHLY_ACTUAL': 97.8},\n",
       " {'AGENCY_NAME': 'Metro-North Railroad',\n",
       "  'INDICATOR_NAME': 'Port Jervis Line - OTP',\n",
       "  'DESCRIPTION': 'Percent of commuter trains that arrive at their destinations within 5 minutes and 59 seconds of the scheduled time. Metro-North Railroad contracts with New York Transit to operate service on the Port Jervis Line.',\n",
       "  'PERIOD_YEAR': 2009,\n",
       "  'PERIOD_MONTH': 5,\n",
       "  'CATEGORY': 'Service Indicators',\n",
       "  'FREQUENCY': 'M',\n",
       "  'INDICATOR_UNIT': '%',\n",
       "  'YTD_TARGET': 95.0,\n",
       "  'YTD_ACTUAL': 96.7,\n",
       "  'MONTHLY_TARGET': 95.0,\n",
       "  'MONTHLY_ACTUAL': 98.4},\n",
       " {'AGENCY_NAME': 'Metro-North Railroad',\n",
       "  'INDICATOR_NAME': 'Port Jervis Line - OTP',\n",
       "  'DESCRIPTION': 'Percent of commuter trains that arrive at their destinations within 5 minutes and 59 seconds of the scheduled time. Metro-North Railroad contracts with New York Transit to operate service on the Port Jervis Line.',\n",
       "  'PERIOD_YEAR': 2009,\n",
       "  'PERIOD_MONTH': 6,\n",
       "  'CATEGORY': 'Service Indicators',\n",
       "  'FREQUENCY': 'M',\n",
       "  'INDICATOR_UNIT': '%',\n",
       "  'YTD_TARGET': 95.0,\n",
       "  'YTD_ACTUAL': 96.6,\n",
       "  'MONTHLY_TARGET': 95.0,\n",
       "  'MONTHLY_ACTUAL': 96.3},\n",
       " {'AGENCY_NAME': 'Metro-North Railroad',\n",
       "  'INDICATOR_NAME': 'Port Jervis Line - OTP',\n",
       "  'DESCRIPTION': 'Percent of commuter trains that arrive at their destinations within 5 minutes and 59 seconds of the scheduled time. Metro-North Railroad contracts with New York Transit to operate service on the Port Jervis Line.',\n",
       "  'PERIOD_YEAR': 2009,\n",
       "  'PERIOD_MONTH': 7,\n",
       "  'CATEGORY': 'Service Indicators',\n",
       "  'FREQUENCY': 'M',\n",
       "  'INDICATOR_UNIT': '%',\n",
       "  'YTD_TARGET': 95.0,\n",
       "  'YTD_ACTUAL': 96.5,\n",
       "  'MONTHLY_TARGET': 95.0,\n",
       "  'MONTHLY_ACTUAL': 95.6},\n",
       " {'AGENCY_NAME': 'Metro-North Railroad',\n",
       "  'INDICATOR_NAME': 'Port Jervis Line - OTP',\n",
       "  'DESCRIPTION': 'Percent of commuter trains that arrive at their destinations within 5 minutes and 59 seconds of the scheduled time. Metro-North Railroad contracts with New York Transit to operate service on the Port Jervis Line.',\n",
       "  'PERIOD_YEAR': 2009,\n",
       "  'PERIOD_MONTH': 8,\n",
       "  'CATEGORY': 'Service Indicators',\n",
       "  'FREQUENCY': 'M',\n",
       "  'INDICATOR_UNIT': '%',\n",
       "  'YTD_TARGET': 95.0,\n",
       "  'YTD_ACTUAL': 96.4,\n",
       "  'MONTHLY_TARGET': 95.0,\n",
       "  'MONTHLY_ACTUAL': 95.5},\n",
       " {'AGENCY_NAME': 'Metro-North Railroad',\n",
       "  'INDICATOR_NAME': 'Port Jervis Line - OTP',\n",
       "  'DESCRIPTION': 'Percent of commuter trains that arrive at their destinations within 5 minutes and 59 seconds of the scheduled time. Metro-North Railroad contracts with New York Transit to operate service on the Port Jervis Line.',\n",
       "  'PERIOD_YEAR': 2009,\n",
       "  'PERIOD_MONTH': 9,\n",
       "  'CATEGORY': 'Service Indicators',\n",
       "  'FREQUENCY': 'M',\n",
       "  'INDICATOR_UNIT': '%',\n",
       "  'YTD_TARGET': 95.0,\n",
       "  'YTD_ACTUAL': 96.3,\n",
       "  'MONTHLY_TARGET': 95.0,\n",
       "  'MONTHLY_ACTUAL': 95.5},\n",
       " {'AGENCY_NAME': 'Metro-North Railroad',\n",
       "  'INDICATOR_NAME': 'Port Jervis Line - OTP',\n",
       "  'DESCRIPTION': 'Percent of commuter trains that arrive at their destinations within 5 minutes and 59 seconds of the scheduled time. Metro-North Railroad contracts with New York Transit to operate service on the Port Jervis Line.',\n",
       "  'PERIOD_YEAR': 2009,\n",
       "  'PERIOD_MONTH': 10,\n",
       "  'CATEGORY': 'Service Indicators',\n",
       "  'FREQUENCY': 'M',\n",
       "  'INDICATOR_UNIT': '%',\n",
       "  'YTD_TARGET': 95.0,\n",
       "  'YTD_ACTUAL': 95.8,\n",
       "  'MONTHLY_TARGET': 95.0,\n",
       "  'MONTHLY_ACTUAL': 91.8},\n",
       " {'AGENCY_NAME': 'Metro-North Railroad',\n",
       "  'INDICATOR_NAME': 'Port Jervis Line - OTP',\n",
       "  'DESCRIPTION': 'Percent of commuter trains that arrive at their destinations within 5 minutes and 59 seconds of the scheduled time. Metro-North Railroad contracts with New York Transit to operate service on the Port Jervis Line.',\n",
       "  'PERIOD_YEAR': 2009,\n",
       "  'PERIOD_MONTH': 11,\n",
       "  'CATEGORY': 'Service Indicators',\n",
       "  'FREQUENCY': 'M',\n",
       "  'INDICATOR_UNIT': '%',\n",
       "  'YTD_TARGET': 95.0,\n",
       "  'YTD_ACTUAL': 95.7,\n",
       "  'MONTHLY_TARGET': 95.0,\n",
       "  'MONTHLY_ACTUAL': 94.4},\n",
       " {'AGENCY_NAME': 'Metro-North Railroad',\n",
       "  'INDICATOR_NAME': 'Port Jervis Line - OTP',\n",
       "  'DESCRIPTION': 'Percent of commuter trains that arrive at their destinations within 5 minutes and 59 seconds of the scheduled time. Metro-North Railroad contracts with New York Transit to operate service on the Port Jervis Line.',\n",
       "  'PERIOD_YEAR': 2009,\n",
       "  'PERIOD_MONTH': 12,\n",
       "  'CATEGORY': 'Service Indicators',\n",
       "  'FREQUENCY': 'M',\n",
       "  'INDICATOR_UNIT': '%',\n",
       "  'YTD_TARGET': 95.0,\n",
       "  'YTD_ACTUAL': 95.4,\n",
       "  'MONTHLY_TARGET': 95.0,\n",
       "  'MONTHLY_ACTUAL': 92.7},\n",
       " {'AGENCY_NAME': 'Metro-North Railroad',\n",
       "  'INDICATOR_NAME': 'Port Jervis Line - OTP',\n",
       "  'DESCRIPTION': 'Percent of commuter trains that arrive at their destinations within 5 minutes and 59 seconds of the scheduled time. Metro-North Railroad contracts with New York Transit to operate service on the Port Jervis Line.',\n",
       "  'PERIOD_YEAR': 2010,\n",
       "  'PERIOD_MONTH': 1,\n",
       "  'CATEGORY': 'Service Indicators',\n",
       "  'FREQUENCY': 'M',\n",
       "  'INDICATOR_UNIT': '%',\n",
       "  'YTD_TARGET': 95.2,\n",
       "  'YTD_ACTUAL': 96.7,\n",
       "  'MONTHLY_TARGET': 95.2,\n",
       "  'MONTHLY_ACTUAL': 96.7},\n",
       " {'AGENCY_NAME': 'Metro-North Railroad',\n",
       "  'INDICATOR_NAME': 'Port Jervis Line - OTP',\n",
       "  'DESCRIPTION': 'Percent of commuter trains that arrive at their destinations within 5 minutes and 59 seconds of the scheduled time. Metro-North Railroad contracts with New York Transit to operate service on the Port Jervis Line.',\n",
       "  'PERIOD_YEAR': 2010,\n",
       "  'PERIOD_MONTH': 2,\n",
       "  'CATEGORY': 'Service Indicators',\n",
       "  'FREQUENCY': 'M',\n",
       "  'INDICATOR_UNIT': '%',\n",
       "  'YTD_TARGET': 95.2,\n",
       "  'YTD_ACTUAL': 93.4,\n",
       "  'MONTHLY_TARGET': 95.2,\n",
       "  'MONTHLY_ACTUAL': 89.6},\n",
       " {'AGENCY_NAME': 'Metro-North Railroad',\n",
       "  'INDICATOR_NAME': 'Port Jervis Line - OTP',\n",
       "  'DESCRIPTION': 'Percent of commuter trains that arrive at their destinations within 5 minutes and 59 seconds of the scheduled time. Metro-North Railroad contracts with New York Transit to operate service on the Port Jervis Line.',\n",
       "  'PERIOD_YEAR': 2010,\n",
       "  'PERIOD_MONTH': 3,\n",
       "  'CATEGORY': 'Service Indicators',\n",
       "  'FREQUENCY': 'M',\n",
       "  'INDICATOR_UNIT': '%',\n",
       "  'YTD_TARGET': 95.2,\n",
       "  'YTD_ACTUAL': 94.4,\n",
       "  'MONTHLY_TARGET': 95.2,\n",
       "  'MONTHLY_ACTUAL': 96.3},\n",
       " {'AGENCY_NAME': 'Metro-North Railroad',\n",
       "  'INDICATOR_NAME': 'Port Jervis Line - OTP',\n",
       "  'DESCRIPTION': 'Percent of commuter trains that arrive at their destinations within 5 minutes and 59 seconds of the scheduled time. Metro-North Railroad contracts with New York Transit to operate service on the Port Jervis Line.',\n",
       "  'PERIOD_YEAR': 2010,\n",
       "  'PERIOD_MONTH': 4,\n",
       "  'CATEGORY': 'Service Indicators',\n",
       "  'FREQUENCY': 'M',\n",
       "  'INDICATOR_UNIT': '%',\n",
       "  'YTD_TARGET': 95.2,\n",
       "  'YTD_ACTUAL': 95.1,\n",
       "  'MONTHLY_TARGET': 95.2,\n",
       "  'MONTHLY_ACTUAL': 96.9},\n",
       " {'AGENCY_NAME': 'Metro-North Railroad',\n",
       "  'INDICATOR_NAME': 'Port Jervis Line - OTP',\n",
       "  'DESCRIPTION': 'Percent of commuter trains that arrive at their destinations within 5 minutes and 59 seconds of the scheduled time. Metro-North Railroad contracts with New York Transit to operate service on the Port Jervis Line.',\n",
       "  'PERIOD_YEAR': 2010,\n",
       "  'PERIOD_MONTH': 5,\n",
       "  'CATEGORY': 'Service Indicators',\n",
       "  'FREQUENCY': 'M',\n",
       "  'INDICATOR_UNIT': '%',\n",
       "  'YTD_TARGET': 95.2,\n",
       "  'YTD_ACTUAL': 95.5,\n",
       "  'MONTHLY_TARGET': 95.2,\n",
       "  'MONTHLY_ACTUAL': 97.2},\n",
       " {'AGENCY_NAME': 'Metro-North Railroad',\n",
       "  'INDICATOR_NAME': 'Port Jervis Line - OTP',\n",
       "  'DESCRIPTION': 'Percent of commuter trains that arrive at their destinations within 5 minutes and 59 seconds of the scheduled time. Metro-North Railroad contracts with New York Transit to operate service on the Port Jervis Line.',\n",
       "  'PERIOD_YEAR': 2010,\n",
       "  'PERIOD_MONTH': 6,\n",
       "  'CATEGORY': 'Service Indicators',\n",
       "  'FREQUENCY': 'M',\n",
       "  'INDICATOR_UNIT': '%',\n",
       "  'YTD_TARGET': 95.2,\n",
       "  'YTD_ACTUAL': 95.6,\n",
       "  'MONTHLY_TARGET': 95.2,\n",
       "  'MONTHLY_ACTUAL': 96.2},\n",
       " {'AGENCY_NAME': 'Metro-North Railroad',\n",
       "  'INDICATOR_NAME': 'Port Jervis Line - OTP',\n",
       "  'DESCRIPTION': 'Percent of commuter trains that arrive at their destinations within 5 minutes and 59 seconds of the scheduled time. Metro-North Railroad contracts with New York Transit to operate service on the Port Jervis Line.',\n",
       "  'PERIOD_YEAR': 2010,\n",
       "  'PERIOD_MONTH': 7,\n",
       "  'CATEGORY': 'Service Indicators',\n",
       "  'FREQUENCY': 'M',\n",
       "  'INDICATOR_UNIT': '%',\n",
       "  'YTD_TARGET': 95.2,\n",
       "  'YTD_ACTUAL': 95.5,\n",
       "  'MONTHLY_TARGET': 95.2,\n",
       "  'MONTHLY_ACTUAL': 94.8},\n",
       " {'AGENCY_NAME': 'Metro-North Railroad',\n",
       "  'INDICATOR_NAME': 'Port Jervis Line - OTP',\n",
       "  'DESCRIPTION': 'Percent of commuter trains that arrive at their destinations within 5 minutes and 59 seconds of the scheduled time. Metro-North Railroad contracts with New York Transit to operate service on the Port Jervis Line.',\n",
       "  'PERIOD_YEAR': 2010,\n",
       "  'PERIOD_MONTH': 8,\n",
       "  'CATEGORY': 'Service Indicators',\n",
       "  'FREQUENCY': 'M',\n",
       "  'INDICATOR_UNIT': '%',\n",
       "  'YTD_TARGET': 95.2,\n",
       "  'YTD_ACTUAL': 95.4,\n",
       "  'MONTHLY_TARGET': 95.2,\n",
       "  'MONTHLY_ACTUAL': 94.6},\n",
       " {'AGENCY_NAME': 'Metro-North Railroad',\n",
       "  'INDICATOR_NAME': 'Port Jervis Line - OTP',\n",
       "  'DESCRIPTION': 'Percent of commuter trains that arrive at their destinations within 5 minutes and 59 seconds of the scheduled time. Metro-North Railroad contracts with New York Transit to operate service on the Port Jervis Line.',\n",
       "  'PERIOD_YEAR': 2010,\n",
       "  'PERIOD_MONTH': 9,\n",
       "  'CATEGORY': 'Service Indicators',\n",
       "  'FREQUENCY': 'M',\n",
       "  'INDICATOR_UNIT': '%',\n",
       "  'YTD_TARGET': 95.2,\n",
       "  'YTD_ACTUAL': 95.3,\n",
       "  'MONTHLY_TARGET': 95.2,\n",
       "  'MONTHLY_ACTUAL': 95.1},\n",
       " {'AGENCY_NAME': 'Metro-North Railroad',\n",
       "  'INDICATOR_NAME': 'Port Jervis Line - OTP',\n",
       "  'DESCRIPTION': 'Percent of commuter trains that arrive at their destinations within 5 minutes and 59 seconds of the scheduled time. Metro-North Railroad contracts with New York Transit to operate service on the Port Jervis Line.',\n",
       "  'PERIOD_YEAR': 2010,\n",
       "  'PERIOD_MONTH': 10,\n",
       "  'CATEGORY': 'Service Indicators',\n",
       "  'FREQUENCY': 'M',\n",
       "  'INDICATOR_UNIT': '%',\n",
       "  'YTD_TARGET': 95.2,\n",
       "  'YTD_ACTUAL': 94.9,\n",
       "  'MONTHLY_TARGET': 95.2,\n",
       "  'MONTHLY_ACTUAL': 90.5},\n",
       " {'AGENCY_NAME': 'Metro-North Railroad',\n",
       "  'INDICATOR_NAME': 'Port Jervis Line - OTP',\n",
       "  'DESCRIPTION': 'Percent of commuter trains that arrive at their destinations within 5 minutes and 59 seconds of the scheduled time. Metro-North Railroad contracts with New York Transit to operate service on the Port Jervis Line.',\n",
       "  'PERIOD_YEAR': 2010,\n",
       "  'PERIOD_MONTH': 11,\n",
       "  'CATEGORY': 'Service Indicators',\n",
       "  'FREQUENCY': 'M',\n",
       "  'INDICATOR_UNIT': '%',\n",
       "  'YTD_TARGET': 95.2,\n",
       "  'YTD_ACTUAL': 94.8,\n",
       "  'MONTHLY_TARGET': 95.2,\n",
       "  'MONTHLY_ACTUAL': 93.9},\n",
       " {'AGENCY_NAME': 'Metro-North Railroad',\n",
       "  'INDICATOR_NAME': 'Port Jervis Line - OTP',\n",
       "  'DESCRIPTION': 'Percent of commuter trains that arrive at their destinations within 5 minutes and 59 seconds of the scheduled time. Metro-North Railroad contracts with New York Transit to operate service on the Port Jervis Line.',\n",
       "  'PERIOD_YEAR': 2010,\n",
       "  'PERIOD_MONTH': 12,\n",
       "  'CATEGORY': 'Service Indicators',\n",
       "  'FREQUENCY': 'M',\n",
       "  'INDICATOR_UNIT': '%',\n",
       "  'YTD_TARGET': 95.2,\n",
       "  'YTD_ACTUAL': 94.4,\n",
       "  'MONTHLY_TARGET': 95.2,\n",
       "  'MONTHLY_ACTUAL': 91.0},\n",
       " {'AGENCY_NAME': 'Metro-North Railroad',\n",
       "  'INDICATOR_NAME': 'Port Jervis Line - OTP',\n",
       "  'DESCRIPTION': 'Percent of commuter trains that arrive at their destinations within 5 minutes and 59 seconds of the scheduled time. Metro-North Railroad contracts with New York Transit to operate service on the Port Jervis Line.',\n",
       "  'PERIOD_YEAR': 2011,\n",
       "  'PERIOD_MONTH': 1,\n",
       "  'CATEGORY': 'Service Indicators',\n",
       "  'FREQUENCY': 'M',\n",
       "  'INDICATOR_UNIT': '%',\n",
       "  'YTD_TARGET': 95.5,\n",
       "  'YTD_ACTUAL': 88.0,\n",
       "  'MONTHLY_TARGET': 95.5,\n",
       "  'MONTHLY_ACTUAL': 88.0},\n",
       " {'AGENCY_NAME': 'Metro-North Railroad',\n",
       "  'INDICATOR_NAME': 'Port Jervis Line - OTP',\n",
       "  'DESCRIPTION': 'Percent of commuter trains that arrive at their destinations within 5 minutes and 59 seconds of the scheduled time. Metro-North Railroad contracts with New York Transit to operate service on the Port Jervis Line.',\n",
       "  'PERIOD_YEAR': 2011,\n",
       "  'PERIOD_MONTH': 2,\n",
       "  'CATEGORY': 'Service Indicators',\n",
       "  'FREQUENCY': 'M',\n",
       "  'INDICATOR_UNIT': '%',\n",
       "  'YTD_TARGET': 95.5,\n",
       "  'YTD_ACTUAL': 89.5,\n",
       "  'MONTHLY_TARGET': 95.5,\n",
       "  'MONTHLY_ACTUAL': 91.0},\n",
       " {'AGENCY_NAME': 'Metro-North Railroad',\n",
       "  'INDICATOR_NAME': 'Port Jervis Line - OTP',\n",
       "  'DESCRIPTION': 'Percent of commuter trains that arrive at their destinations within 5 minutes and 59 seconds of the scheduled time. Metro-North Railroad contracts with New York Transit to operate service on the Port Jervis Line.',\n",
       "  'PERIOD_YEAR': 2011,\n",
       "  'PERIOD_MONTH': 3,\n",
       "  'CATEGORY': 'Service Indicators',\n",
       "  'FREQUENCY': 'M',\n",
       "  'INDICATOR_UNIT': '%',\n",
       "  'YTD_TARGET': 95.5,\n",
       "  'YTD_ACTUAL': 92.0,\n",
       "  'MONTHLY_TARGET': 95.5,\n",
       "  'MONTHLY_ACTUAL': 96.6},\n",
       " {'AGENCY_NAME': 'Metro-North Railroad',\n",
       "  'INDICATOR_NAME': 'Port Jervis Line - OTP',\n",
       "  'DESCRIPTION': 'Percent of commuter trains that arrive at their destinations within 5 minutes and 59 seconds of the scheduled time. Metro-North Railroad contracts with New York Transit to operate service on the Port Jervis Line.',\n",
       "  'PERIOD_YEAR': 2011,\n",
       "  'PERIOD_MONTH': 4,\n",
       "  'CATEGORY': 'Service Indicators',\n",
       "  'FREQUENCY': 'M',\n",
       "  'INDICATOR_UNIT': '%',\n",
       "  'YTD_TARGET': 95.5,\n",
       "  'YTD_ACTUAL': 92.2,\n",
       "  'MONTHLY_TARGET': 95.5,\n",
       "  'MONTHLY_ACTUAL': 92.9},\n",
       " {'AGENCY_NAME': 'Metro-North Railroad',\n",
       "  'INDICATOR_NAME': 'Port Jervis Line - OTP',\n",
       "  'DESCRIPTION': 'Percent of commuter trains that arrive at their destinations within 5 minutes and 59 seconds of the scheduled time. Metro-North Railroad contracts with New York Transit to operate service on the Port Jervis Line.',\n",
       "  'PERIOD_YEAR': 2011,\n",
       "  'PERIOD_MONTH': 5,\n",
       "  'CATEGORY': 'Service Indicators',\n",
       "  'FREQUENCY': 'M',\n",
       "  'INDICATOR_UNIT': '%',\n",
       "  'YTD_TARGET': 95.5,\n",
       "  'YTD_ACTUAL': '',\n",
       "  'MONTHLY_TARGET': 95.5,\n",
       "  'MONTHLY_ACTUAL': ''},\n",
       " {'AGENCY_NAME': 'Metro-North Railroad',\n",
       "  'INDICATOR_NAME': 'Port Jervis Line - OTP',\n",
       "  'DESCRIPTION': 'Percent of commuter trains that arrive at their destinations within 5 minutes and 59 seconds of the scheduled time. Metro-North Railroad contracts with New York Transit to operate service on the Port Jervis Line.',\n",
       "  'PERIOD_YEAR': 2011,\n",
       "  'PERIOD_MONTH': 6,\n",
       "  'CATEGORY': 'Service Indicators',\n",
       "  'FREQUENCY': 'M',\n",
       "  'INDICATOR_UNIT': '%',\n",
       "  'YTD_TARGET': 95.5,\n",
       "  'YTD_ACTUAL': '',\n",
       "  'MONTHLY_TARGET': 95.5,\n",
       "  'MONTHLY_ACTUAL': ''},\n",
       " {'AGENCY_NAME': 'Metro-North Railroad',\n",
       "  'INDICATOR_NAME': 'Port Jervis Line - OTP',\n",
       "  'DESCRIPTION': 'Percent of commuter trains that arrive at their destinations within 5 minutes and 59 seconds of the scheduled time. Metro-North Railroad contracts with New York Transit to operate service on the Port Jervis Line.',\n",
       "  'PERIOD_YEAR': 2011,\n",
       "  'PERIOD_MONTH': 7,\n",
       "  'CATEGORY': 'Service Indicators',\n",
       "  'FREQUENCY': 'M',\n",
       "  'INDICATOR_UNIT': '%',\n",
       "  'YTD_TARGET': 95.5,\n",
       "  'YTD_ACTUAL': '',\n",
       "  'MONTHLY_TARGET': 95.5,\n",
       "  'MONTHLY_ACTUAL': ''},\n",
       " {'AGENCY_NAME': 'Metro-North Railroad',\n",
       "  'INDICATOR_NAME': 'Port Jervis Line - OTP',\n",
       "  'DESCRIPTION': 'Percent of commuter trains that arrive at their destinations within 5 minutes and 59 seconds of the scheduled time. Metro-North Railroad contracts with New York Transit to operate service on the Port Jervis Line.',\n",
       "  'PERIOD_YEAR': 2011,\n",
       "  'PERIOD_MONTH': 8,\n",
       "  'CATEGORY': 'Service Indicators',\n",
       "  'FREQUENCY': 'M',\n",
       "  'INDICATOR_UNIT': '%',\n",
       "  'YTD_TARGET': 95.5,\n",
       "  'YTD_ACTUAL': '',\n",
       "  'MONTHLY_TARGET': 95.5,\n",
       "  'MONTHLY_ACTUAL': ''},\n",
       " {'AGENCY_NAME': 'Metro-North Railroad',\n",
       "  'INDICATOR_NAME': 'Port Jervis Line - OTP',\n",
       "  'DESCRIPTION': 'Percent of commuter trains that arrive at their destinations within 5 minutes and 59 seconds of the scheduled time. Metro-North Railroad contracts with New York Transit to operate service on the Port Jervis Line.',\n",
       "  'PERIOD_YEAR': 2011,\n",
       "  'PERIOD_MONTH': 9,\n",
       "  'CATEGORY': 'Service Indicators',\n",
       "  'FREQUENCY': 'M',\n",
       "  'INDICATOR_UNIT': '%',\n",
       "  'YTD_TARGET': 95.5,\n",
       "  'YTD_ACTUAL': '',\n",
       "  'MONTHLY_TARGET': 95.5,\n",
       "  'MONTHLY_ACTUAL': ''},\n",
       " {'AGENCY_NAME': 'Metro-North Railroad',\n",
       "  'INDICATOR_NAME': 'Port Jervis Line - OTP',\n",
       "  'DESCRIPTION': 'Percent of commuter trains that arrive at their destinations within 5 minutes and 59 seconds of the scheduled time. Metro-North Railroad contracts with New York Transit to operate service on the Port Jervis Line.',\n",
       "  'PERIOD_YEAR': 2011,\n",
       "  'PERIOD_MONTH': 10,\n",
       "  'CATEGORY': 'Service Indicators',\n",
       "  'FREQUENCY': 'M',\n",
       "  'INDICATOR_UNIT': '%',\n",
       "  'YTD_TARGET': 95.5,\n",
       "  'YTD_ACTUAL': '',\n",
       "  'MONTHLY_TARGET': 95.5,\n",
       "  'MONTHLY_ACTUAL': ''},\n",
       " {'AGENCY_NAME': 'Metro-North Railroad',\n",
       "  'INDICATOR_NAME': 'Port Jervis Line - OTP',\n",
       "  'DESCRIPTION': 'Percent of commuter trains that arrive at their destinations within 5 minutes and 59 seconds of the scheduled time. Metro-North Railroad contracts with New York Transit to operate service on the Port Jervis Line.',\n",
       "  'PERIOD_YEAR': 2011,\n",
       "  'PERIOD_MONTH': 11,\n",
       "  'CATEGORY': 'Service Indicators',\n",
       "  'FREQUENCY': 'M',\n",
       "  'INDICATOR_UNIT': '%',\n",
       "  'YTD_TARGET': 95.5,\n",
       "  'YTD_ACTUAL': '',\n",
       "  'MONTHLY_TARGET': 95.5,\n",
       "  'MONTHLY_ACTUAL': ''},\n",
       " {'AGENCY_NAME': 'Metro-North Railroad',\n",
       "  'INDICATOR_NAME': 'Port Jervis Line - OTP',\n",
       "  'DESCRIPTION': 'Percent of commuter trains that arrive at their destinations within 5 minutes and 59 seconds of the scheduled time. Metro-North Railroad contracts with New York Transit to operate service on the Port Jervis Line.',\n",
       "  'PERIOD_YEAR': 2011,\n",
       "  'PERIOD_MONTH': 12,\n",
       "  'CATEGORY': 'Service Indicators',\n",
       "  'FREQUENCY': 'M',\n",
       "  'INDICATOR_UNIT': '%',\n",
       "  'YTD_TARGET': 95.5,\n",
       "  'YTD_ACTUAL': '',\n",
       "  'MONTHLY_TARGET': 95.5,\n",
       "  'MONTHLY_ACTUAL': ''},\n",
       " {'AGENCY_NAME': 'Metro-North Railroad',\n",
       "  'INDICATOR_NAME': 'Pascack Valley Line - OTP',\n",
       "  'DESCRIPTION': 'Percent of commuter trains that arrive at their destinations within 5 minutes and 59 seconds of the scheduled time. Metro-North Railroad contracts with New Jersey Transit to operate service on the Pascack Valley Line.',\n",
       "  'PERIOD_YEAR': 2008,\n",
       "  'PERIOD_MONTH': 1,\n",
       "  'CATEGORY': 'Service Indicators',\n",
       "  'FREQUENCY': 'M',\n",
       "  'INDICATOR_UNIT': '%',\n",
       "  'YTD_TARGET': 95.6,\n",
       "  'YTD_ACTUAL': 97.5,\n",
       "  'MONTHLY_TARGET': 95.6,\n",
       "  'MONTHLY_ACTUAL': 97.5},\n",
       " {'AGENCY_NAME': 'Metro-North Railroad',\n",
       "  'INDICATOR_NAME': 'Pascack Valley Line - OTP',\n",
       "  'DESCRIPTION': 'Percent of commuter trains that arrive at their destinations within 5 minutes and 59 seconds of the scheduled time. Metro-North Railroad contracts with New Jersey Transit to operate service on the Pascack Valley Line.',\n",
       "  'PERIOD_YEAR': 2008,\n",
       "  'PERIOD_MONTH': 2,\n",
       "  'CATEGORY': 'Service Indicators',\n",
       "  'FREQUENCY': 'M',\n",
       "  'INDICATOR_UNIT': '%',\n",
       "  'YTD_TARGET': 95.6,\n",
       "  'YTD_ACTUAL': 96.8,\n",
       "  'MONTHLY_TARGET': 95.6,\n",
       "  'MONTHLY_ACTUAL': 96.1},\n",
       " {'AGENCY_NAME': 'Metro-North Railroad',\n",
       "  'INDICATOR_NAME': 'Pascack Valley Line - OTP',\n",
       "  'DESCRIPTION': 'Percent of commuter trains that arrive at their destinations within 5 minutes and 59 seconds of the scheduled time. Metro-North Railroad contracts with New Jersey Transit to operate service on the Pascack Valley Line.',\n",
       "  'PERIOD_YEAR': 2008,\n",
       "  'PERIOD_MONTH': 3,\n",
       "  'CATEGORY': 'Service Indicators',\n",
       "  'FREQUENCY': 'M',\n",
       "  'INDICATOR_UNIT': '%',\n",
       "  'YTD_TARGET': 95.6,\n",
       "  'YTD_ACTUAL': 96.5,\n",
       "  'MONTHLY_TARGET': 95.6,\n",
       "  'MONTHLY_ACTUAL': 95.8},\n",
       " {'AGENCY_NAME': 'Metro-North Railroad',\n",
       "  'INDICATOR_NAME': 'Pascack Valley Line - OTP',\n",
       "  'DESCRIPTION': 'Percent of commuter trains that arrive at their destinations within 5 minutes and 59 seconds of the scheduled time. Metro-North Railroad contracts with New Jersey Transit to operate service on the Pascack Valley Line.',\n",
       "  'PERIOD_YEAR': 2008,\n",
       "  'PERIOD_MONTH': 4,\n",
       "  'CATEGORY': 'Service Indicators',\n",
       "  'FREQUENCY': 'M',\n",
       "  'INDICATOR_UNIT': '%',\n",
       "  'YTD_TARGET': 95.6,\n",
       "  'YTD_ACTUAL': 96.9,\n",
       "  'MONTHLY_TARGET': 95.6,\n",
       "  'MONTHLY_ACTUAL': 98.2},\n",
       " {'AGENCY_NAME': 'Metro-North Railroad',\n",
       "  'INDICATOR_NAME': 'Pascack Valley Line - OTP',\n",
       "  'DESCRIPTION': 'Percent of commuter trains that arrive at their destinations within 5 minutes and 59 seconds of the scheduled time. Metro-North Railroad contracts with New Jersey Transit to operate service on the Pascack Valley Line.',\n",
       "  'PERIOD_YEAR': 2008,\n",
       "  'PERIOD_MONTH': 5,\n",
       "  'CATEGORY': 'Service Indicators',\n",
       "  'FREQUENCY': 'M',\n",
       "  'INDICATOR_UNIT': '%',\n",
       "  'YTD_TARGET': 95.6,\n",
       "  'YTD_ACTUAL': 96.7,\n",
       "  'MONTHLY_TARGET': 95.6,\n",
       "  'MONTHLY_ACTUAL': 96.0},\n",
       " {'AGENCY_NAME': 'Metro-North Railroad',\n",
       "  'INDICATOR_NAME': 'Pascack Valley Line - OTP',\n",
       "  'DESCRIPTION': 'Percent of commuter trains that arrive at their destinations within 5 minutes and 59 seconds of the scheduled time. Metro-North Railroad contracts with New Jersey Transit to operate service on the Pascack Valley Line.',\n",
       "  'PERIOD_YEAR': 2008,\n",
       "  'PERIOD_MONTH': 6,\n",
       "  'CATEGORY': 'Service Indicators',\n",
       "  'FREQUENCY': 'M',\n",
       "  'INDICATOR_UNIT': '%',\n",
       "  'YTD_TARGET': 95.6,\n",
       "  'YTD_ACTUAL': 96.6,\n",
       "  'MONTHLY_TARGET': 95.6,\n",
       "  'MONTHLY_ACTUAL': 95.8},\n",
       " {'AGENCY_NAME': 'Metro-North Railroad',\n",
       "  'INDICATOR_NAME': 'Pascack Valley Line - OTP',\n",
       "  'DESCRIPTION': 'Percent of commuter trains that arrive at their destinations within 5 minutes and 59 seconds of the scheduled time. Metro-North Railroad contracts with New Jersey Transit to operate service on the Pascack Valley Line.',\n",
       "  'PERIOD_YEAR': 2008,\n",
       "  'PERIOD_MONTH': 7,\n",
       "  'CATEGORY': 'Service Indicators',\n",
       "  'FREQUENCY': 'M',\n",
       "  'INDICATOR_UNIT': '%',\n",
       "  'YTD_TARGET': 95.6,\n",
       "  'YTD_ACTUAL': 96.8,\n",
       "  'MONTHLY_TARGET': 95.6,\n",
       "  'MONTHLY_ACTUAL': 97.7},\n",
       " {'AGENCY_NAME': 'Metro-North Railroad',\n",
       "  'INDICATOR_NAME': 'Pascack Valley Line - OTP',\n",
       "  'DESCRIPTION': 'Percent of commuter trains that arrive at their destinations within 5 minutes and 59 seconds of the scheduled time. Metro-North Railroad contracts with New Jersey Transit to operate service on the Pascack Valley Line.',\n",
       "  'PERIOD_YEAR': 2008,\n",
       "  'PERIOD_MONTH': 8,\n",
       "  'CATEGORY': 'Service Indicators',\n",
       "  'FREQUENCY': 'M',\n",
       "  'INDICATOR_UNIT': '%',\n",
       "  'YTD_TARGET': 95.6,\n",
       "  'YTD_ACTUAL': 97.0,\n",
       "  'MONTHLY_TARGET': 95.6,\n",
       "  'MONTHLY_ACTUAL': 98.6},\n",
       " {'AGENCY_NAME': 'Metro-North Railroad',\n",
       "  'INDICATOR_NAME': 'Pascack Valley Line - OTP',\n",
       "  'DESCRIPTION': 'Percent of commuter trains that arrive at their destinations within 5 minutes and 59 seconds of the scheduled time. Metro-North Railroad contracts with New Jersey Transit to operate service on the Pascack Valley Line.',\n",
       "  'PERIOD_YEAR': 2008,\n",
       "  'PERIOD_MONTH': 9,\n",
       "  'CATEGORY': 'Service Indicators',\n",
       "  'FREQUENCY': 'M',\n",
       "  'INDICATOR_UNIT': '%',\n",
       "  'YTD_TARGET': 95.6,\n",
       "  'YTD_ACTUAL': 96.8,\n",
       "  'MONTHLY_TARGET': 95.6,\n",
       "  'MONTHLY_ACTUAL': 95.5},\n",
       " {'AGENCY_NAME': 'Metro-North Railroad',\n",
       "  'INDICATOR_NAME': 'Pascack Valley Line - OTP',\n",
       "  'DESCRIPTION': 'Percent of commuter trains that arrive at their destinations within 5 minutes and 59 seconds of the scheduled time. Metro-North Railroad contracts with New Jersey Transit to operate service on the Pascack Valley Line.',\n",
       "  'PERIOD_YEAR': 2008,\n",
       "  'PERIOD_MONTH': 10,\n",
       "  'CATEGORY': 'Service Indicators',\n",
       "  'FREQUENCY': 'M',\n",
       "  'INDICATOR_UNIT': '%',\n",
       "  'YTD_TARGET': 95.6,\n",
       "  'YTD_ACTUAL': 96.9,\n",
       "  'MONTHLY_TARGET': 95.6,\n",
       "  'MONTHLY_ACTUAL': 97.2},\n",
       " {'AGENCY_NAME': 'Metro-North Railroad',\n",
       "  'INDICATOR_NAME': 'Pascack Valley Line - OTP',\n",
       "  'DESCRIPTION': 'Percent of commuter trains that arrive at their destinations within 5 minutes and 59 seconds of the scheduled time. Metro-North Railroad contracts with New Jersey Transit to operate service on the Pascack Valley Line.',\n",
       "  'PERIOD_YEAR': 2008,\n",
       "  'PERIOD_MONTH': 11,\n",
       "  'CATEGORY': 'Service Indicators',\n",
       "  'FREQUENCY': 'M',\n",
       "  'INDICATOR_UNIT': '%',\n",
       "  'YTD_TARGET': 95.6,\n",
       "  'YTD_ACTUAL': 97.0,\n",
       "  'MONTHLY_TARGET': 95.6,\n",
       "  'MONTHLY_ACTUAL': 97.9},\n",
       " {'AGENCY_NAME': 'Metro-North Railroad',\n",
       "  'INDICATOR_NAME': 'Pascack Valley Line - OTP',\n",
       "  'DESCRIPTION': 'Percent of commuter trains that arrive at their destinations within 5 minutes and 59 seconds of the scheduled time. Metro-North Railroad contracts with New Jersey Transit to operate service on the Pascack Valley Line.',\n",
       "  'PERIOD_YEAR': 2008,\n",
       "  'PERIOD_MONTH': 12,\n",
       "  'CATEGORY': 'Service Indicators',\n",
       "  'FREQUENCY': 'M',\n",
       "  'INDICATOR_UNIT': '%',\n",
       "  'YTD_TARGET': 95.6,\n",
       "  'YTD_ACTUAL': 96.9,\n",
       "  'MONTHLY_TARGET': 95.6,\n",
       "  'MONTHLY_ACTUAL': 95.8},\n",
       " {'AGENCY_NAME': 'Metro-North Railroad',\n",
       "  'INDICATOR_NAME': 'Pascack Valley Line - OTP',\n",
       "  'DESCRIPTION': 'Percent of commuter trains that arrive at their destinations within 5 minutes and 59 seconds of the scheduled time. Metro-North Railroad contracts with New Jersey Transit to operate service on the Pascack Valley Line.',\n",
       "  'PERIOD_YEAR': 2009,\n",
       "  'PERIOD_MONTH': 1,\n",
       "  'CATEGORY': 'Service Indicators',\n",
       "  'FREQUENCY': 'M',\n",
       "  'INDICATOR_UNIT': '%',\n",
       "  'YTD_TARGET': 97.0,\n",
       "  'YTD_ACTUAL': 91.4,\n",
       "  'MONTHLY_TARGET': 97.0,\n",
       "  'MONTHLY_ACTUAL': 91.4},\n",
       " {'AGENCY_NAME': 'Metro-North Railroad',\n",
       "  'INDICATOR_NAME': 'Pascack Valley Line - OTP',\n",
       "  'DESCRIPTION': 'Percent of commuter trains that arrive at their destinations within 5 minutes and 59 seconds of the scheduled time. Metro-North Railroad contracts with New Jersey Transit to operate service on the Pascack Valley Line.',\n",
       "  'PERIOD_YEAR': 2009,\n",
       "  'PERIOD_MONTH': 2,\n",
       "  'CATEGORY': 'Service Indicators',\n",
       "  'FREQUENCY': 'M',\n",
       "  'INDICATOR_UNIT': '%',\n",
       "  'YTD_TARGET': 97.0,\n",
       "  'YTD_ACTUAL': 94.1,\n",
       "  'MONTHLY_TARGET': 97.0,\n",
       "  'MONTHLY_ACTUAL': 97.2},\n",
       " {'AGENCY_NAME': 'Metro-North Railroad',\n",
       "  'INDICATOR_NAME': 'Pascack Valley Line - OTP',\n",
       "  'DESCRIPTION': 'Percent of commuter trains that arrive at their destinations within 5 minutes and 59 seconds of the scheduled time. Metro-North Railroad contracts with New Jersey Transit to operate service on the Pascack Valley Line.',\n",
       "  'PERIOD_YEAR': 2009,\n",
       "  'PERIOD_MONTH': 3,\n",
       "  'CATEGORY': 'Service Indicators',\n",
       "  'FREQUENCY': 'M',\n",
       "  'INDICATOR_UNIT': '%',\n",
       "  'YTD_TARGET': 97.0,\n",
       "  'YTD_ACTUAL': 95.2,\n",
       "  'MONTHLY_TARGET': 97.0,\n",
       "  'MONTHLY_ACTUAL': 97.1},\n",
       " {'AGENCY_NAME': 'Metro-North Railroad',\n",
       "  'INDICATOR_NAME': 'Pascack Valley Line - OTP',\n",
       "  'DESCRIPTION': 'Percent of commuter trains that arrive at their destinations within 5 minutes and 59 seconds of the scheduled time. Metro-North Railroad contracts with New Jersey Transit to operate service on the Pascack Valley Line.',\n",
       "  'PERIOD_YEAR': 2009,\n",
       "  'PERIOD_MONTH': 4,\n",
       "  'CATEGORY': 'Service Indicators',\n",
       "  'FREQUENCY': 'M',\n",
       "  'INDICATOR_UNIT': '%',\n",
       "  'YTD_TARGET': 97.0,\n",
       "  'YTD_ACTUAL': 95.6,\n",
       "  'MONTHLY_TARGET': 97.0,\n",
       "  'MONTHLY_ACTUAL': 96.6},\n",
       " {'AGENCY_NAME': 'Metro-North Railroad',\n",
       "  'INDICATOR_NAME': 'Pascack Valley Line - OTP',\n",
       "  'DESCRIPTION': 'Percent of commuter trains that arrive at their destinations within 5 minutes and 59 seconds of the scheduled time. Metro-North Railroad contracts with New Jersey Transit to operate service on the Pascack Valley Line.',\n",
       "  'PERIOD_YEAR': 2009,\n",
       "  'PERIOD_MONTH': 5,\n",
       "  'CATEGORY': 'Service Indicators',\n",
       "  'FREQUENCY': 'M',\n",
       "  'INDICATOR_UNIT': '%',\n",
       "  'YTD_TARGET': 97.0,\n",
       "  'YTD_ACTUAL': 95.9,\n",
       "  'MONTHLY_TARGET': 97.0,\n",
       "  'MONTHLY_ACTUAL': 97.5},\n",
       " {'AGENCY_NAME': 'Metro-North Railroad',\n",
       "  'INDICATOR_NAME': 'Pascack Valley Line - OTP',\n",
       "  'DESCRIPTION': 'Percent of commuter trains that arrive at their destinations within 5 minutes and 59 seconds of the scheduled time. Metro-North Railroad contracts with New Jersey Transit to operate service on the Pascack Valley Line.',\n",
       "  'PERIOD_YEAR': 2009,\n",
       "  'PERIOD_MONTH': 6,\n",
       "  'CATEGORY': 'Service Indicators',\n",
       "  'FREQUENCY': 'M',\n",
       "  'INDICATOR_UNIT': '%',\n",
       "  'YTD_TARGET': 97.0,\n",
       "  'YTD_ACTUAL': 96.3,\n",
       "  'MONTHLY_TARGET': 97.0,\n",
       "  'MONTHLY_ACTUAL': 98.0},\n",
       " {'AGENCY_NAME': 'Metro-North Railroad',\n",
       "  'INDICATOR_NAME': 'Pascack Valley Line - OTP',\n",
       "  'DESCRIPTION': 'Percent of commuter trains that arrive at their destinations within 5 minutes and 59 seconds of the scheduled time. Metro-North Railroad contracts with New Jersey Transit to operate service on the Pascack Valley Line.',\n",
       "  'PERIOD_YEAR': 2009,\n",
       "  'PERIOD_MONTH': 7,\n",
       "  'CATEGORY': 'Service Indicators',\n",
       "  'FREQUENCY': 'M',\n",
       "  'INDICATOR_UNIT': '%',\n",
       "  'YTD_TARGET': 97.0,\n",
       "  'YTD_ACTUAL': 96.4,\n",
       "  'MONTHLY_TARGET': 97.0,\n",
       "  'MONTHLY_ACTUAL': 97.4},\n",
       " {'AGENCY_NAME': 'Metro-North Railroad',\n",
       "  'INDICATOR_NAME': 'Pascack Valley Line - OTP',\n",
       "  'DESCRIPTION': 'Percent of commuter trains that arrive at their destinations within 5 minutes and 59 seconds of the scheduled time. Metro-North Railroad contracts with New Jersey Transit to operate service on the Pascack Valley Line.',\n",
       "  'PERIOD_YEAR': 2009,\n",
       "  'PERIOD_MONTH': 8,\n",
       "  'CATEGORY': 'Service Indicators',\n",
       "  'FREQUENCY': 'M',\n",
       "  'INDICATOR_UNIT': '%',\n",
       "  'YTD_TARGET': 97.0,\n",
       "  'YTD_ACTUAL': 96.4,\n",
       "  'MONTHLY_TARGET': 97.0,\n",
       "  'MONTHLY_ACTUAL': 95.9},\n",
       " {'AGENCY_NAME': 'Metro-North Railroad',\n",
       "  'INDICATOR_NAME': 'Pascack Valley Line - OTP',\n",
       "  'DESCRIPTION': 'Percent of commuter trains that arrive at their destinations within 5 minutes and 59 seconds of the scheduled time. Metro-North Railroad contracts with New Jersey Transit to operate service on the Pascack Valley Line.',\n",
       "  'PERIOD_YEAR': 2009,\n",
       "  'PERIOD_MONTH': 9,\n",
       "  'CATEGORY': 'Service Indicators',\n",
       "  'FREQUENCY': 'M',\n",
       "  'INDICATOR_UNIT': '%',\n",
       "  'YTD_TARGET': 97.0,\n",
       "  'YTD_ACTUAL': 96.4,\n",
       "  'MONTHLY_TARGET': 97.0,\n",
       "  'MONTHLY_ACTUAL': 96.5},\n",
       " {'AGENCY_NAME': 'Metro-North Railroad',\n",
       "  'INDICATOR_NAME': 'Pascack Valley Line - OTP',\n",
       "  'DESCRIPTION': 'Percent of commuter trains that arrive at their destinations within 5 minutes and 59 seconds of the scheduled time. Metro-North Railroad contracts with New Jersey Transit to operate service on the Pascack Valley Line.',\n",
       "  'PERIOD_YEAR': 2009,\n",
       "  'PERIOD_MONTH': 10,\n",
       "  'CATEGORY': 'Service Indicators',\n",
       "  'FREQUENCY': 'M',\n",
       "  'INDICATOR_UNIT': '%',\n",
       "  'YTD_TARGET': 97.0,\n",
       "  'YTD_ACTUAL': 96.4,\n",
       "  'MONTHLY_TARGET': 97.0,\n",
       "  'MONTHLY_ACTUAL': 96.9},\n",
       " {'AGENCY_NAME': 'Metro-North Railroad',\n",
       "  'INDICATOR_NAME': 'Pascack Valley Line - OTP',\n",
       "  'DESCRIPTION': 'Percent of commuter trains that arrive at their destinations within 5 minutes and 59 seconds of the scheduled time. Metro-North Railroad contracts with New Jersey Transit to operate service on the Pascack Valley Line.',\n",
       "  'PERIOD_YEAR': 2009,\n",
       "  'PERIOD_MONTH': 11,\n",
       "  'CATEGORY': 'Service Indicators',\n",
       "  'FREQUENCY': 'M',\n",
       "  'INDICATOR_UNIT': '%',\n",
       "  'YTD_TARGET': 97.0,\n",
       "  'YTD_ACTUAL': 96.5,\n",
       "  'MONTHLY_TARGET': 97.0,\n",
       "  'MONTHLY_ACTUAL': 96.5},\n",
       " {'AGENCY_NAME': 'Metro-North Railroad',\n",
       "  'INDICATOR_NAME': 'Pascack Valley Line - OTP',\n",
       "  'DESCRIPTION': 'Percent of commuter trains that arrive at their destinations within 5 minutes and 59 seconds of the scheduled time. Metro-North Railroad contracts with New Jersey Transit to operate service on the Pascack Valley Line.',\n",
       "  'PERIOD_YEAR': 2009,\n",
       "  'PERIOD_MONTH': 12,\n",
       "  'CATEGORY': 'Service Indicators',\n",
       "  'FREQUENCY': 'M',\n",
       "  'INDICATOR_UNIT': '%',\n",
       "  'YTD_TARGET': 97.0,\n",
       "  'YTD_ACTUAL': 96.5,\n",
       "  'MONTHLY_TARGET': 97.0,\n",
       "  'MONTHLY_ACTUAL': 96.5},\n",
       " {'AGENCY_NAME': 'Metro-North Railroad',\n",
       "  'INDICATOR_NAME': 'Pascack Valley Line - OTP',\n",
       "  'DESCRIPTION': 'Percent of commuter trains that arrive at their destinations within 5 minutes and 59 seconds of the scheduled time. Metro-North Railroad contracts with New Jersey Transit to operate service on the Pascack Valley Line.',\n",
       "  'PERIOD_YEAR': 2010,\n",
       "  'PERIOD_MONTH': 1,\n",
       "  'CATEGORY': 'Service Indicators',\n",
       "  'FREQUENCY': 'M',\n",
       "  'INDICATOR_UNIT': '%',\n",
       "  'YTD_TARGET': 97.0,\n",
       "  'YTD_ACTUAL': 98.8,\n",
       "  'MONTHLY_TARGET': 97.0,\n",
       "  'MONTHLY_ACTUAL': 98.8},\n",
       " {'AGENCY_NAME': 'Metro-North Railroad',\n",
       "  'INDICATOR_NAME': 'Pascack Valley Line - OTP',\n",
       "  'DESCRIPTION': 'Percent of commuter trains that arrive at their destinations within 5 minutes and 59 seconds of the scheduled time. Metro-North Railroad contracts with New Jersey Transit to operate service on the Pascack Valley Line.',\n",
       "  'PERIOD_YEAR': 2010,\n",
       "  'PERIOD_MONTH': 2,\n",
       "  'CATEGORY': 'Service Indicators',\n",
       "  'FREQUENCY': 'M',\n",
       "  'INDICATOR_UNIT': '%',\n",
       "  'YTD_TARGET': 97.0,\n",
       "  'YTD_ACTUAL': 97.1,\n",
       "  'MONTHLY_TARGET': 97.0,\n",
       "  'MONTHLY_ACTUAL': 95.2},\n",
       " {'AGENCY_NAME': 'Metro-North Railroad',\n",
       "  'INDICATOR_NAME': 'Pascack Valley Line - OTP',\n",
       "  'DESCRIPTION': 'Percent of commuter trains that arrive at their destinations within 5 minutes and 59 seconds of the scheduled time. Metro-North Railroad contracts with New Jersey Transit to operate service on the Pascack Valley Line.',\n",
       "  'PERIOD_YEAR': 2010,\n",
       "  'PERIOD_MONTH': 3,\n",
       "  'CATEGORY': 'Service Indicators',\n",
       "  'FREQUENCY': 'M',\n",
       "  'INDICATOR_UNIT': '%',\n",
       "  'YTD_TARGET': 97.0,\n",
       "  'YTD_ACTUAL': 97.2,\n",
       "  'MONTHLY_TARGET': 97.0,\n",
       "  'MONTHLY_ACTUAL': 97.3},\n",
       " {'AGENCY_NAME': 'Metro-North Railroad',\n",
       "  'INDICATOR_NAME': 'Pascack Valley Line - OTP',\n",
       "  'DESCRIPTION': 'Percent of commuter trains that arrive at their destinations within 5 minutes and 59 seconds of the scheduled time. Metro-North Railroad contracts with New Jersey Transit to operate service on the Pascack Valley Line.',\n",
       "  'PERIOD_YEAR': 2010,\n",
       "  'PERIOD_MONTH': 4,\n",
       "  'CATEGORY': 'Service Indicators',\n",
       "  'FREQUENCY': 'M',\n",
       "  'INDICATOR_UNIT': '%',\n",
       "  'YTD_TARGET': 97.0,\n",
       "  'YTD_ACTUAL': 97.6,\n",
       "  'MONTHLY_TARGET': 97.0,\n",
       "  'MONTHLY_ACTUAL': 98.9},\n",
       " {'AGENCY_NAME': 'Metro-North Railroad',\n",
       "  'INDICATOR_NAME': 'Pascack Valley Line - OTP',\n",
       "  'DESCRIPTION': 'Percent of commuter trains that arrive at their destinations within 5 minutes and 59 seconds of the scheduled time. Metro-North Railroad contracts with New Jersey Transit to operate service on the Pascack Valley Line.',\n",
       "  'PERIOD_YEAR': 2010,\n",
       "  'PERIOD_MONTH': 5,\n",
       "  'CATEGORY': 'Service Indicators',\n",
       "  'FREQUENCY': 'M',\n",
       "  'INDICATOR_UNIT': '%',\n",
       "  'YTD_TARGET': 97.0,\n",
       "  'YTD_ACTUAL': 97.6,\n",
       "  'MONTHLY_TARGET': 97.0,\n",
       "  'MONTHLY_ACTUAL': 97.8},\n",
       " {'AGENCY_NAME': 'Metro-North Railroad',\n",
       "  'INDICATOR_NAME': 'Pascack Valley Line - OTP',\n",
       "  'DESCRIPTION': 'Percent of commuter trains that arrive at their destinations within 5 minutes and 59 seconds of the scheduled time. Metro-North Railroad contracts with New Jersey Transit to operate service on the Pascack Valley Line.',\n",
       "  'PERIOD_YEAR': 2010,\n",
       "  'PERIOD_MONTH': 6,\n",
       "  'CATEGORY': 'Service Indicators',\n",
       "  'FREQUENCY': 'M',\n",
       "  'INDICATOR_UNIT': '%',\n",
       "  'YTD_TARGET': 97.0,\n",
       "  'YTD_ACTUAL': 97.8,\n",
       "  'MONTHLY_TARGET': 97.0,\n",
       "  'MONTHLY_ACTUAL': 98.3},\n",
       " {'AGENCY_NAME': 'Metro-North Railroad',\n",
       "  'INDICATOR_NAME': 'Pascack Valley Line - OTP',\n",
       "  'DESCRIPTION': 'Percent of commuter trains that arrive at their destinations within 5 minutes and 59 seconds of the scheduled time. Metro-North Railroad contracts with New Jersey Transit to operate service on the Pascack Valley Line.',\n",
       "  'PERIOD_YEAR': 2010,\n",
       "  'PERIOD_MONTH': 7,\n",
       "  'CATEGORY': 'Service Indicators',\n",
       "  'FREQUENCY': 'M',\n",
       "  'INDICATOR_UNIT': '%',\n",
       "  'YTD_TARGET': 97.0,\n",
       "  'YTD_ACTUAL': 97.8,\n",
       "  'MONTHLY_TARGET': 97.0,\n",
       "  'MONTHLY_ACTUAL': 97.8},\n",
       " {'AGENCY_NAME': 'Metro-North Railroad',\n",
       "  'INDICATOR_NAME': 'Pascack Valley Line - OTP',\n",
       "  'DESCRIPTION': 'Percent of commuter trains that arrive at their destinations within 5 minutes and 59 seconds of the scheduled time. Metro-North Railroad contracts with New Jersey Transit to operate service on the Pascack Valley Line.',\n",
       "  'PERIOD_YEAR': 2010,\n",
       "  'PERIOD_MONTH': 8,\n",
       "  'CATEGORY': 'Service Indicators',\n",
       "  'FREQUENCY': 'M',\n",
       "  'INDICATOR_UNIT': '%',\n",
       "  'YTD_TARGET': 97.0,\n",
       "  'YTD_ACTUAL': 97.9,\n",
       "  'MONTHLY_TARGET': 97.0,\n",
       "  'MONTHLY_ACTUAL': 98.9},\n",
       " {'AGENCY_NAME': 'Metro-North Railroad',\n",
       "  'INDICATOR_NAME': 'Pascack Valley Line - OTP',\n",
       "  'DESCRIPTION': 'Percent of commuter trains that arrive at their destinations within 5 minutes and 59 seconds of the scheduled time. Metro-North Railroad contracts with New Jersey Transit to operate service on the Pascack Valley Line.',\n",
       "  'PERIOD_YEAR': 2010,\n",
       "  'PERIOD_MONTH': 9,\n",
       "  'CATEGORY': 'Service Indicators',\n",
       "  'FREQUENCY': 'M',\n",
       "  'INDICATOR_UNIT': '%',\n",
       "  'YTD_TARGET': 97.0,\n",
       "  'YTD_ACTUAL': 97.9,\n",
       "  'MONTHLY_TARGET': 97.0,\n",
       "  'MONTHLY_ACTUAL': 97.8},\n",
       " {'AGENCY_NAME': 'Metro-North Railroad',\n",
       "  'INDICATOR_NAME': 'Pascack Valley Line - OTP',\n",
       "  'DESCRIPTION': 'Percent of commuter trains that arrive at their destinations within 5 minutes and 59 seconds of the scheduled time. Metro-North Railroad contracts with New Jersey Transit to operate service on the Pascack Valley Line.',\n",
       "  'PERIOD_YEAR': 2010,\n",
       "  'PERIOD_MONTH': 10,\n",
       "  'CATEGORY': 'Service Indicators',\n",
       "  'FREQUENCY': 'M',\n",
       "  'INDICATOR_UNIT': '%',\n",
       "  'YTD_TARGET': 97.0,\n",
       "  'YTD_ACTUAL': 97.9,\n",
       "  'MONTHLY_TARGET': 97.0,\n",
       "  'MONTHLY_ACTUAL': 98.2},\n",
       " {'AGENCY_NAME': 'Metro-North Railroad',\n",
       "  'INDICATOR_NAME': 'Pascack Valley Line - OTP',\n",
       "  'DESCRIPTION': 'Percent of commuter trains that arrive at their destinations within 5 minutes and 59 seconds of the scheduled time. Metro-North Railroad contracts with New Jersey Transit to operate service on the Pascack Valley Line.',\n",
       "  'PERIOD_YEAR': 2010,\n",
       "  'PERIOD_MONTH': 11,\n",
       "  'CATEGORY': 'Service Indicators',\n",
       "  'FREQUENCY': 'M',\n",
       "  'INDICATOR_UNIT': '%',\n",
       "  'YTD_TARGET': 97.0,\n",
       "  'YTD_ACTUAL': 97.9,\n",
       "  'MONTHLY_TARGET': 97.0,\n",
       "  'MONTHLY_ACTUAL': 97.6},\n",
       " {'AGENCY_NAME': 'Metro-North Railroad',\n",
       "  'INDICATOR_NAME': 'Pascack Valley Line - OTP',\n",
       "  'DESCRIPTION': 'Percent of commuter trains that arrive at their destinations within 5 minutes and 59 seconds of the scheduled time. Metro-North Railroad contracts with New Jersey Transit to operate service on the Pascack Valley Line.',\n",
       "  'PERIOD_YEAR': 2010,\n",
       "  'PERIOD_MONTH': 12,\n",
       "  'CATEGORY': 'Service Indicators',\n",
       "  'FREQUENCY': 'M',\n",
       "  'INDICATOR_UNIT': '%',\n",
       "  'YTD_TARGET': 97.0,\n",
       "  'YTD_ACTUAL': 97.8,\n",
       "  'MONTHLY_TARGET': 97.0,\n",
       "  'MONTHLY_ACTUAL': 97.2},\n",
       " {'AGENCY_NAME': 'Metro-North Railroad',\n",
       "  'INDICATOR_NAME': 'Pascack Valley Line - OTP',\n",
       "  'DESCRIPTION': 'Percent of commuter trains that arrive at their destinations within 5 minutes and 59 seconds of the scheduled time. Metro-North Railroad contracts with New Jersey Transit to operate service on the Pascack Valley Line.',\n",
       "  'PERIOD_YEAR': 2011,\n",
       "  'PERIOD_MONTH': 1,\n",
       "  'CATEGORY': 'Service Indicators',\n",
       "  'FREQUENCY': 'M',\n",
       "  'INDICATOR_UNIT': '%',\n",
       "  'YTD_TARGET': 97.0,\n",
       "  'YTD_ACTUAL': 94.9,\n",
       "  'MONTHLY_TARGET': 97.0,\n",
       "  'MONTHLY_ACTUAL': 94.9},\n",
       " {'AGENCY_NAME': 'Metro-North Railroad',\n",
       "  'INDICATOR_NAME': 'Pascack Valley Line - OTP',\n",
       "  'DESCRIPTION': 'Percent of commuter trains that arrive at their destinations within 5 minutes and 59 seconds of the scheduled time. Metro-North Railroad contracts with New Jersey Transit to operate service on the Pascack Valley Line.',\n",
       "  'PERIOD_YEAR': 2011,\n",
       "  'PERIOD_MONTH': 2,\n",
       "  'CATEGORY': 'Service Indicators',\n",
       "  'FREQUENCY': 'M',\n",
       "  'INDICATOR_UNIT': '%',\n",
       "  'YTD_TARGET': 97.0,\n",
       "  'YTD_ACTUAL': 96.2,\n",
       "  'MONTHLY_TARGET': 97.0,\n",
       "  'MONTHLY_ACTUAL': 97.5},\n",
       " {'AGENCY_NAME': 'Metro-North Railroad',\n",
       "  'INDICATOR_NAME': 'Pascack Valley Line - OTP',\n",
       "  'DESCRIPTION': 'Percent of commuter trains that arrive at their destinations within 5 minutes and 59 seconds of the scheduled time. Metro-North Railroad contracts with New Jersey Transit to operate service on the Pascack Valley Line.',\n",
       "  'PERIOD_YEAR': 2011,\n",
       "  'PERIOD_MONTH': 3,\n",
       "  'CATEGORY': 'Service Indicators',\n",
       "  'FREQUENCY': 'M',\n",
       "  'INDICATOR_UNIT': '%',\n",
       "  'YTD_TARGET': 97.0,\n",
       "  'YTD_ACTUAL': 96.5,\n",
       "  'MONTHLY_TARGET': 97.0,\n",
       "  'MONTHLY_ACTUAL': 97.1},\n",
       " {'AGENCY_NAME': 'Metro-North Railroad',\n",
       "  'INDICATOR_NAME': 'Pascack Valley Line - OTP',\n",
       "  'DESCRIPTION': 'Percent of commuter trains that arrive at their destinations within 5 minutes and 59 seconds of the scheduled time. Metro-North Railroad contracts with New Jersey Transit to operate service on the Pascack Valley Line.',\n",
       "  'PERIOD_YEAR': 2011,\n",
       "  'PERIOD_MONTH': 4,\n",
       "  'CATEGORY': 'Service Indicators',\n",
       "  'FREQUENCY': 'M',\n",
       "  'INDICATOR_UNIT': '%',\n",
       "  'YTD_TARGET': 97.0,\n",
       "  'YTD_ACTUAL': 97.3,\n",
       "  'MONTHLY_TARGET': 97.0,\n",
       "  'MONTHLY_ACTUAL': 99.7},\n",
       " {'AGENCY_NAME': 'Metro-North Railroad',\n",
       "  'INDICATOR_NAME': 'Pascack Valley Line - OTP',\n",
       "  'DESCRIPTION': 'Percent of commuter trains that arrive at their destinations within 5 minutes and 59 seconds of the scheduled time. Metro-North Railroad contracts with New Jersey Transit to operate service on the Pascack Valley Line.',\n",
       "  'PERIOD_YEAR': 2011,\n",
       "  'PERIOD_MONTH': 5,\n",
       "  'CATEGORY': 'Service Indicators',\n",
       "  'FREQUENCY': 'M',\n",
       "  'INDICATOR_UNIT': '%',\n",
       "  'YTD_TARGET': 97.0,\n",
       "  'YTD_ACTUAL': '',\n",
       "  'MONTHLY_TARGET': 97.0,\n",
       "  'MONTHLY_ACTUAL': ''},\n",
       " {'AGENCY_NAME': 'Metro-North Railroad',\n",
       "  'INDICATOR_NAME': 'Pascack Valley Line - OTP',\n",
       "  'DESCRIPTION': 'Percent of commuter trains that arrive at their destinations within 5 minutes and 59 seconds of the scheduled time. Metro-North Railroad contracts with New Jersey Transit to operate service on the Pascack Valley Line.',\n",
       "  'PERIOD_YEAR': 2011,\n",
       "  'PERIOD_MONTH': 6,\n",
       "  'CATEGORY': 'Service Indicators',\n",
       "  'FREQUENCY': 'M',\n",
       "  'INDICATOR_UNIT': '%',\n",
       "  'YTD_TARGET': 97.0,\n",
       "  'YTD_ACTUAL': '',\n",
       "  'MONTHLY_TARGET': 97.0,\n",
       "  'MONTHLY_ACTUAL': ''},\n",
       " {'AGENCY_NAME': 'Metro-North Railroad',\n",
       "  'INDICATOR_NAME': 'Pascack Valley Line - OTP',\n",
       "  'DESCRIPTION': 'Percent of commuter trains that arrive at their destinations within 5 minutes and 59 seconds of the scheduled time. Metro-North Railroad contracts with New Jersey Transit to operate service on the Pascack Valley Line.',\n",
       "  'PERIOD_YEAR': 2011,\n",
       "  'PERIOD_MONTH': 7,\n",
       "  'CATEGORY': 'Service Indicators',\n",
       "  'FREQUENCY': 'M',\n",
       "  'INDICATOR_UNIT': '%',\n",
       "  'YTD_TARGET': 97.0,\n",
       "  'YTD_ACTUAL': '',\n",
       "  'MONTHLY_TARGET': 97.0,\n",
       "  'MONTHLY_ACTUAL': ''},\n",
       " {'AGENCY_NAME': 'Metro-North Railroad',\n",
       "  'INDICATOR_NAME': 'Pascack Valley Line - OTP',\n",
       "  'DESCRIPTION': 'Percent of commuter trains that arrive at their destinations within 5 minutes and 59 seconds of the scheduled time. Metro-North Railroad contracts with New Jersey Transit to operate service on the Pascack Valley Line.',\n",
       "  'PERIOD_YEAR': 2011,\n",
       "  'PERIOD_MONTH': 8,\n",
       "  'CATEGORY': 'Service Indicators',\n",
       "  'FREQUENCY': 'M',\n",
       "  'INDICATOR_UNIT': '%',\n",
       "  'YTD_TARGET': 97.0,\n",
       "  'YTD_ACTUAL': '',\n",
       "  'MONTHLY_TARGET': 97.0,\n",
       "  'MONTHLY_ACTUAL': ''},\n",
       " {'AGENCY_NAME': 'Metro-North Railroad',\n",
       "  'INDICATOR_NAME': 'Pascack Valley Line - OTP',\n",
       "  'DESCRIPTION': 'Percent of commuter trains that arrive at their destinations within 5 minutes and 59 seconds of the scheduled time. Metro-North Railroad contracts with New Jersey Transit to operate service on the Pascack Valley Line.',\n",
       "  'PERIOD_YEAR': 2011,\n",
       "  'PERIOD_MONTH': 9,\n",
       "  'CATEGORY': 'Service Indicators',\n",
       "  'FREQUENCY': 'M',\n",
       "  'INDICATOR_UNIT': '%',\n",
       "  'YTD_TARGET': 97.0,\n",
       "  'YTD_ACTUAL': '',\n",
       "  'MONTHLY_TARGET': 97.0,\n",
       "  'MONTHLY_ACTUAL': ''},\n",
       " {'AGENCY_NAME': 'Metro-North Railroad',\n",
       "  'INDICATOR_NAME': 'Pascack Valley Line - OTP',\n",
       "  'DESCRIPTION': 'Percent of commuter trains that arrive at their destinations within 5 minutes and 59 seconds of the scheduled time. Metro-North Railroad contracts with New Jersey Transit to operate service on the Pascack Valley Line.',\n",
       "  'PERIOD_YEAR': 2011,\n",
       "  'PERIOD_MONTH': 10,\n",
       "  'CATEGORY': 'Service Indicators',\n",
       "  'FREQUENCY': 'M',\n",
       "  'INDICATOR_UNIT': '%',\n",
       "  'YTD_TARGET': 97.0,\n",
       "  'YTD_ACTUAL': '',\n",
       "  'MONTHLY_TARGET': 97.0,\n",
       "  'MONTHLY_ACTUAL': ''},\n",
       " {'AGENCY_NAME': 'Metro-North Railroad',\n",
       "  'INDICATOR_NAME': 'Pascack Valley Line - OTP',\n",
       "  'DESCRIPTION': 'Percent of commuter trains that arrive at their destinations within 5 minutes and 59 seconds of the scheduled time. Metro-North Railroad contracts with New Jersey Transit to operate service on the Pascack Valley Line.',\n",
       "  'PERIOD_YEAR': 2011,\n",
       "  'PERIOD_MONTH': 11,\n",
       "  'CATEGORY': 'Service Indicators',\n",
       "  'FREQUENCY': 'M',\n",
       "  'INDICATOR_UNIT': '%',\n",
       "  'YTD_TARGET': 97.0,\n",
       "  'YTD_ACTUAL': '',\n",
       "  'MONTHLY_TARGET': 97.0,\n",
       "  'MONTHLY_ACTUAL': ''},\n",
       " {'AGENCY_NAME': 'Metro-North Railroad',\n",
       "  'INDICATOR_NAME': 'Pascack Valley Line - OTP',\n",
       "  'DESCRIPTION': 'Percent of commuter trains that arrive at their destinations within 5 minutes and 59 seconds of the scheduled time. Metro-North Railroad contracts with New Jersey Transit to operate service on the Pascack Valley Line.',\n",
       "  'PERIOD_YEAR': 2011,\n",
       "  'PERIOD_MONTH': 12,\n",
       "  'CATEGORY': 'Service Indicators',\n",
       "  'FREQUENCY': 'M',\n",
       "  'INDICATOR_UNIT': '%',\n",
       "  'YTD_TARGET': 97.0,\n",
       "  'YTD_ACTUAL': '',\n",
       "  'MONTHLY_TARGET': 97.0,\n",
       "  'MONTHLY_ACTUAL': ''},\n",
       " {'AGENCY_NAME': 'Metro-North Railroad',\n",
       "  'INDICATOR_NAME': 'Mean Distance Between Failures',\n",
       "  'DESCRIPTION': 'Average number of miles a railcar travels before a mechanical failure makes the train arrive at its final destination later than 5 minutes and 59 seconds',\n",
       "  'PERIOD_YEAR': 2008,\n",
       "  'PERIOD_MONTH': 1,\n",
       "  'CATEGORY': 'Service Indicators',\n",
       "  'FREQUENCY': 'M',\n",
       "  'INDICATOR_UNIT': '-',\n",
       "  'YTD_TARGET': '100,000.00',\n",
       "  'YTD_ACTUAL': '170,344.00',\n",
       "  'MONTHLY_TARGET': '100,000.00',\n",
       "  'MONTHLY_ACTUAL': '170,344.00'},\n",
       " {'AGENCY_NAME': 'Metro-North Railroad',\n",
       "  'INDICATOR_NAME': 'Mean Distance Between Failures',\n",
       "  'DESCRIPTION': 'Average number of miles a railcar travels before a mechanical failure makes the train arrive at its final destination later than 5 minutes and 59 seconds',\n",
       "  'PERIOD_YEAR': 2008,\n",
       "  'PERIOD_MONTH': 2,\n",
       "  'CATEGORY': 'Service Indicators',\n",
       "  'FREQUENCY': 'M',\n",
       "  'INDICATOR_UNIT': '-',\n",
       "  'YTD_TARGET': '100,000.00',\n",
       "  'YTD_ACTUAL': '142,587.00',\n",
       "  'MONTHLY_TARGET': '100,000.00',\n",
       "  'MONTHLY_ACTUAL': '121,615.00'},\n",
       " {'AGENCY_NAME': 'Metro-North Railroad',\n",
       "  'INDICATOR_NAME': 'Mean Distance Between Failures',\n",
       "  'DESCRIPTION': 'Average number of miles a railcar travels before a mechanical failure makes the train arrive at its final destination later than 5 minutes and 59 seconds',\n",
       "  'PERIOD_YEAR': 2008,\n",
       "  'PERIOD_MONTH': 3,\n",
       "  'CATEGORY': 'Service Indicators',\n",
       "  'FREQUENCY': 'M',\n",
       "  'INDICATOR_UNIT': '-',\n",
       "  'YTD_TARGET': '100,000.00',\n",
       "  'YTD_ACTUAL': '143,137.00',\n",
       "  'MONTHLY_TARGET': '100,000.00',\n",
       "  'MONTHLY_ACTUAL': '144,223.00'},\n",
       " {'AGENCY_NAME': 'Metro-North Railroad',\n",
       "  'INDICATOR_NAME': 'Mean Distance Between Failures',\n",
       "  'DESCRIPTION': 'Average number of miles a railcar travels before a mechanical failure makes the train arrive at its final destination later than 5 minutes and 59 seconds',\n",
       "  'PERIOD_YEAR': 2008,\n",
       "  'PERIOD_MONTH': 4,\n",
       "  'CATEGORY': 'Service Indicators',\n",
       "  'FREQUENCY': 'M',\n",
       "  'INDICATOR_UNIT': '-',\n",
       "  'YTD_TARGET': '100,000.00',\n",
       "  'YTD_ACTUAL': '139,925.00',\n",
       "  'MONTHLY_TARGET': '100,000.00',\n",
       "  'MONTHLY_ACTUAL': '131,432.00'},\n",
       " {'AGENCY_NAME': 'Metro-North Railroad',\n",
       "  'INDICATOR_NAME': 'Mean Distance Between Failures',\n",
       "  'DESCRIPTION': 'Average number of miles a railcar travels before a mechanical failure makes the train arrive at its final destination later than 5 minutes and 59 seconds',\n",
       "  'PERIOD_YEAR': 2008,\n",
       "  'PERIOD_MONTH': 5,\n",
       "  'CATEGORY': 'Service Indicators',\n",
       "  'FREQUENCY': 'M',\n",
       "  'INDICATOR_UNIT': '-',\n",
       "  'YTD_TARGET': '100,000.00',\n",
       "  'YTD_ACTUAL': '137,138.00',\n",
       "  'MONTHLY_TARGET': '100,000.00',\n",
       "  'MONTHLY_ACTUAL': '127,412.00'},\n",
       " {'AGENCY_NAME': 'Metro-North Railroad',\n",
       "  'INDICATOR_NAME': 'Mean Distance Between Failures',\n",
       "  'DESCRIPTION': 'Average number of miles a railcar travels before a mechanical failure makes the train arrive at its final destination later than 5 minutes and 59 seconds',\n",
       "  'PERIOD_YEAR': 2008,\n",
       "  'PERIOD_MONTH': 6,\n",
       "  'CATEGORY': 'Service Indicators',\n",
       "  'FREQUENCY': 'M',\n",
       "  'INDICATOR_UNIT': '-',\n",
       "  'YTD_TARGET': '100,000.00',\n",
       "  'YTD_ACTUAL': '127,693.00',\n",
       "  'MONTHLY_TARGET': '100,000.00',\n",
       "  'MONTHLY_ACTUAL': '95,022.00'},\n",
       " {'AGENCY_NAME': 'Metro-North Railroad',\n",
       "  'INDICATOR_NAME': 'Mean Distance Between Failures',\n",
       "  'DESCRIPTION': 'Average number of miles a railcar travels before a mechanical failure makes the train arrive at its final destination later than 5 minutes and 59 seconds',\n",
       "  'PERIOD_YEAR': 2008,\n",
       "  'PERIOD_MONTH': 7,\n",
       "  'CATEGORY': 'Service Indicators',\n",
       "  'FREQUENCY': 'M',\n",
       "  'INDICATOR_UNIT': '-',\n",
       "  'YTD_TARGET': '100,000.00',\n",
       "  'YTD_ACTUAL': '113,519.00',\n",
       "  'MONTHLY_TARGET': '100,000.00',\n",
       "  'MONTHLY_ACTUAL': '69,206.00'},\n",
       " {'AGENCY_NAME': 'Metro-North Railroad',\n",
       "  'INDICATOR_NAME': 'Mean Distance Between Failures',\n",
       "  'DESCRIPTION': 'Average number of miles a railcar travels before a mechanical failure makes the train arrive at its final destination later than 5 minutes and 59 seconds',\n",
       "  'PERIOD_YEAR': 2008,\n",
       "  'PERIOD_MONTH': 8,\n",
       "  'CATEGORY': 'Service Indicators',\n",
       "  'FREQUENCY': 'M',\n",
       "  'INDICATOR_UNIT': '-',\n",
       "  'YTD_TARGET': '100,000.00',\n",
       "  'YTD_ACTUAL': '110,396.00',\n",
       "  'MONTHLY_TARGET': '100,000.00',\n",
       "  'MONTHLY_ACTUAL': '92,878.00'},\n",
       " {'AGENCY_NAME': 'Metro-North Railroad',\n",
       "  'INDICATOR_NAME': 'Mean Distance Between Failures',\n",
       "  'DESCRIPTION': 'Average number of miles a railcar travels before a mechanical failure makes the train arrive at its final destination later than 5 minutes and 59 seconds',\n",
       "  'PERIOD_YEAR': 2008,\n",
       "  'PERIOD_MONTH': 9,\n",
       "  'CATEGORY': 'Service Indicators',\n",
       "  'FREQUENCY': 'M',\n",
       "  'INDICATOR_UNIT': '-',\n",
       "  'YTD_TARGET': '100,000.00',\n",
       "  'YTD_ACTUAL': '110,077.00',\n",
       "  'MONTHLY_TARGET': '100,000.00',\n",
       "  'MONTHLY_ACTUAL': '107,579.00'},\n",
       " {'AGENCY_NAME': 'Metro-North Railroad',\n",
       "  'INDICATOR_NAME': 'Mean Distance Between Failures',\n",
       "  'DESCRIPTION': 'Average number of miles a railcar travels before a mechanical failure makes the train arrive at its final destination later than 5 minutes and 59 seconds',\n",
       "  'PERIOD_YEAR': 2008,\n",
       "  'PERIOD_MONTH': 10,\n",
       "  'CATEGORY': 'Service Indicators',\n",
       "  'FREQUENCY': 'M',\n",
       "  'INDICATOR_UNIT': '-',\n",
       "  'YTD_TARGET': '100,000.00',\n",
       "  'YTD_ACTUAL': '108,859.00',\n",
       "  'MONTHLY_TARGET': '100,000.00',\n",
       "  'MONTHLY_ACTUAL': '99,487.00'},\n",
       " {'AGENCY_NAME': 'Metro-North Railroad',\n",
       "  'INDICATOR_NAME': 'Mean Distance Between Failures',\n",
       "  'DESCRIPTION': 'Average number of miles a railcar travels before a mechanical failure makes the train arrive at its final destination later than 5 minutes and 59 seconds',\n",
       "  'PERIOD_YEAR': 2008,\n",
       "  'PERIOD_MONTH': 11,\n",
       "  'CATEGORY': 'Service Indicators',\n",
       "  'FREQUENCY': 'M',\n",
       "  'INDICATOR_UNIT': '-',\n",
       "  'YTD_TARGET': '100,000.00',\n",
       "  'YTD_ACTUAL': '109,676.00',\n",
       "  'MONTHLY_TARGET': '100,000.00',\n",
       "  'MONTHLY_ACTUAL': '119,045.00'},\n",
       " {'AGENCY_NAME': 'Metro-North Railroad',\n",
       "  'INDICATOR_NAME': 'Mean Distance Between Failures',\n",
       "  'DESCRIPTION': 'Average number of miles a railcar travels before a mechanical failure makes the train arrive at its final destination later than 5 minutes and 59 seconds',\n",
       "  'PERIOD_YEAR': 2008,\n",
       "  'PERIOD_MONTH': 12,\n",
       "  'CATEGORY': 'Service Indicators',\n",
       "  'FREQUENCY': 'M',\n",
       "  'INDICATOR_UNIT': '-',\n",
       "  'YTD_TARGET': '100,000.00',\n",
       "  'YTD_ACTUAL': '104,865.00',\n",
       "  'MONTHLY_TARGET': '100,000.00',\n",
       "  'MONTHLY_ACTUAL': '71,307.00'},\n",
       " {'AGENCY_NAME': 'Metro-North Railroad',\n",
       "  'INDICATOR_NAME': 'Mean Distance Between Failures',\n",
       "  'DESCRIPTION': 'Average number of miles a railcar travels before a mechanical failure makes the train arrive at its final destination later than 5 minutes and 59 seconds',\n",
       "  'PERIOD_YEAR': 2009,\n",
       "  'PERIOD_MONTH': 1,\n",
       "  'CATEGORY': 'Service Indicators',\n",
       "  'FREQUENCY': 'M',\n",
       "  'INDICATOR_UNIT': '-',\n",
       "  'YTD_TARGET': '105,000.00',\n",
       "  'YTD_ACTUAL': '61,868.00',\n",
       "  'MONTHLY_TARGET': '105,000.00',\n",
       "  'MONTHLY_ACTUAL': '61,868.00'},\n",
       " {'AGENCY_NAME': 'Metro-North Railroad',\n",
       "  'INDICATOR_NAME': 'Mean Distance Between Failures',\n",
       "  'DESCRIPTION': 'Average number of miles a railcar travels before a mechanical failure makes the train arrive at its final destination later than 5 minutes and 59 seconds',\n",
       "  'PERIOD_YEAR': 2009,\n",
       "  'PERIOD_MONTH': 2,\n",
       "  'CATEGORY': 'Service Indicators',\n",
       "  'FREQUENCY': 'M',\n",
       "  'INDICATOR_UNIT': '-',\n",
       "  'YTD_TARGET': '105,000.00',\n",
       "  'YTD_ACTUAL': '71,443.00',\n",
       "  'MONTHLY_TARGET': '105,000.00',\n",
       "  'MONTHLY_ACTUAL': '85,652.00'},\n",
       " {'AGENCY_NAME': 'Metro-North Railroad',\n",
       "  'INDICATOR_NAME': 'Mean Distance Between Failures',\n",
       "  'DESCRIPTION': 'Average number of miles a railcar travels before a mechanical failure makes the train arrive at its final destination later than 5 minutes and 59 seconds',\n",
       "  'PERIOD_YEAR': 2009,\n",
       "  'PERIOD_MONTH': 3,\n",
       "  'CATEGORY': 'Service Indicators',\n",
       "  'FREQUENCY': 'M',\n",
       "  'INDICATOR_UNIT': '-',\n",
       "  'YTD_TARGET': '105,000.00',\n",
       "  'YTD_ACTUAL': '74,040.00',\n",
       "  'MONTHLY_TARGET': '105,000.00',\n",
       "  'MONTHLY_ACTUAL': '79,372.00'},\n",
       " {'AGENCY_NAME': 'Metro-North Railroad',\n",
       "  'INDICATOR_NAME': 'Mean Distance Between Failures',\n",
       "  'DESCRIPTION': 'Average number of miles a railcar travels before a mechanical failure makes the train arrive at its final destination later than 5 minutes and 59 seconds',\n",
       "  'PERIOD_YEAR': 2009,\n",
       "  'PERIOD_MONTH': 4,\n",
       "  'CATEGORY': 'Service Indicators',\n",
       "  'FREQUENCY': 'M',\n",
       "  'INDICATOR_UNIT': '-',\n",
       "  'YTD_TARGET': '105,000.00',\n",
       "  'YTD_ACTUAL': '81,617.00',\n",
       "  'MONTHLY_TARGET': '105,000.00',\n",
       "  'MONTHLY_ACTUAL': '115,640.00'},\n",
       " {'AGENCY_NAME': 'Metro-North Railroad',\n",
       "  'INDICATOR_NAME': 'Mean Distance Between Failures',\n",
       "  'DESCRIPTION': 'Average number of miles a railcar travels before a mechanical failure makes the train arrive at its final destination later than 5 minutes and 59 seconds',\n",
       "  'PERIOD_YEAR': 2009,\n",
       "  'PERIOD_MONTH': 5,\n",
       "  'CATEGORY': 'Service Indicators',\n",
       "  'FREQUENCY': 'M',\n",
       "  'INDICATOR_UNIT': '-',\n",
       "  'YTD_TARGET': '105,000.00',\n",
       "  'YTD_ACTUAL': '86,001.00',\n",
       "  'MONTHLY_TARGET': '105,000.00',\n",
       "  'MONTHLY_ACTUAL': '109,447.00'},\n",
       " {'AGENCY_NAME': 'Metro-North Railroad',\n",
       "  'INDICATOR_NAME': 'Mean Distance Between Failures',\n",
       "  'DESCRIPTION': 'Average number of miles a railcar travels before a mechanical failure makes the train arrive at its final destination later than 5 minutes and 59 seconds',\n",
       "  'PERIOD_YEAR': 2009,\n",
       "  'PERIOD_MONTH': 6,\n",
       "  'CATEGORY': 'Service Indicators',\n",
       "  'FREQUENCY': 'M',\n",
       "  'INDICATOR_UNIT': '-',\n",
       "  'YTD_TARGET': '105,000.00',\n",
       "  'YTD_ACTUAL': '95,454.00',\n",
       "  'MONTHLY_TARGET': '105,000.00',\n",
       "  'MONTHLY_ACTUAL': '199,874.00'},\n",
       " {'AGENCY_NAME': 'Metro-North Railroad',\n",
       "  'INDICATOR_NAME': 'Mean Distance Between Failures',\n",
       "  'DESCRIPTION': 'Average number of miles a railcar travels before a mechanical failure makes the train arrive at its final destination later than 5 minutes and 59 seconds',\n",
       "  'PERIOD_YEAR': 2009,\n",
       "  'PERIOD_MONTH': 7,\n",
       "  'CATEGORY': 'Service Indicators',\n",
       "  'FREQUENCY': 'M',\n",
       "  'INDICATOR_UNIT': '-',\n",
       "  'YTD_TARGET': '105,000.00',\n",
       "  'YTD_ACTUAL': '100,927.00',\n",
       "  'MONTHLY_TARGET': '105,000.00',\n",
       "  'MONTHLY_ACTUAL': '149,383.00'},\n",
       " {'AGENCY_NAME': 'Metro-North Railroad',\n",
       "  'INDICATOR_NAME': 'Mean Distance Between Failures',\n",
       "  'DESCRIPTION': 'Average number of miles a railcar travels before a mechanical failure makes the train arrive at its final destination later than 5 minutes and 59 seconds',\n",
       "  'PERIOD_YEAR': 2009,\n",
       "  'PERIOD_MONTH': 8,\n",
       "  'CATEGORY': 'Service Indicators',\n",
       "  'FREQUENCY': 'M',\n",
       "  'INDICATOR_UNIT': '-',\n",
       "  'YTD_TARGET': '105,000.00',\n",
       "  'YTD_ACTUAL': '103,243.00',\n",
       "  'MONTHLY_TARGET': '105,000.00',\n",
       "  'MONTHLY_ACTUAL': '167,607.00'},\n",
       " {'AGENCY_NAME': 'Metro-North Railroad',\n",
       "  'INDICATOR_NAME': 'Mean Distance Between Failures',\n",
       "  'DESCRIPTION': 'Average number of miles a railcar travels before a mechanical failure makes the train arrive at its final destination later than 5 minutes and 59 seconds',\n",
       "  'PERIOD_YEAR': 2009,\n",
       "  'PERIOD_MONTH': 9,\n",
       "  'CATEGORY': 'Service Indicators',\n",
       "  'FREQUENCY': 'M',\n",
       "  'INDICATOR_UNIT': '-',\n",
       "  'YTD_TARGET': '105,000.00',\n",
       "  'YTD_ACTUAL': '110,872.00',\n",
       "  'MONTHLY_TARGET': '105,000.00',\n",
       "  'MONTHLY_ACTUAL': '170,649.00'},\n",
       " {'AGENCY_NAME': 'Metro-North Railroad',\n",
       "  'INDICATOR_NAME': 'Mean Distance Between Failures',\n",
       "  'DESCRIPTION': 'Average number of miles a railcar travels before a mechanical failure makes the train arrive at its final destination later than 5 minutes and 59 seconds',\n",
       "  'PERIOD_YEAR': 2009,\n",
       "  'PERIOD_MONTH': 10,\n",
       "  'CATEGORY': 'Service Indicators',\n",
       "  'FREQUENCY': 'M',\n",
       "  'INDICATOR_UNIT': '-',\n",
       "  'YTD_TARGET': '105,000.00',\n",
       "  'YTD_ACTUAL': '115,665.00',\n",
       "  'MONTHLY_TARGET': '105,000.00',\n",
       "  'MONTHLY_ACTUAL': '186,500.00'},\n",
       " {'AGENCY_NAME': 'Metro-North Railroad',\n",
       "  'INDICATOR_NAME': 'Mean Distance Between Failures',\n",
       "  'DESCRIPTION': 'Average number of miles a railcar travels before a mechanical failure makes the train arrive at its final destination later than 5 minutes and 59 seconds',\n",
       "  'PERIOD_YEAR': 2009,\n",
       "  'PERIOD_MONTH': 11,\n",
       "  'CATEGORY': 'Service Indicators',\n",
       "  'FREQUENCY': 'M',\n",
       "  'INDICATOR_UNIT': '-',\n",
       "  'YTD_TARGET': '105,000.00',\n",
       "  'YTD_ACTUAL': '118,534.00',\n",
       "  'MONTHLY_TARGET': '105,000.00',\n",
       "  'MONTHLY_ACTUAL': '159,929.00'},\n",
       " {'AGENCY_NAME': 'Metro-North Railroad',\n",
       "  'INDICATOR_NAME': 'Mean Distance Between Failures',\n",
       "  'DESCRIPTION': 'Average number of miles a railcar travels before a mechanical failure makes the train arrive at its final destination later than 5 minutes and 59 seconds',\n",
       "  'PERIOD_YEAR': 2009,\n",
       "  'PERIOD_MONTH': 12,\n",
       "  'CATEGORY': 'Service Indicators',\n",
       "  'FREQUENCY': 'M',\n",
       "  'INDICATOR_UNIT': '-',\n",
       "  'YTD_TARGET': '105,000.00',\n",
       "  'YTD_ACTUAL': '116,066.00',\n",
       "  'MONTHLY_TARGET': '105,000.00',\n",
       "  'MONTHLY_ACTUAL': '94,916.00'},\n",
       " {'AGENCY_NAME': 'Metro-North Railroad',\n",
       "  'INDICATOR_NAME': 'Mean Distance Between Failures',\n",
       "  'DESCRIPTION': 'Average number of miles a railcar travels before a mechanical failure makes the train arrive at its final destination later than 5 minutes and 59 seconds',\n",
       "  'PERIOD_YEAR': 2010,\n",
       "  'PERIOD_MONTH': 1,\n",
       "  'CATEGORY': 'Service Indicators',\n",
       "  'FREQUENCY': 'M',\n",
       "  'INDICATOR_UNIT': '-',\n",
       "  'YTD_TARGET': '115,000.00',\n",
       "  'YTD_ACTUAL': '133,979.00',\n",
       "  'MONTHLY_TARGET': '115,000.00',\n",
       "  'MONTHLY_ACTUAL': '133,979.00'},\n",
       " {'AGENCY_NAME': 'Metro-North Railroad',\n",
       "  'INDICATOR_NAME': 'Mean Distance Between Failures',\n",
       "  'DESCRIPTION': 'Average number of miles a railcar travels before a mechanical failure makes the train arrive at its final destination later than 5 minutes and 59 seconds',\n",
       "  'PERIOD_YEAR': 2010,\n",
       "  'PERIOD_MONTH': 2,\n",
       "  'CATEGORY': 'Service Indicators',\n",
       "  'FREQUENCY': 'M',\n",
       "  'INDICATOR_UNIT': '-',\n",
       "  'YTD_TARGET': '115,000.00',\n",
       "  'YTD_ACTUAL': '136,624.00',\n",
       "  'MONTHLY_TARGET': '115,000.00',\n",
       "  'MONTHLY_ACTUAL': '139,626.00'},\n",
       " {'AGENCY_NAME': 'Metro-North Railroad',\n",
       "  'INDICATOR_NAME': 'Mean Distance Between Failures',\n",
       "  'DESCRIPTION': 'Average number of miles a railcar travels before a mechanical failure makes the train arrive at its final destination later than 5 minutes and 59 seconds',\n",
       "  'PERIOD_YEAR': 2010,\n",
       "  'PERIOD_MONTH': 3,\n",
       "  'CATEGORY': 'Service Indicators',\n",
       "  'FREQUENCY': 'M',\n",
       "  'INDICATOR_UNIT': '-',\n",
       "  'YTD_TARGET': '115,000.00',\n",
       "  'YTD_ACTUAL': '148,691.00',\n",
       "  'MONTHLY_TARGET': '115,000.00',\n",
       "  'MONTHLY_ACTUAL': '176,730.00'},\n",
       " {'AGENCY_NAME': 'Metro-North Railroad',\n",
       "  'INDICATOR_NAME': 'Mean Distance Between Failures',\n",
       "  'DESCRIPTION': 'Average number of miles a railcar travels before a mechanical failure makes the train arrive at its final destination later than 5 minutes and 59 seconds',\n",
       "  'PERIOD_YEAR': 2010,\n",
       "  'PERIOD_MONTH': 4,\n",
       "  'CATEGORY': 'Service Indicators',\n",
       "  'FREQUENCY': 'M',\n",
       "  'INDICATOR_UNIT': '-',\n",
       "  'YTD_TARGET': '115,000.00',\n",
       "  'YTD_ACTUAL': '152,854.00',\n",
       "  'MONTHLY_TARGET': '115,000.00',\n",
       "  'MONTHLY_ACTUAL': '166,295.00'},\n",
       " {'AGENCY_NAME': 'Metro-North Railroad',\n",
       "  'INDICATOR_NAME': 'Mean Distance Between Failures',\n",
       "  'DESCRIPTION': 'Average number of miles a railcar travels before a mechanical failure makes the train arrive at its final destination later than 5 minutes and 59 seconds',\n",
       "  'PERIOD_YEAR': 2010,\n",
       "  'PERIOD_MONTH': 5,\n",
       "  'CATEGORY': 'Service Indicators',\n",
       "  'FREQUENCY': 'M',\n",
       "  'INDICATOR_UNIT': '-',\n",
       "  'YTD_TARGET': '115,000.00',\n",
       "  'YTD_ACTUAL': '161,507.00',\n",
       "  'MONTHLY_TARGET': '115,000.00',\n",
       "  'MONTHLY_ACTUAL': '207,245.00'},\n",
       " {'AGENCY_NAME': 'Metro-North Railroad',\n",
       "  'INDICATOR_NAME': 'Mean Distance Between Failures',\n",
       "  'DESCRIPTION': 'Average number of miles a railcar travels before a mechanical failure makes the train arrive at its final destination later than 5 minutes and 59 seconds',\n",
       "  'PERIOD_YEAR': 2010,\n",
       "  'PERIOD_MONTH': 6,\n",
       "  'CATEGORY': 'Service Indicators',\n",
       "  'FREQUENCY': 'M',\n",
       "  'INDICATOR_UNIT': '-',\n",
       "  'YTD_TARGET': '115,000.00',\n",
       "  'YTD_ACTUAL': '150,239.00',\n",
       "  'MONTHLY_TARGET': '115,000.00',\n",
       "  'MONTHLY_ACTUAL': '112,101.00'},\n",
       " {'AGENCY_NAME': 'Metro-North Railroad',\n",
       "  'INDICATOR_NAME': 'Mean Distance Between Failures',\n",
       "  'DESCRIPTION': 'Average number of miles a railcar travels before a mechanical failure makes the train arrive at its final destination later than 5 minutes and 59 seconds',\n",
       "  'PERIOD_YEAR': 2010,\n",
       "  'PERIOD_MONTH': 7,\n",
       "  'CATEGORY': 'Service Indicators',\n",
       "  'FREQUENCY': 'M',\n",
       "  'INDICATOR_UNIT': '-',\n",
       "  'YTD_TARGET': '115,000.00',\n",
       "  'YTD_ACTUAL': '147,618.00',\n",
       "  'MONTHLY_TARGET': '115,000.00',\n",
       "  'MONTHLY_ACTUAL': '133,718.00'},\n",
       " {'AGENCY_NAME': 'Metro-North Railroad',\n",
       "  'INDICATOR_NAME': 'Mean Distance Between Failures',\n",
       "  'DESCRIPTION': 'Average number of miles a railcar travels before a mechanical failure makes the train arrive at its final destination later than 5 minutes and 59 seconds',\n",
       "  'PERIOD_YEAR': 2010,\n",
       "  'PERIOD_MONTH': 8,\n",
       "  'CATEGORY': 'Service Indicators',\n",
       "  'FREQUENCY': 'M',\n",
       "  'INDICATOR_UNIT': '-',\n",
       "  'YTD_TARGET': '115,000.00',\n",
       "  'YTD_ACTUAL': '144,758.00',\n",
       "  'MONTHLY_TARGET': '115,000.00',\n",
       "  'MONTHLY_ACTUAL': '127,910.00'},\n",
       " {'AGENCY_NAME': 'Metro-North Railroad',\n",
       "  'INDICATOR_NAME': 'Mean Distance Between Failures',\n",
       "  'DESCRIPTION': 'Average number of miles a railcar travels before a mechanical failure makes the train arrive at its final destination later than 5 minutes and 59 seconds',\n",
       "  'PERIOD_YEAR': 2010,\n",
       "  'PERIOD_MONTH': 9,\n",
       "  'CATEGORY': 'Service Indicators',\n",
       "  'FREQUENCY': 'M',\n",
       "  'INDICATOR_UNIT': '-',\n",
       "  'YTD_TARGET': '115,000.00',\n",
       "  'YTD_ACTUAL': '140,083.00',\n",
       "  'MONTHLY_TARGET': '115,000.00',\n",
       "  'MONTHLY_ACTUAL': '111,026.00'},\n",
       " {'AGENCY_NAME': 'Metro-North Railroad',\n",
       "  'INDICATOR_NAME': 'Mean Distance Between Failures',\n",
       "  'DESCRIPTION': 'Average number of miles a railcar travels before a mechanical failure makes the train arrive at its final destination later than 5 minutes and 59 seconds',\n",
       "  'PERIOD_YEAR': 2010,\n",
       "  'PERIOD_MONTH': 10,\n",
       "  'CATEGORY': 'Service Indicators',\n",
       "  'FREQUENCY': 'M',\n",
       "  'INDICATOR_UNIT': '-',\n",
       "  'YTD_TARGET': '115,000.00',\n",
       "  'YTD_ACTUAL': '136,653.00',\n",
       "  'MONTHLY_TARGET': '115,000.00',\n",
       "  'MONTHLY_ACTUAL': '111,898.00'},\n",
       " {'AGENCY_NAME': 'Metro-North Railroad',\n",
       "  'INDICATOR_NAME': 'Mean Distance Between Failures',\n",
       "  'DESCRIPTION': 'Average number of miles a railcar travels before a mechanical failure makes the train arrive at its final destination later than 5 minutes and 59 seconds',\n",
       "  'PERIOD_YEAR': 2010,\n",
       "  'PERIOD_MONTH': 11,\n",
       "  'CATEGORY': 'Service Indicators',\n",
       "  'FREQUENCY': 'M',\n",
       "  'INDICATOR_UNIT': '-',\n",
       "  'YTD_TARGET': '115,000.00',\n",
       "  'YTD_ACTUAL': '132,432.00',\n",
       "  'MONTHLY_TARGET': '115,000.00',\n",
       "  'MONTHLY_ACTUAL': '100,852.00'},\n",
       " {'AGENCY_NAME': 'Metro-North Railroad',\n",
       "  'INDICATOR_NAME': 'Mean Distance Between Failures',\n",
       "  'DESCRIPTION': 'Average number of miles a railcar travels before a mechanical failure makes the train arrive at its final destination later than 5 minutes and 59 seconds',\n",
       "  'PERIOD_YEAR': 2010,\n",
       "  'PERIOD_MONTH': 12,\n",
       "  'CATEGORY': 'Service Indicators',\n",
       "  'FREQUENCY': 'M',\n",
       "  'INDICATOR_UNIT': '-',\n",
       "  'YTD_TARGET': '115,000.00',\n",
       "  'YTD_ACTUAL': '129,329.00',\n",
       "  'MONTHLY_TARGET': '115,000.00',\n",
       "  'MONTHLY_ACTUAL': '102,536.00'},\n",
       " {'AGENCY_NAME': 'Metro-North Railroad',\n",
       "  'INDICATOR_NAME': 'Mean Distance Between Failures',\n",
       "  'DESCRIPTION': 'Average number of miles a railcar travels before a mechanical failure makes the train arrive at its final destination later than 5 minutes and 59 seconds',\n",
       "  'PERIOD_YEAR': 2011,\n",
       "  'PERIOD_MONTH': 1,\n",
       "  'CATEGORY': 'Service Indicators',\n",
       "  'FREQUENCY': 'M',\n",
       "  'INDICATOR_UNIT': '-',\n",
       "  'YTD_TARGET': '125,000.00',\n",
       "  'YTD_ACTUAL': '56,773.00',\n",
       "  'MONTHLY_TARGET': '125,000.00',\n",
       "  'MONTHLY_ACTUAL': '56,773.00'},\n",
       " {'AGENCY_NAME': 'Metro-North Railroad',\n",
       "  'INDICATOR_NAME': 'Mean Distance Between Failures',\n",
       "  'DESCRIPTION': 'Average number of miles a railcar travels before a mechanical failure makes the train arrive at its final destination later than 5 minutes and 59 seconds',\n",
       "  'PERIOD_YEAR': 2011,\n",
       "  'PERIOD_MONTH': 2,\n",
       "  'CATEGORY': 'Service Indicators',\n",
       "  'FREQUENCY': 'M',\n",
       "  'INDICATOR_UNIT': '-',\n",
       "  'YTD_TARGET': '125,000.00',\n",
       "  'YTD_ACTUAL': '57,252.00',\n",
       "  'MONTHLY_TARGET': '125,000.00',\n",
       "  'MONTHLY_ACTUAL': '57,770.00'},\n",
       " {'AGENCY_NAME': 'Metro-North Railroad',\n",
       "  'INDICATOR_NAME': 'Mean Distance Between Failures',\n",
       "  'DESCRIPTION': 'Average number of miles a railcar travels before a mechanical failure makes the train arrive at its final destination later than 5 minutes and 59 seconds',\n",
       "  'PERIOD_YEAR': 2011,\n",
       "  'PERIOD_MONTH': 3,\n",
       "  'CATEGORY': 'Service Indicators',\n",
       "  'FREQUENCY': 'M',\n",
       "  'INDICATOR_UNIT': '-',\n",
       "  'YTD_TARGET': '125,000.00',\n",
       "  'YTD_ACTUAL': '66,962.00',\n",
       "  'MONTHLY_TARGET': '125,000.00',\n",
       "  'MONTHLY_ACTUAL': '95,307.00'},\n",
       " {'AGENCY_NAME': 'Metro-North Railroad',\n",
       "  'INDICATOR_NAME': 'Mean Distance Between Failures',\n",
       "  'DESCRIPTION': 'Average number of miles a railcar travels before a mechanical failure makes the train arrive at its final destination later than 5 minutes and 59 seconds',\n",
       "  'PERIOD_YEAR': 2011,\n",
       "  'PERIOD_MONTH': 4,\n",
       "  'CATEGORY': 'Service Indicators',\n",
       "  'FREQUENCY': 'M',\n",
       "  'INDICATOR_UNIT': '-',\n",
       "  'YTD_TARGET': '125,000.00',\n",
       "  'YTD_ACTUAL': '79,346.00',\n",
       "  'MONTHLY_TARGET': '125,000.00',\n",
       "  'MONTHLY_ACTUAL': '165,331.00'},\n",
       " {'AGENCY_NAME': 'Metro-North Railroad',\n",
       "  'INDICATOR_NAME': 'Mean Distance Between Failures',\n",
       "  'DESCRIPTION': 'Average number of miles a railcar travels before a mechanical failure makes the train arrive at its final destination later than 5 minutes and 59 seconds',\n",
       "  'PERIOD_YEAR': 2011,\n",
       "  'PERIOD_MONTH': 5,\n",
       "  'CATEGORY': 'Service Indicators',\n",
       "  'FREQUENCY': 'M',\n",
       "  'INDICATOR_UNIT': '-',\n",
       "  'YTD_TARGET': '125,000.00',\n",
       "  'YTD_ACTUAL': '87,903.00',\n",
       "  'MONTHLY_TARGET': '125,000.00',\n",
       "  'MONTHLY_ACTUAL': '147,369.00'},\n",
       " {'AGENCY_NAME': 'Metro-North Railroad',\n",
       "  'INDICATOR_NAME': 'Mean Distance Between Failures',\n",
       "  'DESCRIPTION': 'Average number of miles a railcar travels before a mechanical failure makes the train arrive at its final destination later than 5 minutes and 59 seconds',\n",
       "  'PERIOD_YEAR': 2011,\n",
       "  'PERIOD_MONTH': 6,\n",
       "  'CATEGORY': 'Service Indicators',\n",
       "  'FREQUENCY': 'M',\n",
       "  'INDICATOR_UNIT': '-',\n",
       "  'YTD_TARGET': '125,000.00',\n",
       "  'YTD_ACTUAL': '',\n",
       "  'MONTHLY_TARGET': '125,000.00',\n",
       "  'MONTHLY_ACTUAL': ''},\n",
       " {'AGENCY_NAME': 'Metro-North Railroad',\n",
       "  'INDICATOR_NAME': 'Mean Distance Between Failures',\n",
       "  'DESCRIPTION': 'Average number of miles a railcar travels before a mechanical failure makes the train arrive at its final destination later than 5 minutes and 59 seconds',\n",
       "  'PERIOD_YEAR': 2011,\n",
       "  'PERIOD_MONTH': 7,\n",
       "  'CATEGORY': 'Service Indicators',\n",
       "  'FREQUENCY': 'M',\n",
       "  'INDICATOR_UNIT': '-',\n",
       "  'YTD_TARGET': '125,000.00',\n",
       "  'YTD_ACTUAL': '',\n",
       "  'MONTHLY_TARGET': '125,000.00',\n",
       "  'MONTHLY_ACTUAL': ''},\n",
       " {'AGENCY_NAME': 'Metro-North Railroad',\n",
       "  'INDICATOR_NAME': 'Mean Distance Between Failures',\n",
       "  'DESCRIPTION': 'Average number of miles a railcar travels before a mechanical failure makes the train arrive at its final destination later than 5 minutes and 59 seconds',\n",
       "  'PERIOD_YEAR': 2011,\n",
       "  'PERIOD_MONTH': 8,\n",
       "  'CATEGORY': 'Service Indicators',\n",
       "  'FREQUENCY': 'M',\n",
       "  'INDICATOR_UNIT': '-',\n",
       "  'YTD_TARGET': '125,000.00',\n",
       "  'YTD_ACTUAL': '',\n",
       "  'MONTHLY_TARGET': '125,000.00',\n",
       "  'MONTHLY_ACTUAL': ''},\n",
       " {'AGENCY_NAME': 'Metro-North Railroad',\n",
       "  'INDICATOR_NAME': 'Mean Distance Between Failures',\n",
       "  'DESCRIPTION': 'Average number of miles a railcar travels before a mechanical failure makes the train arrive at its final destination later than 5 minutes and 59 seconds',\n",
       "  'PERIOD_YEAR': 2011,\n",
       "  'PERIOD_MONTH': 9,\n",
       "  'CATEGORY': 'Service Indicators',\n",
       "  'FREQUENCY': 'M',\n",
       "  'INDICATOR_UNIT': '-',\n",
       "  'YTD_TARGET': '125,000.00',\n",
       "  'YTD_ACTUAL': '',\n",
       "  'MONTHLY_TARGET': '125,000.00',\n",
       "  'MONTHLY_ACTUAL': ''},\n",
       " {'AGENCY_NAME': 'Metro-North Railroad',\n",
       "  'INDICATOR_NAME': 'Mean Distance Between Failures',\n",
       "  'DESCRIPTION': 'Average number of miles a railcar travels before a mechanical failure makes the train arrive at its final destination later than 5 minutes and 59 seconds',\n",
       "  'PERIOD_YEAR': 2011,\n",
       "  'PERIOD_MONTH': 10,\n",
       "  'CATEGORY': 'Service Indicators',\n",
       "  'FREQUENCY': 'M',\n",
       "  'INDICATOR_UNIT': '-',\n",
       "  'YTD_TARGET': '125,000.00',\n",
       "  'YTD_ACTUAL': '',\n",
       "  'MONTHLY_TARGET': '125,000.00',\n",
       "  'MONTHLY_ACTUAL': ''},\n",
       " {'AGENCY_NAME': 'Metro-North Railroad',\n",
       "  'INDICATOR_NAME': 'Mean Distance Between Failures',\n",
       "  'DESCRIPTION': 'Average number of miles a railcar travels before a mechanical failure makes the train arrive at its final destination later than 5 minutes and 59 seconds',\n",
       "  'PERIOD_YEAR': 2011,\n",
       "  'PERIOD_MONTH': 11,\n",
       "  'CATEGORY': 'Service Indicators',\n",
       "  'FREQUENCY': 'M',\n",
       "  'INDICATOR_UNIT': '-',\n",
       "  'YTD_TARGET': '125,000.00',\n",
       "  'YTD_ACTUAL': '',\n",
       "  'MONTHLY_TARGET': '125,000.00',\n",
       "  'MONTHLY_ACTUAL': ''},\n",
       " {'AGENCY_NAME': 'Metro-North Railroad',\n",
       "  'INDICATOR_NAME': 'Mean Distance Between Failures',\n",
       "  'DESCRIPTION': 'Average number of miles a railcar travels before a mechanical failure makes the train arrive at its final destination later than 5 minutes and 59 seconds',\n",
       "  'PERIOD_YEAR': 2011,\n",
       "  'PERIOD_MONTH': 12,\n",
       "  'CATEGORY': 'Service Indicators',\n",
       "  'FREQUENCY': 'M',\n",
       "  'INDICATOR_UNIT': '-',\n",
       "  'YTD_TARGET': '125,000.00',\n",
       "  'YTD_ACTUAL': '',\n",
       "  'MONTHLY_TARGET': '125,000.00',\n",
       "  'MONTHLY_ACTUAL': ''},\n",
       " {'AGENCY_NAME': 'Metro-North Railroad',\n",
       "  'INDICATOR_NAME': 'Customer Injury Rate',\n",
       "  'DESCRIPTION': 'Any injury to a customer as a result of an incident within/on railroad property. Included are injuries that result from an assault or crime. The rate is injuries per million customers.',\n",
       "  'PERIOD_YEAR': 2008,\n",
       "  'PERIOD_MONTH': 1,\n",
       "  'CATEGORY': 'Safety Indicators',\n",
       "  'FREQUENCY': 'M',\n",
       "  'INDICATOR_UNIT': '-',\n",
       "  'YTD_TARGET': 3.2,\n",
       "  'YTD_ACTUAL': 4.65,\n",
       "  'MONTHLY_TARGET': 3.2,\n",
       "  'MONTHLY_ACTUAL': 4.65},\n",
       " {'AGENCY_NAME': 'Metro-North Railroad',\n",
       "  'INDICATOR_NAME': 'Customer Injury Rate',\n",
       "  'DESCRIPTION': 'Any injury to a customer as a result of an incident within/on railroad property. Included are injuries that result from an assault or crime. The rate is injuries per million customers.',\n",
       "  'PERIOD_YEAR': 2008,\n",
       "  'PERIOD_MONTH': 2,\n",
       "  'CATEGORY': 'Safety Indicators',\n",
       "  'FREQUENCY': 'M',\n",
       "  'INDICATOR_UNIT': '-',\n",
       "  'YTD_TARGET': 3.2,\n",
       "  'YTD_ACTUAL': 4.29,\n",
       "  'MONTHLY_TARGET': 3.2,\n",
       "  'MONTHLY_ACTUAL': 3.91},\n",
       " {'AGENCY_NAME': 'Metro-North Railroad',\n",
       "  'INDICATOR_NAME': 'Customer Injury Rate',\n",
       "  'DESCRIPTION': 'Any injury to a customer as a result of an incident within/on railroad property. Included are injuries that result from an assault or crime. The rate is injuries per million customers.',\n",
       "  'PERIOD_YEAR': 2008,\n",
       "  'PERIOD_MONTH': 3,\n",
       "  'CATEGORY': 'Safety Indicators',\n",
       "  'FREQUENCY': 'M',\n",
       "  'INDICATOR_UNIT': '-',\n",
       "  'YTD_TARGET': 3.2,\n",
       "  'YTD_ACTUAL': 3.96,\n",
       "  'MONTHLY_TARGET': 3.2,\n",
       "  'MONTHLY_ACTUAL': 3.33},\n",
       " {'AGENCY_NAME': 'Metro-North Railroad',\n",
       "  'INDICATOR_NAME': 'Customer Injury Rate',\n",
       "  'DESCRIPTION': 'Any injury to a customer as a result of an incident within/on railroad property. Included are injuries that result from an assault or crime. The rate is injuries per million customers.',\n",
       "  'PERIOD_YEAR': 2008,\n",
       "  'PERIOD_MONTH': 4,\n",
       "  'CATEGORY': 'Safety Indicators',\n",
       "  'FREQUENCY': 'M',\n",
       "  'INDICATOR_UNIT': '-',\n",
       "  'YTD_TARGET': 3.2,\n",
       "  'YTD_ACTUAL': 3.73,\n",
       "  'MONTHLY_TARGET': 3.2,\n",
       "  'MONTHLY_ACTUAL': 3.09},\n",
       " {'AGENCY_NAME': 'Metro-North Railroad',\n",
       "  'INDICATOR_NAME': 'Customer Injury Rate',\n",
       "  'DESCRIPTION': 'Any injury to a customer as a result of an incident within/on railroad property. Included are injuries that result from an assault or crime. The rate is injuries per million customers.',\n",
       "  'PERIOD_YEAR': 2008,\n",
       "  'PERIOD_MONTH': 5,\n",
       "  'CATEGORY': 'Safety Indicators',\n",
       "  'FREQUENCY': 'M',\n",
       "  'INDICATOR_UNIT': '-',\n",
       "  'YTD_TARGET': 3.2,\n",
       "  'YTD_ACTUAL': 3.72,\n",
       "  'MONTHLY_TARGET': 3.2,\n",
       "  'MONTHLY_ACTUAL': 3.65},\n",
       " {'AGENCY_NAME': 'Metro-North Railroad',\n",
       "  'INDICATOR_NAME': 'Customer Injury Rate',\n",
       "  'DESCRIPTION': 'Any injury to a customer as a result of an incident within/on railroad property. Included are injuries that result from an assault or crime. The rate is injuries per million customers.',\n",
       "  'PERIOD_YEAR': 2008,\n",
       "  'PERIOD_MONTH': 6,\n",
       "  'CATEGORY': 'Safety Indicators',\n",
       "  'FREQUENCY': 'M',\n",
       "  'INDICATOR_UNIT': '-',\n",
       "  'YTD_TARGET': 3.2,\n",
       "  'YTD_ACTUAL': 3.49,\n",
       "  'MONTHLY_TARGET': 3.2,\n",
       "  'MONTHLY_ACTUAL': 2.43},\n",
       " {'AGENCY_NAME': 'Metro-North Railroad',\n",
       "  'INDICATOR_NAME': 'Customer Injury Rate',\n",
       "  'DESCRIPTION': 'Any injury to a customer as a result of an incident within/on railroad property. Included are injuries that result from an assault or crime. The rate is injuries per million customers.',\n",
       "  'PERIOD_YEAR': 2008,\n",
       "  'PERIOD_MONTH': 7,\n",
       "  'CATEGORY': 'Safety Indicators',\n",
       "  'FREQUENCY': 'M',\n",
       "  'INDICATOR_UNIT': '-',\n",
       "  'YTD_TARGET': 3.2,\n",
       "  'YTD_ACTUAL': 3.95,\n",
       "  'MONTHLY_TARGET': 3.2,\n",
       "  'MONTHLY_ACTUAL': 3.43},\n",
       " {'AGENCY_NAME': 'Metro-North Railroad',\n",
       "  'INDICATOR_NAME': 'Customer Injury Rate',\n",
       "  'DESCRIPTION': 'Any injury to a customer as a result of an incident within/on railroad property. Included are injuries that result from an assault or crime. The rate is injuries per million customers.',\n",
       "  'PERIOD_YEAR': 2008,\n",
       "  'PERIOD_MONTH': 8,\n",
       "  'CATEGORY': 'Safety Indicators',\n",
       "  'FREQUENCY': 'M',\n",
       "  'INDICATOR_UNIT': '-',\n",
       "  'YTD_TARGET': 3.2,\n",
       "  'YTD_ACTUAL': 3.45,\n",
       "  'MONTHLY_TARGET': 3.2,\n",
       "  'MONTHLY_ACTUAL': 3.22},\n",
       " {'AGENCY_NAME': 'Metro-North Railroad',\n",
       "  'INDICATOR_NAME': 'Customer Injury Rate',\n",
       "  'DESCRIPTION': 'Any injury to a customer as a result of an incident within/on railroad property. Included are injuries that result from an assault or crime. The rate is injuries per million customers.',\n",
       "  'PERIOD_YEAR': 2008,\n",
       "  'PERIOD_MONTH': 9,\n",
       "  'CATEGORY': 'Safety Indicators',\n",
       "  'FREQUENCY': 'M',\n",
       "  'INDICATOR_UNIT': '-',\n",
       "  'YTD_TARGET': 3.2,\n",
       "  'YTD_ACTUAL': 3.41,\n",
       "  'MONTHLY_TARGET': 3.2,\n",
       "  'MONTHLY_ACTUAL': 1.96},\n",
       " {'AGENCY_NAME': 'Metro-North Railroad',\n",
       "  'INDICATOR_NAME': 'Customer Injury Rate',\n",
       "  'DESCRIPTION': 'Any injury to a customer as a result of an incident within/on railroad property. Included are injuries that result from an assault or crime. The rate is injuries per million customers.',\n",
       "  'PERIOD_YEAR': 2008,\n",
       "  'PERIOD_MONTH': 10,\n",
       "  'CATEGORY': 'Safety Indicators',\n",
       "  'FREQUENCY': 'M',\n",
       "  'INDICATOR_UNIT': '-',\n",
       "  'YTD_TARGET': 3.2,\n",
       "  'YTD_ACTUAL': 3.23,\n",
       "  'MONTHLY_TARGET': 3.2,\n",
       "  'MONTHLY_ACTUAL': 1.78},\n",
       " {'AGENCY_NAME': 'Metro-North Railroad',\n",
       "  'INDICATOR_NAME': 'Customer Injury Rate',\n",
       "  'DESCRIPTION': 'Any injury to a customer as a result of an incident within/on railroad property. Included are injuries that result from an assault or crime. The rate is injuries per million customers.',\n",
       "  'PERIOD_YEAR': 2008,\n",
       "  'PERIOD_MONTH': 11,\n",
       "  'CATEGORY': 'Safety Indicators',\n",
       "  'FREQUENCY': 'M',\n",
       "  'INDICATOR_UNIT': '-',\n",
       "  'YTD_TARGET': 3.2,\n",
       "  'YTD_ACTUAL': 3.18,\n",
       "  'MONTHLY_TARGET': 3.2,\n",
       "  'MONTHLY_ACTUAL': 2.67},\n",
       " {'AGENCY_NAME': 'Metro-North Railroad',\n",
       "  'INDICATOR_NAME': 'Customer Injury Rate',\n",
       "  'DESCRIPTION': 'Any injury to a customer as a result of an incident within/on railroad property. Included are injuries that result from an assault or crime. The rate is injuries per million customers.',\n",
       "  'PERIOD_YEAR': 2008,\n",
       "  'PERIOD_MONTH': 12,\n",
       "  'CATEGORY': 'Safety Indicators',\n",
       "  'FREQUENCY': 'M',\n",
       "  'INDICATOR_UNIT': '-',\n",
       "  'YTD_TARGET': 3.2,\n",
       "  'YTD_ACTUAL': 3.13,\n",
       "  'MONTHLY_TARGET': 3.2,\n",
       "  'MONTHLY_ACTUAL': 2.43},\n",
       " {'AGENCY_NAME': 'Metro-North Railroad',\n",
       "  'INDICATOR_NAME': 'Customer Injury Rate',\n",
       "  'DESCRIPTION': 'Any injury to a customer as a result of an incident within/on railroad property. Included are injuries that result from an assault or crime. The rate is injuries per million customers.',\n",
       "  'PERIOD_YEAR': 2009,\n",
       "  'PERIOD_MONTH': 1,\n",
       "  'CATEGORY': 'Safety Indicators',\n",
       "  'FREQUENCY': 'M',\n",
       "  'INDICATOR_UNIT': '-',\n",
       "  'YTD_TARGET': 3.2,\n",
       "  'YTD_ACTUAL': 2.27,\n",
       "  'MONTHLY_TARGET': 3.2,\n",
       "  'MONTHLY_ACTUAL': 2.27},\n",
       " {'AGENCY_NAME': 'Metro-North Railroad',\n",
       "  'INDICATOR_NAME': 'Customer Injury Rate',\n",
       "  'DESCRIPTION': 'Any injury to a customer as a result of an incident within/on railroad property. Included are injuries that result from an assault or crime. The rate is injuries per million customers.',\n",
       "  'PERIOD_YEAR': 2009,\n",
       "  'PERIOD_MONTH': 2,\n",
       "  'CATEGORY': 'Safety Indicators',\n",
       "  'FREQUENCY': 'M',\n",
       "  'INDICATOR_UNIT': '-',\n",
       "  'YTD_TARGET': 3.2,\n",
       "  'YTD_ACTUAL': 2.1,\n",
       "  'MONTHLY_TARGET': 3.2,\n",
       "  'MONTHLY_ACTUAL': 1.92},\n",
       " {'AGENCY_NAME': 'Metro-North Railroad',\n",
       "  'INDICATOR_NAME': 'Customer Injury Rate',\n",
       "  'DESCRIPTION': 'Any injury to a customer as a result of an incident within/on railroad property. Included are injuries that result from an assault or crime. The rate is injuries per million customers.',\n",
       "  'PERIOD_YEAR': 2009,\n",
       "  'PERIOD_MONTH': 3,\n",
       "  'CATEGORY': 'Safety Indicators',\n",
       "  'FREQUENCY': 'M',\n",
       "  'INDICATOR_UNIT': '-',\n",
       "  'YTD_TARGET': 3.2,\n",
       "  'YTD_ACTUAL': 2.22,\n",
       "  'MONTHLY_TARGET': 3.2,\n",
       "  'MONTHLY_ACTUAL': 1.97},\n",
       " {'AGENCY_NAME': 'Metro-North Railroad',\n",
       "  'INDICATOR_NAME': 'Customer Injury Rate',\n",
       "  'DESCRIPTION': 'Any injury to a customer as a result of an incident within/on railroad property. Included are injuries that result from an assault or crime. The rate is injuries per million customers.',\n",
       "  'PERIOD_YEAR': 2009,\n",
       "  'PERIOD_MONTH': 4,\n",
       "  'CATEGORY': 'Safety Indicators',\n",
       "  'FREQUENCY': 'M',\n",
       "  'INDICATOR_UNIT': '-',\n",
       "  'YTD_TARGET': 3.2,\n",
       "  'YTD_ACTUAL': 2.03,\n",
       "  'MONTHLY_TARGET': 3.2,\n",
       "  'MONTHLY_ACTUAL': 1.5},\n",
       " {'AGENCY_NAME': 'Metro-North Railroad',\n",
       "  'INDICATOR_NAME': 'Customer Injury Rate',\n",
       "  'DESCRIPTION': 'Any injury to a customer as a result of an incident within/on railroad property. Included are injuries that result from an assault or crime. The rate is injuries per million customers.',\n",
       "  'PERIOD_YEAR': 2009,\n",
       "  'PERIOD_MONTH': 5,\n",
       "  'CATEGORY': 'Safety Indicators',\n",
       "  'FREQUENCY': 'M',\n",
       "  'INDICATOR_UNIT': '-',\n",
       "  'YTD_TARGET': 3.2,\n",
       "  'YTD_ACTUAL': 2.16,\n",
       "  'MONTHLY_TARGET': 3.2,\n",
       "  'MONTHLY_ACTUAL': 2.5},\n",
       " {'AGENCY_NAME': 'Metro-North Railroad',\n",
       "  'INDICATOR_NAME': 'Customer Injury Rate',\n",
       "  'DESCRIPTION': 'Any injury to a customer as a result of an incident within/on railroad property. Included are injuries that result from an assault or crime. The rate is injuries per million customers.',\n",
       "  'PERIOD_YEAR': 2009,\n",
       "  'PERIOD_MONTH': 6,\n",
       "  'CATEGORY': 'Safety Indicators',\n",
       "  'FREQUENCY': 'M',\n",
       "  'INDICATOR_UNIT': '-',\n",
       "  'YTD_TARGET': 3.2,\n",
       "  'YTD_ACTUAL': 2.45,\n",
       "  'MONTHLY_TARGET': 3.2,\n",
       "  'MONTHLY_ACTUAL': 3.79},\n",
       " {'AGENCY_NAME': 'Metro-North Railroad',\n",
       "  'INDICATOR_NAME': 'Customer Injury Rate',\n",
       "  'DESCRIPTION': 'Any injury to a customer as a result of an incident within/on railroad property. Included are injuries that result from an assault or crime. The rate is injuries per million customers.',\n",
       "  'PERIOD_YEAR': 2009,\n",
       "  'PERIOD_MONTH': 7,\n",
       "  'CATEGORY': 'Safety Indicators',\n",
       "  'FREQUENCY': 'M',\n",
       "  'INDICATOR_UNIT': '-',\n",
       "  'YTD_TARGET': 3.2,\n",
       "  'YTD_ACTUAL': 2.57,\n",
       "  'MONTHLY_TARGET': 3.2,\n",
       "  'MONTHLY_ACTUAL': 2.93},\n",
       " {'AGENCY_NAME': 'Metro-North Railroad',\n",
       "  'INDICATOR_NAME': 'Customer Injury Rate',\n",
       "  'DESCRIPTION': 'Any injury to a customer as a result of an incident within/on railroad property. Included are injuries that result from an assault or crime. The rate is injuries per million customers.',\n",
       "  'PERIOD_YEAR': 2009,\n",
       "  'PERIOD_MONTH': 8,\n",
       "  'CATEGORY': 'Safety Indicators',\n",
       "  'FREQUENCY': 'M',\n",
       "  'INDICATOR_UNIT': '-',\n",
       "  'YTD_TARGET': 3.2,\n",
       "  'YTD_ACTUAL': 2.6,\n",
       "  'MONTHLY_TARGET': 3.2,\n",
       "  'MONTHLY_ACTUAL': 2.82},\n",
       " {'AGENCY_NAME': 'Metro-North Railroad',\n",
       "  'INDICATOR_NAME': 'Customer Injury Rate',\n",
       "  'DESCRIPTION': 'Any injury to a customer as a result of an incident within/on railroad property. Included are injuries that result from an assault or crime. The rate is injuries per million customers.',\n",
       "  'PERIOD_YEAR': 2009,\n",
       "  'PERIOD_MONTH': 9,\n",
       "  'CATEGORY': 'Safety Indicators',\n",
       "  'FREQUENCY': 'M',\n",
       "  'INDICATOR_UNIT': '-',\n",
       "  'YTD_TARGET': 3.2,\n",
       "  'YTD_ACTUAL': 2.72,\n",
       "  'MONTHLY_TARGET': 3.2,\n",
       "  'MONTHLY_ACTUAL': 3.53},\n",
       " {'AGENCY_NAME': 'Metro-North Railroad',\n",
       "  'INDICATOR_NAME': 'Customer Injury Rate',\n",
       "  'DESCRIPTION': 'Any injury to a customer as a result of an incident within/on railroad property. Included are injuries that result from an assault or crime. The rate is injuries per million customers.',\n",
       "  'PERIOD_YEAR': 2009,\n",
       "  'PERIOD_MONTH': 10,\n",
       "  'CATEGORY': 'Safety Indicators',\n",
       "  'FREQUENCY': 'M',\n",
       "  'INDICATOR_UNIT': '-',\n",
       "  'YTD_TARGET': 3.2,\n",
       "  'YTD_ACTUAL': 2.68,\n",
       "  'MONTHLY_TARGET': 3.2,\n",
       "  'MONTHLY_ACTUAL': 2.36},\n",
       " {'AGENCY_NAME': 'Metro-North Railroad',\n",
       "  'INDICATOR_NAME': 'Customer Injury Rate',\n",
       "  'DESCRIPTION': 'Any injury to a customer as a result of an incident within/on railroad property. Included are injuries that result from an assault or crime. The rate is injuries per million customers.',\n",
       "  'PERIOD_YEAR': 2009,\n",
       "  'PERIOD_MONTH': 11,\n",
       "  'CATEGORY': 'Safety Indicators',\n",
       "  'FREQUENCY': 'M',\n",
       "  'INDICATOR_UNIT': '-',\n",
       "  'YTD_TARGET': 3.2,\n",
       "  'YTD_ACTUAL': 2.67,\n",
       "  'MONTHLY_TARGET': 3.2,\n",
       "  'MONTHLY_ACTUAL': 2.21},\n",
       " {'AGENCY_NAME': 'Metro-North Railroad',\n",
       "  'INDICATOR_NAME': 'Customer Injury Rate',\n",
       "  'DESCRIPTION': 'Any injury to a customer as a result of an incident within/on railroad property. Included are injuries that result from an assault or crime. The rate is injuries per million customers.',\n",
       "  'PERIOD_YEAR': 2009,\n",
       "  'PERIOD_MONTH': 12,\n",
       "  'CATEGORY': 'Safety Indicators',\n",
       "  'FREQUENCY': 'M',\n",
       "  'INDICATOR_UNIT': '-',\n",
       "  'YTD_TARGET': 3.2,\n",
       "  'YTD_ACTUAL': 2.77,\n",
       "  'MONTHLY_TARGET': 3.2,\n",
       "  'MONTHLY_ACTUAL': 3.55},\n",
       " {'AGENCY_NAME': 'Metro-North Railroad',\n",
       "  'INDICATOR_NAME': 'Customer Injury Rate',\n",
       "  'DESCRIPTION': 'Any injury to a customer as a result of an incident within/on railroad property. Included are injuries that result from an assault or crime. The rate is injuries per million customers.',\n",
       "  'PERIOD_YEAR': 2010,\n",
       "  'PERIOD_MONTH': 1,\n",
       "  'CATEGORY': 'Safety Indicators',\n",
       "  'FREQUENCY': 'M',\n",
       "  'INDICATOR_UNIT': '-',\n",
       "  'YTD_TARGET': 2.8,\n",
       "  'YTD_ACTUAL': 1.85,\n",
       "  'MONTHLY_TARGET': 2.8,\n",
       "  'MONTHLY_ACTUAL': 1.85},\n",
       " {'AGENCY_NAME': 'Metro-North Railroad',\n",
       "  'INDICATOR_NAME': 'Customer Injury Rate',\n",
       "  'DESCRIPTION': 'Any injury to a customer as a result of an incident within/on railroad property. Included are injuries that result from an assault or crime. The rate is injuries per million customers.',\n",
       "  'PERIOD_YEAR': 2010,\n",
       "  'PERIOD_MONTH': 2,\n",
       "  'CATEGORY': 'Safety Indicators',\n",
       "  'FREQUENCY': 'M',\n",
       "  'INDICATOR_UNIT': '-',\n",
       "  'YTD_TARGET': 2.8,\n",
       "  'YTD_ACTUAL': 1.56,\n",
       "  'MONTHLY_TARGET': 2.8,\n",
       "  'MONTHLY_ACTUAL': 1.26},\n",
       " {'AGENCY_NAME': 'Metro-North Railroad',\n",
       "  'INDICATOR_NAME': 'Customer Injury Rate',\n",
       "  'DESCRIPTION': 'Any injury to a customer as a result of an incident within/on railroad property. Included are injuries that result from an assault or crime. The rate is injuries per million customers.',\n",
       "  'PERIOD_YEAR': 2010,\n",
       "  'PERIOD_MONTH': 3,\n",
       "  'CATEGORY': 'Safety Indicators',\n",
       "  'FREQUENCY': 'M',\n",
       "  'INDICATOR_UNIT': '-',\n",
       "  'YTD_TARGET': 2.8,\n",
       "  'YTD_ACTUAL': 1.43,\n",
       "  'MONTHLY_TARGET': 2.8,\n",
       "  'MONTHLY_ACTUAL': 1.18},\n",
       " {'AGENCY_NAME': 'Metro-North Railroad',\n",
       "  'INDICATOR_NAME': 'Customer Injury Rate',\n",
       "  'DESCRIPTION': 'Any injury to a customer as a result of an incident within/on railroad property. Included are injuries that result from an assault or crime. The rate is injuries per million customers.',\n",
       "  'PERIOD_YEAR': 2010,\n",
       "  'PERIOD_MONTH': 4,\n",
       "  'CATEGORY': 'Safety Indicators',\n",
       "  'FREQUENCY': 'M',\n",
       "  'INDICATOR_UNIT': '-',\n",
       "  'YTD_TARGET': 2.8,\n",
       "  'YTD_ACTUAL': 1.81,\n",
       "  'MONTHLY_TARGET': 2.8,\n",
       "  'MONTHLY_ACTUAL': 2.85},\n",
       " {'AGENCY_NAME': 'Metro-North Railroad',\n",
       "  'INDICATOR_NAME': 'Customer Injury Rate',\n",
       "  'DESCRIPTION': 'Any injury to a customer as a result of an incident within/on railroad property. Included are injuries that result from an assault or crime. The rate is injuries per million customers.',\n",
       "  'PERIOD_YEAR': 2010,\n",
       "  'PERIOD_MONTH': 5,\n",
       "  'CATEGORY': 'Safety Indicators',\n",
       "  'FREQUENCY': 'M',\n",
       "  'INDICATOR_UNIT': '-',\n",
       "  'YTD_TARGET': 2.8,\n",
       "  'YTD_ACTUAL': 2.16,\n",
       "  'MONTHLY_TARGET': 2.8,\n",
       "  'MONTHLY_ACTUAL': 2.89},\n",
       " {'AGENCY_NAME': 'Metro-North Railroad',\n",
       "  'INDICATOR_NAME': 'Customer Injury Rate',\n",
       "  'DESCRIPTION': 'Any injury to a customer as a result of an incident within/on railroad property. Included are injuries that result from an assault or crime. The rate is injuries per million customers.',\n",
       "  'PERIOD_YEAR': 2010,\n",
       "  'PERIOD_MONTH': 6,\n",
       "  'CATEGORY': 'Safety Indicators',\n",
       "  'FREQUENCY': 'M',\n",
       "  'INDICATOR_UNIT': '-',\n",
       "  'YTD_TARGET': 2.8,\n",
       "  'YTD_ACTUAL': 2.26,\n",
       "  'MONTHLY_TARGET': 2.8,\n",
       "  'MONTHLY_ACTUAL': 2.72},\n",
       " {'AGENCY_NAME': 'Metro-North Railroad',\n",
       "  'INDICATOR_NAME': 'Customer Injury Rate',\n",
       "  'DESCRIPTION': 'Any injury to a customer as a result of an incident within/on railroad property. Included are injuries that result from an assault or crime. The rate is injuries per million customers.',\n",
       "  'PERIOD_YEAR': 2010,\n",
       "  'PERIOD_MONTH': 7,\n",
       "  'CATEGORY': 'Safety Indicators',\n",
       "  'FREQUENCY': 'M',\n",
       "  'INDICATOR_UNIT': '-',\n",
       "  'YTD_TARGET': 2.8,\n",
       "  'YTD_ACTUAL': 2.49,\n",
       "  'MONTHLY_TARGET': 2.8,\n",
       "  'MONTHLY_ACTUAL': 2.93},\n",
       " {'AGENCY_NAME': 'Metro-North Railroad',\n",
       "  'INDICATOR_NAME': 'Customer Injury Rate',\n",
       "  'DESCRIPTION': 'Any injury to a customer as a result of an incident within/on railroad property. Included are injuries that result from an assault or crime. The rate is injuries per million customers.',\n",
       "  'PERIOD_YEAR': 2010,\n",
       "  'PERIOD_MONTH': 8,\n",
       "  'CATEGORY': 'Safety Indicators',\n",
       "  'FREQUENCY': 'M',\n",
       "  'INDICATOR_UNIT': '-',\n",
       "  'YTD_TARGET': 2.8,\n",
       "  'YTD_ACTUAL': 2.78,\n",
       "  'MONTHLY_TARGET': 2.8,\n",
       "  'MONTHLY_ACTUAL': 4.59},\n",
       " {'AGENCY_NAME': 'Metro-North Railroad',\n",
       "  'INDICATOR_NAME': 'Customer Injury Rate',\n",
       "  'DESCRIPTION': 'Any injury to a customer as a result of an incident within/on railroad property. Included are injuries that result from an assault or crime. The rate is injuries per million customers.',\n",
       "  'PERIOD_YEAR': 2010,\n",
       "  'PERIOD_MONTH': 9,\n",
       "  'CATEGORY': 'Safety Indicators',\n",
       "  'FREQUENCY': 'M',\n",
       "  'INDICATOR_UNIT': '-',\n",
       "  'YTD_TARGET': 2.8,\n",
       "  'YTD_ACTUAL': 2.74,\n",
       "  'MONTHLY_TARGET': 2.8,\n",
       "  'MONTHLY_ACTUAL': 2.39},\n",
       " {'AGENCY_NAME': 'Metro-North Railroad',\n",
       "  'INDICATOR_NAME': 'Customer Injury Rate',\n",
       "  'DESCRIPTION': 'Any injury to a customer as a result of an incident within/on railroad property. Included are injuries that result from an assault or crime. The rate is injuries per million customers.',\n",
       "  'PERIOD_YEAR': 2010,\n",
       "  'PERIOD_MONTH': 10,\n",
       "  'CATEGORY': 'Safety Indicators',\n",
       "  'FREQUENCY': 'M',\n",
       "  'INDICATOR_UNIT': '-',\n",
       "  'YTD_TARGET': 2.8,\n",
       "  'YTD_ACTUAL': 2.76,\n",
       "  'MONTHLY_TARGET': 2.8,\n",
       "  'MONTHLY_ACTUAL': 2.91},\n",
       " {'AGENCY_NAME': 'Metro-North Railroad',\n",
       "  'INDICATOR_NAME': 'Customer Injury Rate',\n",
       "  'DESCRIPTION': 'Any injury to a customer as a result of an incident within/on railroad property. Included are injuries that result from an assault or crime. The rate is injuries per million customers.',\n",
       "  'PERIOD_YEAR': 2010,\n",
       "  'PERIOD_MONTH': 11,\n",
       "  'CATEGORY': 'Safety Indicators',\n",
       "  'FREQUENCY': 'M',\n",
       "  'INDICATOR_UNIT': '-',\n",
       "  'YTD_TARGET': 2.8,\n",
       "  'YTD_ACTUAL': 2.68,\n",
       "  'MONTHLY_TARGET': 2.8,\n",
       "  'MONTHLY_ACTUAL': 1.95},\n",
       " {'AGENCY_NAME': 'Metro-North Railroad',\n",
       "  'INDICATOR_NAME': 'Customer Injury Rate',\n",
       "  'DESCRIPTION': 'Any injury to a customer as a result of an incident within/on railroad property. Included are injuries that result from an assault or crime. The rate is injuries per million customers.',\n",
       "  'PERIOD_YEAR': 2010,\n",
       "  'PERIOD_MONTH': 12,\n",
       "  'CATEGORY': 'Safety Indicators',\n",
       "  'FREQUENCY': 'M',\n",
       "  'INDICATOR_UNIT': '-',\n",
       "  'YTD_TARGET': 2.8,\n",
       "  'YTD_ACTUAL': 2.74,\n",
       "  'MONTHLY_TARGET': 2.8,\n",
       "  'MONTHLY_ACTUAL': 3.18},\n",
       " {'AGENCY_NAME': 'Metro-North Railroad',\n",
       "  'INDICATOR_NAME': 'Customer Injury Rate',\n",
       "  'DESCRIPTION': 'Any injury to a customer as a result of an incident within/on railroad property. Included are injuries that result from an assault or crime. The rate is injuries per million customers.',\n",
       "  'PERIOD_YEAR': 2011,\n",
       "  'PERIOD_MONTH': 1,\n",
       "  'CATEGORY': 'Safety Indicators',\n",
       "  'FREQUENCY': 'M',\n",
       "  'INDICATOR_UNIT': '-',\n",
       "  'YTD_TARGET': 2.8,\n",
       "  'YTD_ACTUAL': 3.2,\n",
       "  'MONTHLY_TARGET': 2.8,\n",
       "  'MONTHLY_ACTUAL': 3.2},\n",
       " {'AGENCY_NAME': 'Metro-North Railroad',\n",
       "  'INDICATOR_NAME': 'Customer Injury Rate',\n",
       "  'DESCRIPTION': 'Any injury to a customer as a result of an incident within/on railroad property. Included are injuries that result from an assault or crime. The rate is injuries per million customers.',\n",
       "  'PERIOD_YEAR': 2011,\n",
       "  'PERIOD_MONTH': 2,\n",
       "  'CATEGORY': 'Safety Indicators',\n",
       "  'FREQUENCY': 'M',\n",
       "  'INDICATOR_UNIT': '-',\n",
       "  'YTD_TARGET': 2.8,\n",
       "  'YTD_ACTUAL': 3.2,\n",
       "  'MONTHLY_TARGET': 2.8,\n",
       "  'MONTHLY_ACTUAL': 3.2},\n",
       " {'AGENCY_NAME': 'Metro-North Railroad',\n",
       "  'INDICATOR_NAME': 'Customer Injury Rate',\n",
       "  'DESCRIPTION': 'Any injury to a customer as a result of an incident within/on railroad property. Included are injuries that result from an assault or crime. The rate is injuries per million customers.',\n",
       "  'PERIOD_YEAR': 2011,\n",
       "  'PERIOD_MONTH': 3,\n",
       "  'CATEGORY': 'Safety Indicators',\n",
       "  'FREQUENCY': 'M',\n",
       "  'INDICATOR_UNIT': '-',\n",
       "  'YTD_TARGET': 2.8,\n",
       "  'YTD_ACTUAL': 3.73,\n",
       "  'MONTHLY_TARGET': 2.8,\n",
       "  'MONTHLY_ACTUAL': 3.63},\n",
       " {'AGENCY_NAME': 'Metro-North Railroad',\n",
       "  'INDICATOR_NAME': 'Customer Injury Rate',\n",
       "  'DESCRIPTION': 'Any injury to a customer as a result of an incident within/on railroad property. Included are injuries that result from an assault or crime. The rate is injuries per million customers.',\n",
       "  'PERIOD_YEAR': 2011,\n",
       "  'PERIOD_MONTH': 4,\n",
       "  'CATEGORY': 'Safety Indicators',\n",
       "  'FREQUENCY': 'M',\n",
       "  'INDICATOR_UNIT': '-',\n",
       "  'YTD_TARGET': 2.8,\n",
       "  'YTD_ACTUAL': 3.34,\n",
       "  'MONTHLY_TARGET': 2.8,\n",
       "  'MONTHLY_ACTUAL': 2.26},\n",
       " {'AGENCY_NAME': 'Metro-North Railroad',\n",
       "  'INDICATOR_NAME': 'Customer Injury Rate',\n",
       "  'DESCRIPTION': 'Any injury to a customer as a result of an incident within/on railroad property. Included are injuries that result from an assault or crime. The rate is injuries per million customers.',\n",
       "  'PERIOD_YEAR': 2011,\n",
       "  'PERIOD_MONTH': 5,\n",
       "  'CATEGORY': 'Safety Indicators',\n",
       "  'FREQUENCY': 'M',\n",
       "  'INDICATOR_UNIT': '-',\n",
       "  'YTD_TARGET': 2.8,\n",
       "  'YTD_ACTUAL': '',\n",
       "  'MONTHLY_TARGET': 2.8,\n",
       "  'MONTHLY_ACTUAL': ''},\n",
       " {'AGENCY_NAME': 'Metro-North Railroad',\n",
       "  'INDICATOR_NAME': 'Customer Injury Rate',\n",
       "  'DESCRIPTION': 'Any injury to a customer as a result of an incident within/on railroad property. Included are injuries that result from an assault or crime. The rate is injuries per million customers.',\n",
       "  'PERIOD_YEAR': 2011,\n",
       "  'PERIOD_MONTH': 6,\n",
       "  'CATEGORY': 'Safety Indicators',\n",
       "  'FREQUENCY': 'M',\n",
       "  'INDICATOR_UNIT': '-',\n",
       "  'YTD_TARGET': 2.8,\n",
       "  'YTD_ACTUAL': '',\n",
       "  'MONTHLY_TARGET': 2.8,\n",
       "  'MONTHLY_ACTUAL': ''},\n",
       " {'AGENCY_NAME': 'Metro-North Railroad',\n",
       "  'INDICATOR_NAME': 'Customer Injury Rate',\n",
       "  'DESCRIPTION': 'Any injury to a customer as a result of an incident within/on railroad property. Included are injuries that result from an assault or crime. The rate is injuries per million customers.',\n",
       "  'PERIOD_YEAR': 2011,\n",
       "  'PERIOD_MONTH': 7,\n",
       "  'CATEGORY': 'Safety Indicators',\n",
       "  'FREQUENCY': 'M',\n",
       "  'INDICATOR_UNIT': '-',\n",
       "  'YTD_TARGET': 2.8,\n",
       "  'YTD_ACTUAL': '',\n",
       "  'MONTHLY_TARGET': 2.8,\n",
       "  'MONTHLY_ACTUAL': ''},\n",
       " {'AGENCY_NAME': 'Metro-North Railroad',\n",
       "  'INDICATOR_NAME': 'Customer Injury Rate',\n",
       "  'DESCRIPTION': 'Any injury to a customer as a result of an incident within/on railroad property. Included are injuries that result from an assault or crime. The rate is injuries per million customers.',\n",
       "  'PERIOD_YEAR': 2011,\n",
       "  'PERIOD_MONTH': 8,\n",
       "  'CATEGORY': 'Safety Indicators',\n",
       "  'FREQUENCY': 'M',\n",
       "  'INDICATOR_UNIT': '-',\n",
       "  'YTD_TARGET': 2.8,\n",
       "  'YTD_ACTUAL': '',\n",
       "  'MONTHLY_TARGET': 2.8,\n",
       "  'MONTHLY_ACTUAL': ''},\n",
       " {'AGENCY_NAME': 'Metro-North Railroad',\n",
       "  'INDICATOR_NAME': 'Customer Injury Rate',\n",
       "  'DESCRIPTION': 'Any injury to a customer as a result of an incident within/on railroad property. Included are injuries that result from an assault or crime. The rate is injuries per million customers.',\n",
       "  'PERIOD_YEAR': 2011,\n",
       "  'PERIOD_MONTH': 9,\n",
       "  'CATEGORY': 'Safety Indicators',\n",
       "  'FREQUENCY': 'M',\n",
       "  'INDICATOR_UNIT': '-',\n",
       "  'YTD_TARGET': 2.8,\n",
       "  'YTD_ACTUAL': '',\n",
       "  'MONTHLY_TARGET': 2.8,\n",
       "  'MONTHLY_ACTUAL': ''},\n",
       " {'AGENCY_NAME': 'Metro-North Railroad',\n",
       "  'INDICATOR_NAME': 'Customer Injury Rate',\n",
       "  'DESCRIPTION': 'Any injury to a customer as a result of an incident within/on railroad property. Included are injuries that result from an assault or crime. The rate is injuries per million customers.',\n",
       "  'PERIOD_YEAR': 2011,\n",
       "  'PERIOD_MONTH': 10,\n",
       "  'CATEGORY': 'Safety Indicators',\n",
       "  'FREQUENCY': 'M',\n",
       "  'INDICATOR_UNIT': '-',\n",
       "  'YTD_TARGET': 2.8,\n",
       "  'YTD_ACTUAL': '',\n",
       "  'MONTHLY_TARGET': 2.8,\n",
       "  'MONTHLY_ACTUAL': ''},\n",
       " {'AGENCY_NAME': 'Metro-North Railroad',\n",
       "  'INDICATOR_NAME': 'Customer Injury Rate',\n",
       "  'DESCRIPTION': 'Any injury to a customer as a result of an incident within/on railroad property. Included are injuries that result from an assault or crime. The rate is injuries per million customers.',\n",
       "  'PERIOD_YEAR': 2011,\n",
       "  'PERIOD_MONTH': 11,\n",
       "  'CATEGORY': 'Safety Indicators',\n",
       "  'FREQUENCY': 'M',\n",
       "  'INDICATOR_UNIT': '-',\n",
       "  'YTD_TARGET': 2.8,\n",
       "  'YTD_ACTUAL': '',\n",
       "  'MONTHLY_TARGET': 2.8,\n",
       "  'MONTHLY_ACTUAL': ''},\n",
       " {'AGENCY_NAME': 'Metro-North Railroad',\n",
       "  'INDICATOR_NAME': 'Customer Injury Rate',\n",
       "  'DESCRIPTION': 'Any injury to a customer as a result of an incident within/on railroad property. Included are injuries that result from an assault or crime. The rate is injuries per million customers.',\n",
       "  'PERIOD_YEAR': 2011,\n",
       "  'PERIOD_MONTH': 12,\n",
       "  'CATEGORY': 'Safety Indicators',\n",
       "  'FREQUENCY': 'M',\n",
       "  'INDICATOR_UNIT': '-',\n",
       "  'YTD_TARGET': 2.8,\n",
       "  'YTD_ACTUAL': '',\n",
       "  'MONTHLY_TARGET': 2.8,\n",
       "  'MONTHLY_ACTUAL': ''},\n",
       " {'AGENCY_NAME': 'Metro-North Railroad',\n",
       "  'INDICATOR_NAME': 'Customer Injury Rate',\n",
       "  'DESCRIPTION': 'Any injury to a customer as a result of an incident within/on railroad property. Included are injuries that result from an assault or crime. The rate is injuries per million customers.',\n",
       "  'PERIOD_YEAR': 2012,\n",
       "  'PERIOD_MONTH': 1,\n",
       "  'CATEGORY': 'Safety Indicators',\n",
       "  'FREQUENCY': 'M',\n",
       "  'INDICATOR_UNIT': '-',\n",
       "  'YTD_TARGET': '',\n",
       "  'YTD_ACTUAL': '',\n",
       "  'MONTHLY_TARGET': '',\n",
       "  'MONTHLY_ACTUAL': ''},\n",
       " {'AGENCY_NAME': 'Metro-North Railroad',\n",
       "  'INDICATOR_NAME': 'Customer Injury Rate',\n",
       "  'DESCRIPTION': 'Any injury to a customer as a result of an incident within/on railroad property. Included are injuries that result from an assault or crime. The rate is injuries per million customers.',\n",
       "  'PERIOD_YEAR': 2012,\n",
       "  'PERIOD_MONTH': 2,\n",
       "  'CATEGORY': 'Safety Indicators',\n",
       "  'FREQUENCY': 'M',\n",
       "  'INDICATOR_UNIT': '-',\n",
       "  'YTD_TARGET': '',\n",
       "  'YTD_ACTUAL': '',\n",
       "  'MONTHLY_TARGET': '',\n",
       "  'MONTHLY_ACTUAL': ''},\n",
       " {'AGENCY_NAME': 'Metro-North Railroad',\n",
       "  'INDICATOR_NAME': 'Customer Injury Rate',\n",
       "  'DESCRIPTION': 'Any injury to a customer as a result of an incident within/on railroad property. Included are injuries that result from an assault or crime. The rate is injuries per million customers.',\n",
       "  'PERIOD_YEAR': 2012,\n",
       "  'PERIOD_MONTH': 3,\n",
       "  'CATEGORY': 'Safety Indicators',\n",
       "  'FREQUENCY': 'M',\n",
       "  'INDICATOR_UNIT': '-',\n",
       "  'YTD_TARGET': '',\n",
       "  'YTD_ACTUAL': '',\n",
       "  'MONTHLY_TARGET': '',\n",
       "  'MONTHLY_ACTUAL': ''},\n",
       " {'AGENCY_NAME': 'Metro-North Railroad',\n",
       "  'INDICATOR_NAME': 'Customer Injury Rate',\n",
       "  'DESCRIPTION': 'Any injury to a customer as a result of an incident within/on railroad property. Included are injuries that result from an assault or crime. The rate is injuries per million customers.',\n",
       "  'PERIOD_YEAR': 2012,\n",
       "  'PERIOD_MONTH': 4,\n",
       "  'CATEGORY': 'Safety Indicators',\n",
       "  'FREQUENCY': 'M',\n",
       "  'INDICATOR_UNIT': '-',\n",
       "  'YTD_TARGET': '',\n",
       "  'YTD_ACTUAL': '',\n",
       "  'MONTHLY_TARGET': '',\n",
       "  'MONTHLY_ACTUAL': ''},\n",
       " {'AGENCY_NAME': 'Metro-North Railroad',\n",
       "  'INDICATOR_NAME': 'Customer Injury Rate',\n",
       "  'DESCRIPTION': 'Any injury to a customer as a result of an incident within/on railroad property. Included are injuries that result from an assault or crime. The rate is injuries per million customers.',\n",
       "  'PERIOD_YEAR': 2012,\n",
       "  'PERIOD_MONTH': 5,\n",
       "  'CATEGORY': 'Safety Indicators',\n",
       "  'FREQUENCY': 'M',\n",
       "  'INDICATOR_UNIT': '-',\n",
       "  'YTD_TARGET': '',\n",
       "  'YTD_ACTUAL': '',\n",
       "  'MONTHLY_TARGET': '',\n",
       "  'MONTHLY_ACTUAL': ''},\n",
       " {'AGENCY_NAME': 'Metro-North Railroad',\n",
       "  'INDICATOR_NAME': 'Customer Injury Rate',\n",
       "  'DESCRIPTION': 'Any injury to a customer as a result of an incident within/on railroad property. Included are injuries that result from an assault or crime. The rate is injuries per million customers.',\n",
       "  'PERIOD_YEAR': 2012,\n",
       "  'PERIOD_MONTH': 6,\n",
       "  'CATEGORY': 'Safety Indicators',\n",
       "  'FREQUENCY': 'M',\n",
       "  'INDICATOR_UNIT': '-',\n",
       "  'YTD_TARGET': '',\n",
       "  'YTD_ACTUAL': '',\n",
       "  'MONTHLY_TARGET': '',\n",
       "  'MONTHLY_ACTUAL': ''},\n",
       " {'AGENCY_NAME': 'Metro-North Railroad',\n",
       "  'INDICATOR_NAME': 'Customer Injury Rate',\n",
       "  'DESCRIPTION': 'Any injury to a customer as a result of an incident within/on railroad property. Included are injuries that result from an assault or crime. The rate is injuries per million customers.',\n",
       "  'PERIOD_YEAR': 2012,\n",
       "  'PERIOD_MONTH': 7,\n",
       "  'CATEGORY': 'Safety Indicators',\n",
       "  'FREQUENCY': 'M',\n",
       "  'INDICATOR_UNIT': '-',\n",
       "  'YTD_TARGET': '',\n",
       "  'YTD_ACTUAL': '',\n",
       "  'MONTHLY_TARGET': '',\n",
       "  'MONTHLY_ACTUAL': ''},\n",
       " {'AGENCY_NAME': 'Metro-North Railroad',\n",
       "  'INDICATOR_NAME': 'Customer Injury Rate',\n",
       "  'DESCRIPTION': 'Any injury to a customer as a result of an incident within/on railroad property. Included are injuries that result from an assault or crime. The rate is injuries per million customers.',\n",
       "  'PERIOD_YEAR': 2012,\n",
       "  'PERIOD_MONTH': 8,\n",
       "  'CATEGORY': 'Safety Indicators',\n",
       "  'FREQUENCY': 'M',\n",
       "  'INDICATOR_UNIT': '-',\n",
       "  'YTD_TARGET': '',\n",
       "  'YTD_ACTUAL': '',\n",
       "  'MONTHLY_TARGET': '',\n",
       "  'MONTHLY_ACTUAL': ''},\n",
       " {'AGENCY_NAME': 'Metro-North Railroad',\n",
       "  'INDICATOR_NAME': 'Customer Injury Rate',\n",
       "  'DESCRIPTION': 'Any injury to a customer as a result of an incident within/on railroad property. Included are injuries that result from an assault or crime. The rate is injuries per million customers.',\n",
       "  'PERIOD_YEAR': 2012,\n",
       "  'PERIOD_MONTH': 9,\n",
       "  'CATEGORY': 'Safety Indicators',\n",
       "  'FREQUENCY': 'M',\n",
       "  'INDICATOR_UNIT': '-',\n",
       "  'YTD_TARGET': '',\n",
       "  'YTD_ACTUAL': '',\n",
       "  'MONTHLY_TARGET': '',\n",
       "  'MONTHLY_ACTUAL': ''},\n",
       " {'AGENCY_NAME': 'Metro-North Railroad',\n",
       "  'INDICATOR_NAME': 'Customer Injury Rate',\n",
       "  'DESCRIPTION': 'Any injury to a customer as a result of an incident within/on railroad property. Included are injuries that result from an assault or crime. The rate is injuries per million customers.',\n",
       "  'PERIOD_YEAR': 2012,\n",
       "  'PERIOD_MONTH': 10,\n",
       "  'CATEGORY': 'Safety Indicators',\n",
       "  'FREQUENCY': 'M',\n",
       "  'INDICATOR_UNIT': '-',\n",
       "  'YTD_TARGET': '',\n",
       "  'YTD_ACTUAL': '',\n",
       "  'MONTHLY_TARGET': '',\n",
       "  'MONTHLY_ACTUAL': ''},\n",
       " {'AGENCY_NAME': 'Metro-North Railroad',\n",
       "  'INDICATOR_NAME': 'Customer Injury Rate',\n",
       "  'DESCRIPTION': 'Any injury to a customer as a result of an incident within/on railroad property. Included are injuries that result from an assault or crime. The rate is injuries per million customers.',\n",
       "  'PERIOD_YEAR': 2012,\n",
       "  'PERIOD_MONTH': 11,\n",
       "  'CATEGORY': 'Safety Indicators',\n",
       "  'FREQUENCY': 'M',\n",
       "  'INDICATOR_UNIT': '-',\n",
       "  'YTD_TARGET': '',\n",
       "  'YTD_ACTUAL': '',\n",
       "  'MONTHLY_TARGET': '',\n",
       "  'MONTHLY_ACTUAL': ''},\n",
       " {'AGENCY_NAME': 'Metro-North Railroad',\n",
       "  'INDICATOR_NAME': 'Customer Injury Rate',\n",
       "  'DESCRIPTION': 'Any injury to a customer as a result of an incident within/on railroad property. Included are injuries that result from an assault or crime. The rate is injuries per million customers.',\n",
       "  'PERIOD_YEAR': 2012,\n",
       "  'PERIOD_MONTH': 12,\n",
       "  'CATEGORY': 'Safety Indicators',\n",
       "  'FREQUENCY': 'M',\n",
       "  'INDICATOR_UNIT': '-',\n",
       "  'YTD_TARGET': '',\n",
       "  'YTD_ACTUAL': '',\n",
       "  'MONTHLY_TARGET': '',\n",
       "  'MONTHLY_ACTUAL': ''},\n",
       " {'AGENCY_NAME': 'Metro-North Railroad',\n",
       "  'INDICATOR_NAME': 'Employee Lost Time and Restricted Duty Rate',\n",
       "  'DESCRIPTION': 'An employee lost time injury or illness is one that prevents an employee from returning to work for at least one full shift. The rate is injuries and illnesses per 200,000 worker hours.',\n",
       "  'PERIOD_YEAR': 2008,\n",
       "  'PERIOD_MONTH': 1,\n",
       "  'CATEGORY': 'Safety Indicators',\n",
       "  'FREQUENCY': 'M',\n",
       "  'INDICATOR_UNIT': '-',\n",
       "  'YTD_TARGET': 2.0,\n",
       "  'YTD_ACTUAL': 0.19,\n",
       "  'MONTHLY_TARGET': 2.0,\n",
       "  'MONTHLY_ACTUAL': 0.19},\n",
       " {'AGENCY_NAME': 'Metro-North Railroad',\n",
       "  'INDICATOR_NAME': 'Employee Lost Time and Restricted Duty Rate',\n",
       "  'DESCRIPTION': 'An employee lost time injury or illness is one that prevents an employee from returning to work for at least one full shift. The rate is injuries and illnesses per 200,000 worker hours.',\n",
       "  'PERIOD_YEAR': 2008,\n",
       "  'PERIOD_MONTH': 2,\n",
       "  'CATEGORY': 'Safety Indicators',\n",
       "  'FREQUENCY': 'M',\n",
       "  'INDICATOR_UNIT': '-',\n",
       "  'YTD_TARGET': 2.0,\n",
       "  'YTD_ACTUAL': 0.49,\n",
       "  'MONTHLY_TARGET': 2.0,\n",
       "  'MONTHLY_ACTUAL': 0.81},\n",
       " {'AGENCY_NAME': 'Metro-North Railroad',\n",
       "  'INDICATOR_NAME': 'Employee Lost Time and Restricted Duty Rate',\n",
       "  'DESCRIPTION': 'An employee lost time injury or illness is one that prevents an employee from returning to work for at least one full shift. The rate is injuries and illnesses per 200,000 worker hours.',\n",
       "  'PERIOD_YEAR': 2008,\n",
       "  'PERIOD_MONTH': 3,\n",
       "  'CATEGORY': 'Safety Indicators',\n",
       "  'FREQUENCY': 'M',\n",
       "  'INDICATOR_UNIT': '-',\n",
       "  'YTD_TARGET': 2.0,\n",
       "  'YTD_ACTUAL': 0.84,\n",
       "  'MONTHLY_TARGET': 2.0,\n",
       "  'MONTHLY_ACTUAL': 1.55},\n",
       " {'AGENCY_NAME': 'Metro-North Railroad',\n",
       "  'INDICATOR_NAME': 'Employee Lost Time and Restricted Duty Rate',\n",
       "  'DESCRIPTION': 'An employee lost time injury or illness is one that prevents an employee from returning to work for at least one full shift. The rate is injuries and illnesses per 200,000 worker hours.',\n",
       "  'PERIOD_YEAR': 2008,\n",
       "  'PERIOD_MONTH': 4,\n",
       "  'CATEGORY': 'Safety Indicators',\n",
       "  'FREQUENCY': 'M',\n",
       "  'INDICATOR_UNIT': '-',\n",
       "  'YTD_TARGET': 2.0,\n",
       "  'YTD_ACTUAL': 1.06,\n",
       "  'MONTHLY_TARGET': 2.0,\n",
       "  'MONTHLY_ACTUAL': 1.69},\n",
       " {'AGENCY_NAME': 'Metro-North Railroad',\n",
       "  'INDICATOR_NAME': 'Employee Lost Time and Restricted Duty Rate',\n",
       "  'DESCRIPTION': 'An employee lost time injury or illness is one that prevents an employee from returning to work for at least one full shift. The rate is injuries and illnesses per 200,000 worker hours.',\n",
       "  'PERIOD_YEAR': 2008,\n",
       "  'PERIOD_MONTH': 5,\n",
       "  'CATEGORY': 'Safety Indicators',\n",
       "  'FREQUENCY': 'M',\n",
       "  'INDICATOR_UNIT': '-',\n",
       "  'YTD_TARGET': 2.0,\n",
       "  'YTD_ACTUAL': 1.0,\n",
       "  'MONTHLY_TARGET': 2.0,\n",
       "  'MONTHLY_ACTUAL': 0.9},\n",
       " {'AGENCY_NAME': 'Metro-North Railroad',\n",
       "  'INDICATOR_NAME': 'Employee Lost Time and Restricted Duty Rate',\n",
       "  'DESCRIPTION': 'An employee lost time injury or illness is one that prevents an employee from returning to work for at least one full shift. The rate is injuries and illnesses per 200,000 worker hours.',\n",
       "  'PERIOD_YEAR': 2008,\n",
       "  'PERIOD_MONTH': 6,\n",
       "  'CATEGORY': 'Safety Indicators',\n",
       "  'FREQUENCY': 'M',\n",
       "  'INDICATOR_UNIT': '-',\n",
       "  'YTD_TARGET': 2.0,\n",
       "  'YTD_ACTUAL': 1.05,\n",
       "  'MONTHLY_TARGET': 2.0,\n",
       "  'MONTHLY_ACTUAL': 1.13},\n",
       " {'AGENCY_NAME': 'Metro-North Railroad',\n",
       "  'INDICATOR_NAME': 'Employee Lost Time and Restricted Duty Rate',\n",
       "  'DESCRIPTION': 'An employee lost time injury or illness is one that prevents an employee from returning to work for at least one full shift. The rate is injuries and illnesses per 200,000 worker hours.',\n",
       "  'PERIOD_YEAR': 2008,\n",
       "  'PERIOD_MONTH': 7,\n",
       "  'CATEGORY': 'Safety Indicators',\n",
       "  'FREQUENCY': 'M',\n",
       "  'INDICATOR_UNIT': '-',\n",
       "  'YTD_TARGET': 2.0,\n",
       "  'YTD_ACTUAL': 1.17,\n",
       "  'MONTHLY_TARGET': 2.0,\n",
       "  'MONTHLY_ACTUAL': 1.89},\n",
       " {'AGENCY_NAME': 'Metro-North Railroad',\n",
       "  'INDICATOR_NAME': 'Employee Lost Time and Restricted Duty Rate',\n",
       "  'DESCRIPTION': 'An employee lost time injury or illness is one that prevents an employee from returning to work for at least one full shift. The rate is injuries and illnesses per 200,000 worker hours.',\n",
       "  'PERIOD_YEAR': 2008,\n",
       "  'PERIOD_MONTH': 8,\n",
       "  'CATEGORY': 'Safety Indicators',\n",
       "  'FREQUENCY': 'M',\n",
       "  'INDICATOR_UNIT': '-',\n",
       "  'YTD_TARGET': 2.0,\n",
       "  'YTD_ACTUAL': 1.89,\n",
       "  'MONTHLY_TARGET': 2.0,\n",
       "  'MONTHLY_ACTUAL': 1.36},\n",
       " {'AGENCY_NAME': 'Metro-North Railroad',\n",
       "  'INDICATOR_NAME': 'Employee Lost Time and Restricted Duty Rate',\n",
       "  'DESCRIPTION': 'An employee lost time injury or illness is one that prevents an employee from returning to work for at least one full shift. The rate is injuries and illnesses per 200,000 worker hours.',\n",
       "  'PERIOD_YEAR': 2008,\n",
       "  'PERIOD_MONTH': 9,\n",
       "  'CATEGORY': 'Safety Indicators',\n",
       "  'FREQUENCY': 'M',\n",
       "  'INDICATOR_UNIT': '-',\n",
       "  'YTD_TARGET': 2.0,\n",
       "  'YTD_ACTUAL': 1.16,\n",
       "  'MONTHLY_TARGET': 2.0,\n",
       "  'MONTHLY_ACTUAL': 1.23},\n",
       " {'AGENCY_NAME': 'Metro-North Railroad',\n",
       "  'INDICATOR_NAME': 'Employee Lost Time and Restricted Duty Rate',\n",
       "  'DESCRIPTION': 'An employee lost time injury or illness is one that prevents an employee from returning to work for at least one full shift. The rate is injuries and illnesses per 200,000 worker hours.',\n",
       "  'PERIOD_YEAR': 2008,\n",
       "  'PERIOD_MONTH': 10,\n",
       "  'CATEGORY': 'Safety Indicators',\n",
       "  'FREQUENCY': 'M',\n",
       "  'INDICATOR_UNIT': '-',\n",
       "  'YTD_TARGET': 2.0,\n",
       "  'YTD_ACTUAL': 1.28,\n",
       "  'MONTHLY_TARGET': 2.0,\n",
       "  'MONTHLY_ACTUAL': 2.11},\n",
       " {'AGENCY_NAME': 'Metro-North Railroad',\n",
       "  'INDICATOR_NAME': 'Employee Lost Time and Restricted Duty Rate',\n",
       "  'DESCRIPTION': 'An employee lost time injury or illness is one that prevents an employee from returning to work for at least one full shift. The rate is injuries and illnesses per 200,000 worker hours.',\n",
       "  'PERIOD_YEAR': 2008,\n",
       "  'PERIOD_MONTH': 11,\n",
       "  'CATEGORY': 'Safety Indicators',\n",
       "  'FREQUENCY': 'M',\n",
       "  'INDICATOR_UNIT': '-',\n",
       "  'YTD_TARGET': 2.0,\n",
       "  'YTD_ACTUAL': 1.24,\n",
       "  'MONTHLY_TARGET': 2.0,\n",
       "  'MONTHLY_ACTUAL': 1.03},\n",
       " {'AGENCY_NAME': 'Metro-North Railroad',\n",
       "  'INDICATOR_NAME': 'Employee Lost Time and Restricted Duty Rate',\n",
       "  'DESCRIPTION': 'An employee lost time injury or illness is one that prevents an employee from returning to work for at least one full shift. The rate is injuries and illnesses per 200,000 worker hours.',\n",
       "  'PERIOD_YEAR': 2008,\n",
       "  'PERIOD_MONTH': 12,\n",
       "  'CATEGORY': 'Safety Indicators',\n",
       "  'FREQUENCY': 'M',\n",
       "  'INDICATOR_UNIT': '-',\n",
       "  'YTD_TARGET': 2.0,\n",
       "  'YTD_ACTUAL': 1.22,\n",
       "  'MONTHLY_TARGET': 2.0,\n",
       "  'MONTHLY_ACTUAL': 0.79},\n",
       " {'AGENCY_NAME': 'Metro-North Railroad',\n",
       "  'INDICATOR_NAME': 'Employee Lost Time and Restricted Duty Rate',\n",
       "  'DESCRIPTION': 'An employee lost time injury or illness is one that prevents an employee from returning to work for at least one full shift. The rate is injuries and illnesses per 200,000 worker hours.',\n",
       "  'PERIOD_YEAR': 2009,\n",
       "  'PERIOD_MONTH': 1,\n",
       "  'CATEGORY': 'Safety Indicators',\n",
       "  'FREQUENCY': 'M',\n",
       "  'INDICATOR_UNIT': '-',\n",
       "  'YTD_TARGET': 1.9,\n",
       "  'YTD_ACTUAL': 3.14,\n",
       "  'MONTHLY_TARGET': 1.9,\n",
       "  'MONTHLY_ACTUAL': 3.14},\n",
       " {'AGENCY_NAME': 'Metro-North Railroad',\n",
       "  'INDICATOR_NAME': 'Employee Lost Time and Restricted Duty Rate',\n",
       "  'DESCRIPTION': 'An employee lost time injury or illness is one that prevents an employee from returning to work for at least one full shift. The rate is injuries and illnesses per 200,000 worker hours.',\n",
       "  'PERIOD_YEAR': 2009,\n",
       "  'PERIOD_MONTH': 2,\n",
       "  'CATEGORY': 'Safety Indicators',\n",
       "  'FREQUENCY': 'M',\n",
       "  'INDICATOR_UNIT': '-',\n",
       "  'YTD_TARGET': 1.9,\n",
       "  'YTD_ACTUAL': 2.42,\n",
       "  'MONTHLY_TARGET': 1.9,\n",
       "  'MONTHLY_ACTUAL': 1.63},\n",
       " {'AGENCY_NAME': 'Metro-North Railroad',\n",
       "  'INDICATOR_NAME': 'Employee Lost Time and Restricted Duty Rate',\n",
       "  'DESCRIPTION': 'An employee lost time injury or illness is one that prevents an employee from returning to work for at least one full shift. The rate is injuries and illnesses per 200,000 worker hours.',\n",
       "  'PERIOD_YEAR': 2009,\n",
       "  'PERIOD_MONTH': 3,\n",
       "  'CATEGORY': 'Safety Indicators',\n",
       "  'FREQUENCY': 'M',\n",
       "  'INDICATOR_UNIT': '-',\n",
       "  'YTD_TARGET': 1.9,\n",
       "  'YTD_ACTUAL': 2.31,\n",
       "  'MONTHLY_TARGET': 1.9,\n",
       "  'MONTHLY_ACTUAL': 2.3},\n",
       " {'AGENCY_NAME': 'Metro-North Railroad',\n",
       "  'INDICATOR_NAME': 'Employee Lost Time and Restricted Duty Rate',\n",
       "  'DESCRIPTION': 'An employee lost time injury or illness is one that prevents an employee from returning to work for at least one full shift. The rate is injuries and illnesses per 200,000 worker hours.',\n",
       "  'PERIOD_YEAR': 2009,\n",
       "  'PERIOD_MONTH': 4,\n",
       "  'CATEGORY': 'Safety Indicators',\n",
       "  'FREQUENCY': 'M',\n",
       "  'INDICATOR_UNIT': '-',\n",
       "  'YTD_TARGET': 1.9,\n",
       "  'YTD_ACTUAL': 2.3,\n",
       "  'MONTHLY_TARGET': 1.9,\n",
       "  'MONTHLY_ACTUAL': 2.2},\n",
       " {'AGENCY_NAME': 'Metro-North Railroad',\n",
       "  'INDICATOR_NAME': 'Employee Lost Time and Restricted Duty Rate',\n",
       "  'DESCRIPTION': 'An employee lost time injury or illness is one that prevents an employee from returning to work for at least one full shift. The rate is injuries and illnesses per 200,000 worker hours.',\n",
       "  'PERIOD_YEAR': 2009,\n",
       "  'PERIOD_MONTH': 5,\n",
       "  'CATEGORY': 'Safety Indicators',\n",
       "  'FREQUENCY': 'M',\n",
       "  'INDICATOR_UNIT': '-',\n",
       "  'YTD_TARGET': 1.9,\n",
       "  'YTD_ACTUAL': 2.23,\n",
       "  'MONTHLY_TARGET': 1.9,\n",
       "  'MONTHLY_ACTUAL': 1.93},\n",
       " {'AGENCY_NAME': 'Metro-North Railroad',\n",
       "  'INDICATOR_NAME': 'Employee Lost Time and Restricted Duty Rate',\n",
       "  'DESCRIPTION': 'An employee lost time injury or illness is one that prevents an employee from returning to work for at least one full shift. The rate is injuries and illnesses per 200,000 worker hours.',\n",
       "  'PERIOD_YEAR': 2009,\n",
       "  'PERIOD_MONTH': 6,\n",
       "  'CATEGORY': 'Safety Indicators',\n",
       "  'FREQUENCY': 'M',\n",
       "  'INDICATOR_UNIT': '-',\n",
       "  'YTD_TARGET': 1.9,\n",
       "  'YTD_ACTUAL': 2.07,\n",
       "  'MONTHLY_TARGET': 1.9,\n",
       "  'MONTHLY_ACTUAL': 1.3},\n",
       " {'AGENCY_NAME': 'Metro-North Railroad',\n",
       "  'INDICATOR_NAME': 'Employee Lost Time and Restricted Duty Rate',\n",
       "  'DESCRIPTION': 'An employee lost time injury or illness is one that prevents an employee from returning to work for at least one full shift. The rate is injuries and illnesses per 200,000 worker hours.',\n",
       "  'PERIOD_YEAR': 2009,\n",
       "  'PERIOD_MONTH': 7,\n",
       "  'CATEGORY': 'Safety Indicators',\n",
       "  'FREQUENCY': 'M',\n",
       "  'INDICATOR_UNIT': '-',\n",
       "  'YTD_TARGET': 1.9,\n",
       "  'YTD_ACTUAL': 2.19,\n",
       "  'MONTHLY_TARGET': 1.9,\n",
       "  'MONTHLY_ACTUAL': 2.88},\n",
       " {'AGENCY_NAME': 'Metro-North Railroad',\n",
       "  'INDICATOR_NAME': 'Employee Lost Time and Restricted Duty Rate',\n",
       "  'DESCRIPTION': 'An employee lost time injury or illness is one that prevents an employee from returning to work for at least one full shift. The rate is injuries and illnesses per 200,000 worker hours.',\n",
       "  'PERIOD_YEAR': 2009,\n",
       "  'PERIOD_MONTH': 8,\n",
       "  'CATEGORY': 'Safety Indicators',\n",
       "  'FREQUENCY': 'M',\n",
       "  'INDICATOR_UNIT': '-',\n",
       "  'YTD_TARGET': 1.9,\n",
       "  'YTD_ACTUAL': 2.28,\n",
       "  'MONTHLY_TARGET': 1.9,\n",
       "  'MONTHLY_ACTUAL': 3.14},\n",
       " {'AGENCY_NAME': 'Metro-North Railroad',\n",
       "  'INDICATOR_NAME': 'Employee Lost Time and Restricted Duty Rate',\n",
       "  'DESCRIPTION': 'An employee lost time injury or illness is one that prevents an employee from returning to work for at least one full shift. The rate is injuries and illnesses per 200,000 worker hours.',\n",
       "  'PERIOD_YEAR': 2009,\n",
       "  'PERIOD_MONTH': 9,\n",
       "  'CATEGORY': 'Safety Indicators',\n",
       "  'FREQUENCY': 'M',\n",
       "  'INDICATOR_UNIT': '-',\n",
       "  'YTD_TARGET': 1.9,\n",
       "  'YTD_ACTUAL': 2.22,\n",
       "  'MONTHLY_TARGET': 1.9,\n",
       "  'MONTHLY_ACTUAL': 1.72},\n",
       " {'AGENCY_NAME': 'Metro-North Railroad',\n",
       "  'INDICATOR_NAME': 'Employee Lost Time and Restricted Duty Rate',\n",
       "  'DESCRIPTION': 'An employee lost time injury or illness is one that prevents an employee from returning to work for at least one full shift. The rate is injuries and illnesses per 200,000 worker hours.',\n",
       "  'PERIOD_YEAR': 2009,\n",
       "  'PERIOD_MONTH': 10,\n",
       "  'CATEGORY': 'Safety Indicators',\n",
       "  'FREQUENCY': 'M',\n",
       "  'INDICATOR_UNIT': '-',\n",
       "  'YTD_TARGET': 1.9,\n",
       "  'YTD_ACTUAL': 2.11,\n",
       "  'MONTHLY_TARGET': 1.9,\n",
       "  'MONTHLY_ACTUAL': 1.29},\n",
       " {'AGENCY_NAME': 'Metro-North Railroad',\n",
       "  'INDICATOR_NAME': 'Employee Lost Time and Restricted Duty Rate',\n",
       "  'DESCRIPTION': 'An employee lost time injury or illness is one that prevents an employee from returning to work for at least one full shift. The rate is injuries and illnesses per 200,000 worker hours.',\n",
       "  'PERIOD_YEAR': 2009,\n",
       "  'PERIOD_MONTH': 11,\n",
       "  'CATEGORY': 'Safety Indicators',\n",
       "  'FREQUENCY': 'M',\n",
       "  'INDICATOR_UNIT': '-',\n",
       "  'YTD_TARGET': 1.9,\n",
       "  'YTD_ACTUAL': 2.15,\n",
       "  'MONTHLY_TARGET': 1.9,\n",
       "  'MONTHLY_ACTUAL': 2.45},\n",
       " {'AGENCY_NAME': 'Metro-North Railroad',\n",
       "  'INDICATOR_NAME': 'Employee Lost Time and Restricted Duty Rate',\n",
       "  'DESCRIPTION': 'An employee lost time injury or illness is one that prevents an employee from returning to work for at least one full shift. The rate is injuries and illnesses per 200,000 worker hours.',\n",
       "  'PERIOD_YEAR': 2009,\n",
       "  'PERIOD_MONTH': 12,\n",
       "  'CATEGORY': 'Safety Indicators',\n",
       "  'FREQUENCY': 'M',\n",
       "  'INDICATOR_UNIT': '-',\n",
       "  'YTD_TARGET': 1.9,\n",
       "  'YTD_ACTUAL': 2.13,\n",
       "  'MONTHLY_TARGET': 1.9,\n",
       "  'MONTHLY_ACTUAL': 1.82},\n",
       " {'AGENCY_NAME': 'Metro-North Railroad',\n",
       "  'INDICATOR_NAME': 'Employee Lost Time and Restricted Duty Rate',\n",
       "  'DESCRIPTION': 'An employee lost time injury or illness is one that prevents an employee from returning to work for at least one full shift. The rate is injuries and illnesses per 200,000 worker hours.',\n",
       "  'PERIOD_YEAR': 2010,\n",
       "  'PERIOD_MONTH': 1,\n",
       "  'CATEGORY': 'Safety Indicators',\n",
       "  'FREQUENCY': 'M',\n",
       "  'INDICATOR_UNIT': '-',\n",
       "  'YTD_TARGET': 1.8,\n",
       "  'YTD_ACTUAL': 1.2,\n",
       "  'MONTHLY_TARGET': 1.8,\n",
       "  'MONTHLY_ACTUAL': 1.2},\n",
       " {'AGENCY_NAME': 'Metro-North Railroad',\n",
       "  'INDICATOR_NAME': 'Employee Lost Time and Restricted Duty Rate',\n",
       "  'DESCRIPTION': 'An employee lost time injury or illness is one that prevents an employee from returning to work for at least one full shift. The rate is injuries and illnesses per 200,000 worker hours.',\n",
       "  'PERIOD_YEAR': 2010,\n",
       "  'PERIOD_MONTH': 2,\n",
       "  'CATEGORY': 'Safety Indicators',\n",
       "  'FREQUENCY': 'M',\n",
       "  'INDICATOR_UNIT': '-',\n",
       "  'YTD_TARGET': 1.8,\n",
       "  'YTD_ACTUAL': 1.64,\n",
       "  'MONTHLY_TARGET': 1.8,\n",
       "  'MONTHLY_ACTUAL': 2.11},\n",
       " {'AGENCY_NAME': 'Metro-North Railroad',\n",
       "  'INDICATOR_NAME': 'Employee Lost Time and Restricted Duty Rate',\n",
       "  'DESCRIPTION': 'An employee lost time injury or illness is one that prevents an employee from returning to work for at least one full shift. The rate is injuries and illnesses per 200,000 worker hours.',\n",
       "  'PERIOD_YEAR': 2010,\n",
       "  'PERIOD_MONTH': 3,\n",
       "  'CATEGORY': 'Safety Indicators',\n",
       "  'FREQUENCY': 'M',\n",
       "  'INDICATOR_UNIT': '-',\n",
       "  'YTD_TARGET': 1.8,\n",
       "  'YTD_ACTUAL': 1.97,\n",
       "  'MONTHLY_TARGET': 1.8,\n",
       "  'MONTHLY_ACTUAL': 2.54},\n",
       " {'AGENCY_NAME': 'Metro-North Railroad',\n",
       "  'INDICATOR_NAME': 'Employee Lost Time and Restricted Duty Rate',\n",
       "  'DESCRIPTION': 'An employee lost time injury or illness is one that prevents an employee from returning to work for at least one full shift. The rate is injuries and illnesses per 200,000 worker hours.',\n",
       "  'PERIOD_YEAR': 2010,\n",
       "  'PERIOD_MONTH': 4,\n",
       "  'CATEGORY': 'Safety Indicators',\n",
       "  'FREQUENCY': 'M',\n",
       "  'INDICATOR_UNIT': '-',\n",
       "  'YTD_TARGET': 1.8,\n",
       "  'YTD_ACTUAL': 1.86,\n",
       "  'MONTHLY_TARGET': 1.8,\n",
       "  'MONTHLY_ACTUAL': 1.54},\n",
       " {'AGENCY_NAME': 'Metro-North Railroad',\n",
       "  'INDICATOR_NAME': 'Employee Lost Time and Restricted Duty Rate',\n",
       "  'DESCRIPTION': 'An employee lost time injury or illness is one that prevents an employee from returning to work for at least one full shift. The rate is injuries and illnesses per 200,000 worker hours.',\n",
       "  'PERIOD_YEAR': 2010,\n",
       "  'PERIOD_MONTH': 5,\n",
       "  'CATEGORY': 'Safety Indicators',\n",
       "  'FREQUENCY': 'M',\n",
       "  'INDICATOR_UNIT': '-',\n",
       "  'YTD_TARGET': 1.8,\n",
       "  'YTD_ACTUAL': 1.8,\n",
       "  'MONTHLY_TARGET': 1.8,\n",
       "  'MONTHLY_ACTUAL': 1.37},\n",
       " {'AGENCY_NAME': 'Metro-North Railroad',\n",
       "  'INDICATOR_NAME': 'Employee Lost Time and Restricted Duty Rate',\n",
       "  'DESCRIPTION': 'An employee lost time injury or illness is one that prevents an employee from returning to work for at least one full shift. The rate is injuries and illnesses per 200,000 worker hours.',\n",
       "  'PERIOD_YEAR': 2010,\n",
       "  'PERIOD_MONTH': 6,\n",
       "  'CATEGORY': 'Safety Indicators',\n",
       "  'FREQUENCY': 'M',\n",
       "  'INDICATOR_UNIT': '-',\n",
       "  'YTD_TARGET': 1.8,\n",
       "  'YTD_ACTUAL': 1.9,\n",
       "  'MONTHLY_TARGET': 1.8,\n",
       "  'MONTHLY_ACTUAL': 2.35},\n",
       " {'AGENCY_NAME': 'Metro-North Railroad',\n",
       "  'INDICATOR_NAME': 'Employee Lost Time and Restricted Duty Rate',\n",
       "  'DESCRIPTION': 'An employee lost time injury or illness is one that prevents an employee from returning to work for at least one full shift. The rate is injuries and illnesses per 200,000 worker hours.',\n",
       "  'PERIOD_YEAR': 2010,\n",
       "  'PERIOD_MONTH': 7,\n",
       "  'CATEGORY': 'Safety Indicators',\n",
       "  'FREQUENCY': 'M',\n",
       "  'INDICATOR_UNIT': '-',\n",
       "  'YTD_TARGET': 1.8,\n",
       "  'YTD_ACTUAL': 1.88,\n",
       "  'MONTHLY_TARGET': 1.8,\n",
       "  'MONTHLY_ACTUAL': 1.6},\n",
       " {'AGENCY_NAME': 'Metro-North Railroad',\n",
       "  'INDICATOR_NAME': 'Employee Lost Time and Restricted Duty Rate',\n",
       "  'DESCRIPTION': 'An employee lost time injury or illness is one that prevents an employee from returning to work for at least one full shift. The rate is injuries and illnesses per 200,000 worker hours.',\n",
       "  'PERIOD_YEAR': 2010,\n",
       "  'PERIOD_MONTH': 8,\n",
       "  'CATEGORY': 'Safety Indicators',\n",
       "  'FREQUENCY': 'M',\n",
       "  'INDICATOR_UNIT': '-',\n",
       "  'YTD_TARGET': 1.8,\n",
       "  'YTD_ACTUAL': 1.94,\n",
       "  'MONTHLY_TARGET': 1.8,\n",
       "  'MONTHLY_ACTUAL': 2.54},\n",
       " {'AGENCY_NAME': 'Metro-North Railroad',\n",
       "  'INDICATOR_NAME': 'Employee Lost Time and Restricted Duty Rate',\n",
       "  'DESCRIPTION': 'An employee lost time injury or illness is one that prevents an employee from returning to work for at least one full shift. The rate is injuries and illnesses per 200,000 worker hours.',\n",
       "  'PERIOD_YEAR': 2010,\n",
       "  'PERIOD_MONTH': 9,\n",
       "  'CATEGORY': 'Safety Indicators',\n",
       "  'FREQUENCY': 'M',\n",
       "  'INDICATOR_UNIT': '-',\n",
       "  'YTD_TARGET': 1.8,\n",
       "  'YTD_ACTUAL': 1.94,\n",
       "  'MONTHLY_TARGET': 1.8,\n",
       "  'MONTHLY_ACTUAL': 1.96},\n",
       " {'AGENCY_NAME': 'Metro-North Railroad',\n",
       "  'INDICATOR_NAME': 'Employee Lost Time and Restricted Duty Rate',\n",
       "  'DESCRIPTION': 'An employee lost time injury or illness is one that prevents an employee from returning to work for at least one full shift. The rate is injuries and illnesses per 200,000 worker hours.',\n",
       "  'PERIOD_YEAR': 2010,\n",
       "  'PERIOD_MONTH': 10,\n",
       "  'CATEGORY': 'Safety Indicators',\n",
       "  'FREQUENCY': 'M',\n",
       "  'INDICATOR_UNIT': '-',\n",
       "  'YTD_TARGET': 1.8,\n",
       "  'YTD_ACTUAL': 1.99,\n",
       "  'MONTHLY_TARGET': 1.8,\n",
       "  'MONTHLY_ACTUAL': 2.44},\n",
       " {'AGENCY_NAME': 'Metro-North Railroad',\n",
       "  'INDICATOR_NAME': 'Employee Lost Time and Restricted Duty Rate',\n",
       "  'DESCRIPTION': 'An employee lost time injury or illness is one that prevents an employee from returning to work for at least one full shift. The rate is injuries and illnesses per 200,000 worker hours.',\n",
       "  'PERIOD_YEAR': 2010,\n",
       "  'PERIOD_MONTH': 11,\n",
       "  'CATEGORY': 'Safety Indicators',\n",
       "  'FREQUENCY': 'M',\n",
       "  'INDICATOR_UNIT': '-',\n",
       "  'YTD_TARGET': 1.8,\n",
       "  'YTD_ACTUAL': 1.89,\n",
       "  'MONTHLY_TARGET': 1.8,\n",
       "  'MONTHLY_ACTUAL': 0.8},\n",
       " {'AGENCY_NAME': 'Metro-North Railroad',\n",
       "  'INDICATOR_NAME': 'Employee Lost Time and Restricted Duty Rate',\n",
       "  'DESCRIPTION': 'An employee lost time injury or illness is one that prevents an employee from returning to work for at least one full shift. The rate is injuries and illnesses per 200,000 worker hours.',\n",
       "  'PERIOD_YEAR': 2010,\n",
       "  'PERIOD_MONTH': 12,\n",
       "  'CATEGORY': 'Safety Indicators',\n",
       "  'FREQUENCY': 'M',\n",
       "  'INDICATOR_UNIT': '-',\n",
       "  'YTD_TARGET': 1.8,\n",
       "  'YTD_ACTUAL': 1.88,\n",
       "  'MONTHLY_TARGET': 1.8,\n",
       "  'MONTHLY_ACTUAL': 1.8},\n",
       " {'AGENCY_NAME': 'Metro-North Railroad',\n",
       "  'INDICATOR_NAME': 'Employee Lost Time and Restricted Duty Rate',\n",
       "  'DESCRIPTION': 'An employee lost time injury or illness is one that prevents an employee from returning to work for at least one full shift. The rate is injuries and illnesses per 200,000 worker hours.',\n",
       "  'PERIOD_YEAR': 2011,\n",
       "  'PERIOD_MONTH': 1,\n",
       "  'CATEGORY': 'Safety Indicators',\n",
       "  'FREQUENCY': 'M',\n",
       "  'INDICATOR_UNIT': '-',\n",
       "  'YTD_TARGET': 1.7,\n",
       "  'YTD_ACTUAL': 3.89,\n",
       "  'MONTHLY_TARGET': 1.7,\n",
       "  'MONTHLY_ACTUAL': 3.89},\n",
       " {'AGENCY_NAME': 'Metro-North Railroad',\n",
       "  'INDICATOR_NAME': 'Employee Lost Time and Restricted Duty Rate',\n",
       "  'DESCRIPTION': 'An employee lost time injury or illness is one that prevents an employee from returning to work for at least one full shift. The rate is injuries and illnesses per 200,000 worker hours.',\n",
       "  'PERIOD_YEAR': 2011,\n",
       "  'PERIOD_MONTH': 2,\n",
       "  'CATEGORY': 'Safety Indicators',\n",
       "  'FREQUENCY': 'M',\n",
       "  'INDICATOR_UNIT': '-',\n",
       "  'YTD_TARGET': 1.7,\n",
       "  'YTD_ACTUAL': 3.25,\n",
       "  'MONTHLY_TARGET': 1.7,\n",
       "  'MONTHLY_ACTUAL': 2.55},\n",
       " {'AGENCY_NAME': 'Metro-North Railroad',\n",
       "  'INDICATOR_NAME': 'Employee Lost Time and Restricted Duty Rate',\n",
       "  'DESCRIPTION': 'An employee lost time injury or illness is one that prevents an employee from returning to work for at least one full shift. The rate is injuries and illnesses per 200,000 worker hours.',\n",
       "  'PERIOD_YEAR': 2011,\n",
       "  'PERIOD_MONTH': 3,\n",
       "  'CATEGORY': 'Safety Indicators',\n",
       "  'FREQUENCY': 'M',\n",
       "  'INDICATOR_UNIT': '-',\n",
       "  'YTD_TARGET': 1.7,\n",
       "  'YTD_ACTUAL': 2.99,\n",
       "  'MONTHLY_TARGET': 1.7,\n",
       "  'MONTHLY_ACTUAL': 2.53},\n",
       " {'AGENCY_NAME': 'Metro-North Railroad',\n",
       "  'INDICATOR_NAME': 'Employee Lost Time and Restricted Duty Rate',\n",
       "  'DESCRIPTION': 'An employee lost time injury or illness is one that prevents an employee from returning to work for at least one full shift. The rate is injuries and illnesses per 200,000 worker hours.',\n",
       "  'PERIOD_YEAR': 2011,\n",
       "  'PERIOD_MONTH': 4,\n",
       "  'CATEGORY': 'Safety Indicators',\n",
       "  'FREQUENCY': 'M',\n",
       "  'INDICATOR_UNIT': '-',\n",
       "  'YTD_TARGET': 1.7,\n",
       "  'YTD_ACTUAL': 2.69,\n",
       "  'MONTHLY_TARGET': 1.7,\n",
       "  'MONTHLY_ACTUAL': 1.77},\n",
       " {'AGENCY_NAME': 'Metro-North Railroad',\n",
       "  'INDICATOR_NAME': 'Employee Lost Time and Restricted Duty Rate',\n",
       "  'DESCRIPTION': 'An employee lost time injury or illness is one that prevents an employee from returning to work for at least one full shift. The rate is injuries and illnesses per 200,000 worker hours.',\n",
       "  'PERIOD_YEAR': 2011,\n",
       "  'PERIOD_MONTH': 5,\n",
       "  'CATEGORY': 'Safety Indicators',\n",
       "  'FREQUENCY': 'M',\n",
       "  'INDICATOR_UNIT': '-',\n",
       "  'YTD_TARGET': 1.7,\n",
       "  'YTD_ACTUAL': '',\n",
       "  'MONTHLY_TARGET': 1.7,\n",
       "  'MONTHLY_ACTUAL': ''},\n",
       " {'AGENCY_NAME': 'Metro-North Railroad',\n",
       "  'INDICATOR_NAME': 'Employee Lost Time and Restricted Duty Rate',\n",
       "  'DESCRIPTION': 'An employee lost time injury or illness is one that prevents an employee from returning to work for at least one full shift. The rate is injuries and illnesses per 200,000 worker hours.',\n",
       "  'PERIOD_YEAR': 2011,\n",
       "  'PERIOD_MONTH': 6,\n",
       "  'CATEGORY': 'Safety Indicators',\n",
       "  'FREQUENCY': 'M',\n",
       "  'INDICATOR_UNIT': '-',\n",
       "  'YTD_TARGET': 1.7,\n",
       "  'YTD_ACTUAL': '',\n",
       "  'MONTHLY_TARGET': 1.7,\n",
       "  'MONTHLY_ACTUAL': ''},\n",
       " {'AGENCY_NAME': 'Metro-North Railroad',\n",
       "  'INDICATOR_NAME': 'Employee Lost Time and Restricted Duty Rate',\n",
       "  'DESCRIPTION': 'An employee lost time injury or illness is one that prevents an employee from returning to work for at least one full shift. The rate is injuries and illnesses per 200,000 worker hours.',\n",
       "  'PERIOD_YEAR': 2011,\n",
       "  'PERIOD_MONTH': 7,\n",
       "  'CATEGORY': 'Safety Indicators',\n",
       "  'FREQUENCY': 'M',\n",
       "  'INDICATOR_UNIT': '-',\n",
       "  'YTD_TARGET': 1.7,\n",
       "  'YTD_ACTUAL': '',\n",
       "  'MONTHLY_TARGET': 1.7,\n",
       "  'MONTHLY_ACTUAL': ''},\n",
       " {'AGENCY_NAME': 'Metro-North Railroad',\n",
       "  'INDICATOR_NAME': 'Employee Lost Time and Restricted Duty Rate',\n",
       "  'DESCRIPTION': 'An employee lost time injury or illness is one that prevents an employee from returning to work for at least one full shift. The rate is injuries and illnesses per 200,000 worker hours.',\n",
       "  'PERIOD_YEAR': 2011,\n",
       "  'PERIOD_MONTH': 8,\n",
       "  'CATEGORY': 'Safety Indicators',\n",
       "  'FREQUENCY': 'M',\n",
       "  'INDICATOR_UNIT': '-',\n",
       "  'YTD_TARGET': 1.7,\n",
       "  'YTD_ACTUAL': '',\n",
       "  'MONTHLY_TARGET': 1.7,\n",
       "  'MONTHLY_ACTUAL': ''},\n",
       " {'AGENCY_NAME': 'Metro-North Railroad',\n",
       "  'INDICATOR_NAME': 'Employee Lost Time and Restricted Duty Rate',\n",
       "  'DESCRIPTION': 'An employee lost time injury or illness is one that prevents an employee from returning to work for at least one full shift. The rate is injuries and illnesses per 200,000 worker hours.',\n",
       "  'PERIOD_YEAR': 2011,\n",
       "  'PERIOD_MONTH': 9,\n",
       "  'CATEGORY': 'Safety Indicators',\n",
       "  'FREQUENCY': 'M',\n",
       "  'INDICATOR_UNIT': '-',\n",
       "  'YTD_TARGET': 1.7,\n",
       "  'YTD_ACTUAL': '',\n",
       "  'MONTHLY_TARGET': 1.7,\n",
       "  'MONTHLY_ACTUAL': ''},\n",
       " {'AGENCY_NAME': 'Metro-North Railroad',\n",
       "  'INDICATOR_NAME': 'Employee Lost Time and Restricted Duty Rate',\n",
       "  'DESCRIPTION': 'An employee lost time injury or illness is one that prevents an employee from returning to work for at least one full shift. The rate is injuries and illnesses per 200,000 worker hours.',\n",
       "  'PERIOD_YEAR': 2011,\n",
       "  'PERIOD_MONTH': 10,\n",
       "  'CATEGORY': 'Safety Indicators',\n",
       "  'FREQUENCY': 'M',\n",
       "  'INDICATOR_UNIT': '-',\n",
       "  'YTD_TARGET': 1.7,\n",
       "  'YTD_ACTUAL': '',\n",
       "  'MONTHLY_TARGET': 1.7,\n",
       "  'MONTHLY_ACTUAL': ''},\n",
       " {'AGENCY_NAME': 'Metro-North Railroad',\n",
       "  'INDICATOR_NAME': 'Employee Lost Time and Restricted Duty Rate',\n",
       "  'DESCRIPTION': 'An employee lost time injury or illness is one that prevents an employee from returning to work for at least one full shift. The rate is injuries and illnesses per 200,000 worker hours.',\n",
       "  'PERIOD_YEAR': 2011,\n",
       "  'PERIOD_MONTH': 11,\n",
       "  'CATEGORY': 'Safety Indicators',\n",
       "  'FREQUENCY': 'M',\n",
       "  'INDICATOR_UNIT': '-',\n",
       "  'YTD_TARGET': 1.7,\n",
       "  'YTD_ACTUAL': '',\n",
       "  'MONTHLY_TARGET': 1.7,\n",
       "  'MONTHLY_ACTUAL': ''},\n",
       " {'AGENCY_NAME': 'Metro-North Railroad',\n",
       "  'INDICATOR_NAME': 'Employee Lost Time and Restricted Duty Rate',\n",
       "  'DESCRIPTION': 'An employee lost time injury or illness is one that prevents an employee from returning to work for at least one full shift. The rate is injuries and illnesses per 200,000 worker hours.',\n",
       "  'PERIOD_YEAR': 2011,\n",
       "  'PERIOD_MONTH': 12,\n",
       "  'CATEGORY': 'Safety Indicators',\n",
       "  'FREQUENCY': 'M',\n",
       "  'INDICATOR_UNIT': '-',\n",
       "  'YTD_TARGET': 1.7,\n",
       "  'YTD_ACTUAL': '',\n",
       "  'MONTHLY_TARGET': 1.7,\n",
       "  'MONTHLY_ACTUAL': ''},\n",
       " {'AGENCY_NAME': 'Metro-North Railroad',\n",
       "  'INDICATOR_NAME': 'Employee Lost Time and Restricted Duty Rate',\n",
       "  'DESCRIPTION': 'An employee lost time injury or illness is one that prevents an employee from returning to work for at least one full shift. The rate is injuries and illnesses per 200,000 worker hours.',\n",
       "  'PERIOD_YEAR': 2012,\n",
       "  'PERIOD_MONTH': 1,\n",
       "  'CATEGORY': 'Safety Indicators',\n",
       "  'FREQUENCY': 'M',\n",
       "  'INDICATOR_UNIT': '-',\n",
       "  'YTD_TARGET': '',\n",
       "  'YTD_ACTUAL': '',\n",
       "  'MONTHLY_TARGET': '',\n",
       "  'MONTHLY_ACTUAL': ''},\n",
       " {'AGENCY_NAME': 'Metro-North Railroad',\n",
       "  'INDICATOR_NAME': 'Employee Lost Time and Restricted Duty Rate',\n",
       "  'DESCRIPTION': 'An employee lost time injury or illness is one that prevents an employee from returning to work for at least one full shift. The rate is injuries and illnesses per 200,000 worker hours.',\n",
       "  'PERIOD_YEAR': 2012,\n",
       "  'PERIOD_MONTH': 2,\n",
       "  'CATEGORY': 'Safety Indicators',\n",
       "  'FREQUENCY': 'M',\n",
       "  'INDICATOR_UNIT': '-',\n",
       "  'YTD_TARGET': '',\n",
       "  'YTD_ACTUAL': '',\n",
       "  'MONTHLY_TARGET': '',\n",
       "  'MONTHLY_ACTUAL': ''},\n",
       " {'AGENCY_NAME': 'Metro-North Railroad',\n",
       "  'INDICATOR_NAME': 'Employee Lost Time and Restricted Duty Rate',\n",
       "  'DESCRIPTION': 'An employee lost time injury or illness is one that prevents an employee from returning to work for at least one full shift. The rate is injuries and illnesses per 200,000 worker hours.',\n",
       "  'PERIOD_YEAR': 2012,\n",
       "  'PERIOD_MONTH': 3,\n",
       "  'CATEGORY': 'Safety Indicators',\n",
       "  'FREQUENCY': 'M',\n",
       "  'INDICATOR_UNIT': '-',\n",
       "  'YTD_TARGET': '',\n",
       "  'YTD_ACTUAL': '',\n",
       "  'MONTHLY_TARGET': '',\n",
       "  'MONTHLY_ACTUAL': ''},\n",
       " {'AGENCY_NAME': 'Metro-North Railroad',\n",
       "  'INDICATOR_NAME': 'Employee Lost Time and Restricted Duty Rate',\n",
       "  'DESCRIPTION': 'An employee lost time injury or illness is one that prevents an employee from returning to work for at least one full shift. The rate is injuries and illnesses per 200,000 worker hours.',\n",
       "  'PERIOD_YEAR': 2012,\n",
       "  'PERIOD_MONTH': 4,\n",
       "  'CATEGORY': 'Safety Indicators',\n",
       "  'FREQUENCY': 'M',\n",
       "  'INDICATOR_UNIT': '-',\n",
       "  'YTD_TARGET': '',\n",
       "  'YTD_ACTUAL': '',\n",
       "  'MONTHLY_TARGET': '',\n",
       "  'MONTHLY_ACTUAL': ''},\n",
       " {'AGENCY_NAME': 'Metro-North Railroad',\n",
       "  'INDICATOR_NAME': 'Employee Lost Time and Restricted Duty Rate',\n",
       "  'DESCRIPTION': 'An employee lost time injury or illness is one that prevents an employee from returning to work for at least one full shift. The rate is injuries and illnesses per 200,000 worker hours.',\n",
       "  'PERIOD_YEAR': 2012,\n",
       "  'PERIOD_MONTH': 5,\n",
       "  'CATEGORY': 'Safety Indicators',\n",
       "  'FREQUENCY': 'M',\n",
       "  'INDICATOR_UNIT': '-',\n",
       "  'YTD_TARGET': '',\n",
       "  'YTD_ACTUAL': '',\n",
       "  'MONTHLY_TARGET': '',\n",
       "  'MONTHLY_ACTUAL': ''},\n",
       " {'AGENCY_NAME': 'Metro-North Railroad',\n",
       "  'INDICATOR_NAME': 'Employee Lost Time and Restricted Duty Rate',\n",
       "  'DESCRIPTION': 'An employee lost time injury or illness is one that prevents an employee from returning to work for at least one full shift. The rate is injuries and illnesses per 200,000 worker hours.',\n",
       "  'PERIOD_YEAR': 2012,\n",
       "  'PERIOD_MONTH': 6,\n",
       "  'CATEGORY': 'Safety Indicators',\n",
       "  'FREQUENCY': 'M',\n",
       "  'INDICATOR_UNIT': '-',\n",
       "  'YTD_TARGET': '',\n",
       "  'YTD_ACTUAL': '',\n",
       "  'MONTHLY_TARGET': '',\n",
       "  'MONTHLY_ACTUAL': ''},\n",
       " {'AGENCY_NAME': 'Metro-North Railroad',\n",
       "  'INDICATOR_NAME': 'Employee Lost Time and Restricted Duty Rate',\n",
       "  'DESCRIPTION': 'An employee lost time injury or illness is one that prevents an employee from returning to work for at least one full shift. The rate is injuries and illnesses per 200,000 worker hours.',\n",
       "  'PERIOD_YEAR': 2012,\n",
       "  'PERIOD_MONTH': 7,\n",
       "  'CATEGORY': 'Safety Indicators',\n",
       "  'FREQUENCY': 'M',\n",
       "  'INDICATOR_UNIT': '-',\n",
       "  'YTD_TARGET': '',\n",
       "  'YTD_ACTUAL': '',\n",
       "  'MONTHLY_TARGET': '',\n",
       "  'MONTHLY_ACTUAL': ''},\n",
       " {'AGENCY_NAME': 'Metro-North Railroad',\n",
       "  'INDICATOR_NAME': 'Employee Lost Time and Restricted Duty Rate',\n",
       "  'DESCRIPTION': 'An employee lost time injury or illness is one that prevents an employee from returning to work for at least one full shift. The rate is injuries and illnesses per 200,000 worker hours.',\n",
       "  'PERIOD_YEAR': 2012,\n",
       "  'PERIOD_MONTH': 8,\n",
       "  'CATEGORY': 'Safety Indicators',\n",
       "  'FREQUENCY': 'M',\n",
       "  'INDICATOR_UNIT': '-',\n",
       "  'YTD_TARGET': '',\n",
       "  'YTD_ACTUAL': '',\n",
       "  'MONTHLY_TARGET': '',\n",
       "  'MONTHLY_ACTUAL': ''},\n",
       " {'AGENCY_NAME': 'Metro-North Railroad',\n",
       "  'INDICATOR_NAME': 'Employee Lost Time and Restricted Duty Rate',\n",
       "  'DESCRIPTION': 'An employee lost time injury or illness is one that prevents an employee from returning to work for at least one full shift. The rate is injuries and illnesses per 200,000 worker hours.',\n",
       "  'PERIOD_YEAR': 2012,\n",
       "  'PERIOD_MONTH': 9,\n",
       "  'CATEGORY': 'Safety Indicators',\n",
       "  'FREQUENCY': 'M',\n",
       "  'INDICATOR_UNIT': '-',\n",
       "  'YTD_TARGET': '',\n",
       "  'YTD_ACTUAL': '',\n",
       "  'MONTHLY_TARGET': '',\n",
       "  'MONTHLY_ACTUAL': ''},\n",
       " {'AGENCY_NAME': 'Metro-North Railroad',\n",
       "  'INDICATOR_NAME': 'Employee Lost Time and Restricted Duty Rate',\n",
       "  'DESCRIPTION': 'An employee lost time injury or illness is one that prevents an employee from returning to work for at least one full shift. The rate is injuries and illnesses per 200,000 worker hours.',\n",
       "  'PERIOD_YEAR': 2012,\n",
       "  'PERIOD_MONTH': 10,\n",
       "  'CATEGORY': 'Safety Indicators',\n",
       "  'FREQUENCY': 'M',\n",
       "  'INDICATOR_UNIT': '-',\n",
       "  'YTD_TARGET': '',\n",
       "  'YTD_ACTUAL': '',\n",
       "  'MONTHLY_TARGET': '',\n",
       "  'MONTHLY_ACTUAL': ''},\n",
       " {'AGENCY_NAME': 'Metro-North Railroad',\n",
       "  'INDICATOR_NAME': 'Employee Lost Time and Restricted Duty Rate',\n",
       "  'DESCRIPTION': 'An employee lost time injury or illness is one that prevents an employee from returning to work for at least one full shift. The rate is injuries and illnesses per 200,000 worker hours.',\n",
       "  'PERIOD_YEAR': 2012,\n",
       "  'PERIOD_MONTH': 11,\n",
       "  'CATEGORY': 'Safety Indicators',\n",
       "  'FREQUENCY': 'M',\n",
       "  'INDICATOR_UNIT': '-',\n",
       "  'YTD_TARGET': '',\n",
       "  'YTD_ACTUAL': '',\n",
       "  'MONTHLY_TARGET': '',\n",
       "  'MONTHLY_ACTUAL': ''},\n",
       " {'AGENCY_NAME': 'Metro-North Railroad',\n",
       "  'INDICATOR_NAME': 'Employee Lost Time and Restricted Duty Rate',\n",
       "  'DESCRIPTION': 'An employee lost time injury or illness is one that prevents an employee from returning to work for at least one full shift. The rate is injuries and illnesses per 200,000 worker hours.',\n",
       "  'PERIOD_YEAR': 2012,\n",
       "  'PERIOD_MONTH': 12,\n",
       "  'CATEGORY': 'Safety Indicators',\n",
       "  'FREQUENCY': 'M',\n",
       "  'INDICATOR_UNIT': '-',\n",
       "  'YTD_TARGET': '',\n",
       "  'YTD_ACTUAL': '',\n",
       "  'MONTHLY_TARGET': '',\n",
       "  'MONTHLY_ACTUAL': ''},\n",
       " {'AGENCY_NAME': 'Metro-North Railroad',\n",
       "  'INDICATOR_NAME': 'Total Ridership',\n",
       "  'DESCRIPTION': 'The number of passengers from whom the agency receives a fare (cash, train tickets, time-based passes, etc.) Ridership data is preliminary and subject to revision as well as adjustments warranted by annual audit review.',\n",
       "  'PERIOD_YEAR': 2008,\n",
       "  'PERIOD_MONTH': 1,\n",
       "  'CATEGORY': 'Service Indicators',\n",
       "  'FREQUENCY': 'M',\n",
       "  'INDICATOR_UNIT': '-',\n",
       "  'YTD_TARGET': '6,475,134.00',\n",
       "  'YTD_ACTUAL': '6,618,443.00',\n",
       "  'MONTHLY_TARGET': '6,475,134.00',\n",
       "  'MONTHLY_ACTUAL': '6,618,443.00'},\n",
       " {'AGENCY_NAME': 'Metro-North Railroad',\n",
       "  'INDICATOR_NAME': 'Total Ridership',\n",
       "  'DESCRIPTION': 'The number of passengers from whom the agency receives a fare (cash, train tickets, time-based passes, etc.) Ridership data is preliminary and subject to revision as well as adjustments warranted by annual audit review.',\n",
       "  'PERIOD_YEAR': 2008,\n",
       "  'PERIOD_MONTH': 2,\n",
       "  'CATEGORY': 'Service Indicators',\n",
       "  'FREQUENCY': 'M',\n",
       "  'INDICATOR_UNIT': '-',\n",
       "  'YTD_TARGET': '12,520,602.00',\n",
       "  'YTD_ACTUAL': '12,919,928.00',\n",
       "  'MONTHLY_TARGET': '6,045,468.00',\n",
       "  'MONTHLY_ACTUAL': '6,301,485.00'},\n",
       " {'AGENCY_NAME': 'Metro-North Railroad',\n",
       "  'INDICATOR_NAME': 'Total Ridership',\n",
       "  'DESCRIPTION': 'The number of passengers from whom the agency receives a fare (cash, train tickets, time-based passes, etc.) Ridership data is preliminary and subject to revision as well as adjustments warranted by annual audit review.',\n",
       "  'PERIOD_YEAR': 2008,\n",
       "  'PERIOD_MONTH': 3,\n",
       "  'CATEGORY': 'Service Indicators',\n",
       "  'FREQUENCY': 'M',\n",
       "  'INDICATOR_UNIT': '-',\n",
       "  'YTD_TARGET': '19,084,109.00',\n",
       "  'YTD_ACTUAL': '19,691,414.00',\n",
       "  'MONTHLY_TARGET': '6,563,507.00',\n",
       "  'MONTHLY_ACTUAL': '6,771,486.00'},\n",
       " {'AGENCY_NAME': 'Metro-North Railroad',\n",
       "  'INDICATOR_NAME': 'Total Ridership',\n",
       "  'DESCRIPTION': 'The number of passengers from whom the agency receives a fare (cash, train tickets, time-based passes, etc.) Ridership data is preliminary and subject to revision as well as adjustments warranted by annual audit review.',\n",
       "  'PERIOD_YEAR': 2008,\n",
       "  'PERIOD_MONTH': 4,\n",
       "  'CATEGORY': 'Service Indicators',\n",
       "  'FREQUENCY': 'M',\n",
       "  'INDICATOR_UNIT': '-',\n",
       "  'YTD_TARGET': '25,895,437.00',\n",
       "  'YTD_ACTUAL': '26,650,054.00',\n",
       "  'MONTHLY_TARGET': '6,811,328.00',\n",
       "  'MONTHLY_ACTUAL': '6,958,640.00'},\n",
       " {'AGENCY_NAME': 'Metro-North Railroad',\n",
       "  'INDICATOR_NAME': 'Total Ridership',\n",
       "  'DESCRIPTION': 'The number of passengers from whom the agency receives a fare (cash, train tickets, time-based passes, etc.) Ridership data is preliminary and subject to revision as well as adjustments warranted by annual audit review.',\n",
       "  'PERIOD_YEAR': 2008,\n",
       "  'PERIOD_MONTH': 5,\n",
       "  'CATEGORY': 'Service Indicators',\n",
       "  'FREQUENCY': 'M',\n",
       "  'INDICATOR_UNIT': '-',\n",
       "  'YTD_TARGET': '32,758,164.00',\n",
       "  'YTD_ACTUAL': '33,672,738.00',\n",
       "  'MONTHLY_TARGET': '6,862,727.00',\n",
       "  'MONTHLY_ACTUAL': '7,022,684.00'},\n",
       " {'AGENCY_NAME': 'Metro-North Railroad',\n",
       "  'INDICATOR_NAME': 'Total Ridership',\n",
       "  'DESCRIPTION': 'The number of passengers from whom the agency receives a fare (cash, train tickets, time-based passes, etc.) Ridership data is preliminary and subject to revision as well as adjustments warranted by annual audit review.',\n",
       "  'PERIOD_YEAR': 2008,\n",
       "  'PERIOD_MONTH': 6,\n",
       "  'CATEGORY': 'Service Indicators',\n",
       "  'FREQUENCY': 'M',\n",
       "  'INDICATOR_UNIT': '-',\n",
       "  'YTD_TARGET': '39,733,412.00',\n",
       "  'YTD_ACTUAL': '40,867,001.00',\n",
       "  'MONTHLY_TARGET': '6,975,248.00',\n",
       "  'MONTHLY_ACTUAL': '7,194,263.00'},\n",
       " {'AGENCY_NAME': 'Metro-North Railroad',\n",
       "  'INDICATOR_NAME': 'Total Ridership',\n",
       "  'DESCRIPTION': 'The number of passengers from whom the agency receives a fare (cash, train tickets, time-based passes, etc.) Ridership data is preliminary and subject to revision as well as adjustments warranted by annual audit review.',\n",
       "  'PERIOD_YEAR': 2008,\n",
       "  'PERIOD_MONTH': 7,\n",
       "  'CATEGORY': 'Service Indicators',\n",
       "  'FREQUENCY': 'M',\n",
       "  'INDICATOR_UNIT': '-',\n",
       "  'YTD_TARGET': '46,909,968.00',\n",
       "  'YTD_ACTUAL': '48,356,564.00',\n",
       "  'MONTHLY_TARGET': '7,176,556.00',\n",
       "  'MONTHLY_ACTUAL': '7,489,563.00'},\n",
       " {'AGENCY_NAME': 'Metro-North Railroad',\n",
       "  'INDICATOR_NAME': 'Total Ridership',\n",
       "  'DESCRIPTION': 'The number of passengers from whom the agency receives a fare (cash, train tickets, time-based passes, etc.) Ridership data is preliminary and subject to revision as well as adjustments warranted by annual audit review.',\n",
       "  'PERIOD_YEAR': 2008,\n",
       "  'PERIOD_MONTH': 8,\n",
       "  'CATEGORY': 'Service Indicators',\n",
       "  'FREQUENCY': 'M',\n",
       "  'INDICATOR_UNIT': '-',\n",
       "  'YTD_TARGET': '53,710,765.00',\n",
       "  'YTD_ACTUAL': '55,362,353.00',\n",
       "  'MONTHLY_TARGET': '6,800,797.00',\n",
       "  'MONTHLY_ACTUAL': '7,005,789.00'},\n",
       " {'AGENCY_NAME': 'Metro-North Railroad',\n",
       "  'INDICATOR_NAME': 'Total Ridership',\n",
       "  'DESCRIPTION': 'The number of passengers from whom the agency receives a fare (cash, train tickets, time-based passes, etc.) Ridership data is preliminary and subject to revision as well as adjustments warranted by annual audit review.',\n",
       "  'PERIOD_YEAR': 2008,\n",
       "  'PERIOD_MONTH': 9,\n",
       "  'CATEGORY': 'Service Indicators',\n",
       "  'FREQUENCY': 'M',\n",
       "  'INDICATOR_UNIT': '-',\n",
       "  'YTD_TARGET': '60,604,983.00',\n",
       "  'YTD_ACTUAL': '62,369,501.00',\n",
       "  'MONTHLY_TARGET': '6,894,218.00',\n",
       "  'MONTHLY_ACTUAL': '7,007,148.00'},\n",
       " {'AGENCY_NAME': 'Metro-North Railroad',\n",
       "  'INDICATOR_NAME': 'Total Ridership',\n",
       "  'DESCRIPTION': 'The number of passengers from whom the agency receives a fare (cash, train tickets, time-based passes, etc.) Ridership data is preliminary and subject to revision as well as adjustments warranted by annual audit review.',\n",
       "  'PERIOD_YEAR': 2008,\n",
       "  'PERIOD_MONTH': 10,\n",
       "  'CATEGORY': 'Service Indicators',\n",
       "  'FREQUENCY': 'M',\n",
       "  'INDICATOR_UNIT': '-',\n",
       "  'YTD_TARGET': '67,965,837.00',\n",
       "  'YTD_ACTUAL': '69,879,022.00',\n",
       "  'MONTHLY_TARGET': '7,360,854.00',\n",
       "  'MONTHLY_ACTUAL': '7,509,521.00'},\n",
       " {'AGENCY_NAME': 'Metro-North Railroad',\n",
       "  'INDICATOR_NAME': 'Total Ridership',\n",
       "  'DESCRIPTION': 'The number of passengers from whom the agency receives a fare (cash, train tickets, time-based passes, etc.) Ridership data is preliminary and subject to revision as well as adjustments warranted by annual audit review.',\n",
       "  'PERIOD_YEAR': 2008,\n",
       "  'PERIOD_MONTH': 11,\n",
       "  'CATEGORY': 'Service Indicators',\n",
       "  'FREQUENCY': 'M',\n",
       "  'INDICATOR_UNIT': '-',\n",
       "  'YTD_TARGET': '74,415,693.00',\n",
       "  'YTD_ACTUAL': '76,389,999.00',\n",
       "  'MONTHLY_TARGET': '6,449,856.00',\n",
       "  'MONTHLY_ACTUAL': '6,510,977.00'},\n",
       " {'AGENCY_NAME': 'Metro-North Railroad',\n",
       "  'INDICATOR_NAME': 'Total Ridership',\n",
       "  'DESCRIPTION': 'The number of passengers from whom the agency receives a fare (cash, train tickets, time-based passes, etc.) Ridership data is preliminary and subject to revision as well as adjustments warranted by annual audit review.',\n",
       "  'PERIOD_YEAR': 2008,\n",
       "  'PERIOD_MONTH': 12,\n",
       "  'CATEGORY': 'Service Indicators',\n",
       "  'FREQUENCY': 'M',\n",
       "  'INDICATOR_UNIT': '-',\n",
       "  'YTD_TARGET': '81,739,667.00',\n",
       "  'YTD_ACTUAL': '83,555,228.00',\n",
       "  'MONTHLY_TARGET': '7,323,974.00',\n",
       "  'MONTHLY_ACTUAL': '7,165,229.00'},\n",
       " {'AGENCY_NAME': 'Metro-North Railroad',\n",
       "  'INDICATOR_NAME': 'Total Ridership',\n",
       "  'DESCRIPTION': 'The number of passengers from whom the agency receives a fare (cash, train tickets, time-based passes, etc.) Ridership data is preliminary and subject to revision as well as adjustments warranted by annual audit review.',\n",
       "  'PERIOD_YEAR': 2009,\n",
       "  'PERIOD_MONTH': 1,\n",
       "  'CATEGORY': 'Service Indicators',\n",
       "  'FREQUENCY': 'M',\n",
       "  'INDICATOR_UNIT': '-',\n",
       "  'YTD_TARGET': '6,508,071.00',\n",
       "  'YTD_ACTUAL': '6,332,765.00',\n",
       "  'MONTHLY_TARGET': '6,508,071.00',\n",
       "  'MONTHLY_ACTUAL': '6,332,765.00'},\n",
       " {'AGENCY_NAME': 'Metro-North Railroad',\n",
       "  'INDICATOR_NAME': 'Total Ridership',\n",
       "  'DESCRIPTION': 'The number of passengers from whom the agency receives a fare (cash, train tickets, time-based passes, etc.) Ridership data is preliminary and subject to revision as well as adjustments warranted by annual audit review.',\n",
       "  'PERIOD_YEAR': 2009,\n",
       "  'PERIOD_MONTH': 2,\n",
       "  'CATEGORY': 'Service Indicators',\n",
       "  'FREQUENCY': 'M',\n",
       "  'INDICATOR_UNIT': '-',\n",
       "  'YTD_TARGET': '12,594,887.00',\n",
       "  'YTD_ACTUAL': '12,209,821.00',\n",
       "  'MONTHLY_TARGET': '6,086,816.00',\n",
       "  'MONTHLY_ACTUAL': '5,877,056.00'},\n",
       " {'AGENCY_NAME': 'Metro-North Railroad',\n",
       "  'INDICATOR_NAME': 'Total Ridership',\n",
       "  'DESCRIPTION': 'The number of passengers from whom the agency receives a fare (cash, train tickets, time-based passes, etc.) Ridership data is preliminary and subject to revision as well as adjustments warranted by annual audit review.',\n",
       "  'PERIOD_YEAR': 2009,\n",
       "  'PERIOD_MONTH': 3,\n",
       "  'CATEGORY': 'Service Indicators',\n",
       "  'FREQUENCY': 'M',\n",
       "  'INDICATOR_UNIT': '-',\n",
       "  'YTD_TARGET': '19,596,253.00',\n",
       "  'YTD_ACTUAL': '18,972,340.00',\n",
       "  'MONTHLY_TARGET': '7,001,366.00',\n",
       "  'MONTHLY_ACTUAL': '6,762,519.00'},\n",
       " {'AGENCY_NAME': 'Metro-North Railroad',\n",
       "  'INDICATOR_NAME': 'Total Ridership',\n",
       "  'DESCRIPTION': 'The number of passengers from whom the agency receives a fare (cash, train tickets, time-based passes, etc.) Ridership data is preliminary and subject to revision as well as adjustments warranted by annual audit review.',\n",
       "  'PERIOD_YEAR': 2009,\n",
       "  'PERIOD_MONTH': 4,\n",
       "  'CATEGORY': 'Service Indicators',\n",
       "  'FREQUENCY': 'M',\n",
       "  'INDICATOR_UNIT': '-',\n",
       "  'YTD_TARGET': '26,767,083.00',\n",
       "  'YTD_ACTUAL': '25,737,369.00',\n",
       "  'MONTHLY_TARGET': '7,170,830.00',\n",
       "  'MONTHLY_ACTUAL': '6,765,029.00'},\n",
       " {'AGENCY_NAME': 'Metro-North Railroad',\n",
       "  'INDICATOR_NAME': 'Total Ridership',\n",
       "  'DESCRIPTION': 'The number of passengers from whom the agency receives a fare (cash, train tickets, time-based passes, etc.) Ridership data is preliminary and subject to revision as well as adjustments warranted by annual audit review.',\n",
       "  'PERIOD_YEAR': 2009,\n",
       "  'PERIOD_MONTH': 5,\n",
       "  'CATEGORY': 'Service Indicators',\n",
       "  'FREQUENCY': 'M',\n",
       "  'INDICATOR_UNIT': '-',\n",
       "  'YTD_TARGET': '33,823,015.00',\n",
       "  'YTD_ACTUAL': '32,280,151.00',\n",
       "  'MONTHLY_TARGET': '7,055,932.00',\n",
       "  'MONTHLY_ACTUAL': '6,542,782.00'},\n",
       " {'AGENCY_NAME': 'Metro-North Railroad',\n",
       "  'INDICATOR_NAME': 'Total Ridership',\n",
       "  'DESCRIPTION': 'The number of passengers from whom the agency receives a fare (cash, train tickets, time-based passes, etc.) Ridership data is preliminary and subject to revision as well as adjustments warranted by annual audit review.',\n",
       "  'PERIOD_YEAR': 2009,\n",
       "  'PERIOD_MONTH': 6,\n",
       "  'CATEGORY': 'Service Indicators',\n",
       "  'FREQUENCY': 'M',\n",
       "  'INDICATOR_UNIT': '-',\n",
       "  'YTD_TARGET': '41,458,198.00',\n",
       "  'YTD_ACTUAL': '39,314,929.00',\n",
       "  'MONTHLY_TARGET': '7,635,183.00',\n",
       "  'MONTHLY_ACTUAL': '7,034,778.00'},\n",
       " {'AGENCY_NAME': 'Metro-North Railroad',\n",
       "  'INDICATOR_NAME': 'Total Ridership',\n",
       "  'DESCRIPTION': 'The number of passengers from whom the agency receives a fare (cash, train tickets, time-based passes, etc.) Ridership data is preliminary and subject to revision as well as adjustments warranted by annual audit review.',\n",
       "  'PERIOD_YEAR': 2009,\n",
       "  'PERIOD_MONTH': 7,\n",
       "  'CATEGORY': 'Service Indicators',\n",
       "  'FREQUENCY': 'M',\n",
       "  'INDICATOR_UNIT': '-',\n",
       "  'YTD_TARGET': '49,202,681.00',\n",
       "  'YTD_ACTUAL': '46,315,848.00',\n",
       "  'MONTHLY_TARGET': '7,744,483.00',\n",
       "  'MONTHLY_ACTUAL': '7,000,919.00'},\n",
       " {'AGENCY_NAME': 'Metro-North Railroad',\n",
       "  'INDICATOR_NAME': 'Total Ridership',\n",
       "  'DESCRIPTION': 'The number of passengers from whom the agency receives a fare (cash, train tickets, time-based passes, etc.) Ridership data is preliminary and subject to revision as well as adjustments warranted by annual audit review.',\n",
       "  'PERIOD_YEAR': 2009,\n",
       "  'PERIOD_MONTH': 8,\n",
       "  'CATEGORY': 'Service Indicators',\n",
       "  'FREQUENCY': 'M',\n",
       "  'INDICATOR_UNIT': '-',\n",
       "  'YTD_TARGET': '56,456,685.00',\n",
       "  'YTD_ACTUAL': '52,867,646.00',\n",
       "  'MONTHLY_TARGET': '7,254,004.00',\n",
       "  'MONTHLY_ACTUAL': '6,551,798.00'},\n",
       " {'AGENCY_NAME': 'Metro-North Railroad',\n",
       "  'INDICATOR_NAME': 'Total Ridership',\n",
       "  'DESCRIPTION': 'The number of passengers from whom the agency receives a fare (cash, train tickets, time-based passes, etc.) Ridership data is preliminary and subject to revision as well as adjustments warranted by annual audit review.',\n",
       "  'PERIOD_YEAR': 2009,\n",
       "  'PERIOD_MONTH': 9,\n",
       "  'CATEGORY': 'Service Indicators',\n",
       "  'FREQUENCY': 'M',\n",
       "  'INDICATOR_UNIT': '-',\n",
       "  'YTD_TARGET': '63,690,048.00',\n",
       "  'YTD_ACTUAL': '59,537,711.00',\n",
       "  'MONTHLY_TARGET': '7,233,363.00',\n",
       "  'MONTHLY_ACTUAL': '6,670,065.00'},\n",
       " {'AGENCY_NAME': 'Metro-North Railroad',\n",
       "  'INDICATOR_NAME': 'Total Ridership',\n",
       "  'DESCRIPTION': 'The number of passengers from whom the agency receives a fare (cash, train tickets, time-based passes, etc.) Ridership data is preliminary and subject to revision as well as adjustments warranted by annual audit review.',\n",
       "  'PERIOD_YEAR': 2009,\n",
       "  'PERIOD_MONTH': 10,\n",
       "  'CATEGORY': 'Service Indicators',\n",
       "  'FREQUENCY': 'M',\n",
       "  'INDICATOR_UNIT': '-',\n",
       "  'YTD_TARGET': '71,191,251.00',\n",
       "  'YTD_ACTUAL': '66,490,483.00',\n",
       "  'MONTHLY_TARGET': '7,501,203.00',\n",
       "  'MONTHLY_ACTUAL': '6,952,772.00'},\n",
       " {'AGENCY_NAME': 'Metro-North Railroad',\n",
       "  'INDICATOR_NAME': 'Total Ridership',\n",
       "  'DESCRIPTION': 'The number of passengers from whom the agency receives a fare (cash, train tickets, time-based passes, etc.) Ridership data is preliminary and subject to revision as well as adjustments warranted by annual audit review.',\n",
       "  'PERIOD_YEAR': 2009,\n",
       "  'PERIOD_MONTH': 11,\n",
       "  'CATEGORY': 'Service Indicators',\n",
       "  'FREQUENCY': 'M',\n",
       "  'INDICATOR_UNIT': '-',\n",
       "  'YTD_TARGET': '78,164,917.00',\n",
       "  'YTD_ACTUAL': '72,976,241.00',\n",
       "  'MONTHLY_TARGET': '6,973,666.00',\n",
       "  'MONTHLY_ACTUAL': '6,485,758.00'},\n",
       " {'AGENCY_NAME': 'Metro-North Railroad',\n",
       "  'INDICATOR_NAME': 'Total Ridership',\n",
       "  'DESCRIPTION': 'The number of passengers from whom the agency receives a fare (cash, train tickets, time-based passes, etc.) Ridership data is preliminary and subject to revision as well as adjustments warranted by annual audit review.',\n",
       "  'PERIOD_YEAR': 2009,\n",
       "  'PERIOD_MONTH': 12,\n",
       "  'CATEGORY': 'Service Indicators',\n",
       "  'FREQUENCY': 'M',\n",
       "  'INDICATOR_UNIT': '-',\n",
       "  'YTD_TARGET': '85,733,300.00',\n",
       "  'YTD_ACTUAL': '79,899,147.00',\n",
       "  'MONTHLY_TARGET': '7,568,383.00',\n",
       "  'MONTHLY_ACTUAL': '6,922,906.00'},\n",
       " {'AGENCY_NAME': 'Metro-North Railroad',\n",
       "  'INDICATOR_NAME': 'Total Ridership',\n",
       "  'DESCRIPTION': 'The number of passengers from whom the agency receives a fare (cash, train tickets, time-based passes, etc.) Ridership data is preliminary and subject to revision as well as adjustments warranted by annual audit review.',\n",
       "  'PERIOD_YEAR': 2010,\n",
       "  'PERIOD_MONTH': 1,\n",
       "  'CATEGORY': 'Service Indicators',\n",
       "  'FREQUENCY': 'M',\n",
       "  'INDICATOR_UNIT': '-',\n",
       "  'YTD_TARGET': '5,939,175.00',\n",
       "  'YTD_ACTUAL': '6,057,658.00',\n",
       "  'MONTHLY_TARGET': '5,939,175.00',\n",
       "  'MONTHLY_ACTUAL': '6,057,658.00'},\n",
       " {'AGENCY_NAME': 'Metro-North Railroad',\n",
       "  'INDICATOR_NAME': 'Total Ridership',\n",
       "  'DESCRIPTION': 'The number of passengers from whom the agency receives a fare (cash, train tickets, time-based passes, etc.) Ridership data is preliminary and subject to revision as well as adjustments warranted by annual audit review.',\n",
       "  'PERIOD_YEAR': 2010,\n",
       "  'PERIOD_MONTH': 2,\n",
       "  'CATEGORY': 'Service Indicators',\n",
       "  'FREQUENCY': 'M',\n",
       "  'INDICATOR_UNIT': '-',\n",
       "  'YTD_TARGET': '11,638,866.00',\n",
       "  'YTD_ACTUAL': '11,745,609.00',\n",
       "  'MONTHLY_TARGET': '5,699,691.00',\n",
       "  'MONTHLY_ACTUAL': '5,687,951.00'},\n",
       " {'AGENCY_NAME': 'Metro-North Railroad',\n",
       "  'INDICATOR_NAME': 'Total Ridership',\n",
       "  'DESCRIPTION': 'The number of passengers from whom the agency receives a fare (cash, train tickets, time-based passes, etc.) Ridership data is preliminary and subject to revision as well as adjustments warranted by annual audit review.',\n",
       "  'PERIOD_YEAR': 2010,\n",
       "  'PERIOD_MONTH': 3,\n",
       "  'CATEGORY': 'Service Indicators',\n",
       "  'FREQUENCY': 'M',\n",
       "  'INDICATOR_UNIT': '-',\n",
       "  'YTD_TARGET': '18,402,757.00',\n",
       "  'YTD_ACTUAL': '18,683,819.00',\n",
       "  'MONTHLY_TARGET': '6,763,891.00',\n",
       "  'MONTHLY_ACTUAL': '6,938,210.00'},\n",
       " {'AGENCY_NAME': 'Metro-North Railroad',\n",
       "  'INDICATOR_NAME': 'Total Ridership',\n",
       "  'DESCRIPTION': 'The number of passengers from whom the agency receives a fare (cash, train tickets, time-based passes, etc.) Ridership data is preliminary and subject to revision as well as adjustments warranted by annual audit review.',\n",
       "  'PERIOD_YEAR': 2010,\n",
       "  'PERIOD_MONTH': 4,\n",
       "  'CATEGORY': 'Service Indicators',\n",
       "  'FREQUENCY': 'M',\n",
       "  'INDICATOR_UNIT': '-',\n",
       "  'YTD_TARGET': '25,018,196.00',\n",
       "  'YTD_ACTUAL': '25,521,081.00',\n",
       "  'MONTHLY_TARGET': '6,615,439.00',\n",
       "  'MONTHLY_ACTUAL': '6,837,262.00'},\n",
       " {'AGENCY_NAME': 'Metro-North Railroad',\n",
       "  'INDICATOR_NAME': 'Total Ridership',\n",
       "  'DESCRIPTION': 'The number of passengers from whom the agency receives a fare (cash, train tickets, time-based passes, etc.) Ridership data is preliminary and subject to revision as well as adjustments warranted by annual audit review.',\n",
       "  'PERIOD_YEAR': 2010,\n",
       "  'PERIOD_MONTH': 5,\n",
       "  'CATEGORY': 'Service Indicators',\n",
       "  'FREQUENCY': 'M',\n",
       "  'INDICATOR_UNIT': '-',\n",
       "  'YTD_TARGET': '31,429,860.00',\n",
       "  'YTD_ACTUAL': '32,252,137.00',\n",
       "  'MONTHLY_TARGET': '6,411,664.00',\n",
       "  'MONTHLY_ACTUAL': '6,731,056.00'},\n",
       " {'AGENCY_NAME': 'Metro-North Railroad',\n",
       "  'INDICATOR_NAME': 'Total Ridership',\n",
       "  'DESCRIPTION': 'The number of passengers from whom the agency receives a fare (cash, train tickets, time-based passes, etc.) Ridership data is preliminary and subject to revision as well as adjustments warranted by annual audit review.',\n",
       "  'PERIOD_YEAR': 2010,\n",
       "  'PERIOD_MONTH': 6,\n",
       "  'CATEGORY': 'Service Indicators',\n",
       "  'FREQUENCY': 'M',\n",
       "  'INDICATOR_UNIT': '-',\n",
       "  'YTD_TARGET': '38,331,210.00',\n",
       "  'YTD_ACTUAL': '39,410,262.00',\n",
       "  'MONTHLY_TARGET': '6,901,350.00',\n",
       "  'MONTHLY_ACTUAL': '7,158,125.00'},\n",
       " {'AGENCY_NAME': 'Metro-North Railroad',\n",
       "  'INDICATOR_NAME': 'Total Ridership',\n",
       "  'DESCRIPTION': 'The number of passengers from whom the agency receives a fare (cash, train tickets, time-based passes, etc.) Ridership data is preliminary and subject to revision as well as adjustments warranted by annual audit review.',\n",
       "  'PERIOD_YEAR': 2010,\n",
       "  'PERIOD_MONTH': 7,\n",
       "  'CATEGORY': 'Service Indicators',\n",
       "  'FREQUENCY': 'M',\n",
       "  'INDICATOR_UNIT': '-',\n",
       "  'YTD_TARGET': '45,092,948.00',\n",
       "  'YTD_ACTUAL': '46,402,728.00',\n",
       "  'MONTHLY_TARGET': '6,761,738.00',\n",
       "  'MONTHLY_ACTUAL': '6,992,466.00'},\n",
       " {'AGENCY_NAME': 'Metro-North Railroad',\n",
       "  'INDICATOR_NAME': 'Total Ridership',\n",
       "  'DESCRIPTION': 'The number of passengers from whom the agency receives a fare (cash, train tickets, time-based passes, etc.) Ridership data is preliminary and subject to revision as well as adjustments warranted by annual audit review.',\n",
       "  'PERIOD_YEAR': 2010,\n",
       "  'PERIOD_MONTH': 8,\n",
       "  'CATEGORY': 'Service Indicators',\n",
       "  'FREQUENCY': 'M',\n",
       "  'INDICATOR_UNIT': '-',\n",
       "  'YTD_TARGET': '51,804,118.00',\n",
       "  'YTD_ACTUAL': '53,315,701.00',\n",
       "  'MONTHLY_TARGET': '6,711,170.00',\n",
       "  'MONTHLY_ACTUAL': '6,912,973.00'},\n",
       " {'AGENCY_NAME': 'Metro-North Railroad',\n",
       "  'INDICATOR_NAME': 'Total Ridership',\n",
       "  'DESCRIPTION': 'The number of passengers from whom the agency receives a fare (cash, train tickets, time-based passes, etc.) Ridership data is preliminary and subject to revision as well as adjustments warranted by annual audit review.',\n",
       "  'PERIOD_YEAR': 2010,\n",
       "  'PERIOD_MONTH': 9,\n",
       "  'CATEGORY': 'Service Indicators',\n",
       "  'FREQUENCY': 'M',\n",
       "  'INDICATOR_UNIT': '-',\n",
       "  'YTD_TARGET': '58,430,546.00',\n",
       "  'YTD_ACTUAL': '60,168,330.00',\n",
       "  'MONTHLY_TARGET': '6,626,428.00',\n",
       "  'MONTHLY_ACTUAL': '6,852,629.00'},\n",
       " {'AGENCY_NAME': 'Metro-North Railroad',\n",
       "  'INDICATOR_NAME': 'Total Ridership',\n",
       "  'DESCRIPTION': 'The number of passengers from whom the agency receives a fare (cash, train tickets, time-based passes, etc.) Ridership data is preliminary and subject to revision as well as adjustments warranted by annual audit review.',\n",
       "  'PERIOD_YEAR': 2010,\n",
       "  'PERIOD_MONTH': 10,\n",
       "  'CATEGORY': 'Service Indicators',\n",
       "  'FREQUENCY': 'M',\n",
       "  'INDICATOR_UNIT': '-',\n",
       "  'YTD_TARGET': '65,255,967.00',\n",
       "  'YTD_ACTUAL': '67,195,926.00',\n",
       "  'MONTHLY_TARGET': '6,825,421.00',\n",
       "  'MONTHLY_ACTUAL': '7,027,596.00'},\n",
       " {'AGENCY_NAME': 'Metro-North Railroad',\n",
       "  'INDICATOR_NAME': 'Total Ridership',\n",
       "  'DESCRIPTION': 'The number of passengers from whom the agency receives a fare (cash, train tickets, time-based passes, etc.) Ridership data is preliminary and subject to revision as well as adjustments warranted by annual audit review.',\n",
       "  'PERIOD_YEAR': 2010,\n",
       "  'PERIOD_MONTH': 11,\n",
       "  'CATEGORY': 'Service Indicators',\n",
       "  'FREQUENCY': 'M',\n",
       "  'INDICATOR_UNIT': '-',\n",
       "  'YTD_TARGET': '71,961,212.00',\n",
       "  'YTD_ACTUAL': '74,006,393.00',\n",
       "  'MONTHLY_TARGET': '6,705,245.00',\n",
       "  'MONTHLY_ACTUAL': '6,810,467.00'},\n",
       " {'AGENCY_NAME': 'Metro-North Railroad',\n",
       "  'INDICATOR_NAME': 'Total Ridership',\n",
       "  'DESCRIPTION': 'The number of passengers from whom the agency receives a fare (cash, train tickets, time-based passes, etc.) Ridership data is preliminary and subject to revision as well as adjustments warranted by annual audit review.',\n",
       "  'PERIOD_YEAR': 2010,\n",
       "  'PERIOD_MONTH': 12,\n",
       "  'CATEGORY': 'Service Indicators',\n",
       "  'FREQUENCY': 'M',\n",
       "  'INDICATOR_UNIT': '-',\n",
       "  'YTD_TARGET': '79,067,578.00',\n",
       "  'YTD_ACTUAL': '81,095,848.00',\n",
       "  'MONTHLY_TARGET': '7,106,366.00',\n",
       "  'MONTHLY_ACTUAL': '7,089,455.00'},\n",
       " {'AGENCY_NAME': 'Metro-North Railroad',\n",
       "  'INDICATOR_NAME': 'Total Ridership',\n",
       "  'DESCRIPTION': 'The number of passengers from whom the agency receives a fare (cash, train tickets, time-based passes, etc.) Ridership data is preliminary and subject to revision as well as adjustments warranted by annual audit review.',\n",
       "  'PERIOD_YEAR': 2011,\n",
       "  'PERIOD_MONTH': 1,\n",
       "  'CATEGORY': 'Service Indicators',\n",
       "  'FREQUENCY': 'M',\n",
       "  'INDICATOR_UNIT': '-',\n",
       "  'YTD_TARGET': '6,110,803.00',\n",
       "  'YTD_ACTUAL': '6,058,384.00',\n",
       "  'MONTHLY_TARGET': '6,110,803.00',\n",
       "  'MONTHLY_ACTUAL': '6,058,384.00'},\n",
       " {'AGENCY_NAME': 'Metro-North Railroad',\n",
       "  'INDICATOR_NAME': 'Total Ridership',\n",
       "  'DESCRIPTION': 'The number of passengers from whom the agency receives a fare (cash, train tickets, time-based passes, etc.) Ridership data is preliminary and subject to revision as well as adjustments warranted by annual audit review.',\n",
       "  'PERIOD_YEAR': 2011,\n",
       "  'PERIOD_MONTH': 2,\n",
       "  'CATEGORY': 'Service Indicators',\n",
       "  'FREQUENCY': 'M',\n",
       "  'INDICATOR_UNIT': '-',\n",
       "  'YTD_TARGET': '11,848,447.00',\n",
       "  'YTD_ACTUAL': '11,882,226.00',\n",
       "  'MONTHLY_TARGET': '5,737,644.00',\n",
       "  'MONTHLY_ACTUAL': '5,823,842.00'},\n",
       " {'AGENCY_NAME': 'Metro-North Railroad',\n",
       "  'INDICATOR_NAME': 'Total Ridership',\n",
       "  'DESCRIPTION': 'The number of passengers from whom the agency receives a fare (cash, train tickets, time-based passes, etc.) Ridership data is preliminary and subject to revision as well as adjustments warranted by annual audit review.',\n",
       "  'PERIOD_YEAR': 2011,\n",
       "  'PERIOD_MONTH': 3,\n",
       "  'CATEGORY': 'Service Indicators',\n",
       "  'FREQUENCY': 'M',\n",
       "  'INDICATOR_UNIT': '-',\n",
       "  'YTD_TARGET': '18,846,561.00',\n",
       "  'YTD_ACTUAL': '18,949,529.00',\n",
       "  'MONTHLY_TARGET': '6,998,114.00',\n",
       "  'MONTHLY_ACTUAL': '7,067,303.00'},\n",
       " {'AGENCY_NAME': 'Metro-North Railroad',\n",
       "  'INDICATOR_NAME': 'Total Ridership',\n",
       "  'DESCRIPTION': 'The number of passengers from whom the agency receives a fare (cash, train tickets, time-based passes, etc.) Ridership data is preliminary and subject to revision as well as adjustments warranted by annual audit review.',\n",
       "  'PERIOD_YEAR': 2011,\n",
       "  'PERIOD_MONTH': 4,\n",
       "  'CATEGORY': 'Service Indicators',\n",
       "  'FREQUENCY': 'M',\n",
       "  'INDICATOR_UNIT': '-',\n",
       "  'YTD_TARGET': '25,578,846.00',\n",
       "  'YTD_ACTUAL': '25,754,122.00',\n",
       "  'MONTHLY_TARGET': '6,732,285.00',\n",
       "  'MONTHLY_ACTUAL': '6,804,593.00'},\n",
       " {'AGENCY_NAME': 'Metro-North Railroad',\n",
       "  'INDICATOR_NAME': 'Total Ridership',\n",
       "  'DESCRIPTION': 'The number of passengers from whom the agency receives a fare (cash, train tickets, time-based passes, etc.) Ridership data is preliminary and subject to revision as well as adjustments warranted by annual audit review.',\n",
       "  'PERIOD_YEAR': 2011,\n",
       "  'PERIOD_MONTH': 5,\n",
       "  'CATEGORY': 'Service Indicators',\n",
       "  'FREQUENCY': 'M',\n",
       "  'INDICATOR_UNIT': '-',\n",
       "  'YTD_TARGET': '32,542,163.00',\n",
       "  'YTD_ACTUAL': '',\n",
       "  'MONTHLY_TARGET': '6,963,317.00',\n",
       "  'MONTHLY_ACTUAL': ''},\n",
       " {'AGENCY_NAME': 'Metro-North Railroad',\n",
       "  'INDICATOR_NAME': 'Total Ridership',\n",
       "  'DESCRIPTION': 'The number of passengers from whom the agency receives a fare (cash, train tickets, time-based passes, etc.) Ridership data is preliminary and subject to revision as well as adjustments warranted by annual audit review.',\n",
       "  'PERIOD_YEAR': 2011,\n",
       "  'PERIOD_MONTH': 6,\n",
       "  'CATEGORY': 'Service Indicators',\n",
       "  'FREQUENCY': 'M',\n",
       "  'INDICATOR_UNIT': '-',\n",
       "  'YTD_TARGET': '39,771,526.00',\n",
       "  'YTD_ACTUAL': '',\n",
       "  'MONTHLY_TARGET': '7,229,363.00',\n",
       "  'MONTHLY_ACTUAL': ''},\n",
       " {'AGENCY_NAME': 'Metro-North Railroad',\n",
       "  'INDICATOR_NAME': 'Total Ridership',\n",
       "  'DESCRIPTION': 'The number of passengers from whom the agency receives a fare (cash, train tickets, time-based passes, etc.) Ridership data is preliminary and subject to revision as well as adjustments warranted by annual audit review.',\n",
       "  'PERIOD_YEAR': 2011,\n",
       "  'PERIOD_MONTH': 7,\n",
       "  'CATEGORY': 'Service Indicators',\n",
       "  'FREQUENCY': 'M',\n",
       "  'INDICATOR_UNIT': '-',\n",
       "  'YTD_TARGET': '46,653,482.00',\n",
       "  'YTD_ACTUAL': '',\n",
       "  'MONTHLY_TARGET': '6,881,956.00',\n",
       "  'MONTHLY_ACTUAL': ''},\n",
       " {'AGENCY_NAME': 'Metro-North Railroad',\n",
       "  'INDICATOR_NAME': 'Total Ridership',\n",
       "  'DESCRIPTION': 'The number of passengers from whom the agency receives a fare (cash, train tickets, time-based passes, etc.) Ridership data is preliminary and subject to revision as well as adjustments warranted by annual audit review.',\n",
       "  'PERIOD_YEAR': 2011,\n",
       "  'PERIOD_MONTH': 8,\n",
       "  'CATEGORY': 'Service Indicators',\n",
       "  'FREQUENCY': 'M',\n",
       "  'INDICATOR_UNIT': '-',\n",
       "  'YTD_TARGET': '53,701,665.00',\n",
       "  'YTD_ACTUAL': '',\n",
       "  'MONTHLY_TARGET': '7,048,183.00',\n",
       "  'MONTHLY_ACTUAL': ''},\n",
       " {'AGENCY_NAME': 'Metro-North Railroad',\n",
       "  'INDICATOR_NAME': 'Total Ridership',\n",
       "  'DESCRIPTION': 'The number of passengers from whom the agency receives a fare (cash, train tickets, time-based passes, etc.) Ridership data is preliminary and subject to revision as well as adjustments warranted by annual audit review.',\n",
       "  'PERIOD_YEAR': 2011,\n",
       "  'PERIOD_MONTH': 9,\n",
       "  'CATEGORY': 'Service Indicators',\n",
       "  'FREQUENCY': 'M',\n",
       "  'INDICATOR_UNIT': '-',\n",
       "  'YTD_TARGET': '60,550,721.00',\n",
       "  'YTD_ACTUAL': '',\n",
       "  'MONTHLY_TARGET': '6,849,056.00',\n",
       "  'MONTHLY_ACTUAL': ''},\n",
       " {'AGENCY_NAME': 'Metro-North Railroad',\n",
       "  'INDICATOR_NAME': 'Total Ridership',\n",
       "  'DESCRIPTION': 'The number of passengers from whom the agency receives a fare (cash, train tickets, time-based passes, etc.) Ridership data is preliminary and subject to revision as well as adjustments warranted by annual audit review.',\n",
       "  'PERIOD_YEAR': 2011,\n",
       "  'PERIOD_MONTH': 10,\n",
       "  'CATEGORY': 'Service Indicators',\n",
       "  'FREQUENCY': 'M',\n",
       "  'INDICATOR_UNIT': '-',\n",
       "  'YTD_TARGET': '67,612,098.00',\n",
       "  'YTD_ACTUAL': '',\n",
       "  'MONTHLY_TARGET': '7,061,377.00',\n",
       "  'MONTHLY_ACTUAL': ''},\n",
       " {'AGENCY_NAME': 'Metro-North Railroad',\n",
       "  'INDICATOR_NAME': 'Total Ridership',\n",
       "  'DESCRIPTION': 'The number of passengers from whom the agency receives a fare (cash, train tickets, time-based passes, etc.) Ridership data is preliminary and subject to revision as well as adjustments warranted by annual audit review.',\n",
       "  'PERIOD_YEAR': 2011,\n",
       "  'PERIOD_MONTH': 11,\n",
       "  'CATEGORY': 'Service Indicators',\n",
       "  'FREQUENCY': 'M',\n",
       "  'INDICATOR_UNIT': '-',\n",
       "  'YTD_TARGET': '74,589,125.00',\n",
       "  'YTD_ACTUAL': '',\n",
       "  'MONTHLY_TARGET': '6,977,027.00',\n",
       "  'MONTHLY_ACTUAL': ''},\n",
       " {'AGENCY_NAME': 'Metro-North Railroad',\n",
       "  'INDICATOR_NAME': 'Total Ridership',\n",
       "  'DESCRIPTION': 'The number of passengers from whom the agency receives a fare (cash, train tickets, time-based passes, etc.) Ridership data is preliminary and subject to revision as well as adjustments warranted by annual audit review.',\n",
       "  'PERIOD_YEAR': 2011,\n",
       "  'PERIOD_MONTH': 12,\n",
       "  'CATEGORY': 'Service Indicators',\n",
       "  'FREQUENCY': 'M',\n",
       "  'INDICATOR_UNIT': '-',\n",
       "  'YTD_TARGET': '81,670,880.00',\n",
       "  'YTD_ACTUAL': '',\n",
       "  'MONTHLY_TARGET': '7,081,755.00',\n",
       "  'MONTHLY_ACTUAL': ''},\n",
       " {'AGENCY_NAME': 'Metro-North Railroad',\n",
       "  'INDICATOR_NAME': 'Hudson Line - OTP',\n",
       "  'DESCRIPTION': 'Percent of commuter trains that arrive at their destinations within 5 minutes and 59 seconds of the scheduled time.',\n",
       "  'PERIOD_YEAR': 2008,\n",
       "  'PERIOD_MONTH': 1,\n",
       "  'CATEGORY': 'Service Indicators',\n",
       "  'FREQUENCY': 'M',\n",
       "  'INDICATOR_UNIT': '%',\n",
       "  'YTD_TARGET': 98.0,\n",
       "  'YTD_ACTUAL': 99.3,\n",
       "  'MONTHLY_TARGET': 98.0,\n",
       "  'MONTHLY_ACTUAL': 99.3},\n",
       " {'AGENCY_NAME': 'Metro-North Railroad',\n",
       "  'INDICATOR_NAME': 'Hudson Line - OTP',\n",
       "  'DESCRIPTION': 'Percent of commuter trains that arrive at their destinations within 5 minutes and 59 seconds of the scheduled time.',\n",
       "  'PERIOD_YEAR': 2008,\n",
       "  'PERIOD_MONTH': 2,\n",
       "  'CATEGORY': 'Service Indicators',\n",
       "  'FREQUENCY': 'M',\n",
       "  'INDICATOR_UNIT': '%',\n",
       "  'YTD_TARGET': 98.0,\n",
       "  'YTD_ACTUAL': 99.2,\n",
       "  'MONTHLY_TARGET': 98.0,\n",
       "  'MONTHLY_ACTUAL': 99.1},\n",
       " {'AGENCY_NAME': 'Metro-North Railroad',\n",
       "  'INDICATOR_NAME': 'Hudson Line - OTP',\n",
       "  'DESCRIPTION': 'Percent of commuter trains that arrive at their destinations within 5 minutes and 59 seconds of the scheduled time.',\n",
       "  'PERIOD_YEAR': 2008,\n",
       "  'PERIOD_MONTH': 3,\n",
       "  'CATEGORY': 'Service Indicators',\n",
       "  'FREQUENCY': 'M',\n",
       "  'INDICATOR_UNIT': '%',\n",
       "  'YTD_TARGET': 98.0,\n",
       "  'YTD_ACTUAL': 98.4,\n",
       "  'MONTHLY_TARGET': 98.0,\n",
       "  'MONTHLY_ACTUAL': 96.9},\n",
       " {'AGENCY_NAME': 'Metro-North Railroad',\n",
       "  'INDICATOR_NAME': 'Hudson Line - OTP',\n",
       "  'DESCRIPTION': 'Percent of commuter trains that arrive at their destinations within 5 minutes and 59 seconds of the scheduled time.',\n",
       "  'PERIOD_YEAR': 2008,\n",
       "  'PERIOD_MONTH': 4,\n",
       "  'CATEGORY': 'Service Indicators',\n",
       "  'FREQUENCY': 'M',\n",
       "  'INDICATOR_UNIT': '%',\n",
       "  'YTD_TARGET': 98.0,\n",
       "  'YTD_ACTUAL': 98.4,\n",
       "  'MONTHLY_TARGET': 98.0,\n",
       "  'MONTHLY_ACTUAL': 98.6},\n",
       " {'AGENCY_NAME': 'Metro-North Railroad',\n",
       "  'INDICATOR_NAME': 'Hudson Line - OTP',\n",
       "  'DESCRIPTION': 'Percent of commuter trains that arrive at their destinations within 5 minutes and 59 seconds of the scheduled time.',\n",
       "  'PERIOD_YEAR': 2008,\n",
       "  'PERIOD_MONTH': 5,\n",
       "  'CATEGORY': 'Service Indicators',\n",
       "  'FREQUENCY': 'M',\n",
       "  'INDICATOR_UNIT': '%',\n",
       "  'YTD_TARGET': 98.0,\n",
       "  'YTD_ACTUAL': 98.2,\n",
       "  'MONTHLY_TARGET': 98.0,\n",
       "  'MONTHLY_ACTUAL': 97.4},\n",
       " {'AGENCY_NAME': 'Metro-North Railroad',\n",
       "  'INDICATOR_NAME': 'Hudson Line - OTP',\n",
       "  'DESCRIPTION': 'Percent of commuter trains that arrive at their destinations within 5 minutes and 59 seconds of the scheduled time.',\n",
       "  'PERIOD_YEAR': 2008,\n",
       "  'PERIOD_MONTH': 6,\n",
       "  'CATEGORY': 'Service Indicators',\n",
       "  'FREQUENCY': 'M',\n",
       "  'INDICATOR_UNIT': '%',\n",
       "  'YTD_TARGET': 98.0,\n",
       "  'YTD_ACTUAL': 97.8,\n",
       "  'MONTHLY_TARGET': 98.0,\n",
       "  'MONTHLY_ACTUAL': 95.9},\n",
       " {'AGENCY_NAME': 'Metro-North Railroad',\n",
       "  'INDICATOR_NAME': 'Hudson Line - OTP',\n",
       "  'DESCRIPTION': 'Percent of commuter trains that arrive at their destinations within 5 minutes and 59 seconds of the scheduled time.',\n",
       "  'PERIOD_YEAR': 2008,\n",
       "  'PERIOD_MONTH': 7,\n",
       "  'CATEGORY': 'Service Indicators',\n",
       "  'FREQUENCY': 'M',\n",
       "  'INDICATOR_UNIT': '%',\n",
       "  'YTD_TARGET': 98.0,\n",
       "  'YTD_ACTUAL': 97.7,\n",
       "  'MONTHLY_TARGET': 98.0,\n",
       "  'MONTHLY_ACTUAL': 97.0},\n",
       " {'AGENCY_NAME': 'Metro-North Railroad',\n",
       "  'INDICATOR_NAME': 'Hudson Line - OTP',\n",
       "  'DESCRIPTION': 'Percent of commuter trains that arrive at their destinations within 5 minutes and 59 seconds of the scheduled time.',\n",
       "  'PERIOD_YEAR': 2008,\n",
       "  'PERIOD_MONTH': 8,\n",
       "  'CATEGORY': 'Service Indicators',\n",
       "  'FREQUENCY': 'M',\n",
       "  'INDICATOR_UNIT': '%',\n",
       "  'YTD_TARGET': 98.0,\n",
       "  'YTD_ACTUAL': 97.7,\n",
       "  'MONTHLY_TARGET': 98.0,\n",
       "  'MONTHLY_ACTUAL': 97.7},\n",
       " {'AGENCY_NAME': 'Metro-North Railroad',\n",
       "  'INDICATOR_NAME': 'Hudson Line - OTP',\n",
       "  'DESCRIPTION': 'Percent of commuter trains that arrive at their destinations within 5 minutes and 59 seconds of the scheduled time.',\n",
       "  'PERIOD_YEAR': 2008,\n",
       "  'PERIOD_MONTH': 9,\n",
       "  'CATEGORY': 'Service Indicators',\n",
       "  'FREQUENCY': 'M',\n",
       "  'INDICATOR_UNIT': '%',\n",
       "  'YTD_TARGET': 98.0,\n",
       "  'YTD_ACTUAL': 97.8,\n",
       "  'MONTHLY_TARGET': 98.0,\n",
       "  'MONTHLY_ACTUAL': 98.2},\n",
       " {'AGENCY_NAME': 'Metro-North Railroad',\n",
       "  'INDICATOR_NAME': 'Hudson Line - OTP',\n",
       "  'DESCRIPTION': 'Percent of commuter trains that arrive at their destinations within 5 minutes and 59 seconds of the scheduled time.',\n",
       "  'PERIOD_YEAR': 2008,\n",
       "  'PERIOD_MONTH': 10,\n",
       "  'CATEGORY': 'Service Indicators',\n",
       "  'FREQUENCY': 'M',\n",
       "  'INDICATOR_UNIT': '%',\n",
       "  'YTD_TARGET': 98.0,\n",
       "  'YTD_ACTUAL': 97.7,\n",
       "  'MONTHLY_TARGET': 98.0,\n",
       "  'MONTHLY_ACTUAL': 96.8},\n",
       " {'AGENCY_NAME': 'Metro-North Railroad',\n",
       "  'INDICATOR_NAME': 'Hudson Line - OTP',\n",
       "  'DESCRIPTION': 'Percent of commuter trains that arrive at their destinations within 5 minutes and 59 seconds of the scheduled time.',\n",
       "  'PERIOD_YEAR': 2008,\n",
       "  'PERIOD_MONTH': 11,\n",
       "  'CATEGORY': 'Service Indicators',\n",
       "  'FREQUENCY': 'M',\n",
       "  'INDICATOR_UNIT': '%',\n",
       "  'YTD_TARGET': 98.0,\n",
       "  'YTD_ACTUAL': 97.6,\n",
       "  'MONTHLY_TARGET': 98.0,\n",
       "  'MONTHLY_ACTUAL': 97.0},\n",
       " {'AGENCY_NAME': 'Metro-North Railroad',\n",
       "  'INDICATOR_NAME': 'Hudson Line - OTP',\n",
       "  'DESCRIPTION': 'Percent of commuter trains that arrive at their destinations within 5 minutes and 59 seconds of the scheduled time.',\n",
       "  'PERIOD_YEAR': 2008,\n",
       "  'PERIOD_MONTH': 12,\n",
       "  'CATEGORY': 'Service Indicators',\n",
       "  'FREQUENCY': 'M',\n",
       "  'INDICATOR_UNIT': '%',\n",
       "  'YTD_TARGET': 98.0,\n",
       "  'YTD_ACTUAL': 97.6,\n",
       "  'MONTHLY_TARGET': 98.0,\n",
       "  'MONTHLY_ACTUAL': 97.2},\n",
       " {'AGENCY_NAME': 'Metro-North Railroad',\n",
       "  'INDICATOR_NAME': 'Hudson Line - OTP',\n",
       "  'DESCRIPTION': 'Percent of commuter trains that arrive at their destinations within 5 minutes and 59 seconds of the scheduled time.',\n",
       "  'PERIOD_YEAR': 2009,\n",
       "  'PERIOD_MONTH': 1,\n",
       "  'CATEGORY': 'Service Indicators',\n",
       "  'FREQUENCY': 'M',\n",
       "  'INDICATOR_UNIT': '%',\n",
       "  'YTD_TARGET': 97.9,\n",
       "  'YTD_ACTUAL': 96.4,\n",
       "  'MONTHLY_TARGET': 97.9,\n",
       "  'MONTHLY_ACTUAL': 96.4},\n",
       " {'AGENCY_NAME': 'Metro-North Railroad',\n",
       "  'INDICATOR_NAME': 'Hudson Line - OTP',\n",
       "  'DESCRIPTION': 'Percent of commuter trains that arrive at their destinations within 5 minutes and 59 seconds of the scheduled time.',\n",
       "  'PERIOD_YEAR': 2009,\n",
       "  'PERIOD_MONTH': 2,\n",
       "  'CATEGORY': 'Service Indicators',\n",
       "  'FREQUENCY': 'M',\n",
       "  'INDICATOR_UNIT': '%',\n",
       "  'YTD_TARGET': 97.9,\n",
       "  'YTD_ACTUAL': 97.6,\n",
       "  'MONTHLY_TARGET': 97.9,\n",
       "  'MONTHLY_ACTUAL': 98.9},\n",
       " {'AGENCY_NAME': 'Metro-North Railroad',\n",
       "  'INDICATOR_NAME': 'Hudson Line - OTP',\n",
       "  'DESCRIPTION': 'Percent of commuter trains that arrive at their destinations within 5 minutes and 59 seconds of the scheduled time.',\n",
       "  'PERIOD_YEAR': 2009,\n",
       "  'PERIOD_MONTH': 3,\n",
       "  'CATEGORY': 'Service Indicators',\n",
       "  'FREQUENCY': 'M',\n",
       "  'INDICATOR_UNIT': '%',\n",
       "  'YTD_TARGET': 97.9,\n",
       "  'YTD_ACTUAL': 97.9,\n",
       "  'MONTHLY_TARGET': 97.9,\n",
       "  'MONTHLY_ACTUAL': 98.5},\n",
       " {'AGENCY_NAME': 'Metro-North Railroad',\n",
       "  'INDICATOR_NAME': 'Hudson Line - OTP',\n",
       "  'DESCRIPTION': 'Percent of commuter trains that arrive at their destinations within 5 minutes and 59 seconds of the scheduled time.',\n",
       "  'PERIOD_YEAR': 2009,\n",
       "  'PERIOD_MONTH': 4,\n",
       "  'CATEGORY': 'Service Indicators',\n",
       "  'FREQUENCY': 'M',\n",
       "  'INDICATOR_UNIT': '%',\n",
       "  'YTD_TARGET': 97.9,\n",
       "  'YTD_ACTUAL': 98.1,\n",
       "  'MONTHLY_TARGET': 97.9,\n",
       "  'MONTHLY_ACTUAL': 98.8},\n",
       " {'AGENCY_NAME': 'Metro-North Railroad',\n",
       "  'INDICATOR_NAME': 'Hudson Line - OTP',\n",
       "  'DESCRIPTION': 'Percent of commuter trains that arrive at their destinations within 5 minutes and 59 seconds of the scheduled time.',\n",
       "  'PERIOD_YEAR': 2009,\n",
       "  'PERIOD_MONTH': 5,\n",
       "  'CATEGORY': 'Service Indicators',\n",
       "  'FREQUENCY': 'M',\n",
       "  'INDICATOR_UNIT': '%',\n",
       "  'YTD_TARGET': 97.9,\n",
       "  'YTD_ACTUAL': 98.2,\n",
       "  'MONTHLY_TARGET': 97.9,\n",
       "  'MONTHLY_ACTUAL': 98.5},\n",
       " {'AGENCY_NAME': 'Metro-North Railroad',\n",
       "  'INDICATOR_NAME': 'Hudson Line - OTP',\n",
       "  'DESCRIPTION': 'Percent of commuter trains that arrive at their destinations within 5 minutes and 59 seconds of the scheduled time.',\n",
       "  'PERIOD_YEAR': 2009,\n",
       "  'PERIOD_MONTH': 6,\n",
       "  'CATEGORY': 'Service Indicators',\n",
       "  'FREQUENCY': 'M',\n",
       "  'INDICATOR_UNIT': '%',\n",
       "  'YTD_TARGET': 97.9,\n",
       "  'YTD_ACTUAL': 98.1,\n",
       "  'MONTHLY_TARGET': 97.9,\n",
       "  'MONTHLY_ACTUAL': 97.6},\n",
       " {'AGENCY_NAME': 'Metro-North Railroad',\n",
       "  'INDICATOR_NAME': 'Hudson Line - OTP',\n",
       "  'DESCRIPTION': 'Percent of commuter trains that arrive at their destinations within 5 minutes and 59 seconds of the scheduled time.',\n",
       "  'PERIOD_YEAR': 2009,\n",
       "  'PERIOD_MONTH': 7,\n",
       "  'CATEGORY': 'Service Indicators',\n",
       "  'FREQUENCY': 'M',\n",
       "  'INDICATOR_UNIT': '%',\n",
       "  'YTD_TARGET': 97.9,\n",
       "  'YTD_ACTUAL': 98.1,\n",
       "  'MONTHLY_TARGET': 97.9,\n",
       "  'MONTHLY_ACTUAL': 97.8},\n",
       " {'AGENCY_NAME': 'Metro-North Railroad',\n",
       "  'INDICATOR_NAME': 'Hudson Line - OTP',\n",
       "  'DESCRIPTION': 'Percent of commuter trains that arrive at their destinations within 5 minutes and 59 seconds of the scheduled time.',\n",
       "  'PERIOD_YEAR': 2009,\n",
       "  'PERIOD_MONTH': 8,\n",
       "  'CATEGORY': 'Service Indicators',\n",
       "  'FREQUENCY': 'M',\n",
       "  'INDICATOR_UNIT': '%',\n",
       "  'YTD_TARGET': 97.9,\n",
       "  'YTD_ACTUAL': 97.9,\n",
       "  'MONTHLY_TARGET': 97.9,\n",
       "  'MONTHLY_ACTUAL': 96.7},\n",
       " {'AGENCY_NAME': 'Metro-North Railroad',\n",
       "  'INDICATOR_NAME': 'Hudson Line - OTP',\n",
       "  'DESCRIPTION': 'Percent of commuter trains that arrive at their destinations within 5 minutes and 59 seconds of the scheduled time.',\n",
       "  'PERIOD_YEAR': 2009,\n",
       "  'PERIOD_MONTH': 9,\n",
       "  'CATEGORY': 'Service Indicators',\n",
       "  'FREQUENCY': 'M',\n",
       "  'INDICATOR_UNIT': '%',\n",
       "  'YTD_TARGET': 97.9,\n",
       "  'YTD_ACTUAL': 97.9,\n",
       "  'MONTHLY_TARGET': 97.9,\n",
       "  'MONTHLY_ACTUAL': 98.5},\n",
       " {'AGENCY_NAME': 'Metro-North Railroad',\n",
       "  'INDICATOR_NAME': 'Hudson Line - OTP',\n",
       "  'DESCRIPTION': 'Percent of commuter trains that arrive at their destinations within 5 minutes and 59 seconds of the scheduled time.',\n",
       "  'PERIOD_YEAR': 2009,\n",
       "  'PERIOD_MONTH': 10,\n",
       "  'CATEGORY': 'Service Indicators',\n",
       "  'FREQUENCY': 'M',\n",
       "  'INDICATOR_UNIT': '%',\n",
       "  'YTD_TARGET': 97.9,\n",
       "  'YTD_ACTUAL': 97.9,\n",
       "  'MONTHLY_TARGET': 97.9,\n",
       "  'MONTHLY_ACTUAL': 98.1},\n",
       " {'AGENCY_NAME': 'Metro-North Railroad',\n",
       "  'INDICATOR_NAME': 'Hudson Line - OTP',\n",
       "  'DESCRIPTION': 'Percent of commuter trains that arrive at their destinations within 5 minutes and 59 seconds of the scheduled time.',\n",
       "  'PERIOD_YEAR': 2009,\n",
       "  'PERIOD_MONTH': 11,\n",
       "  'CATEGORY': 'Service Indicators',\n",
       "  'FREQUENCY': 'M',\n",
       "  'INDICATOR_UNIT': '%',\n",
       "  'YTD_TARGET': 97.9,\n",
       "  'YTD_ACTUAL': 97.9,\n",
       "  'MONTHLY_TARGET': 97.9,\n",
       "  'MONTHLY_ACTUAL': 97.9},\n",
       " {'AGENCY_NAME': 'Metro-North Railroad',\n",
       "  'INDICATOR_NAME': 'Hudson Line - OTP',\n",
       "  'DESCRIPTION': 'Percent of commuter trains that arrive at their destinations within 5 minutes and 59 seconds of the scheduled time.',\n",
       "  'PERIOD_YEAR': 2009,\n",
       "  'PERIOD_MONTH': 12,\n",
       "  'CATEGORY': 'Service Indicators',\n",
       "  'FREQUENCY': 'M',\n",
       "  'INDICATOR_UNIT': '%',\n",
       "  'YTD_TARGET': 97.9,\n",
       "  'YTD_ACTUAL': 97.9,\n",
       "  'MONTHLY_TARGET': 97.9,\n",
       "  'MONTHLY_ACTUAL': 98.3},\n",
       " {'AGENCY_NAME': 'Metro-North Railroad',\n",
       "  'INDICATOR_NAME': 'Hudson Line - OTP',\n",
       "  'DESCRIPTION': 'Percent of commuter trains that arrive at their destinations within 5 minutes and 59 seconds of the scheduled time.',\n",
       "  'PERIOD_YEAR': 2010,\n",
       "  'PERIOD_MONTH': 1,\n",
       "  'CATEGORY': 'Service Indicators',\n",
       "  'FREQUENCY': 'M',\n",
       "  'INDICATOR_UNIT': '%',\n",
       "  'YTD_TARGET': 98.1,\n",
       "  'YTD_ACTUAL': 99.0,\n",
       "  'MONTHLY_TARGET': 98.1,\n",
       "  'MONTHLY_ACTUAL': 99.0},\n",
       " {'AGENCY_NAME': 'Metro-North Railroad',\n",
       "  'INDICATOR_NAME': 'Hudson Line - OTP',\n",
       "  'DESCRIPTION': 'Percent of commuter trains that arrive at their destinations within 5 minutes and 59 seconds of the scheduled time.',\n",
       "  'PERIOD_YEAR': 2010,\n",
       "  'PERIOD_MONTH': 2,\n",
       "  'CATEGORY': 'Service Indicators',\n",
       "  'FREQUENCY': 'M',\n",
       "  'INDICATOR_UNIT': '%',\n",
       "  'YTD_TARGET': 98.1,\n",
       "  'YTD_ACTUAL': 98.1,\n",
       "  'MONTHLY_TARGET': 98.1,\n",
       "  'MONTHLY_ACTUAL': 97.2},\n",
       " {'AGENCY_NAME': 'Metro-North Railroad',\n",
       "  'INDICATOR_NAME': 'Hudson Line - OTP',\n",
       "  'DESCRIPTION': 'Percent of commuter trains that arrive at their destinations within 5 minutes and 59 seconds of the scheduled time.',\n",
       "  'PERIOD_YEAR': 2010,\n",
       "  'PERIOD_MONTH': 3,\n",
       "  'CATEGORY': 'Service Indicators',\n",
       "  'FREQUENCY': 'M',\n",
       "  'INDICATOR_UNIT': '%',\n",
       "  'YTD_TARGET': 98.1,\n",
       "  'YTD_ACTUAL': 98.3,\n",
       "  'MONTHLY_TARGET': 98.1,\n",
       "  'MONTHLY_ACTUAL': 98.6},\n",
       " {'AGENCY_NAME': 'Metro-North Railroad',\n",
       "  'INDICATOR_NAME': 'Hudson Line - OTP',\n",
       "  'DESCRIPTION': 'Percent of commuter trains that arrive at their destinations within 5 minutes and 59 seconds of the scheduled time.',\n",
       "  'PERIOD_YEAR': 2010,\n",
       "  'PERIOD_MONTH': 4,\n",
       "  'CATEGORY': 'Service Indicators',\n",
       "  'FREQUENCY': 'M',\n",
       "  'INDICATOR_UNIT': '%',\n",
       "  'YTD_TARGET': 98.1,\n",
       "  'YTD_ACTUAL': 98.4,\n",
       "  'MONTHLY_TARGET': 98.1,\n",
       "  'MONTHLY_ACTUAL': 98.6},\n",
       " {'AGENCY_NAME': 'Metro-North Railroad',\n",
       "  'INDICATOR_NAME': 'Hudson Line - OTP',\n",
       "  'DESCRIPTION': 'Percent of commuter trains that arrive at their destinations within 5 minutes and 59 seconds of the scheduled time.',\n",
       "  'PERIOD_YEAR': 2010,\n",
       "  'PERIOD_MONTH': 5,\n",
       "  'CATEGORY': 'Service Indicators',\n",
       "  'FREQUENCY': 'M',\n",
       "  'INDICATOR_UNIT': '%',\n",
       "  'YTD_TARGET': 98.1,\n",
       "  'YTD_ACTUAL': 98.3,\n",
       "  'MONTHLY_TARGET': 98.1,\n",
       "  'MONTHLY_ACTUAL': 97.9},\n",
       " {'AGENCY_NAME': 'Metro-North Railroad',\n",
       "  'INDICATOR_NAME': 'Hudson Line - OTP',\n",
       "  'DESCRIPTION': 'Percent of commuter trains that arrive at their destinations within 5 minutes and 59 seconds of the scheduled time.',\n",
       "  'PERIOD_YEAR': 2010,\n",
       "  'PERIOD_MONTH': 6,\n",
       "  'CATEGORY': 'Service Indicators',\n",
       "  'FREQUENCY': 'M',\n",
       "  'INDICATOR_UNIT': '%',\n",
       "  'YTD_TARGET': 98.1,\n",
       "  'YTD_ACTUAL': 98.3,\n",
       "  'MONTHLY_TARGET': 98.1,\n",
       "  'MONTHLY_ACTUAL': 98.5},\n",
       " {'AGENCY_NAME': 'Metro-North Railroad',\n",
       "  'INDICATOR_NAME': 'Hudson Line - OTP',\n",
       "  'DESCRIPTION': 'Percent of commuter trains that arrive at their destinations within 5 minutes and 59 seconds of the scheduled time.',\n",
       "  'PERIOD_YEAR': 2010,\n",
       "  'PERIOD_MONTH': 7,\n",
       "  'CATEGORY': 'Service Indicators',\n",
       "  'FREQUENCY': 'M',\n",
       "  'INDICATOR_UNIT': '%',\n",
       "  'YTD_TARGET': 98.1,\n",
       "  'YTD_ACTUAL': 98.2,\n",
       "  'MONTHLY_TARGET': 98.1,\n",
       "  'MONTHLY_ACTUAL': 97.5},\n",
       " {'AGENCY_NAME': 'Metro-North Railroad',\n",
       "  'INDICATOR_NAME': 'Hudson Line - OTP',\n",
       "  'DESCRIPTION': 'Percent of commuter trains that arrive at their destinations within 5 minutes and 59 seconds of the scheduled time.',\n",
       "  'PERIOD_YEAR': 2010,\n",
       "  'PERIOD_MONTH': 8,\n",
       "  'CATEGORY': 'Service Indicators',\n",
       "  'FREQUENCY': 'M',\n",
       "  'INDICATOR_UNIT': '%',\n",
       "  'YTD_TARGET': 98.1,\n",
       "  'YTD_ACTUAL': 98.2,\n",
       "  'MONTHLY_TARGET': 98.1,\n",
       "  'MONTHLY_ACTUAL': 98.0},\n",
       " {'AGENCY_NAME': 'Metro-North Railroad',\n",
       "  'INDICATOR_NAME': 'Hudson Line - OTP',\n",
       "  'DESCRIPTION': 'Percent of commuter trains that arrive at their destinations within 5 minutes and 59 seconds of the scheduled time.',\n",
       "  'PERIOD_YEAR': 2010,\n",
       "  'PERIOD_MONTH': 9,\n",
       "  'CATEGORY': 'Service Indicators',\n",
       "  'FREQUENCY': 'M',\n",
       "  'INDICATOR_UNIT': '%',\n",
       "  'YTD_TARGET': 98.1,\n",
       "  'YTD_ACTUAL': 98.1,\n",
       "  'MONTHLY_TARGET': 98.1,\n",
       "  'MONTHLY_ACTUAL': 97.4},\n",
       " {'AGENCY_NAME': 'Metro-North Railroad',\n",
       "  'INDICATOR_NAME': 'Hudson Line - OTP',\n",
       "  'DESCRIPTION': 'Percent of commuter trains that arrive at their destinations within 5 minutes and 59 seconds of the scheduled time.',\n",
       "  'PERIOD_YEAR': 2010,\n",
       "  'PERIOD_MONTH': 10,\n",
       "  'CATEGORY': 'Service Indicators',\n",
       "  'FREQUENCY': 'M',\n",
       "  'INDICATOR_UNIT': '%',\n",
       "  'YTD_TARGET': 98.1,\n",
       "  'YTD_ACTUAL': 98.1,\n",
       "  'MONTHLY_TARGET': 98.1,\n",
       "  'MONTHLY_ACTUAL': 97.8},\n",
       " {'AGENCY_NAME': 'Metro-North Railroad',\n",
       "  'INDICATOR_NAME': 'Hudson Line - OTP',\n",
       "  'DESCRIPTION': 'Percent of commuter trains that arrive at their destinations within 5 minutes and 59 seconds of the scheduled time.',\n",
       "  'PERIOD_YEAR': 2010,\n",
       "  'PERIOD_MONTH': 11,\n",
       "  'CATEGORY': 'Service Indicators',\n",
       "  'FREQUENCY': 'M',\n",
       "  'INDICATOR_UNIT': '%',\n",
       "  'YTD_TARGET': 98.1,\n",
       "  'YTD_ACTUAL': 98.1,\n",
       "  'MONTHLY_TARGET': 98.1,\n",
       "  'MONTHLY_ACTUAL': 98.1},\n",
       " {'AGENCY_NAME': 'Metro-North Railroad',\n",
       "  'INDICATOR_NAME': 'Hudson Line - OTP',\n",
       "  'DESCRIPTION': 'Percent of commuter trains that arrive at their destinations within 5 minutes and 59 seconds of the scheduled time.',\n",
       "  'PERIOD_YEAR': 2010,\n",
       "  'PERIOD_MONTH': 12,\n",
       "  'CATEGORY': 'Service Indicators',\n",
       "  'FREQUENCY': 'M',\n",
       "  'INDICATOR_UNIT': '%',\n",
       "  'YTD_TARGET': 98.1,\n",
       "  'YTD_ACTUAL': 98.0,\n",
       "  'MONTHLY_TARGET': 98.1,\n",
       "  'MONTHLY_ACTUAL': 97.1},\n",
       " {'AGENCY_NAME': 'Metro-North Railroad',\n",
       "  'INDICATOR_NAME': 'Hudson Line - OTP',\n",
       "  'DESCRIPTION': 'Percent of commuter trains that arrive at their destinations within 5 minutes and 59 seconds of the scheduled time.',\n",
       "  'PERIOD_YEAR': 2011,\n",
       "  'PERIOD_MONTH': 1,\n",
       "  'CATEGORY': 'Service Indicators',\n",
       "  'FREQUENCY': 'M',\n",
       "  'INDICATOR_UNIT': '%',\n",
       "  'YTD_TARGET': 98.2,\n",
       "  'YTD_ACTUAL': 97.4,\n",
       "  'MONTHLY_TARGET': 98.2,\n",
       "  'MONTHLY_ACTUAL': 97.4},\n",
       " {'AGENCY_NAME': 'Metro-North Railroad',\n",
       "  'INDICATOR_NAME': 'Hudson Line - OTP',\n",
       "  'DESCRIPTION': 'Percent of commuter trains that arrive at their destinations within 5 minutes and 59 seconds of the scheduled time.',\n",
       "  'PERIOD_YEAR': 2011,\n",
       "  'PERIOD_MONTH': 2,\n",
       "  'CATEGORY': 'Service Indicators',\n",
       "  'FREQUENCY': 'M',\n",
       "  'INDICATOR_UNIT': '%',\n",
       "  'YTD_TARGET': 98.2,\n",
       "  'YTD_ACTUAL': 97.7,\n",
       "  'MONTHLY_TARGET': 98.2,\n",
       "  'MONTHLY_ACTUAL': 98.1},\n",
       " {'AGENCY_NAME': 'Metro-North Railroad',\n",
       "  'INDICATOR_NAME': 'Hudson Line - OTP',\n",
       "  'DESCRIPTION': 'Percent of commuter trains that arrive at their destinations within 5 minutes and 59 seconds of the scheduled time.',\n",
       "  'PERIOD_YEAR': 2011,\n",
       "  'PERIOD_MONTH': 3,\n",
       "  'CATEGORY': 'Service Indicators',\n",
       "  'FREQUENCY': 'M',\n",
       "  'INDICATOR_UNIT': '%',\n",
       "  'YTD_TARGET': 98.2,\n",
       "  'YTD_ACTUAL': 97.9,\n",
       "  'MONTHLY_TARGET': 98.2,\n",
       "  'MONTHLY_ACTUAL': 98.3},\n",
       " {'AGENCY_NAME': 'Metro-North Railroad',\n",
       "  'INDICATOR_NAME': 'Hudson Line - OTP',\n",
       "  'DESCRIPTION': 'Percent of commuter trains that arrive at their destinations within 5 minutes and 59 seconds of the scheduled time.',\n",
       "  'PERIOD_YEAR': 2011,\n",
       "  'PERIOD_MONTH': 4,\n",
       "  'CATEGORY': 'Service Indicators',\n",
       "  'FREQUENCY': 'M',\n",
       "  'INDICATOR_UNIT': '%',\n",
       "  'YTD_TARGET': 98.2,\n",
       "  'YTD_ACTUAL': 98.1,\n",
       "  'MONTHLY_TARGET': 98.2,\n",
       "  'MONTHLY_ACTUAL': 98.7},\n",
       " {'AGENCY_NAME': 'Metro-North Railroad',\n",
       "  'INDICATOR_NAME': 'Hudson Line - OTP',\n",
       "  'DESCRIPTION': 'Percent of commuter trains that arrive at their destinations within 5 minutes and 59 seconds of the scheduled time.',\n",
       "  'PERIOD_YEAR': 2011,\n",
       "  'PERIOD_MONTH': 5,\n",
       "  'CATEGORY': 'Service Indicators',\n",
       "  'FREQUENCY': 'M',\n",
       "  'INDICATOR_UNIT': '%',\n",
       "  'YTD_TARGET': 98.2,\n",
       "  'YTD_ACTUAL': '',\n",
       "  'MONTHLY_TARGET': 98.2,\n",
       "  'MONTHLY_ACTUAL': ''},\n",
       " {'AGENCY_NAME': 'Metro-North Railroad',\n",
       "  'INDICATOR_NAME': 'Hudson Line - OTP',\n",
       "  'DESCRIPTION': 'Percent of commuter trains that arrive at their destinations within 5 minutes and 59 seconds of the scheduled time.',\n",
       "  'PERIOD_YEAR': 2011,\n",
       "  'PERIOD_MONTH': 6,\n",
       "  'CATEGORY': 'Service Indicators',\n",
       "  'FREQUENCY': 'M',\n",
       "  'INDICATOR_UNIT': '%',\n",
       "  'YTD_TARGET': 98.2,\n",
       "  'YTD_ACTUAL': '',\n",
       "  'MONTHLY_TARGET': 98.2,\n",
       "  'MONTHLY_ACTUAL': ''},\n",
       " {'AGENCY_NAME': 'Metro-North Railroad',\n",
       "  'INDICATOR_NAME': 'Hudson Line - OTP',\n",
       "  'DESCRIPTION': 'Percent of commuter trains that arrive at their destinations within 5 minutes and 59 seconds of the scheduled time.',\n",
       "  'PERIOD_YEAR': 2011,\n",
       "  'PERIOD_MONTH': 7,\n",
       "  'CATEGORY': 'Service Indicators',\n",
       "  'FREQUENCY': 'M',\n",
       "  'INDICATOR_UNIT': '%',\n",
       "  'YTD_TARGET': 98.2,\n",
       "  'YTD_ACTUAL': '',\n",
       "  'MONTHLY_TARGET': 98.2,\n",
       "  'MONTHLY_ACTUAL': ''},\n",
       " {'AGENCY_NAME': 'Metro-North Railroad',\n",
       "  'INDICATOR_NAME': 'Hudson Line - OTP',\n",
       "  'DESCRIPTION': 'Percent of commuter trains that arrive at their destinations within 5 minutes and 59 seconds of the scheduled time.',\n",
       "  'PERIOD_YEAR': 2011,\n",
       "  'PERIOD_MONTH': 8,\n",
       "  'CATEGORY': 'Service Indicators',\n",
       "  'FREQUENCY': 'M',\n",
       "  'INDICATOR_UNIT': '%',\n",
       "  'YTD_TARGET': 98.2,\n",
       "  'YTD_ACTUAL': '',\n",
       "  'MONTHLY_TARGET': 98.2,\n",
       "  'MONTHLY_ACTUAL': ''},\n",
       " {'AGENCY_NAME': 'Metro-North Railroad',\n",
       "  'INDICATOR_NAME': 'Hudson Line - OTP',\n",
       "  'DESCRIPTION': 'Percent of commuter trains that arrive at their destinations within 5 minutes and 59 seconds of the scheduled time.',\n",
       "  'PERIOD_YEAR': 2011,\n",
       "  'PERIOD_MONTH': 9,\n",
       "  'CATEGORY': 'Service Indicators',\n",
       "  'FREQUENCY': 'M',\n",
       "  'INDICATOR_UNIT': '%',\n",
       "  'YTD_TARGET': 98.2,\n",
       "  'YTD_ACTUAL': '',\n",
       "  'MONTHLY_TARGET': 98.2,\n",
       "  'MONTHLY_ACTUAL': ''},\n",
       " {'AGENCY_NAME': 'Metro-North Railroad',\n",
       "  'INDICATOR_NAME': 'Hudson Line - OTP',\n",
       "  'DESCRIPTION': 'Percent of commuter trains that arrive at their destinations within 5 minutes and 59 seconds of the scheduled time.',\n",
       "  'PERIOD_YEAR': 2011,\n",
       "  'PERIOD_MONTH': 10,\n",
       "  'CATEGORY': 'Service Indicators',\n",
       "  'FREQUENCY': 'M',\n",
       "  'INDICATOR_UNIT': '%',\n",
       "  'YTD_TARGET': 98.2,\n",
       "  'YTD_ACTUAL': '',\n",
       "  'MONTHLY_TARGET': 98.2,\n",
       "  'MONTHLY_ACTUAL': ''},\n",
       " {'AGENCY_NAME': 'Metro-North Railroad',\n",
       "  'INDICATOR_NAME': 'Hudson Line - OTP',\n",
       "  'DESCRIPTION': 'Percent of commuter trains that arrive at their destinations within 5 minutes and 59 seconds of the scheduled time.',\n",
       "  'PERIOD_YEAR': 2011,\n",
       "  'PERIOD_MONTH': 11,\n",
       "  'CATEGORY': 'Service Indicators',\n",
       "  'FREQUENCY': 'M',\n",
       "  'INDICATOR_UNIT': '%',\n",
       "  'YTD_TARGET': 98.2,\n",
       "  'YTD_ACTUAL': '',\n",
       "  'MONTHLY_TARGET': 98.2,\n",
       "  'MONTHLY_ACTUAL': ''},\n",
       " {'AGENCY_NAME': 'Metro-North Railroad',\n",
       "  'INDICATOR_NAME': 'Hudson Line - OTP',\n",
       "  'DESCRIPTION': 'Percent of commuter trains that arrive at their destinations within 5 minutes and 59 seconds of the scheduled time.',\n",
       "  'PERIOD_YEAR': 2011,\n",
       "  'PERIOD_MONTH': 12,\n",
       "  'CATEGORY': 'Service Indicators',\n",
       "  'FREQUENCY': 'M',\n",
       "  'INDICATOR_UNIT': '%',\n",
       "  'YTD_TARGET': 98.2,\n",
       "  'YTD_ACTUAL': '',\n",
       "  'MONTHLY_TARGET': 98.2,\n",
       "  'MONTHLY_ACTUAL': ''},\n",
       " {'AGENCY_NAME': 'Metro-North Railroad',\n",
       "  'INDICATOR_NAME': 'Harlem Line - OTP',\n",
       "  'DESCRIPTION': 'Percent of commuter trains that arrive at their destinations within 5 minutes and 59 seconds of the scheduled time.',\n",
       "  'PERIOD_YEAR': 2008,\n",
       "  'PERIOD_MONTH': 1,\n",
       "  'CATEGORY': 'Service Indicators',\n",
       "  'FREQUENCY': 'M',\n",
       "  'INDICATOR_UNIT': '%',\n",
       "  'YTD_TARGET': 98.0,\n",
       "  'YTD_ACTUAL': 99.0,\n",
       "  'MONTHLY_TARGET': 98.0,\n",
       "  'MONTHLY_ACTUAL': 99.0},\n",
       " {'AGENCY_NAME': 'Metro-North Railroad',\n",
       "  'INDICATOR_NAME': 'Harlem Line - OTP',\n",
       "  'DESCRIPTION': 'Percent of commuter trains that arrive at their destinations within 5 minutes and 59 seconds of the scheduled time.',\n",
       "  'PERIOD_YEAR': 2008,\n",
       "  'PERIOD_MONTH': 2,\n",
       "  'CATEGORY': 'Service Indicators',\n",
       "  'FREQUENCY': 'M',\n",
       "  'INDICATOR_UNIT': '%',\n",
       "  'YTD_TARGET': 98.0,\n",
       "  'YTD_ACTUAL': 99.1,\n",
       "  'MONTHLY_TARGET': 98.0,\n",
       "  'MONTHLY_ACTUAL': 99.2},\n",
       " {'AGENCY_NAME': 'Metro-North Railroad',\n",
       "  'INDICATOR_NAME': 'Harlem Line - OTP',\n",
       "  'DESCRIPTION': 'Percent of commuter trains that arrive at their destinations within 5 minutes and 59 seconds of the scheduled time.',\n",
       "  'PERIOD_YEAR': 2008,\n",
       "  'PERIOD_MONTH': 3,\n",
       "  'CATEGORY': 'Service Indicators',\n",
       "  'FREQUENCY': 'M',\n",
       "  'INDICATOR_UNIT': '%',\n",
       "  'YTD_TARGET': 98.0,\n",
       "  'YTD_ACTUAL': 98.5,\n",
       "  'MONTHLY_TARGET': 98.0,\n",
       "  'MONTHLY_ACTUAL': 97.2},\n",
       " {'AGENCY_NAME': 'Metro-North Railroad',\n",
       "  'INDICATOR_NAME': 'Harlem Line - OTP',\n",
       "  'DESCRIPTION': 'Percent of commuter trains that arrive at their destinations within 5 minutes and 59 seconds of the scheduled time.',\n",
       "  'PERIOD_YEAR': 2008,\n",
       "  'PERIOD_MONTH': 4,\n",
       "  'CATEGORY': 'Service Indicators',\n",
       "  'FREQUENCY': 'M',\n",
       "  'INDICATOR_UNIT': '%',\n",
       "  'YTD_TARGET': 98.0,\n",
       "  'YTD_ACTUAL': 98.7,\n",
       "  'MONTHLY_TARGET': 98.0,\n",
       "  'MONTHLY_ACTUAL': 99.2},\n",
       " {'AGENCY_NAME': 'Metro-North Railroad',\n",
       "  'INDICATOR_NAME': 'Harlem Line - OTP',\n",
       "  'DESCRIPTION': 'Percent of commuter trains that arrive at their destinations within 5 minutes and 59 seconds of the scheduled time.',\n",
       "  'PERIOD_YEAR': 2008,\n",
       "  'PERIOD_MONTH': 5,\n",
       "  'CATEGORY': 'Service Indicators',\n",
       "  'FREQUENCY': 'M',\n",
       "  'INDICATOR_UNIT': '%',\n",
       "  'YTD_TARGET': 98.0,\n",
       "  'YTD_ACTUAL': 98.7,\n",
       "  'MONTHLY_TARGET': 98.0,\n",
       "  'MONTHLY_ACTUAL': 98.6},\n",
       " {'AGENCY_NAME': 'Metro-North Railroad',\n",
       "  'INDICATOR_NAME': 'Harlem Line - OTP',\n",
       "  'DESCRIPTION': 'Percent of commuter trains that arrive at their destinations within 5 minutes and 59 seconds of the scheduled time.',\n",
       "  'PERIOD_YEAR': 2008,\n",
       "  'PERIOD_MONTH': 6,\n",
       "  'CATEGORY': 'Service Indicators',\n",
       "  'FREQUENCY': 'M',\n",
       "  'INDICATOR_UNIT': '%',\n",
       "  'YTD_TARGET': 98.0,\n",
       "  'YTD_ACTUAL': 98.5,\n",
       "  'MONTHLY_TARGET': 98.0,\n",
       "  'MONTHLY_ACTUAL': 97.8},\n",
       " {'AGENCY_NAME': 'Metro-North Railroad',\n",
       "  'INDICATOR_NAME': 'Harlem Line - OTP',\n",
       "  'DESCRIPTION': 'Percent of commuter trains that arrive at their destinations within 5 minutes and 59 seconds of the scheduled time.',\n",
       "  'PERIOD_YEAR': 2008,\n",
       "  'PERIOD_MONTH': 7,\n",
       "  'CATEGORY': 'Service Indicators',\n",
       "  'FREQUENCY': 'M',\n",
       "  'INDICATOR_UNIT': '%',\n",
       "  'YTD_TARGET': 98.0,\n",
       "  'YTD_ACTUAL': 98.4,\n",
       "  'MONTHLY_TARGET': 98.0,\n",
       "  'MONTHLY_ACTUAL': 98.0},\n",
       " {'AGENCY_NAME': 'Metro-North Railroad',\n",
       "  'INDICATOR_NAME': 'Harlem Line - OTP',\n",
       "  'DESCRIPTION': 'Percent of commuter trains that arrive at their destinations within 5 minutes and 59 seconds of the scheduled time.',\n",
       "  'PERIOD_YEAR': 2008,\n",
       "  'PERIOD_MONTH': 8,\n",
       "  'CATEGORY': 'Service Indicators',\n",
       "  'FREQUENCY': 'M',\n",
       "  'INDICATOR_UNIT': '%',\n",
       "  'YTD_TARGET': 98.0,\n",
       "  'YTD_ACTUAL': 98.4,\n",
       "  'MONTHLY_TARGET': 98.0,\n",
       "  'MONTHLY_ACTUAL': 98.2},\n",
       " {'AGENCY_NAME': 'Metro-North Railroad',\n",
       "  'INDICATOR_NAME': 'Harlem Line - OTP',\n",
       "  'DESCRIPTION': 'Percent of commuter trains that arrive at their destinations within 5 minutes and 59 seconds of the scheduled time.',\n",
       "  'PERIOD_YEAR': 2008,\n",
       "  'PERIOD_MONTH': 9,\n",
       "  'CATEGORY': 'Service Indicators',\n",
       "  'FREQUENCY': 'M',\n",
       "  'INDICATOR_UNIT': '%',\n",
       "  'YTD_TARGET': 98.0,\n",
       "  'YTD_ACTUAL': 98.3,\n",
       "  'MONTHLY_TARGET': 98.0,\n",
       "  'MONTHLY_ACTUAL': 97.7},\n",
       " {'AGENCY_NAME': 'Metro-North Railroad',\n",
       "  'INDICATOR_NAME': 'Harlem Line - OTP',\n",
       "  'DESCRIPTION': 'Percent of commuter trains that arrive at their destinations within 5 minutes and 59 seconds of the scheduled time.',\n",
       "  'PERIOD_YEAR': 2008,\n",
       "  'PERIOD_MONTH': 10,\n",
       "  'CATEGORY': 'Service Indicators',\n",
       "  'FREQUENCY': 'M',\n",
       "  'INDICATOR_UNIT': '%',\n",
       "  'YTD_TARGET': 98.0,\n",
       "  'YTD_ACTUAL': 98.3,\n",
       "  'MONTHLY_TARGET': 98.0,\n",
       "  'MONTHLY_ACTUAL': 97.8},\n",
       " {'AGENCY_NAME': 'Metro-North Railroad',\n",
       "  'INDICATOR_NAME': 'Harlem Line - OTP',\n",
       "  'DESCRIPTION': 'Percent of commuter trains that arrive at their destinations within 5 minutes and 59 seconds of the scheduled time.',\n",
       "  'PERIOD_YEAR': 2008,\n",
       "  'PERIOD_MONTH': 11,\n",
       "  'CATEGORY': 'Service Indicators',\n",
       "  'FREQUENCY': 'M',\n",
       "  'INDICATOR_UNIT': '%',\n",
       "  'YTD_TARGET': 98.0,\n",
       "  'YTD_ACTUAL': 98.3,\n",
       "  'MONTHLY_TARGET': 98.0,\n",
       "  'MONTHLY_ACTUAL': 98.1},\n",
       " {'AGENCY_NAME': 'Metro-North Railroad',\n",
       "  'INDICATOR_NAME': 'Harlem Line - OTP',\n",
       "  'DESCRIPTION': 'Percent of commuter trains that arrive at their destinations within 5 minutes and 59 seconds of the scheduled time.',\n",
       "  'PERIOD_YEAR': 2008,\n",
       "  'PERIOD_MONTH': 12,\n",
       "  'CATEGORY': 'Service Indicators',\n",
       "  'FREQUENCY': 'M',\n",
       "  'INDICATOR_UNIT': '%',\n",
       "  'YTD_TARGET': 98.0,\n",
       "  'YTD_ACTUAL': 98.2,\n",
       "  'MONTHLY_TARGET': 98.0,\n",
       "  'MONTHLY_ACTUAL': 97.6},\n",
       " {'AGENCY_NAME': 'Metro-North Railroad',\n",
       "  'INDICATOR_NAME': 'Harlem Line - OTP',\n",
       "  'DESCRIPTION': 'Percent of commuter trains that arrive at their destinations within 5 minutes and 59 seconds of the scheduled time.',\n",
       "  'PERIOD_YEAR': 2009,\n",
       "  'PERIOD_MONTH': 1,\n",
       "  'CATEGORY': 'Service Indicators',\n",
       "  'FREQUENCY': 'M',\n",
       "  'INDICATOR_UNIT': '%',\n",
       "  'YTD_TARGET': 98.2,\n",
       "  'YTD_ACTUAL': 97.8,\n",
       "  'MONTHLY_TARGET': 98.2,\n",
       "  'MONTHLY_ACTUAL': 97.8},\n",
       " {'AGENCY_NAME': 'Metro-North Railroad',\n",
       "  'INDICATOR_NAME': 'Harlem Line - OTP',\n",
       "  'DESCRIPTION': 'Percent of commuter trains that arrive at their destinations within 5 minutes and 59 seconds of the scheduled time.',\n",
       "  'PERIOD_YEAR': 2009,\n",
       "  'PERIOD_MONTH': 2,\n",
       "  'CATEGORY': 'Service Indicators',\n",
       "  'FREQUENCY': 'M',\n",
       "  'INDICATOR_UNIT': '%',\n",
       "  'YTD_TARGET': 98.2,\n",
       "  'YTD_ACTUAL': 98.2,\n",
       "  'MONTHLY_TARGET': 98.2,\n",
       "  'MONTHLY_ACTUAL': 98.6},\n",
       " {'AGENCY_NAME': 'Metro-North Railroad',\n",
       "  'INDICATOR_NAME': 'Harlem Line - OTP',\n",
       "  'DESCRIPTION': 'Percent of commuter trains that arrive at their destinations within 5 minutes and 59 seconds of the scheduled time.',\n",
       "  'PERIOD_YEAR': 2009,\n",
       "  'PERIOD_MONTH': 3,\n",
       "  'CATEGORY': 'Service Indicators',\n",
       "  'FREQUENCY': 'M',\n",
       "  'INDICATOR_UNIT': '%',\n",
       "  'YTD_TARGET': 98.2,\n",
       "  'YTD_ACTUAL': 98.5,\n",
       "  'MONTHLY_TARGET': 98.2,\n",
       "  'MONTHLY_ACTUAL': 99.1},\n",
       " {'AGENCY_NAME': 'Metro-North Railroad',\n",
       "  'INDICATOR_NAME': 'Harlem Line - OTP',\n",
       "  'DESCRIPTION': 'Percent of commuter trains that arrive at their destinations within 5 minutes and 59 seconds of the scheduled time.',\n",
       "  'PERIOD_YEAR': 2009,\n",
       "  'PERIOD_MONTH': 4,\n",
       "  'CATEGORY': 'Service Indicators',\n",
       "  'FREQUENCY': 'M',\n",
       "  'INDICATOR_UNIT': '%',\n",
       "  'YTD_TARGET': 98.2,\n",
       "  'YTD_ACTUAL': 98.6,\n",
       "  'MONTHLY_TARGET': 98.2,\n",
       "  'MONTHLY_ACTUAL': 98.9},\n",
       " {'AGENCY_NAME': 'Metro-North Railroad',\n",
       "  'INDICATOR_NAME': 'Harlem Line - OTP',\n",
       "  'DESCRIPTION': 'Percent of commuter trains that arrive at their destinations within 5 minutes and 59 seconds of the scheduled time.',\n",
       "  'PERIOD_YEAR': 2009,\n",
       "  'PERIOD_MONTH': 5,\n",
       "  'CATEGORY': 'Service Indicators',\n",
       "  'FREQUENCY': 'M',\n",
       "  'INDICATOR_UNIT': '%',\n",
       "  'YTD_TARGET': 98.2,\n",
       "  'YTD_ACTUAL': 98.7,\n",
       "  'MONTHLY_TARGET': 98.2,\n",
       "  'MONTHLY_ACTUAL': 98.9},\n",
       " {'AGENCY_NAME': 'Metro-North Railroad',\n",
       "  'INDICATOR_NAME': 'Harlem Line - OTP',\n",
       "  'DESCRIPTION': 'Percent of commuter trains that arrive at their destinations within 5 minutes and 59 seconds of the scheduled time.',\n",
       "  'PERIOD_YEAR': 2009,\n",
       "  'PERIOD_MONTH': 6,\n",
       "  'CATEGORY': 'Service Indicators',\n",
       "  'FREQUENCY': 'M',\n",
       "  'INDICATOR_UNIT': '%',\n",
       "  'YTD_TARGET': 98.2,\n",
       "  'YTD_ACTUAL': 98.7,\n",
       "  'MONTHLY_TARGET': 98.2,\n",
       "  'MONTHLY_ACTUAL': 99.0},\n",
       " {'AGENCY_NAME': 'Metro-North Railroad',\n",
       "  'INDICATOR_NAME': 'Harlem Line - OTP',\n",
       "  'DESCRIPTION': 'Percent of commuter trains that arrive at their destinations within 5 minutes and 59 seconds of the scheduled time.',\n",
       "  'PERIOD_YEAR': 2009,\n",
       "  'PERIOD_MONTH': 7,\n",
       "  'CATEGORY': 'Service Indicators',\n",
       "  'FREQUENCY': 'M',\n",
       "  'INDICATOR_UNIT': '%',\n",
       "  'YTD_TARGET': 98.2,\n",
       "  'YTD_ACTUAL': 98.7,\n",
       "  'MONTHLY_TARGET': 98.2,\n",
       "  'MONTHLY_ACTUAL': 98.7},\n",
       " {'AGENCY_NAME': 'Metro-North Railroad',\n",
       "  'INDICATOR_NAME': 'Harlem Line - OTP',\n",
       "  'DESCRIPTION': 'Percent of commuter trains that arrive at their destinations within 5 minutes and 59 seconds of the scheduled time.',\n",
       "  'PERIOD_YEAR': 2009,\n",
       "  'PERIOD_MONTH': 8,\n",
       "  'CATEGORY': 'Service Indicators',\n",
       "  'FREQUENCY': 'M',\n",
       "  'INDICATOR_UNIT': '%',\n",
       "  'YTD_TARGET': 98.2,\n",
       "  'YTD_ACTUAL': 98.7,\n",
       "  'MONTHLY_TARGET': 98.2,\n",
       "  'MONTHLY_ACTUAL': 98.5},\n",
       " {'AGENCY_NAME': 'Metro-North Railroad',\n",
       "  'INDICATOR_NAME': 'Harlem Line - OTP',\n",
       "  'DESCRIPTION': 'Percent of commuter trains that arrive at their destinations within 5 minutes and 59 seconds of the scheduled time.',\n",
       "  'PERIOD_YEAR': 2009,\n",
       "  'PERIOD_MONTH': 9,\n",
       "  'CATEGORY': 'Service Indicators',\n",
       "  'FREQUENCY': 'M',\n",
       "  'INDICATOR_UNIT': '%',\n",
       "  'YTD_TARGET': 98.2,\n",
       "  'YTD_ACTUAL': 98.6,\n",
       "  'MONTHLY_TARGET': 98.2,\n",
       "  'MONTHLY_ACTUAL': 98.2},\n",
       " {'AGENCY_NAME': 'Metro-North Railroad',\n",
       "  'INDICATOR_NAME': 'Harlem Line - OTP',\n",
       "  'DESCRIPTION': 'Percent of commuter trains that arrive at their destinations within 5 minutes and 59 seconds of the scheduled time.',\n",
       "  'PERIOD_YEAR': 2009,\n",
       "  'PERIOD_MONTH': 10,\n",
       "  'CATEGORY': 'Service Indicators',\n",
       "  'FREQUENCY': 'M',\n",
       "  'INDICATOR_UNIT': '%',\n",
       "  'YTD_TARGET': 98.2,\n",
       "  'YTD_ACTUAL': 98.6,\n",
       "  'MONTHLY_TARGET': 98.2,\n",
       "  'MONTHLY_ACTUAL': 98.1},\n",
       " {'AGENCY_NAME': 'Metro-North Railroad',\n",
       "  'INDICATOR_NAME': 'Harlem Line - OTP',\n",
       "  'DESCRIPTION': 'Percent of commuter trains that arrive at their destinations within 5 minutes and 59 seconds of the scheduled time.',\n",
       "  'PERIOD_YEAR': 2009,\n",
       "  'PERIOD_MONTH': 11,\n",
       "  'CATEGORY': 'Service Indicators',\n",
       "  'FREQUENCY': 'M',\n",
       "  'INDICATOR_UNIT': '%',\n",
       "  'YTD_TARGET': 98.2,\n",
       "  'YTD_ACTUAL': 98.6,\n",
       "  'MONTHLY_TARGET': 98.2,\n",
       "  'MONTHLY_ACTUAL': 98.5},\n",
       " {'AGENCY_NAME': 'Metro-North Railroad',\n",
       "  'INDICATOR_NAME': 'Harlem Line - OTP',\n",
       "  'DESCRIPTION': 'Percent of commuter trains that arrive at their destinations within 5 minutes and 59 seconds of the scheduled time.',\n",
       "  'PERIOD_YEAR': 2009,\n",
       "  'PERIOD_MONTH': 12,\n",
       "  'CATEGORY': 'Service Indicators',\n",
       "  'FREQUENCY': 'M',\n",
       "  'INDICATOR_UNIT': '%',\n",
       "  'YTD_TARGET': 98.2,\n",
       "  'YTD_ACTUAL': 98.6,\n",
       "  'MONTHLY_TARGET': 98.2,\n",
       "  'MONTHLY_ACTUAL': 98.8},\n",
       " {'AGENCY_NAME': 'Metro-North Railroad',\n",
       "  'INDICATOR_NAME': 'Harlem Line - OTP',\n",
       "  'DESCRIPTION': 'Percent of commuter trains that arrive at their destinations within 5 minutes and 59 seconds of the scheduled time.',\n",
       "  'PERIOD_YEAR': 2010,\n",
       "  'PERIOD_MONTH': 1,\n",
       "  'CATEGORY': 'Service Indicators',\n",
       "  'FREQUENCY': 'M',\n",
       "  'INDICATOR_UNIT': '%',\n",
       "  'YTD_TARGET': 98.3,\n",
       "  'YTD_ACTUAL': 99.1,\n",
       "  'MONTHLY_TARGET': 98.3,\n",
       "  'MONTHLY_ACTUAL': 99.1},\n",
       " {'AGENCY_NAME': 'Metro-North Railroad',\n",
       "  'INDICATOR_NAME': 'Harlem Line - OTP',\n",
       "  'DESCRIPTION': 'Percent of commuter trains that arrive at their destinations within 5 minutes and 59 seconds of the scheduled time.',\n",
       "  'PERIOD_YEAR': 2010,\n",
       "  'PERIOD_MONTH': 2,\n",
       "  'CATEGORY': 'Service Indicators',\n",
       "  'FREQUENCY': 'M',\n",
       "  'INDICATOR_UNIT': '%',\n",
       "  'YTD_TARGET': 98.3,\n",
       "  'YTD_ACTUAL': 98.6,\n",
       "  'MONTHLY_TARGET': 98.3,\n",
       "  'MONTHLY_ACTUAL': 98.1},\n",
       " {'AGENCY_NAME': 'Metro-North Railroad',\n",
       "  'INDICATOR_NAME': 'Harlem Line - OTP',\n",
       "  'DESCRIPTION': 'Percent of commuter trains that arrive at their destinations within 5 minutes and 59 seconds of the scheduled time.',\n",
       "  'PERIOD_YEAR': 2010,\n",
       "  'PERIOD_MONTH': 3,\n",
       "  'CATEGORY': 'Service Indicators',\n",
       "  'FREQUENCY': 'M',\n",
       "  'INDICATOR_UNIT': '%',\n",
       "  'YTD_TARGET': 98.3,\n",
       "  'YTD_ACTUAL': 98.7,\n",
       "  'MONTHLY_TARGET': 98.3,\n",
       "  'MONTHLY_ACTUAL': 98.8},\n",
       " {'AGENCY_NAME': 'Metro-North Railroad',\n",
       "  'INDICATOR_NAME': 'Harlem Line - OTP',\n",
       "  'DESCRIPTION': 'Percent of commuter trains that arrive at their destinations within 5 minutes and 59 seconds of the scheduled time.',\n",
       "  'PERIOD_YEAR': 2010,\n",
       "  'PERIOD_MONTH': 4,\n",
       "  'CATEGORY': 'Service Indicators',\n",
       "  'FREQUENCY': 'M',\n",
       "  'INDICATOR_UNIT': '%',\n",
       "  'YTD_TARGET': 98.3,\n",
       "  'YTD_ACTUAL': 98.6,\n",
       "  'MONTHLY_TARGET': 98.3,\n",
       "  'MONTHLY_ACTUAL': 98.4},\n",
       " {'AGENCY_NAME': 'Metro-North Railroad',\n",
       "  'INDICATOR_NAME': 'Harlem Line - OTP',\n",
       "  'DESCRIPTION': 'Percent of commuter trains that arrive at their destinations within 5 minutes and 59 seconds of the scheduled time.',\n",
       "  'PERIOD_YEAR': 2010,\n",
       "  'PERIOD_MONTH': 5,\n",
       "  'CATEGORY': 'Service Indicators',\n",
       "  'FREQUENCY': 'M',\n",
       "  'INDICATOR_UNIT': '%',\n",
       "  'YTD_TARGET': 98.3,\n",
       "  'YTD_ACTUAL': 98.7,\n",
       "  'MONTHLY_TARGET': 98.3,\n",
       "  'MONTHLY_ACTUAL': 99.2},\n",
       " {'AGENCY_NAME': 'Metro-North Railroad',\n",
       "  'INDICATOR_NAME': 'Harlem Line - OTP',\n",
       "  'DESCRIPTION': 'Percent of commuter trains that arrive at their destinations within 5 minutes and 59 seconds of the scheduled time.',\n",
       "  'PERIOD_YEAR': 2010,\n",
       "  'PERIOD_MONTH': 6,\n",
       "  'CATEGORY': 'Service Indicators',\n",
       "  'FREQUENCY': 'M',\n",
       "  'INDICATOR_UNIT': '%',\n",
       "  'YTD_TARGET': 98.3,\n",
       "  'YTD_ACTUAL': 98.8,\n",
       "  'MONTHLY_TARGET': 98.3,\n",
       "  'MONTHLY_ACTUAL': 99.0},\n",
       " {'AGENCY_NAME': 'Metro-North Railroad',\n",
       "  'INDICATOR_NAME': 'Harlem Line - OTP',\n",
       "  'DESCRIPTION': 'Percent of commuter trains that arrive at their destinations within 5 minutes and 59 seconds of the scheduled time.',\n",
       "  'PERIOD_YEAR': 2010,\n",
       "  'PERIOD_MONTH': 7,\n",
       "  'CATEGORY': 'Service Indicators',\n",
       "  'FREQUENCY': 'M',\n",
       "  'INDICATOR_UNIT': '%',\n",
       "  'YTD_TARGET': 98.3,\n",
       "  'YTD_ACTUAL': 98.7,\n",
       "  'MONTHLY_TARGET': 98.3,\n",
       "  'MONTHLY_ACTUAL': 98.2},\n",
       " {'AGENCY_NAME': 'Metro-North Railroad',\n",
       "  'INDICATOR_NAME': 'Harlem Line - OTP',\n",
       "  'DESCRIPTION': 'Percent of commuter trains that arrive at their destinations within 5 minutes and 59 seconds of the scheduled time.',\n",
       "  'PERIOD_YEAR': 2010,\n",
       "  'PERIOD_MONTH': 8,\n",
       "  'CATEGORY': 'Service Indicators',\n",
       "  'FREQUENCY': 'M',\n",
       "  'INDICATOR_UNIT': '%',\n",
       "  'YTD_TARGET': 98.3,\n",
       "  'YTD_ACTUAL': 98.7,\n",
       "  'MONTHLY_TARGET': 98.3,\n",
       "  'MONTHLY_ACTUAL': 99.1},\n",
       " {'AGENCY_NAME': 'Metro-North Railroad',\n",
       "  'INDICATOR_NAME': 'Harlem Line - OTP',\n",
       "  'DESCRIPTION': 'Percent of commuter trains that arrive at their destinations within 5 minutes and 59 seconds of the scheduled time.',\n",
       "  'PERIOD_YEAR': 2010,\n",
       "  'PERIOD_MONTH': 9,\n",
       "  'CATEGORY': 'Service Indicators',\n",
       "  'FREQUENCY': 'M',\n",
       "  'INDICATOR_UNIT': '%',\n",
       "  'YTD_TARGET': 98.3,\n",
       "  'YTD_ACTUAL': 98.8,\n",
       "  'MONTHLY_TARGET': 98.3,\n",
       "  'MONTHLY_ACTUAL': 99.0},\n",
       " {'AGENCY_NAME': 'Metro-North Railroad',\n",
       "  'INDICATOR_NAME': 'Harlem Line - OTP',\n",
       "  'DESCRIPTION': 'Percent of commuter trains that arrive at their destinations within 5 minutes and 59 seconds of the scheduled time.',\n",
       "  'PERIOD_YEAR': 2010,\n",
       "  'PERIOD_MONTH': 10,\n",
       "  'CATEGORY': 'Service Indicators',\n",
       "  'FREQUENCY': 'M',\n",
       "  'INDICATOR_UNIT': '%',\n",
       "  'YTD_TARGET': 98.3,\n",
       "  'YTD_ACTUAL': 98.7,\n",
       "  'MONTHLY_TARGET': 98.3,\n",
       "  'MONTHLY_ACTUAL': 97.7},\n",
       " {'AGENCY_NAME': 'Metro-North Railroad',\n",
       "  'INDICATOR_NAME': 'Harlem Line - OTP',\n",
       "  'DESCRIPTION': 'Percent of commuter trains that arrive at their destinations within 5 minutes and 59 seconds of the scheduled time.',\n",
       "  'PERIOD_YEAR': 2010,\n",
       "  'PERIOD_MONTH': 11,\n",
       "  'CATEGORY': 'Service Indicators',\n",
       "  'FREQUENCY': 'M',\n",
       "  'INDICATOR_UNIT': '%',\n",
       "  'YTD_TARGET': 98.3,\n",
       "  'YTD_ACTUAL': 98.6,\n",
       "  'MONTHLY_TARGET': 98.3,\n",
       "  'MONTHLY_ACTUAL': 97.6},\n",
       " {'AGENCY_NAME': 'Metro-North Railroad',\n",
       "  'INDICATOR_NAME': 'Harlem Line - OTP',\n",
       "  'DESCRIPTION': 'Percent of commuter trains that arrive at their destinations within 5 minutes and 59 seconds of the scheduled time.',\n",
       "  'PERIOD_YEAR': 2010,\n",
       "  'PERIOD_MONTH': 12,\n",
       "  'CATEGORY': 'Service Indicators',\n",
       "  'FREQUENCY': 'M',\n",
       "  'INDICATOR_UNIT': '%',\n",
       "  'YTD_TARGET': 98.3,\n",
       "  'YTD_ACTUAL': 98.5,\n",
       "  'MONTHLY_TARGET': 98.3,\n",
       "  'MONTHLY_ACTUAL': 98.1},\n",
       " {'AGENCY_NAME': 'Metro-North Railroad',\n",
       "  'INDICATOR_NAME': 'Harlem Line - OTP',\n",
       "  'DESCRIPTION': 'Percent of commuter trains that arrive at their destinations within 5 minutes and 59 seconds of the scheduled time.',\n",
       "  'PERIOD_YEAR': 2011,\n",
       "  'PERIOD_MONTH': 1,\n",
       "  'CATEGORY': 'Service Indicators',\n",
       "  'FREQUENCY': 'M',\n",
       "  'INDICATOR_UNIT': '%',\n",
       "  'YTD_TARGET': 98.3,\n",
       "  'YTD_ACTUAL': 96.6,\n",
       "  'MONTHLY_TARGET': 98.3,\n",
       "  'MONTHLY_ACTUAL': 96.6},\n",
       " {'AGENCY_NAME': 'Metro-North Railroad',\n",
       "  'INDICATOR_NAME': 'Harlem Line - OTP',\n",
       "  'DESCRIPTION': 'Percent of commuter trains that arrive at their destinations within 5 minutes and 59 seconds of the scheduled time.',\n",
       "  'PERIOD_YEAR': 2011,\n",
       "  'PERIOD_MONTH': 2,\n",
       "  'CATEGORY': 'Service Indicators',\n",
       "  'FREQUENCY': 'M',\n",
       "  'INDICATOR_UNIT': '%',\n",
       "  'YTD_TARGET': 98.3,\n",
       "  'YTD_ACTUAL': 97.2,\n",
       "  'MONTHLY_TARGET': 98.3,\n",
       "  'MONTHLY_ACTUAL': 97.7},\n",
       " {'AGENCY_NAME': 'Metro-North Railroad',\n",
       "  'INDICATOR_NAME': 'Harlem Line - OTP',\n",
       "  'DESCRIPTION': 'Percent of commuter trains that arrive at their destinations within 5 minutes and 59 seconds of the scheduled time.',\n",
       "  'PERIOD_YEAR': 2011,\n",
       "  'PERIOD_MONTH': 3,\n",
       "  'CATEGORY': 'Service Indicators',\n",
       "  'FREQUENCY': 'M',\n",
       "  'INDICATOR_UNIT': '%',\n",
       "  'YTD_TARGET': 98.3,\n",
       "  'YTD_ACTUAL': 97.5,\n",
       "  'MONTHLY_TARGET': 98.3,\n",
       "  'MONTHLY_ACTUAL': 98.1},\n",
       " {'AGENCY_NAME': 'Metro-North Railroad',\n",
       "  'INDICATOR_NAME': 'Harlem Line - OTP',\n",
       "  'DESCRIPTION': 'Percent of commuter trains that arrive at their destinations within 5 minutes and 59 seconds of the scheduled time.',\n",
       "  'PERIOD_YEAR': 2011,\n",
       "  'PERIOD_MONTH': 4,\n",
       "  'CATEGORY': 'Service Indicators',\n",
       "  'FREQUENCY': 'M',\n",
       "  'INDICATOR_UNIT': '%',\n",
       "  'YTD_TARGET': 98.3,\n",
       "  'YTD_ACTUAL': 97.7,\n",
       "  'MONTHLY_TARGET': 98.3,\n",
       "  'MONTHLY_ACTUAL': 98.5},\n",
       " {'AGENCY_NAME': 'Metro-North Railroad',\n",
       "  'INDICATOR_NAME': 'Harlem Line - OTP',\n",
       "  'DESCRIPTION': 'Percent of commuter trains that arrive at their destinations within 5 minutes and 59 seconds of the scheduled time.',\n",
       "  'PERIOD_YEAR': 2011,\n",
       "  'PERIOD_MONTH': 5,\n",
       "  'CATEGORY': 'Service Indicators',\n",
       "  'FREQUENCY': 'M',\n",
       "  'INDICATOR_UNIT': '%',\n",
       "  'YTD_TARGET': 98.3,\n",
       "  'YTD_ACTUAL': '',\n",
       "  'MONTHLY_TARGET': 98.3,\n",
       "  'MONTHLY_ACTUAL': ''},\n",
       " {'AGENCY_NAME': 'Metro-North Railroad',\n",
       "  'INDICATOR_NAME': 'Harlem Line - OTP',\n",
       "  'DESCRIPTION': 'Percent of commuter trains that arrive at their destinations within 5 minutes and 59 seconds of the scheduled time.',\n",
       "  'PERIOD_YEAR': 2011,\n",
       "  'PERIOD_MONTH': 6,\n",
       "  'CATEGORY': 'Service Indicators',\n",
       "  'FREQUENCY': 'M',\n",
       "  'INDICATOR_UNIT': '%',\n",
       "  'YTD_TARGET': 98.3,\n",
       "  'YTD_ACTUAL': '',\n",
       "  'MONTHLY_TARGET': 98.3,\n",
       "  'MONTHLY_ACTUAL': ''},\n",
       " {'AGENCY_NAME': 'Metro-North Railroad',\n",
       "  'INDICATOR_NAME': 'Harlem Line - OTP',\n",
       "  'DESCRIPTION': 'Percent of commuter trains that arrive at their destinations within 5 minutes and 59 seconds of the scheduled time.',\n",
       "  'PERIOD_YEAR': 2011,\n",
       "  'PERIOD_MONTH': 7,\n",
       "  'CATEGORY': 'Service Indicators',\n",
       "  'FREQUENCY': 'M',\n",
       "  'INDICATOR_UNIT': '%',\n",
       "  'YTD_TARGET': 98.3,\n",
       "  'YTD_ACTUAL': '',\n",
       "  'MONTHLY_TARGET': 98.3,\n",
       "  'MONTHLY_ACTUAL': ''},\n",
       " {'AGENCY_NAME': 'Metro-North Railroad',\n",
       "  'INDICATOR_NAME': 'Harlem Line - OTP',\n",
       "  'DESCRIPTION': 'Percent of commuter trains that arrive at their destinations within 5 minutes and 59 seconds of the scheduled time.',\n",
       "  'PERIOD_YEAR': 2011,\n",
       "  'PERIOD_MONTH': 8,\n",
       "  'CATEGORY': 'Service Indicators',\n",
       "  'FREQUENCY': 'M',\n",
       "  'INDICATOR_UNIT': '%',\n",
       "  'YTD_TARGET': 98.3,\n",
       "  'YTD_ACTUAL': '',\n",
       "  'MONTHLY_TARGET': 98.3,\n",
       "  'MONTHLY_ACTUAL': ''},\n",
       " {'AGENCY_NAME': 'Metro-North Railroad',\n",
       "  'INDICATOR_NAME': 'Harlem Line - OTP',\n",
       "  'DESCRIPTION': 'Percent of commuter trains that arrive at their destinations within 5 minutes and 59 seconds of the scheduled time.',\n",
       "  'PERIOD_YEAR': 2011,\n",
       "  'PERIOD_MONTH': 9,\n",
       "  'CATEGORY': 'Service Indicators',\n",
       "  'FREQUENCY': 'M',\n",
       "  'INDICATOR_UNIT': '%',\n",
       "  'YTD_TARGET': 98.3,\n",
       "  'YTD_ACTUAL': '',\n",
       "  'MONTHLY_TARGET': 98.3,\n",
       "  'MONTHLY_ACTUAL': ''},\n",
       " {'AGENCY_NAME': 'Metro-North Railroad',\n",
       "  'INDICATOR_NAME': 'Harlem Line - OTP',\n",
       "  'DESCRIPTION': 'Percent of commuter trains that arrive at their destinations within 5 minutes and 59 seconds of the scheduled time.',\n",
       "  'PERIOD_YEAR': 2011,\n",
       "  'PERIOD_MONTH': 10,\n",
       "  'CATEGORY': 'Service Indicators',\n",
       "  'FREQUENCY': 'M',\n",
       "  'INDICATOR_UNIT': '%',\n",
       "  'YTD_TARGET': 98.3,\n",
       "  'YTD_ACTUAL': '',\n",
       "  'MONTHLY_TARGET': 98.3,\n",
       "  'MONTHLY_ACTUAL': ''},\n",
       " {'AGENCY_NAME': 'Metro-North Railroad',\n",
       "  'INDICATOR_NAME': 'Harlem Line - OTP',\n",
       "  'DESCRIPTION': 'Percent of commuter trains that arrive at their destinations within 5 minutes and 59 seconds of the scheduled time.',\n",
       "  'PERIOD_YEAR': 2011,\n",
       "  'PERIOD_MONTH': 11,\n",
       "  'CATEGORY': 'Service Indicators',\n",
       "  'FREQUENCY': 'M',\n",
       "  'INDICATOR_UNIT': '%',\n",
       "  'YTD_TARGET': 98.3,\n",
       "  'YTD_ACTUAL': '',\n",
       "  'MONTHLY_TARGET': 98.3,\n",
       "  'MONTHLY_ACTUAL': ''},\n",
       " {'AGENCY_NAME': 'Metro-North Railroad',\n",
       "  'INDICATOR_NAME': 'Harlem Line - OTP',\n",
       "  'DESCRIPTION': 'Percent of commuter trains that arrive at their destinations within 5 minutes and 59 seconds of the scheduled time.',\n",
       "  'PERIOD_YEAR': 2011,\n",
       "  'PERIOD_MONTH': 12,\n",
       "  'CATEGORY': 'Service Indicators',\n",
       "  'FREQUENCY': 'M',\n",
       "  'INDICATOR_UNIT': '%',\n",
       "  'YTD_TARGET': 98.3,\n",
       "  'YTD_ACTUAL': '',\n",
       "  'MONTHLY_TARGET': 98.3,\n",
       "  'MONTHLY_ACTUAL': ''},\n",
       " {'AGENCY_NAME': 'Metro-North Railroad',\n",
       "  'INDICATOR_NAME': 'New Haven Line - OTP',\n",
       "  'DESCRIPTION': 'Percent of commuter trains that arrive at their destinations within 5 minutes and 59 seconds of the scheduled time.',\n",
       "  'PERIOD_YEAR': 2008,\n",
       "  'PERIOD_MONTH': 1,\n",
       "  'CATEGORY': 'Service Indicators',\n",
       "  'FREQUENCY': 'M',\n",
       "  'INDICATOR_UNIT': '%',\n",
       "  'YTD_TARGET': 97.1,\n",
       "  'YTD_ACTUAL': 98.4,\n",
       "  'MONTHLY_TARGET': 97.1,\n",
       "  'MONTHLY_ACTUAL': 98.4},\n",
       " {'AGENCY_NAME': 'Metro-North Railroad',\n",
       "  'INDICATOR_NAME': 'New Haven Line - OTP',\n",
       "  'DESCRIPTION': 'Percent of commuter trains that arrive at their destinations within 5 minutes and 59 seconds of the scheduled time.',\n",
       "  'PERIOD_YEAR': 2008,\n",
       "  'PERIOD_MONTH': 2,\n",
       "  'CATEGORY': 'Service Indicators',\n",
       "  'FREQUENCY': 'M',\n",
       "  'INDICATOR_UNIT': '%',\n",
       "  'YTD_TARGET': 97.1,\n",
       "  'YTD_ACTUAL': 98.2,\n",
       "  'MONTHLY_TARGET': 97.1,\n",
       "  'MONTHLY_ACTUAL': 98.1},\n",
       " {'AGENCY_NAME': 'Metro-North Railroad',\n",
       "  'INDICATOR_NAME': 'New Haven Line - OTP',\n",
       "  'DESCRIPTION': 'Percent of commuter trains that arrive at their destinations within 5 minutes and 59 seconds of the scheduled time.',\n",
       "  'PERIOD_YEAR': 2008,\n",
       "  'PERIOD_MONTH': 3,\n",
       "  'CATEGORY': 'Service Indicators',\n",
       "  'FREQUENCY': 'M',\n",
       "  'INDICATOR_UNIT': '%',\n",
       "  'YTD_TARGET': 97.1,\n",
       "  'YTD_ACTUAL': 97.8,\n",
       "  'MONTHLY_TARGET': 97.1,\n",
       "  'MONTHLY_ACTUAL': 96.9},\n",
       " {'AGENCY_NAME': 'Metro-North Railroad',\n",
       "  'INDICATOR_NAME': 'New Haven Line - OTP',\n",
       "  'DESCRIPTION': 'Percent of commuter trains that arrive at their destinations within 5 minutes and 59 seconds of the scheduled time.',\n",
       "  'PERIOD_YEAR': 2008,\n",
       "  'PERIOD_MONTH': 4,\n",
       "  'CATEGORY': 'Service Indicators',\n",
       "  'FREQUENCY': 'M',\n",
       "  'INDICATOR_UNIT': '%',\n",
       "  'YTD_TARGET': 97.1,\n",
       "  'YTD_ACTUAL': 97.9,\n",
       "  'MONTHLY_TARGET': 97.1,\n",
       "  'MONTHLY_ACTUAL': 98.3},\n",
       " {'AGENCY_NAME': 'Metro-North Railroad',\n",
       "  'INDICATOR_NAME': 'New Haven Line - OTP',\n",
       "  'DESCRIPTION': 'Percent of commuter trains that arrive at their destinations within 5 minutes and 59 seconds of the scheduled time.',\n",
       "  'PERIOD_YEAR': 2008,\n",
       "  'PERIOD_MONTH': 5,\n",
       "  'CATEGORY': 'Service Indicators',\n",
       "  'FREQUENCY': 'M',\n",
       "  'INDICATOR_UNIT': '%',\n",
       "  'YTD_TARGET': 97.1,\n",
       "  'YTD_ACTUAL': 98.0,\n",
       "  'MONTHLY_TARGET': 97.1,\n",
       "  'MONTHLY_ACTUAL': 98.3},\n",
       " {'AGENCY_NAME': 'Metro-North Railroad',\n",
       "  'INDICATOR_NAME': 'New Haven Line - OTP',\n",
       "  'DESCRIPTION': 'Percent of commuter trains that arrive at their destinations within 5 minutes and 59 seconds of the scheduled time.',\n",
       "  'PERIOD_YEAR': 2008,\n",
       "  'PERIOD_MONTH': 6,\n",
       "  'CATEGORY': 'Service Indicators',\n",
       "  'FREQUENCY': 'M',\n",
       "  'INDICATOR_UNIT': '%',\n",
       "  'YTD_TARGET': 97.1,\n",
       "  'YTD_ACTUAL': 97.6,\n",
       "  'MONTHLY_TARGET': 97.1,\n",
       "  'MONTHLY_ACTUAL': 95.7},\n",
       " {'AGENCY_NAME': 'Metro-North Railroad',\n",
       "  'INDICATOR_NAME': 'New Haven Line - OTP',\n",
       "  'DESCRIPTION': 'Percent of commuter trains that arrive at their destinations within 5 minutes and 59 seconds of the scheduled time.',\n",
       "  'PERIOD_YEAR': 2008,\n",
       "  'PERIOD_MONTH': 7,\n",
       "  'CATEGORY': 'Service Indicators',\n",
       "  'FREQUENCY': 'M',\n",
       "  'INDICATOR_UNIT': '%',\n",
       "  'YTD_TARGET': 97.1,\n",
       "  'YTD_ACTUAL': 97.5,\n",
       "  'MONTHLY_TARGET': 97.1,\n",
       "  'MONTHLY_ACTUAL': 96.7},\n",
       " {'AGENCY_NAME': 'Metro-North Railroad',\n",
       "  'INDICATOR_NAME': 'New Haven Line - OTP',\n",
       "  'DESCRIPTION': 'Percent of commuter trains that arrive at their destinations within 5 minutes and 59 seconds of the scheduled time.',\n",
       "  'PERIOD_YEAR': 2008,\n",
       "  'PERIOD_MONTH': 8,\n",
       "  'CATEGORY': 'Service Indicators',\n",
       "  'FREQUENCY': 'M',\n",
       "  'INDICATOR_UNIT': '%',\n",
       "  'YTD_TARGET': 97.1,\n",
       "  'YTD_ACTUAL': 97.4,\n",
       "  'MONTHLY_TARGET': 97.1,\n",
       "  'MONTHLY_ACTUAL': 96.9},\n",
       " {'AGENCY_NAME': 'Metro-North Railroad',\n",
       "  'INDICATOR_NAME': 'New Haven Line - OTP',\n",
       "  'DESCRIPTION': 'Percent of commuter trains that arrive at their destinations within 5 minutes and 59 seconds of the scheduled time.',\n",
       "  'PERIOD_YEAR': 2008,\n",
       "  'PERIOD_MONTH': 9,\n",
       "  'CATEGORY': 'Service Indicators',\n",
       "  'FREQUENCY': 'M',\n",
       "  'INDICATOR_UNIT': '%',\n",
       "  'YTD_TARGET': 97.1,\n",
       "  'YTD_ACTUAL': 97.5,\n",
       "  'MONTHLY_TARGET': 97.1,\n",
       "  'MONTHLY_ACTUAL': 97.9},\n",
       " {'AGENCY_NAME': 'Metro-North Railroad',\n",
       "  'INDICATOR_NAME': 'New Haven Line - OTP',\n",
       "  'DESCRIPTION': 'Percent of commuter trains that arrive at their destinations within 5 minutes and 59 seconds of the scheduled time.',\n",
       "  'PERIOD_YEAR': 2008,\n",
       "  'PERIOD_MONTH': 10,\n",
       "  'CATEGORY': 'Service Indicators',\n",
       "  'FREQUENCY': 'M',\n",
       "  'INDICATOR_UNIT': '%',\n",
       "  'YTD_TARGET': 97.1,\n",
       "  'YTD_ACTUAL': 97.3,\n",
       "  'MONTHLY_TARGET': 97.1,\n",
       "  'MONTHLY_ACTUAL': 95.7},\n",
       " {'AGENCY_NAME': 'Metro-North Railroad',\n",
       "  'INDICATOR_NAME': 'New Haven Line - OTP',\n",
       "  'DESCRIPTION': 'Percent of commuter trains that arrive at their destinations within 5 minutes and 59 seconds of the scheduled time.',\n",
       "  'PERIOD_YEAR': 2008,\n",
       "  'PERIOD_MONTH': 11,\n",
       "  'CATEGORY': 'Service Indicators',\n",
       "  'FREQUENCY': 'M',\n",
       "  'INDICATOR_UNIT': '%',\n",
       "  'YTD_TARGET': 97.1,\n",
       "  'YTD_ACTUAL': 97.1,\n",
       "  'MONTHLY_TARGET': 97.1,\n",
       "  'MONTHLY_ACTUAL': 95.8},\n",
       " {'AGENCY_NAME': 'Metro-North Railroad',\n",
       "  'INDICATOR_NAME': 'New Haven Line - OTP',\n",
       "  'DESCRIPTION': 'Percent of commuter trains that arrive at their destinations within 5 minutes and 59 seconds of the scheduled time.',\n",
       "  'PERIOD_YEAR': 2008,\n",
       "  'PERIOD_MONTH': 12,\n",
       "  'CATEGORY': 'Service Indicators',\n",
       "  'FREQUENCY': 'M',\n",
       "  'INDICATOR_UNIT': '%',\n",
       "  'YTD_TARGET': 97.1,\n",
       "  'YTD_ACTUAL': 97.0,\n",
       "  'MONTHLY_TARGET': 97.1,\n",
       "  'MONTHLY_ACTUAL': 95.3},\n",
       " {'AGENCY_NAME': 'Metro-North Railroad',\n",
       "  'INDICATOR_NAME': 'New Haven Line - OTP',\n",
       "  'DESCRIPTION': 'Percent of commuter trains that arrive at their destinations within 5 minutes and 59 seconds of the scheduled time.',\n",
       "  'PERIOD_YEAR': 2009,\n",
       "  'PERIOD_MONTH': 1,\n",
       "  'CATEGORY': 'Service Indicators',\n",
       "  'FREQUENCY': 'M',\n",
       "  'INDICATOR_UNIT': '%',\n",
       "  'YTD_TARGET': 97.0,\n",
       "  'YTD_ACTUAL': 95.6,\n",
       "  'MONTHLY_TARGET': 97.0,\n",
       "  'MONTHLY_ACTUAL': 95.6},\n",
       " {'AGENCY_NAME': 'Metro-North Railroad',\n",
       "  'INDICATOR_NAME': 'New Haven Line - OTP',\n",
       "  'DESCRIPTION': 'Percent of commuter trains that arrive at their destinations within 5 minutes and 59 seconds of the scheduled time.',\n",
       "  'PERIOD_YEAR': 2009,\n",
       "  'PERIOD_MONTH': 2,\n",
       "  'CATEGORY': 'Service Indicators',\n",
       "  'FREQUENCY': 'M',\n",
       "  'INDICATOR_UNIT': '%',\n",
       "  'YTD_TARGET': 97.0,\n",
       "  'YTD_ACTUAL': 96.1,\n",
       "  'MONTHLY_TARGET': 97.0,\n",
       "  'MONTHLY_ACTUAL': 96.7},\n",
       " {'AGENCY_NAME': 'Metro-North Railroad',\n",
       "  'INDICATOR_NAME': 'New Haven Line - OTP',\n",
       "  'DESCRIPTION': 'Percent of commuter trains that arrive at their destinations within 5 minutes and 59 seconds of the scheduled time.',\n",
       "  'PERIOD_YEAR': 2009,\n",
       "  'PERIOD_MONTH': 3,\n",
       "  'CATEGORY': 'Service Indicators',\n",
       "  'FREQUENCY': 'M',\n",
       "  'INDICATOR_UNIT': '%',\n",
       "  'YTD_TARGET': 97.0,\n",
       "  'YTD_ACTUAL': 95.9,\n",
       "  'MONTHLY_TARGET': 97.0,\n",
       "  'MONTHLY_ACTUAL': 95.6},\n",
       " {'AGENCY_NAME': 'Metro-North Railroad',\n",
       "  'INDICATOR_NAME': 'New Haven Line - OTP',\n",
       "  'DESCRIPTION': 'Percent of commuter trains that arrive at their destinations within 5 minutes and 59 seconds of the scheduled time.',\n",
       "  'PERIOD_YEAR': 2009,\n",
       "  'PERIOD_MONTH': 4,\n",
       "  'CATEGORY': 'Service Indicators',\n",
       "  'FREQUENCY': 'M',\n",
       "  'INDICATOR_UNIT': '%',\n",
       "  'YTD_TARGET': 97.0,\n",
       "  'YTD_ACTUAL': 96.4,\n",
       "  'MONTHLY_TARGET': 97.0,\n",
       "  'MONTHLY_ACTUAL': 97.7},\n",
       " {'AGENCY_NAME': 'Metro-North Railroad',\n",
       "  'INDICATOR_NAME': 'New Haven Line - OTP',\n",
       "  'DESCRIPTION': 'Percent of commuter trains that arrive at their destinations within 5 minutes and 59 seconds of the scheduled time.',\n",
       "  'PERIOD_YEAR': 2009,\n",
       "  'PERIOD_MONTH': 5,\n",
       "  'CATEGORY': 'Service Indicators',\n",
       "  'FREQUENCY': 'M',\n",
       "  'INDICATOR_UNIT': '%',\n",
       "  'YTD_TARGET': 97.0,\n",
       "  'YTD_ACTUAL': 96.6,\n",
       "  'MONTHLY_TARGET': 97.0,\n",
       "  'MONTHLY_ACTUAL': 97.7},\n",
       " {'AGENCY_NAME': 'Metro-North Railroad',\n",
       "  'INDICATOR_NAME': 'New Haven Line - OTP',\n",
       "  'DESCRIPTION': 'Percent of commuter trains that arrive at their destinations within 5 minutes and 59 seconds of the scheduled time.',\n",
       "  'PERIOD_YEAR': 2009,\n",
       "  'PERIOD_MONTH': 6,\n",
       "  'CATEGORY': 'Service Indicators',\n",
       "  'FREQUENCY': 'M',\n",
       "  'INDICATOR_UNIT': '%',\n",
       "  'YTD_TARGET': 97.0,\n",
       "  'YTD_ACTUAL': 96.8,\n",
       "  'MONTHLY_TARGET': 97.0,\n",
       "  'MONTHLY_ACTUAL': 97.6},\n",
       " {'AGENCY_NAME': 'Metro-North Railroad',\n",
       "  'INDICATOR_NAME': 'New Haven Line - OTP',\n",
       "  'DESCRIPTION': 'Percent of commuter trains that arrive at their destinations within 5 minutes and 59 seconds of the scheduled time.',\n",
       "  'PERIOD_YEAR': 2009,\n",
       "  'PERIOD_MONTH': 7,\n",
       "  'CATEGORY': 'Service Indicators',\n",
       "  'FREQUENCY': 'M',\n",
       "  'INDICATOR_UNIT': '%',\n",
       "  'YTD_TARGET': 97.0,\n",
       "  'YTD_ACTUAL': 97.0,\n",
       "  'MONTHLY_TARGET': 97.0,\n",
       "  'MONTHLY_ACTUAL': 98.0},\n",
       " {'AGENCY_NAME': 'Metro-North Railroad',\n",
       "  'INDICATOR_NAME': 'New Haven Line - OTP',\n",
       "  'DESCRIPTION': 'Percent of commuter trains that arrive at their destinations within 5 minutes and 59 seconds of the scheduled time.',\n",
       "  'PERIOD_YEAR': 2009,\n",
       "  'PERIOD_MONTH': 8,\n",
       "  'CATEGORY': 'Service Indicators',\n",
       "  'FREQUENCY': 'M',\n",
       "  'INDICATOR_UNIT': '%',\n",
       "  'YTD_TARGET': 97.0,\n",
       "  'YTD_ACTUAL': 97.2,\n",
       "  'MONTHLY_TARGET': 97.0,\n",
       "  'MONTHLY_ACTUAL': 97.5},\n",
       " {'AGENCY_NAME': 'Metro-North Railroad',\n",
       "  'INDICATOR_NAME': 'New Haven Line - OTP',\n",
       "  'DESCRIPTION': 'Percent of commuter trains that arrive at their destinations within 5 minutes and 59 seconds of the scheduled time.',\n",
       "  'PERIOD_YEAR': 2009,\n",
       "  'PERIOD_MONTH': 9,\n",
       "  'CATEGORY': 'Service Indicators',\n",
       "  'FREQUENCY': 'M',\n",
       "  'INDICATOR_UNIT': '%',\n",
       "  'YTD_TARGET': 97.0,\n",
       "  'YTD_ACTUAL': 97.2,\n",
       "  'MONTHLY_TARGET': 97.0,\n",
       "  'MONTHLY_ACTUAL': 98.1},\n",
       " {'AGENCY_NAME': 'Metro-North Railroad',\n",
       "  'INDICATOR_NAME': 'New Haven Line - OTP',\n",
       "  'DESCRIPTION': 'Percent of commuter trains that arrive at their destinations within 5 minutes and 59 seconds of the scheduled time.',\n",
       "  'PERIOD_YEAR': 2009,\n",
       "  'PERIOD_MONTH': 10,\n",
       "  'CATEGORY': 'Service Indicators',\n",
       "  'FREQUENCY': 'M',\n",
       "  'INDICATOR_UNIT': '%',\n",
       "  'YTD_TARGET': 97.0,\n",
       "  'YTD_ACTUAL': 97.3,\n",
       "  'MONTHLY_TARGET': 97.0,\n",
       "  'MONTHLY_ACTUAL': 98.1},\n",
       " {'AGENCY_NAME': 'Metro-North Railroad',\n",
       "  'INDICATOR_NAME': 'New Haven Line - OTP',\n",
       "  'DESCRIPTION': 'Percent of commuter trains that arrive at their destinations within 5 minutes and 59 seconds of the scheduled time.',\n",
       "  'PERIOD_YEAR': 2009,\n",
       "  'PERIOD_MONTH': 11,\n",
       "  'CATEGORY': 'Service Indicators',\n",
       "  'FREQUENCY': 'M',\n",
       "  'INDICATOR_UNIT': '%',\n",
       "  'YTD_TARGET': 97.0,\n",
       "  'YTD_ACTUAL': 97.4,\n",
       "  'MONTHLY_TARGET': 97.0,\n",
       "  'MONTHLY_ACTUAL': 98.1},\n",
       " {'AGENCY_NAME': 'Metro-North Railroad',\n",
       "  'INDICATOR_NAME': 'New Haven Line - OTP',\n",
       "  'DESCRIPTION': 'Percent of commuter trains that arrive at their destinations within 5 minutes and 59 seconds of the scheduled time.',\n",
       "  'PERIOD_YEAR': 2009,\n",
       "  'PERIOD_MONTH': 12,\n",
       "  'CATEGORY': 'Service Indicators',\n",
       "  'FREQUENCY': 'M',\n",
       "  'INDICATOR_UNIT': '%',\n",
       "  'YTD_TARGET': 97.0,\n",
       "  'YTD_ACTUAL': 97.2,\n",
       "  'MONTHLY_TARGET': 97.0,\n",
       "  'MONTHLY_ACTUAL': 95.7},\n",
       " {'AGENCY_NAME': 'Metro-North Railroad',\n",
       "  'INDICATOR_NAME': 'New Haven Line - OTP',\n",
       "  'DESCRIPTION': 'Percent of commuter trains that arrive at their destinations within 5 minutes and 59 seconds of the scheduled time.',\n",
       "  'PERIOD_YEAR': 2010,\n",
       "  'PERIOD_MONTH': 1,\n",
       "  'CATEGORY': 'Service Indicators',\n",
       "  'FREQUENCY': 'M',\n",
       "  'INDICATOR_UNIT': '%',\n",
       "  'YTD_TARGET': 97.0,\n",
       "  'YTD_ACTUAL': 97.6,\n",
       "  'MONTHLY_TARGET': 97.0,\n",
       "  'MONTHLY_ACTUAL': 97.6},\n",
       " {'AGENCY_NAME': 'Metro-North Railroad',\n",
       "  'INDICATOR_NAME': 'New Haven Line - OTP',\n",
       "  'DESCRIPTION': 'Percent of commuter trains that arrive at their destinations within 5 minutes and 59 seconds of the scheduled time.',\n",
       "  'PERIOD_YEAR': 2010,\n",
       "  'PERIOD_MONTH': 2,\n",
       "  'CATEGORY': 'Service Indicators',\n",
       "  'FREQUENCY': 'M',\n",
       "  'INDICATOR_UNIT': '%',\n",
       "  'YTD_TARGET': 97.0,\n",
       "  'YTD_ACTUAL': 97.6,\n",
       "  'MONTHLY_TARGET': 97.0,\n",
       "  'MONTHLY_ACTUAL': 97.6},\n",
       " {'AGENCY_NAME': 'Metro-North Railroad',\n",
       "  'INDICATOR_NAME': 'New Haven Line - OTP',\n",
       "  'DESCRIPTION': 'Percent of commuter trains that arrive at their destinations within 5 minutes and 59 seconds of the scheduled time.',\n",
       "  'PERIOD_YEAR': 2010,\n",
       "  'PERIOD_MONTH': 3,\n",
       "  'CATEGORY': 'Service Indicators',\n",
       "  'FREQUENCY': 'M',\n",
       "  'INDICATOR_UNIT': '%',\n",
       "  'YTD_TARGET': 97.0,\n",
       "  'YTD_ACTUAL': 97.2,\n",
       "  'MONTHLY_TARGET': 97.0,\n",
       "  'MONTHLY_ACTUAL': 96.5},\n",
       " {'AGENCY_NAME': 'Metro-North Railroad',\n",
       "  'INDICATOR_NAME': 'New Haven Line - OTP',\n",
       "  'DESCRIPTION': 'Percent of commuter trains that arrive at their destinations within 5 minutes and 59 seconds of the scheduled time.',\n",
       "  'PERIOD_YEAR': 2010,\n",
       "  'PERIOD_MONTH': 4,\n",
       "  'CATEGORY': 'Service Indicators',\n",
       "  'FREQUENCY': 'M',\n",
       "  'INDICATOR_UNIT': '%',\n",
       "  'YTD_TARGET': 97.0,\n",
       "  'YTD_ACTUAL': 97.2,\n",
       "  'MONTHLY_TARGET': 97.0,\n",
       "  'MONTHLY_ACTUAL': 97.2},\n",
       " {'AGENCY_NAME': 'Metro-North Railroad',\n",
       "  'INDICATOR_NAME': 'New Haven Line - OTP',\n",
       "  'DESCRIPTION': 'Percent of commuter trains that arrive at their destinations within 5 minutes and 59 seconds of the scheduled time.',\n",
       "  'PERIOD_YEAR': 2010,\n",
       "  'PERIOD_MONTH': 5,\n",
       "  'CATEGORY': 'Service Indicators',\n",
       "  'FREQUENCY': 'M',\n",
       "  'INDICATOR_UNIT': '%',\n",
       "  'YTD_TARGET': 97.0,\n",
       "  'YTD_ACTUAL': 97.4,\n",
       "  'MONTHLY_TARGET': 97.0,\n",
       "  'MONTHLY_ACTUAL': 98.1},\n",
       " {'AGENCY_NAME': 'Metro-North Railroad',\n",
       "  'INDICATOR_NAME': 'New Haven Line - OTP',\n",
       "  'DESCRIPTION': 'Percent of commuter trains that arrive at their destinations within 5 minutes and 59 seconds of the scheduled time.',\n",
       "  'PERIOD_YEAR': 2010,\n",
       "  'PERIOD_MONTH': 6,\n",
       "  'CATEGORY': 'Service Indicators',\n",
       "  'FREQUENCY': 'M',\n",
       "  'INDICATOR_UNIT': '%',\n",
       "  'YTD_TARGET': 97.0,\n",
       "  'YTD_ACTUAL': 97.3,\n",
       "  'MONTHLY_TARGET': 97.0,\n",
       "  'MONTHLY_ACTUAL': 97.1},\n",
       " {'AGENCY_NAME': 'Metro-North Railroad',\n",
       "  'INDICATOR_NAME': 'New Haven Line - OTP',\n",
       "  'DESCRIPTION': 'Percent of commuter trains that arrive at their destinations within 5 minutes and 59 seconds of the scheduled time.',\n",
       "  'PERIOD_YEAR': 2010,\n",
       "  'PERIOD_MONTH': 7,\n",
       "  'CATEGORY': 'Service Indicators',\n",
       "  'FREQUENCY': 'M',\n",
       "  'INDICATOR_UNIT': '%',\n",
       "  'YTD_TARGET': 97.0,\n",
       "  'YTD_ACTUAL': 97.1,\n",
       "  'MONTHLY_TARGET': 97.0,\n",
       "  'MONTHLY_ACTUAL': 95.9},\n",
       " {'AGENCY_NAME': 'Metro-North Railroad',\n",
       "  'INDICATOR_NAME': 'New Haven Line - OTP',\n",
       "  'DESCRIPTION': 'Percent of commuter trains that arrive at their destinations within 5 minutes and 59 seconds of the scheduled time.',\n",
       "  'PERIOD_YEAR': 2010,\n",
       "  'PERIOD_MONTH': 8,\n",
       "  'CATEGORY': 'Service Indicators',\n",
       "  'FREQUENCY': 'M',\n",
       "  'INDICATOR_UNIT': '%',\n",
       "  'YTD_TARGET': 97.0,\n",
       "  'YTD_ACTUAL': 97.3,\n",
       "  'MONTHLY_TARGET': 97.0,\n",
       "  'MONTHLY_ACTUAL': 98.1},\n",
       " {'AGENCY_NAME': 'Metro-North Railroad',\n",
       "  'INDICATOR_NAME': 'New Haven Line - OTP',\n",
       "  'DESCRIPTION': 'Percent of commuter trains that arrive at their destinations within 5 minutes and 59 seconds of the scheduled time.',\n",
       "  'PERIOD_YEAR': 2010,\n",
       "  'PERIOD_MONTH': 9,\n",
       "  'CATEGORY': 'Service Indicators',\n",
       "  'FREQUENCY': 'M',\n",
       "  'INDICATOR_UNIT': '%',\n",
       "  'YTD_TARGET': 97.0,\n",
       "  'YTD_ACTUAL': 97.1,\n",
       "  'MONTHLY_TARGET': 97.0,\n",
       "  'MONTHLY_ACTUAL': 96.3},\n",
       " {'AGENCY_NAME': 'Metro-North Railroad',\n",
       "  'INDICATOR_NAME': 'New Haven Line - OTP',\n",
       "  'DESCRIPTION': 'Percent of commuter trains that arrive at their destinations within 5 minutes and 59 seconds of the scheduled time.',\n",
       "  'PERIOD_YEAR': 2010,\n",
       "  'PERIOD_MONTH': 10,\n",
       "  'CATEGORY': 'Service Indicators',\n",
       "  'FREQUENCY': 'M',\n",
       "  'INDICATOR_UNIT': '%',\n",
       "  'YTD_TARGET': 97.0,\n",
       "  'YTD_ACTUAL': 97.0,\n",
       "  'MONTHLY_TARGET': 97.0,\n",
       "  'MONTHLY_ACTUAL': 95.8},\n",
       " {'AGENCY_NAME': 'Metro-North Railroad',\n",
       "  'INDICATOR_NAME': 'New Haven Line - OTP',\n",
       "  'DESCRIPTION': 'Percent of commuter trains that arrive at their destinations within 5 minutes and 59 seconds of the scheduled time.',\n",
       "  'PERIOD_YEAR': 2010,\n",
       "  'PERIOD_MONTH': 11,\n",
       "  'CATEGORY': 'Service Indicators',\n",
       "  'FREQUENCY': 'M',\n",
       "  'INDICATOR_UNIT': '%',\n",
       "  'YTD_TARGET': 97.0,\n",
       "  'YTD_ACTUAL': 96.8,\n",
       "  'MONTHLY_TARGET': 97.0,\n",
       "  'MONTHLY_ACTUAL': 95.1},\n",
       " {'AGENCY_NAME': 'Metro-North Railroad',\n",
       "  'INDICATOR_NAME': 'New Haven Line - OTP',\n",
       "  'DESCRIPTION': 'Percent of commuter trains that arrive at their destinations within 5 minutes and 59 seconds of the scheduled time.',\n",
       "  'PERIOD_YEAR': 2010,\n",
       "  'PERIOD_MONTH': 12,\n",
       "  'CATEGORY': 'Service Indicators',\n",
       "  'FREQUENCY': 'M',\n",
       "  'INDICATOR_UNIT': '%',\n",
       "  'YTD_TARGET': 97.0,\n",
       "  'YTD_ACTUAL': 96.8,\n",
       "  'MONTHLY_TARGET': 97.0,\n",
       "  'MONTHLY_ACTUAL': 96.4},\n",
       " {'AGENCY_NAME': 'Metro-North Railroad',\n",
       "  'INDICATOR_NAME': 'New Haven Line - OTP',\n",
       "  'DESCRIPTION': 'Percent of commuter trains that arrive at their destinations within 5 minutes and 59 seconds of the scheduled time.',\n",
       "  'PERIOD_YEAR': 2011,\n",
       "  'PERIOD_MONTH': 1,\n",
       "  'CATEGORY': 'Service Indicators',\n",
       "  'FREQUENCY': 'M',\n",
       "  'INDICATOR_UNIT': '%',\n",
       "  'YTD_TARGET': 97.2,\n",
       "  'YTD_ACTUAL': 88.9,\n",
       "  'MONTHLY_TARGET': 97.2,\n",
       "  'MONTHLY_ACTUAL': 88.9},\n",
       " {'AGENCY_NAME': 'Metro-North Railroad',\n",
       "  'INDICATOR_NAME': 'New Haven Line - OTP',\n",
       "  'DESCRIPTION': 'Percent of commuter trains that arrive at their destinations within 5 minutes and 59 seconds of the scheduled time.',\n",
       "  'PERIOD_YEAR': 2011,\n",
       "  'PERIOD_MONTH': 2,\n",
       "  'CATEGORY': 'Service Indicators',\n",
       "  'FREQUENCY': 'M',\n",
       "  'INDICATOR_UNIT': '%',\n",
       "  'YTD_TARGET': 97.2,\n",
       "  'YTD_ACTUAL': 90.4,\n",
       "  'MONTHLY_TARGET': 97.2,\n",
       "  'MONTHLY_ACTUAL': 92.1},\n",
       " {'AGENCY_NAME': 'Metro-North Railroad',\n",
       "  'INDICATOR_NAME': 'New Haven Line - OTP',\n",
       "  'DESCRIPTION': 'Percent of commuter trains that arrive at their destinations within 5 minutes and 59 seconds of the scheduled time.',\n",
       "  'PERIOD_YEAR': 2011,\n",
       "  'PERIOD_MONTH': 3,\n",
       "  'CATEGORY': 'Service Indicators',\n",
       "  'FREQUENCY': 'M',\n",
       "  'INDICATOR_UNIT': '%',\n",
       "  'YTD_TARGET': 97.2,\n",
       "  'YTD_ACTUAL': 92.7,\n",
       "  'MONTHLY_TARGET': 97.2,\n",
       "  'MONTHLY_ACTUAL': 96.8},\n",
       " {'AGENCY_NAME': 'Metro-North Railroad',\n",
       "  'INDICATOR_NAME': 'New Haven Line - OTP',\n",
       "  'DESCRIPTION': 'Percent of commuter trains that arrive at their destinations within 5 minutes and 59 seconds of the scheduled time.',\n",
       "  'PERIOD_YEAR': 2011,\n",
       "  'PERIOD_MONTH': 4,\n",
       "  'CATEGORY': 'Service Indicators',\n",
       "  'FREQUENCY': 'M',\n",
       "  'INDICATOR_UNIT': '%',\n",
       "  'YTD_TARGET': 97.2,\n",
       "  'YTD_ACTUAL': 93.9,\n",
       "  'MONTHLY_TARGET': 97.2,\n",
       "  'MONTHLY_ACTUAL': 97.0},\n",
       " {'AGENCY_NAME': 'Metro-North Railroad',\n",
       "  'INDICATOR_NAME': 'New Haven Line - OTP',\n",
       "  'DESCRIPTION': 'Percent of commuter trains that arrive at their destinations within 5 minutes and 59 seconds of the scheduled time.',\n",
       "  'PERIOD_YEAR': 2011,\n",
       "  'PERIOD_MONTH': 5,\n",
       "  'CATEGORY': 'Service Indicators',\n",
       "  'FREQUENCY': 'M',\n",
       "  'INDICATOR_UNIT': '%',\n",
       "  'YTD_TARGET': 97.2,\n",
       "  'YTD_ACTUAL': '',\n",
       "  'MONTHLY_TARGET': 97.2,\n",
       "  'MONTHLY_ACTUAL': ''},\n",
       " {'AGENCY_NAME': 'Metro-North Railroad',\n",
       "  'INDICATOR_NAME': 'New Haven Line - OTP',\n",
       "  'DESCRIPTION': 'Percent of commuter trains that arrive at their destinations within 5 minutes and 59 seconds of the scheduled time.',\n",
       "  'PERIOD_YEAR': 2011,\n",
       "  'PERIOD_MONTH': 6,\n",
       "  'CATEGORY': 'Service Indicators',\n",
       "  'FREQUENCY': 'M',\n",
       "  'INDICATOR_UNIT': '%',\n",
       "  'YTD_TARGET': 97.2,\n",
       "  'YTD_ACTUAL': '',\n",
       "  'MONTHLY_TARGET': 97.2,\n",
       "  'MONTHLY_ACTUAL': ''},\n",
       " {'AGENCY_NAME': 'Metro-North Railroad',\n",
       "  'INDICATOR_NAME': 'New Haven Line - OTP',\n",
       "  'DESCRIPTION': 'Percent of commuter trains that arrive at their destinations within 5 minutes and 59 seconds of the scheduled time.',\n",
       "  'PERIOD_YEAR': 2011,\n",
       "  'PERIOD_MONTH': 7,\n",
       "  'CATEGORY': 'Service Indicators',\n",
       "  'FREQUENCY': 'M',\n",
       "  'INDICATOR_UNIT': '%',\n",
       "  'YTD_TARGET': 97.2,\n",
       "  'YTD_ACTUAL': '',\n",
       "  'MONTHLY_TARGET': 97.2,\n",
       "  'MONTHLY_ACTUAL': ''},\n",
       " {'AGENCY_NAME': 'Metro-North Railroad',\n",
       "  'INDICATOR_NAME': 'New Haven Line - OTP',\n",
       "  'DESCRIPTION': 'Percent of commuter trains that arrive at their destinations within 5 minutes and 59 seconds of the scheduled time.',\n",
       "  'PERIOD_YEAR': 2011,\n",
       "  'PERIOD_MONTH': 8,\n",
       "  'CATEGORY': 'Service Indicators',\n",
       "  'FREQUENCY': 'M',\n",
       "  'INDICATOR_UNIT': '%',\n",
       "  'YTD_TARGET': 97.2,\n",
       "  'YTD_ACTUAL': '',\n",
       "  'MONTHLY_TARGET': 97.2,\n",
       "  'MONTHLY_ACTUAL': ''},\n",
       " {'AGENCY_NAME': 'Metro-North Railroad',\n",
       "  'INDICATOR_NAME': 'New Haven Line - OTP',\n",
       "  'DESCRIPTION': 'Percent of commuter trains that arrive at their destinations within 5 minutes and 59 seconds of the scheduled time.',\n",
       "  'PERIOD_YEAR': 2011,\n",
       "  'PERIOD_MONTH': 9,\n",
       "  'CATEGORY': 'Service Indicators',\n",
       "  'FREQUENCY': 'M',\n",
       "  'INDICATOR_UNIT': '%',\n",
       "  'YTD_TARGET': 97.2,\n",
       "  'YTD_ACTUAL': '',\n",
       "  'MONTHLY_TARGET': 97.2,\n",
       "  'MONTHLY_ACTUAL': ''},\n",
       " {'AGENCY_NAME': 'Metro-North Railroad',\n",
       "  'INDICATOR_NAME': 'New Haven Line - OTP',\n",
       "  'DESCRIPTION': 'Percent of commuter trains that arrive at their destinations within 5 minutes and 59 seconds of the scheduled time.',\n",
       "  'PERIOD_YEAR': 2011,\n",
       "  'PERIOD_MONTH': 10,\n",
       "  'CATEGORY': 'Service Indicators',\n",
       "  'FREQUENCY': 'M',\n",
       "  'INDICATOR_UNIT': '%',\n",
       "  'YTD_TARGET': 97.2,\n",
       "  'YTD_ACTUAL': '',\n",
       "  'MONTHLY_TARGET': 97.2,\n",
       "  'MONTHLY_ACTUAL': ''},\n",
       " {'AGENCY_NAME': 'Metro-North Railroad',\n",
       "  'INDICATOR_NAME': 'New Haven Line - OTP',\n",
       "  'DESCRIPTION': 'Percent of commuter trains that arrive at their destinations within 5 minutes and 59 seconds of the scheduled time.',\n",
       "  'PERIOD_YEAR': 2011,\n",
       "  'PERIOD_MONTH': 11,\n",
       "  'CATEGORY': 'Service Indicators',\n",
       "  'FREQUENCY': 'M',\n",
       "  'INDICATOR_UNIT': '%',\n",
       "  'YTD_TARGET': 97.2,\n",
       "  'YTD_ACTUAL': '',\n",
       "  'MONTHLY_TARGET': 97.2,\n",
       "  'MONTHLY_ACTUAL': ''},\n",
       " {'AGENCY_NAME': 'Metro-North Railroad',\n",
       "  'INDICATOR_NAME': 'New Haven Line - OTP',\n",
       "  'DESCRIPTION': 'Percent of commuter trains that arrive at their destinations within 5 minutes and 59 seconds of the scheduled time.',\n",
       "  'PERIOD_YEAR': 2011,\n",
       "  'PERIOD_MONTH': 12,\n",
       "  'CATEGORY': 'Service Indicators',\n",
       "  'FREQUENCY': 'M',\n",
       "  'INDICATOR_UNIT': '%',\n",
       "  'YTD_TARGET': 97.2,\n",
       "  'YTD_ACTUAL': '',\n",
       "  'MONTHLY_TARGET': 97.2,\n",
       "  'MONTHLY_ACTUAL': ''},\n",
       " {'AGENCY_NAME': 'Metro-North Railroad',\n",
       "  'INDICATOR_NAME': 'On-Time Performance (East of Hudson)',\n",
       "  'DESCRIPTION': 'Percent of commuter trains that arrive at their destinations within 5 minutes and 59 seconds of the scheduled time. East of Hudson service includes the Harlem, Hudson and New Haven lines.',\n",
       "  'PERIOD_YEAR': 2008,\n",
       "  'PERIOD_MONTH': 1,\n",
       "  'CATEGORY': 'Service Indicators',\n",
       "  'FREQUENCY': 'M',\n",
       "  'INDICATOR_UNIT': '%',\n",
       "  'YTD_TARGET': 97.6,\n",
       "  'YTD_ACTUAL': 98.8,\n",
       "  'MONTHLY_TARGET': 97.6,\n",
       "  'MONTHLY_ACTUAL': 98.8},\n",
       " {'AGENCY_NAME': 'Metro-North Railroad',\n",
       "  'INDICATOR_NAME': 'On-Time Performance (East of Hudson)',\n",
       "  'DESCRIPTION': 'Percent of commuter trains that arrive at their destinations within 5 minutes and 59 seconds of the scheduled time. East of Hudson service includes the Harlem, Hudson and New Haven lines.',\n",
       "  'PERIOD_YEAR': 2008,\n",
       "  'PERIOD_MONTH': 2,\n",
       "  'CATEGORY': 'Service Indicators',\n",
       "  'FREQUENCY': 'M',\n",
       "  'INDICATOR_UNIT': '%',\n",
       "  'YTD_TARGET': 97.6,\n",
       "  'YTD_ACTUAL': 98.8,\n",
       "  'MONTHLY_TARGET': 97.6,\n",
       "  'MONTHLY_ACTUAL': 98.7},\n",
       " {'AGENCY_NAME': 'Metro-North Railroad',\n",
       "  'INDICATOR_NAME': 'On-Time Performance (East of Hudson)',\n",
       "  'DESCRIPTION': 'Percent of commuter trains that arrive at their destinations within 5 minutes and 59 seconds of the scheduled time. East of Hudson service includes the Harlem, Hudson and New Haven lines.',\n",
       "  'PERIOD_YEAR': 2008,\n",
       "  'PERIOD_MONTH': 3,\n",
       "  'CATEGORY': 'Service Indicators',\n",
       "  'FREQUENCY': 'M',\n",
       "  'INDICATOR_UNIT': '%',\n",
       "  'YTD_TARGET': 97.6,\n",
       "  'YTD_ACTUAL': 98.2,\n",
       "  'MONTHLY_TARGET': 97.6,\n",
       "  'MONTHLY_ACTUAL': 97.0},\n",
       " {'AGENCY_NAME': 'Metro-North Railroad',\n",
       "  'INDICATOR_NAME': 'On-Time Performance (East of Hudson)',\n",
       "  'DESCRIPTION': 'Percent of commuter trains that arrive at their destinations within 5 minutes and 59 seconds of the scheduled time. East of Hudson service includes the Harlem, Hudson and New Haven lines.',\n",
       "  'PERIOD_YEAR': 2008,\n",
       "  'PERIOD_MONTH': 4,\n",
       "  'CATEGORY': 'Service Indicators',\n",
       "  'FREQUENCY': 'M',\n",
       "  'INDICATOR_UNIT': '%',\n",
       "  'YTD_TARGET': 97.6,\n",
       "  'YTD_ACTUAL': 98.3,\n",
       "  'MONTHLY_TARGET': 97.6,\n",
       "  'MONTHLY_ACTUAL': 98.7},\n",
       " {'AGENCY_NAME': 'Metro-North Railroad',\n",
       "  'INDICATOR_NAME': 'On-Time Performance (East of Hudson)',\n",
       "  'DESCRIPTION': 'Percent of commuter trains that arrive at their destinations within 5 minutes and 59 seconds of the scheduled time. East of Hudson service includes the Harlem, Hudson and New Haven lines.',\n",
       "  'PERIOD_YEAR': 2008,\n",
       "  'PERIOD_MONTH': 5,\n",
       "  'CATEGORY': 'Service Indicators',\n",
       "  'FREQUENCY': 'M',\n",
       "  'INDICATOR_UNIT': '%',\n",
       "  'YTD_TARGET': 97.6,\n",
       "  'YTD_ACTUAL': 98.3,\n",
       "  'MONTHLY_TARGET': 97.6,\n",
       "  'MONTHLY_ACTUAL': 98.2},\n",
       " {'AGENCY_NAME': 'Metro-North Railroad',\n",
       "  'INDICATOR_NAME': 'On-Time Performance (East of Hudson)',\n",
       "  'DESCRIPTION': 'Percent of commuter trains that arrive at their destinations within 5 minutes and 59 seconds of the scheduled time. East of Hudson service includes the Harlem, Hudson and New Haven lines.',\n",
       "  'PERIOD_YEAR': 2008,\n",
       "  'PERIOD_MONTH': 6,\n",
       "  'CATEGORY': 'Service Indicators',\n",
       "  'FREQUENCY': 'M',\n",
       "  'INDICATOR_UNIT': '%',\n",
       "  'YTD_TARGET': 97.6,\n",
       "  'YTD_ACTUAL': 98.0,\n",
       "  'MONTHLY_TARGET': 97.6,\n",
       "  'MONTHLY_ACTUAL': 96.4},\n",
       " {'AGENCY_NAME': 'Metro-North Railroad',\n",
       "  'INDICATOR_NAME': 'On-Time Performance (East of Hudson)',\n",
       "  'DESCRIPTION': 'Percent of commuter trains that arrive at their destinations within 5 minutes and 59 seconds of the scheduled time. East of Hudson service includes the Harlem, Hudson and New Haven lines.',\n",
       "  'PERIOD_YEAR': 2008,\n",
       "  'PERIOD_MONTH': 7,\n",
       "  'CATEGORY': 'Service Indicators',\n",
       "  'FREQUENCY': 'M',\n",
       "  'INDICATOR_UNIT': '%',\n",
       "  'YTD_TARGET': 97.6,\n",
       "  'YTD_ACTUAL': 97.9,\n",
       "  'MONTHLY_TARGET': 97.6,\n",
       "  'MONTHLY_ACTUAL': 97.2},\n",
       " {'AGENCY_NAME': 'Metro-North Railroad',\n",
       "  'INDICATOR_NAME': 'On-Time Performance (East of Hudson)',\n",
       "  'DESCRIPTION': 'Percent of commuter trains that arrive at their destinations within 5 minutes and 59 seconds of the scheduled time. East of Hudson service includes the Harlem, Hudson and New Haven lines.',\n",
       "  'PERIOD_YEAR': 2008,\n",
       "  'PERIOD_MONTH': 8,\n",
       "  'CATEGORY': 'Service Indicators',\n",
       "  'FREQUENCY': 'M',\n",
       "  'INDICATOR_UNIT': '%',\n",
       "  'YTD_TARGET': 97.6,\n",
       "  'YTD_ACTUAL': 97.8,\n",
       "  'MONTHLY_TARGET': 97.6,\n",
       "  'MONTHLY_ACTUAL': 97.5},\n",
       " {'AGENCY_NAME': 'Metro-North Railroad',\n",
       "  'INDICATOR_NAME': 'On-Time Performance (East of Hudson)',\n",
       "  'DESCRIPTION': 'Percent of commuter trains that arrive at their destinations within 5 minutes and 59 seconds of the scheduled time. East of Hudson service includes the Harlem, Hudson and New Haven lines.',\n",
       "  'PERIOD_YEAR': 2008,\n",
       "  'PERIOD_MONTH': 9,\n",
       "  'CATEGORY': 'Service Indicators',\n",
       "  'FREQUENCY': 'M',\n",
       "  'INDICATOR_UNIT': '%',\n",
       "  'YTD_TARGET': 97.6,\n",
       "  'YTD_ACTUAL': 97.8,\n",
       "  'MONTHLY_TARGET': 97.6,\n",
       "  'MONTHLY_ACTUAL': 97.9},\n",
       " {'AGENCY_NAME': 'Metro-North Railroad',\n",
       "  'INDICATOR_NAME': 'On-Time Performance (East of Hudson)',\n",
       "  'DESCRIPTION': 'Percent of commuter trains that arrive at their destinations within 5 minutes and 59 seconds of the scheduled time. East of Hudson service includes the Harlem, Hudson and New Haven lines.',\n",
       "  'PERIOD_YEAR': 2008,\n",
       "  'PERIOD_MONTH': 10,\n",
       "  'CATEGORY': 'Service Indicators',\n",
       "  'FREQUENCY': 'M',\n",
       "  'INDICATOR_UNIT': '%',\n",
       "  'YTD_TARGET': 97.6,\n",
       "  'YTD_ACTUAL': 97.7,\n",
       "  'MONTHLY_TARGET': 97.6,\n",
       "  'MONTHLY_ACTUAL': 96.7},\n",
       " {'AGENCY_NAME': 'Metro-North Railroad',\n",
       "  'INDICATOR_NAME': 'On-Time Performance (East of Hudson)',\n",
       "  'DESCRIPTION': 'Percent of commuter trains that arrive at their destinations within 5 minutes and 59 seconds of the scheduled time. East of Hudson service includes the Harlem, Hudson and New Haven lines.',\n",
       "  'PERIOD_YEAR': 2008,\n",
       "  'PERIOD_MONTH': 11,\n",
       "  'CATEGORY': 'Service Indicators',\n",
       "  'FREQUENCY': 'M',\n",
       "  'INDICATOR_UNIT': '%',\n",
       "  'YTD_TARGET': 97.6,\n",
       "  'YTD_ACTUAL': 97.6,\n",
       "  'MONTHLY_TARGET': 97.6,\n",
       "  'MONTHLY_ACTUAL': 96.8},\n",
       " {'AGENCY_NAME': 'Metro-North Railroad',\n",
       "  'INDICATOR_NAME': 'On-Time Performance (East of Hudson)',\n",
       "  'DESCRIPTION': 'Percent of commuter trains that arrive at their destinations within 5 minutes and 59 seconds of the scheduled time. East of Hudson service includes the Harlem, Hudson and New Haven lines.',\n",
       "  'PERIOD_YEAR': 2008,\n",
       "  'PERIOD_MONTH': 12,\n",
       "  'CATEGORY': 'Service Indicators',\n",
       "  'FREQUENCY': 'M',\n",
       "  'INDICATOR_UNIT': '%',\n",
       "  'YTD_TARGET': 97.6,\n",
       "  'YTD_ACTUAL': 97.5,\n",
       "  'MONTHLY_TARGET': 97.6,\n",
       "  'MONTHLY_ACTUAL': 96.5},\n",
       " {'AGENCY_NAME': 'Metro-North Railroad',\n",
       "  'INDICATOR_NAME': 'On-Time Performance (East of Hudson)',\n",
       "  'DESCRIPTION': 'Percent of commuter trains that arrive at their destinations within 5 minutes and 59 seconds of the scheduled time. East of Hudson service includes the Harlem, Hudson and New Haven lines.',\n",
       "  'PERIOD_YEAR': 2009,\n",
       "  'PERIOD_MONTH': 1,\n",
       "  'CATEGORY': 'Service Indicators',\n",
       "  'FREQUENCY': 'M',\n",
       "  'INDICATOR_UNIT': '%',\n",
       "  'YTD_TARGET': 97.6,\n",
       "  'YTD_ACTUAL': 96.5,\n",
       "  'MONTHLY_TARGET': 97.6,\n",
       "  'MONTHLY_ACTUAL': 96.5},\n",
       " {'AGENCY_NAME': 'Metro-North Railroad',\n",
       "  'INDICATOR_NAME': 'On-Time Performance (East of Hudson)',\n",
       "  'DESCRIPTION': 'Percent of commuter trains that arrive at their destinations within 5 minutes and 59 seconds of the scheduled time. East of Hudson service includes the Harlem, Hudson and New Haven lines.',\n",
       "  'PERIOD_YEAR': 2009,\n",
       "  'PERIOD_MONTH': 2,\n",
       "  'CATEGORY': 'Service Indicators',\n",
       "  'FREQUENCY': 'M',\n",
       "  'INDICATOR_UNIT': '%',\n",
       "  'YTD_TARGET': 97.6,\n",
       "  'YTD_ACTUAL': 97.1,\n",
       "  'MONTHLY_TARGET': 97.6,\n",
       "  'MONTHLY_ACTUAL': 97.8},\n",
       " {'AGENCY_NAME': 'Metro-North Railroad',\n",
       "  'INDICATOR_NAME': 'On-Time Performance (East of Hudson)',\n",
       "  'DESCRIPTION': 'Percent of commuter trains that arrive at their destinations within 5 minutes and 59 seconds of the scheduled time. East of Hudson service includes the Harlem, Hudson and New Haven lines.',\n",
       "  'PERIOD_YEAR': 2009,\n",
       "  'PERIOD_MONTH': 3,\n",
       "  'CATEGORY': 'Service Indicators',\n",
       "  'FREQUENCY': 'M',\n",
       "  'INDICATOR_UNIT': '%',\n",
       "  'YTD_TARGET': 97.6,\n",
       "  'YTD_ACTUAL': 97.2,\n",
       "  'MONTHLY_TARGET': 97.6,\n",
       "  'MONTHLY_ACTUAL': 97.4},\n",
       " {'AGENCY_NAME': 'Metro-North Railroad',\n",
       "  'INDICATOR_NAME': 'On-Time Performance (East of Hudson)',\n",
       "  'DESCRIPTION': 'Percent of commuter trains that arrive at their destinations within 5 minutes and 59 seconds of the scheduled time. East of Hudson service includes the Harlem, Hudson and New Haven lines.',\n",
       "  'PERIOD_YEAR': 2009,\n",
       "  'PERIOD_MONTH': 4,\n",
       "  'CATEGORY': 'Service Indicators',\n",
       "  'FREQUENCY': 'M',\n",
       "  'INDICATOR_UNIT': '%',\n",
       "  'YTD_TARGET': 97.6,\n",
       "  'YTD_ACTUAL': 97.5,\n",
       "  'MONTHLY_TARGET': 97.6,\n",
       "  'MONTHLY_ACTUAL': 98.4},\n",
       " {'AGENCY_NAME': 'Metro-North Railroad',\n",
       "  'INDICATOR_NAME': 'On-Time Performance (East of Hudson)',\n",
       "  'DESCRIPTION': 'Percent of commuter trains that arrive at their destinations within 5 minutes and 59 seconds of the scheduled time. East of Hudson service includes the Harlem, Hudson and New Haven lines.',\n",
       "  'PERIOD_YEAR': 2009,\n",
       "  'PERIOD_MONTH': 5,\n",
       "  'CATEGORY': 'Service Indicators',\n",
       "  'FREQUENCY': 'M',\n",
       "  'INDICATOR_UNIT': '%',\n",
       "  'YTD_TARGET': 97.6,\n",
       "  'YTD_ACTUAL': 97.7,\n",
       "  'MONTHLY_TARGET': 97.6,\n",
       "  'MONTHLY_ACTUAL': 98.3},\n",
       " {'AGENCY_NAME': 'Metro-North Railroad',\n",
       "  'INDICATOR_NAME': 'On-Time Performance (East of Hudson)',\n",
       "  'DESCRIPTION': 'Percent of commuter trains that arrive at their destinations within 5 minutes and 59 seconds of the scheduled time. East of Hudson service includes the Harlem, Hudson and New Haven lines.',\n",
       "  'PERIOD_YEAR': 2009,\n",
       "  'PERIOD_MONTH': 6,\n",
       "  'CATEGORY': 'Service Indicators',\n",
       "  'FREQUENCY': 'M',\n",
       "  'INDICATOR_UNIT': '%',\n",
       "  'YTD_TARGET': 97.6,\n",
       "  'YTD_ACTUAL': 97.7,\n",
       "  'MONTHLY_TARGET': 97.6,\n",
       "  'MONTHLY_ACTUAL': 98.1},\n",
       " {'AGENCY_NAME': 'Metro-North Railroad',\n",
       "  'INDICATOR_NAME': 'On-Time Performance (East of Hudson)',\n",
       "  'DESCRIPTION': 'Percent of commuter trains that arrive at their destinations within 5 minutes and 59 seconds of the scheduled time. East of Hudson service includes the Harlem, Hudson and New Haven lines.',\n",
       "  'PERIOD_YEAR': 2009,\n",
       "  'PERIOD_MONTH': 7,\n",
       "  'CATEGORY': 'Service Indicators',\n",
       "  'FREQUENCY': 'M',\n",
       "  'INDICATOR_UNIT': '%',\n",
       "  'YTD_TARGET': 97.6,\n",
       "  'YTD_ACTUAL': 97.8,\n",
       "  'MONTHLY_TARGET': 97.6,\n",
       "  'MONTHLY_ACTUAL': 98.2},\n",
       " {'AGENCY_NAME': 'Metro-North Railroad',\n",
       "  'INDICATOR_NAME': 'On-Time Performance (East of Hudson)',\n",
       "  'DESCRIPTION': 'Percent of commuter trains that arrive at their destinations within 5 minutes and 59 seconds of the scheduled time. East of Hudson service includes the Harlem, Hudson and New Haven lines.',\n",
       "  'PERIOD_YEAR': 2009,\n",
       "  'PERIOD_MONTH': 8,\n",
       "  'CATEGORY': 'Service Indicators',\n",
       "  'FREQUENCY': 'M',\n",
       "  'INDICATOR_UNIT': '%',\n",
       "  'YTD_TARGET': 97.6,\n",
       "  'YTD_ACTUAL': 97.8,\n",
       "  'MONTHLY_TARGET': 97.6,\n",
       "  'MONTHLY_ACTUAL': 97.6},\n",
       " {'AGENCY_NAME': 'Metro-North Railroad',\n",
       "  'INDICATOR_NAME': 'On-Time Performance (East of Hudson)',\n",
       "  'DESCRIPTION': 'Percent of commuter trains that arrive at their destinations within 5 minutes and 59 seconds of the scheduled time. East of Hudson service includes the Harlem, Hudson and New Haven lines.',\n",
       "  'PERIOD_YEAR': 2009,\n",
       "  'PERIOD_MONTH': 9,\n",
       "  'CATEGORY': 'Service Indicators',\n",
       "  'FREQUENCY': 'M',\n",
       "  'INDICATOR_UNIT': '%',\n",
       "  'YTD_TARGET': 97.6,\n",
       "  'YTD_ACTUAL': 97.8,\n",
       "  'MONTHLY_TARGET': 97.6,\n",
       "  'MONTHLY_ACTUAL': 98.2},\n",
       " {'AGENCY_NAME': 'Metro-North Railroad',\n",
       "  'INDICATOR_NAME': 'On-Time Performance (East of Hudson)',\n",
       "  'DESCRIPTION': 'Percent of commuter trains that arrive at their destinations within 5 minutes and 59 seconds of the scheduled time. East of Hudson service includes the Harlem, Hudson and New Haven lines.',\n",
       "  'PERIOD_YEAR': 2009,\n",
       "  'PERIOD_MONTH': 10,\n",
       "  'CATEGORY': 'Service Indicators',\n",
       "  'FREQUENCY': 'M',\n",
       "  'INDICATOR_UNIT': '%',\n",
       "  'YTD_TARGET': 97.6,\n",
       "  'YTD_ACTUAL': 97.9,\n",
       "  'MONTHLY_TARGET': 97.6,\n",
       "  'MONTHLY_ACTUAL': 98.1},\n",
       " {'AGENCY_NAME': 'Metro-North Railroad',\n",
       "  'INDICATOR_NAME': 'On-Time Performance (East of Hudson)',\n",
       "  'DESCRIPTION': 'Percent of commuter trains that arrive at their destinations within 5 minutes and 59 seconds of the scheduled time. East of Hudson service includes the Harlem, Hudson and New Haven lines.',\n",
       "  'PERIOD_YEAR': 2009,\n",
       "  'PERIOD_MONTH': 11,\n",
       "  'CATEGORY': 'Service Indicators',\n",
       "  'FREQUENCY': 'M',\n",
       "  'INDICATOR_UNIT': '%',\n",
       "  'YTD_TARGET': 97.6,\n",
       "  'YTD_ACTUAL': 97.9,\n",
       "  'MONTHLY_TARGET': 97.6,\n",
       "  'MONTHLY_ACTUAL': 98.2},\n",
       " {'AGENCY_NAME': 'Metro-North Railroad',\n",
       "  'INDICATOR_NAME': 'On-Time Performance (East of Hudson)',\n",
       "  'DESCRIPTION': 'Percent of commuter trains that arrive at their destinations within 5 minutes and 59 seconds of the scheduled time. East of Hudson service includes the Harlem, Hudson and New Haven lines.',\n",
       "  'PERIOD_YEAR': 2009,\n",
       "  'PERIOD_MONTH': 12,\n",
       "  'CATEGORY': 'Service Indicators',\n",
       "  'FREQUENCY': 'M',\n",
       "  'INDICATOR_UNIT': '%',\n",
       "  'YTD_TARGET': 97.6,\n",
       "  'YTD_ACTUAL': 97.8,\n",
       "  'MONTHLY_TARGET': 97.6,\n",
       "  'MONTHLY_ACTUAL': 97.3},\n",
       " {'AGENCY_NAME': 'Metro-North Railroad',\n",
       "  'INDICATOR_NAME': 'On-Time Performance (East of Hudson)',\n",
       "  'DESCRIPTION': 'Percent of commuter trains that arrive at their destinations within 5 minutes and 59 seconds of the scheduled time. East of Hudson service includes the Harlem, Hudson and New Haven lines.',\n",
       "  'PERIOD_YEAR': 2010,\n",
       "  'PERIOD_MONTH': 1,\n",
       "  'CATEGORY': 'Service Indicators',\n",
       "  'FREQUENCY': 'M',\n",
       "  'INDICATOR_UNIT': '%',\n",
       "  'YTD_TARGET': 97.7,\n",
       "  'YTD_ACTUAL': 98.4,\n",
       "  'MONTHLY_TARGET': 97.7,\n",
       "  'MONTHLY_ACTUAL': 98.4},\n",
       " {'AGENCY_NAME': 'Metro-North Railroad',\n",
       "  'INDICATOR_NAME': 'On-Time Performance (East of Hudson)',\n",
       "  'DESCRIPTION': 'Percent of commuter trains that arrive at their destinations within 5 minutes and 59 seconds of the scheduled time. East of Hudson service includes the Harlem, Hudson and New Haven lines.',\n",
       "  'PERIOD_YEAR': 2010,\n",
       "  'PERIOD_MONTH': 2,\n",
       "  'CATEGORY': 'Service Indicators',\n",
       "  'FREQUENCY': 'M',\n",
       "  'INDICATOR_UNIT': '%',\n",
       "  'YTD_TARGET': 97.7,\n",
       "  'YTD_ACTUAL': 98.1,\n",
       "  'MONTHLY_TARGET': 97.7,\n",
       "  'MONTHLY_ACTUAL': 97.7},\n",
       " {'AGENCY_NAME': 'Metro-North Railroad',\n",
       "  'INDICATOR_NAME': 'On-Time Performance (East of Hudson)',\n",
       "  'DESCRIPTION': 'Percent of commuter trains that arrive at their destinations within 5 minutes and 59 seconds of the scheduled time. East of Hudson service includes the Harlem, Hudson and New Haven lines.',\n",
       "  'PERIOD_YEAR': 2010,\n",
       "  'PERIOD_MONTH': 3,\n",
       "  'CATEGORY': 'Service Indicators',\n",
       "  'FREQUENCY': 'M',\n",
       "  'INDICATOR_UNIT': '%',\n",
       "  'YTD_TARGET': 97.7,\n",
       "  'YTD_ACTUAL': 98.0,\n",
       "  'MONTHLY_TARGET': 97.7,\n",
       "  'MONTHLY_ACTUAL': 97.8},\n",
       " {'AGENCY_NAME': 'Metro-North Railroad',\n",
       "  'INDICATOR_NAME': 'On-Time Performance (East of Hudson)',\n",
       "  'DESCRIPTION': 'Percent of commuter trains that arrive at their destinations within 5 minutes and 59 seconds of the scheduled time. East of Hudson service includes the Harlem, Hudson and New Haven lines.',\n",
       "  'PERIOD_YEAR': 2010,\n",
       "  'PERIOD_MONTH': 4,\n",
       "  'CATEGORY': 'Service Indicators',\n",
       "  'FREQUENCY': 'M',\n",
       "  'INDICATOR_UNIT': '%',\n",
       "  'YTD_TARGET': 97.7,\n",
       "  'YTD_ACTUAL': 98.0,\n",
       "  'MONTHLY_TARGET': 97.7,\n",
       "  'MONTHLY_ACTUAL': 97.9},\n",
       " {'AGENCY_NAME': 'Metro-North Railroad',\n",
       "  'INDICATOR_NAME': 'On-Time Performance (East of Hudson)',\n",
       "  'DESCRIPTION': 'Percent of commuter trains that arrive at their destinations within 5 minutes and 59 seconds of the scheduled time. East of Hudson service includes the Harlem, Hudson and New Haven lines.',\n",
       "  'PERIOD_YEAR': 2010,\n",
       "  'PERIOD_MONTH': 5,\n",
       "  'CATEGORY': 'Service Indicators',\n",
       "  'FREQUENCY': 'M',\n",
       "  'INDICATOR_UNIT': '%',\n",
       "  'YTD_TARGET': 97.7,\n",
       "  'YTD_ACTUAL': 98.0,\n",
       "  'MONTHLY_TARGET': 97.7,\n",
       "  'MONTHLY_ACTUAL': 98.4},\n",
       " {'AGENCY_NAME': 'Metro-North Railroad',\n",
       "  'INDICATOR_NAME': 'On-Time Performance (East of Hudson)',\n",
       "  'DESCRIPTION': 'Percent of commuter trains that arrive at their destinations within 5 minutes and 59 seconds of the scheduled time. East of Hudson service includes the Harlem, Hudson and New Haven lines.',\n",
       "  'PERIOD_YEAR': 2010,\n",
       "  'PERIOD_MONTH': 6,\n",
       "  'CATEGORY': 'Service Indicators',\n",
       "  'FREQUENCY': 'M',\n",
       "  'INDICATOR_UNIT': '%',\n",
       "  'YTD_TARGET': 97.7,\n",
       "  'YTD_ACTUAL': 98.0,\n",
       "  'MONTHLY_TARGET': 97.7,\n",
       "  'MONTHLY_ACTUAL': 98.0},\n",
       " {'AGENCY_NAME': 'Metro-North Railroad',\n",
       "  'INDICATOR_NAME': 'On-Time Performance (East of Hudson)',\n",
       "  'DESCRIPTION': 'Percent of commuter trains that arrive at their destinations within 5 minutes and 59 seconds of the scheduled time. East of Hudson service includes the Harlem, Hudson and New Haven lines.',\n",
       "  'PERIOD_YEAR': 2010,\n",
       "  'PERIOD_MONTH': 7,\n",
       "  'CATEGORY': 'Service Indicators',\n",
       "  'FREQUENCY': 'M',\n",
       "  'INDICATOR_UNIT': '%',\n",
       "  'YTD_TARGET': 97.7,\n",
       "  'YTD_ACTUAL': 97.9,\n",
       "  'MONTHLY_TARGET': 97.7,\n",
       "  'MONTHLY_ACTUAL': 97.0},\n",
       " {'AGENCY_NAME': 'Metro-North Railroad',\n",
       "  'INDICATOR_NAME': 'On-Time Performance (East of Hudson)',\n",
       "  'DESCRIPTION': 'Percent of commuter trains that arrive at their destinations within 5 minutes and 59 seconds of the scheduled time. East of Hudson service includes the Harlem, Hudson and New Haven lines.',\n",
       "  'PERIOD_YEAR': 2010,\n",
       "  'PERIOD_MONTH': 8,\n",
       "  'CATEGORY': 'Service Indicators',\n",
       "  'FREQUENCY': 'M',\n",
       "  'INDICATOR_UNIT': '%',\n",
       "  'YTD_TARGET': 97.7,\n",
       "  'YTD_ACTUAL': 98.0,\n",
       "  'MONTHLY_TARGET': 97.7,\n",
       "  'MONTHLY_ACTUAL': 98.4},\n",
       " {'AGENCY_NAME': 'Metro-North Railroad',\n",
       "  'INDICATOR_NAME': 'On-Time Performance (East of Hudson)',\n",
       "  'DESCRIPTION': 'Percent of commuter trains that arrive at their destinations within 5 minutes and 59 seconds of the scheduled time. East of Hudson service includes the Harlem, Hudson and New Haven lines.',\n",
       "  'PERIOD_YEAR': 2010,\n",
       "  'PERIOD_MONTH': 9,\n",
       "  'CATEGORY': 'Service Indicators',\n",
       "  'FREQUENCY': 'M',\n",
       "  'INDICATOR_UNIT': '%',\n",
       "  'YTD_TARGET': 97.7,\n",
       "  'YTD_ACTUAL': 97.9,\n",
       "  'MONTHLY_TARGET': 97.7,\n",
       "  'MONTHLY_ACTUAL': 97.4},\n",
       " {'AGENCY_NAME': 'Metro-North Railroad',\n",
       "  'INDICATOR_NAME': 'On-Time Performance (East of Hudson)',\n",
       "  'DESCRIPTION': 'Percent of commuter trains that arrive at their destinations within 5 minutes and 59 seconds of the scheduled time. East of Hudson service includes the Harlem, Hudson and New Haven lines.',\n",
       "  'PERIOD_YEAR': 2010,\n",
       "  'PERIOD_MONTH': 10,\n",
       "  'CATEGORY': 'Service Indicators',\n",
       "  'FREQUENCY': 'M',\n",
       "  'INDICATOR_UNIT': '%',\n",
       "  'YTD_TARGET': 97.7,\n",
       "  'YTD_ACTUAL': 97.8,\n",
       "  'MONTHLY_TARGET': 97.7,\n",
       "  'MONTHLY_ACTUAL': 96.9},\n",
       " {'AGENCY_NAME': 'Metro-North Railroad',\n",
       "  'INDICATOR_NAME': 'On-Time Performance (East of Hudson)',\n",
       "  'DESCRIPTION': 'Percent of commuter trains that arrive at their destinations within 5 minutes and 59 seconds of the scheduled time. East of Hudson service includes the Harlem, Hudson and New Haven lines.',\n",
       "  'PERIOD_YEAR': 2010,\n",
       "  'PERIOD_MONTH': 11,\n",
       "  'CATEGORY': 'Service Indicators',\n",
       "  'FREQUENCY': 'M',\n",
       "  'INDICATOR_UNIT': '%',\n",
       "  'YTD_TARGET': 97.7,\n",
       "  'YTD_ACTUAL': 97.7,\n",
       "  'MONTHLY_TARGET': 97.7,\n",
       "  'MONTHLY_ACTUAL': 96.6},\n",
       " {'AGENCY_NAME': 'Metro-North Railroad',\n",
       "  'INDICATOR_NAME': 'On-Time Performance (East of Hudson)',\n",
       "  'DESCRIPTION': 'Percent of commuter trains that arrive at their destinations within 5 minutes and 59 seconds of the scheduled time. East of Hudson service includes the Harlem, Hudson and New Haven lines.',\n",
       "  'PERIOD_YEAR': 2010,\n",
       "  'PERIOD_MONTH': 12,\n",
       "  'CATEGORY': 'Service Indicators',\n",
       "  'FREQUENCY': 'M',\n",
       "  'INDICATOR_UNIT': '%',\n",
       "  'YTD_TARGET': 97.7,\n",
       "  'YTD_ACTUAL': 97.7,\n",
       "  'MONTHLY_TARGET': 97.7,\n",
       "  'MONTHLY_ACTUAL': 97.1},\n",
       " {'AGENCY_NAME': 'Metro-North Railroad',\n",
       "  'INDICATOR_NAME': 'On-Time Performance (East of Hudson)',\n",
       "  'DESCRIPTION': 'Percent of commuter trains that arrive at their destinations within 5 minutes and 59 seconds of the scheduled time. East of Hudson service includes the Harlem, Hudson and New Haven lines.',\n",
       "  'PERIOD_YEAR': 2011,\n",
       "  'PERIOD_MONTH': 1,\n",
       "  'CATEGORY': 'Service Indicators',\n",
       "  'FREQUENCY': 'M',\n",
       "  'INDICATOR_UNIT': '%',\n",
       "  'YTD_TARGET': 97.8,\n",
       "  'YTD_ACTUAL': 93.5,\n",
       "  'MONTHLY_TARGET': 97.8,\n",
       "  'MONTHLY_ACTUAL': 93.5},\n",
       " {'AGENCY_NAME': 'Metro-North Railroad',\n",
       "  'INDICATOR_NAME': 'On-Time Performance (East of Hudson)',\n",
       "  'DESCRIPTION': 'Percent of commuter trains that arrive at their destinations within 5 minutes and 59 seconds of the scheduled time. East of Hudson service includes the Harlem, Hudson and New Haven lines.',\n",
       "  'PERIOD_YEAR': 2011,\n",
       "  'PERIOD_MONTH': 2,\n",
       "  'CATEGORY': 'Service Indicators',\n",
       "  'FREQUENCY': 'M',\n",
       "  'INDICATOR_UNIT': '%',\n",
       "  'YTD_TARGET': 97.8,\n",
       "  'YTD_ACTUAL': 94.4,\n",
       "  'MONTHLY_TARGET': 97.8,\n",
       "  'MONTHLY_ACTUAL': 95.4},\n",
       " {'AGENCY_NAME': 'Metro-North Railroad',\n",
       "  'INDICATOR_NAME': 'On-Time Performance (East of Hudson)',\n",
       "  'DESCRIPTION': 'Percent of commuter trains that arrive at their destinations within 5 minutes and 59 seconds of the scheduled time. East of Hudson service includes the Harlem, Hudson and New Haven lines.',\n",
       "  'PERIOD_YEAR': 2011,\n",
       "  'PERIOD_MONTH': 3,\n",
       "  'CATEGORY': 'Service Indicators',\n",
       "  'FREQUENCY': 'M',\n",
       "  'INDICATOR_UNIT': '%',\n",
       "  'YTD_TARGET': 97.8,\n",
       "  'YTD_ACTUAL': 95.6,\n",
       "  'MONTHLY_TARGET': 97.8,\n",
       "  'MONTHLY_ACTUAL': 97.6},\n",
       " {'AGENCY_NAME': 'Metro-North Railroad',\n",
       "  'INDICATOR_NAME': 'On-Time Performance (East of Hudson)',\n",
       "  'DESCRIPTION': 'Percent of commuter trains that arrive at their destinations within 5 minutes and 59 seconds of the scheduled time. East of Hudson service includes the Harlem, Hudson and New Haven lines.',\n",
       "  'PERIOD_YEAR': 2011,\n",
       "  'PERIOD_MONTH': 4,\n",
       "  'CATEGORY': 'Service Indicators',\n",
       "  'FREQUENCY': 'M',\n",
       "  'INDICATOR_UNIT': '%',\n",
       "  'YTD_TARGET': 97.8,\n",
       "  'YTD_ACTUAL': 96.2,\n",
       "  'MONTHLY_TARGET': 97.8,\n",
       "  'MONTHLY_ACTUAL': 97.9},\n",
       " {'AGENCY_NAME': 'Metro-North Railroad',\n",
       "  'INDICATOR_NAME': 'On-Time Performance (East of Hudson)',\n",
       "  'DESCRIPTION': 'Percent of commuter trains that arrive at their destinations within 5 minutes and 59 seconds of the scheduled time. East of Hudson service includes the Harlem, Hudson and New Haven lines.',\n",
       "  'PERIOD_YEAR': 2011,\n",
       "  'PERIOD_MONTH': 5,\n",
       "  'CATEGORY': 'Service Indicators',\n",
       "  'FREQUENCY': 'M',\n",
       "  'INDICATOR_UNIT': '%',\n",
       "  'YTD_TARGET': 97.8,\n",
       "  'YTD_ACTUAL': '',\n",
       "  'MONTHLY_TARGET': 97.8,\n",
       "  'MONTHLY_ACTUAL': ''},\n",
       " {'AGENCY_NAME': 'Metro-North Railroad',\n",
       "  'INDICATOR_NAME': 'On-Time Performance (East of Hudson)',\n",
       "  'DESCRIPTION': 'Percent of commuter trains that arrive at their destinations within 5 minutes and 59 seconds of the scheduled time. East of Hudson service includes the Harlem, Hudson and New Haven lines.',\n",
       "  'PERIOD_YEAR': 2011,\n",
       "  'PERIOD_MONTH': 6,\n",
       "  'CATEGORY': 'Service Indicators',\n",
       "  'FREQUENCY': 'M',\n",
       "  'INDICATOR_UNIT': '%',\n",
       "  'YTD_TARGET': 97.8,\n",
       "  'YTD_ACTUAL': '',\n",
       "  'MONTHLY_TARGET': 97.8,\n",
       "  'MONTHLY_ACTUAL': ''},\n",
       " {'AGENCY_NAME': 'Metro-North Railroad',\n",
       "  'INDICATOR_NAME': 'On-Time Performance (East of Hudson)',\n",
       "  'DESCRIPTION': 'Percent of commuter trains that arrive at their destinations within 5 minutes and 59 seconds of the scheduled time. East of Hudson service includes the Harlem, Hudson and New Haven lines.',\n",
       "  'PERIOD_YEAR': 2011,\n",
       "  'PERIOD_MONTH': 7,\n",
       "  'CATEGORY': 'Service Indicators',\n",
       "  'FREQUENCY': 'M',\n",
       "  'INDICATOR_UNIT': '%',\n",
       "  'YTD_TARGET': 97.8,\n",
       "  'YTD_ACTUAL': '',\n",
       "  'MONTHLY_TARGET': 97.8,\n",
       "  'MONTHLY_ACTUAL': ''},\n",
       " {'AGENCY_NAME': 'Metro-North Railroad',\n",
       "  'INDICATOR_NAME': 'On-Time Performance (East of Hudson)',\n",
       "  'DESCRIPTION': 'Percent of commuter trains that arrive at their destinations within 5 minutes and 59 seconds of the scheduled time. East of Hudson service includes the Harlem, Hudson and New Haven lines.',\n",
       "  'PERIOD_YEAR': 2011,\n",
       "  'PERIOD_MONTH': 8,\n",
       "  'CATEGORY': 'Service Indicators',\n",
       "  'FREQUENCY': 'M',\n",
       "  'INDICATOR_UNIT': '%',\n",
       "  'YTD_TARGET': 97.8,\n",
       "  'YTD_ACTUAL': '',\n",
       "  'MONTHLY_TARGET': 97.8,\n",
       "  'MONTHLY_ACTUAL': ''},\n",
       " {'AGENCY_NAME': 'Metro-North Railroad',\n",
       "  'INDICATOR_NAME': 'On-Time Performance (East of Hudson)',\n",
       "  'DESCRIPTION': 'Percent of commuter trains that arrive at their destinations within 5 minutes and 59 seconds of the scheduled time. East of Hudson service includes the Harlem, Hudson and New Haven lines.',\n",
       "  'PERIOD_YEAR': 2011,\n",
       "  'PERIOD_MONTH': 9,\n",
       "  'CATEGORY': 'Service Indicators',\n",
       "  'FREQUENCY': 'M',\n",
       "  'INDICATOR_UNIT': '%',\n",
       "  'YTD_TARGET': 97.8,\n",
       "  'YTD_ACTUAL': '',\n",
       "  'MONTHLY_TARGET': 97.8,\n",
       "  'MONTHLY_ACTUAL': ''},\n",
       " {'AGENCY_NAME': 'Metro-North Railroad',\n",
       "  'INDICATOR_NAME': 'On-Time Performance (East of Hudson)',\n",
       "  'DESCRIPTION': 'Percent of commuter trains that arrive at their destinations within 5 minutes and 59 seconds of the scheduled time. East of Hudson service includes the Harlem, Hudson and New Haven lines.',\n",
       "  'PERIOD_YEAR': 2011,\n",
       "  'PERIOD_MONTH': 10,\n",
       "  'CATEGORY': 'Service Indicators',\n",
       "  'FREQUENCY': 'M',\n",
       "  'INDICATOR_UNIT': '%',\n",
       "  'YTD_TARGET': 97.8,\n",
       "  'YTD_ACTUAL': '',\n",
       "  'MONTHLY_TARGET': 97.8,\n",
       "  'MONTHLY_ACTUAL': ''},\n",
       " {'AGENCY_NAME': 'Metro-North Railroad',\n",
       "  'INDICATOR_NAME': 'On-Time Performance (East of Hudson)',\n",
       "  'DESCRIPTION': 'Percent of commuter trains that arrive at their destinations within 5 minutes and 59 seconds of the scheduled time. East of Hudson service includes the Harlem, Hudson and New Haven lines.',\n",
       "  'PERIOD_YEAR': 2011,\n",
       "  'PERIOD_MONTH': 11,\n",
       "  'CATEGORY': 'Service Indicators',\n",
       "  'FREQUENCY': 'M',\n",
       "  'INDICATOR_UNIT': '%',\n",
       "  'YTD_TARGET': 97.8,\n",
       "  'YTD_ACTUAL': '',\n",
       "  'MONTHLY_TARGET': 97.8,\n",
       "  'MONTHLY_ACTUAL': ''},\n",
       " {'AGENCY_NAME': 'Metro-North Railroad',\n",
       "  'INDICATOR_NAME': 'On-Time Performance (East of Hudson)',\n",
       "  'DESCRIPTION': 'Percent of commuter trains that arrive at their destinations within 5 minutes and 59 seconds of the scheduled time. East of Hudson service includes the Harlem, Hudson and New Haven lines.',\n",
       "  'PERIOD_YEAR': 2011,\n",
       "  'PERIOD_MONTH': 12,\n",
       "  'CATEGORY': 'Service Indicators',\n",
       "  'FREQUENCY': 'M',\n",
       "  'INDICATOR_UNIT': '%',\n",
       "  'YTD_TARGET': 97.8,\n",
       "  'YTD_ACTUAL': '',\n",
       "  'MONTHLY_TARGET': 97.8,\n",
       "  'MONTHLY_ACTUAL': ''},\n",
       " {'AGENCY_NAME': 'Metro-North Railroad',\n",
       "  'INDICATOR_NAME': 'Elevator Availability',\n",
       "  'DESCRIPTION': 'Percent of the time that elevators are operational systemwide. The availability rate is based on physical observations performed the morning of regular business days only. This is a new indicator the agency began reporting in 2009.',\n",
       "  'PERIOD_YEAR': 2008,\n",
       "  'PERIOD_MONTH': 1,\n",
       "  'CATEGORY': 'Service Indicators',\n",
       "  'FREQUENCY': 'M',\n",
       "  'INDICATOR_UNIT': '%',\n",
       "  'YTD_TARGET': '',\n",
       "  'YTD_ACTUAL': '',\n",
       "  'MONTHLY_TARGET': '',\n",
       "  'MONTHLY_ACTUAL': ''},\n",
       " {'AGENCY_NAME': 'Metro-North Railroad',\n",
       "  'INDICATOR_NAME': 'Elevator Availability',\n",
       "  'DESCRIPTION': 'Percent of the time that elevators are operational systemwide. The availability rate is based on physical observations performed the morning of regular business days only. This is a new indicator the agency began reporting in 2009.',\n",
       "  'PERIOD_YEAR': 2008,\n",
       "  'PERIOD_MONTH': 2,\n",
       "  'CATEGORY': 'Service Indicators',\n",
       "  'FREQUENCY': 'M',\n",
       "  'INDICATOR_UNIT': '%',\n",
       "  'YTD_TARGET': '',\n",
       "  'YTD_ACTUAL': '',\n",
       "  'MONTHLY_TARGET': '',\n",
       "  'MONTHLY_ACTUAL': ''},\n",
       " {'AGENCY_NAME': 'Metro-North Railroad',\n",
       "  'INDICATOR_NAME': 'Elevator Availability',\n",
       "  'DESCRIPTION': 'Percent of the time that elevators are operational systemwide. The availability rate is based on physical observations performed the morning of regular business days only. This is a new indicator the agency began reporting in 2009.',\n",
       "  'PERIOD_YEAR': 2008,\n",
       "  'PERIOD_MONTH': 3,\n",
       "  'CATEGORY': 'Service Indicators',\n",
       "  'FREQUENCY': 'M',\n",
       "  'INDICATOR_UNIT': '%',\n",
       "  'YTD_TARGET': '',\n",
       "  'YTD_ACTUAL': '',\n",
       "  'MONTHLY_TARGET': '',\n",
       "  'MONTHLY_ACTUAL': ''},\n",
       " {'AGENCY_NAME': 'Metro-North Railroad',\n",
       "  'INDICATOR_NAME': 'Elevator Availability',\n",
       "  'DESCRIPTION': 'Percent of the time that elevators are operational systemwide. The availability rate is based on physical observations performed the morning of regular business days only. This is a new indicator the agency began reporting in 2009.',\n",
       "  'PERIOD_YEAR': 2008,\n",
       "  'PERIOD_MONTH': 4,\n",
       "  'CATEGORY': 'Service Indicators',\n",
       "  'FREQUENCY': 'M',\n",
       "  'INDICATOR_UNIT': '%',\n",
       "  'YTD_TARGET': '',\n",
       "  'YTD_ACTUAL': '',\n",
       "  'MONTHLY_TARGET': '',\n",
       "  'MONTHLY_ACTUAL': ''},\n",
       " {'AGENCY_NAME': 'Metro-North Railroad',\n",
       "  'INDICATOR_NAME': 'Elevator Availability',\n",
       "  'DESCRIPTION': 'Percent of the time that elevators are operational systemwide. The availability rate is based on physical observations performed the morning of regular business days only. This is a new indicator the agency began reporting in 2009.',\n",
       "  'PERIOD_YEAR': 2008,\n",
       "  'PERIOD_MONTH': 5,\n",
       "  'CATEGORY': 'Service Indicators',\n",
       "  'FREQUENCY': 'M',\n",
       "  'INDICATOR_UNIT': '%',\n",
       "  'YTD_TARGET': '',\n",
       "  'YTD_ACTUAL': '',\n",
       "  'MONTHLY_TARGET': '',\n",
       "  'MONTHLY_ACTUAL': ''},\n",
       " {'AGENCY_NAME': 'Metro-North Railroad',\n",
       "  'INDICATOR_NAME': 'Elevator Availability',\n",
       "  'DESCRIPTION': 'Percent of the time that elevators are operational systemwide. The availability rate is based on physical observations performed the morning of regular business days only. This is a new indicator the agency began reporting in 2009.',\n",
       "  'PERIOD_YEAR': 2008,\n",
       "  'PERIOD_MONTH': 6,\n",
       "  'CATEGORY': 'Service Indicators',\n",
       "  'FREQUENCY': 'M',\n",
       "  'INDICATOR_UNIT': '%',\n",
       "  'YTD_TARGET': '',\n",
       "  'YTD_ACTUAL': '',\n",
       "  'MONTHLY_TARGET': '',\n",
       "  'MONTHLY_ACTUAL': ''},\n",
       " {'AGENCY_NAME': 'Metro-North Railroad',\n",
       "  'INDICATOR_NAME': 'Elevator Availability',\n",
       "  'DESCRIPTION': 'Percent of the time that elevators are operational systemwide. The availability rate is based on physical observations performed the morning of regular business days only. This is a new indicator the agency began reporting in 2009.',\n",
       "  'PERIOD_YEAR': 2008,\n",
       "  'PERIOD_MONTH': 7,\n",
       "  'CATEGORY': 'Service Indicators',\n",
       "  'FREQUENCY': 'M',\n",
       "  'INDICATOR_UNIT': '%',\n",
       "  'YTD_TARGET': '',\n",
       "  'YTD_ACTUAL': '',\n",
       "  'MONTHLY_TARGET': '',\n",
       "  'MONTHLY_ACTUAL': ''},\n",
       " {'AGENCY_NAME': 'Metro-North Railroad',\n",
       "  'INDICATOR_NAME': 'Elevator Availability',\n",
       "  'DESCRIPTION': 'Percent of the time that elevators are operational systemwide. The availability rate is based on physical observations performed the morning of regular business days only. This is a new indicator the agency began reporting in 2009.',\n",
       "  'PERIOD_YEAR': 2008,\n",
       "  'PERIOD_MONTH': 8,\n",
       "  'CATEGORY': 'Service Indicators',\n",
       "  'FREQUENCY': 'M',\n",
       "  'INDICATOR_UNIT': '%',\n",
       "  'YTD_TARGET': '',\n",
       "  'YTD_ACTUAL': '',\n",
       "  'MONTHLY_TARGET': '',\n",
       "  'MONTHLY_ACTUAL': ''},\n",
       " {'AGENCY_NAME': 'Metro-North Railroad',\n",
       "  'INDICATOR_NAME': 'Elevator Availability',\n",
       "  'DESCRIPTION': 'Percent of the time that elevators are operational systemwide. The availability rate is based on physical observations performed the morning of regular business days only. This is a new indicator the agency began reporting in 2009.',\n",
       "  'PERIOD_YEAR': 2008,\n",
       "  'PERIOD_MONTH': 9,\n",
       "  'CATEGORY': 'Service Indicators',\n",
       "  'FREQUENCY': 'M',\n",
       "  'INDICATOR_UNIT': '%',\n",
       "  'YTD_TARGET': '',\n",
       "  'YTD_ACTUAL': '',\n",
       "  'MONTHLY_TARGET': '',\n",
       "  'MONTHLY_ACTUAL': ''},\n",
       " {'AGENCY_NAME': 'Metro-North Railroad',\n",
       "  'INDICATOR_NAME': 'Elevator Availability',\n",
       "  'DESCRIPTION': 'Percent of the time that elevators are operational systemwide. The availability rate is based on physical observations performed the morning of regular business days only. This is a new indicator the agency began reporting in 2009.',\n",
       "  'PERIOD_YEAR': 2008,\n",
       "  'PERIOD_MONTH': 10,\n",
       "  'CATEGORY': 'Service Indicators',\n",
       "  'FREQUENCY': 'M',\n",
       "  'INDICATOR_UNIT': '%',\n",
       "  'YTD_TARGET': '',\n",
       "  'YTD_ACTUAL': '',\n",
       "  'MONTHLY_TARGET': '',\n",
       "  'MONTHLY_ACTUAL': ''},\n",
       " {'AGENCY_NAME': 'Metro-North Railroad',\n",
       "  'INDICATOR_NAME': 'Elevator Availability',\n",
       "  'DESCRIPTION': 'Percent of the time that elevators are operational systemwide. The availability rate is based on physical observations performed the morning of regular business days only. This is a new indicator the agency began reporting in 2009.',\n",
       "  'PERIOD_YEAR': 2008,\n",
       "  'PERIOD_MONTH': 11,\n",
       "  'CATEGORY': 'Service Indicators',\n",
       "  'FREQUENCY': 'M',\n",
       "  'INDICATOR_UNIT': '%',\n",
       "  'YTD_TARGET': '',\n",
       "  'YTD_ACTUAL': '',\n",
       "  'MONTHLY_TARGET': '',\n",
       "  'MONTHLY_ACTUAL': ''},\n",
       " {'AGENCY_NAME': 'Metro-North Railroad',\n",
       "  'INDICATOR_NAME': 'Elevator Availability',\n",
       "  'DESCRIPTION': 'Percent of the time that elevators are operational systemwide. The availability rate is based on physical observations performed the morning of regular business days only. This is a new indicator the agency began reporting in 2009.',\n",
       "  'PERIOD_YEAR': 2008,\n",
       "  'PERIOD_MONTH': 12,\n",
       "  'CATEGORY': 'Service Indicators',\n",
       "  'FREQUENCY': 'M',\n",
       "  'INDICATOR_UNIT': '%',\n",
       "  'YTD_TARGET': '',\n",
       "  'YTD_ACTUAL': '',\n",
       "  'MONTHLY_TARGET': '',\n",
       "  'MONTHLY_ACTUAL': ''},\n",
       " {'AGENCY_NAME': 'Metro-North Railroad',\n",
       "  'INDICATOR_NAME': 'Elevator Availability',\n",
       "  'DESCRIPTION': 'Percent of the time that elevators are operational systemwide. The availability rate is based on physical observations performed the morning of regular business days only. This is a new indicator the agency began reporting in 2009.',\n",
       "  'PERIOD_YEAR': 2009,\n",
       "  'PERIOD_MONTH': 1,\n",
       "  'CATEGORY': 'Service Indicators',\n",
       "  'FREQUENCY': 'M',\n",
       "  'INDICATOR_UNIT': '%',\n",
       "  'YTD_TARGET': '',\n",
       "  'YTD_ACTUAL': 98.0,\n",
       "  'MONTHLY_TARGET': '',\n",
       "  'MONTHLY_ACTUAL': 98.0},\n",
       " {'AGENCY_NAME': 'Metro-North Railroad',\n",
       "  'INDICATOR_NAME': 'Elevator Availability',\n",
       "  'DESCRIPTION': 'Percent of the time that elevators are operational systemwide. The availability rate is based on physical observations performed the morning of regular business days only. This is a new indicator the agency began reporting in 2009.',\n",
       "  'PERIOD_YEAR': 2009,\n",
       "  'PERIOD_MONTH': 2,\n",
       "  'CATEGORY': 'Service Indicators',\n",
       "  'FREQUENCY': 'M',\n",
       "  'INDICATOR_UNIT': '%',\n",
       "  'YTD_TARGET': '',\n",
       "  'YTD_ACTUAL': 98.0,\n",
       "  'MONTHLY_TARGET': '',\n",
       "  'MONTHLY_ACTUAL': 98.0},\n",
       " {'AGENCY_NAME': 'Metro-North Railroad',\n",
       "  'INDICATOR_NAME': 'Elevator Availability',\n",
       "  'DESCRIPTION': 'Percent of the time that elevators are operational systemwide. The availability rate is based on physical observations performed the morning of regular business days only. This is a new indicator the agency began reporting in 2009.',\n",
       "  'PERIOD_YEAR': 2009,\n",
       "  'PERIOD_MONTH': 3,\n",
       "  'CATEGORY': 'Service Indicators',\n",
       "  'FREQUENCY': 'M',\n",
       "  'INDICATOR_UNIT': '%',\n",
       "  'YTD_TARGET': '',\n",
       "  'YTD_ACTUAL': 98.6,\n",
       "  'MONTHLY_TARGET': '',\n",
       "  'MONTHLY_ACTUAL': 100.0},\n",
       " {'AGENCY_NAME': 'Metro-North Railroad',\n",
       "  'INDICATOR_NAME': 'Elevator Availability',\n",
       "  'DESCRIPTION': 'Percent of the time that elevators are operational systemwide. The availability rate is based on physical observations performed the morning of regular business days only. This is a new indicator the agency began reporting in 2009.',\n",
       "  'PERIOD_YEAR': 2009,\n",
       "  'PERIOD_MONTH': 4,\n",
       "  'CATEGORY': 'Service Indicators',\n",
       "  'FREQUENCY': 'M',\n",
       "  'INDICATOR_UNIT': '%',\n",
       "  'YTD_TARGET': '',\n",
       "  'YTD_ACTUAL': 98.95,\n",
       "  'MONTHLY_TARGET': '',\n",
       "  'MONTHLY_ACTUAL': 100.0},\n",
       " {'AGENCY_NAME': 'Metro-North Railroad',\n",
       "  'INDICATOR_NAME': 'Elevator Availability',\n",
       "  'DESCRIPTION': 'Percent of the time that elevators are operational systemwide. The availability rate is based on physical observations performed the morning of regular business days only. This is a new indicator the agency began reporting in 2009.',\n",
       "  'PERIOD_YEAR': 2009,\n",
       "  'PERIOD_MONTH': 5,\n",
       "  'CATEGORY': 'Service Indicators',\n",
       "  'FREQUENCY': 'M',\n",
       "  'INDICATOR_UNIT': '%',\n",
       "  'YTD_TARGET': '',\n",
       "  'YTD_ACTUAL': 98.96,\n",
       "  'MONTHLY_TARGET': '',\n",
       "  'MONTHLY_ACTUAL': 99.0},\n",
       " {'AGENCY_NAME': 'Metro-North Railroad',\n",
       "  'INDICATOR_NAME': 'Elevator Availability',\n",
       "  'DESCRIPTION': 'Percent of the time that elevators are operational systemwide. The availability rate is based on physical observations performed the morning of regular business days only. This is a new indicator the agency began reporting in 2009.',\n",
       "  'PERIOD_YEAR': 2009,\n",
       "  'PERIOD_MONTH': 6,\n",
       "  'CATEGORY': 'Service Indicators',\n",
       "  'FREQUENCY': 'M',\n",
       "  'INDICATOR_UNIT': '%',\n",
       "  'YTD_TARGET': '',\n",
       "  'YTD_ACTUAL': 98.97,\n",
       "  'MONTHLY_TARGET': '',\n",
       "  'MONTHLY_ACTUAL': 99.0},\n",
       " {'AGENCY_NAME': 'Metro-North Railroad',\n",
       "  'INDICATOR_NAME': 'Elevator Availability',\n",
       "  'DESCRIPTION': 'Percent of the time that elevators are operational systemwide. The availability rate is based on physical observations performed the morning of regular business days only. This is a new indicator the agency began reporting in 2009.',\n",
       "  'PERIOD_YEAR': 2009,\n",
       "  'PERIOD_MONTH': 7,\n",
       "  'CATEGORY': 'Service Indicators',\n",
       "  'FREQUENCY': 'M',\n",
       "  'INDICATOR_UNIT': '%',\n",
       "  'YTD_TARGET': '',\n",
       "  'YTD_ACTUAL': 99.07,\n",
       "  'MONTHLY_TARGET': '',\n",
       "  'MONTHLY_ACTUAL': 100.0},\n",
       " {'AGENCY_NAME': 'Metro-North Railroad',\n",
       "  'INDICATOR_NAME': 'Elevator Availability',\n",
       "  'DESCRIPTION': 'Percent of the time that elevators are operational systemwide. The availability rate is based on physical observations performed the morning of regular business days only. This is a new indicator the agency began reporting in 2009.',\n",
       "  'PERIOD_YEAR': 2009,\n",
       "  'PERIOD_MONTH': 8,\n",
       "  'CATEGORY': 'Service Indicators',\n",
       "  'FREQUENCY': 'M',\n",
       "  'INDICATOR_UNIT': '%',\n",
       "  'YTD_TARGET': '',\n",
       "  'YTD_ACTUAL': 99.05,\n",
       "  'MONTHLY_TARGET': '',\n",
       "  'MONTHLY_ACTUAL': 99.0},\n",
       " {'AGENCY_NAME': 'Metro-North Railroad',\n",
       "  'INDICATOR_NAME': 'Elevator Availability',\n",
       "  'DESCRIPTION': 'Percent of the time that elevators are operational systemwide. The availability rate is based on physical observations performed the morning of regular business days only. This is a new indicator the agency began reporting in 2009.',\n",
       "  'PERIOD_YEAR': 2009,\n",
       "  'PERIOD_MONTH': 9,\n",
       "  'CATEGORY': 'Service Indicators',\n",
       "  'FREQUENCY': 'M',\n",
       "  'INDICATOR_UNIT': '%',\n",
       "  'YTD_TARGET': '',\n",
       "  'YTD_ACTUAL': 99.09,\n",
       "  'MONTHLY_TARGET': '',\n",
       "  'MONTHLY_ACTUAL': 99.0},\n",
       " {'AGENCY_NAME': 'Metro-North Railroad',\n",
       "  'INDICATOR_NAME': 'Elevator Availability',\n",
       "  'DESCRIPTION': 'Percent of the time that elevators are operational systemwide. The availability rate is based on physical observations performed the morning of regular business days only. This is a new indicator the agency began reporting in 2009.',\n",
       "  'PERIOD_YEAR': 2009,\n",
       "  'PERIOD_MONTH': 10,\n",
       "  'CATEGORY': 'Service Indicators',\n",
       "  'FREQUENCY': 'M',\n",
       "  'INDICATOR_UNIT': '%',\n",
       "  'YTD_TARGET': '',\n",
       "  'YTD_ACTUAL': 99.14,\n",
       "  'MONTHLY_TARGET': '',\n",
       "  'MONTHLY_ACTUAL': 99.6},\n",
       " {'AGENCY_NAME': 'Metro-North Railroad',\n",
       "  'INDICATOR_NAME': 'Elevator Availability',\n",
       "  'DESCRIPTION': 'Percent of the time that elevators are operational systemwide. The availability rate is based on physical observations performed the morning of regular business days only. This is a new indicator the agency began reporting in 2009.',\n",
       "  'PERIOD_YEAR': 2009,\n",
       "  'PERIOD_MONTH': 11,\n",
       "  'CATEGORY': 'Service Indicators',\n",
       "  'FREQUENCY': 'M',\n",
       "  'INDICATOR_UNIT': '%',\n",
       "  'YTD_TARGET': '',\n",
       "  'YTD_ACTUAL': 99.16,\n",
       "  'MONTHLY_TARGET': '',\n",
       "  'MONTHLY_ACTUAL': 98.4},\n",
       " {'AGENCY_NAME': 'Metro-North Railroad',\n",
       "  'INDICATOR_NAME': 'Elevator Availability',\n",
       "  'DESCRIPTION': 'Percent of the time that elevators are operational systemwide. The availability rate is based on physical observations performed the morning of regular business days only. This is a new indicator the agency began reporting in 2009.',\n",
       "  'PERIOD_YEAR': 2009,\n",
       "  'PERIOD_MONTH': 12,\n",
       "  'CATEGORY': 'Service Indicators',\n",
       "  'FREQUENCY': 'M',\n",
       "  'INDICATOR_UNIT': '%',\n",
       "  'YTD_TARGET': '',\n",
       "  'YTD_ACTUAL': 99.21,\n",
       "  'MONTHLY_TARGET': '',\n",
       "  'MONTHLY_ACTUAL': 99.8},\n",
       " {'AGENCY_NAME': 'Metro-North Railroad',\n",
       "  'INDICATOR_NAME': 'Elevator Availability',\n",
       "  'DESCRIPTION': 'Percent of the time that elevators are operational systemwide. The availability rate is based on physical observations performed the morning of regular business days only. This is a new indicator the agency began reporting in 2009.',\n",
       "  'PERIOD_YEAR': 2010,\n",
       "  'PERIOD_MONTH': 1,\n",
       "  'CATEGORY': 'Service Indicators',\n",
       "  'FREQUENCY': 'M',\n",
       "  'INDICATOR_UNIT': '%',\n",
       "  'YTD_TARGET': 97.0,\n",
       "  'YTD_ACTUAL': 99.75,\n",
       "  'MONTHLY_TARGET': 97.0,\n",
       "  'MONTHLY_ACTUAL': 99.75},\n",
       " {'AGENCY_NAME': 'Metro-North Railroad',\n",
       "  'INDICATOR_NAME': 'Elevator Availability',\n",
       "  'DESCRIPTION': 'Percent of the time that elevators are operational systemwide. The availability rate is based on physical observations performed the morning of regular business days only. This is a new indicator the agency began reporting in 2009.',\n",
       "  'PERIOD_YEAR': 2010,\n",
       "  'PERIOD_MONTH': 2,\n",
       "  'CATEGORY': 'Service Indicators',\n",
       "  'FREQUENCY': 'M',\n",
       "  'INDICATOR_UNIT': '%',\n",
       "  'YTD_TARGET': 97.0,\n",
       "  'YTD_ACTUAL': 99.19,\n",
       "  'MONTHLY_TARGET': 97.0,\n",
       "  'MONTHLY_ACTUAL': 98.58},\n",
       " {'AGENCY_NAME': 'Metro-North Railroad',\n",
       "  'INDICATOR_NAME': 'Elevator Availability',\n",
       "  'DESCRIPTION': 'Percent of the time that elevators are operational systemwide. The availability rate is based on physical observations performed the morning of regular business days only. This is a new indicator the agency began reporting in 2009.',\n",
       "  'PERIOD_YEAR': 2010,\n",
       "  'PERIOD_MONTH': 3,\n",
       "  'CATEGORY': 'Service Indicators',\n",
       "  'FREQUENCY': 'M',\n",
       "  'INDICATOR_UNIT': '%',\n",
       "  'YTD_TARGET': 97.0,\n",
       "  'YTD_ACTUAL': 98.74,\n",
       "  'MONTHLY_TARGET': 97.0,\n",
       "  'MONTHLY_ACTUAL': 97.88},\n",
       " {'AGENCY_NAME': 'Metro-North Railroad',\n",
       "  'INDICATOR_NAME': 'Elevator Availability',\n",
       "  'DESCRIPTION': 'Percent of the time that elevators are operational systemwide. The availability rate is based on physical observations performed the morning of regular business days only. This is a new indicator the agency began reporting in 2009.',\n",
       "  'PERIOD_YEAR': 2010,\n",
       "  'PERIOD_MONTH': 4,\n",
       "  'CATEGORY': 'Service Indicators',\n",
       "  'FREQUENCY': 'M',\n",
       "  'INDICATOR_UNIT': '%',\n",
       "  'YTD_TARGET': 97.0,\n",
       "  'YTD_ACTUAL': 98.9,\n",
       "  'MONTHLY_TARGET': 97.0,\n",
       "  'MONTHLY_ACTUAL': 99.38},\n",
       " {'AGENCY_NAME': 'Metro-North Railroad',\n",
       "  'INDICATOR_NAME': 'Elevator Availability',\n",
       "  'DESCRIPTION': 'Percent of the time that elevators are operational systemwide. The availability rate is based on physical observations performed the morning of regular business days only. This is a new indicator the agency began reporting in 2009.',\n",
       "  'PERIOD_YEAR': 2010,\n",
       "  'PERIOD_MONTH': 5,\n",
       "  'CATEGORY': 'Service Indicators',\n",
       "  'FREQUENCY': 'M',\n",
       "  'INDICATOR_UNIT': '%',\n",
       "  'YTD_TARGET': 97.0,\n",
       "  'YTD_ACTUAL': 98.85,\n",
       "  'MONTHLY_TARGET': 97.0,\n",
       "  'MONTHLY_ACTUAL': 99.2},\n",
       " {'AGENCY_NAME': 'Metro-North Railroad',\n",
       "  'INDICATOR_NAME': 'Elevator Availability',\n",
       "  'DESCRIPTION': 'Percent of the time that elevators are operational systemwide. The availability rate is based on physical observations performed the morning of regular business days only. This is a new indicator the agency began reporting in 2009.',\n",
       "  'PERIOD_YEAR': 2010,\n",
       "  'PERIOD_MONTH': 6,\n",
       "  'CATEGORY': 'Service Indicators',\n",
       "  'FREQUENCY': 'M',\n",
       "  'INDICATOR_UNIT': '%',\n",
       "  'YTD_TARGET': 97.0,\n",
       "  'YTD_ACTUAL': 98.6,\n",
       "  'MONTHLY_TARGET': 97.0,\n",
       "  'MONTHLY_ACTUAL': 97.6},\n",
       " {'AGENCY_NAME': 'Metro-North Railroad',\n",
       "  'INDICATOR_NAME': 'Elevator Availability',\n",
       "  'DESCRIPTION': 'Percent of the time that elevators are operational systemwide. The availability rate is based on physical observations performed the morning of regular business days only. This is a new indicator the agency began reporting in 2009.',\n",
       "  'PERIOD_YEAR': 2010,\n",
       "  'PERIOD_MONTH': 7,\n",
       "  'CATEGORY': 'Service Indicators',\n",
       "  'FREQUENCY': 'M',\n",
       "  'INDICATOR_UNIT': '%',\n",
       "  'YTD_TARGET': 97.0,\n",
       "  'YTD_ACTUAL': 98.44,\n",
       "  'MONTHLY_TARGET': 97.0,\n",
       "  'MONTHLY_ACTUAL': 97.3},\n",
       " {'AGENCY_NAME': 'Metro-North Railroad',\n",
       "  'INDICATOR_NAME': 'Elevator Availability',\n",
       "  'DESCRIPTION': 'Percent of the time that elevators are operational systemwide. The availability rate is based on physical observations performed the morning of regular business days only. This is a new indicator the agency began reporting in 2009.',\n",
       "  'PERIOD_YEAR': 2010,\n",
       "  'PERIOD_MONTH': 8,\n",
       "  'CATEGORY': 'Service Indicators',\n",
       "  'FREQUENCY': 'M',\n",
       "  'INDICATOR_UNIT': '%',\n",
       "  'YTD_TARGET': 97.0,\n",
       "  'YTD_ACTUAL': 98.27,\n",
       "  'MONTHLY_TARGET': 97.0,\n",
       "  'MONTHLY_ACTUAL': 97.1},\n",
       " {'AGENCY_NAME': 'Metro-North Railroad',\n",
       "  'INDICATOR_NAME': 'Elevator Availability',\n",
       "  'DESCRIPTION': 'Percent of the time that elevators are operational systemwide. The availability rate is based on physical observations performed the morning of regular business days only. This is a new indicator the agency began reporting in 2009.',\n",
       "  'PERIOD_YEAR': 2010,\n",
       "  'PERIOD_MONTH': 9,\n",
       "  'CATEGORY': 'Service Indicators',\n",
       "  'FREQUENCY': 'M',\n",
       "  'INDICATOR_UNIT': '%',\n",
       "  'YTD_TARGET': 97.0,\n",
       "  'YTD_ACTUAL': 98.34,\n",
       "  'MONTHLY_TARGET': 97.0,\n",
       "  'MONTHLY_ACTUAL': 98.97},\n",
       " {'AGENCY_NAME': 'Metro-North Railroad',\n",
       "  'INDICATOR_NAME': 'Elevator Availability',\n",
       "  'DESCRIPTION': 'Percent of the time that elevators are operational systemwide. The availability rate is based on physical observations performed the morning of regular business days only. This is a new indicator the agency began reporting in 2009.',\n",
       "  'PERIOD_YEAR': 2010,\n",
       "  'PERIOD_MONTH': 10,\n",
       "  'CATEGORY': 'Service Indicators',\n",
       "  'FREQUENCY': 'M',\n",
       "  'INDICATOR_UNIT': '%',\n",
       "  'YTD_TARGET': 97.0,\n",
       "  'YTD_ACTUAL': 98.36,\n",
       "  'MONTHLY_TARGET': 97.0,\n",
       "  'MONTHLY_ACTUAL': 98.6},\n",
       " {'AGENCY_NAME': 'Metro-North Railroad',\n",
       "  'INDICATOR_NAME': 'Elevator Availability',\n",
       "  'DESCRIPTION': 'Percent of the time that elevators are operational systemwide. The availability rate is based on physical observations performed the morning of regular business days only. This is a new indicator the agency began reporting in 2009.',\n",
       "  'PERIOD_YEAR': 2010,\n",
       "  'PERIOD_MONTH': 11,\n",
       "  'CATEGORY': 'Service Indicators',\n",
       "  'FREQUENCY': 'M',\n",
       "  'INDICATOR_UNIT': '%',\n",
       "  'YTD_TARGET': 97.0,\n",
       "  'YTD_ACTUAL': 98.48,\n",
       "  'MONTHLY_TARGET': 97.0,\n",
       "  'MONTHLY_ACTUAL': 99.64},\n",
       " {'AGENCY_NAME': 'Metro-North Railroad',\n",
       "  'INDICATOR_NAME': 'Elevator Availability',\n",
       "  'DESCRIPTION': 'Percent of the time that elevators are operational systemwide. The availability rate is based on physical observations performed the morning of regular business days only. This is a new indicator the agency began reporting in 2009.',\n",
       "  'PERIOD_YEAR': 2010,\n",
       "  'PERIOD_MONTH': 12,\n",
       "  'CATEGORY': 'Service Indicators',\n",
       "  'FREQUENCY': 'M',\n",
       "  'INDICATOR_UNIT': '%',\n",
       "  'YTD_TARGET': 97.0,\n",
       "  'YTD_ACTUAL': 98.48,\n",
       "  'MONTHLY_TARGET': 97.0,\n",
       "  'MONTHLY_ACTUAL': 98.47},\n",
       " {'AGENCY_NAME': 'Metro-North Railroad',\n",
       "  'INDICATOR_NAME': 'Elevator Availability',\n",
       "  'DESCRIPTION': 'Percent of the time that elevators are operational systemwide. The availability rate is based on physical observations performed the morning of regular business days only. This is a new indicator the agency began reporting in 2009.',\n",
       "  'PERIOD_YEAR': 2011,\n",
       "  'PERIOD_MONTH': 1,\n",
       "  'CATEGORY': 'Service Indicators',\n",
       "  'FREQUENCY': 'M',\n",
       "  'INDICATOR_UNIT': '%',\n",
       "  'YTD_TARGET': 97.0,\n",
       "  'YTD_ACTUAL': 99.37,\n",
       "  'MONTHLY_TARGET': 97.0,\n",
       "  'MONTHLY_ACTUAL': 99.37},\n",
       " {'AGENCY_NAME': 'Metro-North Railroad',\n",
       "  'INDICATOR_NAME': 'Elevator Availability',\n",
       "  'DESCRIPTION': 'Percent of the time that elevators are operational systemwide. The availability rate is based on physical observations performed the morning of regular business days only. This is a new indicator the agency began reporting in 2009.',\n",
       "  'PERIOD_YEAR': 2011,\n",
       "  'PERIOD_MONTH': 2,\n",
       "  'CATEGORY': 'Service Indicators',\n",
       "  'FREQUENCY': 'M',\n",
       "  'INDICATOR_UNIT': '%',\n",
       "  'YTD_TARGET': 97.0,\n",
       "  'YTD_ACTUAL': 99.93,\n",
       "  'MONTHLY_TARGET': 97.0,\n",
       "  'MONTHLY_ACTUAL': 99.86},\n",
       " {'AGENCY_NAME': 'Metro-North Railroad',\n",
       "  'INDICATOR_NAME': 'Elevator Availability',\n",
       "  'DESCRIPTION': 'Percent of the time that elevators are operational systemwide. The availability rate is based on physical observations performed the morning of regular business days only. This is a new indicator the agency began reporting in 2009.',\n",
       "  'PERIOD_YEAR': 2011,\n",
       "  'PERIOD_MONTH': 3,\n",
       "  'CATEGORY': 'Service Indicators',\n",
       "  'FREQUENCY': 'M',\n",
       "  'INDICATOR_UNIT': '%',\n",
       "  'YTD_TARGET': 97.0,\n",
       "  'YTD_ACTUAL': 99.52,\n",
       "  'MONTHLY_TARGET': 97.0,\n",
       "  'MONTHLY_ACTUAL': 99.37},\n",
       " {'AGENCY_NAME': 'Metro-North Railroad',\n",
       "  'INDICATOR_NAME': 'Elevator Availability',\n",
       "  'DESCRIPTION': 'Percent of the time that elevators are operational systemwide. The availability rate is based on physical observations performed the morning of regular business days only. This is a new indicator the agency began reporting in 2009.',\n",
       "  'PERIOD_YEAR': 2011,\n",
       "  'PERIOD_MONTH': 4,\n",
       "  'CATEGORY': 'Service Indicators',\n",
       "  'FREQUENCY': 'M',\n",
       "  'INDICATOR_UNIT': '%',\n",
       "  'YTD_TARGET': 97.0,\n",
       "  'YTD_ACTUAL': 99.46,\n",
       "  'MONTHLY_TARGET': 97.0,\n",
       "  'MONTHLY_ACTUAL': 99.82},\n",
       " {'AGENCY_NAME': 'Metro-North Railroad',\n",
       "  'INDICATOR_NAME': 'Elevator Availability',\n",
       "  'DESCRIPTION': 'Percent of the time that elevators are operational systemwide. The availability rate is based on physical observations performed the morning of regular business days only. This is a new indicator the agency began reporting in 2009.',\n",
       "  'PERIOD_YEAR': 2011,\n",
       "  'PERIOD_MONTH': 5,\n",
       "  'CATEGORY': 'Service Indicators',\n",
       "  'FREQUENCY': 'M',\n",
       "  'INDICATOR_UNIT': '%',\n",
       "  'YTD_TARGET': 97.0,\n",
       "  'YTD_ACTUAL': 99.54,\n",
       "  'MONTHLY_TARGET': 97.0,\n",
       "  'MONTHLY_ACTUAL': 99.76},\n",
       " {'AGENCY_NAME': 'Metro-North Railroad',\n",
       "  'INDICATOR_NAME': 'Elevator Availability',\n",
       "  'DESCRIPTION': 'Percent of the time that elevators are operational systemwide. The availability rate is based on physical observations performed the morning of regular business days only. This is a new indicator the agency began reporting in 2009.',\n",
       "  'PERIOD_YEAR': 2011,\n",
       "  'PERIOD_MONTH': 6,\n",
       "  'CATEGORY': 'Service Indicators',\n",
       "  'FREQUENCY': 'M',\n",
       "  'INDICATOR_UNIT': '%',\n",
       "  'YTD_TARGET': 97.0,\n",
       "  'YTD_ACTUAL': '',\n",
       "  'MONTHLY_TARGET': 97.0,\n",
       "  'MONTHLY_ACTUAL': ''},\n",
       " {'AGENCY_NAME': 'Metro-North Railroad',\n",
       "  'INDICATOR_NAME': 'Elevator Availability',\n",
       "  'DESCRIPTION': 'Percent of the time that elevators are operational systemwide. The availability rate is based on physical observations performed the morning of regular business days only. This is a new indicator the agency began reporting in 2009.',\n",
       "  'PERIOD_YEAR': 2011,\n",
       "  'PERIOD_MONTH': 7,\n",
       "  'CATEGORY': 'Service Indicators',\n",
       "  'FREQUENCY': 'M',\n",
       "  'INDICATOR_UNIT': '%',\n",
       "  'YTD_TARGET': 97.0,\n",
       "  'YTD_ACTUAL': '',\n",
       "  'MONTHLY_TARGET': 97.0,\n",
       "  'MONTHLY_ACTUAL': ''},\n",
       " {'AGENCY_NAME': 'Metro-North Railroad',\n",
       "  'INDICATOR_NAME': 'Elevator Availability',\n",
       "  'DESCRIPTION': 'Percent of the time that elevators are operational systemwide. The availability rate is based on physical observations performed the morning of regular business days only. This is a new indicator the agency began reporting in 2009.',\n",
       "  'PERIOD_YEAR': 2011,\n",
       "  'PERIOD_MONTH': 8,\n",
       "  'CATEGORY': 'Service Indicators',\n",
       "  'FREQUENCY': 'M',\n",
       "  'INDICATOR_UNIT': '%',\n",
       "  'YTD_TARGET': 97.0,\n",
       "  'YTD_ACTUAL': '',\n",
       "  'MONTHLY_TARGET': 97.0,\n",
       "  'MONTHLY_ACTUAL': ''},\n",
       " {'AGENCY_NAME': 'Metro-North Railroad',\n",
       "  'INDICATOR_NAME': 'Elevator Availability',\n",
       "  'DESCRIPTION': 'Percent of the time that elevators are operational systemwide. The availability rate is based on physical observations performed the morning of regular business days only. This is a new indicator the agency began reporting in 2009.',\n",
       "  'PERIOD_YEAR': 2011,\n",
       "  'PERIOD_MONTH': 9,\n",
       "  'CATEGORY': 'Service Indicators',\n",
       "  'FREQUENCY': 'M',\n",
       "  'INDICATOR_UNIT': '%',\n",
       "  'YTD_TARGET': 97.0,\n",
       "  'YTD_ACTUAL': '',\n",
       "  'MONTHLY_TARGET': 97.0,\n",
       "  'MONTHLY_ACTUAL': ''},\n",
       " {'AGENCY_NAME': 'Metro-North Railroad',\n",
       "  'INDICATOR_NAME': 'Elevator Availability',\n",
       "  'DESCRIPTION': 'Percent of the time that elevators are operational systemwide. The availability rate is based on physical observations performed the morning of regular business days only. This is a new indicator the agency began reporting in 2009.',\n",
       "  'PERIOD_YEAR': 2011,\n",
       "  'PERIOD_MONTH': 10,\n",
       "  'CATEGORY': 'Service Indicators',\n",
       "  'FREQUENCY': 'M',\n",
       "  'INDICATOR_UNIT': '%',\n",
       "  'YTD_TARGET': 97.0,\n",
       "  'YTD_ACTUAL': '',\n",
       "  'MONTHLY_TARGET': 97.0,\n",
       "  'MONTHLY_ACTUAL': ''},\n",
       " {'AGENCY_NAME': 'Metro-North Railroad',\n",
       "  'INDICATOR_NAME': 'Elevator Availability',\n",
       "  'DESCRIPTION': 'Percent of the time that elevators are operational systemwide. The availability rate is based on physical observations performed the morning of regular business days only. This is a new indicator the agency began reporting in 2009.',\n",
       "  'PERIOD_YEAR': 2011,\n",
       "  'PERIOD_MONTH': 11,\n",
       "  'CATEGORY': 'Service Indicators',\n",
       "  'FREQUENCY': 'M',\n",
       "  'INDICATOR_UNIT': '%',\n",
       "  'YTD_TARGET': 97.0,\n",
       "  'YTD_ACTUAL': '',\n",
       "  'MONTHLY_TARGET': 97.0,\n",
       "  'MONTHLY_ACTUAL': ''},\n",
       " {'AGENCY_NAME': 'Metro-North Railroad',\n",
       "  'INDICATOR_NAME': 'Elevator Availability',\n",
       "  'DESCRIPTION': 'Percent of the time that elevators are operational systemwide. The availability rate is based on physical observations performed the morning of regular business days only. This is a new indicator the agency began reporting in 2009.',\n",
       "  'PERIOD_YEAR': 2011,\n",
       "  'PERIOD_MONTH': 12,\n",
       "  'CATEGORY': 'Service Indicators',\n",
       "  'FREQUENCY': 'M',\n",
       "  'INDICATOR_UNIT': '%',\n",
       "  'YTD_TARGET': 97.0,\n",
       "  'YTD_ACTUAL': '',\n",
       "  'MONTHLY_TARGET': 97.0,\n",
       "  'MONTHLY_ACTUAL': ''},\n",
       " {'AGENCY_NAME': 'Metro-North Railroad',\n",
       "  'INDICATOR_NAME': 'Escalator Availability',\n",
       "  'DESCRIPTION': 'Percent of the time that escalators are operational systemwide. The availability rate is based on physical observations performed the morning of regular business days only. This is a new indicator the agency began reporting in 2009.',\n",
       "  'PERIOD_YEAR': 2008,\n",
       "  'PERIOD_MONTH': 1,\n",
       "  'CATEGORY': 'Service Indicators',\n",
       "  'FREQUENCY': 'M',\n",
       "  'INDICATOR_UNIT': '%',\n",
       "  'YTD_TARGET': '',\n",
       "  'YTD_ACTUAL': '',\n",
       "  'MONTHLY_TARGET': '',\n",
       "  'MONTHLY_ACTUAL': ''},\n",
       " {'AGENCY_NAME': 'Metro-North Railroad',\n",
       "  'INDICATOR_NAME': 'Escalator Availability',\n",
       "  'DESCRIPTION': 'Percent of the time that escalators are operational systemwide. The availability rate is based on physical observations performed the morning of regular business days only. This is a new indicator the agency began reporting in 2009.',\n",
       "  'PERIOD_YEAR': 2008,\n",
       "  'PERIOD_MONTH': 2,\n",
       "  'CATEGORY': 'Service Indicators',\n",
       "  'FREQUENCY': 'M',\n",
       "  'INDICATOR_UNIT': '%',\n",
       "  'YTD_TARGET': '',\n",
       "  'YTD_ACTUAL': '',\n",
       "  'MONTHLY_TARGET': '',\n",
       "  'MONTHLY_ACTUAL': ''},\n",
       " {'AGENCY_NAME': 'Metro-North Railroad',\n",
       "  'INDICATOR_NAME': 'Escalator Availability',\n",
       "  'DESCRIPTION': 'Percent of the time that escalators are operational systemwide. The availability rate is based on physical observations performed the morning of regular business days only. This is a new indicator the agency began reporting in 2009.',\n",
       "  'PERIOD_YEAR': 2008,\n",
       "  'PERIOD_MONTH': 3,\n",
       "  'CATEGORY': 'Service Indicators',\n",
       "  'FREQUENCY': 'M',\n",
       "  'INDICATOR_UNIT': '%',\n",
       "  'YTD_TARGET': '',\n",
       "  'YTD_ACTUAL': '',\n",
       "  'MONTHLY_TARGET': '',\n",
       "  'MONTHLY_ACTUAL': ''},\n",
       " {'AGENCY_NAME': 'Metro-North Railroad',\n",
       "  'INDICATOR_NAME': 'Escalator Availability',\n",
       "  'DESCRIPTION': 'Percent of the time that escalators are operational systemwide. The availability rate is based on physical observations performed the morning of regular business days only. This is a new indicator the agency began reporting in 2009.',\n",
       "  'PERIOD_YEAR': 2008,\n",
       "  'PERIOD_MONTH': 4,\n",
       "  'CATEGORY': 'Service Indicators',\n",
       "  'FREQUENCY': 'M',\n",
       "  'INDICATOR_UNIT': '%',\n",
       "  'YTD_TARGET': '',\n",
       "  'YTD_ACTUAL': '',\n",
       "  'MONTHLY_TARGET': '',\n",
       "  'MONTHLY_ACTUAL': ''},\n",
       " {'AGENCY_NAME': 'Metro-North Railroad',\n",
       "  'INDICATOR_NAME': 'Escalator Availability',\n",
       "  'DESCRIPTION': 'Percent of the time that escalators are operational systemwide. The availability rate is based on physical observations performed the morning of regular business days only. This is a new indicator the agency began reporting in 2009.',\n",
       "  'PERIOD_YEAR': 2008,\n",
       "  'PERIOD_MONTH': 5,\n",
       "  'CATEGORY': 'Service Indicators',\n",
       "  'FREQUENCY': 'M',\n",
       "  'INDICATOR_UNIT': '%',\n",
       "  'YTD_TARGET': '',\n",
       "  'YTD_ACTUAL': '',\n",
       "  'MONTHLY_TARGET': '',\n",
       "  'MONTHLY_ACTUAL': ''},\n",
       " {'AGENCY_NAME': 'Metro-North Railroad',\n",
       "  'INDICATOR_NAME': 'Escalator Availability',\n",
       "  'DESCRIPTION': 'Percent of the time that escalators are operational systemwide. The availability rate is based on physical observations performed the morning of regular business days only. This is a new indicator the agency began reporting in 2009.',\n",
       "  'PERIOD_YEAR': 2008,\n",
       "  'PERIOD_MONTH': 6,\n",
       "  'CATEGORY': 'Service Indicators',\n",
       "  'FREQUENCY': 'M',\n",
       "  'INDICATOR_UNIT': '%',\n",
       "  'YTD_TARGET': '',\n",
       "  'YTD_ACTUAL': '',\n",
       "  'MONTHLY_TARGET': '',\n",
       "  'MONTHLY_ACTUAL': ''},\n",
       " {'AGENCY_NAME': 'Metro-North Railroad',\n",
       "  'INDICATOR_NAME': 'Escalator Availability',\n",
       "  'DESCRIPTION': 'Percent of the time that escalators are operational systemwide. The availability rate is based on physical observations performed the morning of regular business days only. This is a new indicator the agency began reporting in 2009.',\n",
       "  'PERIOD_YEAR': 2008,\n",
       "  'PERIOD_MONTH': 7,\n",
       "  'CATEGORY': 'Service Indicators',\n",
       "  'FREQUENCY': 'M',\n",
       "  'INDICATOR_UNIT': '%',\n",
       "  'YTD_TARGET': '',\n",
       "  'YTD_ACTUAL': '',\n",
       "  'MONTHLY_TARGET': '',\n",
       "  'MONTHLY_ACTUAL': ''},\n",
       " {'AGENCY_NAME': 'Metro-North Railroad',\n",
       "  'INDICATOR_NAME': 'Escalator Availability',\n",
       "  'DESCRIPTION': 'Percent of the time that escalators are operational systemwide. The availability rate is based on physical observations performed the morning of regular business days only. This is a new indicator the agency began reporting in 2009.',\n",
       "  'PERIOD_YEAR': 2008,\n",
       "  'PERIOD_MONTH': 8,\n",
       "  'CATEGORY': 'Service Indicators',\n",
       "  'FREQUENCY': 'M',\n",
       "  'INDICATOR_UNIT': '%',\n",
       "  'YTD_TARGET': '',\n",
       "  'YTD_ACTUAL': '',\n",
       "  'MONTHLY_TARGET': '',\n",
       "  'MONTHLY_ACTUAL': ''},\n",
       " {'AGENCY_NAME': 'Metro-North Railroad',\n",
       "  'INDICATOR_NAME': 'Escalator Availability',\n",
       "  'DESCRIPTION': 'Percent of the time that escalators are operational systemwide. The availability rate is based on physical observations performed the morning of regular business days only. This is a new indicator the agency began reporting in 2009.',\n",
       "  'PERIOD_YEAR': 2008,\n",
       "  'PERIOD_MONTH': 9,\n",
       "  'CATEGORY': 'Service Indicators',\n",
       "  'FREQUENCY': 'M',\n",
       "  'INDICATOR_UNIT': '%',\n",
       "  'YTD_TARGET': '',\n",
       "  'YTD_ACTUAL': '',\n",
       "  'MONTHLY_TARGET': '',\n",
       "  'MONTHLY_ACTUAL': ''},\n",
       " {'AGENCY_NAME': 'Metro-North Railroad',\n",
       "  'INDICATOR_NAME': 'Escalator Availability',\n",
       "  'DESCRIPTION': 'Percent of the time that escalators are operational systemwide. The availability rate is based on physical observations performed the morning of regular business days only. This is a new indicator the agency began reporting in 2009.',\n",
       "  'PERIOD_YEAR': 2008,\n",
       "  'PERIOD_MONTH': 10,\n",
       "  'CATEGORY': 'Service Indicators',\n",
       "  'FREQUENCY': 'M',\n",
       "  'INDICATOR_UNIT': '%',\n",
       "  'YTD_TARGET': '',\n",
       "  'YTD_ACTUAL': '',\n",
       "  'MONTHLY_TARGET': '',\n",
       "  'MONTHLY_ACTUAL': ''},\n",
       " {'AGENCY_NAME': 'Metro-North Railroad',\n",
       "  'INDICATOR_NAME': 'Escalator Availability',\n",
       "  'DESCRIPTION': 'Percent of the time that escalators are operational systemwide. The availability rate is based on physical observations performed the morning of regular business days only. This is a new indicator the agency began reporting in 2009.',\n",
       "  'PERIOD_YEAR': 2008,\n",
       "  'PERIOD_MONTH': 11,\n",
       "  'CATEGORY': 'Service Indicators',\n",
       "  'FREQUENCY': 'M',\n",
       "  'INDICATOR_UNIT': '%',\n",
       "  'YTD_TARGET': '',\n",
       "  'YTD_ACTUAL': '',\n",
       "  'MONTHLY_TARGET': '',\n",
       "  'MONTHLY_ACTUAL': ''},\n",
       " {'AGENCY_NAME': 'Metro-North Railroad',\n",
       "  'INDICATOR_NAME': 'Escalator Availability',\n",
       "  'DESCRIPTION': 'Percent of the time that escalators are operational systemwide. The availability rate is based on physical observations performed the morning of regular business days only. This is a new indicator the agency began reporting in 2009.',\n",
       "  'PERIOD_YEAR': 2008,\n",
       "  'PERIOD_MONTH': 12,\n",
       "  'CATEGORY': 'Service Indicators',\n",
       "  'FREQUENCY': 'M',\n",
       "  'INDICATOR_UNIT': '%',\n",
       "  'YTD_TARGET': '',\n",
       "  'YTD_ACTUAL': '',\n",
       "  'MONTHLY_TARGET': '',\n",
       "  'MONTHLY_ACTUAL': ''},\n",
       " {'AGENCY_NAME': 'Metro-North Railroad',\n",
       "  'INDICATOR_NAME': 'Escalator Availability',\n",
       "  'DESCRIPTION': 'Percent of the time that escalators are operational systemwide. The availability rate is based on physical observations performed the morning of regular business days only. This is a new indicator the agency began reporting in 2009.',\n",
       "  'PERIOD_YEAR': 2009,\n",
       "  'PERIOD_MONTH': 1,\n",
       "  'CATEGORY': 'Service Indicators',\n",
       "  'FREQUENCY': 'M',\n",
       "  'INDICATOR_UNIT': '%',\n",
       "  'YTD_TARGET': '',\n",
       "  'YTD_ACTUAL': 91.0,\n",
       "  'MONTHLY_TARGET': '',\n",
       "  'MONTHLY_ACTUAL': 91.0},\n",
       " {'AGENCY_NAME': 'Metro-North Railroad',\n",
       "  'INDICATOR_NAME': 'Escalator Availability',\n",
       "  'DESCRIPTION': 'Percent of the time that escalators are operational systemwide. The availability rate is based on physical observations performed the morning of regular business days only. This is a new indicator the agency began reporting in 2009.',\n",
       "  'PERIOD_YEAR': 2009,\n",
       "  'PERIOD_MONTH': 2,\n",
       "  'CATEGORY': 'Service Indicators',\n",
       "  'FREQUENCY': 'M',\n",
       "  'INDICATOR_UNIT': '%',\n",
       "  'YTD_TARGET': '',\n",
       "  'YTD_ACTUAL': 91.0,\n",
       "  'MONTHLY_TARGET': '',\n",
       "  'MONTHLY_ACTUAL': 91.0},\n",
       " {'AGENCY_NAME': 'Metro-North Railroad',\n",
       "  'INDICATOR_NAME': 'Escalator Availability',\n",
       "  'DESCRIPTION': 'Percent of the time that escalators are operational systemwide. The availability rate is based on physical observations performed the morning of regular business days only. This is a new indicator the agency began reporting in 2009.',\n",
       "  'PERIOD_YEAR': 2009,\n",
       "  'PERIOD_MONTH': 3,\n",
       "  'CATEGORY': 'Service Indicators',\n",
       "  'FREQUENCY': 'M',\n",
       "  'INDICATOR_UNIT': '%',\n",
       "  'YTD_TARGET': '',\n",
       "  'YTD_ACTUAL': 93.66,\n",
       "  'MONTHLY_TARGET': '',\n",
       "  'MONTHLY_ACTUAL': 99.0},\n",
       " {'AGENCY_NAME': 'Metro-North Railroad',\n",
       "  'INDICATOR_NAME': 'Escalator Availability',\n",
       "  'DESCRIPTION': 'Percent of the time that escalators are operational systemwide. The availability rate is based on physical observations performed the morning of regular business days only. This is a new indicator the agency began reporting in 2009.',\n",
       "  'PERIOD_YEAR': 2009,\n",
       "  'PERIOD_MONTH': 4,\n",
       "  'CATEGORY': 'Service Indicators',\n",
       "  'FREQUENCY': 'M',\n",
       "  'INDICATOR_UNIT': '%',\n",
       "  'YTD_TARGET': '',\n",
       "  'YTD_ACTUAL': 95.25,\n",
       "  'MONTHLY_TARGET': '',\n",
       "  'MONTHLY_ACTUAL': 100.0},\n",
       " {'AGENCY_NAME': 'Metro-North Railroad',\n",
       "  'INDICATOR_NAME': 'Escalator Availability',\n",
       "  'DESCRIPTION': 'Percent of the time that escalators are operational systemwide. The availability rate is based on physical observations performed the morning of regular business days only. This is a new indicator the agency began reporting in 2009.',\n",
       "  'PERIOD_YEAR': 2009,\n",
       "  'PERIOD_MONTH': 5,\n",
       "  'CATEGORY': 'Service Indicators',\n",
       "  'FREQUENCY': 'M',\n",
       "  'INDICATOR_UNIT': '%',\n",
       "  'YTD_TARGET': '',\n",
       "  'YTD_ACTUAL': 95.0,\n",
       "  'MONTHLY_TARGET': '',\n",
       "  'MONTHLY_ACTUAL': 94.0},\n",
       " {'AGENCY_NAME': 'Metro-North Railroad',\n",
       "  'INDICATOR_NAME': 'Escalator Availability',\n",
       "  'DESCRIPTION': 'Percent of the time that escalators are operational systemwide. The availability rate is based on physical observations performed the morning of regular business days only. This is a new indicator the agency began reporting in 2009.',\n",
       "  'PERIOD_YEAR': 2009,\n",
       "  'PERIOD_MONTH': 6,\n",
       "  'CATEGORY': 'Service Indicators',\n",
       "  'FREQUENCY': 'M',\n",
       "  'INDICATOR_UNIT': '%',\n",
       "  'YTD_TARGET': '',\n",
       "  'YTD_ACTUAL': 95.33,\n",
       "  'MONTHLY_TARGET': '',\n",
       "  'MONTHLY_ACTUAL': 97.0},\n",
       " {'AGENCY_NAME': 'Metro-North Railroad',\n",
       "  'INDICATOR_NAME': 'Escalator Availability',\n",
       "  'DESCRIPTION': 'Percent of the time that escalators are operational systemwide. The availability rate is based on physical observations performed the morning of regular business days only. This is a new indicator the agency began reporting in 2009.',\n",
       "  'PERIOD_YEAR': 2009,\n",
       "  'PERIOD_MONTH': 7,\n",
       "  'CATEGORY': 'Service Indicators',\n",
       "  'FREQUENCY': 'M',\n",
       "  'INDICATOR_UNIT': '%',\n",
       "  'YTD_TARGET': '',\n",
       "  'YTD_ACTUAL': 95.14,\n",
       "  'MONTHLY_TARGET': '',\n",
       "  'MONTHLY_ACTUAL': 94.0},\n",
       " {'AGENCY_NAME': 'Metro-North Railroad',\n",
       "  'INDICATOR_NAME': 'Escalator Availability',\n",
       "  'DESCRIPTION': 'Percent of the time that escalators are operational systemwide. The availability rate is based on physical observations performed the morning of regular business days only. This is a new indicator the agency began reporting in 2009.',\n",
       "  'PERIOD_YEAR': 2009,\n",
       "  'PERIOD_MONTH': 8,\n",
       "  'CATEGORY': 'Service Indicators',\n",
       "  'FREQUENCY': 'M',\n",
       "  'INDICATOR_UNIT': '%',\n",
       "  'YTD_TARGET': '',\n",
       "  'YTD_ACTUAL': 95.38,\n",
       "  'MONTHLY_TARGET': '',\n",
       "  'MONTHLY_ACTUAL': 97.0},\n",
       " {'AGENCY_NAME': 'Metro-North Railroad',\n",
       "  'INDICATOR_NAME': 'Escalator Availability',\n",
       "  'DESCRIPTION': 'Percent of the time that escalators are operational systemwide. The availability rate is based on physical observations performed the morning of regular business days only. This is a new indicator the agency began reporting in 2009.',\n",
       "  'PERIOD_YEAR': 2009,\n",
       "  'PERIOD_MONTH': 9,\n",
       "  'CATEGORY': 'Service Indicators',\n",
       "  'FREQUENCY': 'M',\n",
       "  'INDICATOR_UNIT': '%',\n",
       "  'YTD_TARGET': '',\n",
       "  'YTD_ACTUAL': 95.7,\n",
       "  'MONTHLY_TARGET': '',\n",
       "  'MONTHLY_ACTUAL': 98.3},\n",
       " {'AGENCY_NAME': 'Metro-North Railroad',\n",
       "  'INDICATOR_NAME': 'Escalator Availability',\n",
       "  'DESCRIPTION': 'Percent of the time that escalators are operational systemwide. The availability rate is based on physical observations performed the morning of regular business days only. This is a new indicator the agency began reporting in 2009.',\n",
       "  'PERIOD_YEAR': 2009,\n",
       "  'PERIOD_MONTH': 10,\n",
       "  'CATEGORY': 'Service Indicators',\n",
       "  'FREQUENCY': 'M',\n",
       "  'INDICATOR_UNIT': '%',\n",
       "  'YTD_TARGET': '',\n",
       "  'YTD_ACTUAL': 96.0,\n",
       "  'MONTHLY_TARGET': '',\n",
       "  'MONTHLY_ACTUAL': 98.7},\n",
       " {'AGENCY_NAME': 'Metro-North Railroad',\n",
       "  'INDICATOR_NAME': 'Escalator Availability',\n",
       "  'DESCRIPTION': 'Percent of the time that escalators are operational systemwide. The availability rate is based on physical observations performed the morning of regular business days only. This is a new indicator the agency began reporting in 2009.',\n",
       "  'PERIOD_YEAR': 2009,\n",
       "  'PERIOD_MONTH': 11,\n",
       "  'CATEGORY': 'Service Indicators',\n",
       "  'FREQUENCY': 'M',\n",
       "  'INDICATOR_UNIT': '%',\n",
       "  'YTD_TARGET': '',\n",
       "  'YTD_ACTUAL': 96.21,\n",
       "  'MONTHLY_TARGET': '',\n",
       "  'MONTHLY_ACTUAL': 98.1},\n",
       " {'AGENCY_NAME': 'Metro-North Railroad',\n",
       "  'INDICATOR_NAME': 'Escalator Availability',\n",
       "  'DESCRIPTION': 'Percent of the time that escalators are operational systemwide. The availability rate is based on physical observations performed the morning of regular business days only. This is a new indicator the agency began reporting in 2009.',\n",
       "  'PERIOD_YEAR': 2009,\n",
       "  'PERIOD_MONTH': 12,\n",
       "  'CATEGORY': 'Service Indicators',\n",
       "  'FREQUENCY': 'M',\n",
       "  'INDICATOR_UNIT': '%',\n",
       "  'YTD_TARGET': '',\n",
       "  'YTD_ACTUAL': 96.5,\n",
       "  'MONTHLY_TARGET': '',\n",
       "  'MONTHLY_ACTUAL': 100.0},\n",
       " {'AGENCY_NAME': 'Metro-North Railroad',\n",
       "  'INDICATOR_NAME': 'Escalator Availability',\n",
       "  'DESCRIPTION': 'Percent of the time that escalators are operational systemwide. The availability rate is based on physical observations performed the morning of regular business days only. This is a new indicator the agency began reporting in 2009.',\n",
       "  'PERIOD_YEAR': 2010,\n",
       "  'PERIOD_MONTH': 1,\n",
       "  'CATEGORY': 'Service Indicators',\n",
       "  'FREQUENCY': 'M',\n",
       "  'INDICATOR_UNIT': '%',\n",
       "  'YTD_TARGET': 97.0,\n",
       "  'YTD_ACTUAL': 97.95,\n",
       "  'MONTHLY_TARGET': 97.0,\n",
       "  'MONTHLY_ACTUAL': 97.95},\n",
       " {'AGENCY_NAME': 'Metro-North Railroad',\n",
       "  'INDICATOR_NAME': 'Escalator Availability',\n",
       "  'DESCRIPTION': 'Percent of the time that escalators are operational systemwide. The availability rate is based on physical observations performed the morning of regular business days only. This is a new indicator the agency began reporting in 2009.',\n",
       "  'PERIOD_YEAR': 2010,\n",
       "  'PERIOD_MONTH': 2,\n",
       "  'CATEGORY': 'Service Indicators',\n",
       "  'FREQUENCY': 'M',\n",
       "  'INDICATOR_UNIT': '%',\n",
       "  'YTD_TARGET': 97.0,\n",
       "  'YTD_ACTUAL': 98.92,\n",
       "  'MONTHLY_TARGET': 97.0,\n",
       "  'MONTHLY_ACTUAL': 100.0},\n",
       " {'AGENCY_NAME': 'Metro-North Railroad',\n",
       "  'INDICATOR_NAME': 'Escalator Availability',\n",
       "  'DESCRIPTION': 'Percent of the time that escalators are operational systemwide. The availability rate is based on physical observations performed the morning of regular business days only. This is a new indicator the agency began reporting in 2009.',\n",
       "  'PERIOD_YEAR': 2010,\n",
       "  'PERIOD_MONTH': 3,\n",
       "  'CATEGORY': 'Service Indicators',\n",
       "  'FREQUENCY': 'M',\n",
       "  'INDICATOR_UNIT': '%',\n",
       "  'YTD_TARGET': 97.0,\n",
       "  'YTD_ACTUAL': 99.29,\n",
       "  'MONTHLY_TARGET': 97.0,\n",
       "  'MONTHLY_ACTUAL': 100.0},\n",
       " {'AGENCY_NAME': 'Metro-North Railroad',\n",
       "  'INDICATOR_NAME': 'Escalator Availability',\n",
       "  'DESCRIPTION': 'Percent of the time that escalators are operational systemwide. The availability rate is based on physical observations performed the morning of regular business days only. This is a new indicator the agency began reporting in 2009.',\n",
       "  'PERIOD_YEAR': 2010,\n",
       "  'PERIOD_MONTH': 4,\n",
       "  'CATEGORY': 'Service Indicators',\n",
       "  'FREQUENCY': 'M',\n",
       "  'INDICATOR_UNIT': '%',\n",
       "  'YTD_TARGET': 97.0,\n",
       "  'YTD_ACTUAL': 99.47,\n",
       "  'MONTHLY_TARGET': 97.0,\n",
       "  'MONTHLY_ACTUAL': 100.0},\n",
       " {'AGENCY_NAME': 'Metro-North Railroad',\n",
       "  'INDICATOR_NAME': 'Escalator Availability',\n",
       "  'DESCRIPTION': 'Percent of the time that escalators are operational systemwide. The availability rate is based on physical observations performed the morning of regular business days only. This is a new indicator the agency began reporting in 2009.',\n",
       "  'PERIOD_YEAR': 2010,\n",
       "  'PERIOD_MONTH': 5,\n",
       "  'CATEGORY': 'Service Indicators',\n",
       "  'FREQUENCY': 'M',\n",
       "  'INDICATOR_UNIT': '%',\n",
       "  'YTD_TARGET': 97.0,\n",
       "  'YTD_ACTUAL': 99.58,\n",
       "  'MONTHLY_TARGET': 97.0,\n",
       "  'MONTHLY_ACTUAL': 100.0},\n",
       " {'AGENCY_NAME': 'Metro-North Railroad',\n",
       "  'INDICATOR_NAME': 'Escalator Availability',\n",
       "  'DESCRIPTION': 'Percent of the time that escalators are operational systemwide. The availability rate is based on physical observations performed the morning of regular business days only. This is a new indicator the agency began reporting in 2009.',\n",
       "  'PERIOD_YEAR': 2010,\n",
       "  'PERIOD_MONTH': 6,\n",
       "  'CATEGORY': 'Service Indicators',\n",
       "  'FREQUENCY': 'M',\n",
       "  'INDICATOR_UNIT': '%',\n",
       "  'YTD_TARGET': 97.0,\n",
       "  'YTD_ACTUAL': 98.19,\n",
       "  'MONTHLY_TARGET': 97.0,\n",
       "  'MONTHLY_ACTUAL': 91.21},\n",
       " {'AGENCY_NAME': 'Metro-North Railroad',\n",
       "  'INDICATOR_NAME': 'Escalator Availability',\n",
       "  'DESCRIPTION': 'Percent of the time that escalators are operational systemwide. The availability rate is based on physical observations performed the morning of regular business days only. This is a new indicator the agency began reporting in 2009.',\n",
       "  'PERIOD_YEAR': 2010,\n",
       "  'PERIOD_MONTH': 7,\n",
       "  'CATEGORY': 'Service Indicators',\n",
       "  'FREQUENCY': 'M',\n",
       "  'INDICATOR_UNIT': '%',\n",
       "  'YTD_TARGET': 97.0,\n",
       "  'YTD_ACTUAL': 98.46,\n",
       "  'MONTHLY_TARGET': 97.0,\n",
       "  'MONTHLY_ACTUAL': 100.0},\n",
       " {'AGENCY_NAME': 'Metro-North Railroad',\n",
       "  'INDICATOR_NAME': 'Escalator Availability',\n",
       "  'DESCRIPTION': 'Percent of the time that escalators are operational systemwide. The availability rate is based on physical observations performed the morning of regular business days only. This is a new indicator the agency began reporting in 2009.',\n",
       "  'PERIOD_YEAR': 2010,\n",
       "  'PERIOD_MONTH': 8,\n",
       "  'CATEGORY': 'Service Indicators',\n",
       "  'FREQUENCY': 'M',\n",
       "  'INDICATOR_UNIT': '%',\n",
       "  'YTD_TARGET': 97.0,\n",
       "  'YTD_ACTUAL': 98.69,\n",
       "  'MONTHLY_TARGET': 97.0,\n",
       "  'MONTHLY_ACTUAL': 100.0},\n",
       " {'AGENCY_NAME': 'Metro-North Railroad',\n",
       "  'INDICATOR_NAME': 'Escalator Availability',\n",
       "  'DESCRIPTION': 'Percent of the time that escalators are operational systemwide. The availability rate is based on physical observations performed the morning of regular business days only. This is a new indicator the agency began reporting in 2009.',\n",
       "  'PERIOD_YEAR': 2010,\n",
       "  'PERIOD_MONTH': 9,\n",
       "  'CATEGORY': 'Service Indicators',\n",
       "  'FREQUENCY': 'M',\n",
       "  'INDICATOR_UNIT': '%',\n",
       "  'YTD_TARGET': 97.0,\n",
       "  'YTD_ACTUAL': 98.3,\n",
       "  'MONTHLY_TARGET': 97.0,\n",
       "  'MONTHLY_ACTUAL': 95.2},\n",
       " {'AGENCY_NAME': 'Metro-North Railroad',\n",
       "  'INDICATOR_NAME': 'Escalator Availability',\n",
       "  'DESCRIPTION': 'Percent of the time that escalators are operational systemwide. The availability rate is based on physical observations performed the morning of regular business days only. This is a new indicator the agency began reporting in 2009.',\n",
       "  'PERIOD_YEAR': 2010,\n",
       "  'PERIOD_MONTH': 10,\n",
       "  'CATEGORY': 'Service Indicators',\n",
       "  'FREQUENCY': 'M',\n",
       "  'INDICATOR_UNIT': '%',\n",
       "  'YTD_TARGET': 97.0,\n",
       "  'YTD_ACTUAL': 97.55,\n",
       "  'MONTHLY_TARGET': 97.0,\n",
       "  'MONTHLY_ACTUAL': 90.91},\n",
       " {'AGENCY_NAME': 'Metro-North Railroad',\n",
       "  'INDICATOR_NAME': 'Escalator Availability',\n",
       "  'DESCRIPTION': 'Percent of the time that escalators are operational systemwide. The availability rate is based on physical observations performed the morning of regular business days only. This is a new indicator the agency began reporting in 2009.',\n",
       "  'PERIOD_YEAR': 2010,\n",
       "  'PERIOD_MONTH': 11,\n",
       "  'CATEGORY': 'Service Indicators',\n",
       "  'FREQUENCY': 'M',\n",
       "  'INDICATOR_UNIT': '%',\n",
       "  'YTD_TARGET': 97.0,\n",
       "  'YTD_ACTUAL': 97.47,\n",
       "  'MONTHLY_TARGET': 97.0,\n",
       "  'MONTHLY_ACTUAL': 96.67},\n",
       " {'AGENCY_NAME': 'Metro-North Railroad',\n",
       "  'INDICATOR_NAME': 'Escalator Availability',\n",
       "  'DESCRIPTION': 'Percent of the time that escalators are operational systemwide. The availability rate is based on physical observations performed the morning of regular business days only. This is a new indicator the agency began reporting in 2009.',\n",
       "  'PERIOD_YEAR': 2010,\n",
       "  'PERIOD_MONTH': 12,\n",
       "  'CATEGORY': 'Service Indicators',\n",
       "  'FREQUENCY': 'M',\n",
       "  'INDICATOR_UNIT': '%',\n",
       "  'YTD_TARGET': 97.0,\n",
       "  'YTD_ACTUAL': 96.84,\n",
       "  'MONTHLY_TARGET': 97.0,\n",
       "  'MONTHLY_ACTUAL': 90.03},\n",
       " {'AGENCY_NAME': 'Metro-North Railroad',\n",
       "  'INDICATOR_NAME': 'Escalator Availability',\n",
       "  'DESCRIPTION': 'Percent of the time that escalators are operational systemwide. The availability rate is based on physical observations performed the morning of regular business days only. This is a new indicator the agency began reporting in 2009.',\n",
       "  'PERIOD_YEAR': 2011,\n",
       "  'PERIOD_MONTH': 1,\n",
       "  'CATEGORY': 'Service Indicators',\n",
       "  'FREQUENCY': 'M',\n",
       "  'INDICATOR_UNIT': '%',\n",
       "  'YTD_TARGET': 97.0,\n",
       "  'YTD_ACTUAL': 100.0,\n",
       "  'MONTHLY_TARGET': 97.0,\n",
       "  'MONTHLY_ACTUAL': 100.0},\n",
       " {'AGENCY_NAME': 'Metro-North Railroad',\n",
       "  'INDICATOR_NAME': 'Escalator Availability',\n",
       "  'DESCRIPTION': 'Percent of the time that escalators are operational systemwide. The availability rate is based on physical observations performed the morning of regular business days only. This is a new indicator the agency began reporting in 2009.',\n",
       "  'PERIOD_YEAR': 2011,\n",
       "  'PERIOD_MONTH': 2,\n",
       "  'CATEGORY': 'Service Indicators',\n",
       "  'FREQUENCY': 'M',\n",
       "  'INDICATOR_UNIT': '%',\n",
       "  'YTD_TARGET': 97.0,\n",
       "  'YTD_ACTUAL': 100.0,\n",
       "  'MONTHLY_TARGET': 97.0,\n",
       "  'MONTHLY_ACTUAL': 100.0},\n",
       " {'AGENCY_NAME': 'Metro-North Railroad',\n",
       "  'INDICATOR_NAME': 'Escalator Availability',\n",
       "  'DESCRIPTION': 'Percent of the time that escalators are operational systemwide. The availability rate is based on physical observations performed the morning of regular business days only. This is a new indicator the agency began reporting in 2009.',\n",
       "  'PERIOD_YEAR': 2011,\n",
       "  'PERIOD_MONTH': 3,\n",
       "  'CATEGORY': 'Service Indicators',\n",
       "  'FREQUENCY': 'M',\n",
       "  'INDICATOR_UNIT': '%',\n",
       "  'YTD_TARGET': 97.0,\n",
       "  'YTD_ACTUAL': 98.86,\n",
       "  'MONTHLY_TARGET': 97.0,\n",
       "  'MONTHLY_ACTUAL': 97.07},\n",
       " {'AGENCY_NAME': 'Metro-North Railroad',\n",
       "  'INDICATOR_NAME': 'Escalator Availability',\n",
       "  'DESCRIPTION': 'Percent of the time that escalators are operational systemwide. The availability rate is based on physical observations performed the morning of regular business days only. This is a new indicator the agency began reporting in 2009.',\n",
       "  'PERIOD_YEAR': 2011,\n",
       "  'PERIOD_MONTH': 4,\n",
       "  'CATEGORY': 'Service Indicators',\n",
       "  'FREQUENCY': 'M',\n",
       "  'INDICATOR_UNIT': '%',\n",
       "  'YTD_TARGET': 97.0,\n",
       "  'YTD_ACTUAL': 98.76,\n",
       "  'MONTHLY_TARGET': 97.0,\n",
       "  'MONTHLY_ACTUAL': 98.18},\n",
       " {'AGENCY_NAME': 'Metro-North Railroad',\n",
       "  'INDICATOR_NAME': 'Escalator Availability',\n",
       "  'DESCRIPTION': 'Percent of the time that escalators are operational systemwide. The availability rate is based on physical observations performed the morning of regular business days only. This is a new indicator the agency began reporting in 2009.',\n",
       "  'PERIOD_YEAR': 2011,\n",
       "  'PERIOD_MONTH': 5,\n",
       "  'CATEGORY': 'Service Indicators',\n",
       "  'FREQUENCY': 'M',\n",
       "  'INDICATOR_UNIT': '%',\n",
       "  'YTD_TARGET': 97.0,\n",
       "  'YTD_ACTUAL': 90.91,\n",
       "  'MONTHLY_TARGET': 97.0,\n",
       "  'MONTHLY_ACTUAL': 79.18},\n",
       " {'AGENCY_NAME': 'Metro-North Railroad',\n",
       "  'INDICATOR_NAME': 'Escalator Availability',\n",
       "  'DESCRIPTION': 'Percent of the time that escalators are operational systemwide. The availability rate is based on physical observations performed the morning of regular business days only. This is a new indicator the agency began reporting in 2009.',\n",
       "  'PERIOD_YEAR': 2011,\n",
       "  'PERIOD_MONTH': 6,\n",
       "  'CATEGORY': 'Service Indicators',\n",
       "  'FREQUENCY': 'M',\n",
       "  'INDICATOR_UNIT': '%',\n",
       "  'YTD_TARGET': 97.0,\n",
       "  'YTD_ACTUAL': '',\n",
       "  'MONTHLY_TARGET': 97.0,\n",
       "  'MONTHLY_ACTUAL': ''},\n",
       " {'AGENCY_NAME': 'Metro-North Railroad',\n",
       "  'INDICATOR_NAME': 'Escalator Availability',\n",
       "  'DESCRIPTION': 'Percent of the time that escalators are operational systemwide. The availability rate is based on physical observations performed the morning of regular business days only. This is a new indicator the agency began reporting in 2009.',\n",
       "  'PERIOD_YEAR': 2011,\n",
       "  'PERIOD_MONTH': 7,\n",
       "  'CATEGORY': 'Service Indicators',\n",
       "  'FREQUENCY': 'M',\n",
       "  'INDICATOR_UNIT': '%',\n",
       "  'YTD_TARGET': 97.0,\n",
       "  'YTD_ACTUAL': '',\n",
       "  'MONTHLY_TARGET': 97.0,\n",
       "  'MONTHLY_ACTUAL': ''},\n",
       " {'AGENCY_NAME': 'Metro-North Railroad',\n",
       "  'INDICATOR_NAME': 'Escalator Availability',\n",
       "  'DESCRIPTION': 'Percent of the time that escalators are operational systemwide. The availability rate is based on physical observations performed the morning of regular business days only. This is a new indicator the agency began reporting in 2009.',\n",
       "  'PERIOD_YEAR': 2011,\n",
       "  'PERIOD_MONTH': 8,\n",
       "  'CATEGORY': 'Service Indicators',\n",
       "  'FREQUENCY': 'M',\n",
       "  'INDICATOR_UNIT': '%',\n",
       "  'YTD_TARGET': 97.0,\n",
       "  'YTD_ACTUAL': '',\n",
       "  'MONTHLY_TARGET': 97.0,\n",
       "  'MONTHLY_ACTUAL': ''},\n",
       " {'AGENCY_NAME': 'Metro-North Railroad',\n",
       "  'INDICATOR_NAME': 'Escalator Availability',\n",
       "  'DESCRIPTION': 'Percent of the time that escalators are operational systemwide. The availability rate is based on physical observations performed the morning of regular business days only. This is a new indicator the agency began reporting in 2009.',\n",
       "  'PERIOD_YEAR': 2011,\n",
       "  'PERIOD_MONTH': 9,\n",
       "  'CATEGORY': 'Service Indicators',\n",
       "  'FREQUENCY': 'M',\n",
       "  'INDICATOR_UNIT': '%',\n",
       "  'YTD_TARGET': 97.0,\n",
       "  'YTD_ACTUAL': '',\n",
       "  'MONTHLY_TARGET': 97.0,\n",
       "  'MONTHLY_ACTUAL': ''},\n",
       " {'AGENCY_NAME': 'Metro-North Railroad',\n",
       "  'INDICATOR_NAME': 'Escalator Availability',\n",
       "  'DESCRIPTION': 'Percent of the time that escalators are operational systemwide. The availability rate is based on physical observations performed the morning of regular business days only. This is a new indicator the agency began reporting in 2009.',\n",
       "  'PERIOD_YEAR': 2011,\n",
       "  'PERIOD_MONTH': 10,\n",
       "  'CATEGORY': 'Service Indicators',\n",
       "  'FREQUENCY': 'M',\n",
       "  'INDICATOR_UNIT': '%',\n",
       "  'YTD_TARGET': 97.0,\n",
       "  'YTD_ACTUAL': '',\n",
       "  'MONTHLY_TARGET': 97.0,\n",
       "  'MONTHLY_ACTUAL': ''},\n",
       " {'AGENCY_NAME': 'Metro-North Railroad',\n",
       "  'INDICATOR_NAME': 'Escalator Availability',\n",
       "  'DESCRIPTION': 'Percent of the time that escalators are operational systemwide. The availability rate is based on physical observations performed the morning of regular business days only. This is a new indicator the agency began reporting in 2009.',\n",
       "  'PERIOD_YEAR': 2011,\n",
       "  'PERIOD_MONTH': 11,\n",
       "  'CATEGORY': 'Service Indicators',\n",
       "  'FREQUENCY': 'M',\n",
       "  'INDICATOR_UNIT': '%',\n",
       "  'YTD_TARGET': 97.0,\n",
       "  'YTD_ACTUAL': '',\n",
       "  'MONTHLY_TARGET': 97.0,\n",
       "  'MONTHLY_ACTUAL': ''},\n",
       " {'AGENCY_NAME': 'Metro-North Railroad',\n",
       "  'INDICATOR_NAME': 'Escalator Availability',\n",
       "  'DESCRIPTION': 'Percent of the time that escalators are operational systemwide. The availability rate is based on physical observations performed the morning of regular business days only. This is a new indicator the agency began reporting in 2009.',\n",
       "  'PERIOD_YEAR': 2011,\n",
       "  'PERIOD_MONTH': 12,\n",
       "  'CATEGORY': 'Service Indicators',\n",
       "  'FREQUENCY': 'M',\n",
       "  'INDICATOR_UNIT': '%',\n",
       "  'YTD_TARGET': 97.0,\n",
       "  'YTD_ACTUAL': '',\n",
       "  'MONTHLY_TARGET': 97.0,\n",
       "  'MONTHLY_ACTUAL': ''}]"
      ]
     },
     "execution_count": 4,
     "metadata": {},
     "output_type": "execute_result"
    }
   ],
   "source": [
    "data"
   ]
  },
  {
   "cell_type": "code",
   "execution_count": 5,
   "id": "d76ea2a7",
   "metadata": {},
   "outputs": [
    {
     "data": {
      "text/html": [
       "<div>\n",
       "<style scoped>\n",
       "    .dataframe tbody tr th:only-of-type {\n",
       "        vertical-align: middle;\n",
       "    }\n",
       "\n",
       "    .dataframe tbody tr th {\n",
       "        vertical-align: top;\n",
       "    }\n",
       "\n",
       "    .dataframe thead th {\n",
       "        text-align: right;\n",
       "    }\n",
       "</style>\n",
       "<table border=\"1\" class=\"dataframe\">\n",
       "  <thead>\n",
       "    <tr style=\"text-align: right;\">\n",
       "      <th></th>\n",
       "      <th>AGENCY_NAME</th>\n",
       "      <th>INDICATOR_NAME</th>\n",
       "      <th>DESCRIPTION</th>\n",
       "      <th>PERIOD_YEAR</th>\n",
       "      <th>PERIOD_MONTH</th>\n",
       "      <th>CATEGORY</th>\n",
       "      <th>FREQUENCY</th>\n",
       "      <th>INDICATOR_UNIT</th>\n",
       "      <th>YTD_TARGET</th>\n",
       "      <th>YTD_ACTUAL</th>\n",
       "      <th>MONTHLY_TARGET</th>\n",
       "      <th>MONTHLY_ACTUAL</th>\n",
       "    </tr>\n",
       "  </thead>\n",
       "  <tbody>\n",
       "    <tr>\n",
       "      <th>0</th>\n",
       "      <td>Metro-North Railroad</td>\n",
       "      <td>On-Time Performance (West of Hudson)</td>\n",
       "      <td>Percent of commuter trains that arrive at thei...</td>\n",
       "      <td>2008</td>\n",
       "      <td>1</td>\n",
       "      <td>Service Indicators</td>\n",
       "      <td>M</td>\n",
       "      <td>%</td>\n",
       "      <td>95.0</td>\n",
       "      <td>96.9</td>\n",
       "      <td>95.0</td>\n",
       "      <td>96.9</td>\n",
       "    </tr>\n",
       "    <tr>\n",
       "      <th>1</th>\n",
       "      <td>Metro-North Railroad</td>\n",
       "      <td>On-Time Performance (West of Hudson)</td>\n",
       "      <td>Percent of commuter trains that arrive at thei...</td>\n",
       "      <td>2008</td>\n",
       "      <td>2</td>\n",
       "      <td>Service Indicators</td>\n",
       "      <td>M</td>\n",
       "      <td>%</td>\n",
       "      <td>95.0</td>\n",
       "      <td>96.0</td>\n",
       "      <td>95.0</td>\n",
       "      <td>95.0</td>\n",
       "    </tr>\n",
       "    <tr>\n",
       "      <th>2</th>\n",
       "      <td>Metro-North Railroad</td>\n",
       "      <td>On-Time Performance (West of Hudson)</td>\n",
       "      <td>Percent of commuter trains that arrive at thei...</td>\n",
       "      <td>2008</td>\n",
       "      <td>3</td>\n",
       "      <td>Service Indicators</td>\n",
       "      <td>M</td>\n",
       "      <td>%</td>\n",
       "      <td>95.0</td>\n",
       "      <td>96.3</td>\n",
       "      <td>95.0</td>\n",
       "      <td>96.9</td>\n",
       "    </tr>\n",
       "    <tr>\n",
       "      <th>3</th>\n",
       "      <td>Metro-North Railroad</td>\n",
       "      <td>On-Time Performance (West of Hudson)</td>\n",
       "      <td>Percent of commuter trains that arrive at thei...</td>\n",
       "      <td>2008</td>\n",
       "      <td>4</td>\n",
       "      <td>Service Indicators</td>\n",
       "      <td>M</td>\n",
       "      <td>%</td>\n",
       "      <td>95.0</td>\n",
       "      <td>96.8</td>\n",
       "      <td>95.0</td>\n",
       "      <td>98.3</td>\n",
       "    </tr>\n",
       "    <tr>\n",
       "      <th>4</th>\n",
       "      <td>Metro-North Railroad</td>\n",
       "      <td>On-Time Performance (West of Hudson)</td>\n",
       "      <td>Percent of commuter trains that arrive at thei...</td>\n",
       "      <td>2008</td>\n",
       "      <td>5</td>\n",
       "      <td>Service Indicators</td>\n",
       "      <td>M</td>\n",
       "      <td>%</td>\n",
       "      <td>95.0</td>\n",
       "      <td>96.6</td>\n",
       "      <td>95.0</td>\n",
       "      <td>95.8</td>\n",
       "    </tr>\n",
       "  </tbody>\n",
       "</table>\n",
       "</div>"
      ],
      "text/plain": [
       "            AGENCY_NAME                        INDICATOR_NAME  \\\n",
       "0  Metro-North Railroad  On-Time Performance (West of Hudson)   \n",
       "1  Metro-North Railroad  On-Time Performance (West of Hudson)   \n",
       "2  Metro-North Railroad  On-Time Performance (West of Hudson)   \n",
       "3  Metro-North Railroad  On-Time Performance (West of Hudson)   \n",
       "4  Metro-North Railroad  On-Time Performance (West of Hudson)   \n",
       "\n",
       "                                         DESCRIPTION  PERIOD_YEAR  \\\n",
       "0  Percent of commuter trains that arrive at thei...         2008   \n",
       "1  Percent of commuter trains that arrive at thei...         2008   \n",
       "2  Percent of commuter trains that arrive at thei...         2008   \n",
       "3  Percent of commuter trains that arrive at thei...         2008   \n",
       "4  Percent of commuter trains that arrive at thei...         2008   \n",
       "\n",
       "   PERIOD_MONTH            CATEGORY FREQUENCY INDICATOR_UNIT YTD_TARGET  \\\n",
       "0             1  Service Indicators         M              %       95.0   \n",
       "1             2  Service Indicators         M              %       95.0   \n",
       "2             3  Service Indicators         M              %       95.0   \n",
       "3             4  Service Indicators         M              %       95.0   \n",
       "4             5  Service Indicators         M              %       95.0   \n",
       "\n",
       "  YTD_ACTUAL MONTHLY_TARGET MONTHLY_ACTUAL  \n",
       "0       96.9           95.0           96.9  \n",
       "1       96.0           95.0           95.0  \n",
       "2       96.3           95.0           96.9  \n",
       "3       96.8           95.0           98.3  \n",
       "4       96.6           95.0           95.8  "
      ]
     },
     "execution_count": 5,
     "metadata": {},
     "output_type": "execute_result"
    }
   ],
   "source": [
    "perf = pd.DataFrame(data)\n",
    "perf.head()"
   ]
  },
  {
   "cell_type": "code",
   "execution_count": 7,
   "id": "978b7f50",
   "metadata": {},
   "outputs": [
    {
     "data": {
      "text/plain": [
       "[{'url': 'https://api.github.com/repos/pandas-dev/pandas/issues/42548',\n",
       "  'repository_url': 'https://api.github.com/repos/pandas-dev/pandas',\n",
       "  'labels_url': 'https://api.github.com/repos/pandas-dev/pandas/issues/42548/labels{/name}',\n",
       "  'comments_url': 'https://api.github.com/repos/pandas-dev/pandas/issues/42548/comments',\n",
       "  'events_url': 'https://api.github.com/repos/pandas-dev/pandas/issues/42548/events',\n",
       "  'html_url': 'https://github.com/pandas-dev/pandas/pull/42548',\n",
       "  'id': 944983059,\n",
       "  'node_id': 'MDExOlB1bGxSZXF1ZXN0NjkwMzgwNzAx',\n",
       "  'number': 42548,\n",
       "  'title': 'Backport PR #42541 on branch 1.3.x (REGR: concat(ints, bools) casting to object #42092)',\n",
       "  'user': {'login': 'meeseeksmachine',\n",
       "   'id': 39504233,\n",
       "   'node_id': 'MDQ6VXNlcjM5NTA0MjMz',\n",
       "   'avatar_url': 'https://avatars.githubusercontent.com/u/39504233?v=4',\n",
       "   'gravatar_id': '',\n",
       "   'url': 'https://api.github.com/users/meeseeksmachine',\n",
       "   'html_url': 'https://github.com/meeseeksmachine',\n",
       "   'followers_url': 'https://api.github.com/users/meeseeksmachine/followers',\n",
       "   'following_url': 'https://api.github.com/users/meeseeksmachine/following{/other_user}',\n",
       "   'gists_url': 'https://api.github.com/users/meeseeksmachine/gists{/gist_id}',\n",
       "   'starred_url': 'https://api.github.com/users/meeseeksmachine/starred{/owner}{/repo}',\n",
       "   'subscriptions_url': 'https://api.github.com/users/meeseeksmachine/subscriptions',\n",
       "   'organizations_url': 'https://api.github.com/users/meeseeksmachine/orgs',\n",
       "   'repos_url': 'https://api.github.com/users/meeseeksmachine/repos',\n",
       "   'events_url': 'https://api.github.com/users/meeseeksmachine/events{/privacy}',\n",
       "   'received_events_url': 'https://api.github.com/users/meeseeksmachine/received_events',\n",
       "   'type': 'User',\n",
       "   'site_admin': False},\n",
       "  'labels': [{'id': 31404521,\n",
       "    'node_id': 'MDU6TGFiZWwzMTQwNDUyMQ==',\n",
       "    'url': 'https://api.github.com/repos/pandas-dev/pandas/labels/Dtypes',\n",
       "    'name': 'Dtypes',\n",
       "    'color': 'e102d8',\n",
       "    'default': False,\n",
       "    'description': 'Unexpected or buggy dtype conversions'},\n",
       "   {'id': 32815646,\n",
       "    'node_id': 'MDU6TGFiZWwzMjgxNTY0Ng==',\n",
       "    'url': 'https://api.github.com/repos/pandas-dev/pandas/labels/Regression',\n",
       "    'name': 'Regression',\n",
       "    'color': 'e11d21',\n",
       "    'default': False,\n",
       "    'description': 'Functionality that used to work in a prior pandas version'},\n",
       "   {'id': 13098779,\n",
       "    'node_id': 'MDU6TGFiZWwxMzA5ODc3OQ==',\n",
       "    'url': 'https://api.github.com/repos/pandas-dev/pandas/labels/Reshaping',\n",
       "    'name': 'Reshaping',\n",
       "    'color': '02d7e1',\n",
       "    'default': False,\n",
       "    'description': 'Concat, Merge/Join, Stack/Unstack'}],\n",
       "  'state': 'open',\n",
       "  'locked': False,\n",
       "  'assignee': None,\n",
       "  'assignees': [],\n",
       "  'milestone': {'url': 'https://api.github.com/repos/pandas-dev/pandas/milestones/87',\n",
       "   'html_url': 'https://github.com/pandas-dev/pandas/milestone/87',\n",
       "   'labels_url': 'https://api.github.com/repos/pandas-dev/pandas/milestones/87/labels',\n",
       "   'id': 6888188,\n",
       "   'node_id': 'MDk6TWlsZXN0b25lNjg4ODE4OA==',\n",
       "   'number': 87,\n",
       "   'title': '1.3.1',\n",
       "   'description': 'on-merge: backport to 1.3.x',\n",
       "   'creator': {'login': 'simonjayhawkins',\n",
       "    'id': 13159005,\n",
       "    'node_id': 'MDQ6VXNlcjEzMTU5MDA1',\n",
       "    'avatar_url': 'https://avatars.githubusercontent.com/u/13159005?v=4',\n",
       "    'gravatar_id': '',\n",
       "    'url': 'https://api.github.com/users/simonjayhawkins',\n",
       "    'html_url': 'https://github.com/simonjayhawkins',\n",
       "    'followers_url': 'https://api.github.com/users/simonjayhawkins/followers',\n",
       "    'following_url': 'https://api.github.com/users/simonjayhawkins/following{/other_user}',\n",
       "    'gists_url': 'https://api.github.com/users/simonjayhawkins/gists{/gist_id}',\n",
       "    'starred_url': 'https://api.github.com/users/simonjayhawkins/starred{/owner}{/repo}',\n",
       "    'subscriptions_url': 'https://api.github.com/users/simonjayhawkins/subscriptions',\n",
       "    'organizations_url': 'https://api.github.com/users/simonjayhawkins/orgs',\n",
       "    'repos_url': 'https://api.github.com/users/simonjayhawkins/repos',\n",
       "    'events_url': 'https://api.github.com/users/simonjayhawkins/events{/privacy}',\n",
       "    'received_events_url': 'https://api.github.com/users/simonjayhawkins/received_events',\n",
       "    'type': 'User',\n",
       "    'site_admin': False},\n",
       "   'open_issues': 21,\n",
       "   'closed_issues': 66,\n",
       "   'state': 'open',\n",
       "   'created_at': '2021-06-25T09:56:22Z',\n",
       "   'updated_at': '2021-07-15T04:19:08Z',\n",
       "   'due_on': '2021-07-25T07:00:00Z',\n",
       "   'closed_at': None},\n",
       "  'comments': 0,\n",
       "  'created_at': '2021-07-15T04:19:07Z',\n",
       "  'updated_at': '2021-07-15T04:19:08Z',\n",
       "  'closed_at': None,\n",
       "  'author_association': 'NONE',\n",
       "  'active_lock_reason': None,\n",
       "  'pull_request': {'url': 'https://api.github.com/repos/pandas-dev/pandas/pulls/42548',\n",
       "   'html_url': 'https://github.com/pandas-dev/pandas/pull/42548',\n",
       "   'diff_url': 'https://github.com/pandas-dev/pandas/pull/42548.diff',\n",
       "   'patch_url': 'https://github.com/pandas-dev/pandas/pull/42548.patch'},\n",
       "  'body': 'Backport PR #42541: REGR: concat(ints, bools) casting to object #42092',\n",
       "  'performed_via_github_app': None},\n",
       " {'url': 'https://api.github.com/repos/pandas-dev/pandas/issues/42547',\n",
       "  'repository_url': 'https://api.github.com/repos/pandas-dev/pandas',\n",
       "  'labels_url': 'https://api.github.com/repos/pandas-dev/pandas/issues/42547/labels{/name}',\n",
       "  'comments_url': 'https://api.github.com/repos/pandas-dev/pandas/issues/42547/comments',\n",
       "  'events_url': 'https://api.github.com/repos/pandas-dev/pandas/issues/42547/events',\n",
       "  'html_url': 'https://github.com/pandas-dev/pandas/issues/42547',\n",
       "  'id': 944934731,\n",
       "  'node_id': 'MDU6SXNzdWU5NDQ5MzQ3MzE=',\n",
       "  'number': 42547,\n",
       "  'title': 'ENH: count should be integer type in .describe()',\n",
       "  'user': {'login': 'L0Z1K',\n",
       "   'id': 64528476,\n",
       "   'node_id': 'MDQ6VXNlcjY0NTI4NDc2',\n",
       "   'avatar_url': 'https://avatars.githubusercontent.com/u/64528476?v=4',\n",
       "   'gravatar_id': '',\n",
       "   'url': 'https://api.github.com/users/L0Z1K',\n",
       "   'html_url': 'https://github.com/L0Z1K',\n",
       "   'followers_url': 'https://api.github.com/users/L0Z1K/followers',\n",
       "   'following_url': 'https://api.github.com/users/L0Z1K/following{/other_user}',\n",
       "   'gists_url': 'https://api.github.com/users/L0Z1K/gists{/gist_id}',\n",
       "   'starred_url': 'https://api.github.com/users/L0Z1K/starred{/owner}{/repo}',\n",
       "   'subscriptions_url': 'https://api.github.com/users/L0Z1K/subscriptions',\n",
       "   'organizations_url': 'https://api.github.com/users/L0Z1K/orgs',\n",
       "   'repos_url': 'https://api.github.com/users/L0Z1K/repos',\n",
       "   'events_url': 'https://api.github.com/users/L0Z1K/events{/privacy}',\n",
       "   'received_events_url': 'https://api.github.com/users/L0Z1K/received_events',\n",
       "   'type': 'User',\n",
       "   'site_admin': False},\n",
       "  'labels': [{'id': 76812,\n",
       "    'node_id': 'MDU6TGFiZWw3NjgxMg==',\n",
       "    'url': 'https://api.github.com/repos/pandas-dev/pandas/labels/Enhancement',\n",
       "    'name': 'Enhancement',\n",
       "    'color': '4E9A06',\n",
       "    'default': False,\n",
       "    'description': None},\n",
       "   {'id': 1954720290,\n",
       "    'node_id': 'MDU6TGFiZWwxOTU0NzIwMjkw',\n",
       "    'url': 'https://api.github.com/repos/pandas-dev/pandas/labels/Needs%20Triage',\n",
       "    'name': 'Needs Triage',\n",
       "    'color': '0052cc',\n",
       "    'default': False,\n",
       "    'description': 'Issue that has not been reviewed by a pandas team member'}],\n",
       "  'state': 'open',\n",
       "  'locked': False,\n",
       "  'assignee': None,\n",
       "  'assignees': [],\n",
       "  'milestone': None,\n",
       "  'comments': 0,\n",
       "  'created_at': '2021-07-15T02:21:12Z',\n",
       "  'updated_at': '2021-07-15T02:21:12Z',\n",
       "  'closed_at': None,\n",
       "  'author_association': 'NONE',\n",
       "  'active_lock_reason': None,\n",
       "  'body': '#### Is your feature request related to a problem?\\r\\n\\r\\n```\\r\\nIn[13]:\\r\\ndf = pd.DataFrame([1,2,3], columns=[\\'num\\'])\\r\\ndf.describe().loc[\\'count\\']\\r\\nOut[13]:\\r\\nnum    3.0\\r\\nName: count, dtype: float64\\r\\n```\\r\\n\\r\\nI think count variable should be integer type because it is \"count\". \\r\\n\\r\\n#### Describe the solution you\\'d like\\r\\n\\r\\nBefore returning the count value, change its type to int or int64.\\r\\n\\r\\n#### Additional Question\\r\\n\\r\\nIs there any intentional reason for doing the variable of count so far?',\n",
       "  'performed_via_github_app': None},\n",
       " {'url': 'https://api.github.com/repos/pandas-dev/pandas/issues/42546',\n",
       "  'repository_url': 'https://api.github.com/repos/pandas-dev/pandas',\n",
       "  'labels_url': 'https://api.github.com/repos/pandas-dev/pandas/issues/42546/labels{/name}',\n",
       "  'comments_url': 'https://api.github.com/repos/pandas-dev/pandas/issues/42546/comments',\n",
       "  'events_url': 'https://api.github.com/repos/pandas-dev/pandas/issues/42546/events',\n",
       "  'html_url': 'https://github.com/pandas-dev/pandas/pull/42546',\n",
       "  'id': 944902106,\n",
       "  'node_id': 'MDExOlB1bGxSZXF1ZXN0NjkwMzE0MzQx',\n",
       "  'number': 42546,\n",
       "  'title': 'CLN: clean sqlalchemy import',\n",
       "  'user': {'login': 'fangchenli',\n",
       "   'id': 7614606,\n",
       "   'node_id': 'MDQ6VXNlcjc2MTQ2MDY=',\n",
       "   'avatar_url': 'https://avatars.githubusercontent.com/u/7614606?v=4',\n",
       "   'gravatar_id': '',\n",
       "   'url': 'https://api.github.com/users/fangchenli',\n",
       "   'html_url': 'https://github.com/fangchenli',\n",
       "   'followers_url': 'https://api.github.com/users/fangchenli/followers',\n",
       "   'following_url': 'https://api.github.com/users/fangchenli/following{/other_user}',\n",
       "   'gists_url': 'https://api.github.com/users/fangchenli/gists{/gist_id}',\n",
       "   'starred_url': 'https://api.github.com/users/fangchenli/starred{/owner}{/repo}',\n",
       "   'subscriptions_url': 'https://api.github.com/users/fangchenli/subscriptions',\n",
       "   'organizations_url': 'https://api.github.com/users/fangchenli/orgs',\n",
       "   'repos_url': 'https://api.github.com/users/fangchenli/repos',\n",
       "   'events_url': 'https://api.github.com/users/fangchenli/events{/privacy}',\n",
       "   'received_events_url': 'https://api.github.com/users/fangchenli/received_events',\n",
       "   'type': 'User',\n",
       "   'site_admin': False},\n",
       "  'labels': [],\n",
       "  'state': 'open',\n",
       "  'locked': False,\n",
       "  'assignee': None,\n",
       "  'assignees': [],\n",
       "  'milestone': None,\n",
       "  'comments': 0,\n",
       "  'created_at': '2021-07-15T00:57:11Z',\n",
       "  'updated_at': '2021-07-15T00:57:11Z',\n",
       "  'closed_at': None,\n",
       "  'author_association': 'MEMBER',\n",
       "  'active_lock_reason': None,\n",
       "  'pull_request': {'url': 'https://api.github.com/repos/pandas-dev/pandas/pulls/42546',\n",
       "   'html_url': 'https://github.com/pandas-dev/pandas/pull/42546',\n",
       "   'diff_url': 'https://github.com/pandas-dev/pandas/pull/42546.diff',\n",
       "   'patch_url': 'https://github.com/pandas-dev/pandas/pull/42546.patch'},\n",
       "  'body': '- [ ] closes #xxxx\\r\\n- [ ] tests added / passed\\r\\n- [ ] Ensure all linting tests pass, see [here](https://pandas.pydata.org/pandas-docs/dev/development/contributing.html#code-standards) for how to run them\\r\\n- [ ] whatsnew entry\\r\\n',\n",
       "  'performed_via_github_app': None},\n",
       " {'url': 'https://api.github.com/repos/pandas-dev/pandas/issues/42545',\n",
       "  'repository_url': 'https://api.github.com/repos/pandas-dev/pandas',\n",
       "  'labels_url': 'https://api.github.com/repos/pandas-dev/pandas/issues/42545/labels{/name}',\n",
       "  'comments_url': 'https://api.github.com/repos/pandas-dev/pandas/issues/42545/comments',\n",
       "  'events_url': 'https://api.github.com/repos/pandas-dev/pandas/issues/42545/events',\n",
       "  'html_url': 'https://github.com/pandas-dev/pandas/issues/42545',\n",
       "  'id': 944898942,\n",
       "  'node_id': 'MDU6SXNzdWU5NDQ4OTg5NDI=',\n",
       "  'number': 42545,\n",
       "  'title': 'API: `ExtensionArray.isin` treatment of missing values',\n",
       "  'user': {'login': 'mzeitlin11',\n",
       "   'id': 37011898,\n",
       "   'node_id': 'MDQ6VXNlcjM3MDExODk4',\n",
       "   'avatar_url': 'https://avatars.githubusercontent.com/u/37011898?v=4',\n",
       "   'gravatar_id': '',\n",
       "   'url': 'https://api.github.com/users/mzeitlin11',\n",
       "   'html_url': 'https://github.com/mzeitlin11',\n",
       "   'followers_url': 'https://api.github.com/users/mzeitlin11/followers',\n",
       "   'following_url': 'https://api.github.com/users/mzeitlin11/following{/other_user}',\n",
       "   'gists_url': 'https://api.github.com/users/mzeitlin11/gists{/gist_id}',\n",
       "   'starred_url': 'https://api.github.com/users/mzeitlin11/starred{/owner}{/repo}',\n",
       "   'subscriptions_url': 'https://api.github.com/users/mzeitlin11/subscriptions',\n",
       "   'organizations_url': 'https://api.github.com/users/mzeitlin11/orgs',\n",
       "   'repos_url': 'https://api.github.com/users/mzeitlin11/repos',\n",
       "   'events_url': 'https://api.github.com/users/mzeitlin11/events{/privacy}',\n",
       "   'received_events_url': 'https://api.github.com/users/mzeitlin11/received_events',\n",
       "   'type': 'User',\n",
       "   'site_admin': False},\n",
       "  'labels': [{'id': 1741841389,\n",
       "    'node_id': 'MDU6TGFiZWwxNzQxODQxMzg5',\n",
       "    'url': 'https://api.github.com/repos/pandas-dev/pandas/labels/API%20-%20Consistency',\n",
       "    'name': 'API - Consistency',\n",
       "    'color': 'b60205',\n",
       "    'default': False,\n",
       "    'description': 'Internal Consistency of API/Behavior'},\n",
       "   {'id': 849023693,\n",
       "    'node_id': 'MDU6TGFiZWw4NDkwMjM2OTM=',\n",
       "    'url': 'https://api.github.com/repos/pandas-dev/pandas/labels/ExtensionArray',\n",
       "    'name': 'ExtensionArray',\n",
       "    'color': '6138b5',\n",
       "    'default': False,\n",
       "    'description': 'Extending pandas with custom dtypes or arrays.'},\n",
       "   {'id': 2822342,\n",
       "    'node_id': 'MDU6TGFiZWwyODIyMzQy',\n",
       "    'url': 'https://api.github.com/repos/pandas-dev/pandas/labels/Missing-data',\n",
       "    'name': 'Missing-data',\n",
       "    'color': 'd7e102',\n",
       "    'default': False,\n",
       "    'description': 'np.nan, pd.NaT, pd.NA, dropna, isnull, interpolate'},\n",
       "   {'id': 1954720290,\n",
       "    'node_id': 'MDU6TGFiZWwxOTU0NzIwMjkw',\n",
       "    'url': 'https://api.github.com/repos/pandas-dev/pandas/labels/Needs%20Triage',\n",
       "    'name': 'Needs Triage',\n",
       "    'color': '0052cc',\n",
       "    'default': False,\n",
       "    'description': 'Issue that has not been reviewed by a pandas team member'},\n",
       "   {'id': 2468482981,\n",
       "    'node_id': 'MDU6TGFiZWwyNDY4NDgyOTgx',\n",
       "    'url': 'https://api.github.com/repos/pandas-dev/pandas/labels/isin',\n",
       "    'name': 'isin',\n",
       "    'color': 'fef2c0',\n",
       "    'default': False,\n",
       "    'description': ''}],\n",
       "  'state': 'open',\n",
       "  'locked': False,\n",
       "  'assignee': None,\n",
       "  'assignees': [],\n",
       "  'milestone': None,\n",
       "  'comments': 0,\n",
       "  'created_at': '2021-07-15T00:48:01Z',\n",
       "  'updated_at': '2021-07-15T00:48:01Z',\n",
       "  'closed_at': None,\n",
       "  'author_association': 'MEMBER',\n",
       "  'active_lock_reason': None,\n",
       "  'body': 'The current behavior singles out `pd.NA`:\\r\\n```\\r\\nIn [3]: ser = pd.Series([pd.NA], dtype=\"Int64\")\\r\\n\\r\\nIn [4]: ser.isin([pd.NA])\\r\\nOut[4]:\\r\\n0    True\\r\\ndtype: boolean\\r\\n\\r\\nIn [5]: ser.isin([np.nan])\\r\\nOut[5]:\\r\\n0    False\\r\\ndtype: boolean\\r\\n```\\r\\n`StringArray.isin` also follows this behavior, so it is not `MaskedArray` specific.\\r\\n\\r\\nThere was discussion about this being problematic since `_from_sequence` will treat other missing values just the same as `pd.NA` (https://github.com/pandas-dev/pandas/pull/42473#discussion_r667991012). In that case, the output in the second case should also be `True`.\\r\\n\\r\\nAs a final option, both outputs could be `pd.NA`.  In #38379 there was discussion of propagating `pd.NA` instead of `True/False` depending on the presence of missing values in the `values` argument.  A nice description of that debate is here https://github.com/pandas-dev/pandas/pull/38379#issuecomment-757510449.',\n",
       "  'performed_via_github_app': None},\n",
       " {'url': 'https://api.github.com/repos/pandas-dev/pandas/issues/42544',\n",
       "  'repository_url': 'https://api.github.com/repos/pandas-dev/pandas',\n",
       "  'labels_url': 'https://api.github.com/repos/pandas-dev/pandas/issues/42544/labels{/name}',\n",
       "  'comments_url': 'https://api.github.com/repos/pandas-dev/pandas/issues/42544/comments',\n",
       "  'events_url': 'https://api.github.com/repos/pandas-dev/pandas/issues/42544/events',\n",
       "  'html_url': 'https://github.com/pandas-dev/pandas/pull/42544',\n",
       "  'id': 944898752,\n",
       "  'node_id': 'MDExOlB1bGxSZXF1ZXN0NjkwMzExNTc3',\n",
       "  'number': 42544,\n",
       "  'title': 'Make components of Suffixes Optional',\n",
       "  'user': {'login': 'scravy',\n",
       "   'id': 295504,\n",
       "   'node_id': 'MDQ6VXNlcjI5NTUwNA==',\n",
       "   'avatar_url': 'https://avatars.githubusercontent.com/u/295504?v=4',\n",
       "   'gravatar_id': '',\n",
       "   'url': 'https://api.github.com/users/scravy',\n",
       "   'html_url': 'https://github.com/scravy',\n",
       "   'followers_url': 'https://api.github.com/users/scravy/followers',\n",
       "   'following_url': 'https://api.github.com/users/scravy/following{/other_user}',\n",
       "   'gists_url': 'https://api.github.com/users/scravy/gists{/gist_id}',\n",
       "   'starred_url': 'https://api.github.com/users/scravy/starred{/owner}{/repo}',\n",
       "   'subscriptions_url': 'https://api.github.com/users/scravy/subscriptions',\n",
       "   'organizations_url': 'https://api.github.com/users/scravy/orgs',\n",
       "   'repos_url': 'https://api.github.com/users/scravy/repos',\n",
       "   'events_url': 'https://api.github.com/users/scravy/events{/privacy}',\n",
       "   'received_events_url': 'https://api.github.com/users/scravy/received_events',\n",
       "   'type': 'User',\n",
       "   'site_admin': False},\n",
       "  'labels': [],\n",
       "  'state': 'open',\n",
       "  'locked': False,\n",
       "  'assignee': None,\n",
       "  'assignees': [],\n",
       "  'milestone': None,\n",
       "  'comments': 0,\n",
       "  'created_at': '2021-07-15T00:47:26Z',\n",
       "  'updated_at': '2021-07-15T00:47:26Z',\n",
       "  'closed_at': None,\n",
       "  'author_association': 'NONE',\n",
       "  'active_lock_reason': None,\n",
       "  'pull_request': {'url': 'https://api.github.com/repos/pandas-dev/pandas/pulls/42544',\n",
       "   'html_url': 'https://github.com/pandas-dev/pandas/pull/42544',\n",
       "   'diff_url': 'https://github.com/pandas-dev/pandas/pull/42544.diff',\n",
       "   'patch_url': 'https://github.com/pandas-dev/pandas/pull/42544.patch'},\n",
       "  'body': 'The documentation on the parameters that actually are of type `Suffixes`:\\r\\n\\r\\n> *suffixeslist-like, default is (“_x”, “_y”)*\\r\\n> A length-2 sequence where each element is optionally a string indicating the suffix to add to overlapping column names in left and right respectively. _**Pass a value of None**_ instead of a string to indicate that the column name from left or right should be left as-is, with no suffix. At least one of the values must not be None.\\r\\n',\n",
       "  'performed_via_github_app': None},\n",
       " {'url': 'https://api.github.com/repos/pandas-dev/pandas/issues/42542',\n",
       "  'repository_url': 'https://api.github.com/repos/pandas-dev/pandas',\n",
       "  'labels_url': 'https://api.github.com/repos/pandas-dev/pandas/issues/42542/labels{/name}',\n",
       "  'comments_url': 'https://api.github.com/repos/pandas-dev/pandas/issues/42542/comments',\n",
       "  'events_url': 'https://api.github.com/repos/pandas-dev/pandas/issues/42542/events',\n",
       "  'html_url': 'https://github.com/pandas-dev/pandas/pull/42542',\n",
       "  'id': 944862617,\n",
       "  'node_id': 'MDExOlB1bGxSZXF1ZXN0NjkwMjgxMjk4',\n",
       "  'number': 42542,\n",
       "  'title': 'Backport PR #42539 on branch 1.3.x (Revert \"CI: runtime warning in npdev build\")',\n",
       "  'user': {'login': 'meeseeksmachine',\n",
       "   'id': 39504233,\n",
       "   'node_id': 'MDQ6VXNlcjM5NTA0MjMz',\n",
       "   'avatar_url': 'https://avatars.githubusercontent.com/u/39504233?v=4',\n",
       "   'gravatar_id': '',\n",
       "   'url': 'https://api.github.com/users/meeseeksmachine',\n",
       "   'html_url': 'https://github.com/meeseeksmachine',\n",
       "   'followers_url': 'https://api.github.com/users/meeseeksmachine/followers',\n",
       "   'following_url': 'https://api.github.com/users/meeseeksmachine/following{/other_user}',\n",
       "   'gists_url': 'https://api.github.com/users/meeseeksmachine/gists{/gist_id}',\n",
       "   'starred_url': 'https://api.github.com/users/meeseeksmachine/starred{/owner}{/repo}',\n",
       "   'subscriptions_url': 'https://api.github.com/users/meeseeksmachine/subscriptions',\n",
       "   'organizations_url': 'https://api.github.com/users/meeseeksmachine/orgs',\n",
       "   'repos_url': 'https://api.github.com/users/meeseeksmachine/repos',\n",
       "   'events_url': 'https://api.github.com/users/meeseeksmachine/events{/privacy}',\n",
       "   'received_events_url': 'https://api.github.com/users/meeseeksmachine/received_events',\n",
       "   'type': 'User',\n",
       "   'site_admin': False},\n",
       "  'labels': [{'id': 48070600,\n",
       "    'node_id': 'MDU6TGFiZWw0ODA3MDYwMA==',\n",
       "    'url': 'https://api.github.com/repos/pandas-dev/pandas/labels/CI',\n",
       "    'name': 'CI',\n",
       "    'color': 'a2bca7',\n",
       "    'default': False,\n",
       "    'description': 'Related to Continuous Integration'}],\n",
       "  'state': 'open',\n",
       "  'locked': False,\n",
       "  'assignee': None,\n",
       "  'assignees': [],\n",
       "  'milestone': {'url': 'https://api.github.com/repos/pandas-dev/pandas/milestones/87',\n",
       "   'html_url': 'https://github.com/pandas-dev/pandas/milestone/87',\n",
       "   'labels_url': 'https://api.github.com/repos/pandas-dev/pandas/milestones/87/labels',\n",
       "   'id': 6888188,\n",
       "   'node_id': 'MDk6TWlsZXN0b25lNjg4ODE4OA==',\n",
       "   'number': 87,\n",
       "   'title': '1.3.1',\n",
       "   'description': 'on-merge: backport to 1.3.x',\n",
       "   'creator': {'login': 'simonjayhawkins',\n",
       "    'id': 13159005,\n",
       "    'node_id': 'MDQ6VXNlcjEzMTU5MDA1',\n",
       "    'avatar_url': 'https://avatars.githubusercontent.com/u/13159005?v=4',\n",
       "    'gravatar_id': '',\n",
       "    'url': 'https://api.github.com/users/simonjayhawkins',\n",
       "    'html_url': 'https://github.com/simonjayhawkins',\n",
       "    'followers_url': 'https://api.github.com/users/simonjayhawkins/followers',\n",
       "    'following_url': 'https://api.github.com/users/simonjayhawkins/following{/other_user}',\n",
       "    'gists_url': 'https://api.github.com/users/simonjayhawkins/gists{/gist_id}',\n",
       "    'starred_url': 'https://api.github.com/users/simonjayhawkins/starred{/owner}{/repo}',\n",
       "    'subscriptions_url': 'https://api.github.com/users/simonjayhawkins/subscriptions',\n",
       "    'organizations_url': 'https://api.github.com/users/simonjayhawkins/orgs',\n",
       "    'repos_url': 'https://api.github.com/users/simonjayhawkins/repos',\n",
       "    'events_url': 'https://api.github.com/users/simonjayhawkins/events{/privacy}',\n",
       "    'received_events_url': 'https://api.github.com/users/simonjayhawkins/received_events',\n",
       "    'type': 'User',\n",
       "    'site_admin': False},\n",
       "   'open_issues': 21,\n",
       "   'closed_issues': 66,\n",
       "   'state': 'open',\n",
       "   'created_at': '2021-06-25T09:56:22Z',\n",
       "   'updated_at': '2021-07-15T04:19:08Z',\n",
       "   'due_on': '2021-07-25T07:00:00Z',\n",
       "   'closed_at': None},\n",
       "  'comments': 2,\n",
       "  'created_at': '2021-07-14T23:12:36Z',\n",
       "  'updated_at': '2021-07-15T04:12:42Z',\n",
       "  'closed_at': None,\n",
       "  'author_association': 'NONE',\n",
       "  'active_lock_reason': None,\n",
       "  'pull_request': {'url': 'https://api.github.com/repos/pandas-dev/pandas/pulls/42542',\n",
       "   'html_url': 'https://github.com/pandas-dev/pandas/pull/42542',\n",
       "   'diff_url': 'https://github.com/pandas-dev/pandas/pull/42542.diff',\n",
       "   'patch_url': 'https://github.com/pandas-dev/pandas/pull/42542.patch'},\n",
       "  'body': 'Backport PR #42539: Revert \"CI: runtime warning in npdev build\"',\n",
       "  'performed_via_github_app': None},\n",
       " {'url': 'https://api.github.com/repos/pandas-dev/pandas/issues/42540',\n",
       "  'repository_url': 'https://api.github.com/repos/pandas-dev/pandas',\n",
       "  'labels_url': 'https://api.github.com/repos/pandas-dev/pandas/issues/42540/labels{/name}',\n",
       "  'comments_url': 'https://api.github.com/repos/pandas-dev/pandas/issues/42540/comments',\n",
       "  'events_url': 'https://api.github.com/repos/pandas-dev/pandas/issues/42540/events',\n",
       "  'html_url': 'https://github.com/pandas-dev/pandas/issues/42540',\n",
       "  'id': 944843883,\n",
       "  'node_id': 'MDU6SXNzdWU5NDQ4NDM4ODM=',\n",
       "  'number': 42540,\n",
       "  'title': 'DOC: `pandas.json_normalize` missing from API Reference portion of documentation',\n",
       "  'user': {'login': 'TimelikeClosure',\n",
       "   'id': 16143771,\n",
       "   'node_id': 'MDQ6VXNlcjE2MTQzNzcx',\n",
       "   'avatar_url': 'https://avatars.githubusercontent.com/u/16143771?v=4',\n",
       "   'gravatar_id': '',\n",
       "   'url': 'https://api.github.com/users/TimelikeClosure',\n",
       "   'html_url': 'https://github.com/TimelikeClosure',\n",
       "   'followers_url': 'https://api.github.com/users/TimelikeClosure/followers',\n",
       "   'following_url': 'https://api.github.com/users/TimelikeClosure/following{/other_user}',\n",
       "   'gists_url': 'https://api.github.com/users/TimelikeClosure/gists{/gist_id}',\n",
       "   'starred_url': 'https://api.github.com/users/TimelikeClosure/starred{/owner}{/repo}',\n",
       "   'subscriptions_url': 'https://api.github.com/users/TimelikeClosure/subscriptions',\n",
       "   'organizations_url': 'https://api.github.com/users/TimelikeClosure/orgs',\n",
       "   'repos_url': 'https://api.github.com/users/TimelikeClosure/repos',\n",
       "   'events_url': 'https://api.github.com/users/TimelikeClosure/events{/privacy}',\n",
       "   'received_events_url': 'https://api.github.com/users/TimelikeClosure/received_events',\n",
       "   'type': 'User',\n",
       "   'site_admin': False},\n",
       "  'labels': [{'id': 134699,\n",
       "    'node_id': 'MDU6TGFiZWwxMzQ2OTk=',\n",
       "    'url': 'https://api.github.com/repos/pandas-dev/pandas/labels/Docs',\n",
       "    'name': 'Docs',\n",
       "    'color': '3465A4',\n",
       "    'default': False,\n",
       "    'description': None},\n",
       "   {'id': 1954720290,\n",
       "    'node_id': 'MDU6TGFiZWwxOTU0NzIwMjkw',\n",
       "    'url': 'https://api.github.com/repos/pandas-dev/pandas/labels/Needs%20Triage',\n",
       "    'name': 'Needs Triage',\n",
       "    'color': '0052cc',\n",
       "    'default': False,\n",
       "    'description': 'Issue that has not been reviewed by a pandas team member'}],\n",
       "  'state': 'open',\n",
       "  'locked': False,\n",
       "  'assignee': None,\n",
       "  'assignees': [],\n",
       "  'milestone': None,\n",
       "  'comments': 0,\n",
       "  'created_at': '2021-07-14T22:30:00Z',\n",
       "  'updated_at': '2021-07-14T22:30:00Z',\n",
       "  'closed_at': None,\n",
       "  'author_association': 'NONE',\n",
       "  'active_lock_reason': None,\n",
       "  'body': \"#### Location of the documentation\\r\\n\\r\\nhttps://pandas.pydata.org/docs/dev/reference/api/pandas.json_normalize.html (currently responds with a `404 Not Found`)\\r\\n\\r\\n#### Documentation problem\\r\\n\\r\\nWhile the source code does contain API reference documentation for `pandas.json_normalize` (previously `pandas.io.json.json_normalize`) as seen in [`/pandas/io/json/_normalize.py`](https://github.com/pandas-dev/pandas/blob/master/pandas/io/json/_normalize.py#L240-L381), it isn't available in the documentation for the current version of pandas hosted on `pandas.pydata.org`.\\r\\n\\r\\n#### Suggested fix for documentation\\r\\n\\r\\nAt least one older version of `pandas` _does_ have documentation that includes a `json_normalize` API reference under its old name ([`pandas.io.json.json_normalize` in v0.25.0](https://pandas.pydata.org/pandas-docs/version/0.25.0/reference/api/pandas.io.json.json_normalize.html)), so it seems feasible that it was removed by accident when its old name was [deprecated in v1.0.0](https://github.com/pandas-dev/pandas/blob/master/pandas/io/json/_normalize.py#L524-L526). Attempting to visit [`pandas.io.json.json_normalize` in the current version of the documentation](https://pandas.pydata.org/docs/dev/reference/api/pandas.io.json.json_normalize.html) redirects to the new name (`pandas.json_normalize`), which responds with a 404.\\r\\n\",\n",
       "  'performed_via_github_app': None},\n",
       " {'url': 'https://api.github.com/repos/pandas-dev/pandas/issues/42537',\n",
       "  'repository_url': 'https://api.github.com/repos/pandas-dev/pandas',\n",
       "  'labels_url': 'https://api.github.com/repos/pandas-dev/pandas/issues/42537/labels{/name}',\n",
       "  'comments_url': 'https://api.github.com/repos/pandas-dev/pandas/issues/42537/comments',\n",
       "  'events_url': 'https://api.github.com/repos/pandas-dev/pandas/issues/42537/events',\n",
       "  'html_url': 'https://github.com/pandas-dev/pandas/issues/42537',\n",
       "  'id': 944717158,\n",
       "  'node_id': 'MDU6SXNzdWU5NDQ3MTcxNTg=',\n",
       "  'number': 42537,\n",
       "  'title': 'BUG: Styler.set_sticky(axis=\"columns\") does not work properly with Multi-Index Rows',\n",
       "  'user': {'login': 'UncleHoo',\n",
       "   'id': 20323012,\n",
       "   'node_id': 'MDQ6VXNlcjIwMzIzMDEy',\n",
       "   'avatar_url': 'https://avatars.githubusercontent.com/u/20323012?v=4',\n",
       "   'gravatar_id': '',\n",
       "   'url': 'https://api.github.com/users/UncleHoo',\n",
       "   'html_url': 'https://github.com/UncleHoo',\n",
       "   'followers_url': 'https://api.github.com/users/UncleHoo/followers',\n",
       "   'following_url': 'https://api.github.com/users/UncleHoo/following{/other_user}',\n",
       "   'gists_url': 'https://api.github.com/users/UncleHoo/gists{/gist_id}',\n",
       "   'starred_url': 'https://api.github.com/users/UncleHoo/starred{/owner}{/repo}',\n",
       "   'subscriptions_url': 'https://api.github.com/users/UncleHoo/subscriptions',\n",
       "   'organizations_url': 'https://api.github.com/users/UncleHoo/orgs',\n",
       "   'repos_url': 'https://api.github.com/users/UncleHoo/repos',\n",
       "   'events_url': 'https://api.github.com/users/UncleHoo/events{/privacy}',\n",
       "   'received_events_url': 'https://api.github.com/users/UncleHoo/received_events',\n",
       "   'type': 'User',\n",
       "   'site_admin': False},\n",
       "  'labels': [{'id': 76811,\n",
       "    'node_id': 'MDU6TGFiZWw3NjgxMQ==',\n",
       "    'url': 'https://api.github.com/repos/pandas-dev/pandas/labels/Bug',\n",
       "    'name': 'Bug',\n",
       "    'color': 'e10c02',\n",
       "    'default': False,\n",
       "    'description': None},\n",
       "   {'id': 1954720290,\n",
       "    'node_id': 'MDU6TGFiZWwxOTU0NzIwMjkw',\n",
       "    'url': 'https://api.github.com/repos/pandas-dev/pandas/labels/Needs%20Triage',\n",
       "    'name': 'Needs Triage',\n",
       "    'color': '0052cc',\n",
       "    'default': False,\n",
       "    'description': 'Issue that has not been reviewed by a pandas team member'},\n",
       "   {'id': 1728592794,\n",
       "    'node_id': 'MDU6TGFiZWwxNzI4NTkyNzk0',\n",
       "    'url': 'https://api.github.com/repos/pandas-dev/pandas/labels/Styler',\n",
       "    'name': 'Styler',\n",
       "    'color': '006b75',\n",
       "    'default': False,\n",
       "    'description': 'conditional formatting using DataFrame.style'}],\n",
       "  'state': 'open',\n",
       "  'locked': False,\n",
       "  'assignee': None,\n",
       "  'assignees': [],\n",
       "  'milestone': None,\n",
       "  'comments': 1,\n",
       "  'created_at': '2021-07-14T19:08:53Z',\n",
       "  'updated_at': '2021-07-14T21:31:41Z',\n",
       "  'closed_at': None,\n",
       "  'author_association': 'NONE',\n",
       "  'active_lock_reason': None,\n",
       "  'body': '- [x] I have checked that this issue has not already been reported.\\r\\n\\r\\n- [x] I have confirmed this bug exists on the latest version of pandas.\\r\\n\\r\\n- [ ] (optional) I have confirmed this bug exists on the master branch of pandas.\\r\\n\\r\\n\\r\\n---\\r\\n\\r\\n**Note**: Please read [this guide](https://matthewrocklin.com/blog/work/2018/02/28/minimal-bug-reports) detailing how to provide the necessary information for us to reproduce your bug.\\r\\n\\r\\n#### Code Sample, a copy-pastable example\\r\\n\\r\\n```python\\r\\ndf.style.set_sticky(axis=\"columns\")\\r\\n\\r\\n```\\r\\n\\r\\n#### Problem description\\r\\n\\r\\nWhen \"sticking\" columns in a DataFrame as shown above it does not work correctly if the DataFrame has an Multi-index.  If the DataFrame has only a single index field then it works correctly.  When a Multi-Index or hierarchical index is used, the index columns stick, but the other column headers disappear.\\r\\n\\r\\n#### Expected Output\\r\\n\\r\\nThat all columns headings, both for index and non-index columns should be visible when scrolling down the DataFame.\\r\\n\\r\\n#### Output of ``pd.show_versions()``\\r\\n\\r\\n<details>\\r\\n\\r\\nINSTALLED VERSIONS\\r\\n------------------\\r\\ncommit           : f00ed8f47020034e752baf0250483053340971b0\\r\\npython           : 3.9.6.final.0\\r\\npython-bits      : 64\\r\\nOS               : Windows\\r\\nOS-release       : 10\\r\\nVersion          : 10.0.19043\\r\\nmachine          : AMD64\\r\\nprocessor        : Intel64 Family 6 Model 142 Stepping 12, GenuineIntel\\r\\nbyteorder        : little\\r\\nLC_ALL           : None\\r\\nLANG             : None\\r\\nLOCALE           : English_Canada.1252\\r\\n\\r\\npandas           : 1.3.0\\r\\nnumpy            : 1.21.0\\r\\npytz             : 2021.1\\r\\ndateutil         : 2.8.1\\r\\npip              : 21.1.3\\r\\nsetuptools       : 49.6.0.post20210108\\r\\nCython           : None\\r\\npytest           : None\\r\\nhypothesis       : None\\r\\nsphinx           : None\\r\\nblosc            : None\\r\\nfeather          : None\\r\\nxlsxwriter       : None\\r\\nlxml.etree       : None\\r\\nhtml5lib         : None\\r\\npymysql          : None\\r\\npsycopg2         : None\\r\\njinja2           : 3.0.1\\r\\nIPython          : 7.22.0\\r\\npandas_datareader: None\\r\\nbs4              : None\\r\\nbottleneck       : None\\r\\nfsspec           : None\\r\\nfastparquet      : None\\r\\ngcsfs            : None\\r\\nmatplotlib       : None\\r\\nnumexpr          : None\\r\\nodfpy            : None\\r\\nopenpyxl         : 3.0.7\\r\\npandas_gbq       : None\\r\\npyarrow          : None\\r\\npyxlsb           : None\\r\\ns3fs             : None\\r\\nscipy            : None\\r\\nsqlalchemy       : None\\r\\ntables           : None\\r\\ntabulate         : None\\r\\nxarray           : None\\r\\nxlrd             : None\\r\\nxlwt             : None\\r\\nnumba            : None\\r\\n\\r\\n</details>\\r\\n',\n",
       "  'performed_via_github_app': None},\n",
       " {'url': 'https://api.github.com/repos/pandas-dev/pandas/issues/42536',\n",
       "  'repository_url': 'https://api.github.com/repos/pandas-dev/pandas',\n",
       "  'labels_url': 'https://api.github.com/repos/pandas-dev/pandas/issues/42536/labels{/name}',\n",
       "  'comments_url': 'https://api.github.com/repos/pandas-dev/pandas/issues/42536/comments',\n",
       "  'events_url': 'https://api.github.com/repos/pandas-dev/pandas/issues/42536/events',\n",
       "  'html_url': 'https://github.com/pandas-dev/pandas/issues/42536',\n",
       "  'id': 944708025,\n",
       "  'node_id': 'MDU6SXNzdWU5NDQ3MDgwMjU=',\n",
       "  'number': 42536,\n",
       "  'title': 'BUG: merge outer join drops rows with NaN datetime in index',\n",
       "  'user': {'login': 'realdanurbano',\n",
       "   'id': 29434868,\n",
       "   'node_id': 'MDQ6VXNlcjI5NDM0ODY4',\n",
       "   'avatar_url': 'https://avatars.githubusercontent.com/u/29434868?v=4',\n",
       "   'gravatar_id': '',\n",
       "   'url': 'https://api.github.com/users/realdanurbano',\n",
       "   'html_url': 'https://github.com/realdanurbano',\n",
       "   'followers_url': 'https://api.github.com/users/realdanurbano/followers',\n",
       "   'following_url': 'https://api.github.com/users/realdanurbano/following{/other_user}',\n",
       "   'gists_url': 'https://api.github.com/users/realdanurbano/gists{/gist_id}',\n",
       "   'starred_url': 'https://api.github.com/users/realdanurbano/starred{/owner}{/repo}',\n",
       "   'subscriptions_url': 'https://api.github.com/users/realdanurbano/subscriptions',\n",
       "   'organizations_url': 'https://api.github.com/users/realdanurbano/orgs',\n",
       "   'repos_url': 'https://api.github.com/users/realdanurbano/repos',\n",
       "   'events_url': 'https://api.github.com/users/realdanurbano/events{/privacy}',\n",
       "   'received_events_url': 'https://api.github.com/users/realdanurbano/received_events',\n",
       "   'type': 'User',\n",
       "   'site_admin': False},\n",
       "  'labels': [{'id': 76811,\n",
       "    'node_id': 'MDU6TGFiZWw3NjgxMQ==',\n",
       "    'url': 'https://api.github.com/repos/pandas-dev/pandas/labels/Bug',\n",
       "    'name': 'Bug',\n",
       "    'color': 'e10c02',\n",
       "    'default': False,\n",
       "    'description': None},\n",
       "   {'id': 1954720290,\n",
       "    'node_id': 'MDU6TGFiZWwxOTU0NzIwMjkw',\n",
       "    'url': 'https://api.github.com/repos/pandas-dev/pandas/labels/Needs%20Triage',\n",
       "    'name': 'Needs Triage',\n",
       "    'color': '0052cc',\n",
       "    'default': False,\n",
       "    'description': 'Issue that has not been reviewed by a pandas team member'}],\n",
       "  'state': 'open',\n",
       "  'locked': False,\n",
       "  'assignee': None,\n",
       "  'assignees': [],\n",
       "  'milestone': None,\n",
       "  'comments': 0,\n",
       "  'created_at': '2021-07-14T18:55:55Z',\n",
       "  'updated_at': '2021-07-14T18:55:55Z',\n",
       "  'closed_at': None,\n",
       "  'author_association': 'NONE',\n",
       "  'active_lock_reason': None,\n",
       "  'body': \"- [Yes] I have checked that this issue has not already been reported.\\r\\n\\r\\n- [Yes] I have confirmed this bug exists on the latest version of pandas.\\r\\nTested with pandas 1.3.0. Verified the expected output is correct in the previous version, 1.2.5.\\r\\n\\r\\n- [ ] (optional) I have confirmed this bug exists on the master branch of pandas.\\r\\n\\r\\n---\\r\\n\\r\\n**Note**: Please read [this guide](https://matthewrocklin.com/blog/work/2018/02/28/minimal-bug-reports) detailing how to provide the necessary information for us to reproduce your bug.\\r\\n\\r\\n#### Code Sample, a copy-pastable example\\r\\n\\r\\n```python\\r\\n# Your code here\\r\\nimport pandas as pd\\r\\n\\r\\nleft = ({'name': 'Foo', 'datetime': None, 'some column': 'some value'},)\\r\\nleft = pd.DataFrame(left).set_index(['name', 'datetime'])\\r\\n\\r\\nright = ({'name': 'Foo', 'datetime': '2021-07-14', 'other column': 'other value'},)\\r\\nright = pd.DataFrame(right).set_index(['name', 'datetime'])\\r\\n\\r\\nmerged = left.merge(right, how='outer', left_index=True, right_index=True)\\r\\n\\r\\nprint(merged)\\r\\n```\\r\\n\\r\\n#### Problem description\\r\\nWhen merging left and right together using an OUTER join, I would expect to see two rows in the result. The problem appears to be with the `datetime` index column with `NaN` values. If I provide a date in left, I see the expected output. Without it, any row from the right is dropped, i.e. behaving like a left join.\\r\\n\\r\\nActual Output\\r\\n```\\r\\n              some column other column\\r\\nname datetime                         \\r\\nFoo  NaN       some value          NaN\\r\\n```\\r\\n\\r\\n#### Expected Output\\r\\n```\\r\\n                             some column other column\\r\\nname datetime                           \\r\\nFoo  NaN             some value          NaN\\r\\n     2021-07-14    NaN  other value\\r\\n```\\r\\n\\r\\n#### Output of ``pd.show_versions()``\\r\\n\\r\\n<details>\\r\\nINSTALLED VERSIONS\\r\\n------------------\\r\\ncommit           : f00ed8f47020034e752baf0250483053340971b0\\r\\npython           : 3.8.1.final.0\\r\\npython-bits      : 64\\r\\nOS               : Darwin\\r\\nOS-release       : 19.6.0\\r\\nVersion          : Darwin Kernel Version 19.6.0: Thu Jun 18 20:49:00 PDT 2020; root:xnu-6153.141.1~1/RELEASE_X86_64\\r\\nmachine          : x86_64\\r\\nprocessor        : i386\\r\\nbyteorder        : little\\r\\nLC_ALL           : None\\r\\nLANG             : en_US.UTF-8\\r\\nLOCALE           : en_US.UTF-8\\r\\n\\r\\npandas           : 1.3.0\\r\\nnumpy            : 1.21.0\\r\\npytz             : 2021.1\\r\\ndateutil         : 2.8.1\\r\\npip              : 21.1.3\\r\\nsetuptools       : 41.2.0\\r\\nCython           : None\\r\\npytest           : 6.2.3\\r\\nhypothesis       : None\\r\\nsphinx           : None\\r\\nblosc            : None\\r\\nfeather          : None\\r\\nxlsxwriter       : None\\r\\nlxml.etree       : 4.4.2\\r\\nhtml5lib         : None\\r\\npymysql          : 1.0.2\\r\\npsycopg2         : 2.9.1 (dt dec pq3 ext lo64)\\r\\njinja2           : 2.10.3\\r\\nIPython          : 7.11.1\\r\\npandas_datareader: None\\r\\nbs4              : 4.9.3\\r\\nbottleneck       : None\\r\\nfsspec           : None\\r\\nfastparquet      : None\\r\\ngcsfs            : None\\r\\nmatplotlib       : 3.4.1\\r\\nnumexpr          : None\\r\\nodfpy            : None\\r\\nopenpyxl         : 3.0.7\\r\\npandas_gbq       : None\\r\\npyarrow          : None\\r\\npyxlsb           : None\\r\\ns3fs             : None\\r\\nscipy            : 1.6.2\\r\\nsqlalchemy       : 1.4.4\\r\\ntables           : None\\r\\ntabulate         : None\\r\\nxarray           : None\\r\\nxlrd             : 1.2.0\\r\\nxlwt             : 1.3.0\\r\\nnumba            : None\\r\\n\\r\\n</details>\\r\\n\",\n",
       "  'performed_via_github_app': None},\n",
       " {'url': 'https://api.github.com/repos/pandas-dev/pandas/issues/42535',\n",
       "  'repository_url': 'https://api.github.com/repos/pandas-dev/pandas',\n",
       "  'labels_url': 'https://api.github.com/repos/pandas-dev/pandas/issues/42535/labels{/name}',\n",
       "  'comments_url': 'https://api.github.com/repos/pandas-dev/pandas/issues/42535/comments',\n",
       "  'events_url': 'https://api.github.com/repos/pandas-dev/pandas/issues/42535/events',\n",
       "  'html_url': 'https://github.com/pandas-dev/pandas/issues/42535',\n",
       "  'id': 944669378,\n",
       "  'node_id': 'MDU6SXNzdWU5NDQ2NjkzNzg=',\n",
       "  'number': 42535,\n",
       "  'title': 'BUG: - xlsx file not supported ',\n",
       "  'user': {'login': 'soydepr',\n",
       "   'id': 546367,\n",
       "   'node_id': 'MDQ6VXNlcjU0NjM2Nw==',\n",
       "   'avatar_url': 'https://avatars.githubusercontent.com/u/546367?v=4',\n",
       "   'gravatar_id': '',\n",
       "   'url': 'https://api.github.com/users/soydepr',\n",
       "   'html_url': 'https://github.com/soydepr',\n",
       "   'followers_url': 'https://api.github.com/users/soydepr/followers',\n",
       "   'following_url': 'https://api.github.com/users/soydepr/following{/other_user}',\n",
       "   'gists_url': 'https://api.github.com/users/soydepr/gists{/gist_id}',\n",
       "   'starred_url': 'https://api.github.com/users/soydepr/starred{/owner}{/repo}',\n",
       "   'subscriptions_url': 'https://api.github.com/users/soydepr/subscriptions',\n",
       "   'organizations_url': 'https://api.github.com/users/soydepr/orgs',\n",
       "   'repos_url': 'https://api.github.com/users/soydepr/repos',\n",
       "   'events_url': 'https://api.github.com/users/soydepr/events{/privacy}',\n",
       "   'received_events_url': 'https://api.github.com/users/soydepr/received_events',\n",
       "   'type': 'User',\n",
       "   'site_admin': False},\n",
       "  'labels': [{'id': 76811,\n",
       "    'node_id': 'MDU6TGFiZWw3NjgxMQ==',\n",
       "    'url': 'https://api.github.com/repos/pandas-dev/pandas/labels/Bug',\n",
       "    'name': 'Bug',\n",
       "    'color': 'e10c02',\n",
       "    'default': False,\n",
       "    'description': None},\n",
       "   {'id': 49254273,\n",
       "    'node_id': 'MDU6TGFiZWw0OTI1NDI3Mw==',\n",
       "    'url': 'https://api.github.com/repos/pandas-dev/pandas/labels/IO%20Excel',\n",
       "    'name': 'IO Excel',\n",
       "    'color': 'bfe5bf',\n",
       "    'default': False,\n",
       "    'description': 'read_excel, to_excel'},\n",
       "   {'id': 307649777,\n",
       "    'node_id': 'MDU6TGFiZWwzMDc2NDk3Nzc=',\n",
       "    'url': 'https://api.github.com/repos/pandas-dev/pandas/labels/Needs%20Info',\n",
       "    'name': 'Needs Info',\n",
       "    'color': '207de5',\n",
       "    'default': False,\n",
       "    'description': 'Clarification about behavior needed to assess issue'},\n",
       "   {'id': 1954720290,\n",
       "    'node_id': 'MDU6TGFiZWwxOTU0NzIwMjkw',\n",
       "    'url': 'https://api.github.com/repos/pandas-dev/pandas/labels/Needs%20Triage',\n",
       "    'name': 'Needs Triage',\n",
       "    'color': '0052cc',\n",
       "    'default': False,\n",
       "    'description': 'Issue that has not been reviewed by a pandas team member'}],\n",
       "  'state': 'open',\n",
       "  'locked': False,\n",
       "  'assignee': None,\n",
       "  'assignees': [],\n",
       "  'milestone': None,\n",
       "  'comments': 1,\n",
       "  'created_at': '2021-07-14T18:00:34Z',\n",
       "  'updated_at': '2021-07-14T20:02:48Z',\n",
       "  'closed_at': None,\n",
       "  'author_association': 'NONE',\n",
       "  'active_lock_reason': None,\n",
       "  'body': \"raise XLRDError(FILE_FORMAT_DESCRIPTIONS[file_format]+'; not supported')\\r\\nxlrd.biffh.XLRDError: Excel xlsx file; not supported\\r\\n>>> \\r\\n![5D1AD636-68E9-43BD-93D6-FCDB2A455D2E](https://user-images.githubusercontent.com/546367/125670336-b9abfa33-2603-484d-9dc8-ebed86292cde.png)\\r\\n\",\n",
       "  'performed_via_github_app': None},\n",
       " {'url': 'https://api.github.com/repos/pandas-dev/pandas/issues/42534',\n",
       "  'repository_url': 'https://api.github.com/repos/pandas-dev/pandas',\n",
       "  'labels_url': 'https://api.github.com/repos/pandas-dev/pandas/issues/42534/labels{/name}',\n",
       "  'comments_url': 'https://api.github.com/repos/pandas-dev/pandas/issues/42534/comments',\n",
       "  'events_url': 'https://api.github.com/repos/pandas-dev/pandas/issues/42534/events',\n",
       "  'html_url': 'https://github.com/pandas-dev/pandas/issues/42534',\n",
       "  'id': 944614817,\n",
       "  'node_id': 'MDU6SXNzdWU5NDQ2MTQ4MTc=',\n",
       "  'number': 42534,\n",
       "  'title': 'TYP: Series.name is Hashable - should it be str?',\n",
       "  'user': {'login': 'Dr-Irv',\n",
       "   'id': 15113894,\n",
       "   'node_id': 'MDQ6VXNlcjE1MTEzODk0',\n",
       "   'avatar_url': 'https://avatars.githubusercontent.com/u/15113894?v=4',\n",
       "   'gravatar_id': '',\n",
       "   'url': 'https://api.github.com/users/Dr-Irv',\n",
       "   'html_url': 'https://github.com/Dr-Irv',\n",
       "   'followers_url': 'https://api.github.com/users/Dr-Irv/followers',\n",
       "   'following_url': 'https://api.github.com/users/Dr-Irv/following{/other_user}',\n",
       "   'gists_url': 'https://api.github.com/users/Dr-Irv/gists{/gist_id}',\n",
       "   'starred_url': 'https://api.github.com/users/Dr-Irv/starred{/owner}{/repo}',\n",
       "   'subscriptions_url': 'https://api.github.com/users/Dr-Irv/subscriptions',\n",
       "   'organizations_url': 'https://api.github.com/users/Dr-Irv/orgs',\n",
       "   'repos_url': 'https://api.github.com/users/Dr-Irv/repos',\n",
       "   'events_url': 'https://api.github.com/users/Dr-Irv/events{/privacy}',\n",
       "   'received_events_url': 'https://api.github.com/users/Dr-Irv/received_events',\n",
       "   'type': 'User',\n",
       "   'site_admin': False},\n",
       "  'labels': [{'id': 76811,\n",
       "    'node_id': 'MDU6TGFiZWw3NjgxMQ==',\n",
       "    'url': 'https://api.github.com/repos/pandas-dev/pandas/labels/Bug',\n",
       "    'name': 'Bug',\n",
       "    'color': 'e10c02',\n",
       "    'default': False,\n",
       "    'description': None},\n",
       "   {'id': 2365504893,\n",
       "    'node_id': 'MDU6TGFiZWwyMzY1NTA0ODkz',\n",
       "    'url': 'https://api.github.com/repos/pandas-dev/pandas/labels/Closing%20Candidate',\n",
       "    'name': 'Closing Candidate',\n",
       "    'color': 'be21f2',\n",
       "    'default': False,\n",
       "    'description': 'May be closeable, needs more eyeballs'},\n",
       "   {'id': 1280988427,\n",
       "    'node_id': 'MDU6TGFiZWwxMjgwOTg4NDI3',\n",
       "    'url': 'https://api.github.com/repos/pandas-dev/pandas/labels/Typing',\n",
       "    'name': 'Typing',\n",
       "    'color': 'ea91a4',\n",
       "    'default': False,\n",
       "    'description': 'mypy type annotations'}],\n",
       "  'state': 'open',\n",
       "  'locked': False,\n",
       "  'assignee': None,\n",
       "  'assignees': [],\n",
       "  'milestone': None,\n",
       "  'comments': 8,\n",
       "  'created_at': '2021-07-14T16:44:28Z',\n",
       "  'updated_at': '2021-07-15T03:31:39Z',\n",
       "  'closed_at': None,\n",
       "  'author_association': 'CONTRIBUTOR',\n",
       "  'active_lock_reason': None,\n",
       "  'body': '- [x] I have checked that this issue has not already been reported.\\r\\n\\r\\n- [x] I have confirmed this bug exists on the latest version of pandas.\\r\\n\\r\\n- [x] (optional) I have confirmed this bug exists on the master branch of pandas.\\r\\n\\r\\n---\\r\\n\\r\\n```python\\r\\nimport pandas as pd\\r\\n\\r\\ns = pd.Series([1,2,3], name=\"foo\")\\r\\n\\r\\nreveal_type(s.name)\\r\\n\\r\\nnam: str = s.name\\r\\n```\\r\\n\\r\\nmypy then reports:\\r\\n```\\r\\nseriesnam.py:5: note: Revealed type is \"typing.Hashable*\"\\r\\nseriesnam.py:7: error: Incompatible types in assignment (expression has type \"Hashable\", variable has type \"str\")  [assignment]\\r\\n```\\r\\n\\r\\nIt\\'s natural to assume that the names of a Series are `str`\\r\\n\\r\\nSo why do we have it typed as `Hashable` ?\\r\\n\\r\\nSeems like @simonjayhawkins changed this in https://github.com/pandas-dev/pandas/pull/39107\\r\\n',\n",
       "  'performed_via_github_app': None},\n",
       " {'url': 'https://api.github.com/repos/pandas-dev/pandas/issues/42533',\n",
       "  'repository_url': 'https://api.github.com/repos/pandas-dev/pandas',\n",
       "  'labels_url': 'https://api.github.com/repos/pandas-dev/pandas/issues/42533/labels{/name}',\n",
       "  'comments_url': 'https://api.github.com/repos/pandas-dev/pandas/issues/42533/comments',\n",
       "  'events_url': 'https://api.github.com/repos/pandas-dev/pandas/issues/42533/events',\n",
       "  'html_url': 'https://github.com/pandas-dev/pandas/issues/42533',\n",
       "  'id': 944539561,\n",
       "  'node_id': 'MDU6SXNzdWU5NDQ1Mzk1NjE=',\n",
       "  'number': 42533,\n",
       "  'title': 'ENH: Enhance printing options for stylized DataFrames',\n",
       "  'user': {'login': 'dennymarcels',\n",
       "   'id': 12802916,\n",
       "   'node_id': 'MDQ6VXNlcjEyODAyOTE2',\n",
       "   'avatar_url': 'https://avatars.githubusercontent.com/u/12802916?v=4',\n",
       "   'gravatar_id': '',\n",
       "   'url': 'https://api.github.com/users/dennymarcels',\n",
       "   'html_url': 'https://github.com/dennymarcels',\n",
       "   'followers_url': 'https://api.github.com/users/dennymarcels/followers',\n",
       "   'following_url': 'https://api.github.com/users/dennymarcels/following{/other_user}',\n",
       "   'gists_url': 'https://api.github.com/users/dennymarcels/gists{/gist_id}',\n",
       "   'starred_url': 'https://api.github.com/users/dennymarcels/starred{/owner}{/repo}',\n",
       "   'subscriptions_url': 'https://api.github.com/users/dennymarcels/subscriptions',\n",
       "   'organizations_url': 'https://api.github.com/users/dennymarcels/orgs',\n",
       "   'repos_url': 'https://api.github.com/users/dennymarcels/repos',\n",
       "   'events_url': 'https://api.github.com/users/dennymarcels/events{/privacy}',\n",
       "   'received_events_url': 'https://api.github.com/users/dennymarcels/received_events',\n",
       "   'type': 'User',\n",
       "   'site_admin': False},\n",
       "  'labels': [{'id': 76812,\n",
       "    'node_id': 'MDU6TGFiZWw3NjgxMg==',\n",
       "    'url': 'https://api.github.com/repos/pandas-dev/pandas/labels/Enhancement',\n",
       "    'name': 'Enhancement',\n",
       "    'color': '4E9A06',\n",
       "    'default': False,\n",
       "    'description': None},\n",
       "   {'id': 57395487,\n",
       "    'node_id': 'MDU6TGFiZWw1NzM5NTQ4Nw==',\n",
       "    'url': 'https://api.github.com/repos/pandas-dev/pandas/labels/IO%20HTML',\n",
       "    'name': 'IO HTML',\n",
       "    'color': '006b75',\n",
       "    'default': False,\n",
       "    'description': 'read_html, to_html, Styler.apply, Styler.applymap'},\n",
       "   {'id': 1728592794,\n",
       "    'node_id': 'MDU6TGFiZWwxNzI4NTkyNzk0',\n",
       "    'url': 'https://api.github.com/repos/pandas-dev/pandas/labels/Styler',\n",
       "    'name': 'Styler',\n",
       "    'color': '006b75',\n",
       "    'default': False,\n",
       "    'description': 'conditional formatting using DataFrame.style'}],\n",
       "  'state': 'open',\n",
       "  'locked': False,\n",
       "  'assignee': None,\n",
       "  'assignees': [],\n",
       "  'milestone': None,\n",
       "  'comments': 2,\n",
       "  'created_at': '2021-07-14T15:20:28Z',\n",
       "  'updated_at': '2021-07-14T21:00:08Z',\n",
       "  'closed_at': None,\n",
       "  'author_association': 'NONE',\n",
       "  'active_lock_reason': None,\n",
       "  'body': \"#### Is your feature request related to a problem?\\r\\n\\r\\nMore like an improvement.\\r\\n\\r\\n#### Describe the solution you'd like\\r\\n\\r\\nI just started playing around with pandas styling, and I noticed there is no way to print only the head and/or tail of a stylized DataFrame. It would be awesome if the styling could be applied to the whole df but then we could print only selected rows, like head and/or tail.\\r\\n\\r\\n#### API breaking implications\\r\\n\\r\\nI guess there could be a parameter passed to methods such as `bar`,  or a new method to be appended to the end of a call.\\r\\n\\r\\n#### Describe alternatives you've considered\\r\\n\\r\\nI can apply the style to a slice of a DataFrame but then the styling function is applied to this slice only. What if I want to highlight_max to the whole df but print head/tail only?\",\n",
       "  'performed_via_github_app': None},\n",
       " {'url': 'https://api.github.com/repos/pandas-dev/pandas/issues/42530',\n",
       "  'repository_url': 'https://api.github.com/repos/pandas-dev/pandas',\n",
       "  'labels_url': 'https://api.github.com/repos/pandas-dev/pandas/issues/42530/labels{/name}',\n",
       "  'comments_url': 'https://api.github.com/repos/pandas-dev/pandas/issues/42530/comments',\n",
       "  'events_url': 'https://api.github.com/repos/pandas-dev/pandas/issues/42530/events',\n",
       "  'html_url': 'https://github.com/pandas-dev/pandas/issues/42530',\n",
       "  'id': 944122743,\n",
       "  'node_id': 'MDU6SXNzdWU5NDQxMjI3NDM=',\n",
       "  'number': 42530,\n",
       "  'title': 'BUG: `KeyError` when assigning to Series values after pop from DataFrame',\n",
       "  'user': {'login': 'itssimon',\n",
       "   'id': 1176585,\n",
       "   'node_id': 'MDQ6VXNlcjExNzY1ODU=',\n",
       "   'avatar_url': 'https://avatars.githubusercontent.com/u/1176585?v=4',\n",
       "   'gravatar_id': '',\n",
       "   'url': 'https://api.github.com/users/itssimon',\n",
       "   'html_url': 'https://github.com/itssimon',\n",
       "   'followers_url': 'https://api.github.com/users/itssimon/followers',\n",
       "   'following_url': 'https://api.github.com/users/itssimon/following{/other_user}',\n",
       "   'gists_url': 'https://api.github.com/users/itssimon/gists{/gist_id}',\n",
       "   'starred_url': 'https://api.github.com/users/itssimon/starred{/owner}{/repo}',\n",
       "   'subscriptions_url': 'https://api.github.com/users/itssimon/subscriptions',\n",
       "   'organizations_url': 'https://api.github.com/users/itssimon/orgs',\n",
       "   'repos_url': 'https://api.github.com/users/itssimon/repos',\n",
       "   'events_url': 'https://api.github.com/users/itssimon/events{/privacy}',\n",
       "   'received_events_url': 'https://api.github.com/users/itssimon/received_events',\n",
       "   'type': 'User',\n",
       "   'site_admin': False},\n",
       "  'labels': [{'id': 76811,\n",
       "    'node_id': 'MDU6TGFiZWw3NjgxMQ==',\n",
       "    'url': 'https://api.github.com/repos/pandas-dev/pandas/labels/Bug',\n",
       "    'name': 'Bug',\n",
       "    'color': 'e10c02',\n",
       "    'default': False,\n",
       "    'description': None},\n",
       "   {'id': 1954720290,\n",
       "    'node_id': 'MDU6TGFiZWwxOTU0NzIwMjkw',\n",
       "    'url': 'https://api.github.com/repos/pandas-dev/pandas/labels/Needs%20Triage',\n",
       "    'name': 'Needs Triage',\n",
       "    'color': '0052cc',\n",
       "    'default': False,\n",
       "    'description': 'Issue that has not been reviewed by a pandas team member'}],\n",
       "  'state': 'open',\n",
       "  'locked': False,\n",
       "  'assignee': None,\n",
       "  'assignees': [],\n",
       "  'milestone': None,\n",
       "  'comments': 0,\n",
       "  'created_at': '2021-07-14T07:14:59Z',\n",
       "  'updated_at': '2021-07-14T07:14:59Z',\n",
       "  'closed_at': None,\n",
       "  'author_association': 'NONE',\n",
       "  'active_lock_reason': None,\n",
       "  'body': '- [X] I have checked that this issue has not already been reported.\\r\\n\\r\\n- [X] I have confirmed this bug exists on the latest version of pandas.\\r\\n\\r\\n- [ ] (optional) I have confirmed this bug exists on the master branch of pandas.\\r\\n\\r\\n---\\r\\n\\r\\n**Note**: Please read [this guide](https://matthewrocklin.com/blog/work/2018/02/28/minimal-bug-reports) detailing how to provide the necessary information for us to reproduce your bug.\\r\\n\\r\\n#### Code Sample, a copy-pastable example\\r\\n\\r\\n```python\\r\\nimport pandas as pd\\r\\n\\r\\ndf = pd.DataFrame({\"a\": [1, 2, 3], \"b\": [4, 5, 6]})\\r\\nseries = df.pop(\"b\")\\r\\nseries[[True, False, False]] = 9\\r\\n```\\r\\n\\r\\n#### Problem description\\r\\n\\r\\nThrows a `KeyError`:\\r\\n\\r\\n```\\r\\n---------------------------------------------------------------------------\\r\\nTypeError                                 Traceback (most recent call last)\\r\\n~/.envs/sigma/lib/python3.8/site-packages/pandas/core/series.py in __setitem__(self, key, value)\\r\\n   1061         try:\\r\\n-> 1062             self._set_with_engine(key, value)\\r\\n   1063         except (KeyError, ValueError):\\r\\n\\r\\n~/.envs/sigma/lib/python3.8/site-packages/pandas/core/series.py in _set_with_engine(self, key, value)\\r\\n   1094         # fails with AttributeError for IntervalIndex\\r\\n-> 1095         loc = self.index._engine.get_loc(key)\\r\\n   1096         # error: Argument 1 to \"validate_numeric_casting\" has incompatible type\\r\\n\\r\\n~/.envs/sigma/lib/python3.8/site-packages/pandas/_libs/index.pyx in pandas._libs.index.IndexEngine.get_loc()\\r\\n\\r\\n~/.envs/sigma/lib/python3.8/site-packages/pandas/_libs/index.pyx in pandas._libs.index.IndexEngine.get_loc()\\r\\n\\r\\nTypeError: \\'[True, False, False]\\' is an invalid key\\r\\n\\r\\nDuring handling of the above exception, another exception occurred:\\r\\n\\r\\nKeyError                                  Traceback (most recent call last)\\r\\n~/.envs/sigma/lib/python3.8/site-packages/pandas/core/indexes/base.py in get_loc(self, key, method, tolerance)\\r\\n   3360             try:\\r\\n-> 3361                 return self._engine.get_loc(casted_key)\\r\\n   3362             except KeyError as err:\\r\\n\\r\\n~/.envs/sigma/lib/python3.8/site-packages/pandas/_libs/index.pyx in pandas._libs.index.IndexEngine.get_loc()\\r\\n\\r\\n~/.envs/sigma/lib/python3.8/site-packages/pandas/_libs/index.pyx in pandas._libs.index.IndexEngine.get_loc()\\r\\n\\r\\npandas/_libs/hashtable_class_helper.pxi in pandas._libs.hashtable.PyObjectHashTable.get_item()\\r\\n\\r\\npandas/_libs/hashtable_class_helper.pxi in pandas._libs.hashtable.PyObjectHashTable.get_item()\\r\\n\\r\\nKeyError: \\'b\\'\\r\\n\\r\\nThe above exception was the direct cause of the following exception:\\r\\n\\r\\nKeyError                                  Traceback (most recent call last)\\r\\n/tmp/ipykernel_29158/1487425742.py in <module>\\r\\n      3 df = pd.DataFrame({\"a\": [1, 2, 3], \"b\": [4, 5, 6]})\\r\\n      4 series = df.pop(\"b\")\\r\\n----> 5 series[[True, False, False]] = 9\\r\\n\\r\\n~/.envs/sigma/lib/python3.8/site-packages/pandas/core/series.py in __setitem__(self, key, value)\\r\\n   1080                 key = np.asarray(key, dtype=bool)\\r\\n   1081                 try:\\r\\n-> 1082                     self._where(~key, value, inplace=True)\\r\\n   1083                 except InvalidIndexError:\\r\\n   1084                     self.iloc[key] = value\\r\\n\\r\\n~/.envs/sigma/lib/python3.8/site-packages/pandas/core/generic.py in _where(self, cond, other, inplace, axis, level, errors)\\r\\n   8859             new_data = self._mgr.putmask(mask=cond, new=other, align=align)\\r\\n   8860             result = self._constructor(new_data)\\r\\n-> 8861             return self._update_inplace(result)\\r\\n   8862 \\r\\n   8863         else:\\r\\n\\r\\n~/.envs/sigma/lib/python3.8/site-packages/pandas/core/generic.py in _update_inplace(self, result, verify_is_copy)\\r\\n   4228         self._clear_item_cache()\\r\\n   4229         self._mgr = result._mgr\\r\\n-> 4230         self._maybe_update_cacher(verify_is_copy=verify_is_copy)\\r\\n   4231 \\r\\n   4232     @final\\r\\n\\r\\n~/.envs/sigma/lib/python3.8/site-packages/pandas/core/series.py in _maybe_update_cacher(self, clear, verify_is_copy)\\r\\n   1232                 if len(self) == len(ref):\\r\\n   1233                     # otherwise, either self or ref has swapped in new arrays\\r\\n-> 1234                     ref._maybe_cache_changed(cacher[0], self)\\r\\n   1235                 else:\\r\\n   1236                     # GH#33675 we have swapped in a new array, so parent\\r\\n\\r\\n~/.envs/sigma/lib/python3.8/site-packages/pandas/core/frame.py in _maybe_cache_changed(self, item, value)\\r\\n   3896         The object has called back to us saying maybe it has changed.\\r\\n   3897         \"\"\"\\r\\n-> 3898         loc = self._info_axis.get_loc(item)\\r\\n   3899         arraylike = value._values\\r\\n   3900         self._mgr.iset(loc, arraylike)\\r\\n\\r\\n~/.envs/sigma/lib/python3.8/site-packages/pandas/core/indexes/base.py in get_loc(self, key, method, tolerance)\\r\\n   3361                 return self._engine.get_loc(casted_key)\\r\\n   3362             except KeyError as err:\\r\\n-> 3363                 raise KeyError(key) from err\\r\\n   3364 \\r\\n   3365         if is_scalar(key) and isna(key) and not self.hasnans:\\r\\n\\r\\nKeyError: \\'b\\'\\r\\n```\\r\\n\\r\\nNote that when changing the line `series = df.pop(\"b\")` to `series = df.pop(\"b\").copy()` it works as expected.\\r\\n\\r\\n#### Expected Output\\r\\n\\r\\nNo exception, first value in `series` set to `9`.\\r\\n\\r\\n#### Output of ``pd.show_versions()``\\r\\n\\r\\n<details>\\r\\n\\r\\nINSTALLED VERSIONS\\r\\n------------------\\r\\ncommit           : f00ed8f47020034e752baf0250483053340971b0\\r\\npython           : 3.8.10.final.0\\r\\npython-bits      : 64\\r\\nOS               : Linux\\r\\nOS-release       : 5.4.117-58.216.amzn2.x86_64\\r\\nVersion          : #1 SMP Tue May 11 20:50:07 UTC 2021\\r\\nmachine          : x86_64\\r\\nprocessor        : x86_64\\r\\nbyteorder        : little\\r\\nLC_ALL           : en_AU.UTF-8\\r\\nLANG             : en_AU.UTF-8\\r\\nLOCALE           : en_AU.UTF-8\\r\\n\\r\\npandas           : 1.3.0\\r\\nnumpy            : 1.21.0\\r\\npytz             : 2021.1\\r\\ndateutil         : 2.8.1\\r\\npip              : 21.1.3\\r\\nsetuptools       : 49.6.0.post20210108\\r\\nCython           : None\\r\\npytest           : 6.2.4\\r\\nhypothesis       : None\\r\\nsphinx           : None\\r\\nblosc            : None\\r\\nfeather          : None\\r\\nxlsxwriter       : None\\r\\nlxml.etree       : None\\r\\nhtml5lib         : None\\r\\npymysql          : None\\r\\npsycopg2         : 2.9.1 (dt dec pq3 ext lo64)\\r\\njinja2           : 3.0.1\\r\\nIPython          : 7.25.0\\r\\npandas_datareader: None\\r\\nbs4              : None\\r\\nbottleneck       : None\\r\\nfsspec           : None\\r\\nfastparquet      : None\\r\\ngcsfs            : None\\r\\nmatplotlib       : 3.4.2\\r\\nnumexpr          : None\\r\\nodfpy            : None\\r\\nopenpyxl         : None\\r\\npandas_gbq       : None\\r\\npyarrow          : 4.0.1\\r\\npyxlsb           : None\\r\\ns3fs             : None\\r\\nscipy            : 1.7.0\\r\\nsqlalchemy       : 1.3.23\\r\\ntables           : None\\r\\ntabulate         : None\\r\\nxarray           : None\\r\\nxlrd             : None\\r\\nxlwt             : None\\r\\nnumba            : 0.53.1\\r\\n\\r\\n</details>\\r\\n',\n",
       "  'performed_via_github_app': None},\n",
       " {'url': 'https://api.github.com/repos/pandas-dev/pandas/issues/42522',\n",
       "  'repository_url': 'https://api.github.com/repos/pandas-dev/pandas',\n",
       "  'labels_url': 'https://api.github.com/repos/pandas-dev/pandas/issues/42522/labels{/name}',\n",
       "  'comments_url': 'https://api.github.com/repos/pandas-dev/pandas/issues/42522/comments',\n",
       "  'events_url': 'https://api.github.com/repos/pandas-dev/pandas/issues/42522/events',\n",
       "  'html_url': 'https://github.com/pandas-dev/pandas/issues/42522',\n",
       "  'id': 943790520,\n",
       "  'node_id': 'MDU6SXNzdWU5NDM3OTA1MjA=',\n",
       "  'number': 42522,\n",
       "  'title': 'BLD: Bump ManyLinux',\n",
       "  'user': {'login': 'lithomas1',\n",
       "   'id': 47963215,\n",
       "   'node_id': 'MDQ6VXNlcjQ3OTYzMjE1',\n",
       "   'avatar_url': 'https://avatars.githubusercontent.com/u/47963215?v=4',\n",
       "   'gravatar_id': '',\n",
       "   'url': 'https://api.github.com/users/lithomas1',\n",
       "   'html_url': 'https://github.com/lithomas1',\n",
       "   'followers_url': 'https://api.github.com/users/lithomas1/followers',\n",
       "   'following_url': 'https://api.github.com/users/lithomas1/following{/other_user}',\n",
       "   'gists_url': 'https://api.github.com/users/lithomas1/gists{/gist_id}',\n",
       "   'starred_url': 'https://api.github.com/users/lithomas1/starred{/owner}{/repo}',\n",
       "   'subscriptions_url': 'https://api.github.com/users/lithomas1/subscriptions',\n",
       "   'organizations_url': 'https://api.github.com/users/lithomas1/orgs',\n",
       "   'repos_url': 'https://api.github.com/users/lithomas1/repos',\n",
       "   'events_url': 'https://api.github.com/users/lithomas1/events{/privacy}',\n",
       "   'received_events_url': 'https://api.github.com/users/lithomas1/received_events',\n",
       "   'type': 'User',\n",
       "   'site_admin': False},\n",
       "  'labels': [{'id': 129350,\n",
       "    'node_id': 'MDU6TGFiZWwxMjkzNTA=',\n",
       "    'url': 'https://api.github.com/repos/pandas-dev/pandas/labels/Build',\n",
       "    'name': 'Build',\n",
       "    'color': '75507B',\n",
       "    'default': False,\n",
       "    'description': 'Library building on various platforms'}],\n",
       "  'state': 'open',\n",
       "  'locked': False,\n",
       "  'assignee': None,\n",
       "  'assignees': [],\n",
       "  'milestone': None,\n",
       "  'comments': 1,\n",
       "  'created_at': '2021-07-13T20:12:45Z',\n",
       "  'updated_at': '2021-07-14T10:26:32Z',\n",
       "  'closed_at': None,\n",
       "  'author_association': 'MEMBER',\n",
       "  'active_lock_reason': None,\n",
       "  'body': 'From the manylinux README\\r\\n```\\r\\nThe goal of the manylinux project is to provide a convenient way to distribute binary Python extensions as wheels on Linux. This effort has produced PEP 513 (manylinux1), PEP 571 (manylinux2010), PEP 599 (manylinux2014) and PEP 600 (manylinux_x_y).\\r\\n\\r\\nPEP 513 defined manylinux1_x86_64 and manylinux1_i686 platform tags and the wheels were built on Centos5. Centos5 reached End of Life (EOL) on March 31st, 2017.\\r\\n\\r\\nPEP 571 defined manylinux2010_x86_64 and manylinux2010_i686 platform tags and the wheels were built on Centos6. Centos6 reached End of Life (EOL) on November 30th, 2020.\\r\\nPEP 599 defines the following platform tags:\\r\\n\\r\\nmanylinux2014_x86_64\\r\\nmanylinux2014_i686\\r\\nmanylinux2014_aarch64\\r\\nmanylinux2014_armv7l\\r\\nmanylinux2014_ppc64\\r\\nmanylinux2014_ppc64le\\r\\nmanylinux2014_s390x\\r\\nWheels are built on CentOS 7 which will reach End of Life (EOL) on June 30th, 2024.\\r\\n```\\r\\nSince Centos5 and 6 have reached EOL already, we should bump manylinux to manylinux2014. FWIW, numpy has already bumped manylinux to manylinux2014.\\r\\n\\r\\ncc @simonjayhawkins ',\n",
       "  'performed_via_github_app': None},\n",
       " {'url': 'https://api.github.com/repos/pandas-dev/pandas/issues/42520',\n",
       "  'repository_url': 'https://api.github.com/repos/pandas-dev/pandas',\n",
       "  'labels_url': 'https://api.github.com/repos/pandas-dev/pandas/issues/42520/labels{/name}',\n",
       "  'comments_url': 'https://api.github.com/repos/pandas-dev/pandas/issues/42520/comments',\n",
       "  'events_url': 'https://api.github.com/repos/pandas-dev/pandas/issues/42520/events',\n",
       "  'html_url': 'https://github.com/pandas-dev/pandas/pull/42520',\n",
       "  'id': 943721779,\n",
       "  'node_id': 'MDExOlB1bGxSZXF1ZXN0Njg5MzEwNDg2',\n",
       "  'number': 42520,\n",
       "  'title': 'DOC: Add user_guide examples and docstring example for df.plot.box and df.plot.hist',\n",
       "  'user': {'login': 'charlesdong1991',\n",
       "   'id': 9269816,\n",
       "   'node_id': 'MDQ6VXNlcjkyNjk4MTY=',\n",
       "   'avatar_url': 'https://avatars.githubusercontent.com/u/9269816?v=4',\n",
       "   'gravatar_id': '',\n",
       "   'url': 'https://api.github.com/users/charlesdong1991',\n",
       "   'html_url': 'https://github.com/charlesdong1991',\n",
       "   'followers_url': 'https://api.github.com/users/charlesdong1991/followers',\n",
       "   'following_url': 'https://api.github.com/users/charlesdong1991/following{/other_user}',\n",
       "   'gists_url': 'https://api.github.com/users/charlesdong1991/gists{/gist_id}',\n",
       "   'starred_url': 'https://api.github.com/users/charlesdong1991/starred{/owner}{/repo}',\n",
       "   'subscriptions_url': 'https://api.github.com/users/charlesdong1991/subscriptions',\n",
       "   'organizations_url': 'https://api.github.com/users/charlesdong1991/orgs',\n",
       "   'repos_url': 'https://api.github.com/users/charlesdong1991/repos',\n",
       "   'events_url': 'https://api.github.com/users/charlesdong1991/events{/privacy}',\n",
       "   'received_events_url': 'https://api.github.com/users/charlesdong1991/received_events',\n",
       "   'type': 'User',\n",
       "   'site_admin': False},\n",
       "  'labels': [{'id': 134699,\n",
       "    'node_id': 'MDU6TGFiZWwxMzQ2OTk=',\n",
       "    'url': 'https://api.github.com/repos/pandas-dev/pandas/labels/Docs',\n",
       "    'name': 'Docs',\n",
       "    'color': '3465A4',\n",
       "    'default': False,\n",
       "    'description': None},\n",
       "   {'id': 2413328,\n",
       "    'node_id': 'MDU6TGFiZWwyNDEzMzI4',\n",
       "    'url': 'https://api.github.com/repos/pandas-dev/pandas/labels/Visualization',\n",
       "    'name': 'Visualization',\n",
       "    'color': '8AE234',\n",
       "    'default': False,\n",
       "    'description': None}],\n",
       "  'state': 'open',\n",
       "  'locked': False,\n",
       "  'assignee': None,\n",
       "  'assignees': [],\n",
       "  'milestone': {'url': 'https://api.github.com/repos/pandas-dev/pandas/milestones/86',\n",
       "   'html_url': 'https://github.com/pandas-dev/pandas/milestone/86',\n",
       "   'labels_url': 'https://api.github.com/repos/pandas-dev/pandas/milestones/86/labels',\n",
       "   'id': 6840253,\n",
       "   'node_id': 'MDk6TWlsZXN0b25lNjg0MDI1Mw==',\n",
       "   'number': 86,\n",
       "   'title': '1.4',\n",
       "   'description': '',\n",
       "   'creator': {'login': 'jreback',\n",
       "    'id': 953992,\n",
       "    'node_id': 'MDQ6VXNlcjk1Mzk5Mg==',\n",
       "    'avatar_url': 'https://avatars.githubusercontent.com/u/953992?v=4',\n",
       "    'gravatar_id': '',\n",
       "    'url': 'https://api.github.com/users/jreback',\n",
       "    'html_url': 'https://github.com/jreback',\n",
       "    'followers_url': 'https://api.github.com/users/jreback/followers',\n",
       "    'following_url': 'https://api.github.com/users/jreback/following{/other_user}',\n",
       "    'gists_url': 'https://api.github.com/users/jreback/gists{/gist_id}',\n",
       "    'starred_url': 'https://api.github.com/users/jreback/starred{/owner}{/repo}',\n",
       "    'subscriptions_url': 'https://api.github.com/users/jreback/subscriptions',\n",
       "    'organizations_url': 'https://api.github.com/users/jreback/orgs',\n",
       "    'repos_url': 'https://api.github.com/users/jreback/repos',\n",
       "    'events_url': 'https://api.github.com/users/jreback/events{/privacy}',\n",
       "    'received_events_url': 'https://api.github.com/users/jreback/received_events',\n",
       "    'type': 'User',\n",
       "    'site_admin': False},\n",
       "   'open_issues': 25,\n",
       "   'closed_issues': 172,\n",
       "   'state': 'open',\n",
       "   'created_at': '2021-06-09T18:28:42Z',\n",
       "   'updated_at': '2021-07-15T04:24:14Z',\n",
       "   'due_on': '2021-12-31T08:00:00Z',\n",
       "   'closed_at': None},\n",
       "  'comments': 0,\n",
       "  'created_at': '2021-07-13T18:34:13Z',\n",
       "  'updated_at': '2021-07-13T22:55:42Z',\n",
       "  'closed_at': None,\n",
       "  'author_association': 'MEMBER',\n",
       "  'active_lock_reason': None,\n",
       "  'pull_request': {'url': 'https://api.github.com/repos/pandas-dev/pandas/pulls/42520',\n",
       "   'html_url': 'https://github.com/pandas-dev/pandas/pull/42520',\n",
       "   'diff_url': 'https://github.com/pandas-dev/pandas/pull/42520.diff',\n",
       "   'patch_url': 'https://github.com/pandas-dev/pandas/pull/42520.patch'},\n",
       "  'body': '- [x] closes #42492\\r\\n- [ ] tests added / passed\\r\\n- [ ] Ensure all linting tests pass, see [here](https://pandas.pydata.org/pandas-docs/dev/development/contributing.html#code-standards) for how to run them\\r\\n- [ ] whatsnew entry\\r\\n',\n",
       "  'performed_via_github_app': None},\n",
       " {'url': 'https://api.github.com/repos/pandas-dev/pandas/issues/42518',\n",
       "  'repository_url': 'https://api.github.com/repos/pandas-dev/pandas',\n",
       "  'labels_url': 'https://api.github.com/repos/pandas-dev/pandas/issues/42518/labels{/name}',\n",
       "  'comments_url': 'https://api.github.com/repos/pandas-dev/pandas/issues/42518/comments',\n",
       "  'events_url': 'https://api.github.com/repos/pandas-dev/pandas/issues/42518/events',\n",
       "  'html_url': 'https://github.com/pandas-dev/pandas/pull/42518',\n",
       "  'id': 943527352,\n",
       "  'node_id': 'MDExOlB1bGxSZXF1ZXN0Njg5MTQ3MzIy',\n",
       "  'number': 42518,\n",
       "  'title': 'WIP: try to debug segfault related issue',\n",
       "  'user': {'login': 'fangchenli',\n",
       "   'id': 7614606,\n",
       "   'node_id': 'MDQ6VXNlcjc2MTQ2MDY=',\n",
       "   'avatar_url': 'https://avatars.githubusercontent.com/u/7614606?v=4',\n",
       "   'gravatar_id': '',\n",
       "   'url': 'https://api.github.com/users/fangchenli',\n",
       "   'html_url': 'https://github.com/fangchenli',\n",
       "   'followers_url': 'https://api.github.com/users/fangchenli/followers',\n",
       "   'following_url': 'https://api.github.com/users/fangchenli/following{/other_user}',\n",
       "   'gists_url': 'https://api.github.com/users/fangchenli/gists{/gist_id}',\n",
       "   'starred_url': 'https://api.github.com/users/fangchenli/starred{/owner}{/repo}',\n",
       "   'subscriptions_url': 'https://api.github.com/users/fangchenli/subscriptions',\n",
       "   'organizations_url': 'https://api.github.com/users/fangchenli/orgs',\n",
       "   'repos_url': 'https://api.github.com/users/fangchenli/repos',\n",
       "   'events_url': 'https://api.github.com/users/fangchenli/events{/privacy}',\n",
       "   'received_events_url': 'https://api.github.com/users/fangchenli/received_events',\n",
       "   'type': 'User',\n",
       "   'site_admin': False},\n",
       "  'labels': [],\n",
       "  'state': 'open',\n",
       "  'locked': False,\n",
       "  'assignee': None,\n",
       "  'assignees': [],\n",
       "  'milestone': None,\n",
       "  'comments': 0,\n",
       "  'created_at': '2021-07-13T15:08:41Z',\n",
       "  'updated_at': '2021-07-13T16:55:11Z',\n",
       "  'closed_at': None,\n",
       "  'author_association': 'MEMBER',\n",
       "  'active_lock_reason': None,\n",
       "  'pull_request': {'url': 'https://api.github.com/repos/pandas-dev/pandas/pulls/42518',\n",
       "   'html_url': 'https://github.com/pandas-dev/pandas/pull/42518',\n",
       "   'diff_url': 'https://github.com/pandas-dev/pandas/pull/42518.diff',\n",
       "   'patch_url': 'https://github.com/pandas-dev/pandas/pull/42518.patch'},\n",
       "  'body': '',\n",
       "  'performed_via_github_app': None},\n",
       " {'url': 'https://api.github.com/repos/pandas-dev/pandas/issues/42514',\n",
       "  'repository_url': 'https://api.github.com/repos/pandas-dev/pandas',\n",
       "  'labels_url': 'https://api.github.com/repos/pandas-dev/pandas/issues/42514/labels{/name}',\n",
       "  'comments_url': 'https://api.github.com/repos/pandas-dev/pandas/issues/42514/comments',\n",
       "  'events_url': 'https://api.github.com/repos/pandas-dev/pandas/issues/42514/events',\n",
       "  'html_url': 'https://github.com/pandas-dev/pandas/issues/42514',\n",
       "  'id': 943022984,\n",
       "  'node_id': 'MDU6SXNzdWU5NDMwMjI5ODQ=',\n",
       "  'number': 42514,\n",
       "  'title': \"QST: is both an index level and a column label, which is ambiguous. + None of ['_ITEM'] are in the columns + KeyError\",\n",
       "  'user': {'login': 'maifeeulasad',\n",
       "   'id': 29339330,\n",
       "   'node_id': 'MDQ6VXNlcjI5MzM5MzMw',\n",
       "   'avatar_url': 'https://avatars.githubusercontent.com/u/29339330?v=4',\n",
       "   'gravatar_id': '',\n",
       "   'url': 'https://api.github.com/users/maifeeulasad',\n",
       "   'html_url': 'https://github.com/maifeeulasad',\n",
       "   'followers_url': 'https://api.github.com/users/maifeeulasad/followers',\n",
       "   'following_url': 'https://api.github.com/users/maifeeulasad/following{/other_user}',\n",
       "   'gists_url': 'https://api.github.com/users/maifeeulasad/gists{/gist_id}',\n",
       "   'starred_url': 'https://api.github.com/users/maifeeulasad/starred{/owner}{/repo}',\n",
       "   'subscriptions_url': 'https://api.github.com/users/maifeeulasad/subscriptions',\n",
       "   'organizations_url': 'https://api.github.com/users/maifeeulasad/orgs',\n",
       "   'repos_url': 'https://api.github.com/users/maifeeulasad/repos',\n",
       "   'events_url': 'https://api.github.com/users/maifeeulasad/events{/privacy}',\n",
       "   'received_events_url': 'https://api.github.com/users/maifeeulasad/received_events',\n",
       "   'type': 'User',\n",
       "   'site_admin': False},\n",
       "  'labels': [{'id': 2365504893,\n",
       "    'node_id': 'MDU6TGFiZWwyMzY1NTA0ODkz',\n",
       "    'url': 'https://api.github.com/repos/pandas-dev/pandas/labels/Closing%20Candidate',\n",
       "    'name': 'Closing Candidate',\n",
       "    'color': 'be21f2',\n",
       "    'default': False,\n",
       "    'description': 'May be closeable, needs more eyeballs'},\n",
       "   {'id': 1954720290,\n",
       "    'node_id': 'MDU6TGFiZWwxOTU0NzIwMjkw',\n",
       "    'url': 'https://api.github.com/repos/pandas-dev/pandas/labels/Needs%20Triage',\n",
       "    'name': 'Needs Triage',\n",
       "    'color': '0052cc',\n",
       "    'default': False,\n",
       "    'description': 'Issue that has not been reviewed by a pandas team member'},\n",
       "   {'id': 34444536,\n",
       "    'node_id': 'MDU6TGFiZWwzNDQ0NDUzNg==',\n",
       "    'url': 'https://api.github.com/repos/pandas-dev/pandas/labels/Usage%20Question',\n",
       "    'name': 'Usage Question',\n",
       "    'color': '0052cc',\n",
       "    'default': False,\n",
       "    'description': None}],\n",
       "  'state': 'open',\n",
       "  'locked': False,\n",
       "  'assignee': None,\n",
       "  'assignees': [],\n",
       "  'milestone': None,\n",
       "  'comments': 1,\n",
       "  'created_at': '2021-07-13T09:03:29Z',\n",
       "  'updated_at': '2021-07-13T10:48:58Z',\n",
       "  'closed_at': None,\n",
       "  'author_association': 'NONE',\n",
       "  'active_lock_reason': None,\n",
       "  'body': '- [x] I have searched the [[pandas] tag](https://stackoverflow.com/questions/tagged/pandas) on StackOverflow for similar questions.\\r\\n\\r\\n- [ ] I have asked my usage related question on [StackOverflow](https://stackoverflow.com)\\r\\n- [x] Asked on GIS StackExchange: https://gis.stackexchange.com/q/403762/155601\\r\\n---\\r\\n\\r\\n#### Question about pandas\\r\\n\\r\\n**Note**: If you\\'d still like to submit a question, please read [this guide](\\r\\nhttps://matthewrocklin.com/blog/work/2018/02/28/minimal-bug-reports) detailing how to provide the necessary information for us to reproduce your question.\\r\\n\\r\\nI\\'m trying to process some data, with geopandas0.9 which uses geopandas. And I\\'ve `pandas==1.2.5`\\r\\n\\r\\nHere is my code:\\r\\n```\\r\\nlocations = select_polygons.groupby(class_col).apply(lambda x: \\\\\\r\\n            sample_locations_from_polygon(x, sample_on_boundary=\\'road\\'\\r\\n            in x[class_col].iloc[0].lower() or \\'railway\\'\\r\\n            in x[class_col].iloc[0].lower()))\\r\\n    return locations\\r\\n```\\r\\nHere `class_col=\"ITEM\"`\\r\\n\\r\\nIt gives me error saying: **`ValueError: \\'ITEM\\' is both an index level and a column label, which is ambiguous.`**\\r\\n\\r\\nCouldn\\'t paste it here, due to it\\'s extensive size.\\r\\n\\r\\nHow can I resolve this? I\\'m fresh in GIS.\\r\\n\\r\\nI\\'ve tried this:\\r\\n```\\r\\nclass_col=\\'_ITEM\\'\\r\\n    locations = select_polygons.groupby(class_col).apply(lambda x: \\\\\\r\\n            sample_locations_from_polygon(x, sample_on_boundary=\\'road\\'\\r\\n            in x[class_col].iloc[0].lower() or \\'railway\\'\\r\\n            in x[class_col].iloc[0].lower()))\\r\\n    return locations\\r\\n```\\r\\nThen it says: **`KeyError: \\'_ITEM\\'`**\\r\\n\\r\\nI\\'ve also tried setting the index, manually\\r\\n```\\r\\nselect_polygons.set_index(\\'_ITEM\\')\\r\\n```\\r\\nBut that raises another error, saying:\\r\\n**`\"None of [\\'_ITEM\\'] are in the columns\"`**\\r\\n\\r\\nAnd the data looks like this:\\r\\n```\\r\\n                                                     CITIES LUZ_OR_CIT   CODE                                          ITEM PROD_DATE  SHAPE_LEN  SHAPE_AREA                                                                                                                                                                                                                                                                                                                                                                                                                                                                                                                                                                                                                                                                                                                                                                                                                                                                                                                                                                                                                                                                                                                                                                                                                                                                                                                                                                                                                                                                                                                                                                                                                                                                                                                                                                                                                                                                                                                                                                                                                                                                                                                                                                                                                                                                                                                                                                                                                                                                                                                                                                                                                                                                                                                                                                                                                                                                                                                                                                                                                                                                                                                                                                                                                                                                                                                                                                                                                                                                                                                                                                                                                                                                                                                                                                                                                                                                                                                                                                                                                                                                                                                                                                                                                                                                                                                                                                                                                                                                                                                                                                                                                                                                                                                                                                                                                                                                                                                                                                                                                                                                                                                                                                                                                                                                                                                                                                                                                                                                                                                                                                                                                                                                                                                                                                                                                                                                                                                                                                                                                                                                                                                                                                                                                                                                                  geometry  samples\\r\\nITEM                                                                                                                                                                                                                                                                                                                                                                                                                                                                                                                                                                                                                                                                                                                                                                                                                                                                                                                                                                                                                                                                                                                                                                                                                                                                                                                                                                                                                                                                                                                                                                                                                                                                                                                                                                                                                                                                                                                                                                                                                                                                                                                                                                                                                                                                                                                                                                                                                                                                                                                                                                                                                                                                                                                                                                                                                                                                                                                                                                                                                                                                                                                                                                                                                                                                                                                                                                                                                                                                                                                                                                                                                                                                                                                                                                                                                                                                                                                                                                                                                                                                                                                                                                                                                                                                                                                                                                                                                                                                                                                                                                                                                                                                                                                                                                                                                                                                                                                                                                                                                                                                                                                                                                                                                                                                                                                                                                                                                                                                                                                                                                                                                                                                                                                                                                                                                                                                                                                                                                                                                                                                                                                                                                                                                                                                                                                                                                                                                                                           \\r\\nAgricultural + Semi-natural areas + Wetlands 45607  Aalborg     DK004L  20000  Agricultural + Semi-natural areas + Wetlands      2011   5.983639    0.633446  POLYGON ((9.52711 57.15122, 9.52715 57.15108, 9.52716 57.15102, 9.52727 57.15060, 9.52727 57.15060, 9.52742 57.15011, 9.52758 57.14955, 9.52758 57.14955, 9.52771 57.14918, 9.52771 57.14918, 9.52771 57.14918, 9.52779 57.14897, 9.52780 57.14897, 9.52780 57.14896, 9.52780 57.14896, 9.52784 57.14889, 9.52785 57.14888, 9.52785 57.14888, 9.52785 57.14888, 9.52785 57.14888, 9.52808 57.14866, 9.52808 57.14866, 9.52809 57.14866, 9.52809 57.14866, 9.52870 57.14825, 9.52967 57.14760, 9.52972 57.14757, 9.52974 57.14754, 9.52982 57.14744, 9.53068 57.14491, 9.52965 57.14476, 9.52960 57.14476, 9.52895 57.14648, 9.52805 57.14646, 9.52816 57.14607, 9.52702 57.14596, 9.52726 57.14486, 9.52748 57.14471, 9.52862 57.14473, 9.52866 57.14448, 9.52860 57.14445, 9.52859 57.14445, 9.52859 57.14445, 9.52859 57.14445, 9.52859 57.14445, 9.52858 57.14445, 9.52858 57.14445, 9.52848 57.14437, 9.52847 57.14437, 9.52832 57.14448, 9.52832 57.14448, 9.52831 57.14448, 9.52831 57.14448, 9.52831 57.14448, 9.52831 57.14448, 9.52830 57.14448, 9.52830 57.14448, 9.52830 57.14448, 9.52817 57.14452, 9.52817 57.14452, 9.52816 57.14452, 9.52816 57.14452, 9.52816 57.14452, 9.52815 57.14452, 9.52815 57.14452, 9.52815 57.14452, 9.52803 57.14452, 9.52803 57.14452, 9.52803 57.14452, 9.52803 57.14452, 9.52802 57.14452, 9.52802 57.14452, 9.52802 57.14452, 9.52784 57.14450, 9.52784 57.14450, 9.52784 57.14450, 9.52784 57.14450, 9.52783 57.14450, 9.52783 57.14450, 9.52771 57.14447, 9.52771 57.14447, 9.52771 57.14447, 9.52770 57.14447, 9.52770 57.14446, 9.52770 57.14446, 9.52770 57.14446, 9.52769 57.14446, 9.52769 57.14446, 9.52769 57.14446, 9.52764 57.14442, 9.52764 57.14441, 9.52764 57.14441, 9.52764 57.14441, 9.52764 57.14441, 9.52764 57.14441, 9.52763 57.14441, 9.52763 57.14441, 9.52762 57.14437, 9.52762 57.14437, 9.52762 57.14436, 9.52762 57.14436, 9.52762 57.14436, 9.52762 57.14436, 9.52762 57.14436, 9.52802 57.14316, 9.52806 57.14305, 9.52732 57.14299, 9.52705 57.14298, 9.52703 57.14298, 9.52682 57.14297, 9.52670 57.14335, 9.52736 57.14344, 9.52701 57.14434, 9.52625 57.14429, 9.52649 57.14359, 9.52655 57.14354, 9.52654 57.14351, 9.52654 57.14351, 9.52654 57.14351, 9.52654 57.14351, 9.52654 57.14351, 9.52655 57.14351, 9.52672 57.14296, 9.52620 57.14294, 9.52482 57.14289, 9.52465 57.14338, 9.52549 57.14344, 9.52528 57.14391, 9.52465 57.14393, 9.52433 57.14479, 9.52361 57.14462, 9.52315 57.14427, 9.52216 57.14428, 9.52237 57.14381, 9.52317 57.14385, 9.52321 57.14383, 9.52355 57.14284, 9.52233 57.14279, 9.52027 57.14270, 9.51999 57.14323, 9.51918 57.14315, 9.51941 57.14266, 9.51915 57.14265, 9.51813 57.14261, 9.51796 57.14310, 9.51796 57.14310, 9.51700 57.14588, 9.51700 57.14588, 9.51700 57.14589, 9.51695 57.14599, 9.51695 57.14599, 9.51695 57.14599, 9.51695 57.14599, 9.51691 57.14605, 9.51690 57.14605, 9.51690 57.14605, 9.51678 57.14621, 9.51677 57.14621, 9.51677 57.14621, 9.51662 57.14637, 9.51660 57.14642, 9.51657 57.14653, 9.51645 57.14760, 9.51645 57.14760, 9.51636 57.14830, 9.51630 57.14879, 9.51630 57.14879, 9.51630 57.14879, 9.51630 57.14879, 9.51630 57.14879, 9.51628 57.14883, 9.51628 57.14883, 9.51628 57.14883, 9.51628 57.14883, 9.51628 57.14883, 9.51628 57.14883, 9.51626 57.14885, 9.51626 57.14885, 9.51634 57.14885, 9.51634 57.14885, 9.51634 57.14885, 9.51634 57.14885, 9.51661 57.14886, 9.51661 57.14886, 9.51661 57.14886, 9.51710 57.14890, 9.51711 57.14890, 9.51711 57.14890, 9.51876 57.14908, 9.51917 57.14913, 9.51927 57.14913, 9.51935 57.14912, 9.51943 57.14911, 9.52013 57.14888, 9.52013 57.14888, 9.52013 57.14888, 9.52013 57.14888, 9.52014 57.14888, 9.52014 57.14888, 9.52014 57.14888, 9.52015 57.14888, 9.52015 57.14888, 9.52015 57.14888, 9.52016 57.14888, 9.52016 57.14888, 9.52016 57.14888, 9.52017 57.14888, 9.52017 57.14888, 9.52017 57.14888, 9.52017 57.14888, 9.52018 57.14888, 9.52033 57.14853, 9.52155 57.14863, 9.52138 57.14907, 9.52014 57.14897, 9.52015 57.14894, 9.51947 57.14916, 9.51947 57.14916, 9.51947 57.14916, 9.51947 57.14916, 9.51947 57.14916, 9.51946 57.14916, 9.51937 57.14917, 9.51937 57.14917, 9.51937 57.14918, 9.51936 57.14918, 9.51936 57.14918, 9.51927 57.14918, 9.51927 57.14918, 9.51927 57.14918, 9.51917 57.14918, 9.51916 57.14918, 9.51916 57.14918, 9.51916 57.14918, 9.51874 57.14914, 9.51874 57.14914, 9.51874 57.14914, 9.51709 57.14896, 9.51660 57.14891, 9.51634 57.14890, 9.51613 57.14890, 9.51559 57.14896, 9.51532 57.14901, 9.51528 57.14903, 9.51541 57.14914, 9.51541 57.14914, 9.51542 57.14914, 9.51548 57.14921, 9.51548 57.14921, 9.51548 57.14922, 9.51549 57.14922, 9.51555 57.14931, 9.51555 57.14931, 9.51555 57.14931, 9.51607 57.15033, 9.51607 57.15033, 9.51607 57.15033, 9.51607 57.15033, 9.51611 57.15044, 9.51712 57.15052, 9.51686 57.15118, 9.51722 57.15119, 9.51722 57.15119, 9.51722 57.15119, 9.51824 57.15124, 9.51857 57.15124, 9.51852 57.15073, 9.51955 57.15078, 9.51940 57.15122, 9.52014 57.15119, 9.52147 57.15115, 9.52148 57.15115, 9.52164 57.15114, 9.52164 57.15114, 9.52164 57.15114, 9.52165 57.15114, 9.52165 57.15114, 9.52176 57.15115, 9.52176 57.15115, 9.52176 57.15115, 9.52177 57.15115, 9.52195 57.15119, 9.52195 57.15119, 9.52195 57.15119, 9.52196 57.15119, 9.52196 57.15119, 9.52196 57.15119, 9.52211 57.15124, 9.52212 57.15124, 9.52212 57.15124, 9.52212 57.15124, 9.52295 57.15162, 9.52310 57.15167, 9.52331 57.15173, 9.52482 57.15201, 9.52482 57.15201, 9.52482 57.15201, 9.52513 57.15208, 9.52513 57.15208, 9.52513 57.15208, 9.52513 57.15208, 9.52527 57.15213, 9.52527 57.15213, 9.52527 57.15213, 9.52527 57.15213, 9.52538 57.15217, 9.52538 57.15218, 9.52538 57.15218, 9.52539 57.15218, 9.52539 57.15218, 9.52543 57.15221, 9.52544 57.15219, 9.52544 57.15219, 9.52544 57.15219, 9.52544 57.15219, 9.52544 57.15219, 9.52544 57.15219, 9.52547 57.15215, 9.52547 57.15215, 9.52547 57.15214, 9.52548 57.15214, 9.52548 57.15214, 9.52548 57.15214, 9.52553 57.15210, 9.52553 57.15210, 9.52553 57.15210, 9.52554 57.15210, 9.52554 57.15210, 9.52554 57.15210, 9.52668 57.15167, 9.52684 57.15159, 9.52693 57.15153, 9.52701 57.15145, 9.52706 57.15139, 9.52711 57.15122))        1\\r\\n                                             44563  Aalborg     DK004L  20000  Agricultural + Semi-natural areas + Wetlands      2011   2.983306    0.287320                                                                                                                                                                                                                                                                                                                                                                                                                                                                                                                                                                                                                                                                                                                                                                                                                                                                                                                                                                                                                                                                                                                                                                                                                                                                                                                                                                                                                                                                                                                                                                                                                                                                                                                                                                                                                                                                                                                                                                                                                                                                                                                                                                                                                                                                                                                                                                                                                                                                                                                                                                                                                                                                                                                                                                                                                                                                                                                                                                                                                                                                                                                                                                                                                                                                                                                                                                                                                                                                                                                                                                              POLYGON ((9.35536 57.06600, 9.35698 57.06564, 9.35655 57.06460, 9.35552 57.06487, 9.35515 57.06430, 9.35629 57.06399, 9.35581 57.06288, 9.35577 57.06285, 9.35574 57.06283, 9.35568 57.06282, 9.35562 57.06281, 9.35552 57.06281, 9.35480 57.06291, 9.35480 57.06291, 9.35480 57.06291, 9.35480 57.06291, 9.35479 57.06291, 9.35479 57.06291, 9.35479 57.06291, 9.35466 57.06290, 9.35466 57.06290, 9.35465 57.06290, 9.35465 57.06290, 9.35465 57.06290, 9.35456 57.06289, 9.35455 57.06289, 9.35455 57.06289, 9.35455 57.06289, 9.35455 57.06289, 9.35446 57.06286, 9.35446 57.06286, 9.35446 57.06286, 9.35445 57.06286, 9.35445 57.06286, 9.35445 57.06286, 9.35437 57.06282, 9.35437 57.06282, 9.35436 57.06281, 9.35436 57.06281, 9.35436 57.06281, 9.35430 57.06276, 9.35429 57.06276, 9.35429 57.06276, 9.35429 57.06276, 9.35422 57.06269, 9.35422 57.06269, 9.35422 57.06269, 9.35422 57.06269, 9.35422 57.06269, 9.35422 57.06268, 9.35419 57.06262, 9.35386 57.06193, 9.35369 57.06170, 9.35358 57.06172, 9.35358 57.06172, 9.35358 57.06172, 9.35060 57.06226, 9.35060 57.06226, 9.35060 57.06226, 9.34992 57.06236, 9.34991 57.06236, 9.34958 57.06240, 9.34958 57.06240, 9.34958 57.06240, 9.34893 57.06244, 9.34893 57.06244, 9.34893 57.06244, 9.34810 57.06248, 9.34810 57.06248, 9.34809 57.06248, 9.34809 57.06248, 9.34744 57.06247, 9.34744 57.06247, 9.34744 57.06247, 9.34683 57.06243, 9.34689 57.06264, 9.34709 57.06336, 9.34710 57.06336, 9.34710 57.06336, 9.34710 57.06336, 9.34710 57.06336, 9.34710 57.06337, 9.34709 57.06337, 9.34708 57.06341, 9.34708 57.06341, 9.34708 57.06341, 9.34708 57.06341, 9.34708 57.06341, 9.34708 57.06341, 9.34708 57.06342, 9.34708 57.06342, 9.34707 57.06342, 9.34704 57.06344, 9.34704 57.06344, 9.34704 57.06344, 9.34704 57.06344, 9.34704 57.06344, 9.34704 57.06344, 9.34703 57.06345, 9.34703 57.06345, 9.34703 57.06345, 9.34703 57.06345, 9.34697 57.06346, 9.34697 57.06346, 9.34697 57.06346, 9.34696 57.06346, 9.34696 57.06346, 9.34696 57.06346, 9.34622 57.06354, 9.34622 57.06354, 9.34575 57.06358, 9.34592 57.06440, 9.34498 57.06452, 9.34514 57.06508, 9.34416 57.06514, 9.34378 57.06449, 9.34349 57.06452, 9.34349 57.06455, 9.34349 57.06455, 9.34349 57.06455, 9.34351 57.06476, 9.34351 57.06476, 9.34351 57.06476, 9.34351 57.06494, 9.34351 57.06494, 9.34334 57.06652, 9.34362 57.06650, 9.34362 57.06650, 9.34362 57.06650, 9.34454 57.06647, 9.34508 57.06645, 9.34508 57.06645, 9.35154 57.06627, 9.35154 57.06627, 9.35295 57.06624, 9.35370 57.06622, 9.35455 57.06613, 9.35536 57.06600), (9.35293 57.06539, 9.35376 57.06521, 9.35413 57.06566, 9.35361 57.06599, 9.35324 57.06592, 9.35293 57.06539))        1\\r\\n                                             47873  Aalborg     DK004L  20000  Agricultural + Semi-natural areas + Wetlands      2011   4.254965    0.586887                                                                                                                                                                                                                                                                                                                                                                                                                                                                                                                                                                                                                                                                                                                                                                                                                                                                                                                                                                                                                                                                                                                                                                                                                                                                                                                                                                                                                                                                                                                                                                                                                                                                                                                                                                                                                                                                                                                                                                                                                                                                                                                                                                                                                                                                                                                                                                                                                                                                                                                                                                                                                                                                                                                                                                                                                                                                            POLYGON ((10.22571 57.39005, 10.22584 57.38836, 10.22584 57.38836, 10.22584 57.38836, 10.22611 57.38573, 10.22611 57.38573, 10.22416 57.38563, 10.22415 57.38521, 10.22414 57.38505, 10.22378 57.38504, 10.22321 57.38504, 10.22321 57.38504, 10.22138 57.38503, 10.22125 57.38504, 10.22116 57.38506, 10.22094 57.38514, 10.22077 57.38521, 10.22077 57.38521, 10.22077 57.38521, 10.22076 57.38521, 10.22076 57.38521, 10.22067 57.38524, 10.22067 57.38524, 10.22067 57.38524, 10.22067 57.38524, 10.22055 57.38526, 10.22055 57.38526, 10.22054 57.38526, 10.22054 57.38526, 10.22054 57.38526, 10.22044 57.38526, 10.22044 57.38526, 10.22043 57.38526, 10.22043 57.38526, 10.22043 57.38526, 10.22043 57.38526, 10.22042 57.38526, 10.22042 57.38526, 10.22042 57.38526, 10.22041 57.38526, 10.22041 57.38526, 10.22032 57.38524, 10.22032 57.38524, 10.22032 57.38524, 10.22032 57.38524, 10.22031 57.38524, 10.22031 57.38523, 10.22031 57.38523, 10.22024 57.38519, 10.22023 57.38519, 10.22023 57.38519, 10.22023 57.38519, 10.22023 57.38519, 10.22023 57.38519, 10.22023 57.38519, 10.22023 57.38519, 10.22011 57.38504, 10.22007 57.38501, 10.22001 57.38499, 10.21964 57.38494, 10.21939 57.38491, 10.21938 57.38491, 10.21938 57.38491, 10.21921 57.38488, 10.21724 57.38456, 10.21724 57.38456, 10.21724 57.38456, 10.21680 57.38447, 10.21638 57.38440, 10.21638 57.38440, 10.21638 57.38440, 10.21494 57.38410, 10.21494 57.38410, 10.21494 57.38410, 10.21494 57.38410, 10.21494 57.38410, 10.21485 57.38407, 10.21485 57.38407, 10.21485 57.38407, 10.21484 57.38407, 10.21484 57.38407, 10.21484 57.38407, 10.21484 57.38406, 10.21483 57.38406, 10.21483 57.38406, 10.21483 57.38406, 10.21483 57.38406, 10.21483 57.38406, 10.21479 57.38400, 10.21479 57.38400, 10.21479 57.38400, 10.21478 57.38400, 10.21460 57.38359, 10.21460 57.38359, 10.21443 57.38318, 10.21443 57.38318, 10.21443 57.38318, 10.21407 57.38227, 10.21347 57.38245, 10.21375 57.38273, 10.21418 57.38299, 10.21259 57.38375, 10.21206 57.38385, 10.21144 57.38311, 10.21134 57.38299, 10.21072 57.38313, 10.21028 57.38325, 10.20731 57.38411, 10.20731 57.38411, 10.20730 57.38411, 10.20431 57.38488, 10.20439 57.38495, 10.20476 57.38561, 10.20503 57.38597, 10.20554 57.38585, 10.20600 57.38590, 10.20636 57.38601, 10.20668 57.38629, 10.20697 57.38639, 10.20704 57.38658, 10.20652 57.38666, 10.20610 57.38668, 10.20582 57.38668, 10.20562 57.38701, 10.20570 57.38743, 10.20617 57.38769, 10.20709 57.38794, 10.20737 57.38781, 10.20736 57.38760, 10.20718 57.38747, 10.20742 57.38726, 10.20830 57.38729, 10.20858 57.38725, 10.20854 57.38698, 10.20875 57.38696, 10.20957 57.38724, 10.21287 57.38814, 10.21415 57.38835, 10.21549 57.38842, 10.21567 57.38860, 10.21543 57.38876, 10.21547 57.38893, 10.21614 57.38907, 10.21695 57.38905, 10.21694 57.38936, 10.21988 57.38943, 10.21988 57.38943, 10.21988 57.38943, 10.22112 57.38947, 10.22162 57.38947, 10.22162 57.38947, 10.22162 57.38947, 10.22162 57.38947, 10.22195 57.38950, 10.22195 57.38950, 10.22257 57.38955, 10.22305 57.38960, 10.22306 57.38960, 10.22306 57.38960, 10.22338 57.38964, 10.22338 57.38964, 10.22394 57.38971, 10.22394 57.38971, 10.22394 57.38971, 10.22456 57.38981, 10.22456 57.38981, 10.22456 57.38981, 10.22519 57.38993, 10.22519 57.38993, 10.22519 57.38993, 10.22570 57.39004, 10.22571 57.39005))        1\\r\\n                                             43727  Aalborg     DK004L  20000  Agricultural + Semi-natural areas + Wetlands      2011   2.318143    0.291429                                                                                                                                                                                                                                                                                                                                                                                                                                                                                                                                                                                                                                                                                                                                                                                                                                                                                                                                                                                                                                                                                                                                                                                                                                                                                                                                                                                                                                                                                                                                                                                                                                                                                                                                                                                                                                                                                                                                                                                                                                                                                                                                                                                                                                                                                                                                                                                                                                                                                                                                                                                                                                                                                                                                                                                                                                                                                                                                                                                                                                                                                                                                                                                                                                                                                                                                                                                                                                                                                                                                                                                                                                                                                                                                                                                                                                                                                                                                                                                                                                                                                                                                                                                                                                                                                                                                                                                                                                                                                                                                                                                                                                POLYGON ((9.73713 56.96362, 9.73713 56.96362, 9.73713 56.96362, 9.73780 56.96362, 9.73829 56.96360, 9.73874 56.96358, 9.74029 56.96351, 9.74042 56.96350, 9.74036 56.96263, 9.74036 56.96263, 9.74028 56.96143, 9.74008 56.95815, 9.73994 56.95812, 9.73994 56.95812, 9.73947 56.95799, 9.73920 56.95793, 9.73877 56.95785, 9.73846 56.95780, 9.73818 56.95776, 9.73656 56.95751, 9.73492 56.95727, 9.73451 56.95770, 9.73450 56.95799, 9.73467 56.95806, 9.73472 56.95821, 9.73468 56.95837, 9.73446 56.95848, 9.73401 56.95848, 9.73391 56.95894, 9.73325 56.95890, 9.73317 56.95889, 9.73313 56.95910, 9.73311 56.95929, 9.73312 56.95943, 9.73315 56.95959, 9.73335 56.96018, 9.73335 56.96018, 9.73335 56.96018, 9.73338 56.96032, 9.73338 56.96032, 9.73338 56.96033, 9.73338 56.96043, 9.73338 56.96044, 9.73338 56.96044, 9.73338 56.96044, 9.73335 56.96056, 9.73335 56.96056, 9.73335 56.96057, 9.73335 56.96057, 9.73329 56.96069, 9.73329 56.96069, 9.73329 56.96069, 9.73329 56.96069, 9.73311 56.96093, 9.73311 56.96093, 9.73311 56.96093, 9.73275 56.96143, 9.73275 56.96143, 9.73275 56.96143, 9.73233 56.96196, 9.73169 56.96276, 9.73109 56.96351, 9.73130 56.96351, 9.73223 56.96346, 9.73258 56.96344, 9.73258 56.96344, 9.73258 56.96344, 9.73258 56.96344, 9.73285 56.96344, 9.73286 56.96344, 9.73286 56.96344, 9.73286 56.96344, 9.73304 56.96346, 9.73304 56.96346, 9.73304 56.96346, 9.73305 56.96346, 9.73319 56.96348, 9.73319 56.96348, 9.73319 56.96348, 9.73381 56.96361, 9.73381 56.96361, 9.73381 56.96361, 9.73407 56.96367, 9.73425 56.96369, 9.73440 56.96369, 9.73596 56.96365, 9.73596 56.96365, 9.73713 56.96362))        1\\r\\n                                             45491  Aalborg     DK004L  20000  Agricultural + Semi-natural areas + Wetlands      2011   5.550837    0.385815                                                                                                                                                                                                                                                                                                                                                                                                                                                                                                                                                                                                                                                                                                  POLYGON ((10.05435 57.14065, 10.05480 57.13957, 10.05468 57.13957, 10.05215 57.13949, 10.05203 57.13947, 10.05196 57.13898, 10.05199 57.13898, 10.05376 57.13880, 10.05346 57.13757, 10.05270 57.13741, 10.05098 57.13748, 10.05098 57.13748, 10.05098 57.13748, 10.05097 57.13748, 10.05097 57.13748, 10.05097 57.13748, 10.05096 57.13748, 10.05096 57.13748, 10.05096 57.13748, 10.05095 57.13748, 10.05095 57.13748, 10.05095 57.13748, 10.05095 57.13748, 10.05094 57.13747, 10.05094 57.13747, 10.05092 57.13748, 10.05089 57.13738, 10.05047 57.13646, 10.05172 57.13638, 10.05254 57.13648, 10.05399 57.13676, 10.05409 57.13675, 10.05410 57.13675, 10.05410 57.13675, 10.05410 57.13675, 10.05411 57.13675, 10.05411 57.13675, 10.05411 57.13675, 10.05412 57.13675, 10.05412 57.13675, 10.05412 57.13675, 10.05412 57.13675, 10.05461 57.13685, 10.05461 57.13685, 10.05461 57.13685, 10.05461 57.13685, 10.05552 57.13712, 10.05568 57.13707, 10.05751 57.13652, 10.05751 57.13652, 10.05751 57.13652, 10.05751 57.13652, 10.05752 57.13652, 10.05752 57.13652, 10.05752 57.13652, 10.05753 57.13652, 10.05753 57.13652, 10.05753 57.13652, 10.05754 57.13652, 10.05754 57.13652, 10.05754 57.13652, 10.05755 57.13652, 10.05755 57.13652, 10.05777 57.13656, 10.05777 57.13657, 10.05777 57.13657, 10.05778 57.13657, 10.05778 57.13657, 10.05778 57.13657, 10.05778 57.13657, 10.05779 57.13657, 10.05779 57.13657, 10.05779 57.13657, 10.05779 57.13657, 10.05779 57.13658, 10.05780 57.13658, 10.05780 57.13658, 10.05780 57.13658, 10.05795 57.13681, 10.05824 57.13665, 10.05971 57.13580, 10.06079 57.13515, 10.06072 57.13514, 10.06061 57.13514, 10.05892 57.13525, 10.05892 57.13525, 10.05874 57.13526, 10.05873 57.13526, 10.05873 57.13526, 10.05854 57.13526, 10.05854 57.13526, 10.05854 57.13526, 10.05854 57.13526, 10.05812 57.13522, 10.05812 57.13522, 10.05811 57.13522, 10.05811 57.13522, 10.05793 57.13520, 10.05793 57.13519, 10.05792 57.13519, 10.05771 57.13515, 10.05771 57.13515, 10.05771 57.13515, 10.05747 57.13509, 10.05744 57.13508, 10.05721 57.13504, 10.05673 57.13497, 10.05648 57.13495, 10.05613 57.13495, 10.05602 57.13497, 10.05583 57.13501, 10.05562 57.13509, 10.05561 57.13509, 10.05535 57.13521, 10.05534 57.13521, 10.05534 57.13521, 10.05534 57.13521, 10.05534 57.13521, 10.05518 57.13526, 10.05518 57.13526, 10.05518 57.13526, 10.05497 57.13533, 10.05497 57.13533, 10.05497 57.13533, 10.05497 57.13533, 10.05461 57.13541, 10.05461 57.13541, 10.05460 57.13541, 10.05460 57.13542, 10.05413 57.13548, 10.05412 57.13548, 10.05412 57.13548, 10.05319 57.13557, 10.05262 57.13564, 10.05201 57.13572, 10.05051 57.13595, 10.05050 57.13595, 10.05050 57.13595, 10.04783 57.13623, 10.04776 57.13624, 10.04778 57.13709, 10.04773 57.13713, 10.04668 57.13714, 10.04663 57.13710, 10.04684 57.13637, 10.04686 57.13630, 10.04682 57.13626, 10.04682 57.13625, 10.04682 57.13625, 10.04682 57.13625, 10.04679 57.13620, 10.04679 57.13620, 10.04679 57.13620, 10.04679 57.13620, 10.04670 57.13592, 10.04661 57.13574, 10.04661 57.13574, 10.04661 57.13574, 10.04661 57.13574, 10.04661 57.13574, 10.04660 57.13565, 10.04650 57.13542, 10.04645 57.13535, 10.04634 57.13523, 10.04634 57.13523, 10.04634 57.13523, 10.04634 57.13523, 10.04632 57.13519, 10.04618 57.13503, 10.04496 57.13515, 10.04464 57.13458, 10.04461 57.13451, 10.04422 57.13460, 10.04422 57.13460, 10.04421 57.13460, 10.04421 57.13460, 10.04421 57.13460, 10.04421 57.13460, 10.04420 57.13460, 10.04420 57.13460, 10.04420 57.13460, 10.04419 57.13460, 10.04419 57.13460, 10.04419 57.13460, 10.04411 57.13459, 10.04410 57.13458, 10.04410 57.13458, 10.04410 57.13458, 10.04409 57.13458, 10.04409 57.13458, 10.04409 57.13458, 10.04409 57.13458, 10.04408 57.13458, 10.04408 57.13458, 10.04408 57.13458, 10.04408 57.13458, 10.04404 57.13454, 10.04404 57.13454, 10.04403 57.13454, 10.04403 57.13454, 10.04403 57.13454, 10.04403 57.13454, 10.04398 57.13447, 10.04398 57.13447, 10.04398 57.13447, 10.04385 57.13424, 10.04368 57.13396, 10.04365 57.13392, 10.04362 57.13391, 10.04360 57.13390, 10.04221 57.13384, 10.04221 57.13384, 10.04220 57.13384, 10.04220 57.13384, 10.04189 57.13380, 10.04177 57.13380, 10.04175 57.13380, 10.04105 57.13394, 10.04088 57.13397, 10.04069 57.13401, 10.04090 57.13427, 10.04113 57.13448, 10.04113 57.13462, 10.04084 57.13477, 10.04079 57.13484, 10.04079 57.13492, 10.04074 57.13504, 10.04045 57.13513, 10.04035 57.13514, 10.04025 57.13531, 10.04026 57.13555, 10.04113 57.13626, 10.04155 57.13691, 10.04173 57.13914, 10.04181 57.13921, 10.04342 57.13932, 10.04364 57.13932, 10.04364 57.13856, 10.04367 57.13847, 10.04492 57.13846, 10.04512 57.13839, 10.04492 57.13755, 10.04466 57.13747, 10.04444 57.13742, 10.04438 57.13722, 10.04440 57.13708, 10.04601 57.13645, 10.04644 57.13648, 10.04654 57.13657, 10.04637 57.13667, 10.04638 57.13724, 10.04619 57.13730, 10.04632 57.13841, 10.04780 57.13862, 10.04785 57.13871, 10.04789 57.13930, 10.04791 57.13930, 10.04715 57.13940, 10.04702 57.13943, 10.04700 57.13947, 10.04703 57.13963, 10.04725 57.14053, 10.04790 57.14053, 10.04790 57.14053, 10.04790 57.14053, 10.04790 57.14053, 10.04863 57.14055, 10.04876 57.14055, 10.04901 57.14055, 10.04934 57.14053, 10.04934 57.14053, 10.04935 57.14053, 10.04985 57.14054, 10.05169 57.14052, 10.05169 57.14052, 10.05169 57.14052, 10.05200 57.14053, 10.05200 57.14053, 10.05201 57.14053, 10.05313 57.14058, 10.05314 57.14058, 10.05435 57.14065))        1\\r\\n                                             ```\\r\\n{\"mode\":\"full\",\"isActive\":false}\\r\\n',\n",
       "  'performed_via_github_app': None},\n",
       " {'url': 'https://api.github.com/repos/pandas-dev/pandas/issues/42512',\n",
       "  'repository_url': 'https://api.github.com/repos/pandas-dev/pandas',\n",
       "  'labels_url': 'https://api.github.com/repos/pandas-dev/pandas/issues/42512/labels{/name}',\n",
       "  'comments_url': 'https://api.github.com/repos/pandas-dev/pandas/issues/42512/comments',\n",
       "  'events_url': 'https://api.github.com/repos/pandas-dev/pandas/issues/42512/events',\n",
       "  'html_url': 'https://github.com/pandas-dev/pandas/issues/42512',\n",
       "  'id': 942447014,\n",
       "  'node_id': 'MDU6SXNzdWU5NDI0NDcwMTQ=',\n",
       "  'number': 42512,\n",
       "  'title': 'BUG: ArrayManager changes Series.to_frame() from view to copy',\n",
       "  'user': {'login': 'jbrockmendel',\n",
       "   'id': 8078968,\n",
       "   'node_id': 'MDQ6VXNlcjgwNzg5Njg=',\n",
       "   'avatar_url': 'https://avatars.githubusercontent.com/u/8078968?v=4',\n",
       "   'gravatar_id': '',\n",
       "   'url': 'https://api.github.com/users/jbrockmendel',\n",
       "   'html_url': 'https://github.com/jbrockmendel',\n",
       "   'followers_url': 'https://api.github.com/users/jbrockmendel/followers',\n",
       "   'following_url': 'https://api.github.com/users/jbrockmendel/following{/other_user}',\n",
       "   'gists_url': 'https://api.github.com/users/jbrockmendel/gists{/gist_id}',\n",
       "   'starred_url': 'https://api.github.com/users/jbrockmendel/starred{/owner}{/repo}',\n",
       "   'subscriptions_url': 'https://api.github.com/users/jbrockmendel/subscriptions',\n",
       "   'organizations_url': 'https://api.github.com/users/jbrockmendel/orgs',\n",
       "   'repos_url': 'https://api.github.com/users/jbrockmendel/repos',\n",
       "   'events_url': 'https://api.github.com/users/jbrockmendel/events{/privacy}',\n",
       "   'received_events_url': 'https://api.github.com/users/jbrockmendel/received_events',\n",
       "   'type': 'User',\n",
       "   'site_admin': False},\n",
       "  'labels': [{'id': 3165546917,\n",
       "    'node_id': 'MDU6TGFiZWwzMTY1NTQ2OTE3',\n",
       "    'url': 'https://api.github.com/repos/pandas-dev/pandas/labels/ArrayManager',\n",
       "    'name': 'ArrayManager',\n",
       "    'color': '1d76db',\n",
       "    'default': False,\n",
       "    'description': ''},\n",
       "   {'id': 76811,\n",
       "    'node_id': 'MDU6TGFiZWw3NjgxMQ==',\n",
       "    'url': 'https://api.github.com/repos/pandas-dev/pandas/labels/Bug',\n",
       "    'name': 'Bug',\n",
       "    'color': 'e10c02',\n",
       "    'default': False,\n",
       "    'description': None},\n",
       "   {'id': 2085877452,\n",
       "    'node_id': 'MDU6TGFiZWwyMDg1ODc3NDUy',\n",
       "    'url': 'https://api.github.com/repos/pandas-dev/pandas/labels/Copy%20/%20view%20semantics',\n",
       "    'name': 'Copy / view semantics',\n",
       "    'color': '70e5ca',\n",
       "    'default': False,\n",
       "    'description': ''}],\n",
       "  'state': 'open',\n",
       "  'locked': False,\n",
       "  'assignee': None,\n",
       "  'assignees': [],\n",
       "  'milestone': None,\n",
       "  'comments': 0,\n",
       "  'created_at': '2021-07-12T21:04:43Z',\n",
       "  'updated_at': '2021-07-13T16:23:37Z',\n",
       "  'closed_at': None,\n",
       "  'author_association': 'MEMBER',\n",
       "  'active_lock_reason': None,\n",
       "  'body': '```\\r\\nser = pd.Series(range(5))\\r\\ndf = ser.to_frame()\\r\\n\\r\\nser._mgr.arrays[0][0] = 10\\r\\n\\r\\n>>> df.iloc[0, 0]\\r\\n0   # <-- ArrayManager\\r\\n10  # <-- BlockManager\\r\\n```\\r\\n\\r\\ncc @jorisvandenbossche ',\n",
       "  'performed_via_github_app': None},\n",
       " {'url': 'https://api.github.com/repos/pandas-dev/pandas/issues/42509',\n",
       "  'repository_url': 'https://api.github.com/repos/pandas-dev/pandas',\n",
       "  'labels_url': 'https://api.github.com/repos/pandas-dev/pandas/issues/42509/labels{/name}',\n",
       "  'comments_url': 'https://api.github.com/repos/pandas-dev/pandas/issues/42509/comments',\n",
       "  'events_url': 'https://api.github.com/repos/pandas-dev/pandas/issues/42509/events',\n",
       "  'html_url': 'https://github.com/pandas-dev/pandas/issues/42509',\n",
       "  'id': 942251390,\n",
       "  'node_id': 'MDU6SXNzdWU5NDIyNTEzOTA=',\n",
       "  'number': 42509,\n",
       "  'title': 'ENH: PyPy Support',\n",
       "  'user': {'login': 'lithomas1',\n",
       "   'id': 47963215,\n",
       "   'node_id': 'MDQ6VXNlcjQ3OTYzMjE1',\n",
       "   'avatar_url': 'https://avatars.githubusercontent.com/u/47963215?v=4',\n",
       "   'gravatar_id': '',\n",
       "   'url': 'https://api.github.com/users/lithomas1',\n",
       "   'html_url': 'https://github.com/lithomas1',\n",
       "   'followers_url': 'https://api.github.com/users/lithomas1/followers',\n",
       "   'following_url': 'https://api.github.com/users/lithomas1/following{/other_user}',\n",
       "   'gists_url': 'https://api.github.com/users/lithomas1/gists{/gist_id}',\n",
       "   'starred_url': 'https://api.github.com/users/lithomas1/starred{/owner}{/repo}',\n",
       "   'subscriptions_url': 'https://api.github.com/users/lithomas1/subscriptions',\n",
       "   'organizations_url': 'https://api.github.com/users/lithomas1/orgs',\n",
       "   'repos_url': 'https://api.github.com/users/lithomas1/repos',\n",
       "   'events_url': 'https://api.github.com/users/lithomas1/events{/privacy}',\n",
       "   'received_events_url': 'https://api.github.com/users/lithomas1/received_events',\n",
       "   'type': 'User',\n",
       "   'site_admin': False},\n",
       "  'labels': [{'id': 129350,\n",
       "    'node_id': 'MDU6TGFiZWwxMjkzNTA=',\n",
       "    'url': 'https://api.github.com/repos/pandas-dev/pandas/labels/Build',\n",
       "    'name': 'Build',\n",
       "    'color': '75507B',\n",
       "    'default': False,\n",
       "    'description': 'Library building on various platforms'},\n",
       "   {'id': 76865106,\n",
       "    'node_id': 'MDU6TGFiZWw3Njg2NTEwNg==',\n",
       "    'url': 'https://api.github.com/repos/pandas-dev/pandas/labels/Compat',\n",
       "    'name': 'Compat',\n",
       "    'color': '0052cc',\n",
       "    'default': False,\n",
       "    'description': 'Related to pandas compatibility with other libraries'},\n",
       "   {'id': 76812,\n",
       "    'node_id': 'MDU6TGFiZWw3NjgxMg==',\n",
       "    'url': 'https://api.github.com/repos/pandas-dev/pandas/labels/Enhancement',\n",
       "    'name': 'Enhancement',\n",
       "    'color': '4E9A06',\n",
       "    'default': False,\n",
       "    'description': None},\n",
       "   {'id': 183784729,\n",
       "    'node_id': 'MDU6TGFiZWwxODM3ODQ3Mjk=',\n",
       "    'url': 'https://api.github.com/repos/pandas-dev/pandas/labels/Master%20Tracker',\n",
       "    'name': 'Master Tracker',\n",
       "    'color': 'fbca04',\n",
       "    'default': False,\n",
       "    'description': 'High level tracker for similar issues'},\n",
       "   {'id': 127685,\n",
       "    'node_id': 'MDU6TGFiZWwxMjc2ODU=',\n",
       "    'url': 'https://api.github.com/repos/pandas-dev/pandas/labels/Testing',\n",
       "    'name': 'Testing',\n",
       "    'color': 'C4A000',\n",
       "    'default': False,\n",
       "    'description': 'Custom testing functions or related to the test suite'}],\n",
       "  'state': 'open',\n",
       "  'locked': False,\n",
       "  'assignee': None,\n",
       "  'assignees': [],\n",
       "  'milestone': {'url': 'https://api.github.com/repos/pandas-dev/pandas/milestones/32',\n",
       "   'html_url': 'https://github.com/pandas-dev/pandas/milestone/32',\n",
       "   'labels_url': 'https://api.github.com/repos/pandas-dev/pandas/milestones/32/labels',\n",
       "   'id': 933188,\n",
       "   'node_id': 'MDk6TWlsZXN0b25lOTMzMTg4',\n",
       "   'number': 32,\n",
       "   'title': 'Contributions Welcome',\n",
       "   'description': 'Changes that would be nice to have in the next release. These issues are not blocking. They will be pushed to the next release if no one has time to fix them.',\n",
       "   'creator': {'login': 'jreback',\n",
       "    'id': 953992,\n",
       "    'node_id': 'MDQ6VXNlcjk1Mzk5Mg==',\n",
       "    'avatar_url': 'https://avatars.githubusercontent.com/u/953992?v=4',\n",
       "    'gravatar_id': '',\n",
       "    'url': 'https://api.github.com/users/jreback',\n",
       "    'html_url': 'https://github.com/jreback',\n",
       "    'followers_url': 'https://api.github.com/users/jreback/followers',\n",
       "    'following_url': 'https://api.github.com/users/jreback/following{/other_user}',\n",
       "    'gists_url': 'https://api.github.com/users/jreback/gists{/gist_id}',\n",
       "    'starred_url': 'https://api.github.com/users/jreback/starred{/owner}{/repo}',\n",
       "    'subscriptions_url': 'https://api.github.com/users/jreback/subscriptions',\n",
       "    'organizations_url': 'https://api.github.com/users/jreback/orgs',\n",
       "    'repos_url': 'https://api.github.com/users/jreback/repos',\n",
       "    'events_url': 'https://api.github.com/users/jreback/events{/privacy}',\n",
       "    'received_events_url': 'https://api.github.com/users/jreback/received_events',\n",
       "    'type': 'User',\n",
       "    'site_admin': False},\n",
       "   'open_issues': 1076,\n",
       "   'closed_issues': 747,\n",
       "   'state': 'open',\n",
       "   'created_at': '2015-01-13T10:53:19Z',\n",
       "   'updated_at': '2021-07-14T23:45:56Z',\n",
       "   'due_on': None,\n",
       "   'closed_at': None},\n",
       "  'comments': 2,\n",
       "  'created_at': '2021-07-12T16:52:17Z',\n",
       "  'updated_at': '2021-07-13T21:41:30Z',\n",
       "  'closed_at': None,\n",
       "  'author_association': 'MEMBER',\n",
       "  'active_lock_reason': None,\n",
       "  'body': 'Tracker for getting PyPy support\\r\\n- [ ] Add PyPy wheels on MacPython/pandas-wheels and get them on PyPI(we have them already on conda-forge)\\r\\n      - ~~We can probably add this for 1.3.1.~~\\r\\n      - Actually, it will probably be easier to add after 1.3.1, since 1.3.1 includes a fix for the PyPy build.\\r\\n- [ ] Add whatsnew, putting PyPy as experimentally supported. \\r\\n- [ ] Testing/CI on master(requires PyPy to release a python 3.8 version), allow failures on this build\\r\\n- [ ] Xfail failing tests, and remove allowing failures on this build\\r\\n- [ ] Move out of experimental support.',\n",
       "  'performed_via_github_app': None},\n",
       " {'url': 'https://api.github.com/repos/pandas-dev/pandas/issues/42508',\n",
       "  'repository_url': 'https://api.github.com/repos/pandas-dev/pandas',\n",
       "  'labels_url': 'https://api.github.com/repos/pandas-dev/pandas/issues/42508/labels{/name}',\n",
       "  'comments_url': 'https://api.github.com/repos/pandas-dev/pandas/issues/42508/comments',\n",
       "  'events_url': 'https://api.github.com/repos/pandas-dev/pandas/issues/42508/events',\n",
       "  'html_url': 'https://github.com/pandas-dev/pandas/pull/42508',\n",
       "  'id': 942225081,\n",
       "  'node_id': 'MDExOlB1bGxSZXF1ZXN0Njg3OTgyODM0',\n",
       "  'number': 42508,\n",
       "  'title': 'BUG: Read excel bug dtype',\n",
       "  'user': {'login': 'debnathshoham',\n",
       "   'id': 6472290,\n",
       "   'node_id': 'MDQ6VXNlcjY0NzIyOTA=',\n",
       "   'avatar_url': 'https://avatars.githubusercontent.com/u/6472290?v=4',\n",
       "   'gravatar_id': '',\n",
       "   'url': 'https://api.github.com/users/debnathshoham',\n",
       "   'html_url': 'https://github.com/debnathshoham',\n",
       "   'followers_url': 'https://api.github.com/users/debnathshoham/followers',\n",
       "   'following_url': 'https://api.github.com/users/debnathshoham/following{/other_user}',\n",
       "   'gists_url': 'https://api.github.com/users/debnathshoham/gists{/gist_id}',\n",
       "   'starred_url': 'https://api.github.com/users/debnathshoham/starred{/owner}{/repo}',\n",
       "   'subscriptions_url': 'https://api.github.com/users/debnathshoham/subscriptions',\n",
       "   'organizations_url': 'https://api.github.com/users/debnathshoham/orgs',\n",
       "   'repos_url': 'https://api.github.com/users/debnathshoham/repos',\n",
       "   'events_url': 'https://api.github.com/users/debnathshoham/events{/privacy}',\n",
       "   'received_events_url': 'https://api.github.com/users/debnathshoham/received_events',\n",
       "   'type': 'User',\n",
       "   'site_admin': False},\n",
       "  'labels': [{'id': 76811,\n",
       "    'node_id': 'MDU6TGFiZWw3NjgxMQ==',\n",
       "    'url': 'https://api.github.com/repos/pandas-dev/pandas/labels/Bug',\n",
       "    'name': 'Bug',\n",
       "    'color': 'e10c02',\n",
       "    'default': False,\n",
       "    'description': None},\n",
       "   {'id': 49254273,\n",
       "    'node_id': 'MDU6TGFiZWw0OTI1NDI3Mw==',\n",
       "    'url': 'https://api.github.com/repos/pandas-dev/pandas/labels/IO%20Excel',\n",
       "    'name': 'IO Excel',\n",
       "    'color': 'bfe5bf',\n",
       "    'default': False,\n",
       "    'description': 'read_excel, to_excel'}],\n",
       "  'state': 'open',\n",
       "  'locked': False,\n",
       "  'assignee': None,\n",
       "  'assignees': [],\n",
       "  'milestone': None,\n",
       "  'comments': 2,\n",
       "  'created_at': '2021-07-12T16:17:21Z',\n",
       "  'updated_at': '2021-07-15T01:15:06Z',\n",
       "  'closed_at': None,\n",
       "  'author_association': 'CONTRIBUTOR',\n",
       "  'active_lock_reason': None,\n",
       "  'pull_request': {'url': 'https://api.github.com/repos/pandas-dev/pandas/pulls/42508',\n",
       "   'html_url': 'https://github.com/pandas-dev/pandas/pull/42508',\n",
       "   'diff_url': 'https://github.com/pandas-dev/pandas/pull/42508.diff',\n",
       "   'patch_url': 'https://github.com/pandas-dev/pandas/pull/42508.patch'},\n",
       "  'body': '- [x] closes #42462\\r\\n- [x] tests added / passed\\r\\n- [x] Ensure all linting tests pass, see [here](https://pandas.pydata.org/pandas-docs/dev/development/contributing.html#code-standards) for how to run them\\r\\n- [ ] whatsnew entry\\r\\n',\n",
       "  'performed_via_github_app': None},\n",
       " {'url': 'https://api.github.com/repos/pandas-dev/pandas/issues/42506',\n",
       "  'repository_url': 'https://api.github.com/repos/pandas-dev/pandas',\n",
       "  'labels_url': 'https://api.github.com/repos/pandas-dev/pandas/issues/42506/labels{/name}',\n",
       "  'comments_url': 'https://api.github.com/repos/pandas-dev/pandas/issues/42506/comments',\n",
       "  'events_url': 'https://api.github.com/repos/pandas-dev/pandas/issues/42506/events',\n",
       "  'html_url': 'https://github.com/pandas-dev/pandas/issues/42506',\n",
       "  'id': 942147458,\n",
       "  'node_id': 'MDU6SXNzdWU5NDIxNDc0NTg=',\n",
       "  'number': 42506,\n",
       "  'title': 'BUG:',\n",
       "  'user': {'login': 'topekekere',\n",
       "   'id': 52776421,\n",
       "   'node_id': 'MDQ6VXNlcjUyNzc2NDIx',\n",
       "   'avatar_url': 'https://avatars.githubusercontent.com/u/52776421?v=4',\n",
       "   'gravatar_id': '',\n",
       "   'url': 'https://api.github.com/users/topekekere',\n",
       "   'html_url': 'https://github.com/topekekere',\n",
       "   'followers_url': 'https://api.github.com/users/topekekere/followers',\n",
       "   'following_url': 'https://api.github.com/users/topekekere/following{/other_user}',\n",
       "   'gists_url': 'https://api.github.com/users/topekekere/gists{/gist_id}',\n",
       "   'starred_url': 'https://api.github.com/users/topekekere/starred{/owner}{/repo}',\n",
       "   'subscriptions_url': 'https://api.github.com/users/topekekere/subscriptions',\n",
       "   'organizations_url': 'https://api.github.com/users/topekekere/orgs',\n",
       "   'repos_url': 'https://api.github.com/users/topekekere/repos',\n",
       "   'events_url': 'https://api.github.com/users/topekekere/events{/privacy}',\n",
       "   'received_events_url': 'https://api.github.com/users/topekekere/received_events',\n",
       "   'type': 'User',\n",
       "   'site_admin': False},\n",
       "  'labels': [{'id': 76811,\n",
       "    'node_id': 'MDU6TGFiZWw3NjgxMQ==',\n",
       "    'url': 'https://api.github.com/repos/pandas-dev/pandas/labels/Bug',\n",
       "    'name': 'Bug',\n",
       "    'color': 'e10c02',\n",
       "    'default': False,\n",
       "    'description': None},\n",
       "   {'id': 1954720290,\n",
       "    'node_id': 'MDU6TGFiZWwxOTU0NzIwMjkw',\n",
       "    'url': 'https://api.github.com/repos/pandas-dev/pandas/labels/Needs%20Triage',\n",
       "    'name': 'Needs Triage',\n",
       "    'color': '0052cc',\n",
       "    'default': False,\n",
       "    'description': 'Issue that has not been reviewed by a pandas team member'}],\n",
       "  'state': 'open',\n",
       "  'locked': False,\n",
       "  'assignee': None,\n",
       "  'assignees': [],\n",
       "  'milestone': None,\n",
       "  'comments': 1,\n",
       "  'created_at': '2021-07-12T14:53:27Z',\n",
       "  'updated_at': '2021-07-12T18:33:14Z',\n",
       "  'closed_at': None,\n",
       "  'author_association': 'NONE',\n",
       "  'active_lock_reason': None,\n",
       "  'body': \"- [x] I have checked that this issue has not already been reported.\\r\\n\\r\\n- [x] I have confirmed this bug exists on the latest version of pandas.\\r\\n\\r\\n- [x] (optional) I have confirmed this bug exists on the master branch of pandas.\\r\\n\\r\\n---\\r\\n\\r\\n**Note**: Please read [this guide](https://matthewrocklin.com/blog/work/2018/02/28/minimal-bug-reports) detailing how to provide the necessary information for us to reproduce your bug.\\r\\n\\r\\n#### Code Sample, a copy-pastable example\\r\\n\\r\\n```python\\r\\nimport pandas as pd\\r\\n\\r\\n```\\r\\n\\r\\n#### Problem description\\r\\n\\r\\n[I am just trying to import pandas to run my notebook and it is throwing this error\\r\\n```--------------------------------------\\r\\nImportErrorTraceback (most recent call last)\\r\\n<ipython-input-1-f20def6a2be1> in <module>\\r\\n      1 import numpy as np\\r\\n----> 2 import pandas as pd\\r\\n\\r\\n~/anaconda3/lib/python3.8/site-packages/pandas/__init__.py in <module>\\r\\n    142 from pandas.util._print_versions import show_versions\\r\\n    143 \\r\\n--> 144 from pandas.io.api import (\\r\\n    145     # excel\\r\\n    146     ExcelFile,\\r\\n\\r\\n~/anaconda3/lib/python3.8/site-packages/pandas/io/api.py in <module>\\r\\n      6 \\r\\n      7 from pandas.io.clipboards import read_clipboard\\r\\n----> 8 from pandas.io.excel import ExcelFile, ExcelWriter, read_excel\\r\\n      9 from pandas.io.feather_format import read_feather\\r\\n     10 from pandas.io.gbq import read_gbq\\r\\n\\r\\n~/anaconda3/lib/python3.8/site-packages/pandas/io/excel/__init__.py in <module>\\r\\n----> 1 from pandas.io.excel._base import ExcelFile, ExcelWriter, read_excel\\r\\n      2 from pandas.io.excel._odswriter import ODSWriter as _ODSWriter\\r\\n      3 from pandas.io.excel._openpyxl import OpenpyxlWriter as _OpenpyxlWriter\\r\\n      4 from pandas.io.excel._util import register_writer\\r\\n      5 from pandas.io.excel._xlsxwriter import XlsxWriter as _XlsxWriter\\r\\n\\r\\n~/anaconda3/lib/python3.8/site-packages/pandas/io/excel/_base.py in <module>\\r\\n     31     pop_header_name,\\r\\n     32 )\\r\\n---> 33 from pandas.io.parsers import TextParser\\r\\n     34 \\r\\n     35 _read_excel_doc = (\\r\\n\\r\\n~/anaconda3/lib/python3.8/site-packages/pandas/io/parsers/__init__.py in <module>\\r\\n----> 1 from pandas.io.parsers.readers import (\\r\\n      2     TextFileReader,\\r\\n      3     TextParser,\\r\\n      4     read_csv,\\r\\n      5     read_fwf,\\r\\n\\r\\n~/anaconda3/lib/python3.8/site-packages/pandas/io/parsers/readers.py in <module>\\r\\n     15 import pandas._libs.lib as lib\\r\\n     16 from pandas._libs.parsers import STR_NA_VALUES\\r\\n---> 17 from pandas._typing import (\\r\\n     18     ArrayLike,\\r\\n     19     DtypeArg,\\r\\n\\r\\nImportError: cannot import name 'DtypeArg' from 'pandas._typing' (/home/tope/anaconda3/lib/python3.8/site-packages/pandas/_typing.py)```]\\r\\n\\r\\n#### Expected Output\\r\\n\\r\\n#### Output of ``pd.show_versions()``\\r\\n\\r\\n<details>\\r\\n\\r\\n[paste the output of ``--------------------------------------\\r\\nNameErrorTraceback (most recent call last)\\r\\n<ipython-input-4-3d232a07e144> in <module>\\r\\n----> 1 pd.show_versions()\\r\\n\\r\\nNameError: name 'pd' is not defined`` here leaving a blank line after the details tag]\\r\\n\\r\\n</details>\\r\\n\",\n",
       "  'performed_via_github_app': None},\n",
       " {'url': 'https://api.github.com/repos/pandas-dev/pandas/issues/42505',\n",
       "  'repository_url': 'https://api.github.com/repos/pandas-dev/pandas',\n",
       "  'labels_url': 'https://api.github.com/repos/pandas-dev/pandas/issues/42505/labels{/name}',\n",
       "  'comments_url': 'https://api.github.com/repos/pandas-dev/pandas/issues/42505/comments',\n",
       "  'events_url': 'https://api.github.com/repos/pandas-dev/pandas/issues/42505/events',\n",
       "  'html_url': 'https://github.com/pandas-dev/pandas/issues/42505',\n",
       "  'id': 942144327,\n",
       "  'node_id': 'MDU6SXNzdWU5NDIxNDQzMjc=',\n",
       "  'number': 42505,\n",
       "  'title': 'BUG: Regression - AmbiguousTimeError creating DataFrame',\n",
       "  'user': {'login': 'kenahoo',\n",
       "   'id': 111939,\n",
       "   'node_id': 'MDQ6VXNlcjExMTkzOQ==',\n",
       "   'avatar_url': 'https://avatars.githubusercontent.com/u/111939?v=4',\n",
       "   'gravatar_id': '',\n",
       "   'url': 'https://api.github.com/users/kenahoo',\n",
       "   'html_url': 'https://github.com/kenahoo',\n",
       "   'followers_url': 'https://api.github.com/users/kenahoo/followers',\n",
       "   'following_url': 'https://api.github.com/users/kenahoo/following{/other_user}',\n",
       "   'gists_url': 'https://api.github.com/users/kenahoo/gists{/gist_id}',\n",
       "   'starred_url': 'https://api.github.com/users/kenahoo/starred{/owner}{/repo}',\n",
       "   'subscriptions_url': 'https://api.github.com/users/kenahoo/subscriptions',\n",
       "   'organizations_url': 'https://api.github.com/users/kenahoo/orgs',\n",
       "   'repos_url': 'https://api.github.com/users/kenahoo/repos',\n",
       "   'events_url': 'https://api.github.com/users/kenahoo/events{/privacy}',\n",
       "   'received_events_url': 'https://api.github.com/users/kenahoo/received_events',\n",
       "   'type': 'User',\n",
       "   'site_admin': False},\n",
       "  'labels': [{'id': 1465286368,\n",
       "    'node_id': 'MDU6TGFiZWwxNDY1Mjg2MzY4',\n",
       "    'url': 'https://api.github.com/repos/pandas-dev/pandas/labels/Constructors',\n",
       "    'name': 'Constructors',\n",
       "    'color': 'd4c5f9',\n",
       "    'default': False,\n",
       "    'description': 'Series/DataFrame/Index/pd.array Constructors'},\n",
       "   {'id': 32815646,\n",
       "    'node_id': 'MDU6TGFiZWwzMjgxNTY0Ng==',\n",
       "    'url': 'https://api.github.com/repos/pandas-dev/pandas/labels/Regression',\n",
       "    'name': 'Regression',\n",
       "    'color': 'e11d21',\n",
       "    'default': False,\n",
       "    'description': 'Functionality that used to work in a prior pandas version'},\n",
       "   {'id': 60458168,\n",
       "    'node_id': 'MDU6TGFiZWw2MDQ1ODE2OA==',\n",
       "    'url': 'https://api.github.com/repos/pandas-dev/pandas/labels/Timezones',\n",
       "    'name': 'Timezones',\n",
       "    'color': '5319e7',\n",
       "    'default': False,\n",
       "    'description': 'Timezone data dtype'}],\n",
       "  'state': 'open',\n",
       "  'locked': False,\n",
       "  'assignee': None,\n",
       "  'assignees': [],\n",
       "  'milestone': {'url': 'https://api.github.com/repos/pandas-dev/pandas/milestones/87',\n",
       "   'html_url': 'https://github.com/pandas-dev/pandas/milestone/87',\n",
       "   'labels_url': 'https://api.github.com/repos/pandas-dev/pandas/milestones/87/labels',\n",
       "   'id': 6888188,\n",
       "   'node_id': 'MDk6TWlsZXN0b25lNjg4ODE4OA==',\n",
       "   'number': 87,\n",
       "   'title': '1.3.1',\n",
       "   'description': 'on-merge: backport to 1.3.x',\n",
       "   'creator': {'login': 'simonjayhawkins',\n",
       "    'id': 13159005,\n",
       "    'node_id': 'MDQ6VXNlcjEzMTU5MDA1',\n",
       "    'avatar_url': 'https://avatars.githubusercontent.com/u/13159005?v=4',\n",
       "    'gravatar_id': '',\n",
       "    'url': 'https://api.github.com/users/simonjayhawkins',\n",
       "    'html_url': 'https://github.com/simonjayhawkins',\n",
       "    'followers_url': 'https://api.github.com/users/simonjayhawkins/followers',\n",
       "    'following_url': 'https://api.github.com/users/simonjayhawkins/following{/other_user}',\n",
       "    'gists_url': 'https://api.github.com/users/simonjayhawkins/gists{/gist_id}',\n",
       "    'starred_url': 'https://api.github.com/users/simonjayhawkins/starred{/owner}{/repo}',\n",
       "    'subscriptions_url': 'https://api.github.com/users/simonjayhawkins/subscriptions',\n",
       "    'organizations_url': 'https://api.github.com/users/simonjayhawkins/orgs',\n",
       "    'repos_url': 'https://api.github.com/users/simonjayhawkins/repos',\n",
       "    'events_url': 'https://api.github.com/users/simonjayhawkins/events{/privacy}',\n",
       "    'received_events_url': 'https://api.github.com/users/simonjayhawkins/received_events',\n",
       "    'type': 'User',\n",
       "    'site_admin': False},\n",
       "   'open_issues': 21,\n",
       "   'closed_issues': 66,\n",
       "   'state': 'open',\n",
       "   'created_at': '2021-06-25T09:56:22Z',\n",
       "   'updated_at': '2021-07-15T04:19:08Z',\n",
       "   'due_on': '2021-07-25T07:00:00Z',\n",
       "   'closed_at': None},\n",
       "  'comments': 2,\n",
       "  'created_at': '2021-07-12T14:50:03Z',\n",
       "  'updated_at': '2021-07-13T20:19:35Z',\n",
       "  'closed_at': None,\n",
       "  'author_association': 'NONE',\n",
       "  'active_lock_reason': None,\n",
       "  'body': '- [x] I have checked that this issue has not already been reported.\\r\\n\\r\\n- [x] I have confirmed this bug exists on the latest version of pandas.\\r\\n\\r\\n- [ ] (optional) I have confirmed this bug exists on the master branch of pandas.\\r\\n\\r\\n---\\r\\n\\r\\n#### Code Sample, a copy-pastable example\\r\\n\\r\\nPandas 1.25:\\r\\n```python\\r\\nimport pandas as pd\\r\\ndt = pd.to_datetime(\\'2019-11-03 01:00:00-0700\\').tz_convert(\\'America/Los_Angeles\\')\\r\\npd.DataFrame({\\'dt\\': dt, \\'value\\': [1]})\\r\\n#                          dt  value\\r\\n# 0 2019-11-03 01:00:00-07:00      1\\r\\n```\\r\\nPandas 1.3:\\r\\n```python\\r\\nimport pandas as pd\\r\\ndt = pd.to_datetime(\\'2019-11-03 01:00:00-0700\\').tz_convert(\\'America/Los_Angeles\\')\\r\\npd.DataFrame({\\'dt\\': dt, \\'value\\': [1]})\\r\\n\\r\\n#  File \"pandas/_libs/tslibs/tzconversion.pyx\", line 284, in pandas._libs.tslibs.tzconversion.tz_localize_to_utc\\r\\n# pytz.exceptions.AmbiguousTimeError: Cannot infer dst time from 2019-11-03 01:00:00, try using the \\'ambiguous\\' argument\\r\\n```\\r\\n\\r\\n#### Problem description\\r\\n\\r\\nThe `dt` object already has a timezone attribute, so it shouldn\\'t be converting/inferring at all.\\r\\n\\r\\n#### Expected Output\\r\\n\\r\\n1.25 and 1.3.0 should have the same output.\\r\\n\\r\\n#### Output of ``pd.show_versions()``\\r\\n\\r\\n<details>\\r\\n\\r\\nINSTALLED VERSIONS\\r\\n------------------\\r\\ncommit           : f00ed8f47020034e752baf0250483053340971b0\\r\\npython           : 3.7.3.final.0\\r\\npython-bits      : 64\\r\\nOS               : Darwin\\r\\nOS-release       : 20.5.0\\r\\nVersion          : Darwin Kernel Version 20.5.0: Sat May  8 05:10:33 PDT 2021; root:xnu-7195.121.3~9/RELEASE_X86_64\\r\\nmachine          : x86_64\\r\\nprocessor        : i386\\r\\nbyteorder        : little\\r\\nLC_ALL           : None\\r\\nLANG             : en_US.UTF-8\\r\\nLOCALE           : en_US.UTF-8\\r\\n\\r\\npandas           : 1.3.0\\r\\nnumpy            : 1.21.0\\r\\npytz             : 2021.1\\r\\ndateutil         : 2.8.1\\r\\npip              : 21.1.2\\r\\nsetuptools       : 57.0.0\\r\\nCython           : None\\r\\npytest           : None\\r\\nhypothesis       : None\\r\\nsphinx           : None\\r\\nblosc            : None\\r\\nfeather          : None\\r\\nxlsxwriter       : None\\r\\nlxml.etree       : None\\r\\nhtml5lib         : None\\r\\npymysql          : None\\r\\npsycopg2         : 2.9.1 (dt dec pq3 ext lo64)\\r\\njinja2           : None\\r\\nIPython          : None\\r\\npandas_datareader: None\\r\\nbs4              : None\\r\\nbottleneck       : None\\r\\nfsspec           : None\\r\\nfastparquet      : None\\r\\ngcsfs            : None\\r\\nmatplotlib       : 3.2.2\\r\\nnumexpr          : None\\r\\nodfpy            : None\\r\\nopenpyxl         : None\\r\\npandas_gbq       : None\\r\\npyarrow          : None\\r\\npyxlsb           : None\\r\\ns3fs             : None\\r\\nscipy            : 1.7.0\\r\\nsqlalchemy       : None\\r\\ntables           : None\\r\\ntabulate         : None\\r\\nxarray           : None\\r\\nxlrd             : None\\r\\nxlwt             : None\\r\\nnumba            : None\\r\\n\\r\\n\\r\\n</details>\\r\\n',\n",
       "  'performed_via_github_app': None},\n",
       " {'url': 'https://api.github.com/repos/pandas-dev/pandas/issues/42503',\n",
       "  'repository_url': 'https://api.github.com/repos/pandas-dev/pandas',\n",
       "  'labels_url': 'https://api.github.com/repos/pandas-dev/pandas/issues/42503/labels{/name}',\n",
       "  'comments_url': 'https://api.github.com/repos/pandas-dev/pandas/issues/42503/comments',\n",
       "  'events_url': 'https://api.github.com/repos/pandas-dev/pandas/issues/42503/events',\n",
       "  'html_url': 'https://github.com/pandas-dev/pandas/pull/42503',\n",
       "  'id': 942041730,\n",
       "  'node_id': 'MDExOlB1bGxSZXF1ZXN0Njg3ODI2MDI2',\n",
       "  'number': 42503,\n",
       "  'title': 'ENH - Improved error message for interpolating IntegerArrays (#41565)',\n",
       "  'user': {'login': 'AartGoossens',\n",
       "   'id': 4079295,\n",
       "   'node_id': 'MDQ6VXNlcjQwNzkyOTU=',\n",
       "   'avatar_url': 'https://avatars.githubusercontent.com/u/4079295?v=4',\n",
       "   'gravatar_id': '',\n",
       "   'url': 'https://api.github.com/users/AartGoossens',\n",
       "   'html_url': 'https://github.com/AartGoossens',\n",
       "   'followers_url': 'https://api.github.com/users/AartGoossens/followers',\n",
       "   'following_url': 'https://api.github.com/users/AartGoossens/following{/other_user}',\n",
       "   'gists_url': 'https://api.github.com/users/AartGoossens/gists{/gist_id}',\n",
       "   'starred_url': 'https://api.github.com/users/AartGoossens/starred{/owner}{/repo}',\n",
       "   'subscriptions_url': 'https://api.github.com/users/AartGoossens/subscriptions',\n",
       "   'organizations_url': 'https://api.github.com/users/AartGoossens/orgs',\n",
       "   'repos_url': 'https://api.github.com/users/AartGoossens/repos',\n",
       "   'events_url': 'https://api.github.com/users/AartGoossens/events{/privacy}',\n",
       "   'received_events_url': 'https://api.github.com/users/AartGoossens/received_events',\n",
       "   'type': 'User',\n",
       "   'site_admin': False},\n",
       "  'labels': [],\n",
       "  'state': 'open',\n",
       "  'locked': False,\n",
       "  'assignee': None,\n",
       "  'assignees': [],\n",
       "  'milestone': None,\n",
       "  'comments': 0,\n",
       "  'created_at': '2021-07-12T13:05:31Z',\n",
       "  'updated_at': '2021-07-12T13:05:31Z',\n",
       "  'closed_at': None,\n",
       "  'author_association': 'NONE',\n",
       "  'active_lock_reason': None,\n",
       "  'pull_request': {'url': 'https://api.github.com/repos/pandas-dev/pandas/pulls/42503',\n",
       "   'html_url': 'https://github.com/pandas-dev/pandas/pull/42503',\n",
       "   'diff_url': 'https://github.com/pandas-dev/pandas/pull/42503.diff',\n",
       "   'patch_url': 'https://github.com/pandas-dev/pandas/pull/42503.patch'},\n",
       "  'body': '- [X] closes #41565\\r\\n~~- [ ] tests added / passed~~\\r\\n- [ ] Ensure all linting tests pass, see [here](https://pandas.pydata.org/pandas-docs/dev/development/contributing.html#code-standards) for how to run them\\r\\n- [X] whatsnew entry\\r\\n\\r\\nThis PR improves the error message when trying to interpolate dtype integer with method=\"linear\", as discussed in #41565.',\n",
       "  'performed_via_github_app': None},\n",
       " {'url': 'https://api.github.com/repos/pandas-dev/pandas/issues/42501',\n",
       "  'repository_url': 'https://api.github.com/repos/pandas-dev/pandas',\n",
       "  'labels_url': 'https://api.github.com/repos/pandas-dev/pandas/issues/42501/labels{/name}',\n",
       "  'comments_url': 'https://api.github.com/repos/pandas-dev/pandas/issues/42501/comments',\n",
       "  'events_url': 'https://api.github.com/repos/pandas-dev/pandas/issues/42501/events',\n",
       "  'html_url': 'https://github.com/pandas-dev/pandas/issues/42501',\n",
       "  'id': 941970521,\n",
       "  'node_id': 'MDU6SXNzdWU5NDE5NzA1MjE=',\n",
       "  'number': 42501,\n",
       "  'title': 'BUG: extraneous copy of extension arrays in v1.3.0',\n",
       "  'user': {'login': 'gsakkis',\n",
       "   'id': 291289,\n",
       "   'node_id': 'MDQ6VXNlcjI5MTI4OQ==',\n",
       "   'avatar_url': 'https://avatars.githubusercontent.com/u/291289?v=4',\n",
       "   'gravatar_id': '',\n",
       "   'url': 'https://api.github.com/users/gsakkis',\n",
       "   'html_url': 'https://github.com/gsakkis',\n",
       "   'followers_url': 'https://api.github.com/users/gsakkis/followers',\n",
       "   'following_url': 'https://api.github.com/users/gsakkis/following{/other_user}',\n",
       "   'gists_url': 'https://api.github.com/users/gsakkis/gists{/gist_id}',\n",
       "   'starred_url': 'https://api.github.com/users/gsakkis/starred{/owner}{/repo}',\n",
       "   'subscriptions_url': 'https://api.github.com/users/gsakkis/subscriptions',\n",
       "   'organizations_url': 'https://api.github.com/users/gsakkis/orgs',\n",
       "   'repos_url': 'https://api.github.com/users/gsakkis/repos',\n",
       "   'events_url': 'https://api.github.com/users/gsakkis/events{/privacy}',\n",
       "   'received_events_url': 'https://api.github.com/users/gsakkis/received_events',\n",
       "   'type': 'User',\n",
       "   'site_admin': False},\n",
       "  'labels': [{'id': 2085877452,\n",
       "    'node_id': 'MDU6TGFiZWwyMDg1ODc3NDUy',\n",
       "    'url': 'https://api.github.com/repos/pandas-dev/pandas/labels/Copy%20/%20view%20semantics',\n",
       "    'name': 'Copy / view semantics',\n",
       "    'color': '70e5ca',\n",
       "    'default': False,\n",
       "    'description': ''},\n",
       "   {'id': 31404521,\n",
       "    'node_id': 'MDU6TGFiZWwzMTQwNDUyMQ==',\n",
       "    'url': 'https://api.github.com/repos/pandas-dev/pandas/labels/Dtypes',\n",
       "    'name': 'Dtypes',\n",
       "    'color': 'e102d8',\n",
       "    'default': False,\n",
       "    'description': 'Unexpected or buggy dtype conversions'},\n",
       "   {'id': 849023693,\n",
       "    'node_id': 'MDU6TGFiZWw4NDkwMjM2OTM=',\n",
       "    'url': 'https://api.github.com/repos/pandas-dev/pandas/labels/ExtensionArray',\n",
       "    'name': 'ExtensionArray',\n",
       "    'color': '6138b5',\n",
       "    'default': False,\n",
       "    'description': 'Extending pandas with custom dtypes or arrays.'},\n",
       "   {'id': 32815646,\n",
       "    'node_id': 'MDU6TGFiZWwzMjgxNTY0Ng==',\n",
       "    'url': 'https://api.github.com/repos/pandas-dev/pandas/labels/Regression',\n",
       "    'name': 'Regression',\n",
       "    'color': 'e11d21',\n",
       "    'default': False,\n",
       "    'description': 'Functionality that used to work in a prior pandas version'}],\n",
       "  'state': 'open',\n",
       "  'locked': False,\n",
       "  'assignee': None,\n",
       "  'assignees': [],\n",
       "  'milestone': {'url': 'https://api.github.com/repos/pandas-dev/pandas/milestones/87',\n",
       "   'html_url': 'https://github.com/pandas-dev/pandas/milestone/87',\n",
       "   'labels_url': 'https://api.github.com/repos/pandas-dev/pandas/milestones/87/labels',\n",
       "   'id': 6888188,\n",
       "   'node_id': 'MDk6TWlsZXN0b25lNjg4ODE4OA==',\n",
       "   'number': 87,\n",
       "   'title': '1.3.1',\n",
       "   'description': 'on-merge: backport to 1.3.x',\n",
       "   'creator': {'login': 'simonjayhawkins',\n",
       "    'id': 13159005,\n",
       "    'node_id': 'MDQ6VXNlcjEzMTU5MDA1',\n",
       "    'avatar_url': 'https://avatars.githubusercontent.com/u/13159005?v=4',\n",
       "    'gravatar_id': '',\n",
       "    'url': 'https://api.github.com/users/simonjayhawkins',\n",
       "    'html_url': 'https://github.com/simonjayhawkins',\n",
       "    'followers_url': 'https://api.github.com/users/simonjayhawkins/followers',\n",
       "    'following_url': 'https://api.github.com/users/simonjayhawkins/following{/other_user}',\n",
       "    'gists_url': 'https://api.github.com/users/simonjayhawkins/gists{/gist_id}',\n",
       "    'starred_url': 'https://api.github.com/users/simonjayhawkins/starred{/owner}{/repo}',\n",
       "    'subscriptions_url': 'https://api.github.com/users/simonjayhawkins/subscriptions',\n",
       "    'organizations_url': 'https://api.github.com/users/simonjayhawkins/orgs',\n",
       "    'repos_url': 'https://api.github.com/users/simonjayhawkins/repos',\n",
       "    'events_url': 'https://api.github.com/users/simonjayhawkins/events{/privacy}',\n",
       "    'received_events_url': 'https://api.github.com/users/simonjayhawkins/received_events',\n",
       "    'type': 'User',\n",
       "    'site_admin': False},\n",
       "   'open_issues': 21,\n",
       "   'closed_issues': 66,\n",
       "   'state': 'open',\n",
       "   'created_at': '2021-06-25T09:56:22Z',\n",
       "   'updated_at': '2021-07-15T04:19:08Z',\n",
       "   'due_on': '2021-07-25T07:00:00Z',\n",
       "   'closed_at': None},\n",
       "  'comments': 2,\n",
       "  'created_at': '2021-07-12T11:39:24Z',\n",
       "  'updated_at': '2021-07-12T15:42:23Z',\n",
       "  'closed_at': None,\n",
       "  'author_association': 'NONE',\n",
       "  'active_lock_reason': None,\n",
       "  'body': '#### Code Sample, a copy-pastable example\\r\\n\\r\\n```python\\r\\nimport pandas as pd\\r\\nfrom pandas.core.arrays.integer import coerce_to_array\\r\\n\\r\\n\\r\\nclass IntegerArrayNoCopy(pd.core.arrays.IntegerArray):\\r\\n\\r\\n    @classmethod\\r\\n    def _from_sequence(cls, scalars, *, dtype=None, copy=False):\\r\\n        values, mask = coerce_to_array(scalars, dtype=dtype, copy=copy)\\r\\n        return IntegerArrayNoCopy(values, mask)\\r\\n\\r\\n    def copy(self):\\r\\n        raise NotImplementedError\\r\\n\\r\\n\\r\\nclass Int16DtypeNoCopy(pd.Int16Dtype):\\r\\n    @classmethod\\r\\n    def construct_array_type(cls):\\r\\n        return IntegerArrayNoCopy\\r\\n\\r\\n\\r\\nif __name__ == \\'__main__\\':\\r\\n    df = pd.DataFrame({\"col\": [1, 4, None, 5]}, dtype=object)\\r\\n    print(df.dtypes)\\r\\n    df = df.astype({\"col\": Int16DtypeNoCopy()}, copy=False)\\r\\n    print(df.dtypes)\\r\\n    print(df)\\r\\n```\\r\\n\\r\\n#### Problem description\\r\\n\\r\\nIn 1.3.0, `astype` attempts to create an extension array copy even when explicitly passed `copy=False`:\\r\\n```\\r\\nTraceback (most recent call last):\\r\\n  File \"test_astype.py\", line 24, in <module>\\r\\n    df = df.astype({\"col\": Int16DtypeNoCopy()}, copy=False)\\r\\n  File \"/home/gsk/miniconda/envs/pdenv/lib/python3.7/site-packages/pandas/core/generic.py\", line 5814, in astype\\r\\n    result = concat(results, axis=1, copy=False)\\r\\n  File \"/home/gsk/miniconda/envs/pdenv/lib/python3.7/site-packages/pandas/util/_decorators.py\", line 311, in wrapper\\r\\n    return func(*args, **kwargs)\\r\\n  File \"/home/gsk/miniconda/envs/pdenv/lib/python3.7/site-packages/pandas/core/reshape/concat.py\", line 307, in concat\\r\\n    return op.get_result()\\r\\n  File \"/home/gsk/miniconda/envs/pdenv/lib/python3.7/site-packages/pandas/core/reshape/concat.py\", line 508, in get_result\\r\\n    df = cons(data, index=index)\\r\\n  File \"/home/gsk/miniconda/envs/pdenv/lib/python3.7/site-packages/pandas/core/frame.py\", line 614, in __init__\\r\\n    mgr = dict_to_mgr(data, index, columns, dtype=dtype, copy=copy, typ=manager)\\r\\n  File \"/home/gsk/miniconda/envs/pdenv/lib/python3.7/site-packages/pandas/core/internals/construction.py\", line 458, in dict_to_mgr\\r\\n    for x in arrays\\r\\n  File \"/home/gsk/miniconda/envs/pdenv/lib/python3.7/site-packages/pandas/core/internals/construction.py\", line 458, in <listcomp>\\r\\n    for x in arrays\\r\\n  File \"/home/gsk/miniconda/envs/pdenv/lib/python3.7/site-packages/pandas/core/generic.py\", line 5924, in copy\\r\\n    data = self._mgr.copy(deep=deep)\\r\\n  File \"/home/gsk/miniconda/envs/pdenv/lib/python3.7/site-packages/pandas/core/internals/managers.py\", line 595, in copy\\r\\n    res = self.apply(\"copy\", deep=deep)\\r\\n  File \"/home/gsk/miniconda/envs/pdenv/lib/python3.7/site-packages/pandas/core/internals/managers.py\", line 327, in apply\\r\\n    applied = getattr(b, f)(**kwargs)\\r\\n  File \"/home/gsk/miniconda/envs/pdenv/lib/python3.7/site-packages/pandas/core/internals/blocks.py\", line 651, in copy\\r\\n    values = values.copy()\\r\\n  File \"test_astype.py\", line 13, in copy\\r\\n    raise NotImplementedError\\r\\nNotImplementedError\\r\\n```\\r\\n\\r\\n#### Expected Output\\r\\n\\r\\n1.2.5 works as expected (at least for this example):\\r\\n```\\r\\ncol    object\\r\\ndtype: object\\r\\ncol    Int16\\r\\ndtype: object\\r\\n    col\\r\\n0     1\\r\\n1     4\\r\\n2  <NA>\\r\\n3     5\\r\\n```\\r\\n\\r\\n\\r\\n#### Output of ``pd.show_versions()``\\r\\n\\r\\n<details>\\r\\n\\r\\nINSTALLED VERSIONS\\r\\n------------------\\r\\ncommit           : f00ed8f47020034e752baf0250483053340971b0\\r\\npython           : 3.7.10.final.0\\r\\npython-bits      : 64\\r\\nOS               : Linux\\r\\nOS-release       : 5.10.0-1029-oem\\r\\nVersion          : #30-Ubuntu SMP Fri May 28 23:53:50 UTC 2021\\r\\nmachine          : x86_64\\r\\nprocessor        : x86_64\\r\\nbyteorder        : little\\r\\nLC_ALL           : None\\r\\nLANG             : en_US.UTF-8\\r\\nLOCALE           : en_US.UTF-8\\r\\n\\r\\npandas           : 1.3.0\\r\\nnumpy            : 1.20.2\\r\\npytz             : 2021.1\\r\\ndateutil         : 2.8.1\\r\\npip              : 21.0.1\\r\\nsetuptools       : 49.6.0.post20210108\\r\\nCython           : 0.29.22\\r\\npytest           : 6.2.2\\r\\nhypothesis       : 6.7.0\\r\\njinja2           : 2.11.3\\r\\nIPython          : 7.20.0\\r\\nfsspec           : 2021.04.0\\r\\nfastparquet      : 0.5.0\\r\\nmatplotlib       : 3.4.1\\r\\npyarrow          : 4.0.1\\r\\ns3fs             : 2021.04.0\\r\\nscipy            : 1.6.0\\r\\nxarray           : 0.17.0\\r\\nnumba            : 0.53.1\\r\\n\\r\\n\\r\\n</details>\\r\\n',\n",
       "  'performed_via_github_app': None},\n",
       " {'url': 'https://api.github.com/repos/pandas-dev/pandas/issues/42499',\n",
       "  'repository_url': 'https://api.github.com/repos/pandas-dev/pandas',\n",
       "  'labels_url': 'https://api.github.com/repos/pandas-dev/pandas/issues/42499/labels{/name}',\n",
       "  'comments_url': 'https://api.github.com/repos/pandas-dev/pandas/issues/42499/comments',\n",
       "  'events_url': 'https://api.github.com/repos/pandas-dev/pandas/issues/42499/events',\n",
       "  'html_url': 'https://github.com/pandas-dev/pandas/issues/42499',\n",
       "  'id': 941913210,\n",
       "  'node_id': 'MDU6SXNzdWU5NDE5MTMyMTA=',\n",
       "  'number': 42499,\n",
       "  'title': 'ENH: Pandas ewm with fixed window / offset',\n",
       "  'user': {'login': 'nrcjea001',\n",
       "   'id': 26452178,\n",
       "   'node_id': 'MDQ6VXNlcjI2NDUyMTc4',\n",
       "   'avatar_url': 'https://avatars.githubusercontent.com/u/26452178?v=4',\n",
       "   'gravatar_id': '',\n",
       "   'url': 'https://api.github.com/users/nrcjea001',\n",
       "   'html_url': 'https://github.com/nrcjea001',\n",
       "   'followers_url': 'https://api.github.com/users/nrcjea001/followers',\n",
       "   'following_url': 'https://api.github.com/users/nrcjea001/following{/other_user}',\n",
       "   'gists_url': 'https://api.github.com/users/nrcjea001/gists{/gist_id}',\n",
       "   'starred_url': 'https://api.github.com/users/nrcjea001/starred{/owner}{/repo}',\n",
       "   'subscriptions_url': 'https://api.github.com/users/nrcjea001/subscriptions',\n",
       "   'organizations_url': 'https://api.github.com/users/nrcjea001/orgs',\n",
       "   'repos_url': 'https://api.github.com/users/nrcjea001/repos',\n",
       "   'events_url': 'https://api.github.com/users/nrcjea001/events{/privacy}',\n",
       "   'received_events_url': 'https://api.github.com/users/nrcjea001/received_events',\n",
       "   'type': 'User',\n",
       "   'site_admin': False},\n",
       "  'labels': [{'id': 76812,\n",
       "    'node_id': 'MDU6TGFiZWw3NjgxMg==',\n",
       "    'url': 'https://api.github.com/repos/pandas-dev/pandas/labels/Enhancement',\n",
       "    'name': 'Enhancement',\n",
       "    'color': '4E9A06',\n",
       "    'default': False,\n",
       "    'description': None},\n",
       "   {'id': 1954720290,\n",
       "    'node_id': 'MDU6TGFiZWwxOTU0NzIwMjkw',\n",
       "    'url': 'https://api.github.com/repos/pandas-dev/pandas/labels/Needs%20Triage',\n",
       "    'name': 'Needs Triage',\n",
       "    'color': '0052cc',\n",
       "    'default': False,\n",
       "    'description': 'Issue that has not been reviewed by a pandas team member'}],\n",
       "  'state': 'open',\n",
       "  'locked': False,\n",
       "  'assignee': None,\n",
       "  'assignees': [],\n",
       "  'milestone': None,\n",
       "  'comments': 0,\n",
       "  'created_at': '2021-07-12T10:31:35Z',\n",
       "  'updated_at': '2021-07-12T10:31:35Z',\n",
       "  'closed_at': None,\n",
       "  'author_association': 'NONE',\n",
       "  'active_lock_reason': None,\n",
       "  'body': '**Problem & Proposed feature**\\r\\nPandas ewm function works similar to the pandas expanding function in that it rolls over the whole dataframe. In my case however, I need to specify a fixed window or offset over which the ewm function is applied. In other words, an ewm function with a cutoff that would work similar to the \\'window\\' parameter in the pandas rolling function.\\r\\n\\r\\n**Alternatives considered**\\r\\nMy workaround to the problem is as follows (however extremely inefficient):\\r\\n\\r\\n```\\r\\ndf = pd.DataFrame({\\'a\\': np.random.randint(5, size=24),\\r\\n                   \\'b\\': [\"S\", \"A\"] * 12,\\r\\n                   \\'c\\': pd.date_range(start=\\'1/1/2018\\', end=\\'12/12/2018\\', freq=\\'15D\\')})\\r\\n\\r\\ndf.groupby(\\'b\\').rolling(\\'60d\\', on=\\'c\\')[\\'a\\'].apply(lambda x: x.ewm(halflife=\\'15d\\', times=x.index).mean().tail(1))\\r\\n```\\r\\nIn the example above, I am trying to do an exponentially-weighted moving average, where decay is specified in terms of halflife on a datetime column. The rolling apply ensures that the maximum offset is \\'60d\\' which is the feature I propose to be added directly in the ewm function.\\r\\n\\r\\nSo in summary, I propose a window parameter to be introduced to the ewm function which limits the ewm calculation to a fixed window or offset.',\n",
       "  'performed_via_github_app': None},\n",
       " {'url': 'https://api.github.com/repos/pandas-dev/pandas/issues/42497',\n",
       "  'repository_url': 'https://api.github.com/repos/pandas-dev/pandas',\n",
       "  'labels_url': 'https://api.github.com/repos/pandas-dev/pandas/issues/42497/labels{/name}',\n",
       "  'comments_url': 'https://api.github.com/repos/pandas-dev/pandas/issues/42497/comments',\n",
       "  'events_url': 'https://api.github.com/repos/pandas-dev/pandas/issues/42497/events',\n",
       "  'html_url': 'https://github.com/pandas-dev/pandas/issues/42497',\n",
       "  'id': 941870192,\n",
       "  'node_id': 'MDU6SXNzdWU5NDE4NzAxOTI=',\n",
       "  'number': 42497,\n",
       "  'title': 'BUG: Unable to multi column \"complex\" dates (file structure not yet supported)',\n",
       "  'user': {'login': 'fugkco',\n",
       "   'id': 59912404,\n",
       "   'node_id': 'MDQ6VXNlcjU5OTEyNDA0',\n",
       "   'avatar_url': 'https://avatars.githubusercontent.com/u/59912404?v=4',\n",
       "   'gravatar_id': '',\n",
       "   'url': 'https://api.github.com/users/fugkco',\n",
       "   'html_url': 'https://github.com/fugkco',\n",
       "   'followers_url': 'https://api.github.com/users/fugkco/followers',\n",
       "   'following_url': 'https://api.github.com/users/fugkco/following{/other_user}',\n",
       "   'gists_url': 'https://api.github.com/users/fugkco/gists{/gist_id}',\n",
       "   'starred_url': 'https://api.github.com/users/fugkco/starred{/owner}{/repo}',\n",
       "   'subscriptions_url': 'https://api.github.com/users/fugkco/subscriptions',\n",
       "   'organizations_url': 'https://api.github.com/users/fugkco/orgs',\n",
       "   'repos_url': 'https://api.github.com/users/fugkco/repos',\n",
       "   'events_url': 'https://api.github.com/users/fugkco/events{/privacy}',\n",
       "   'received_events_url': 'https://api.github.com/users/fugkco/received_events',\n",
       "   'type': 'User',\n",
       "   'site_admin': False},\n",
       "  'labels': [{'id': 76811,\n",
       "    'node_id': 'MDU6TGFiZWw3NjgxMQ==',\n",
       "    'url': 'https://api.github.com/repos/pandas-dev/pandas/labels/Bug',\n",
       "    'name': 'Bug',\n",
       "    'color': 'e10c02',\n",
       "    'default': False,\n",
       "    'description': None},\n",
       "   {'id': 1954720290,\n",
       "    'node_id': 'MDU6TGFiZWwxOTU0NzIwMjkw',\n",
       "    'url': 'https://api.github.com/repos/pandas-dev/pandas/labels/Needs%20Triage',\n",
       "    'name': 'Needs Triage',\n",
       "    'color': '0052cc',\n",
       "    'default': False,\n",
       "    'description': 'Issue that has not been reviewed by a pandas team member'}],\n",
       "  'state': 'open',\n",
       "  'locked': False,\n",
       "  'assignee': None,\n",
       "  'assignees': [],\n",
       "  'milestone': None,\n",
       "  'comments': 0,\n",
       "  'created_at': '2021-07-12T09:44:53Z',\n",
       "  'updated_at': '2021-07-12T09:45:24Z',\n",
       "  'closed_at': None,\n",
       "  'author_association': 'NONE',\n",
       "  'active_lock_reason': None,\n",
       "  'body': '- [x] I have checked that this issue has not already been reported.\\r\\n\\r\\n- [x] I have confirmed this bug exists on the latest version of pandas.\\r\\n\\r\\n- [ ] (optional) I have confirmed this bug exists on the master branch of pandas.\\r\\n\\r\\n---\\r\\n\\r\\n#### Code Sample, a copy-pastable example\\r\\n\\r\\n```python\\r\\nfrom io import StringIO\\r\\n\\r\\nimport pandas as pd\\r\\n\\r\\ndata = \"\"\"Date,Time,Value date,Product,ISIN,Description,FX,Change,,Balance,,Order Id\\r\\n08-07-2021,04:33,07-07-2021,AAPL,,Dividend,,USD,0.97,USD,0.82,\\r\\n09-07-2021,16:05,09-07-2021,Interest,LU0904784781,Buy 0.59 at 1 GBP,,,,GBP,109.53,\"\"\"\\r\\n\\r\\nfields_en = (\\r\\n    \\'Date\\',\\r\\n    \\'Time\\',\\r\\n    \\'Value date\\',\\r\\n    \\'Product\\',\\r\\n    \\'ISIN\\',\\r\\n    \\'Description\\',\\r\\n    \\'FX\\',\\r\\n    \\'c_change\\',\\r\\n    \\'Change\\',  # unknown\\r\\n    \\'c_balance\\',\\r\\n    \\'Balance\\',  # unknown\\r\\n    \\'Order Id\\'\\r\\n)\\r\\n\\r\\n\\r\\ndef format_datetime(x):\\r\\n    return pd.to_datetime(x, format=\\'%d-%m-%Y %H:%M\\')\\r\\n\\r\\n\\r\\nif __name__ == \\'__main__\\':\\r\\n    lines = data.splitlines(True)\\r\\n    header = lines[0]\\r\\n    del lines[0]\\r\\n    lines = [header] + list(reversed(lines))\\r\\n\\r\\n    df = pd.read_csv(\\r\\n        StringIO(\\'\\'.join(lines)), encoding=\\'utf-8\\', header=0, names=fields_en,\\r\\n        parse_dates={\\'datetime\\': [\\'Date\\', \\'Time\\']},\\r\\n        date_parser=format_datetime,\\r\\n    )\\r\\n```\\r\\n\\r\\n#### Problem description\\r\\nThe above script produces following stack trace:\\r\\n```\\r\\nTraceback (most recent call last):\\r\\n  File \"/home/fugkco/tmp/beancount-degiro/venv/lib/python3.9/site-packages/pandas/io/parsers/readers.py\", line 488, in _read\\r\\n    return parser.read(nrows)\\r\\n  File \"/home/fugkco/tmp/beancount-degiro/venv/lib/python3.9/site-packages/pandas/io/parsers/readers.py\", line 1047, in read\\r\\n    index, columns, col_dict = self._engine.read(nrows)\\r\\n  File \"/home/fugkco/tmp/beancount-degiro/venv/lib/python3.9/site-packages/pandas/io/parsers/c_parser_wrapper.py\", line 260, in read\\r\\n    raise NotImplementedError(\"file structure not yet supported\")\\r\\nNotImplementedError: file structure not yet supported\\r\\n\\r\\n```\\r\\n\\r\\nWhat\\'s really odd is that adding a single new line at the end of this data, seems to fix the issue, i.e.:\\r\\n\\r\\n```\\r\\ndata = \"\"\"Date,Time,Value date,Product,ISIN,Description,FX,Change,,Balance,,Order Id\\r\\n08-07-2021,04:33,07-07-2021,AAPL,,Dividend,,USD,0.97,USD,0.82,\\r\\n09-07-2021,16:05,09-07-2021,Interest,LU0904784781,Buy 0.59 at 1 GBP,,,,GBP,109.53,\\r\\n\"\"\"\\r\\n```\\r\\n\\r\\nDoes not produce the same exception. After investigating using a debugger, it seems that for reason I do not understand, not having the new line causes `_reader.leading_cols` to contain more than 0 columns, causing it to go into [this branch](https://github.com/pandas-dev/pandas/blob/d113a3ba559bccf285565aa934eefa2c2b5d0677/pandas/io/parsers/c_parser_wrapper.py#L258-L260). This seems odd behaviour, and it sounds to me like having a single newline or not at the end of the file shouldn\\'t make a difference in the output.\\r\\n\\r\\n#### Expected Output\\r\\n\\r\\nNo errors\\r\\n\\r\\n#### Output of ``pd.show_versions()``\\r\\n\\r\\n<details>\\r\\n\\r\\nINSTALLED VERSIONS\\r\\n------------------\\r\\ncommit           : f00ed8f47020034e752baf0250483053340971b0\\r\\npython           : 3.9.5.final.0\\r\\npython-bits      : 64\\r\\nOS               : Linux\\r\\nOS-release       : 5.11.0-7620-generic\\r\\nVersion          : #21~1624379747~21.04~3abeff8-Ubuntu SMP Wed Jun 23 02:34:03 UTC \\r\\nmachine          : x86_64\\r\\nprocessor        : x86_64\\r\\nbyteorder        : little\\r\\nLC_ALL           : None\\r\\nLANG             : en_GB.UTF-8\\r\\nLOCALE           : en_GB.UTF-8\\r\\n\\r\\npandas           : 1.3.0\\r\\nnumpy            : 1.21.0\\r\\npytz             : 2021.1\\r\\ndateutil         : 2.8.1\\r\\npip              : 20.3.4\\r\\nsetuptools       : 44.1.1\\r\\nCython           : None\\r\\npytest           : 6.2.4\\r\\nhypothesis       : None\\r\\nsphinx           : None\\r\\nblosc            : None\\r\\nfeather          : None\\r\\nxlsxwriter       : None\\r\\nlxml.etree       : 4.6.3\\r\\nhtml5lib         : None\\r\\npymysql          : None\\r\\npsycopg2         : None\\r\\njinja2           : None\\r\\nIPython          : None\\r\\npandas_datareader: None\\r\\nbs4              : 4.9.3\\r\\nbottleneck       : None\\r\\nfsspec           : None\\r\\nfastparquet      : None\\r\\ngcsfs            : None\\r\\nmatplotlib       : None\\r\\nnumexpr          : None\\r\\nodfpy            : None\\r\\nopenpyxl         : None\\r\\npandas_gbq       : None\\r\\npyarrow          : None\\r\\npyxlsb           : None\\r\\ns3fs             : None\\r\\nscipy            : None\\r\\nsqlalchemy       : None\\r\\ntables           : None\\r\\ntabulate         : None\\r\\nxarray           : None\\r\\nxlrd             : None\\r\\nxlwt             : None\\r\\nnumba            : None\\r\\nNone\\r\\n\\r\\n</details>\\r\\n',\n",
       "  'performed_via_github_app': None},\n",
       " {'url': 'https://api.github.com/repos/pandas-dev/pandas/issues/42495',\n",
       "  'repository_url': 'https://api.github.com/repos/pandas-dev/pandas',\n",
       "  'labels_url': 'https://api.github.com/repos/pandas-dev/pandas/issues/42495/labels{/name}',\n",
       "  'comments_url': 'https://api.github.com/repos/pandas-dev/pandas/issues/42495/comments',\n",
       "  'events_url': 'https://api.github.com/repos/pandas-dev/pandas/issues/42495/events',\n",
       "  'html_url': 'https://github.com/pandas-dev/pandas/pull/42495',\n",
       "  'id': 941786573,\n",
       "  'node_id': 'MDExOlB1bGxSZXF1ZXN0Njg3NjA4MjE3',\n",
       "  'number': 42495,\n",
       "  'title': 'Omerdan03 bug pd.series.rename #42481',\n",
       "  'user': {'login': 'Omerdan03',\n",
       "   'id': 57575138,\n",
       "   'node_id': 'MDQ6VXNlcjU3NTc1MTM4',\n",
       "   'avatar_url': 'https://avatars.githubusercontent.com/u/57575138?v=4',\n",
       "   'gravatar_id': '',\n",
       "   'url': 'https://api.github.com/users/Omerdan03',\n",
       "   'html_url': 'https://github.com/Omerdan03',\n",
       "   'followers_url': 'https://api.github.com/users/Omerdan03/followers',\n",
       "   'following_url': 'https://api.github.com/users/Omerdan03/following{/other_user}',\n",
       "   'gists_url': 'https://api.github.com/users/Omerdan03/gists{/gist_id}',\n",
       "   'starred_url': 'https://api.github.com/users/Omerdan03/starred{/owner}{/repo}',\n",
       "   'subscriptions_url': 'https://api.github.com/users/Omerdan03/subscriptions',\n",
       "   'organizations_url': 'https://api.github.com/users/Omerdan03/orgs',\n",
       "   'repos_url': 'https://api.github.com/users/Omerdan03/repos',\n",
       "   'events_url': 'https://api.github.com/users/Omerdan03/events{/privacy}',\n",
       "   'received_events_url': 'https://api.github.com/users/Omerdan03/received_events',\n",
       "   'type': 'User',\n",
       "   'site_admin': False},\n",
       "  'labels': [{'id': 76811,\n",
       "    'node_id': 'MDU6TGFiZWw3NjgxMQ==',\n",
       "    'url': 'https://api.github.com/repos/pandas-dev/pandas/labels/Bug',\n",
       "    'name': 'Bug',\n",
       "    'color': 'e10c02',\n",
       "    'default': False,\n",
       "    'description': None},\n",
       "   {'id': 1357732944,\n",
       "    'node_id': 'MDU6TGFiZWwxMzU3NzMyOTQ0',\n",
       "    'url': 'https://api.github.com/repos/pandas-dev/pandas/labels/Series',\n",
       "    'name': 'Series',\n",
       "    'color': '8dd5fc',\n",
       "    'default': False,\n",
       "    'description': 'Series data structure'}],\n",
       "  'state': 'open',\n",
       "  'locked': False,\n",
       "  'assignee': None,\n",
       "  'assignees': [],\n",
       "  'milestone': None,\n",
       "  'comments': 2,\n",
       "  'created_at': '2021-07-12T08:06:20Z',\n",
       "  'updated_at': '2021-07-13T01:28:18Z',\n",
       "  'closed_at': None,\n",
       "  'author_association': 'NONE',\n",
       "  'active_lock_reason': None,\n",
       "  'pull_request': {'url': 'https://api.github.com/repos/pandas-dev/pandas/pulls/42495',\n",
       "   'html_url': 'https://github.com/pandas-dev/pandas/pull/42495',\n",
       "   'diff_url': 'https://github.com/pandas-dev/pandas/pull/42495.diff',\n",
       "   'patch_url': 'https://github.com/pandas-dev/pandas/pull/42495.patch'},\n",
       "  'body': '- [ ] closes #42481\\r\\n- [ ] tests added / passed\\r\\n- [ ] Ensure all linting tests pass, see [here](https://pandas.pydata.org/pandas-docs/dev/development/contributing.html#code-standards) for how to run them\\r\\n- [ ] whatsnew entry\\r\\n\\r\\nhttps://github.com/pandas-dev/pandas/issues/42481',\n",
       "  'performed_via_github_app': None},\n",
       " {'url': 'https://api.github.com/repos/pandas-dev/pandas/issues/42494',\n",
       "  'repository_url': 'https://api.github.com/repos/pandas-dev/pandas',\n",
       "  'labels_url': 'https://api.github.com/repos/pandas-dev/pandas/issues/42494/labels{/name}',\n",
       "  'comments_url': 'https://api.github.com/repos/pandas-dev/pandas/issues/42494/comments',\n",
       "  'events_url': 'https://api.github.com/repos/pandas-dev/pandas/issues/42494/events',\n",
       "  'html_url': 'https://github.com/pandas-dev/pandas/pull/42494',\n",
       "  'id': 941786228,\n",
       "  'node_id': 'MDExOlB1bGxSZXF1ZXN0Njg3NjA3OTMw',\n",
       "  'number': 42494,\n",
       "  'title': 'Improved docstring for `to_datetime`',\n",
       "  'user': {'login': 'smarie',\n",
       "   'id': 3236794,\n",
       "   'node_id': 'MDQ6VXNlcjMyMzY3OTQ=',\n",
       "   'avatar_url': 'https://avatars.githubusercontent.com/u/3236794?v=4',\n",
       "   'gravatar_id': '',\n",
       "   'url': 'https://api.github.com/users/smarie',\n",
       "   'html_url': 'https://github.com/smarie',\n",
       "   'followers_url': 'https://api.github.com/users/smarie/followers',\n",
       "   'following_url': 'https://api.github.com/users/smarie/following{/other_user}',\n",
       "   'gists_url': 'https://api.github.com/users/smarie/gists{/gist_id}',\n",
       "   'starred_url': 'https://api.github.com/users/smarie/starred{/owner}{/repo}',\n",
       "   'subscriptions_url': 'https://api.github.com/users/smarie/subscriptions',\n",
       "   'organizations_url': 'https://api.github.com/users/smarie/orgs',\n",
       "   'repos_url': 'https://api.github.com/users/smarie/repos',\n",
       "   'events_url': 'https://api.github.com/users/smarie/events{/privacy}',\n",
       "   'received_events_url': 'https://api.github.com/users/smarie/received_events',\n",
       "   'type': 'User',\n",
       "   'site_admin': False},\n",
       "  'labels': [{'id': 134699,\n",
       "    'node_id': 'MDU6TGFiZWwxMzQ2OTk=',\n",
       "    'url': 'https://api.github.com/repos/pandas-dev/pandas/labels/Docs',\n",
       "    'name': 'Docs',\n",
       "    'color': '3465A4',\n",
       "    'default': False,\n",
       "    'description': None},\n",
       "   {'id': 60458168,\n",
       "    'node_id': 'MDU6TGFiZWw2MDQ1ODE2OA==',\n",
       "    'url': 'https://api.github.com/repos/pandas-dev/pandas/labels/Timezones',\n",
       "    'name': 'Timezones',\n",
       "    'color': '5319e7',\n",
       "    'default': False,\n",
       "    'description': 'Timezone data dtype'}],\n",
       "  'state': 'open',\n",
       "  'locked': False,\n",
       "  'assignee': None,\n",
       "  'assignees': [],\n",
       "  'milestone': None,\n",
       "  'comments': 0,\n",
       "  'created_at': '2021-07-12T08:05:57Z',\n",
       "  'updated_at': '2021-07-12T20:13:02Z',\n",
       "  'closed_at': None,\n",
       "  'author_association': 'CONTRIBUTOR',\n",
       "  'active_lock_reason': None,\n",
       "  'pull_request': {'url': 'https://api.github.com/repos/pandas-dev/pandas/pulls/42494',\n",
       "   'html_url': 'https://github.com/pandas-dev/pandas/pull/42494',\n",
       "   'diff_url': 'https://github.com/pandas-dev/pandas/pull/42494.diff',\n",
       "   'patch_url': 'https://github.com/pandas-dev/pandas/pull/42494.patch'},\n",
       "  'body': 'Improved (still not ideal) fix for #42229 (datetime parsing behaviour in case of multiple time offsets due to daylight-savings in timezones) following https://github.com/pandas-dev/pandas/pull/42244 \\r\\n\\r\\nSee also https://github.com/pandas-dev/pandas/issues/42229#issuecomment-870009579\\r\\n',\n",
       "  'performed_via_github_app': None},\n",
       " {'url': 'https://api.github.com/repos/pandas-dev/pandas/issues/42492',\n",
       "  'repository_url': 'https://api.github.com/repos/pandas-dev/pandas',\n",
       "  'labels_url': 'https://api.github.com/repos/pandas-dev/pandas/issues/42492/labels{/name}',\n",
       "  'comments_url': 'https://api.github.com/repos/pandas-dev/pandas/issues/42492/comments',\n",
       "  'events_url': 'https://api.github.com/repos/pandas-dev/pandas/issues/42492/events',\n",
       "  'html_url': 'https://github.com/pandas-dev/pandas/issues/42492',\n",
       "  'id': 941717655,\n",
       "  'node_id': 'MDU6SXNzdWU5NDE3MTc2NTU=',\n",
       "  'number': 42492,\n",
       "  'title': 'DOC: Add updated docstring for examples of `by` argument in `df.plot.hist` and `df.plot.box`',\n",
       "  'user': {'login': 'charlesdong1991',\n",
       "   'id': 9269816,\n",
       "   'node_id': 'MDQ6VXNlcjkyNjk4MTY=',\n",
       "   'avatar_url': 'https://avatars.githubusercontent.com/u/9269816?v=4',\n",
       "   'gravatar_id': '',\n",
       "   'url': 'https://api.github.com/users/charlesdong1991',\n",
       "   'html_url': 'https://github.com/charlesdong1991',\n",
       "   'followers_url': 'https://api.github.com/users/charlesdong1991/followers',\n",
       "   'following_url': 'https://api.github.com/users/charlesdong1991/following{/other_user}',\n",
       "   'gists_url': 'https://api.github.com/users/charlesdong1991/gists{/gist_id}',\n",
       "   'starred_url': 'https://api.github.com/users/charlesdong1991/starred{/owner}{/repo}',\n",
       "   'subscriptions_url': 'https://api.github.com/users/charlesdong1991/subscriptions',\n",
       "   'organizations_url': 'https://api.github.com/users/charlesdong1991/orgs',\n",
       "   'repos_url': 'https://api.github.com/users/charlesdong1991/repos',\n",
       "   'events_url': 'https://api.github.com/users/charlesdong1991/events{/privacy}',\n",
       "   'received_events_url': 'https://api.github.com/users/charlesdong1991/received_events',\n",
       "   'type': 'User',\n",
       "   'site_admin': False},\n",
       "  'labels': [{'id': 134699,\n",
       "    'node_id': 'MDU6TGFiZWwxMzQ2OTk=',\n",
       "    'url': 'https://api.github.com/repos/pandas-dev/pandas/labels/Docs',\n",
       "    'name': 'Docs',\n",
       "    'color': '3465A4',\n",
       "    'default': False,\n",
       "    'description': None}],\n",
       "  'state': 'open',\n",
       "  'locked': False,\n",
       "  'assignee': {'login': 'charlesdong1991',\n",
       "   'id': 9269816,\n",
       "   'node_id': 'MDQ6VXNlcjkyNjk4MTY=',\n",
       "   'avatar_url': 'https://avatars.githubusercontent.com/u/9269816?v=4',\n",
       "   'gravatar_id': '',\n",
       "   'url': 'https://api.github.com/users/charlesdong1991',\n",
       "   'html_url': 'https://github.com/charlesdong1991',\n",
       "   'followers_url': 'https://api.github.com/users/charlesdong1991/followers',\n",
       "   'following_url': 'https://api.github.com/users/charlesdong1991/following{/other_user}',\n",
       "   'gists_url': 'https://api.github.com/users/charlesdong1991/gists{/gist_id}',\n",
       "   'starred_url': 'https://api.github.com/users/charlesdong1991/starred{/owner}{/repo}',\n",
       "   'subscriptions_url': 'https://api.github.com/users/charlesdong1991/subscriptions',\n",
       "   'organizations_url': 'https://api.github.com/users/charlesdong1991/orgs',\n",
       "   'repos_url': 'https://api.github.com/users/charlesdong1991/repos',\n",
       "   'events_url': 'https://api.github.com/users/charlesdong1991/events{/privacy}',\n",
       "   'received_events_url': 'https://api.github.com/users/charlesdong1991/received_events',\n",
       "   'type': 'User',\n",
       "   'site_admin': False},\n",
       "  'assignees': [{'login': 'charlesdong1991',\n",
       "    'id': 9269816,\n",
       "    'node_id': 'MDQ6VXNlcjkyNjk4MTY=',\n",
       "    'avatar_url': 'https://avatars.githubusercontent.com/u/9269816?v=4',\n",
       "    'gravatar_id': '',\n",
       "    'url': 'https://api.github.com/users/charlesdong1991',\n",
       "    'html_url': 'https://github.com/charlesdong1991',\n",
       "    'followers_url': 'https://api.github.com/users/charlesdong1991/followers',\n",
       "    'following_url': 'https://api.github.com/users/charlesdong1991/following{/other_user}',\n",
       "    'gists_url': 'https://api.github.com/users/charlesdong1991/gists{/gist_id}',\n",
       "    'starred_url': 'https://api.github.com/users/charlesdong1991/starred{/owner}{/repo}',\n",
       "    'subscriptions_url': 'https://api.github.com/users/charlesdong1991/subscriptions',\n",
       "    'organizations_url': 'https://api.github.com/users/charlesdong1991/orgs',\n",
       "    'repos_url': 'https://api.github.com/users/charlesdong1991/repos',\n",
       "    'events_url': 'https://api.github.com/users/charlesdong1991/events{/privacy}',\n",
       "    'received_events_url': 'https://api.github.com/users/charlesdong1991/received_events',\n",
       "    'type': 'User',\n",
       "    'site_admin': False}],\n",
       "  'milestone': {'url': 'https://api.github.com/repos/pandas-dev/pandas/milestones/86',\n",
       "   'html_url': 'https://github.com/pandas-dev/pandas/milestone/86',\n",
       "   'labels_url': 'https://api.github.com/repos/pandas-dev/pandas/milestones/86/labels',\n",
       "   'id': 6840253,\n",
       "   'node_id': 'MDk6TWlsZXN0b25lNjg0MDI1Mw==',\n",
       "   'number': 86,\n",
       "   'title': '1.4',\n",
       "   'description': '',\n",
       "   'creator': {'login': 'jreback',\n",
       "    'id': 953992,\n",
       "    'node_id': 'MDQ6VXNlcjk1Mzk5Mg==',\n",
       "    'avatar_url': 'https://avatars.githubusercontent.com/u/953992?v=4',\n",
       "    'gravatar_id': '',\n",
       "    'url': 'https://api.github.com/users/jreback',\n",
       "    'html_url': 'https://github.com/jreback',\n",
       "    'followers_url': 'https://api.github.com/users/jreback/followers',\n",
       "    'following_url': 'https://api.github.com/users/jreback/following{/other_user}',\n",
       "    'gists_url': 'https://api.github.com/users/jreback/gists{/gist_id}',\n",
       "    'starred_url': 'https://api.github.com/users/jreback/starred{/owner}{/repo}',\n",
       "    'subscriptions_url': 'https://api.github.com/users/jreback/subscriptions',\n",
       "    'organizations_url': 'https://api.github.com/users/jreback/orgs',\n",
       "    'repos_url': 'https://api.github.com/users/jreback/repos',\n",
       "    'events_url': 'https://api.github.com/users/jreback/events{/privacy}',\n",
       "    'received_events_url': 'https://api.github.com/users/jreback/received_events',\n",
       "    'type': 'User',\n",
       "    'site_admin': False},\n",
       "   'open_issues': 25,\n",
       "   'closed_issues': 172,\n",
       "   'state': 'open',\n",
       "   'created_at': '2021-06-09T18:28:42Z',\n",
       "   'updated_at': '2021-07-15T04:24:14Z',\n",
       "   'due_on': '2021-12-31T08:00:00Z',\n",
       "   'closed_at': None},\n",
       "  'comments': 0,\n",
       "  'created_at': '2021-07-12T06:29:12Z',\n",
       "  'updated_at': '2021-07-14T00:31:11Z',\n",
       "  'closed_at': None,\n",
       "  'author_association': 'MEMBER',\n",
       "  'active_lock_reason': None,\n",
       "  'body': 'This is a follow-up of #28373\\r\\n',\n",
       "  'performed_via_github_app': None},\n",
       " {'url': 'https://api.github.com/repos/pandas-dev/pandas/issues/42485',\n",
       "  'repository_url': 'https://api.github.com/repos/pandas-dev/pandas',\n",
       "  'labels_url': 'https://api.github.com/repos/pandas-dev/pandas/issues/42485/labels{/name}',\n",
       "  'comments_url': 'https://api.github.com/repos/pandas-dev/pandas/issues/42485/comments',\n",
       "  'events_url': 'https://api.github.com/repos/pandas-dev/pandas/issues/42485/events',\n",
       "  'html_url': 'https://github.com/pandas-dev/pandas/pull/42485',\n",
       "  'id': 941512241,\n",
       "  'node_id': 'MDExOlB1bGxSZXF1ZXN0Njg3Mzc5ODk0',\n",
       "  'number': 42485,\n",
       "  'title': 'REF: implement Index._get_indexer_strict',\n",
       "  'user': {'login': 'jbrockmendel',\n",
       "   'id': 8078968,\n",
       "   'node_id': 'MDQ6VXNlcjgwNzg5Njg=',\n",
       "   'avatar_url': 'https://avatars.githubusercontent.com/u/8078968?v=4',\n",
       "   'gravatar_id': '',\n",
       "   'url': 'https://api.github.com/users/jbrockmendel',\n",
       "   'html_url': 'https://github.com/jbrockmendel',\n",
       "   'followers_url': 'https://api.github.com/users/jbrockmendel/followers',\n",
       "   'following_url': 'https://api.github.com/users/jbrockmendel/following{/other_user}',\n",
       "   'gists_url': 'https://api.github.com/users/jbrockmendel/gists{/gist_id}',\n",
       "   'starred_url': 'https://api.github.com/users/jbrockmendel/starred{/owner}{/repo}',\n",
       "   'subscriptions_url': 'https://api.github.com/users/jbrockmendel/subscriptions',\n",
       "   'organizations_url': 'https://api.github.com/users/jbrockmendel/orgs',\n",
       "   'repos_url': 'https://api.github.com/users/jbrockmendel/repos',\n",
       "   'events_url': 'https://api.github.com/users/jbrockmendel/events{/privacy}',\n",
       "   'received_events_url': 'https://api.github.com/users/jbrockmendel/received_events',\n",
       "   'type': 'User',\n",
       "   'site_admin': False},\n",
       "  'labels': [{'id': 2822098,\n",
       "    'node_id': 'MDU6TGFiZWwyODIyMDk4',\n",
       "    'url': 'https://api.github.com/repos/pandas-dev/pandas/labels/Indexing',\n",
       "    'name': 'Indexing',\n",
       "    'color': '0b02e1',\n",
       "    'default': False,\n",
       "    'description': 'Related to indexing on series/frames, not to indexes themselves'},\n",
       "   {'id': 71268330,\n",
       "    'node_id': 'MDU6TGFiZWw3MTI2ODMzMA==',\n",
       "    'url': 'https://api.github.com/repos/pandas-dev/pandas/labels/MultiIndex',\n",
       "    'name': 'MultiIndex',\n",
       "    'color': '207de5',\n",
       "    'default': False,\n",
       "    'description': None}],\n",
       "  'state': 'open',\n",
       "  'locked': False,\n",
       "  'assignee': None,\n",
       "  'assignees': [],\n",
       "  'milestone': None,\n",
       "  'comments': 1,\n",
       "  'created_at': '2021-07-11T18:50:11Z',\n",
       "  'updated_at': '2021-07-12T16:31:44Z',\n",
       "  'closed_at': None,\n",
       "  'author_association': 'MEMBER',\n",
       "  'active_lock_reason': None,\n",
       "  'pull_request': {'url': 'https://api.github.com/repos/pandas-dev/pandas/pulls/42485',\n",
       "   'html_url': 'https://github.com/pandas-dev/pandas/pull/42485',\n",
       "   'diff_url': 'https://github.com/pandas-dev/pandas/pull/42485.diff',\n",
       "   'patch_url': 'https://github.com/pandas-dev/pandas/pull/42485.patch'},\n",
       "  'body': '- [ ] closes #xxxx\\r\\n- [ ] tests added / passed\\r\\n- [x] Ensure all linting tests pass, see [here](https://pandas.pydata.org/pandas-docs/dev/development/contributing.html#code-standards) for how to run them\\r\\n- [ ] whatsnew entry\\r\\n\\r\\nxref #27181, a couple more steps to get that all the way accomplished',\n",
       "  'performed_via_github_app': None}]"
      ]
     },
     "execution_count": 7,
     "metadata": {},
     "output_type": "execute_result"
    }
   ],
   "source": [
    "# 웹 API 사용하기\n",
    "import requests\n",
    "url = 'https://api.github.com/repos/pandas-dev/pandas/issues'\n",
    "resp = requests.get(url)\n",
    "resp\n",
    "data = resp.json()\n",
    "# data[0]['title']\n",
    "data"
   ]
  },
  {
   "cell_type": "code",
   "execution_count": 8,
   "id": "0f8b14aa",
   "metadata": {},
   "outputs": [
    {
     "data": {
      "text/html": [
       "<div>\n",
       "<style scoped>\n",
       "    .dataframe tbody tr th:only-of-type {\n",
       "        vertical-align: middle;\n",
       "    }\n",
       "\n",
       "    .dataframe tbody tr th {\n",
       "        vertical-align: top;\n",
       "    }\n",
       "\n",
       "    .dataframe thead th {\n",
       "        text-align: right;\n",
       "    }\n",
       "</style>\n",
       "<table border=\"1\" class=\"dataframe\">\n",
       "  <thead>\n",
       "    <tr style=\"text-align: right;\">\n",
       "      <th></th>\n",
       "      <th>number</th>\n",
       "      <th>title</th>\n",
       "      <th>labels</th>\n",
       "      <th>state</th>\n",
       "    </tr>\n",
       "  </thead>\n",
       "  <tbody>\n",
       "    <tr>\n",
       "      <th>0</th>\n",
       "      <td>42548</td>\n",
       "      <td>Backport PR #42541 on branch 1.3.x (REGR: conc...</td>\n",
       "      <td>[{'id': 31404521, 'node_id': 'MDU6TGFiZWwzMTQw...</td>\n",
       "      <td>open</td>\n",
       "    </tr>\n",
       "    <tr>\n",
       "      <th>1</th>\n",
       "      <td>42547</td>\n",
       "      <td>ENH: count should be integer type in .describe()</td>\n",
       "      <td>[{'id': 76812, 'node_id': 'MDU6TGFiZWw3NjgxMg=...</td>\n",
       "      <td>open</td>\n",
       "    </tr>\n",
       "    <tr>\n",
       "      <th>2</th>\n",
       "      <td>42546</td>\n",
       "      <td>CLN: clean sqlalchemy import</td>\n",
       "      <td>[]</td>\n",
       "      <td>open</td>\n",
       "    </tr>\n",
       "    <tr>\n",
       "      <th>3</th>\n",
       "      <td>42545</td>\n",
       "      <td>API: `ExtensionArray.isin` treatment of missin...</td>\n",
       "      <td>[{'id': 1741841389, 'node_id': 'MDU6TGFiZWwxNz...</td>\n",
       "      <td>open</td>\n",
       "    </tr>\n",
       "    <tr>\n",
       "      <th>4</th>\n",
       "      <td>42544</td>\n",
       "      <td>Make components of Suffixes Optional</td>\n",
       "      <td>[]</td>\n",
       "      <td>open</td>\n",
       "    </tr>\n",
       "    <tr>\n",
       "      <th>5</th>\n",
       "      <td>42542</td>\n",
       "      <td>Backport PR #42539 on branch 1.3.x (Revert \"CI...</td>\n",
       "      <td>[{'id': 48070600, 'node_id': 'MDU6TGFiZWw0ODA3...</td>\n",
       "      <td>open</td>\n",
       "    </tr>\n",
       "    <tr>\n",
       "      <th>6</th>\n",
       "      <td>42540</td>\n",
       "      <td>DOC: `pandas.json_normalize` missing from API ...</td>\n",
       "      <td>[{'id': 134699, 'node_id': 'MDU6TGFiZWwxMzQ2OT...</td>\n",
       "      <td>open</td>\n",
       "    </tr>\n",
       "    <tr>\n",
       "      <th>7</th>\n",
       "      <td>42537</td>\n",
       "      <td>BUG: Styler.set_sticky(axis=\"columns\") does no...</td>\n",
       "      <td>[{'id': 76811, 'node_id': 'MDU6TGFiZWw3NjgxMQ=...</td>\n",
       "      <td>open</td>\n",
       "    </tr>\n",
       "    <tr>\n",
       "      <th>8</th>\n",
       "      <td>42536</td>\n",
       "      <td>BUG: merge outer join drops rows with NaN date...</td>\n",
       "      <td>[{'id': 76811, 'node_id': 'MDU6TGFiZWw3NjgxMQ=...</td>\n",
       "      <td>open</td>\n",
       "    </tr>\n",
       "    <tr>\n",
       "      <th>9</th>\n",
       "      <td>42535</td>\n",
       "      <td>BUG: - xlsx file not supported</td>\n",
       "      <td>[{'id': 76811, 'node_id': 'MDU6TGFiZWw3NjgxMQ=...</td>\n",
       "      <td>open</td>\n",
       "    </tr>\n",
       "    <tr>\n",
       "      <th>10</th>\n",
       "      <td>42534</td>\n",
       "      <td>TYP: Series.name is Hashable - should it be str?</td>\n",
       "      <td>[{'id': 76811, 'node_id': 'MDU6TGFiZWw3NjgxMQ=...</td>\n",
       "      <td>open</td>\n",
       "    </tr>\n",
       "    <tr>\n",
       "      <th>11</th>\n",
       "      <td>42533</td>\n",
       "      <td>ENH: Enhance printing options for stylized Dat...</td>\n",
       "      <td>[{'id': 76812, 'node_id': 'MDU6TGFiZWw3NjgxMg=...</td>\n",
       "      <td>open</td>\n",
       "    </tr>\n",
       "    <tr>\n",
       "      <th>12</th>\n",
       "      <td>42530</td>\n",
       "      <td>BUG: `KeyError` when assigning to Series value...</td>\n",
       "      <td>[{'id': 76811, 'node_id': 'MDU6TGFiZWw3NjgxMQ=...</td>\n",
       "      <td>open</td>\n",
       "    </tr>\n",
       "    <tr>\n",
       "      <th>13</th>\n",
       "      <td>42522</td>\n",
       "      <td>BLD: Bump ManyLinux</td>\n",
       "      <td>[{'id': 129350, 'node_id': 'MDU6TGFiZWwxMjkzNT...</td>\n",
       "      <td>open</td>\n",
       "    </tr>\n",
       "    <tr>\n",
       "      <th>14</th>\n",
       "      <td>42520</td>\n",
       "      <td>DOC: Add user_guide examples and docstring exa...</td>\n",
       "      <td>[{'id': 134699, 'node_id': 'MDU6TGFiZWwxMzQ2OT...</td>\n",
       "      <td>open</td>\n",
       "    </tr>\n",
       "    <tr>\n",
       "      <th>15</th>\n",
       "      <td>42518</td>\n",
       "      <td>WIP: try to debug segfault related issue</td>\n",
       "      <td>[]</td>\n",
       "      <td>open</td>\n",
       "    </tr>\n",
       "    <tr>\n",
       "      <th>16</th>\n",
       "      <td>42514</td>\n",
       "      <td>QST: is both an index level and a column label...</td>\n",
       "      <td>[{'id': 2365504893, 'node_id': 'MDU6TGFiZWwyMz...</td>\n",
       "      <td>open</td>\n",
       "    </tr>\n",
       "    <tr>\n",
       "      <th>17</th>\n",
       "      <td>42512</td>\n",
       "      <td>BUG: ArrayManager changes Series.to_frame() fr...</td>\n",
       "      <td>[{'id': 3165546917, 'node_id': 'MDU6TGFiZWwzMT...</td>\n",
       "      <td>open</td>\n",
       "    </tr>\n",
       "    <tr>\n",
       "      <th>18</th>\n",
       "      <td>42509</td>\n",
       "      <td>ENH: PyPy Support</td>\n",
       "      <td>[{'id': 129350, 'node_id': 'MDU6TGFiZWwxMjkzNT...</td>\n",
       "      <td>open</td>\n",
       "    </tr>\n",
       "    <tr>\n",
       "      <th>19</th>\n",
       "      <td>42508</td>\n",
       "      <td>BUG: Read excel bug dtype</td>\n",
       "      <td>[{'id': 76811, 'node_id': 'MDU6TGFiZWw3NjgxMQ=...</td>\n",
       "      <td>open</td>\n",
       "    </tr>\n",
       "    <tr>\n",
       "      <th>20</th>\n",
       "      <td>42506</td>\n",
       "      <td>BUG:</td>\n",
       "      <td>[{'id': 76811, 'node_id': 'MDU6TGFiZWw3NjgxMQ=...</td>\n",
       "      <td>open</td>\n",
       "    </tr>\n",
       "    <tr>\n",
       "      <th>21</th>\n",
       "      <td>42505</td>\n",
       "      <td>BUG: Regression - AmbiguousTimeError creating ...</td>\n",
       "      <td>[{'id': 1465286368, 'node_id': 'MDU6TGFiZWwxND...</td>\n",
       "      <td>open</td>\n",
       "    </tr>\n",
       "    <tr>\n",
       "      <th>22</th>\n",
       "      <td>42503</td>\n",
       "      <td>ENH - Improved error message for interpolating...</td>\n",
       "      <td>[]</td>\n",
       "      <td>open</td>\n",
       "    </tr>\n",
       "    <tr>\n",
       "      <th>23</th>\n",
       "      <td>42501</td>\n",
       "      <td>BUG: extraneous copy of extension arrays in v1...</td>\n",
       "      <td>[{'id': 2085877452, 'node_id': 'MDU6TGFiZWwyMD...</td>\n",
       "      <td>open</td>\n",
       "    </tr>\n",
       "    <tr>\n",
       "      <th>24</th>\n",
       "      <td>42499</td>\n",
       "      <td>ENH: Pandas ewm with fixed window / offset</td>\n",
       "      <td>[{'id': 76812, 'node_id': 'MDU6TGFiZWw3NjgxMg=...</td>\n",
       "      <td>open</td>\n",
       "    </tr>\n",
       "    <tr>\n",
       "      <th>25</th>\n",
       "      <td>42497</td>\n",
       "      <td>BUG: Unable to multi column \"complex\" dates (f...</td>\n",
       "      <td>[{'id': 76811, 'node_id': 'MDU6TGFiZWw3NjgxMQ=...</td>\n",
       "      <td>open</td>\n",
       "    </tr>\n",
       "    <tr>\n",
       "      <th>26</th>\n",
       "      <td>42495</td>\n",
       "      <td>Omerdan03 bug pd.series.rename #42481</td>\n",
       "      <td>[{'id': 76811, 'node_id': 'MDU6TGFiZWw3NjgxMQ=...</td>\n",
       "      <td>open</td>\n",
       "    </tr>\n",
       "    <tr>\n",
       "      <th>27</th>\n",
       "      <td>42494</td>\n",
       "      <td>Improved docstring for `to_datetime`</td>\n",
       "      <td>[{'id': 134699, 'node_id': 'MDU6TGFiZWwxMzQ2OT...</td>\n",
       "      <td>open</td>\n",
       "    </tr>\n",
       "    <tr>\n",
       "      <th>28</th>\n",
       "      <td>42492</td>\n",
       "      <td>DOC: Add updated docstring for examples of `by...</td>\n",
       "      <td>[{'id': 134699, 'node_id': 'MDU6TGFiZWwxMzQ2OT...</td>\n",
       "      <td>open</td>\n",
       "    </tr>\n",
       "    <tr>\n",
       "      <th>29</th>\n",
       "      <td>42485</td>\n",
       "      <td>REF: implement Index._get_indexer_strict</td>\n",
       "      <td>[{'id': 2822098, 'node_id': 'MDU6TGFiZWwyODIyM...</td>\n",
       "      <td>open</td>\n",
       "    </tr>\n",
       "  </tbody>\n",
       "</table>\n",
       "</div>"
      ],
      "text/plain": [
       "    number                                              title  \\\n",
       "0    42548  Backport PR #42541 on branch 1.3.x (REGR: conc...   \n",
       "1    42547   ENH: count should be integer type in .describe()   \n",
       "2    42546                       CLN: clean sqlalchemy import   \n",
       "3    42545  API: `ExtensionArray.isin` treatment of missin...   \n",
       "4    42544               Make components of Suffixes Optional   \n",
       "5    42542  Backport PR #42539 on branch 1.3.x (Revert \"CI...   \n",
       "6    42540  DOC: `pandas.json_normalize` missing from API ...   \n",
       "7    42537  BUG: Styler.set_sticky(axis=\"columns\") does no...   \n",
       "8    42536  BUG: merge outer join drops rows with NaN date...   \n",
       "9    42535                    BUG: - xlsx file not supported    \n",
       "10   42534   TYP: Series.name is Hashable - should it be str?   \n",
       "11   42533  ENH: Enhance printing options for stylized Dat...   \n",
       "12   42530  BUG: `KeyError` when assigning to Series value...   \n",
       "13   42522                                BLD: Bump ManyLinux   \n",
       "14   42520  DOC: Add user_guide examples and docstring exa...   \n",
       "15   42518           WIP: try to debug segfault related issue   \n",
       "16   42514  QST: is both an index level and a column label...   \n",
       "17   42512  BUG: ArrayManager changes Series.to_frame() fr...   \n",
       "18   42509                                  ENH: PyPy Support   \n",
       "19   42508                          BUG: Read excel bug dtype   \n",
       "20   42506                                               BUG:   \n",
       "21   42505  BUG: Regression - AmbiguousTimeError creating ...   \n",
       "22   42503  ENH - Improved error message for interpolating...   \n",
       "23   42501  BUG: extraneous copy of extension arrays in v1...   \n",
       "24   42499         ENH: Pandas ewm with fixed window / offset   \n",
       "25   42497  BUG: Unable to multi column \"complex\" dates (f...   \n",
       "26   42495              Omerdan03 bug pd.series.rename #42481   \n",
       "27   42494               Improved docstring for `to_datetime`   \n",
       "28   42492  DOC: Add updated docstring for examples of `by...   \n",
       "29   42485           REF: implement Index._get_indexer_strict   \n",
       "\n",
       "                                               labels state  \n",
       "0   [{'id': 31404521, 'node_id': 'MDU6TGFiZWwzMTQw...  open  \n",
       "1   [{'id': 76812, 'node_id': 'MDU6TGFiZWw3NjgxMg=...  open  \n",
       "2                                                  []  open  \n",
       "3   [{'id': 1741841389, 'node_id': 'MDU6TGFiZWwxNz...  open  \n",
       "4                                                  []  open  \n",
       "5   [{'id': 48070600, 'node_id': 'MDU6TGFiZWw0ODA3...  open  \n",
       "6   [{'id': 134699, 'node_id': 'MDU6TGFiZWwxMzQ2OT...  open  \n",
       "7   [{'id': 76811, 'node_id': 'MDU6TGFiZWw3NjgxMQ=...  open  \n",
       "8   [{'id': 76811, 'node_id': 'MDU6TGFiZWw3NjgxMQ=...  open  \n",
       "9   [{'id': 76811, 'node_id': 'MDU6TGFiZWw3NjgxMQ=...  open  \n",
       "10  [{'id': 76811, 'node_id': 'MDU6TGFiZWw3NjgxMQ=...  open  \n",
       "11  [{'id': 76812, 'node_id': 'MDU6TGFiZWw3NjgxMg=...  open  \n",
       "12  [{'id': 76811, 'node_id': 'MDU6TGFiZWw3NjgxMQ=...  open  \n",
       "13  [{'id': 129350, 'node_id': 'MDU6TGFiZWwxMjkzNT...  open  \n",
       "14  [{'id': 134699, 'node_id': 'MDU6TGFiZWwxMzQ2OT...  open  \n",
       "15                                                 []  open  \n",
       "16  [{'id': 2365504893, 'node_id': 'MDU6TGFiZWwyMz...  open  \n",
       "17  [{'id': 3165546917, 'node_id': 'MDU6TGFiZWwzMT...  open  \n",
       "18  [{'id': 129350, 'node_id': 'MDU6TGFiZWwxMjkzNT...  open  \n",
       "19  [{'id': 76811, 'node_id': 'MDU6TGFiZWw3NjgxMQ=...  open  \n",
       "20  [{'id': 76811, 'node_id': 'MDU6TGFiZWw3NjgxMQ=...  open  \n",
       "21  [{'id': 1465286368, 'node_id': 'MDU6TGFiZWwxND...  open  \n",
       "22                                                 []  open  \n",
       "23  [{'id': 2085877452, 'node_id': 'MDU6TGFiZWwyMD...  open  \n",
       "24  [{'id': 76812, 'node_id': 'MDU6TGFiZWw3NjgxMg=...  open  \n",
       "25  [{'id': 76811, 'node_id': 'MDU6TGFiZWw3NjgxMQ=...  open  \n",
       "26  [{'id': 76811, 'node_id': 'MDU6TGFiZWw3NjgxMQ=...  open  \n",
       "27  [{'id': 134699, 'node_id': 'MDU6TGFiZWwxMzQ2OT...  open  \n",
       "28  [{'id': 134699, 'node_id': 'MDU6TGFiZWwxMzQ2OT...  open  \n",
       "29  [{'id': 2822098, 'node_id': 'MDU6TGFiZWwyODIyM...  open  "
      ]
     },
     "execution_count": 8,
     "metadata": {},
     "output_type": "execute_result"
    }
   ],
   "source": [
    "issues = pd.DataFrame(data, columns=['number', 'title',\n",
    "                                     'labels', 'state'])\n",
    "issues"
   ]
  }
 ],
 "metadata": {
  "kernelspec": {
   "display_name": "Python 3",
   "language": "python",
   "name": "python3"
  },
  "language_info": {
   "codemirror_mode": {
    "name": "ipython",
    "version": 3
   },
   "file_extension": ".py",
   "mimetype": "text/x-python",
   "name": "python",
   "nbconvert_exporter": "python",
   "pygments_lexer": "ipython3",
   "version": "3.8.10"
  }
 },
 "nbformat": 4,
 "nbformat_minor": 5
}
                                                                                                                                                                                                                                                                                                                                                                                                                                                                                                                                                                                                                                                                                                                                                                                                                                                                                                                                                                                                                                                                                                                                                                      xT��B��ҭ������ I�ClSnh�pjo�L�*P�?����<k��{��7�����2��n���������������������o=��-^��l�Y/����0�'�����ᛲ����[����lJ]S0R�n�<��?�m}Z<<,�Z��avx��u���q;X.�e��w�u:^/�N��v���_O�t{���u���+}r�0�:_^��Tzr�=�n�/�Թ��l:�s_��doo{��b�t[�tgo�j��_�dw���N��Ke����������N���v�i�n����Lv��ӭ��˝���z�z^?=x�&��ݝ���J���l��������ef��������ړ=���v<v�N�w��_�]>xt���5,��1�%�R̀'۳=O?�;�����4�O��ݝí��Nw��ޮ_����d{w���%#;�ޙm�C����P��N����#�F7}��7�:���oo�"��������j�rLv�!�L���l��a��`z�Ћ����)lo���~Z���g��S���p��,�JU�C�4z��r�O�����[���Q��/��܍�������\����.��1~�߻�����ny���&�ٜ2ս���CI�,.�O�+���e��ތ��B�_�ӽ�!�h]�&��̫{�����uɆx��v� ��9�>�R[F6�\��2�O���}�0M%�;̾W)T�s��j�X/��;�4��M��Bg�����=[���vv�[Wlf��o{��n}Z��y�k[��I��	+�Z}�Ƞ�}jx�[i��l�A��ŝ�aG�
/��
+�����Q�!�����v<S�|�13�ś�j�g�{[��0����U�W�o��X�`g��w4��� ��9;�@{��Ҍ5��<bO�*��+z��V��B5o����/��]��Yer�uy3�r@'l!ѥgd6�_j
�#��q��׋'�#�����v؋���ٔ��S�l�b�d�f����xg1�m�%Dl. ]��F�!6x�:0=��?-�a����T��Z�����,�� >-^97�����gg��{���ʹ�����f�Sv+}Z����{{^���=�Dq���ť
�ݟ���`��7����7�t�a��CLwY�y��/�c:���bֿ�-��;�e��S�=�y��qZ�4�R�E(�]��ζ�-��Er�B�Drr�\6��X���O��3k���Fֵ�m&��5N�?B��� �i%3��Ix��p:���$�Y�M�ΦS������O��>V�W�k�k~'4�iU[t:��r>]g�۬�%ױ� �-���h��i���wp�ϙ-\g�&����{�rr��h'�S��K�ˈ*tS�k�49��u�~�������bm�������19؝�u��ؤ��[or�)��]��ɼ����=��� �ǻE��D��z~��tͶq+>�9#�g�Gh�����,yG9���l�^|���u�\;�m<s�z��Uo���3�.&���w+��Z��ގwķ3��<W2Ll��<���,� ����������,Qō�r&1[3v!�+ĒE	B����|i�K{l��2|i�.��eSq4� �0���k��D{�
�1+��������k�\A'��];�?�^<�;�C^�Ԯ'����5�N��d�!��1�r<�X)$G���d�?��ˌ&��&u�pm��}��Lk*yyy�e�1����4�읙�d�z[��ΐ��,�?�����D��붦����O��k�"}�7���3��Q��Qa�ܔ�����T�pXK�4��;<�����*�c������y�Pc�_jraԜ��4�}U|2�\8�ji���ɔ=q6�V<z2��ِ��3$��*>�X_/�-t�N��^¤����tX�Ĵ��2���>�{���tx�&�>�2�(TG�쓃�^	����ϒ^&��y-��ۋ�d0�=��0��]�ID�й�Vr?'�+�p�OdvAx�N/��4��|��&��p�<��l�Sa�u�Z�tے?������f����>��{F�!���}�ғ{"����*�I�밴mh���1A.W?"a�EDbpu��+d��3��2�&�`Lq&`�aq��-����qms@�E��ޮ��%���w�T}�0��}�����v�����6��j��|��{�&rxZ�v�(΂�zt�d�n����b�fH��V�L��)�l���,���(��=:d?^��-R�+�ȡ�>�-#g��\��$�CIE�L��N͜���<�]/bI��(�n�<�uU�v�3W;Ԕ=��[;F#�:~,U���)�@G����f���B�w����ъ:Fbt'�����G�C+�P��oѹ��$W^H�Q�V?\��9+�V��d��,�r�p��[f?� p =�������"�+D�&�l~�}������q6��	�w����� ڄ�}|�֏���;퇶PG�[���섡-*���SIlP��w*���
Ȫ }&�Dڸ|��\��Q�y�W����H2�@(�E�BC��6�������k��=L3:8�.�ϙ�~Iq�P�B.�x6��g�߰<5��VEH�����s�xʘR��du�����$��� �b��T�3�(�&G���	���>R�[��t��n���џ��A��kz��p�*�x�<�6�{6a��Y%�D�4�:�BH���w
C���C����W#=X�_����`|��*�&��ss�}ؗl,fm����P�{#c=.}�틳C�n��1��9ܾ��G���:��i1�}�-����L�CU����ۆV,�/Vל��9%=<�8�����Ԩ(��~?e�F+v5�(��P�m��f��}� �b�����O�G��S��ȵ���ɗ������X¸B��]����,�Cc�<]<����Ơ��C-<�<J>�<�q�A~:������"�頊=h.�Ag����W1X�G6��Dژ�$�$f�S`y��dƸ�s/*�ػ�U9h��`i�w�IL��V��ӭdOĢA����Κ���U� ��E"J��2w�� �Q|�CS�[>��H1�3�=��bh���ӗ6��rZ��,��b�$��p�Jc5����8��;��4�+uB�{�U����A��)Iƕ�0rt
'�4�}����y�39[Lʄ͘��ꥦZ�l�IS��}V�N����+%RK�ll��]�Sf,��Q�u��.��Aefe��i�����1FK�iI������X�Զ�Ӈ�����t���L\���3{~gΰ.�A�C��F؂�&̆0Tpuq�j����Ղ3"ls�ږ�Y���<3��p�]D��Лg�#U��ʒ��0Zu���f��=��	��Q���&d���P�.��7�W檃�5�{>!s ���v��C0M!������;�{��tz�'�d�b��O�]X�1r����F[�@ٗ�P4��v�c�b��l���md��9��H�_�]���l��{V�]�Q�l;ȤX�<�ı�k$�ճ�[���1����3nF+���!�
�	ͪO;���1��P��\0�R��K�p��P�r�.��҇��r(G�!P��ȜX�a������{x�0جq�������3�0OɎ�fHP�����k�9�w�^󓝘�Se\+��q�����)ڃ��}�Y	�:��?d#��+�b�gkz9}4|O 獭f��4����έ�۠�$��3ؒIsI{��j��圻��?�5����(�D��|�t�H�B�h�d��Xe�t WQev 9��zSC�S��
;\6�*_�3�7^���O�dV��c�#�t���l�o?ˑ%?�-��M���P<�޶ƹ#>E�����A�C$��y�e�Z�	lD�R�1.s��NV�4�;����{M�� k�A`0� ������+�Ѝ��s��.���z���K��Z��(ZKE�4����{ٟK&O#0?� ���h�Cx`�P���H�n�E�� ��D���
�Q���Z`���'�W�A� �S�61pګ(S��k�/@JL1Z\}�ꉒ)N�v��K�Z����Y�T�|���4�Pk��+a{���yԤ��k8�+�@��H�H��=�ݼ-IY�?��7|�O+�3q�ZM�R��7O�Lf��h��]��IM�I��6��ޤ��DBz�Gz�������;	�sF�6��3���P�3��:�fH��� qMYr�(3�����읓w�Q�yaR�|>�Y�f��F?Cܐ(�I@��4�J>��!ï�>0�%(�ĕ9jˈ��a7bV��/X��g�,R`s���9J!}gq&�N�E�3�ҝf��:cSy�$�Z���"���>�f1����K��D#���x� ��pC���x�w8�1���:����2�;V��{�+�k�eͽ$��	�c�'ץ'�@u|��S	���[#���P/K��R��NRg⮔���Ar�4����<��`��X�|�6�j^��}�sg�����J���f���u�`���A�Y�V����u�F�r�G���4N�W��"�4��H���gEh�xl�	s��^}\���}��)�$��9Tf(?bTn���t����c��V�i�l`|>�ݢ(;�����ݣ�E���J�yoyL��o��u&�I�COTRi�V�g�{�ԛ��_��:��.�pUx�O6��8�a�zd�j[e�t�ƣ��1EN�G�>�֝�{����|�S�t	��U�@ٴBI�4������74EkBD�i�u���w�Su NQ-٦��ݩ8�	�p%me��p,G
�#����fq9U��н�('�B�u
&2��dgK��c���
�ތ �6� "
t&c<EV�������$�=Ep�|�X�6��g��:S���?J�D}�b�=�l�"�9YaPkky��j��~At����O���� G��ZR�9V��9�&�z�x#�Nu¥�E����^{�t&b�pt0faEl��[��)���NN@�(�A�׹Q�#�>'�<�w-TLu�"i�=`k�G�S�H,ޣ��q����n:!�"z����w�o/�R^J@�x�s8MI��v����"�!�-۶6�|��:��1=ր޽�¦��ٚ�7���^u�3�+�
�����L%���bP�R�)"��W���s�H"ȸ腝.�T����Q|��9K��!�`�0"v��b�B��� B��l0���_SR�2I�X�Z��J� �$	�;��&M%-��l�߇�+{��{lKJy��_��R1*��tǬx��;-}�xD0�8�:D���SE��'�W���AE��=�Q'�[��`b7��zR1��(�v%k-���A:�����Omq�"�H$`a<lЋM �R/��t
[=�+[ q���]�u�U��yC�[�Gm�"�؄�|.󒟕�q�X"��7�GB�k���d�~Ң
6���7%�YW���̢,H��6	S$�wx�\����]W�bR;*Z��rD����aj"��U�Qj���������7���"*3G���iFZ�(fj,;P!u50Q[m|�6f�J���u����/)�e�jU�C����L�������icnh�@�����K^*�G�LxT�D�1�>eٷc���A~�ْ6�1ɏ��O#��܆2A~#>��R�'{�k�	G2��!��C_�`r�b�!ț�8�{(_8[��~�v��1y��ϗ<�,V<�H��!p�a� �;�s�%�(�*c"�~���L���@+���b��H ���
��m��HJ�W¢���LQ^)J}^��d����<S^��D�%	k`��2K�Ỗ�f��W�(��$�	�f$�E%D����M����tk������.lM^�6��L��3��U5�~6�D��(��aMd�*rH��br�쁁�f����Ϳ�hLJ]�4��H;b2	��bO�����ɥ�����CЇ{8�=	�|E_�J"?3[�S��$v�T���I��1_1r��
�Ap%h��!��a�� ���B�4w�mS W_uJe�`'�~.���F[mn�&�}l�+�}�%M�@����DΜ���ӗ���KH����m��$2P@�sc/	\���u�vҗ�!�	��Φ��e�Q�^���4�N�Bl��Iܡ���!�P��mh�lh�+���=����~`�j�V��0\n+0%�
aE%���|�]֨zA�k%!��-�sTȗ��u:�a�r/+.R��t�q�ɑN�ޠ4o�0��N�>��X�0Y"+=��;����}�ڐ�i/=n���iƣ9��f%'Op��fnn�3lb"�H����ދ�K&&3��,�OE���u��v�-��mt�����wzhP�M�0E��MЧ��Q?��J	PP�F0+�<��ѻ�-�I@恣5P�ёc����SD�aQ�
��<a���>	d�?���+"�LkE�F`��D��B$B7C�tJys`w:�"�>4O�l�\Hq�R7p)G�~��7���$��YXD�w�V|c�O�E����?nFI���|2�Iy��I�l1�3A���5�˻d��P���2�;��ұ9+~OA��	&Cw/b,XE��].;xP�͓�F��M_�~Q6
�w)��
ej���B�u�r�:	�"�9
�!c�$��f6��c�Lh���QBo�$I0�-#���M]� �\_�R��2b�y�� �B#ս��(��gL	�iH�β���Q��ʢ(���u�NP���T�+�3��Q2�C�mf! EP�g��`��g��L�,�,���Ue3E��@i�)� 5��A��äC2*��Vx,jy��3�玜h<Enh���ٻ���MԤ`�o��zcvd�Z���$U����
O?l�D���픣oPe� ������]�N5`��z�gD��\��s$���;�s0���u��M�4���Ldn.�r��?a$a��;z �ؙt���j9�2!E(�(dgS�H�(�jeN	RzJ��`s8�>�}�}�>"���X#V��_�)m,�;Ib��Bʠ��mn&�]�h�l����!A��V��5׉Nv�tM���U��-�
"S���}&���?.%"�|�xUa�G�/B� ��Bl�H��SF�m��r�b-���Ið����Oܟ�^3�"�5��?u� :\�Xa!�B-��t�[dU��05���'S��C�#�"m"�I�3w�����&��f��1#�N�J��G/mYklV!]F�,�`(�\I�Y#h�� G���^��c�G�,W�wӶ��G3!OJiC�������B��	3�2u0s!|��{���Յ�@�!����W�m��|�;��.R��\P���C�_ Yjƫ�<"�aP��q���:@�jn03��\��}?2r�1�R�"X�"�tQ�	8w}�i�dK
��t�T�����]b��AK��:F�A�an�T�\�(P�Y���Y��3b�~�K/��#�8��#B!N[(&�q�{�8����6ܕ�p;��b�+��ljU9�;w'��%*JA��?&'(�e#M��}u/��y-�8�(ObnIfԠ��Z�'���PNQ��z���qr�r���+�Qp{;C
���*���P�����&��1V+�����d��ax��>t.L�5PI�^r�v�.�^�Β�Igi��qP�R�>ػ��枷U��uͰĎ���!��B(�l+Jjsc�5(W4��D��/��S�)�{�r�ܱ��a�Į�ɕE_�y���}p�ZHP�fPH�p�4�x7�%b�|��O5�~���KE��J՛qj�PM�Z�"��_�U]�Rt}�"2X�Ɩ�/��tz�|.9I���L�C����H�5!�nN1�1�O��~�����z�,Ftt�B�P�\ ��a���3<I��-�aF�1����7� ���J�F���&+���2L)�l��$ߛK��*�ހ1置`l��g�U�s>X'��9�-ƓÅ$Z<9�٦�xV�/��(��>3�I!v�-Ou](��-�}��Bl0.�L��_umH�>p�ե$0(R����r�T�T�#_[�d�����ԑ�%N��k��l\]�E#�m���[�`:j�jUM�T�������u�h1��̍ξM�$�!���L�����L��h(�:2��>�X�S�	2�ROt ٭�	S��ͯop�x$"	��A�x�MaԺ�^���F��
#"l�,^�ȡ���ֿ�+��T�m�"1����.�bx�N
��$�7/��
��2uJu��ss�?�sԮ�+����~f�s}Dq�imF��FNW�q0�C��R�Lg#01΁\�J���z��=B�A�I?�TSN)��!�u."�l2��h$1�E#�?t"j���&(�c�;�$�$Auڐ �^3**G�������si��_`�Y5n$���{�\�8�����k��n^6���%��h87'`:��I�I�j��y�(��DőfF�[/q��n�B0��L%���Q�	���l�!�'��;,�p�����o����9ߏ�%�c�O����h�/w�"Qi���a!l�	�uT�h����y�+�?��RR$��D�^V5�Թ"-	��Ñ�[ϙ\��&Q��A�eɤ��l4'B�\0���	�e�LX���ɂFZ�d�m��v;	0Ϛ9.�-B- Gctxy$�C�}p$�n�4XYq������XR�ZdU�Lr��K�.�P��E�KoM�R��n=��!����EB���~��?�E��B�vU��%�ll	��q��~����}�3������l(����{nz"�rU�C��4#��g�s�ۃ�>��&����Pqp������YoC�� �
�뛙�de�:m
�]�N8b�k���*^F���{�(����	J\Q��-�eR�/s�IgU���㝥-�i'�%�킌�!����r��oB��ԁF�0^� UU]]����
�COէc�A1)!����4vL-��[��bVڕ��3_���g��U��0�CNF.�p��<�^�V�@��j-�DP��옹���l��bS&B�'�J#xu1{�.�㍄��i>�q�| �!B)�j��vc��� 	�	6Q�_��}�,��ځ�ة?�GK1|ǌW61��;{��Y�GYS��u��]�R�|�����U�0���D����>K;��.^��3W{� \�g<���N�8�,bLE�~��$��Nb�IFN7�줫�����2:4�~�D�X��W����4	�+�Z����zA�����D�4�Yk��Q��@J��"��N�`O��d-��TET����g!�w+��0��@���9|�~����]�� �p-�b.��ǤU�N%�e�~5f>!g�5���/v|l=jC{��ŧ"�ᣖn�WAb�M��$��ǳzFuJ�"w��7��[_aD�"�A��u�BħY�����)|<�	��z��ld�Q�i�ت�p$|F|��X�y*�qYd��LG�B�Jr!� �(�UJoi�G�j�t�R0�x����4�4&�a��=Fy�Ċ���K�{+�|?�s3'IҪҲ��`�5�Q��(��8y<D0��*ʞ�t�0��WY��Y�'�_�#]�Vce��D�Ej
��(�	,ˏ�(��_zY߬1��]C�	kwG�Ȝ��NBv��T��[�]]�-�`���#<Y9��8��[�I���=R^� erB؛-v��V�b���7+1D��^`��y�%��������"��-�0�ˋ��9B<W�n�R��q��r합�`mO�A'��y���|ӊ"ɣe��1-̇�	�-��l>�d��rz�]��ތ��TB&�_b��'Er�q����
U%��>uU>����|529kk�e,>#��w��Ɓ�I�&v_Z)<#2����+�~$|�� ���/�^��a�R�=%�~���СCl����8�t�#�W���|����/���:]p���O��ҶN�w)�~��)hkn�G��sH�k�o��$���UnIsV~��Q����@�T98 �F�',%�����ʎ!R)�	��5��r�a��B~��m��Cl�OQ`JB�"9�uȥ���s�ɷ~_60[0ۄ<+/��UȌY+������$�Q�DE��\uE����5K���@1��|�Ů�/6r$����F�8R֎4�6�� ���3"d�9�:�\�5:�z6����ْ'�t-��JBW���A��u��-[�é���z�tM�����k�VV�c�"᷹��X��_J>Rv��S��d:e��dg��)�w���J�����Q��"y�幍M��-Ty��G7�%���9����aT��0��/�
 �̳�^a�U
�ik1�`�5ȭY͊���)�_5�97[������2�h��U޳�C����*0D2��p���mq�4b?�|_,mz �o�kf��"z0�iS��n��U�܎$D����:A������G_�c�gj|@Z��+j2���Jg"��ͩ����3 +؀2�������n�胠\���~Q����� ����:� Ԭ���E�WB뢓����';�{�d�W�8XV�^�F���kX��ҩ3��:u��{۾|�����d�1�*��Ti��-?��=|��铌6Pc��?�?/�2��u�hd��"��.G�s���U�y�?� �b������7�|p;(��0^҄���H�Q�S*�.g��,-L�'�H���@k]�n�e �~QRj+��i�R��hJ_��/�#���WG�}�ql�qyA}�
�BP�#Y�<a���4�=���cd�	_Q��rm�,�3E<D+o��)r��������<kn岢/���y����W��֨nu�v���JR$xW+��/��_�/��,ǝC��&|����R�Xq��j�=�Q����2���C�Ȳ/q���-Dr%Ii���+�����?	���xJ^H/xt��D��PD�xG��	��W��'87RH[�֟�.�ũ[*7<��l���P9�)��@��!7y�sٌ��}؝@��]�6?*��{�Ҳ�$��t�2�}���d�\��E�ҁ��=&Rr�-4���%�ר�_8�sN�����I�o�QYd�;�m܀t�����7� �����9�[9ӫ�ٲ�C�"�]U)'xj����2�î�Q�FI��c*��$h`������%���d�%~���}�D�D�N\\d!|5*6cdO�\��3�AUG>�=���C�����IJ�%�c{&�k��20цI X���᱌�B�2�%7���(_�?�V���Ȣ��M+��C�
SL;�s%��c�P�+�@g`.����J��"V
Y��W������S��'i���`ѧo�w+�;߹�D�Պ����w:����s�	�/~�w?�J%LH�j��،<궧J�E��ԃ��|4 R�2:��N|�eL�ΰ�a���������UB?6��&<�r�2١@�5?��9aȄ/��@�]11`dQ�E8�Ă!�y: ����S�h���Vt+���G��G����]�	,ĳ&�BҾ��G�S)7��잒����#|����s�:����#�R��^������=��?c�2���6QHJ�y�]�� 4��� �D.���Hi�|�N�j���G/#/��y��#���s,[���N�|�N4Ir/��)�W��m?���`ެHI�E�HBB 0�*]��
�
�P|z��K��x	I��l����]ǓS�kX�o-���C�#kU����=޶�hhi��vV)��U��{��G]h��X_5��]��:;������J�a�T�l͔,�g9��j���$
��<D�z4@6	�"ۯl!��!T�K��U^�q��3��RuVT�-E�K96�I]���nV�Wmo#����3�w��E���g�Sm=׽��Tl�!����&�)&O�W�(UF*��X���FX�ʙ`pR8Bo��
q��	�9V�v���#�Ƿз�1G,�8�"\�_�a�w)E�P�Yr}uU��j�x�������o�E%N#f�����f%J~Cԉ���񫪐d��-����,a��,�{���Wk*s�5�!���HA6��Ѓ�3���hŷ�Qaa�BC�!a�������p�E���d�u��`�����:�c$��m]�kwV�F��G�PoTY� ����#r�1e��ŗʘ�$ZX�ME8�(L�)<+lF&��S��DֺK<˙i��rdmp"�c�)8�R���֟���X�W�&���z
��(؆1p�g�~5��<Dy��N7�:����= ����qfN��������V�VQ��I��j�F|���ind��`��Bl ���(H/��!Z�\��j�e���ǅԠ�L|Y�~����l�H`�� oyy$���>�5r���f��7�6=.����Y%2���i�Hj�h����� �H4�"�0j��rfu@n�tNԒ�� �����N�XB�H�̹�w���b1�*�z�@%R؜=�# $�U�iSZ#�U���6�&�+&�*���`��;D㉓�K���,)ǒ9H�ު���~))���6�b�����r�w/Hק	&+*��E�i@����+8�c�b�h���I���K�#Tk�C]��ˮh#I���v������&|'An���4�=�2�u��x�c��W���B�~SV��"3I��ߤ��",�� �K�+RQ��ytU�'�\���-檇y�u2�k������4|�ȃ����O���߿�!.��A�g�o��)E�2D�����BF��+p9��q1��
Y�
�Y��t���L�"�έ�J��ݢ�i2���"��W�I�&�	��s+.�2#O㠖��<Xl�E��}\	z�ء��e�l��e�f@^<~��.�_В9%�^mS��~�Y����lz�a�Ŝ��th���<�jD�g�X�=�Qݺo.59	Ag�z	�4h;���h�M	�>Vu9`�8�<Ϟ������Q���%�.�C���E����5��L6m�Z\�>�����fI��h�a�5ˮ�%� 7%0���&�yU���_tԖt L�S0��FH��mq��6k��!�:��z���Vi*u��ē�d�+��U�.$�n�Ǚh��J�*�$��&���)�S�R�e�� "��۔��)}g��5If
�)��iM�.wdp�?h1T'��
 ���RU�.b�cq|`J��2-�8� -'Ж��B]�<;�+��7s�7�y;;���}�� ;@�MH[z�c�T��R,m�Vr��P�6��)�@<wU���I���δ���&q��'.����������i=���%"`lI9�C%(~��<
���:�t�*)sLnX�\l��qiƔ�ȗ�,B4�ނR/����0e�-�^]uB��3M�ʁ,�V������&��a��4�w�B~j�Zդa5^�
6�n�n���NHo�9�,7!.������p� '� (���)�uF���#�j�^�U�7�:���t�).����J������s]�G���zCe���H1�������~k_ &��ʳ0�ԕX�Ɍ��̼�.��v}��x�ee��M>g��m�T���]��@&��
٤�Wv6L�k�!�fS8��]���@ۧC��oj��y�ԥ���f���?\4��t�5��0��T�s�h�:� p�:u����M���������&h`Z�Ϟn��O�(�3F#��,]@�u������m	��z�蔈�#e1�F_囔�2���WP���$1�عv�biȊf�W+_���]��f����\�Ə���qe��ˠd��g��e���:Ak�BJ=0'uyr�®�XVh;�f���< ���0�@H����=�bi�kmGs�&#�{�����U�D!��Ӄ'���>��!��P�@V���jIk$�@Ƥ[��KJ�B�I(Azw��z�r<WO	���@q������.Iq\=��K���Y� �q�I����e�2O$�қQ ���-���+�|��Q�һ`�(���<Z�R�bX�NH�ed4��F�>����	���|�#����H�I��u�,��/qy��o����tZQ�D�̹���F��UEt�U]�G�N�j['�p�*r�"m��M����Z�ʔ����b���JE%:�L��D���+�j����(%7�'��Cz�&s"X&���J���H�QT8_�dlP�����8�q�:@p�f��������;~&[���=�ٔI���������YU�pYk}����,d��;��	y�%X��|ku�7�OһH񛛽y�Jڪ$_��I��u35�4��r��\�q��s�c�I��}Z$ֲ<}B�0�2-�:n�$�*��, ��@�`�`!�yX�st�?�D���D~�3�m���\^��k�Iw��Z���rT�3�l��yROT(� �~�T�X�JY�;D��c����E�U���s����l.�7![+
�_Lm��bd5�!�ee>�xm��Zԟ���n��L���ճfS���W��ӾCJ�<P�wΦ+9F�q$��uZ��|�*/�.s���*����c[Fò�$R�z����&^^[�=�pd<�j�� m�&��Np��Ǐ����[��	��j[�2a<�Z�!_k@20��BJ�$��b̫,n�ls�Xv�p������P0���K�"�P߀b#�ϲ�����L��ʅ^oň�����)=�E4������%� ����m!d��^6�R9 N�����Wh�ۗ��5ȼٔfD7V҈�ޯa�߬@)S]IK6n�D,�Ef#O�>��Q\͟Ǌ\�q�pk��|	x �H�/:����9���LÊzZ��`ȩ���B#1K��<��� �'U�MY'ŧ��t���IY��0��.((� 0aH|=!4=��{$�OdFzʖC~������Ѿ~���2uIp˹D
��&]=T�Hs%�� F���%C�߰���gN R�:�is�>�CB��wRdL��q,���d7�&��i�ԃEd� R\.��z����|��#]DZim����x�j�JB��Y�jE�:�#[��;��l�I��]��c�6���;m��0��a�%9�!ේ!�v�f�BFp�*#U1��S8�G�$XT��Lzg�%f}F�ʜ
v 4_����na���E?('[F>�L#�XI��}tS� \n	A�w;�jJdO�͚{gJ>B�k	c���x_��IҖ�]�͜���TDC���ΗMNW�~y�ěOxV�����l�e#���& 5����������߹�����*�S�B��w>�*�����,H�?�&�
�8��_�.V��R���3l��!��ޮqB���#OQx6B5��ܖ��)'X̂���a���e�1O�ZR��r!�*8��n��]=}��)V��`Y��X�@��0s!Oae�6��˟=�H��3|�pX!ܪ�ځ�Dzvlꈠ%�a:����X��A݆<8-T(� ��=����K���#�tP��
��d|>��`Dެ-�Fp�]o/E�v&I���*��a�#%Z[0���}��U�6jR�w0�ءY�|\�&����y��?b)�3���Rt!?p�1���xc�
Q̕bR�P��Y5͂+�T��� �;��׈�������D��^�P)�Z���!;Ze$��������2�k��WH�*��la���mh��`|���j���-�9�SH�Y@fR��?�^�-��^��N��G��el��X���)��=˺
X�
��KB��d[]Wt���0PI¸dgU�P���B_[�¢�ԌN�W�����o���t����]�"������ 4��Jȣـ�_�L.�)�gE9IHY��.��<<�:<	(Ll����Z!���;����4%���%��	eƫ�q�C��1:N�ѐ0B^?=�I��X�I��n�
���5,c-6���e֬�ם��$ʨ���2�H�En� ��c��N�ݡQ�#2�0��JF���gx���aЗ���K�=磗�+��,�	+�^0�RгM�@�B�����m̎2f�!5X�cI��4��S*�:�B�jT�a�)��Rݘ^��	N�ħ�y%M�?�BC�Bj7$d&;^����jB�w�V�?93��L�$ .�(	���C��M,�B̄�~dU�p%KF�,�Ԭ�M@����BD��vF�δ�Udc::%h�رN漲H*&���ǐ$�hC� 61i��fM�$5�5)�b�B�2]��Uz/=�
�㆙�t"�B ������lx�YG.��K_1�^r�,�`����)�d�
-�ć�p=/�5��C��O߂ĪZ�]0�*Τ`]V�}���0!�6�P�N�13 e�T�3��t��߬��1�oO�]����ܴ\�]��]�ct� 
!�K6ͺ0D6?�Q3�g�K|�������.�<$j�E1#^c�k�d�o�����<(��BI���q�\&w���| ʧ�c����T���T5��sA��|g�C��}u���U��$-9���fw�DÕ����e��v�e����	�mf�f��K�q`Q7�E���0�)|XՀ�?r2i텩�����4�"_���	�"�?�&�:�����d�Z\՜'zN�xO�>���'Ձ�ax���+i���ރq%��H���Sӈ"�S��fZy�*�M.�P��!D�;{�j�W�� t��n���;V�Z�Y��Lx�rQ�ϩ�By?)C�g�]�S����o�K�P�68X^���?�f�쭸[� b,���g���g�$ E�V-�_��߯�?D���u�]��%q����LG�xP� Y��IJ�?ō=M`��:~�*	��`��e��L�|��N�g��~"WkS�Y|������:<����>uq��TFe���� E�9�.�p�
uu�m5��X=�H_��"*��=�����3�r�~��~M$tM<�!�v����.��Ԑ񫍕������P�ɖw;����E�b�����<�3�[���Z�ba��<����,�ր�WÀk�@��e���d񚴿���MM`zQ9'��+]\��7���h�˄�En�4r�ǲ��8W#��������Hsc�8KEv���Q$�%�{&�x�@щ�d�
��g�z���@5k�N�u����+��C�c$���Of�S�䎂��3⇫�����
\���H#c��/�$�=�Fn&R/����'#��e j��v�$D�� oΰM6�vM�%w"��Û����y]�D��-��U"�J�@���7y}	��E ��Ov��hd�w}�݈F�B��#�c� ��o��W�!{�(h�~����R�����l�0�:���,$ YG�T�&�Y��W�������%/�=��҄�.fK�F�ݿ�s�	�*L|s5.Iw,'��T�$��SL��a;X����A��L_��te���T�!{�E�,�+���݁W,]R�o�k��7��?qW�v�3%��l��4w()����c�`��QXO%�����)+9@����a��+�`;鵐�CH�Vl�Q�C�~;��2��Y����QxY	n�sہZ�\���a�ž�Z�*ׄ��˶��+�݄���֨�#��Hb$�W����2��7}�
 t�u�F���J�:;E��}98J-�͵Q�@*��:�V�&I�*���a�d���\�$%��64>aoG��t�j��N�ej�	���^E�,e�1��V�PLf�[�{������G�]��v�@d�j���*o��#����%�C�X���Pm��w9>K$������tT�k�=L�F�@��X�6Mpq�U;J��$	�;l���]Kq*����w�݈����wƴ�2:��K��}
d�0��4����ꖃvk���C=���)�т�Tx'����7 jsK���3��E�)4& ��0	�R%������FnϨ.Z��a�0� �m��Yk.�E��j@\f<�7�K�x���kW.�z�1����Y>4qĦp��A�� �JSc��gR��v`|��X�/��ʿO�����J�R{$qnʇY�K JY�Ҕ���
 ��Cy$�dZ�1�Ў���D1�v%�-~\39�*�u�����ұ��\��ӾL�SUI��KC����͢�v�������,��"q������ÁL�<�2�G^��Y��"aUۨe�W��>��T52w��
wf�3�)=��W�O~L��r"�d��$Ԍ~r,/�2�73&�����D����aɸ�z��y�s,T}�Ҋ��������[��87as9���L��T��
I�U�<������ZҤe,/����F�����Ȑ����Gե]X�|�������՟˦��R��5��}3�3(ū@[&�sѩ�E��["oՎ�k��qTwH����bـ�9��7���ض��-һ4��o8p����!�o:B�*p'tϻ-.��{�k���U{U��޽��R���M�pox!�w���C�hK
Ē ^�
�_Gd�����,�%éM�
��8�X�W���֎ [��X��J�^M���ک2�I7�0���g�Ր�L�8oѵi7��Uf����c$\����Gq�a�BX���� ß&(z����g*�
4��=d��g]��N�<u����w޹>������]����"�.��'K����� 'i<�=@R�Pg�r�4��������j,�/_c}Õ��gJ���ƣ�9V���=�3���3ɻ;�]XM�'G��L�������V�<°an��Rʾ�@0�����K@b*R	��&\���#�� Dן��K r�T6a%S'�Ty]��������AD�>1�tSo�|��v��G=?������o��>�d.�J"��~���"`��֣�	"�L���U�:eK����y�a+��F��'r��j½ճ���N�=�@5#l��7�����tҷ��9��A�F���t���9�
�]�X�G"k�	�Ի��ï����4W����M�r5�	����0�hN�C]L�5�3W��'L�6�_��W|���������?(!U�~�?��
�h��tRW\ ��B�E676��00���M[�c�vѳT��n!P��������[���{QU��n��$�>Ԡ���������"X� sS!r�I��.�c��R
�O5yp��f���٩av��	���1,ߔ��H͡a�۝I���J�uʪWŖp�t�c���9� sQ�� ?M���R����"dL����2�Vۼ_���9k���3�������嫉��;��h���b �z*�w�?-/8��"]�^y�Nb�9������	��݌N�bv?!�K��D_ъ�+�42��G����Hϟ��)��C?Q%(i���FwB"�%�.]*�s<�@�ݖ���;�`���gK��u� �A)V����q[�c:՛�� 밹10r�X�lDk�%�13�U�BP�_����܀R��O�z�F(O���� 7r�O|$_m�B���	�ؠa��u������?�e��&[�8Jj�)-�Q�\�Sl���J����A��>>���k�r��|@`)Jz�o2$\�>����^&��窅>�W��ʂm���6�0wq}dX~�&sjp�aA3爏��Ft���Dn��C�?�m�)0/#�(.r*Đ]�AX�p3%� ��d*$6.�����J*�w6P�9��B���5�����}�������q��o�"^e���Zŋ
�	����"UKC㏎�]V$O>Y��م��WK'Cx�:ĕ�ق���?�R��=�'%��]���3�������L�Ì���>�bG�<ˈ/ʠ�.��.DO��R��H��q��pA���V� 7�M��?�5J�xF|Opyã��%=[��RTMb��ɯv9�gw���,*ӊ7��
���a��;o������w/�?z��pM��EDJr�ܟ��9L�����f��M�I���L�<6�Q/��v�+� �\�&~�ͷ���^a�Ał7�7�
[��n{:�����=~�MA���WӉ+�Π8���uJ�Q���dȪ��^�?�0��C�a��/�����E�׳_�%��8r��6���	a�Gc��7�Oʦ&����u!�U�9�B�V��@"�	U�Aj��2�K@��<�憕�M$&�SH�'�و�&S�0f�XJ�h	tY�}��$�e%|��0�ͦ���[5�pM��h��Y4��G84p���f�/o�������b쀱��#���ǎ��/T��!Fp�!,� a*5S�áZ�c���2��2p�6
��s����ImO�	|���7}�@˥.Rl���1Ɵ{�d����(K��Uk�^�R��! �>=(��:��1MA��.1S���_pN��c;��u����~6�)Z ���_Q�Xt�]Q���-�iN���Ocg���*�g~��
�Vt���-��H��/�6�E�y�r	̘��}��z��闸���\-������E��N�h��oꆬ���R���)%�ݚ���0H�b ��e��v0g<v����&q�fѳ�}6Z	!hm��<WS� _���%�_z���%8���ȣ�/wR�d�W�hC�%E�\
.LW*��w��=.2�����7:mSB|����٤B�b|a_�3������I^�����sWT���BQ�׵��T�Ʊ=Q6�($�X�|�3B����Ů���u�F���TuL,UU������eʪ�ў��?�C��Ep���jkV�x@1*>�-\�ZZ��aa� �J+����
h���
��u�E�pE�XKHv����L�� U�nP�k)~������lQ��L��rM��t[�M�].褱`��nj���]/��`디�Qse�tt;��<�]�}<�aI'�S]/b�Q�.���W���MĄV�å��t��3u�� ʜ���q"���RZ>���B����o���e�텼���]����Eq�cO�qƊ1`��x�k�����r�#\��G�e7S~)��#�Ü4T�`y�+��} Ie2�u�Ѭ6M���^��N�&s���%Ĉ=�	�+2��l`ˏICƲɍ�\3w�O,�T�{fuF�ٸ2�,D,�]�)�^�]D��L/��x��e����}*Ά��xA�	��8VF�jH�G(��F�Q��h��'�s$1e�8+~�EC�X�M��%^���D/;:5J��l���8<K��;}RXay�"�庌Bd���A"��=n���Z����Cq�xkG(^�����z1cyS�g���J4'�b��.��;j�-��gۙW��Zbdzb>s~��E������6Pi欺"%?^k�'/�4���J����<�n��)X/ÆB�!X#C�36�Ŭ�)��,�gMl�]�����T���I�����'�O��Rr/�&$Fќ���r����#0j鬻�h��M�k��z�$O�R�/H���2gz"A�j���X�&�S���/��'B��g��%�]��E�c�id�%����Df})ӧ�_���,6���H)�z���4`�P@5盍��;��Z."@�>Ujr/`��_��y�M���nUtn�:����<�-��)9Q	�E�Bf�<o�m%�{zt��gPl��@�ցcX���'��*�b�t-c��GC� ��i��7U,�]ŧ֬A�C�;W�e� ,6W�W��B搿�k�î�|���%?�sE.yqK�_L����f#���������R��O�]2��Q����u�����D,&v��)3������17 చ~��u� �̐ M B<)#��}��9��I�rQ��L�A�ƑӉ:�Ĉ�'���A��+P/�G-��R�������S7�~Ǜ_=�wp�<�Cm�h=
j~����?�O�����[pp9^���<��v m|������_M���K��JCD�	�48�l7}}���,���½�D�k'���=Qy�-�ԫY�S J��,,�}J(�h��
�&�)��B���ԝ$ʞ"jW�KF�NKF��@�q�A��6��-�t�a�5)";�;P�b�_x�5��n�&dR%��e������>�^�����~�324}1�v[�Mȫ�rѥ/��ڷݘ"5�x"�{@���^��ØꅯW��J�$���hA���;�p@86��g�%v��WBUIY��`E��aO�ĳT�j+��)��y[��}��.2pT�Z��-e`����
0'A�Z�Pr"Z�0���
��Pn�g0 �g�`�$h*���.�8" lHFp��ƪ
@v�e�h�y���Lʕ(�7M��ȕ���$�0SC����8���%�W	�ܰ�; ����0es�b���E�i&�x{���i�WI���~�o��^�����,��Kρ���]���g!��^J#J}M�r�Gb�$)~�,~7Ö1&�=����%օ"hB���Re���m�m��u"T.=�2z%nө�k��c�K|Y2������-F�9:O}��2a�ɜ�Tl�R�������;��i�M���̻�4I����\ӝ�m�^jb)�����!�J3�ZK����z��Iy��1)y�N����CD�o
yZ�Q$�g���M5�}�T�F�9�v�����{�F6]m�{�LFKwz���l�ZR�,oʴLYQ6yJ����f��W�*;�zA��Aտsۘk��gq���`p�W��[�}���Ԅ���*�]6M4���s��/���"8R�y��u� �2ȅ`U}�×:L]
U�C�Mw��[CRܿ�
sU�IO�:�k���V���s��daa��D�)�^5��B��U~��ԣ��u81֚ZV��=�?�@7��T�ÜI���(O���)|��)�#��a:7Q�WH�K0��Wi�~P���BfcT���,<q���1��_�Anf�K�9��r���NX«��aga��Vʻ\3!A���BJ��f�E�.�Ƚ-�dUG8���k�Z�څ#���|��g���o���1֔lr�`� lr��b��7]y���h�&�$�����G9~�)H2;|�ĥ��%8��W��{�P(��zT��<F��r�Av����:A_#3��e��غ�F�>�D*f*nK菔J���P�Yq��gR�nr�9���y��M$\�a�q�Ϲ�s��l���P�[��.����
�����R!|�������T�3�-���?Me���V\�.k��)[��φ�֙�^V�05��@Ю�\����!<��"/�Q#���@����b��UK��jF8���$� M��G�6�dS᪘+Ep>�._x֡Z��ן�F�����S�S%����2 ��"}��x��e񋆫�gE�#�	>j(�h�Ł���	���λ ��+�e�B��槵9�*~�U=�~O"�c�zf���j��g�,o�{�7��¤�ηKdW�`�bo��$r�D"]eT�,L�F���O3,��z~�LEl�fy�Gw�ߑ��1��ѓ���['U�"Cw�.%��~�������_���^B��;�[=:�)3lk4��ͪ�)�3�=J6��DZ�I�G��WL�5L@µ��W*~̚?`}�9� �%>�Z��F��>2�4�)>n̴R���E�H��أ46N�*�|i�$H��}~
�U��Y�K@!E�)��H�0���=�ꠞ�-��<�ܕ���/5>߱a �dU�
q�mL6�k;�o�֔+��&��C-vDL]\����ˋ�E"Y.IJ�BP�P]^TۘEF�D��QI{Ơ�d�z-!��c�!dCf��D#���K�ʵ�=�E
j��n e�m0�fQ�6/�8�$č|�uRɷ�QVG_)��fݪv�z�����:A>A�[T!�?���<>�.���fM��&��\�Ug5��Jo�R�;R�"���E	|�u=�,����Qf���f��b5E3��݅B]�(/��VM]������r�0��pK$됖8qgt���2q;j�j��`Z�d[6Ӹ�%�:�I����[�`FJsq�;d��ʤ���I�sD�*�P=�%���N�����+�!�}�����TE��T�R7�Z�1��&X�:W4��6z����	|��U}��qu5�����?v~�&,$�WkwEè�e�������	 ��?8�TF��fI����run;���y��Î,t=��� ���
��&��.����o��_��8�3�:���jO�.�1M�d��B��cH7Ά��$�?�����w��^���uUK���R�'7�U���a�o`�[�&��J�ft�G�\�n�19����`O߻��c�t�"�{��F���69j����B��ԶQQ�m��ѬF����}�$>Y#LQ��Oe7	c�t���U�c�F�ǚ�0�+CHGI.�X0�a�
8B�>� *�Iە�8;�����.p�F�VB�@L�ݹ:E�����i�|x�ï�%���Y�_�D��҅֞6,�B6���!cc�$p���%�_Bm<��&*6-��i9]������$���szf�6|�7��5NNQ��&DHM.`�.����h��aB�&��{t]����_N<돠��}��?1-*P��9k��1�7��C�d����8!/�#7�ƀ���~/�K���h�ۉc����?W(�r��3]X�I�эk�.򀍪Y��낑��|�����ve(�3t��TX��s�`���vd\�\�ץ��WH93Ȇ^�Y�H�:��XŦ����S��d����g�jatv{X[V��"�Gn-����^'<��CW���^�+_I��XD��jJ0)��M��5����"\����9^G7�'�@0r_���z½K�$2�$�Y��]���End���F���*��_�K/�� J�0.����pu{bf:#�]qW#�X~g2ۭL�!�֑;ri�;2B��C��w�>XytwMo5��]�NU�&B_�j`���4)OO�>HC�WF�đ0ǿ�xE�e�T�Q^m�P�cHyt�W�<���H|����Jq��G�D����&~X�P7��J��nq�\︃h�4�Ma���|��E̞m!��2a*�B�g�������¯@��d�z�X���"I�[h]�t�;;쎫)��^�;��-����^���N�j��>B�����Vi&:�Z����x�+𖶜�Wܰ��;�Wg�P���T������]��]M ?ĢBv���q���_9
��ta�Ϩ-���6*	o�Qn�	AC���Y��;+�6}�E��|q�TX���G�^lƋ)��,�\�"$�6�|{�� �R�S����W��9���^ĈWU��^7Y���5�f03�� ��U����8A�|���K�-*�Y`���"j kY�M�U��/y(��ҋ3���Ѡ�fFgz��r�)��lL�#��)*Gn��kBc��[���o�5��~b��~�	��-'��,��' y�5ƹ>2�od�J�zֵ��DH�)�8�����c?B��܁�6JA�q�%�b�"�:N �T@��_��fU�|�1Ʀ3Ut�Ҷh�j*�H��Q������e�M���2��?[^��FTd�<�"��p޻08��t���ٛ�{�c
�h����e��C|��꯺�qH�'�*!�\���g��
ݧ&�;N���_� �`���T-��]��ZU`��(`��V��Q�Fl3�#qd�>��0�pX����JK�Ab65�؛������?#tG�PE~`�K��|6����./գs��f����a5N��UC����ġ�6W���P������n���Rofw��qq6V&�a���q��4��(c�'_f甹A�I���u�\�P''��Kb���-Jj�r��D-��� [c�.i�]:k]�H9��!�o�W_�E�my�:�W{Z}j̀'9	u����)��������Y�c]������	�A"�.�řd���;�)��Z�2����
`E��*b�,n��H{�v��1o��VA!��7�FX��o4�(e��4V�;Z�)����{h���C��I�'�C���R2�Du5�F� �0��6�>2���wr��?8c����T�6H^.��z��k)/���
�WRWɿ���W��"a�ip.c�U�������6K	��]����}��H Ǥ�#�D���N��� �D�S��"���U��Ut�gU��`�yn��%�Zy��n����BPP�Z�v�:�f7�=�E��\�ͰO���!��9�r���PH�!�њ�D�(�?�,`(\f�r�~�ե���űv�0�ʵ��ɹG���u֍+w�w��E��P5����t�|�S@5��0��#�D�	�\t��T�����r^~>�gvq���A<J��e^���-+Ц�2���@J���?Ha������Ls��(�\VӄM�وl25-�dJިwj�H�L��lXQ�͂&n�1�"x���!d���>�0���3����^ez][|w�O�@�/����سx����\/�(��T�CIa<�0���� ���#�5��A��"��^����a~���J�eD����dw���C��.�!�1؆"�1dԺ}!�12�6�i.a�m�79R��9��Rp��XF����Ͽ��	��J��_��2��y��66����Ϊ㡍�B:�E0��@��/4'���ۣBD���g��B�5hE�P���	��#˄�i����:�a2��cټ[ � ���:ؘzޟ@��w�mI�
�O����n�$�ڱ(G8�X����C�z�Bv�"�!���(��>�,��6Y�F�M	�&Œ�l�%�]J����B�ta��"j6r�>�+�B��\����v ����Y���@�N"�K��[Ð)����(�-�PO�F�B��[=��9ޙ�cvh7r�jp�̦#?�B��Ę���O�|D�ʸ�<��(���0��I���#ry��͈���'���R1q�d�-��r	;/�����%Sl��d(Alt���A��BA��>,�L�=���eQ���C��=0��K��A��u���zh�m)T���Ѝ���0?�pEgYx�4uՍ�6�1|���I�|*�}�ૡ�R���'���D�P�A�p���Y<!S��o��`�sPH�4�R�J�	b��`C<������Z��uellD�r��YƴF�п:q��8�U���c��j��F
��.j������cN�M~z�`db���)ָ}T�k��=�EVO��V�O�2�U5��l��[,�k�3s���X�C��3G�S�PH/7��J/١�.;6	y^t΍����8]klJ��l��uW�<�P��L�������#p�!|86�4;[r;����&2�)�����IV�hLF�j�|�xT�?��`����$c�z�ܾ���?�j�Ȟ=UL��o�P?��
�����{�)�����X}-]��������vs��[+����p��n�A�ȱcK����4��<6祌���RN��KI������[ h�댕b�s�J_�ce7�+����D���pSj��l���`z�i!��'��fU��_͍ܘ=�~3���'7F�˻/�E��]�aKK�^�@=����Ŀ�5�ʽ��H�mo�ȃ,A�lp��:��Z�1�kOlS�D\g*�>o�Dj�ߦ]�yl6���ҍ������nh����&�~	�W��H���L�z/p0�A@���ssyW"䟌��ڟ��wJ}��G8P�5k��6GM�`�<���x_�.0U�~&`�'�>^��~~��p����/���6}nM��ӽ�^k+��)<����F�({���+�v��Ur/�nXm�+1]-'DfW	�:7�A���)E�"�ϐ(�AM>}�u��g�Z��d��r7:��#��|�@4���e�K�o�W�N�1��_��*��������ğe��b��ʻ�GUI~9/�"y;�l�Ȉl��z�$��R*��UYtx���Gڦ�h��;/ReG4����G��g�� P�[��ئ#ٮ7�� �����X!�#�|*�E,�'��R^ջx�1V�^f���G���/����V�f3��֨?���r3c�a\�QաZ�D�Q1�y�uGJ�uk����+��>kե��lph�{(����Ga*!�0�j����'�%�GR�Y#�2�ƻ./�L=����/�������%B	�le��9�<f��l��G讽����M}g˖,���߻T���u��%Ɔ�b���^3���C`�n�B*f��')}���M w.ف�3�S���f����r�aw�C��"��,q�����G� ��M/H5�',~���z6�,�Ug�X׍k��S����M�Ď;�nR�L����q��#���-`-pg���=A@�N�������ͣ��Yxeȑ�``��d�-[&Н)�s�r���N	�q����������<��'�I�6�R!凼'4�S�"�B�������}	�9��&?�V��a{�!a�'9G�#����6H�A��0Ƞ`�,�[��M"����x�0�o6ISC`A��i���{^��/��o�"OR��Lr�����<6̭8�f��ò�$����ViSr]�tey�g	����g�I~R�y��6��i_P=�Za��/?��|9�ӫKް��7�8��;�"'�r6�N��#B�=��s"&�+r �դ>�'�t��}V��d�1!�����,�����*|}Z��޶3r=�ޤ�W�,m�H�*�o���Vg u�,�!s%]��!^��b&>�%T�},��$&E�wemAɳg����=<����2=_�@z��!�I�[��vtD���n��'쓏�7�%v��=A���u�q��9np�3K}�Ȱl���N�챲�����G���M�!���ӈo;��];�7���JUH*έ@��q�A/�k�����	���ڹ�*�'!2z�'+/NHn�Er�G?�	ɮ�}��ՐeSB,�/���#m��T8��C#��p�1��V ��fV�F��:hr7�S�dʘ������B2y@���igisp��z���+�e�F�+�
ͣ��}���G��G��B���^1F���Y��׎j2��!t��O��Ki���	�d����D�3�J��DǅHD�FǑ*9����y�����T�<�*a�e�����"�uz�����7�T�HR�at��W�3�����W��p6'��Z�s9̽�6ٞ,��v�v"��돿8�׻[�\�4g&������H݇y��̙AQ1�"!�,i�_���#ɷe9�P�/��:����U�Y=LD�%���w�^�BP�m~�o>��	C�?�=��d�gr��g�Hv�!E�|M� ��H|���=��`Ɔ󐥮rp��T�ߓ�s\���pR[)���	��P��G����B�x�g!��`���"����ei<�3���h��������Q0g�.�+9���y_y���]%3���d���t��N\E��zW#��ާ^e�|�ųa�#�3�\^GHL%0'�|�[�#��7����g�!��k��eqf$ǟ>���җN��93���
	q��F���}�Rk�P����&��<Wd�7�!ۜ}�uQ�n��u��͑�L�8�������k�	�.�ܑ�p�B7�PI>�����G�ޭ���	�L�n�@��>Ԗ��1u�1��Tzp0�k,sK�?9)(%,��x��e��(OK���+�7���D��t�1��)��<��x/:b��5zDtf�e5�[���g��]�\�n��R��T����1�Δ�4��Bx��\
�0C�^WT�B>�/9��2\±�$�3z	`U�ר�{4��o�V8$b�g؎/1�I����Y:����0���*z�^`�ӽ���\�*����A�R�2ymo�]�����<�0�\B�4�8�Tt\�h���u1T'��+h+{:"':g��x�d���Y%O�_f�|��-Q����O���y�tׇ>>��x��Τr��r0N���}�_ u#Ɠ��~��n������jgtz�W�K��~�Y<�ũv��g�Nم�"6�y}[R=2y�:�Fh����;]Wc�:��?'ն�}�Sh'S�n]G��9�(�c�ؑd7*[�1;'Bb)������ U��T�z=�Ȗ`	����W��7���QLQ�G�dZS��}ROY�;��<�� �u�#�WKTp�������"U%�e:�K,	q\]ie�o��s�?\����2n���
�-F��Ͼ�]H7 [µnΑ��4��*-�!s�#$��������Ӕ@�{�&�?^_^!5��Z��0��7�I��Ֆ��m��jAA2V�>�|0e#�c5���{iBR�ŵ˻O2�Z��r�,*d�K`�MÊ�r���o�6�ˎ�0�\-����b�S��uU;�1 ]j� p�5��9Rp�f3Z)���\ ʹ]͚,
# ��t�t�t<w�������\*n��B�Q��;�n��HĆ��l�0�+8��0+^3��{�*y��R-�A2�ў����zq�'9L�@�̬,��k�u\c�D[}�Wd38]�IOew��g�TR�Q��2�� �1Hn�΢�"*��J�B	M�!��~u/�MBJ��.�f�d]�����x衫�GjM*�=#Qo{«%Y���-�X��ۗ�J�U�-K�-��S02N�C (�;C������b�Wr����׋Y���(kG�{Z�H��ݏ�7��)�f:��M�t�3�#��6|v,,��_�� ���ɜ���9�D븫�\��Sc݇Yc��26��m��3ns�@�/������Ǆij�C��`��2��t4L�7���� �'b����vAצ�}dt{�>K�T�2� �N�2��d�*���y���^�Ie�3��G�*�4��l`���.S��'}�8$zY��1=�J�y����r�͔���p��y%C�]�e�V)��S�\�-��7�N��<Ǖ:r��f@�Q���B�yF�����V=����M�2��Z�Snk�:�ΎZ�Vo�rx� 4+LV)����Qj�f�Wtb�����$�����L��${r��390�-g�t���7KU�u5����F&])��
��R�n8�Ƀ{�ϔN�9�{�]ɴ�Ζ3�9[�[}TFwoͥ��w�x��_˝�G�+N�)8Q!��"ح��u@�Í���N8�������:���Z�NpbwK�b�|�,�1�+��M��EGEy�w������MN#a���4��g������ྯ�����1'����w�om*��q�"vO��F���[�KPWpUE��!�'~f��z��$��xm�:r�g��h�N�����8X�|��^r8)}��������ͫ�k���!	/�l�zY�ѿ�9�"��\�K'�pis|��g.��P(Kz&]ym�,��C&�U8%Ѣ��ܔe�q�L1:k�G+��l_���<�2�Q�tqףmI&�HItќ*-;S^#�=�r3�T�$���\�������;�5y�;�Ȉ�I��Lf�OӴB|�Z����'��U�t�0�d�T�ԙcD�9	����Lx�z�4���iY�+O6�Ux�f�j�%ĵ*k{��N���C��<|��`|��b�~Cs��w}ɮ�c��Zf��J�.%�(��������}%�N;���C�g�kY	];��f���T���d�Vr�.6l`K�����duC;#&}�P^�k	��$'��	��.7���cʝ�C[����:a���XLx��랩���׿���	�^��>��P�_!s��������?�AD*��ݧk!\Q�\������7��7�^TK��oV��7��8*g�hz(���,n�τ\�]_��zUg
a�4�)$䩑�������\�8&�I"� ,��:�s�`)�����������аw�;�6��h�s�տ��	����<�VH�`���,2��ao����Y�YO�?�F����_�������)Cow���7<�3�Y0�R$�u�E7�<�xN23k�
a�y��^�k�+���X��"X�a����J����-��6]&�7/=$�%�7]�#��u���!����2�d����?���ⶂ�L���C�.�u�L��OB2;
^ӗ�3F�s��*j���'>*�{�-�~DA�ԣ�A���S�����]B���iKq�]�gk����;��@$RY�̬�X��~v��OE�@.���$�B\xEE�T)�9��F�G\C�m{!�[w1sE�(�d�u^aP��.���*��#+�H�0����3�1yJi�q�[�}����uQs2B\��m�*�f�{���	���'e�%L����`4^n�4�9!�
�m~��v�m()�A-�Y�a��[��NS~�,F����Go$�N8�3�֑e�����Έ�L�����	/9H�;�������s(L�=j��7����*�G�k�ԓ8���ґ�g_�3����~��E@�u ȎRZ�͙(�쒆�eE�}r��.������X��zAm!���_���3-ԅ%|��8pF�T����+��,ؑ)i�Nu�����/�����s��o.Jx��y���6�DC��X��K�l�]�Ƹ�C�%Ju�24�G9w��܉�׭n�a�F����&���uF�2�8�9]� �QX��z��R���BV�D�5�����U�Yz
�YHn�������+d�oK���[ ��B�5����]�s�^Pv��h>���-��jf���dY!��g�c�X�S�����\#:����lBY�]_�V�K����Ro���̥9 O�c�B��yl�8���zt�w_��S�HS��h'�:Xv����[C	L}�	���S��N|���8@�m4�sJ�/��6Z��/�L�!!B�2�b���X+��{�j�{��j:XtL���6�/���,p��ģ�U�0`���a �\s���4܄A�d��"6���s�T2��+�M[W��#1�Z%i�0�R���	,��x6_ ���L�L�n�bB�+WɚZL�_E� ���2OO,#ڧr�v)/y�)�z��D�����gS�l\*k���W�0�%tZd7�� �Y����.�LH�����S��]�aa�Y����U�eƐ� ��=��R�����P��p*Nԥ^�q��J���8@&j�Ic����	A�Q=����y�ɴQm2�`�U��Ե\�l*�T��c�[eqh�&�T~,;	3�(�&�����jKhYx�)6lE�}ݴnn�r.H
��@!߶�T�'?6��+�� y�ӌ*�2��O26�̃���?��5=��#\���i�V���}�*�w$��W��i?��K�L�5�&�H�P�͔@��y�G��.C�6�kk�+R$>~O��-�
7V)��?�
�m!����a����6y���.q攇�(#��������Xe<<���n���m��>M������8��\$�!>Y��(dI��+O�!XL᯹����=�8#(Z[�kDe"�=6���AĖ�:�W��u�[n�;��޿g���r�z4�k	�k�(�M^�]��!�K����"�����ݩ�qE��%8�܂�����$�*���P܂��0�Fʤ$����Ha�."Q�}��zRܳQ&���%�b��8)N�(����3WIrM_�힞��^���ȄR�(�L��_�\ֿ�n���1�Z��h}q
�N~���<�FLA� ��^��l:�e�9�B �=T������J�&�]��dQ��N�h��O"�Y�y6��3�u�iFf�V,6��k��YO��3p��]94Sf~!�ZD�5���z5��~�A"�Y �7	L���N�M&�� $WL���E�c#��s+���hǙ�4�oҰ��;��B�����(�bt10Q�>U������z�M���m6��/bhisv��޸��6S��uDN��z]U��*�Wp�@�*����]oy{s�f3mq �͂W$����	CX�P'�yFbMw	���X#X�WN�+po��F�[��ό�tzfր,"��ZV��r(7�
J��W�?����[�Y���W�>h�6��۬=�Ɣ��4�� Q�e�Yzj��V��K�ܢO��Z��Ÿ�`��N8���p�DZ�(�����v-�`��>h�B'��[��y��9d&�D�*.�f��
�PΟ�H���Ġ�=�?�]s�n^�@���	�~/�"Wd'�?��y��q�^�e/`Ƴ^�*���L�Y� �Ӌ��^��̼ݿH�fp�Cs.R������Cό�ޮ'r��c
g~���!�RSZ�Kؠh��
M%�!S:��!�*!�M�l�I���I��īe�@Q�ؘI��i��z$�'�&S�]u����Z��YX�rF�;ʴ_�ig�	�d��چ�m�d�9(���޳�>�E��Z,&�]d���k	���C$^ ����U�d��^D!�k�2�����3b��/`�x�_{\r�z��:{�$y�:D�e�[.��N��H���9oq���C�������ؼ3
<�$U��D":X��"�b��ģ�k1�ym��O�<,V�D��d��A�%F"�!\щ���+��J�ج���;lR��$���g} ������'ܝr��Jd���0���XK�-?��_F�0�G�n&\�ZĴ?|��&!]�=�O[L޸�FL�%���ܥ]��/�[S5rP���zɒ�!:�3���[���s*ALN^���u���W����[�G��}�� �<���FZ7��(A\2�I&�xZ�T�jxXF4��)ˇLKe�w�2����R/��!=糴�:ֳ�>�I|�

a6�'�f�8�e��F�2Y��������	��<��	yk��%2��m/�q��������|1��L~u���fx�Y*�iϫ�=b�����tXYW��͔�8�H*]�z�i����q>��l�=eK�x�b����+��|�Ŋ�Η�,�8G_�Sm��R�X쁫��ozy����{�����NkK��:7T�R�����$�����	K7"��H	�t�7�Z����ےD�z���S���^k�L�ʔ����ᄳ*2.`u1��ti�F������D0������!aQ+L�ܖ��[�l����,�Բ)$�[E嶼�A��C��96� ��t���uXeܕ����i�±>�t��W.��_E�7��GX��}X[sCf�C��d��ep��23��C��	�0� � >��P>���b\��KJd��-?!��" aN�d��԰����q��4��w�]g�3^H7�u��lju�WV��Ԃd�V���hݤ��au��y�#�%9�4Wz4kW�ش��ٖ�A��ܪ���VΖ����~~�m%�gj���įy�u����설k��E�����c��I~��kv����o����~1���-j@�m�Qoҩ�b�;��H��R����Y��¤��A�}�W= ��,�>�L��I�X��@��=��j�+8�
����'_8�ޭ�>��l8�b�w~;�(a%��)�����e���-��	2EZ�EN� K�'oaaOAx0w:���%��b�v���W�(ݸ�])���^�հ ������R�[6��X��t%�`N͛���'�Y�נ-C�������rv���`L~�@�/Vs�0��s.jbS��o�ߢ���@�6:��V��L�aI���#�M+ٹmH7�P��4d�8=@�g��L^�[~���i�U������7H\�|��Ԝ�@ȋ�l
V��UԓƓƮ!^. <;��@X>I'�@��\F*Q��p8`E�G�Y:���N��eQf�H��V�	^����[���5�jD���?pd���T�5l�*�n_�F�\?"��T�)�Fg�J�j�F��MX���ī�=��3=�����I���(��~��
�g`��E�vr����0��Jɜ��>�� �w��֜B�1����!�jè��4�k��	�@V��;����(�]_��x['ߡJD79q�4�+1o�!T��u�Ae��Rq�ț8I �!��d=��ς�o8��o��4;�)�~*7��t.gkAb��uQoQ�d������L�J�"����7
A��kB��f^�N��tD�  �^��T�~��wF,�gC��54B/4{�����=�	���=�c+[FO���1�t	F^<h�<�w����C�1P݀������.�ݞ:�П`y2�~�߉��z��yD2�q?��Q�� ='��}�ЙI�|~q����w�tV�ѷ�4~�{�:��S�K�-����lp�6����/�����a*���"�f�p6�b$��������~�U��ݿC�����R���ô�� l0%ۍF2=$��v+x��p�6��77��T6�XE�2�=��>8*����?�c�>q���z%-�J"�E������m!�2(az��
��Ą���%���\%����O�}�!�-P�C���#	��w2.�h͂gHQ/��F��m�@�][�
�cM�����ُ<Q Y	n+���S'�V��2 N�:{�9\l�p�yx�BTp�����z
Db7���Eq�Rt�9Ej�u�c�	�&��-&����֒�l�5"����V��e�*tx��}L�KC�9��3}��,�^7���NRi[�|�("�5�QgGlB�x�W-���<���#��@۲a����a��j����J�����fa�L6��HK)�EK7y)!�^c�$���}Zp�b��Mp
���*�Jw(��B;��]��K0aۜ~=�x���������,�+�Nbq����g(;�qWQ��NM.�q���J::]���7��{����,�y�;�R���"zӑ�[݈|!�9�
n���Z;}#9�%�D��rʐm�D��˅����Y��Iq\���蛆!�^3N�<�5�-�ZV���:ǹ.���3���z��^7�!�sn�j���0�׮q������H�H�7ix�bVQ�()�P���ŝ��r.%�.��P՗��rܫ�֛B^Q+w�+�:�:�x���\u,�cx���5�C�>�jIԝ���Mtm�/9AIЧ�O���>�Ô�> ������+��j���.���L`꼇�xq����$#�MNE���W����V#���k��{�� x�� ���A�4+�`����?��Iwc�.َsf�iPlg6]"��aɂ���~b�c��N�,���O`�,ִ$�W���x�M�ͩH	����5(b�-��-@+U�1�hd[v���d�zV�?bP1�&!ᦲ�G\��`h{
�Q���i1tQy�;�?�H1�ǆ��X�_1��A�
"ȩ�䙍g\Smh���2Ik�-|�=gw��/F��;����6����Zf	|7��7X��F�]�;}.��]Z��a1���LiԆ���<E
�7�d%׿�";��q� �����\���T�����kf ��rU��_ĩ�H ��.Eb��
gT�z�\��l�Cq_:�f�_��6��=F%����I��c稝�-ɋ?�u$ɿ����'K�,O{�j�Lw%�?�}�Ϲ�?Z���u��k&���k�yR����!���g��{��@��ܡ,��&��"�;�Ї�{�e�׮*��љbޮaSv�t;�R�]�Ww�b�y�m�X������ӽ����5Օ���J� e��M�OR�X9T��8�Za�KX����%���0��H?sQ �6,#=qav��g)B��&rF��2l��KL9�+�4���8�'����C~x�pY�M������>�<��WP��<��}ȽU��=�iƝ��I��e\s����i�S�5�G�p��@{�6m�w��(g)��e�i]�<�{����=!l�.�~����׻���R.�Vjgn�< ��by�����QKY勾�>�{}��\�u�[�<7YBV6�]I����-)���(T�d���܈�I]8�d��	-�)Y�8qKl �:�M�0UⓢӍd��� #&�-����# ��]��ZZT��j�9=�����!���T�[�Ԧ�/�9L�w�CS��ܧ���)
��Hf@�ݒ8�1a��h��}��i���t��aj��)�
��ѻ�ܭ�V� ���J(�T��,�r�����������a]xz��Y�
����J��ڔ�7�6�&y�x��C����ڦR`i�d�Vξ��	���
qx!3���gSA���J�CV�H���s�9��H�|�(>�fr����!������飺=hMWJ����p0�`"�G��e|�/�N9`��@<�@3s�7���N�rĊ?��9O�Z=9�=����8�7Y����������E)�x���a�%r���҇r�0s���LT��P��.�K<w�P�K���v�x.:O�����Xޯ�1�e �_������ ��_��@w�s�kH�s|AB�g�>皵����R1�!9/������3�S�Kz1
���lI��/�FG�@��{����k}Z~��]��F ��%3dM�RdwUt)�C�~��ש�&8��XT��4�7�U�d.�ŀ�º�?�N�rcɤ����̾~���$��R�7�3GO/d�����m�����ϧ��f���ω@??�.�$����kV$Ұ r�b��3-hGG���iP����J��{?�X��CA�#y�"x2��[��~Z�T���<74�'��}�[���p�����b�)�,g&�#;=�Y�C_���}hS��@��	�hKW��ֱU{ʜ�PK�P��r�mC�ub%�ur��Rh8��'�lo�ym�4�D
ƍ�4C��I2sd��U8��z�SZ�d*��v�m�8(f��õ�p%3t	xzO���E�ʩ"C����h2T���X	�S�B�-�9� p����	UW3�U�����^r�Ņ�h
�{����	$=��d��ɀ&&���������	�)���@�!7 �4���2LH�e�������?���/up����V"F�DA��,`$�F3#?���b�GZ	7C��Ia��Y�&��D�w�/n���(d�9
oW�PNa1�W���,�3�.�'i��J�}�pN}���sL?b��Y���K۶CQ�E�a.U���Rs�,�D38u�!}�Z�K�1u��c� Df&�2�# xN� at���I}�e��q�����--�a���s����h�^WfIqU�s������e��R,�4�уYq$�}lW���}�w��oY� ,�?�B�{*X�[BX�����j�N.�-��P���u̥�d���=RӏP�{����*J2G@�X�cHc��]��67Ɇ�{�PzLL�OM|QN����� �H� Ce�w����Y�Bͷc
�u�Y�`��\=Jo��:���ҭZڋ����=�m�.`I��?�q�n��9q2��\9aA'C���{�詛4���*)=�*�����s7a�Nv�
�s���R7�姡�/y�����.�C@|����+EV��z���L̲Vɭ���Z�-�kl��~��wR��C����C�Q~��i�!���Y�t�.���!R�2�N�,�^���%S�`�຃Nuc;�>ݿ�4�Ξ��G[v.�d�b�ː3���^\�n�Tvaty�uf���Y�z��3�ɩ����['@��y��O�0�f� n5Y���������u����g(�Z/�d S	�CW��Lb�X�� �8뭄㊷n�$D,���f.�B#-8�Ī�_�cو�Hv;�N�Y``����n�$��*I����]�����p35�<t�Qk�=c�� o�s��[G�3&�܇)n.V@�.�bZ�)������^�?�{�c�2���뛬�a �����͸�������;�v!G%�@�л(����*�K~���u7ˤ&E�~Y�P�v�\����#���bT����NGT�����v �Ɓ?�!���Uyʅ�?��\~�d�900JS�c�L_���5[HH#�����-ӟՙ�Q#��̰,!CZA��)��u�8�c��R�`O�c�L	��j���e���%K<����Pϯ���%2������;#�h�F�s~�tJ�!˸2
�PoO�(���]\lȜ3
����2������C#I��R�4�����%��73��}�X,��o#��jz���8�(oܫ��R���T,�3���JNF�W�&��r2�^o�boX~!�\d����>|֛:.2K���l��[����j|������J�7������q[�y���E��{��ͷ/��o�t"��>�D��M��@�&��4X����zs�܉r�oJ�8Kx�|*h��ӂ�쫎�G��X]"3}�*��	����3+�M�vJƨ%8��uE�aA�'9�nIkf6l��BB���mJ0���K�'/���<��*�߯�è�i�YX�a����X��V���&��j���]�ז��"��Җ�X.�Ҕ�9H�s�@���<�SO丂7��t<�z���$�I,�w��jG��:��<+r&��=��::�U���˭���[\���/�Y���h�5b�
�:�Q���
f1zdt�;`���Q4`�[�k�^�Yu'�Z�
��D�����ڣ%�eTJ����;�5m׏KZ�́���)7�o��,���0�R�W(�1����Rp_d(5L��a͗����q_�3��ʔ��Y���,���6lS8�M�Jk�+�m��n�3��/r����ܷ���0�uc��k�KE�6$6�I�Jt�h�H��$4��M�����w���{Ƚ1�����^�
L1QB%oV�`����(�Y�qf�y�ֽ��o�,�aw��7"{����ϞU?����_p���bw�����r�s��4�>�1�l$%��d��>������%*�e_4+٧Kn�׏c��@B�����A)��a��$�|�ݫ¸�\��5���SI����s��e�+?_��v��R���d�����.8<@�|J҇ނ���N��i��"�t^��R� �L6���r�Z�r�����T�E��0]�f�p�[�N��p��æXK2 �-�3�:+����@y}�4�@�_�Oͩ>}p�/  p����eg8����#�S
�g�8�`��>}nH���ZT1CB��\��t��xF�O?-�d���n}fVe�2�P}�+p[֫]�:�i� N�V�� �KhI��ґ�i?�����VW-{#f�N�E��=\�&^�t�IV�" Cف�ԉY�l].;S�����G�M|E=G��<�H
�+'(I�aآP���v��ϲ��[��>>=}�B��i{4B���0�������1I��>U>�����"�~����;B�`K��#�'-��u���zű��ፄ#�ڹ%�
Gø�U��-į�Y���3�})l�K�~�\d�>��'��� �j�HZ���W����yU���S�L���C��\=�e�r�	�?k��5uXO�!��lض��
�'Δ��˛�xV(�+��w���|��{�w��f�| ��_m
.��$�r��0���k��߻`��!{���1�X�g�ʞ@@�m���;Y�&	LU
��\�,]-AA���(�)ϒ$�����������O&ʁiZ��o,S�&�]ܞz*Ūɰ�0�" ^-��ީf�e�疱�spq\SE��c���ғ�[�ٓ�y�˧�r	���D�]H7�\@��-ЧQW˕� 1��BR��R���}���l��#Y"4[	�)e��m��0�uy�K�\�d�r�� iM�4T����l��k�a6쐁��w�z�At��o�Ї\z_��F��K�--{�娝P
�}V�+��eӢ@.�kd0O����Ǡ_`�@�"A>����U��28��
yX��C6�'�n"����_@v�ا"�\���|�+�F� JHن�9�)x
�3����@iS;oQl���q�P^�j�)BL���z���F/�#{�!�N�]��;qǒr�(�����?��k�t���9w�SȌCY�;cv���z�E�.�j���Ξ�M1.c�gn���m!�D�3�C�_���'z w�1�sr*�%di�)�)�P.�-ZV��6�l0ӓ`t���c.�Sb�3����W�$A���i)(.�@����>���"lBrL�0n���~�*�{S��a�YNW��~u�F����@lK{�_"dNv㙓��&�:}z��}n�e��^,cgWJk��o�2�l(L?^B�Sl$-3���Y�����я��g���k@�]���e����T�f�a�؞;)��W7��I�|rї!O�Q�?�� ��r�Xu�sQJ\�P�"E@$�7��\>O����&*.��D��;����nO����Ս$%�w�:�d��p�Y:��F�{$���>xyQ�^k�)y7d�%��Kx�����+$��}�-g�O�9ݭ|��X��^!����۵ݗr�Lb�S�r�����\8�w[y�j�0�&E�s:��f)��9���_
���~��f,ؒl.�� ����Eπ���p��긣x�7�:����4�d@����^F@& @�\�Ψ򖌛���P�S��:$_�C�ㆴ�jWq�巡\m(����� K0��sW/�S��j.�Tϊufw����j�&�cs&~����!�S������W��E��\>�ie���W[)`�=G*�� Є�;v6��=Ϙ�W�K�i,]�����, .���2)���Z�7*��Hr��r��K{�R`y'�$ܡ9ٿE�g�W,����%P&a������S����U)XJfS|����SF� $+��n�e���Pq3n�tϔ��bn�T�+�G��D�ᷔH/�L�ũG���署�æ�HM�U$0�����%n��x�yx�Fg�!'ue�r֚^{�N��̛ش�$��4�.�W���vQ���ܶ�x���̊����q&�E������}r�����=�Df��S�1��jB79��.��:IXoF[��2�ix!s8c�҆����߳�Eg�� 3@�r�tsb�iRRp�K�FY��� o��l���ېY��x�J�@
)��9��u�p��1���"��(QH�:�ȅ��G�aJ��J��/����4��s5�^&�b���vO˧����$_��j��fd����;m��^��Q�nm�E��4��߁�#�S7��:��Y��Yh��K<~�m׮0����,ƺ�(0�l�<D�꽍0���B<����>���v��|��?��q�?ټNX�$W����P2��xfɽ"(x$b��4x���kY<tm
xX-=���kv��ׯ��).R?�U�!'�J��sՂ�o��Ϭ|[�x3��D�kЗO�TPk� �*��yw��".f�O;
'����&����`�R����Z�V�u1KP�\�!L��.Ы��[]�@-�h��]`�ߦF� �ms��]n�6Qpj�?<��L�خ� ��^6�aH`��Y雚!#�
&�*�:�}R1,�Ԋ+'(%Bb?_��k]G��UH����zFD�V�#Z�"D��[���N�I�DR���l�M�uELU�X���V�k�t_К{��n
cgsf�_HI9~j{��}�?�#����V�vvګ��o��:ްt���@*��\qS�)8GO�������K��v9���v�(P�n��j'���30D����@o�vuQY����'XQ@pq�o�
�#W�zy�����bZ%����V���v8U+�I��9<����T0J�F��@HpӨJ�\��yܽ{_����GxH
�(|w��{ňN.{z+V���yRz�>*��(�S_lh!Z�ҹk,�U��ի��i׭����kL@�����Q5?'k�J�w�����p��N|�FrZ�-
gg�!��wB9��z�B��]^sK��x�W�. ���M�R&��?���u�Q�ís-�|���ҏ�k0�R�㾊��B�]J1Z����H�u�9zx"(�}���	����o����&�d���!���b�Q�)�*���u[@�}��
�f˘��ښ�*��.���p����4g�k�pk�����E3�$����]������ݍ27�Dw��2��G���}���H���g: z*KۡN��
��,�١
�����2R����L��і����R?�t���u?�+x��g�y����p��	�c ��l�e%�<As�������T�d-5�����eZ<M��2�VEp���pso�ZZ^��)egB�,R�P�&�R��>
\F%��%���-��*/�e}7�Or�u<�G��<8�Pu%�!Xk�Ier���?�49`ƺC �YƢw�r/ �|�CvE�:�u'V�;���"����/K~;�!�u.�W��{���<"
��U�R�k���7N �U���L5�G*�+����������O�mD�o<W��q��v��:�Z牏�� ,�*=��ށo 'e�^��%�\a�L/��(A0�����t4f�F-���wĞ�e�E��!/U�s^7����0=��k���6:i��@.w��t_��'hj��4}z1��W���	���	苘�?AY�<	T)�G�=Q����J5�5��E��)�(Nn��4;�X�R�>��ؑXB<-)���$�Y3��<�H�c�a���?�P��A8md[p�7����Eܓ|Z�PS�����[~��[�SЪ�ET��/6�/.��ի�|$L�8��'_p�2��Ȣ�네��a"���딨�H��ΰ�c�G�4z�M�^tXO\4���\���c�V�
���B�eg�o��64[J�PV}w���d��$}f���q��9��I�s�y:@*s����x �תZ�Nj�'��3�+��4<��I��2�rB� �?J�����>ӵ膂M�ㅹ�u�h�� �I�e�t��<HR��)��i�&��!�3:9lMU�@oeNh���<�1!����)�ۊU+�<A�&�����s�&�jd�Ąx�h��ו��;��W��xO�lf�["?2B&C�+V"Ј𺑾�&��`��q�Z�K;�ׄ�x�l�]~��Sw1��MR �[_���of�ԉaB�����W�!	�qdf���J|䶎�x�h�B�� �Q���hѷ}�d���#Y��C9��8D�<5�ܾ��ak�t�ѿ�����w{c#Z(- c0��/o9��Ksz���"�f]��]���:����>^�G#��;�)��}��(�tQ��"�6���2 ]��7̎+p���A��L�b)i��k��TO�KhơT�B6
��JHS�
�	�2b����[U��Zz@�l�E'ifg���Z���jk� U��:M�[kV��s�=���i{q:).����v���~�������>�%����d�Dxķ%��E޴��5��>�F���w����#�O�?��)����-�j�J�7z�g�pG���]�ӊN��3IC��*7ތ�~�q��V`",$����N��,W��uj�����6�!�aʀQ���R�{�k��t�%�ǻ/I��=A�HB�j#�L������cхN��H��te��̓,��I�$ H���FV�4��ޫRt73�gR��b�\Υ���H���
Ӽ��۪��I��8�Xu������	:��Ӊ����ӬL���5���2�aEG�?�y��������k&�*s��_����2�g���X՚�p���؏�Qv�0�S���]�g��Jh$Ǘ�(N���ha�x ۂ2Y-d�)j�硱O׸݃d�y�K1Qr�����Ӭ�1��Bv��&qx	ԷDc�𬫽��R�-	��]���������������(m.��J�	\=�'mS��?K�D**�/��`=��*�[��~�!�OO����$���>"8{0}�sxX��ٓ����̩^8���VS����ƀ��[߹�&���>��YT�'�fh�u��.q�>l�	U+�2�CZ�)��l�}9��[�'���I;F��_~���/a��Q���]�����<y��W2:���U�R�.���g�;�W�}�k��Ot��H4�)?,��B�ZZ�� �� s&��l)�pR%~��7�%� `�a(�.�s|��:�=��UP�N�����m�WG��4�:�u�)�/U���z���)߱:	LmW@�'��MP�3�}:s�T��pT�Ĺ8C�h�]T�Z5��]׷��«�rozq:��SI�:o���D`j��[0{5�9ߞ�B��B� /.!艹�p	u�+^>ḧ��]*�V�UވX�����O�Z��U�a�t�-̊��,�+E:�2�Vo}�2W��(�F�M܀���I���\�$Z�b-�!��J�|w� w��ŗ/C�J��;~*p}�'��RQ��D݆,���j	�>8z��z��h��
ɵ����ҀK�.SM��ZSDIa�=0[y���ѳ+D���'���W��q�4�|�-�
n�bbTAphy!�� \<��u͖MA�Lݹ�����I>�]H�1����hl���I��i���C%��i-�;��a�����U�F��W�&3�&�����m�T�ҋ�> ����tk�	�O�9
�K�`����۸{��)8�=	�2�aHBŉ�{��Ӑ؟A�Lp[� � b]Հ��%����� ��<X��^��1��pV:�*�Q���+d8�����ٜg�g�lm<��C��`��1�ˏ�ܣ;.�:�˧D�����\��Ǭ���w,Jat��ɦ��:A�wY�����(��4�����<Up��z���Lg��.��\
�7n�< ��S]`�i����	5�;����Jm�W$�V�vܧ�8�R���mBg� �>g�: ۭ�2��{Z�Q�g ��9MXq�݈��nҫ�>����i�#2�$��gS��bg����̭Ҁ6�UNr���V�JT��Βmx�~=e�:�w�6��������N! ^����q_�6�,�7��%�\����.J��K�� b�J�~������#���L�M����<��ݩ�z!���UwȮ4#W��9�����1�n:��!�iK�'�K��! �i�QyO��e⯜�gj�o�DQ���9u�X�K���_w���������+T.;�o�)���xC}����{�lɛ��.��^3������t���ߚ�x��ýU���+��>y�Z`����;3���[��␡oXd�M� �� �"�&�Û�Ax�&�f�D���I�ݽҥ)��Bme��+RM����h��m�
���z@P�	�lg�����G���+�4�so�b��lƃ�~�Y�o���E�Y�H���{�,�n�sprZ(e�i�*����4��Op����������V�S8nnz,�7��5W����|1�]���/�KC��8G�0����4�{�`�@���G��p�/�kS�B� 3�
|�|I�����s����4��� �I҄L� k)�����>),,�`�kw0��
����;�<(N����r�b��h�>�h����K2��D$��r��p�I�XH�"#&5'ha"�߰ywEb �^`��󵒰�f�b��aڶŚJ�v�@R���X�I�6<�Z:�]�2ᡃA��9��b}�m*�p�$-n!T��^T�C��oh\�o��%T0����3�������tN��6��b��@D�V��#���Љ��j)��" ��Np���%�H����'��Nx����5^� E���s�f<`���J99{�'	�jR,� ����4�%�!�V��;���F�J�ŵ�A~�$�2:�>�s��֬�Q�D�d(�[��g�b	R����doM=�^�:�u��Բ�J���(���\w��SiWf�PD2Se.t�����:f��=�x�J
x���"���Y?p����5�Y"S��y����]+�;N�!���r��`��dYɄ�@�18�>�E�<K��A�Њ��)�0H�l�����T���F�Gk���^q�8�]MBnʓn��=��+������jx*�*��M���^�O6,��t�,�+�eR��TV��y�߾�V��wn�2��Z��=�\��'/�[��-��U��I����,�ν1��KE��j]s~�R��ͧ֦C�r�\.�B�M,oI�XU%ǒ�+�o�W ���>^���e���fME��MiR �����ۗeJ~�o��\!��nM$�?��懘���|��E�i�"��Q���;�م�94Ex6}T����~�ZOB x����+�-���/�P��<bIE��d�Mפ!.�T�Í�`�r?�g�K-z�(z�}�R����|�<��p�S?h�w�����=k�����6�R�]Y��) ��V�Vpl�6ő�t_i(��7��~a�O帅롔�����PԨ�ɣ;���P�9@ �՚�N�O��&GxU�u���e��-�-�״{}�km5)����N���O�aRy�z�x����N_J�ө`�rǌp�|�3R��|H.x�]����f�3%������ ������>)�b��\�v�}�~�� [��� "l�wB�-m/xO�1/����Vw8��d������e�"�m�b���H\_D���Δ���=a����w�Ε�x��ſ��gT�ծs��}H�!���r:�8��~ ŀ�����0�F�+�,\��(Yc'�Q��q~�7�&�$w
��:	[ت��݀u��{w��)�d�,iIa�z����l,�]��ivo����|���\��}�7�����ox���+f����/gDİ�資PH����C?qw�Yx&J�}vi�;��� 2���ĩ���p�K��#��ڍ �D��d��4Yȿa�:�@(F��/?r��N���T�u{���<�϶���k{�����pBL�����i��(0�Y��iڣ�|��;�s�y��GL�׆t�;�\?��6����!�/�/ڳ=I��B]�i�b1*/n.�p�ĸ��\�e�!�ZʸB$�Ǆ
H�����ُ��F^kj�]"@K�S�|Dp�
��`���/��c'�wf5����m���J�-�U�>�kQ�G=��s<��ҷ6����k��`w��i��d�s����e��Z����TB�O4��J�����婴l�n������4$]�C!��Y%��5��V���{��Q���)u����*��V�or?�ڢ��J]��ru��g��0b(2`�Q��a]�~�dK>'����-e���5���12��gS@A_�w��ae����׈�E�\ ��Ã	Ɇ�3zݙE:ʤ���MB��e�s���^K)�|Z������̲��~o�@3���Ig?[<^.�@�p�d�Q�y���N��e*���,\]�C^ �=���=TBz������ƇR���e�c��Ŏu�%������C����vԂ�ٮ�ʀ��T�}I&H�8�B� �5�V]u<r��= $�L/pz�sQ�Z� �߫
�Φ�9LS��g���h�h�&Fg�dK��*ݶ3�*��Q���V�p8�Zp��r�%&ݬK��˺'�K����$�Xr*�ʕ�s�[<G�C���Tڼ�r�`���۪�X��C-�Y/����y���>s�h��q?BR{��x��~���4�v��0�zO99�ŅM�A�WeK���-i�d�9 ����}���{�<=$��������Vr�X�q�vU�t�^���w�?Ob�7*u�E�J%�<��C���:Od�u��^���C�?^Fz!��٪"s?l��+����y���=>g���YUzT3S{.İzH���P?�9{a7���j�����?F���D�<F��眒�!LGe�B��	h�uJm�'��3a@�11z���[\{�t��e��E(��&�� ��2�O|�[��C��+�pAܛe[��]��g���r5���M]h����Z��J�>1�,�+�,R�B6k�nsF��{�)\K<��kyUBo��|$$�J%7z�#���{=���%9Oh�Y�#-�ż�/��A��Q)�1DS8^�"�	��`��]Z�l����jh�%\�w[��w�ُ{yc�1���\<?��p.H�g���"G~�[��8k3�d�{y��p�V����W3�h�#�|�t�m���ql	w�pt޽�����@��ć+"��F=g����&��������c�BP�d�:Lpd��ͬ�8Ϡ� ����"u������cl4¦�m�@���}s!�C�{|/�>�^�_wX}E���径(�M@�`���
��L-�ˮj*�f!6��%�~�y�6W�Y�'!�܀��D&���Ex���bMf���-ܡ�O�Q昱 A��WG ������>�7�xd�<�����@}�(��\إYf� ���fuq�����qt�'�1�T>��:�:x���r�c�J;`eJ� �����Μ��a�O��7��R M'Ȇ$g=7��~,ǵ�r]��E����P�cd�n+K't�����0n��ㄳ�5.�d�Ư����m&��}���\I��:C��ƽM$�=ٜ�����?����<kx���܃T"/<a���0P��/{��o!�d�N��-BI[z��1O���5+d��O�v�j��]�{
���4�u�{6����U��$���b�$'3�O�K��h�
�qr�Gt	}��.��,'��&�=� }z�[����SENX�"|�Tw;'1}�b9��MW�ѓ�&�6�:��W}!�f�N�1�2��O{&���%D�z������-OJ�F��Kf�KI�"+��e�ҿ���R���(�s{%�M/�WZ����P_�}��~��H����F�],H��^a�����+��>��a�P��/�H-�X���9�I붜�W[��QJf9F)i�\BW���ۉEʬ�S�ˮ5�tp��2*ɏp3��W/��˷R��Q:��ᴄ��kDF��m��A�tF�q.�>Nb�	�
ڍ�T�6�$�L�w�ᛜ=3�q�x�����3$!@[C	�p�?�?�3��t��Eг�k9�d)@����u�B�|�hed�sk���������>EE)�F�}�#�Q�Y�F�FI��r�@{�@��e�S�,`z�ڃ�c�e�F�d���]�	ViL�.��5��x�y!��E����z�]"�̌=C;�Og,;7���y�3fR�M��b�O!ث��Q��4��)�s��0 n6)��*+N��1e�2g3~��~U�}�.���I�Zp�Њ�^|I!=�fY�(�*�*�U��(ժ=���H�r��se����^тM��4�1��VL�\VV�l�� ��R���2��z���<�B2C���S?��1r�I���7��y�c�2���:�5���A�!�K��BX�ӭl�&�gW��'��\�^ܥ��x�C?��K}Q
X>!���
�+�	��.��cvWp�3w�l�Ɲb���w�r���Io� 97��>:���3���ngsLr:(@�����ZYr�Fz�6�A�J�d����Os+<ٍ�տ��o[��%t=�r��v������Et�c����Vy~��],f)�ĕ�J��9�ӕؓ(}@|A=�d��%
�^��l�pՂ�ڋᜲ<� =@rH�,x7�0�V�͕����g 4O"�޳�$f����'<��2��z�\��1*Ȼ5�#0:�.���1&PV�3\�ۮ�|6�Dp(-�5^��,���h�G�5�@�
m�,�f�I�~c�����[��69]�-r(��0{Ο�t�.��������1e�?�]M
�!\6�!˞�T`��X�]�-�x>�uh�>��s|a��ǲ����^��(}�}@�E�N����4�+R/�9:�/����|sVv?�`לsJ�6fz0 ���;��ٯ�Y�A��F�8�{��@�K|��디�#���Ą��zR��L�H��S�9�+�c��8���坽��
Ri�r�L9yf�,hj�+�d	��d��-��1V�	05u��_g\d�d�j{$���ݯ�8Ox��7hG���|�W�e����[S^�w���	&�H0l���{^����3"sY7e��[���˫�D}}�"��J�7�<vKW��T1�G
����z� c$�ES�7�*w�o�2�&�f���K��q�IC8�*�M���_�����c"�[)7� $%
�"� �B��"�wb �;��
a�$�殘6��~���ۂs�-��,�E���J����]8�\\I���hY-a�֎T����k��?��#	�ut�^G�{X��k]gn�4�Ӓrz�;�սA@W������J�S�Z)������6�5\��'�דi�&\��յ�*.�`&fJ����H%+3A��6��F��$��;
��ޤEAp���().�R9L�� 15�����*	�3�{R����mJGx�>�-z�zb�+�ܙ(�Vc�䷱��k�.�
I�s/����EX�J��Ү.�BvAb��`�!�!�s��)%��Z.�:W'�?�H����d7�O�7S�.��dd���o#�	ҤY�.�/x��[j!_�%�vM�5��bdC�p,�B���P�$�	$y�H���t�ШT5�[n�v7-xH��-zG����4������8O��o�B�w�sg�6K��N x�d"��ºg:�\HR���.��)�ս{?���b�pA{�Q$վt1���q�a�UB J5�~����G���36燅Y��=��'�!�tP��=[f7����5CX�M�OO���{�G.�D0�����P�~�����|(\�Y�4��"f2��^�bWSJ����];��/MK� �A&дKvln�KoC
��Q吮��4!�p����������U9`�R�6ܧ�Wn:�V�r@?��L��pd�Ĕe�b1U'��4���S62��r�N��U��C�Na$&�9o�B�H崿y��|���~@�2s���FΓ����O�d�`ۦw�,
B��� �>�(��s{�������ܮd��便���Պ)JKM`�Ri����!��ZX����~�L�Zd�`B]G�!\�u��S
	�ݕ�&2r��uD%�+w�^�|]����΋��TJ$.]'�t�zu����V�:t��VFZ^�H��i�7-���<��V	�S���������i�6��+���o�]��t�>s�dk���t ��W�Jn�qgQ"��{7E�M6�J�OŦt�����$�1|�������x#7�y�z*|��>�ҙ�^,� B�(Yd�C&��)�x�	W~60(�����$��ā�ejlc�*�*��nGg��^�]{�!AX9=��q8�?*�$�� �>�_�%�e�H���	f�˻NX�M���\�X0���H�l.�����������0D0#t�]GFC���gr*�e�,�Z>����;&w+���"�/x���],�ZJ��a{<1����hy��q �~ T�I�@#3@1����>�p_Xsr�����u��7^^!�m?_��5��DH�m���L)>o�z�d�{�M>���|ɿ�˷�
vh�5+����d䮔!�S�M�f���I��"2�KY1eS���a���lΦ��g%��*[!V���U��X�!�L������؄���]���Q�!�|&ʭ�Rq���,V�]n�M��p*���Y��A��uc�'���BJXE9B��:�T��*�o������r��H9�%�@�"�e�m�� ��~��5^�g��� ��� j��$������������e����@�Z��}��Gf��v�3H���g����up?�� yIҵ���M��x w>.A���@���H<�pڿk�N7���֋GNc����OS�%E!��r�
��=�e�L,��u@٦�Čy4@�	�fn	��`W����2�~�8���N0Ҷq�k�\©:�;F���������v�ǟԘ�������\�v��G21��q
��!�ex}
����Ko�t� �x�x}�c1�v#�u�] {"���������^�V��1L��daر }��H�봟�{�f�#�6F�[u�`���n� �F������h��9<3�?����
�����֨�W��&�8�Y4��	ʿ���,a�0��BV;�#��(�
��?�vC��^��b�o܁�h=��:���HY�ML��5u^��.�43��U�у��=N@�2�@����@M!t
x��}<������RU��\�`�I^l(����')|�i��f2^���r���y!��t_�w@ӻm�XTqX"~�ր״�
;�2S��F㷕2�@O��2\ܤ�b�#��=�@������C���v�Ԝgh����6K�p���r�%���@�i �����֝�^��{��~��)�������: y�6�E��c���A�}H�Yj�U߄(�l<� �'��@'�~��e��+ЗvJ�W:yI]��+���T�"3|�o �2�)�#D���n�#�6�V}��k0���+�ZJ��fS�%�x~1s���u��-�f�$c No�p7��|�?����΄\4�L)3��Vkl�D����>����3����Cb�i�,)�`����TA��dv9�a�0��UlJ����v��^n7����D��|6׃E����Ww�mf�ʱa�Yjj���7?��ty\�u��R8��<�:!�M���Rh�:�?e�����d`�2�=�goƐZ�c$���C�VU ܴ���{�y�HY~�7�T��W!j�Z�zW�5Fy�bb�0����NG� ���p�H����vN�K{�RE
a���<�e�]�☺:���"�-�=�o8F��c�1�b��a"���k���I�K�9�"��)-�A�v!C���ɉD+7��1U����	��\K,����{�;���ɼԼ`���N�쾇�BE��`��X�Ds��/wK�{(J����(jUH�@rq-e:�9��jrD(�R%��>a�E,�%j��+ψC�T֪����W��!k��	����)1a����C�I0�^6�n�e��I;y����;ƢYH�8���Lf��U"��r?""6��H%�D2����j#��g�C�x��.�$q�l{3�!1����Vσ�<89N� �Yji���i�,���P0�HJ�rdꕖ5�?�Kɭ����� ���lc57�$���-z�a���LakVVo��'@J��y�a�̝4K�D�g��\�'ɥ3,0pd>Gu��<
LOɦ"+\V���������68*0������)XV�Q����R��arkr$YW |��ߧ_ќ�|,��X��^�@�=mH�I�^N�.��o����0�L=}6U�/$-�E�6�.G�u��&h2�5qh�]�dt�S��Pt�w�"f�I#��)gsm��m����P��~��5�%]�ȅ!
����s_����,Y�.�P�n�\Aq�HJ��6�[n��]�_�����$��a��ut�%P����v.��:�f�[�t
w�n?#�0�<���6=�.z&�v@w;�t=;̂�����O7)�]�%pCԏ�Ɛ
O�W~���A�&'���	���H��2�X����MFlݫܝd�}�:�|e�ʨR�[=*J��`�Rџ0�����Nvĩ�7̸��G��0�G�9���i�� �HQ�@f�B��i�	���(�C���)��Cv��]{XV
�����&�߮P7��\��Bj��H��8w�G(�N��郞�z����]<��}�k���a�+ύ���n��!S�*����o��h쟓��t@�ɫMXA����2%5<f?N������J̿�H���jXF�z.3�$�a����BRxp�{6u��2���t�H���Q;��ƕW9���z�@�����<y���6Cw�f�U��='N�l�J0�(�U��u����o�M��>��률M%`-��2��wt"���ѻ���+�j�F�3P���j�i���)0���7�4$���ޕe3y���I�)/�U���s�+-�}�TS�`L���0=�Rq�>(Y�<֨0�3]#�?�`�����wn��M�df�	;LR����� Jg�s������y{8¹)aM���v�$uL��n�<�� g�#�ŗ��r�^�[��Q��jq&��Z�?\�åv����P�\�mcc����] ��$����cl�����=�^��=�'��U�@�#���W�������
<c"��5 /&Y�7��|�������]@̷S��:��8S!�HM �~����%�׉V΄���b��1�>���~��봙�'��B�{E��nR.ݛC�N�zH�{��HpQ�i��D.��Y���$����q��	���?'#����+�gJ%[`���a����6���e�_)���w�*�K�D�j�a\�$���<��u"x+4�=K�FZ����l`@��_��|	=�x�눮�5י]����]��I/���Ƽ�/[�BFU�����G���}s��aFSXK3�ո�"��s�j���U)���v=�Vo)��k	[�S���0��=�J�{$\�/�v�]�Q��Zy(~#�G�aU�R
b����tݫE�8,'�(�	E��SI/'x��𰢩PH���8�TK-�������%p��)�$��3��M�>�����z��]!؝(�EO�S�Ϫf�<��sjM�vЬ.�y�4�|�ǰ��U}�jɀd�C=&�l5�~�ѝ-��{�){#b��R{��E���O��N��d'9�Ń����c���S�=�m�($7-@���ڎ�D=��ĸ�U�̙�s� f�&of0�n���7�S7��wX�9�݇\y�޹2�<�P�]gzͼ��!~���A0[�B�{h_��f��xպ��L�]���\�s��C��p���%"�A'G w;�
�6�k����O�����yw�*N����*��[��F_:��9�c��A '.g�i�����]iPN�#���-��M{��W8�K�������������3�|�=䌩�C�\������VvI_x8��Ú����qn3d�1��:��9�3����fB��i�%A+$�w!�f%�IM1C�� �IC�7�(�)4)��үn%Y��� ��@�B��ɡb�vN�*e�9�"�#ɆR�3U���)AXhc���om�z��-�m�/�␦�G�T>�(1M+�\+J��G(���z�F+�-��1�8	An2����f��l��f����d}�w=�x&�ܺ)r�MD�:-{��-]%u����*�TGW�aU��slE�9En�A���V�(����z�jE~�g�k��,S^a���R]��*��OjX͕dF
uҵ�P'��%sd0��+�dϽ���3v���($|��mVcd
�RȌ�Nǫ�R��_���8]6���To�48��7�NG0�S�hk@ֵ���s�yv�8�3�͜�sa�=ݪ�^���{)^���[_��v�	6Ug���e��p�?�=��Ig������f���=�x�S�]��\Ꙍ�RN0V�R��N�Dt{��8��' �,�@�[)[�sxY������2C�%�w�Ѵq��׋/	�_�Eg��E�BHx[�?����l���0+��#�+y>��<�����?݉z��-'Y�c�d�B|��$ɵ�9��I.7b�	�%�)�<�*����T���L������.� �����L���I��NA^��W#����x�	��"!��{��$����Mȴ����=���ǂם��k�t��1=�Օ��<�՘�K;�f��+cgvٮ�����)����>f�Y19���c3���$x?���C?�&�ѵy���a ��4�����K�d���w1�GNs�W3��#c]��,a�yDXu�|�9L�W+����ŀ��>��=���dq��x~Nk$�q��Ə�D�?W��U�s�9���~�&��$��R!�IR����ZK��F%�.o_%Y�e"���#��C���Q�qf��ž>b�m[����N<�B���]���'�l���S|���;��[d�lrB�R�2��4��tW��{	0 ��9�/:u�Y���$������1���ci��� %�]��s�+�S�����a��>���j'd������ޱ�Fk�Ժ���Pr���|��b�ѓD#C�R�.��(�DF�D�8�T����WtM~иUo���E���x��.�VklM��_�0�������P6�B5%��P~�=�>E�E�������/i��DI�s!:����Q����	e���и~X��P���S+��>J�J�z�Yޜ��t?�c�g�t�/1�'	�AP�e�k�/4>3>�y�W߭:`<<H�'	9J� �?ƽۈ&L@�W	�F�$5�?M����1״W Ch��z�E ��+��/�)2�uo�ht ߯$cn���Iؔ��P*�q�����VQ��UI@	e-y����THL��I��P��@)o��92i�q�$MG'{�9I�ﶂ*���(��.�کCU�:��*tMO��AK�T�֨W/Q��tr�R��#���[���$�����mr8�)ҫ��'�2��j��и�L4���F�/%jXk�py7�\�ߑ�LɄp|�:D���"�l�����p Pl��,<1�鑣�y~�pJ��(Xu����;GS�1�`���5�1��U�T��(?	�0U�3���Nu��1eV��-	��UGC%�ѲP��3�4�������Co.j����uOذ����Aͦ	�t�������a̒����cD}%<LݙWflK� 1=���-�iK���#�B>����̭:*��n>�5�?y��=��(=�~C�J�x_LJ �̴eٰ\]C˰���6�RJ�YS�Z4�S��N,ݩ%�2|*�v���"E��ڰ�╪>��@�*3�2�- 쎥����᜙���2��µ��+�t�'r��SJ��i�c���ï��M�����O��$j�j�F��j�r�������^#�O5�o��@��\�T��`�IDP��f�Y�$�9�:�)�}����W�D�^��e0B`$�ꄑ�ҨP�×�&l��T0���F���{���<T8��"�	�?5x�1�K����e�E�+UI�FT`�XB0!]�{�� \TU
�3���Z��K�dT�if9�)3�;�=ϋv}�9��@]Y׷!H�zJ��x�'b��C<�1&
EK�F�=r2�o��{�C��D
��x�m&HQ��)�����2<��PR`H�����E�B5��?g�T��[?4ȧ���A�^cHo�t�D�P2��h�Q���u3��,��/�~�X�27�֐=�Jh���G�@Y���"H|V���[D�ho('d��+����+�Q�P�+�(ɶ��B�i�rD��,������G��X��2���3B�	�V?�6(�C:v���|�*�֪F݉����5��󗖢@�N��V]�US���M!��FzQ�`�G�OQ�OE+TJ~�2�L��TΝ�~�O��;�(�����i���>�*��FuϟTe���G��|�b�4�ԉ��6q����Vb�dȄh�S�"-����g�cm$�\��X3$��@k�I��3�24W��� ��.h_��e�mM������>�iT�9���gM�Ja�_+��Zu��LF�,]A�d��G�Y�!�/.ئ%��s?�쑭1Z&��p|e�>"N�T!n(����1	F�H�hT���pHZi8>��D.r���
��
��Q��� ^����6X�Da�z).U�d|bZ*�!�����<0��FȘ;&�����,�����֩�dT��Q!�L>��+�*�7\
�W��?~��*#� �R7/��c�I��b]Y�4П'��X/��ݭ���J�Y�=ʔ\Y����
ˊ�:Ј�!�����l�ĉ���#��5TD������iۤ3�\�2#��j	M���������,�ǅ��A��Kj�^��$�ˀ�J�iZ80�n�1�5�Ȕ�<�VPj�P��X�R�M�R��.�I�l�Ӛ��{�8�MV	~?z3g�W5(2�J�@P���VO�
p�7|���*V�����c��pIr�gK������"��l��N�%��Xx�k�i�ZAGl.�k�)Epy��oa1�B\�|����ղ��u��ۦ��k1�$D�z���4�z�ߥB!��Ņ|
'�!�ӇԀ��H���up��n��S@�f4�ut�;s��	�.ԭ���Xz�Kd-�'VR� �����ѻ�	��fT�c�5?��[�Sܯ��w-�C�Ѫ���W�O�Gѯ5R
�U�,��8�X��='���ՙm�c���F&��b�ݶrdҟ"�d**�� �)^ury��8�%����������y��O�&g��
q�'� �:t���0����^�S����^`���ϩv�d��}� ���T�{�w�}�_OA�(_�+˙�y�(c.���XU�Q�Heu����K� ��	hφQ��r��,_�}�X�#!��.���H�hp�����P����^U_˂(���q1R�To����P���}��(�X�n�NK�e�%�6()��f���?�'�5�`�6�Q �^�:�tyEK�������iX������O���9d�"����I^%~	l�_p����!�ZW9���~�XC�f���5&x�D�[u�[N@��߭�>���S�!�yZz=�Z2'�]�2�Ng����.�0��b�� t����l �����MB��z	p��:�-�s�[�s�Q�eKj�,1�TiZ�

���s�}���ѻ[��o�(\���fF�)搜؏5�G7��H�#f��<j!��[�ܦyGhR��EĀ�ۛ��G%�.Hu�8��&`�ܰ#�|�2@%[p��N��cey�8�LG���GC�<�P7�k���)�������lU��'i`�B�Ь�JG�����qJ�GvT>;�UC�XO��g�� �����N�e�:�Y��Ԋ��z���f*W�l���#����ZK���wNu5I8�M^�x�" ��?�-H�Ej��Ӵ/p�����z7����c��P͞�ܑBk��DH�/�;	!`�S��z��-�D������&J^3iCMK�/�X��0�*-�:D����L����X��)8������� T �b6
���c������sn��
�� �W��G��Qd=d�̔|������s�����z���y͡֐���o(|^�K�6�I/�J�)��e����#l(Ow)�;���
<��`_Ti��Z�0V$��z-MO���i(�����K|3+�^r/�����[r>�Gu��R�Zev��14��������cz��W"b��9��{�����c�8m>���<��d�ލ�[��J;��{y�<
�������Ӹ�����|�K�rA�:�߿����y+�������p���1�帉
���sb���9f�a临4ǥ�~u��� ֿ_����W�Jj~�#�R׫r��~��Nӯ��G����ϽS^}�~Wk�^������_M��H�5�@!�d���~��|�K1�W�+W�`~*t� sÝ��3��[� L,�C����&�B����(��3���L���"��tV?�P�z�y�^���,0����ܭ�6C���}�J����ũ�V����/�O�c��Y�;_���$Z��Mڑ�mb�3N��/x��CPFM`v��(�����z�y��6�W�/��[� �G'ǵ�z��=U��>�
����.\p�^M34�|R:}?~�C�Aμ�����BF��G�=�`��5�Ʋ+V��n$y�� �s�G"�^~?���;����V��q|�oƩ%x� �I��ԃ,�5p�.b١��wȞbݱ�"g�2�eE}Q5w��ߧ����F\���2D.~��1��[���u7�8�Z�=j9C�tiū{�Zň��G�.��ˮ�c���1؃HrdR����+y�l)>ƷՋ�W;ұ�9�Ok&ꢣ0	�4���ώ}��D�V��k!MR�9YWD4`�c�ʯ�iC�u6�(����A�>
��mN���|������z�����;���o���)!g5@#�V����j���u'x���(�X��|O����&��ݷŴ��L�kX�h��
@��Bk'"!lU9xV�Q��R��w"j�1���S��}T�(`QW����o�f�F��;���C_�u�@૝:^dT��o�v�]9���_H�72�Ÿ �M�^OVbdV��7�S���x�c\@���� �QUIL�t�DZ�Z�Ǭg%�	����e'6٦�'�_k��`��� [Q'��3��a�հYͩA!�����G�Q$�v9='>^fԁW>����k�GTr\����������m�ۍ_�2����D,{��ܳ�Z��~�
�I��>��M��hvc@zV�ӔX�v�j}
���hp�� Kd�AW��,��	R1E�Jh��&����[���{}�z%����l���q����c��C͐)���42�\s6�f�F��X���*geug���^�o��1�\g�1�cb�nֻ�H��8���4=D���f�>�A�??"~�1ë���^Sl���$���8M�#T�+��)TM���?K@l`-������'��1Î�R��^f���!��r���t6�����Ig~�<A��#��(���Z�n�c�'l�����|7+����2��*�?
Tˆ��C��i`�9m�M�H����Q
���)���b1�N��#7��c{�����]�}f�q�p
m�0`�$��Q*N[~�4�8�n��=z��Ο��&�� ��'a��e:��L�i�������O���NZ^�@ԝ��]}�w�[N�2bO/�9ъҪ���)�2Os�&�?ʝ�V�����H�5˨rV<�k^F��)�Z}��& '32G��E?V�.��P�a�NE'ZLC%�zzj_#��>��������~2�����Y��D̩Q��M�4�,��X �5=fb�6��x��������(k����8^<,�/�[k� ��r�\������ �A�iO����ҍ��sIb��9��&Èùft��V�	-�Y9J-^�wmAx�d�&b�'�E\��Jl��B���!gL����^hJu�������� �Qp��븚��_	  ���Q���`�F� G�s��v7 �T`x�d�N������9�k�0����\)U;�5��a[S+&��=��#\'K
|�M��&��t'���I}�Mp��7
%;M����1`�7:g%���bɶ=��0�7;���Ř-�L�{���������izs�[��s�����1l�],�x{�ް'c�5�J4Z�T��ߧ����lUak���٥�^���	0��F쵱]~��i�%����T�J��9��� �L�&���9����X����:E���U�)>f1��E~_EEI���'ҿ'��;n��#�)�k��b�*����:��Jv�ͭA)1���j�^5�1�>���1p�Ca�+�4�>]�Ns���q���7��5Q@�>E�.Fq
���T
�y���?^J?��t�87T�c;(��mP*F��Գ6�-D�e��r��7���% {�|�nU�d��a���V�Q��z�1qr;��FcP�����q�hڴ�)�>ќ2�c���U����/��5�O��OO�8LΤ^2��	��,m2�s�Kv,�!s�6����v�]��32pgX���F��Rzê��`}�Q�:��GZz �������*�u�#魖ȖE��Q�}G�n��(��2`�eA=���0�--Em�^�ʸ8v�GF	f�h�M��R?�&\��u
m�/��ND�y�Y�N]u��&N9C��� @49�͌@�G+>S��{{�u�j��d�Rp9jh���կ��nMq��u/d�K��Źt�3̜��m�����m���9��0s0p�x�%��0�5Mw�J!G�
j��b	d�E��;C2��jU�MW��\�c�٥�+�����AA�iłA��o��-B%0���T�U|��LUƴ��S�1 
uLc��1�`�c�)<J}���Q���⺒�B���\7g\?��ĉ�p�S�67�z�:��~q&����ۙW0Oe�Ӵ��7�;�f��Sa`���tح���9�¦�� ��e�u(R2�20���DMn�Mtd�"z(Rr�U��4Gn�:�9]��B����
nF� ,�ci+jJ͡�9C�9��8c����KΦ��H)�H5�Ѿ�rpF�'|����y�8t:g��u������Tp�Ti���[�d@S�ٜ��,�n�.�����U�4����ʐ�.�ciMTIkr��?�pB77G>�"�ί� ���+,�Z� �ۄ[�y�`���`�Q5��V�ޚ��Q��j!a�?ת&X���(p� $ �ڪz�,ԑ(��_F-�`�/qR)�I�jX �r<��jܪ�����4�YFg�}-$"t����o�I[*��q�|Ab9l�f"z>{*�y��Q���s�����lX0j�>ۜ�qKw��FT��L$�4��5HC˶��#��,�,bC�۪m�`��#������S.qԨS1��$���=�i{����SM!_#^�މ.�7������+�����׼����f��LGY�o+*�6�s����-�;��-�i�(Y �!+� �C��q�3���բO����0���y{��������[y�li��y,^!�x���1)�H�්�TM����(�\ᨑ��H��*��������p��9J����H��Y�Mo��>��Ԣ��	�rG�C���M�mbN�6�[�G��h�>��@X�C</�f"���j�-V2��4��^\��JMܲ����&	��k]�C",����n�羴�<v|Aa!�������F���	�g��6Tq�^�E3��~�p֣����8P9~9hu-YU3}�l�T$���U��	�����Z	[�Wu�c�o?��}��A��
�upў �J�Ey�����T�d�ܣ�Ć��3�hg�Z��J�<n\����|��������\�~8w61����D3���w�!r�VɅ�:�����*
�5�����R	�]��W�ݩ/r��Z���ߐ\�d�d����pT�"�� }f=��qT=;H0T��!�B�hp-0�0��FS�ޘ!��DDL�/-w*>xU����Ԣ����?)rx�����B�$,?ֱ�b\<7�k���(UӲ�����Z.X^5�OӒ!�x�N�@}�B`��nS����@��"�x��=�OE9�3���&�;��D���"��wp7��ԔFA��b<l�U���i���xE�/�M�Ɨ��� +!XM���k\f�f�ᗂ�g��G��>�5��H��/�G��w�ke��?����<"�o�1�-PʈKH6������Y��K�����U�",���Z��0��Y��s9�b�,D�1��Ɉb�W�����X=kjK�x�E��;�dL��R;N����̴d�Bj�
}4��W�ЋR������"����'=$Bz҂�d�����-���)}�C�xq<��&����1.H�5�iR�"��8{�9w��"驕�VN�-�n��Zr����(8T�-#�F��pb�Ff�@x�.�
K�?*�֩y0�)G[r���S�$ʩ���Q��Ldq����4���U�S�T���zm!b"�M5v�����B��X=d���6(�oO�.������0�4��a�	���(�*�EH1�S��P�[�4�PF��ʘ΅�F��mWx��F��-e !��Z���,��=�4nh*��f�uj �n��|�g(>����Pd�1�йi��5Z�_�p%jUpQ�[��V��̿�[��B#��=�i!�B���w~I���MˇH�ӿ'���嵽�������(��ӗ���1#S� �)�P5I�=>.�9��������p+Q���o"5��1X�������I��ۺdax��ٸ!��^�H�%���@߃<��
��^�i�[��;j]�C+fM��&�k���1!�ԩa2ُ�a��D#��K��S�+Y��dL�$����,z��܌�>"N���S�qQLG���|���ؔ��´��������2Q�O�.���9��RU������:�\b���FB6��I�83Yz��Z�PL�^�n��|�RW��#�����׉���{/}J�D�~CNo��%q�}�K�����(�YbZWy�me�aS9����V3��q���m��V��(�>�?{�%	V�@�+�eso������M�U�ݽ\��UK����Hm�᥎[]�]���ջ\.F>6��A���u�u=��p�/�XC��uͣ���N�E���D��\�p[k��
�` c��L�뺺��YWS�&�V ��	������y�`lh���_ē0���,�c���##�������޷��\3,p�eH����ۼ��o�4<U��aT>D}��;N`S)�VP]eP�  ���^`�L��X������Ho���~�)ө��\yx�@RvW��݃�I�r�z�����v�?��M����+v�J������4S�=�~��꘍8�WrB�Ʈ��(B��\�+�lU��ҕ�p쫄�q�S>.~Ԑ������B�Hya�M��gN�d��_'ǝ+����A��6r������4S�v��N��]f����e�"F֨~Y�mV��4�)����^ɓ��lz,�V]9�\�&s�vk2(�Ҭ��z�!�"<bo�揼����J���
;u����K5iM��4�m�<�K3�J��ňë�>�	[x�(��j�@LS{-���#�V�+���X5{�']M�J�����<���
������TfZ�A��`c����_&��J[��ˎh���������)^q���A=���8!�q(�d��5�X��}W��'��[��)�4}1���h����U����UoI��ON���k����E�����go�?c�k.�[����Ć�o�v��K�C|\��
$�?މe�Su������+O/V4�zqiN<���Q��w#�g�)�EZ����C7�8��Y�F|�,yɃ�t6�n��<�5I/`t� �����N6Ӓw7�+Vխ����#J���1�6�g�5}?��1^^r�u��SQ!���j���z��﹀�o�P��{�s��6���W,��\O/xt�����꽖�x��I���p�������¬���B�M�K��8m.���?0r�]���=#%�|'J _�M{����:�j�`�p**������N����\}ȓ������������D^�z���0�(>����D#_9w؋�Tk��Zy?�9��nV'�Zd��z��],K�?�����v�7��*p�NU��mo����<�ȴ�����2���Z��p����퍍50����^[�!�<�S�usko}��kG������K����]��Y���?��,����.e��d{�L*B���7�s���NJ����gg0d�o��n)�=������&Uq����;k
#̾��\_疓����7h7?fB���֞�GY����|v���\A76j�	�$tksS�������-�m0�����O���v�6�y1��]���\�Qn*sgk���2�Q���
�"�����>�EW��͵�g��Ao��Ŝ<���k��.F��-R��5M���6v����"�ol�Q�o<_\zc���{1�)����}����s��)6�����3O�\��6�8S$K��\��ᨦ`}m���zAY״��~��~@ѵ�u/8M���s�w��F���a���]*�WY�k)�ؑ��ooo�f���@6�%J�����f~Ř�Ҡ��
׆�E���&�H����6m�M�U%�Q�jLw��w��Lp�F��>����{��l0է��lm�?;���i��ۢ���l�]���}��f�]�dk�.����ӈ*z�v��γW�akk�ّ,<����-�'���ϒe�kT��v�9N�jTe[�S�i�@���e��k�GP��"��:��u��(����&X|c����1��Y]�䨂4�i��5B3	0G�*a�����i�:� �%�e�M���Sx]��l���l�ZY[k��5��S)�m���eck̭oې��$��L�qs�E}�X⺠Nm�R�l�(c��فl]f��>%l���+���%u�y�l�73dM����߶�6�ZR�斖��4؛������#��.�����.�54�G��<|����=�O^%������f��9g���Lѱ܎��-��J�<z��7�(����N��>��_󺱷���C�/�r�;� Z+��-!������{)l�Bg Rl��݄d��r���%JG��k"���Qҟ�a�\q�JŴ�k�����	���@�/��)
f���D�ī�I�� Շ[¤�Xr67�x!/,ec_���c��
����m:I��������|�����Z�Zc�f���@�ᄬ������:�C�a�`����L��7$uc]�VT_ZU��[�h���v�Dx�a@` ���{�֠_��AY��a�p8^~�m��AT��φ}��ta�Ơ��6r�E��}���Ͳ&}_D$��U\t�������Y&�� {���_`m�������\{�YAr�wI؟D��J�ҧ
g�eB ������.r�f��C9�{�\�BeaxCd<�y~��^�a�w5ŕS9/�,�v�X�?{k�����AE��z�@Á���~袇R�!B�w}�����i}�N������̅iT��g*[��	c�%��v`�K�S�l3�Xy�͹��9E�W���j�,=`�|�U����憤��@�qS��ot��@�	<7I[��ft��x;��-	�?��eۣ����@��
Y�kkw��O�V6�~n��l�ra�١EX�T
�p�X~�-VA�P�
*�ȦDim� ���{�l�O/"~��V�w,�MVx�V-̶b`�_��������	�^khr��p�.!
#e��Rl�Ե��wa���}�[W�{}Z�����o�V�7ѝe� ʜ���Ty�����/�*:D���o_Ӆ�ڛy�ٱJ��,�P�z_;R�h�H�"�ƻ$(���X��@��(km΢!3K�k5U_G�;���j�jQ܍Q�������H�]��TH�Ds��du�1��`��H����RF��X�s�d��o�5�$�ٰT]�����y_�E[���Q۹,;����`�(��8N������y�����U�J�p�޸��Cؑ"�jP��`�ѓ	��H{j��6���<9�\Hע
�Qɤa���e�a�qËv	��΃$�}j��c�B�=���VB��-GO�>���u��}N��?��8A�� �x�e�E�Aqt��gN�C���k��Y��}6�%�L������l��c�
�������'�T���M�$�-6Q��)Ӱ�qo~�M˓�5�f�ȥ�d���K�U	��א?A?�e�0�
O��<�!��$>锡Nq�|��gȲM�8Vp�_�艣��ę�����0>P�����ӉX��䄥�5��z�LហʀZ�'���cT�R7˔��X�Ѓ �T����"��-L�8������e�+��]'��(p:R������uIGż�,9�f����^�Q/:͢0.�r��_���Z�bǯ�Yk	!�]]�1�z��ăhv�7� �����]tP��9��G�/�k�A�S?(oz�Ҍ<bt��.c�I�~\��bߣ��3&�!��by�Ϥ0�]L��,pb�r�B�vLE(���;����&�p�O�7�T:�N2�>����o9?�p`x9oG"��}�(���w�!i�|�eRg�$3��l�ʀ�=e�@�/�)Ҵô�S�#��>y.���`G3e�%�ێfG���z�G+�Z�R�_V0�Za��LNV:0����N>��-�#��-�d)��Z��ao����	ف:�E��}�r^�ۂ��z�(�\`���%�`g{
���؁�ig[ϰÂ�,�t+$� w�
T��2l�_d-�D�4w�4�`���X����D/�k6�_�6�0��<��0+|�/vr�?�+�7��?;���+Fv����nK�k���.ffͽ�Y�R�
*��r�H��b8���`n��4�ɓ��8&�W�6;X*ĶHk�E�m�.,m����x W;Z���8�J�*�r.W�y�.�Y?�
�`�����Ԕ�vI~��SmA��3�捡�%������}�4�ધۅ x��w�)j'�d���<��Lz�e(�6�;Z2}J�������W~��a��A�q��o�@j�7�ݮ̟�t�ȞEͤ!+�n���	\��/�0�
�&Z���h��5h��^���?��;y��{�*����Z�,1i��KΑ��T*Ȋ{9*搬�C�-0�/�'��gQǃ?�kFP�B4������y}�f�֛�9�)d<��<(κQ���z ��ש����G�� �&c4���9���XThzY)��6��3��'f:����-K�2�e�J�,����zp���u:@�4�B
�:�Ez���>�����f걅O����S�-n���6m�@��*���;�i�U��-d4�Y���GXv��q#�@�NoOb���S�<��/}`YC�jt��j����r�Z�~5���EK��&�E��0��Ϛ��w��~�~��y�(�-�"̹��R�A9�!��d��m�<��c��clJb��0|��Up�I�Y��`y���/!��`�ZBN2_��GN���	��Ԙ�v������/EK�p\�וaUV�	�&�CKE:��mC���E�0Cѡ7z���[�6���&�ł�\J�漤<���S�ۮ�*��!��{��cBޕ����
ܪY�d�q ɲ"S�v����R���e�9]9�Pod��� ��m����U��G�`����Iw��77َ��&���h�2� �~��A:;��EXa�ō��W�dw���.��5p�:����A�9:+=�{`Ic'2��2��Y��&��%x��$p��U1��p&�hJ�KLįt�fH��s����b�G��T6�I&QPC��r@t$�]��pH�2�:�tD#�(ƒY�� ��dSG���iT��,��\pE�V�hB$�Mv�WhV�x>dĽ�p(�Ӎ�;�'�)J!�v�lL/i{O���A���,X2p��J�P}}g��MO7����T!�B���<PBy��oc�A���(1 &�N$9"�B�9J��\B�5����R܀@_}�ڀ_�J�'�Ũ.��g���*�g�;a�x�r�G����Md����h9�R3��a�a��������X�H\�?��I��.n�t0���o BG�D��_��f�c+@74�m�d�������+�ׂ�f2a�M$�x�l��*U��)/,{������4�7��r]v�:4��l�����T�����BѥT]fvuv��j��^�H"�}�[����g��(Xf��r�dv�iP)�u&��@ �X֤�i_r9��vi�l�T�V�4U���[�/�4&\�3�F�9�l�lIn��c����m�݀��������1eX��+����`A��y��cG扞��A쑕�	��!�k̲D����,aC�JAbD��:����6i���r�l��rp� �sH�0�9�
�έ�M%�m�ﶘ�˵�����[��b]a������� �9�ز�/okd�ПA�ì���ƥ�L�!��L��,Ce�d�r��0$�֐�\i�������
�T��+�3Mzk�&2�^�	)� v�^���ϗ���� A�u��D�ހ�*���ϳiU��L�	AG���G`��tA��'o DV������O6 �Qãe�C>�Dī*�i��a��^��.xpU,x��&Q ��_s@�3�#H�*���$�՟�d��uyXK�c7�"x�'�=i���K�Y9�0�m�C,�Jf�H?���
gw�6${[e�afG�ݬ7�8��Y,�Y�+�@�Ӆ 
#&��aߓR2jj`)����Ev�AѢ�rP��:\�Et���'{ �� 0��U�YhB�D�"��#%:��Q�f��s���A�g/a!�#=�BN�XK�m���`�
����A[���2��(B�Y�o\#���� �21Js-4�1�;�&e��9;M8:v�c����?�Mﴸ�y�Y�_�"B��ڒ��U��v0%�rm\5-��1�L�[jo!&���*�@5�l�I��̡��R���&w�	x��zb�v��\�_��3�*���O�`�Y�qa��0�"�ĨǹE<���"�û�	�R�{
�?��*E��Sa./�	[?Fsmo�"�L�,t���`��35�W���ϯ,Tke���Ĕ��ƅ�K��H4ב*��k㔛�U�4A��]Xks=4ؑ#��������I �3U�g�2�j���i���r&5H2��on^�R�y	����ƺd�:�	>�Z�r4���t����Ă���G�<������D��t2tÛS�~03?;�!O.�Q�S^e��x����-.�;��(7�u�z|�`���*�H�C�>!�ތ���+���ު �\�?�m�|0�����=���G=%��J����_�;S�w�K	E��T�B�r��K>���P`�W��� a��:��XJ�2�-gV����R��"�
���C��Y �J-���]�>˅( sz���xрK�Y��#�b/X
,��l�J6�v�����/X�{��z5̌�O\#�ɸ� �^-`�cAl�������&]W����cKFf;歈�'Β=�V�H��PrƁ���>�RM��<l�F�.���0��>����G�u��Ė�-sU�TmHc�۴\!�WQ�Ωb�aR�#XU!l��s��sAG��W�3D�Cpdb�3����*z��I�&O�e�����ׁd�b�Q�
����UP�Q�=P6�(T�gIT�T X�W��(�(.0�<�фG�n���<c|���f9տ�"gl�7����8�J�\Gf5�4�Z�,ָYY�H�ɗ}��4�g�ׄ�M�w���� ̇ϳ*�aw�R/�A 7\��(��\(�8n
VyxgvH���iI�Vב��X��~O�AN�Y�ހ��\���kඍk�ތ �^jH�'���S!K�$}a�=���R��"2,�]�T���9�{n��n5��DAG9i�C�80��b-/R�����1�v$9xu���I�p9/U�*:��Pg4�e���,���Ç �X
�J��o�M�����m��S�7���r)u���;$��	�S,*����T�=V0}��1}d��j��`Jv�}qM�j���p�8�HK�0��3:��	0�z`5��\*�E���-
��N����Q����?}@��#j�u��:���y�9��"VD6#G�9'�rp^/����Ɛ��"&������;>��-��#��Q�[9���Nt�]̹���<��`YB`W���_Ȯ�o�%%�� )�"�:�Y3��@^��#���%���k\�/?q2��u�C�pX��Ⱥ�%&��\x��쪲z����@%!�o�"rW_-glwZ�n�e��q��zt-�qW�r^��r>�:�ڡ��~.f�N�g���.��.SM���|����c�q��"�n��"a`'���>?&5 �8��y;k�S����C0\Swt�@�g)
���99A�ڎ	$H���8]�	���,;�����P�/���&'�ԗP#�fib��fU.`v���&Gwo�R��u�%�Y�������/T�0B���R�䛚��§�s.���*����ʭPd`����7cWA}2�:������y��2c��H���o�_���R��{���⭎M���0Y���|zA�ĞZ"צ���i�)���쾎�U�M����`�a���&3��pS
[�mI�)�Vĥ��%�Q�7`�g\�]�raL�đ�����|I��Z0�Jٻ@^D��n�s�Cbh��n�(4j��������,�},�n �VER|ydH��c��^& �
PȗQF�9��#x)�}�Zr�P{��EqK��vf�U{����˒�J�_za�V ���W{�r�RaU�F~�8ߴ��Ln&�ˢ��#̊ɢ�bnL� 1kG26C�/����pYWHFKЖv�#�]N\���Dv؁��.1K�G���ȁ��������@!)
�d�r�P�1zޢ��� .6Q�z��m���MnFy/�/.�3,Lي�Z?��DKH��GA,x>�>���Ka\���`~uV��4���	\g(�Aeu��(T#
��Jo/,�%��X�{-��U�9��%g�en�jXW6�C:�h��
�οu��a�%N�6��)��	?���v�-:<ΐ8"�[��@��kq�)�؛:�jYE��eS~�v�ө�t،�9*�pg���>��Dͣ$�oz�Hy]NƂg�1b`�2uDv�j��@ѫ|Ar1%�哥l���m U�̨b�8�KXj@�9�1��<Bn�Hn$ݖ[�ˣ���pQ0T�i@[
̱D��a��g��s���d��� ��Ld3A?s) �I&0+�n�ה����\F��52��9ĳ��aq���n��,���2(ߜ5�=�ڨ��(��3�`�uzUQ�bFD�T@��ܤ�V.���q|#��(����u�N�č��ڄ!Wx-!j2G�1x�DU'�:���7�jg���}B}��D?C��SyK �}ѳ����6<��oʌ�����s��P7oA%��9Rv!�Ũ�"�S�sI0B�l.���g��Bp�*��DԫJ]s��1\�p�r�@n/�U/9GX�U+� |k�AY������Si�T!v����z�w..��$��Fz�g�����,ǐX�2�{EH@�gVp���ҭCE�� yf�(�/<x}�\,��*�}�������s�;�þ�" ]@d� ���e����X��ӆ�8���(�Q��2J�	B'K�`���t,?�J�ᬋKD��SO��&�|_.P�����&�۬b@�Mtń�'�U�m�c���##��c!͏��p�pS��u#C�1�)�e(�@H��ˉ�J�ߓ"���L���|d>\c�����C�k���#8~/�����7��$e�t���>����K�-Bx}��V��p�M.��G� �'���2Hx�-�LW�P�1G?�`���(Q>�:`���l�6��Y@�q�je�A��<��붺�
�h.�	3; �m�X.�X(� y>oF��A1���%�$����#*����h�&P�媒��|)zy��블b��&�W�
E妠�rkE�����k���0J!f�~��/�x�r�T#��-���t'f�dI[����9-E.BH�[eЯ�ag?�E%��Y�*��RE��g@��G�P��ƋJ�| �].mw5`�����l�3��]T�	���a��Z��0���d���`�E�q�z��K��Z(���ƶ&��8�5,V�F��Ġ?Ix��9�	k>/�N��� �J�c2�xo	$��V ?��L�Q�%�����d%wR�&B �׿r�>���t�m�*<�'��[�>\w�/=�d�U���q�1ՙK�>͂L��kħ.3h�^���&��ЈZ�`ү{@t�"JHݺ��䝍���ۉ`�2j�����44���^lxj�]�_-2���UA������N�_\$&�a�R�:��9!��2��(A�?IÂ$$Z�:��{��NdP՗���� �j�2
��U�b�(�H��X��[J���M0�2#��>�'��D�1���y�&���gi���\!�_��<C��k\�^@�ɤP�F(r��)��L�x\(K7M��e�YV�¼+Ùe����މIK0�V�D�8�%�´D�0�TY�5�;H���g't���/�-�ՙ��`����-��l�T�`��^bxi`_`+�T�@�
�˛�0o�f�9)N��d�-�8n�bk��	��?"������yL[��"Z`JI����>�I��ڡ�,�/�� g<%���ǭ���o�N4;��ثЇ��R�����p�ӹ x���yX�ESd���Ëq�v� ;�u#��}�hb�Z�.0�X�<�4�k��y�$��Z�Bp�d�e
��y	�w�gD
�n
_�3�l�0�ex$�"���+�Uo��ݰO͇E!P@�I �^�9�W��r�?�����؞�$�"؉�ߚ3�O28���Њ|@�y��֐�	�ΧFt�N�D^X��u�JWB�F.v����&cd-Y3e��D��\���%��`u)�R�c�d�8�P6I����!1��V���*g�l-*|����R4��������3��C/n)�!]n,jzn<��֕x�Kg�&�iK���y3@n �Xi���A�`��.�Kr��_V@#erh�؈AAS�v@���$�`E01�uc�A��t}(� 0��y��
#�(��;W��E��}�ov�IR�0��>
FU��@�"�у���|H�cD�H}��)��D2N�"�$#�~s��
Iy.��@�3�ό�X=�o%�ƅ�"g���u��9�ˬ�ke{�M\q���B�a�ҕ +J2R�Wd�pO���f�{|^W�%h�#	f4��lvs���J6a�ܪM9PH����IH��_�KC��� ?RӍ]B�^f?}��U(��,��t���1!���<+�ǿ5Ґ�R�(�G��rM����|�]�f�!�f��2��|D̙2��&=��]N���]3����p�(c(�|�ʍPT[�f&5��C����y��.�T�#��&�A/��l�r�j_�p�bQ���N��2LҲ{�	{���7�R�H��_��'�`u����Y���D��b����>�.��T"�_��TM�MM���(�	�+�J��t�+tH�pٰYY��.�
H�B\ ����.����r�E����@x~��q�*kͩH[$�/�HŅ�C
���S�?����(�5Q]�H�A%�n�V�\�s cI���� �3{)�H,�m����b��Ш����TF6K�D[^B��E�k\�T�6lu=Ȃ�
�@֙�GT�1h�J�N_�`�yw�Ng]0�Z�JG����
��A^����k���Տ3����t]N4,h�%��ER���Ն.!��)�%Z۫)���J���}�QQ��L9?��(!��J�M�U1����)�KN��鈜c4x'�u�9� �N!���&��h4�@zT�xH�,:�?�39`#�n.��IuuLvħk;'�\4E�Brw�b�@56yx0��}�)��S,N���,HX�� &��,[OS[� �
̼�?r�:=&�c/^�_����, ���
B��	��H�!�a���COtU��x<%�Ն��f��p��Ar%�EG��;��DH~�=0�k��8i.*�.#����O(�k����7����2A�l��$_���ڝ���S�At)���}D�u�X�b��aY� ��� 㫣�*J�Uk���'ǁ������-c��6
RL�9��� e(4�?�AEܰ� kن4���S��壙t�B�}eQ(.�hzn��'��Γ������^�����/�H:��5��X�Ap�������'?�!�E�h��i���k�B&��u{��%����n
T[������yqT�b�j;��������P�Y�?5_�Ka�Ϯ�|_,�/g���4<_T�> />�L�1�R��Nd�v��ڛ�9�����D�ڤ�0$Y>�Q����8���W�rk�R�����C~�
!�XzO#�ΣgƋ�C�(p�V�f/q�.qa�=]Z+=�@��Xz �a��- �9�h��}|�2���\	���\["�k�M)@���f�F�j���b��֔��_�7�8��[7��l���Dd2:H�~z:5?�Z"�K�L!��m�.�R�I�Ɩ,($D�]D^��{�D��#{`6�D}� u��JL�\�ê/^�r!T�{V0��(��F�!��*�������H�i!�Ca;}��DՇ�w��%�V5�G77��V�y���n�Ի��4M�Lt�Tl!����q�L�� �2���5��j�m��Յ2]�g0j�
ir��ޫ#�����XQ�L���ݘ�؝iRm �.��Oᚲ�A�s��fJ�iz���X�)�	�p���vǬc��i��d��s���>qT=����)�8�	��T�YL�L�l�r�ܧ/�>�"s/I��E� ����7U��S��b�R���i�1����
3��5��R��YAD�X��t[U�c��)|�|#���Vr�b�R$�X�R� �2�>%P�0D)&�g��[���:�C t;^m$sb��Z�������w��;%�s�&)�3J���=�,A�Eǉl}1���O��������H��^���>α�P�my���M��}5���	,8�Tl������0����g)~�y�N�=8��x�y�����P	��X v��i���������8�	�쬀ܔ��X��D�i5XS0�tA@�א��Z���F�n*T��j0���ㆨ�<���=L}tW�3,5�B��_@��+jU����I!�ڗ���V;�5!�hl��X Id�Z�Ѡv�ᇜ�kv�4s�7	0�.zB�����V���t��M	�±���c�r�l%��
�Y�����O�Y��WD�(S������>ϸxY}:�1^�R��'��\ RHn}
�b0�x,�R��l�HȽ�c E>���ɂ��C�^�CG���PZS��X`}E��J�6�*�I�-n,d��j�� �*K8fQ�>X)W��a��q>B¬n�5:s*M�W����$"xgrH3/�F#���%Z���#�B��� ���75� ��2�W���:�x9lf1�2��]iq<�L����*�	-GvC1f�:��t�3��rI�;1}6څ�9��P�p��IR;6C�H�[)��=��I��_�3�n��Q�� W���SLGٴ����o*�yj�cO�:�q�>&#j���ߏ(f��ŷ�&�����B}�'��bc(C�4v��e���#�'ȟ����a	�f�E��R��Y4����0��D����}���� �z�J &M�� Q���I`
YQ����ƬZ��8墄��p�e�}�=B˄@�L�5B$�c+E}b!r����@����O�sU�?�6��0$���VZ��C��dT��,'��uh��wH+Җ�	vQ���湇7���ٽ�]���tбP|��d�Ha����{��"KKafY��П���Rs�.�;E_�O�z���AUct��T�+7Z�z`�َx��ϕR��o@oU,�H�/Z���FH�0%���	�r��^�X$�b'�e䛂���`�IM'8�M�r��S�T��U3ޝ��}�f�V�I	ٷgG���Ƣ�����x}Y�!�ak򨓽ݚQ���T��<�͊������-�+�ʥ|N�^س�	f6�Wg|( <B��K���G( ���L�7��b<�j�0	L�G�U��x���k�ՇM�>=k�q� ��U𣗾�1m���k�������>��w`Qs�s+�H�
�'%p�Bd�|�6�oKj�(y�-� �X�;Ł�FR�)]�lQ����ՙO0��hϕ�)�d�Ow��kD�͙��.����CP־A�ui��^V��+ʟ�~[���x!,�.��I:��,@bҧ:�4��(�B�8c�� { :�f�@��]���#����&�)=��v6gi%#���҇��Rr��0V�w���H�"ٙ !|�#
LkGz�M�)7ɢ;��h�����Ҩ��O��"�yS��@V��+����J��������Ō*d:����n�6HSJW-,�`v����R ��n<:��Ͼr�&�G�P�_�=?vsu�4�a�H�<Y�B�R�b^[>��i�������T �k%J�=�[j��w<TS\J��_Un�^�Ű��C���t��ؓ�5nI���R>&Lt�9���)Z�^��j���;/E�.������(h�HJ�[?!����F��!x��L#wz,d!�� �b��d���cO��Ws-��x`R��KgK��^cSXs#
V�Q UDt(�]��Ϣ,֣|�������ˋ67:))1P餾mL�n�qH����Ν"�2�������R�#[��K��R�b�4c�
!@����,&�( ���v0��� �(B�ԇ~0�#G��I0� D4$�L���f0�*5��Bz�¢99�����U��O��꼄ʉ�wi�ؖٓO(|����cx��u������Cm�/Y�ԟ�rR6)j�v��Γ)V%�#t&i��U("����U� �2E�ڳ7Ha��Xc�
�_�.������j��̪5J@EFb���L>�\8/E!����T�)o�U�a����Abhr��(8s4��A��Z/�}Q�y�Sm��K��� �)!"��a����7�Bf�Y?��XA�ETF<��w��P}O:�����(�� Mh ��� ��ි�-�Q����mDH��ў�DM�B: u�=9����ܼ	"ѹ�Y���,]X���F]
�dd���b�QCL��"G�
Ґ��h�f�S�L��w*�yrC�k�α�狏^�俉.H>m������(�ɹ��[)a����+�0�o�])x��*'M �oχu���؉�RB�)FZ%KQ�<���0�P�V�B%�p!����V�a�����ܱ���1�R�VPi!�6���ZC �G�&�5pX2�&��zY*�7����z��N��CA�����s������Ü�}��L��9��?s}@p�:K��J�̟U"�i�\L��H�FƔ~�A�����M�u���P��?��n��x�.zZ��D� �5.F��Q@�<���{#�V�5d���1�ۋヒ�FK�'�g���k�+*�\V��?�9Rð{2�YZء�A	��#/��O�`���;{}�\��B��p�߈��w",��0o���Aa{_F ¶�-��Ջ�_�C)��i���VH�|h�H��b�����71%��I?�R��.�E�oV�]Zus	�YTP;���C��/ì+w.���,:�F���,9�l- 
�:����V�NoX�cI��5lσ4�%-�5"[G���+Z�(�J�6���L�?D��"o�u#�-�<g\[�+��)�����3�ڭ�55�<Iv�--ף"����Q���wD�Fp�]_鮃���Wő&��,H��P�7�#g k���"$G,�dq�����dI��o�@
�7��e����M}j%�rm��U؏�&셠��AA�����?�&����"�l|��W#�а`.�Z%G�LE�O�lQ�4����i���,n��R
��	%'ƆKPQ��)1�rS{D��`)�=�B����_8�����Z��>��ʽ$>�	��1ohزW��y<��35t8׿�@�c�����Uw���}ą�I(� 5�. ��fVh���$<�'Ͼ-�O���S�Bw�7����/�p��|���#���rN(.+����(irSh���pVc��^SC���>$�;��]�p1�| ����B��?7����kU 9�ʃ`?�]Q�"ã퇮�W�"���!��� C��/�� ��;�Q>�c�5l�$E��a����7:�齲��
��-�6<�|&D�̈́G��=�Z%�2�d&���Bfi�	�5	�n	�]��5N�����Ç��m���{�e��k�V�x�!+J7>2�x��ƪ�,}�I���>ă��p�3���8Y��9�ž�9�Ao9�*0NgmwC�̭sP��<-8���֭��Lۂ`B�\	���:���Ke8�v2ʇ�x*&�?_�r].����u�QZ���s,C)�x'Q�*��X�|>&�-��r�0�" '�����,ȅnLHg��J-������*S�cJ1�ac[�Z�I7׵���@X��THO��
�tД�]�����^�r8����@���փ|�=��t��>��	A�����
��oS���/]�	��Az>k�{�
uLj��I<A�_�JA K�G�2�ҭ�$%��DCp9f���NF��WLe�J[�=z��ȁ����O�о�(�"m�t�;^f7 ��_}���^APRT����Q�LN֨\:1�띚% �K�47�]��ƪmU�^�f����&A�)�4#^)��/�HH) �K���k�/J�6rX�.G!�Fڕ���� ŭ��/�:0�S��De+��G��:�M�n��N٫�����#��5�:Ҕ�K��Fs��7����\^��.X����~kA�Κ9�C'�<%b�6\�?Br��WC������
�S���l=����~�sSn��	����5cCA�����(+��Fk���MY�Y/��Kb9
&LhN�8�{�/3r��şs㫿�G�p/�8��h�07(�:�#+����уPU[�PF�aC_�h �WK��Ŵ�1ݩ�!kx�- �>
&����˂O����O��#���_qP�g�Q"1�¢.2�����]��g��T�0X#�M��Ub]1�_8<��b���Jb�,�fg@�#���tT1]�� ly�Uu�N�&�@O��ߠE5:����sk�t�٨T�����o( |aj� ��%�ԈK�i��6v�\b��+�[� W�V@-��k!5��ɛ1Co�Lm�*9?�P�9���J�T�/xI��$*-�P��@\���C���L{L���R��������u���ު)�K�Pz�b1�ʄėQ�!�<���?~h�˪̉��BB�	�~��Y����'��&�����s�
��������&�"�y�(�!�ԡ��|���n�����<9��{�<ӽ���"�R����G��u]��]���0���`�1]^Y��d@zR�������kt��d����۴�f�"��u��jr�ʌ?9�xn%G/�6�*z�1�k���-Cc���J$[G�THҏ,�Z%�+#��6�X<�У�j�d��uߴ�o��D��N��#	��\I6ɒ�U����i(�p���J���lԡB�?JH��IX��e�*2�V�*�	t��y�?|���>��\�*!Kf�iBQ|���[)�"��(�i��R=�'��*�G]5wF��b)'>!|�cIT��K��	6:��MNHW��!ծ�*�l�t�Qx��w5B~ȥ��@m6F�b�)��I�[	(0W�i���Jͼw�]�X����m~Vi�I}�Ƹ�$������}�F��01T��44�:���s|<b��0G/��׿ '�
��(�+��QQy���KK�K|1���zǈ��0�/�g����r��Nx���~�e�^��=l&
/ȕ�(�@p#N���bk�V�EH.��<ݱ�e��p_��L��`�F���O+�4���Q��ˍ�YgN�d=̉:���@4�Vs0԰�
��˓{�(xb0r���>�x�f��1�(�MMҥ��*�C�׌����=[��(�A9��ڙ�@梤R<-�Q��/��r�4a�VpD=]��%�Nyu���7X�Y�YA8c�::��G���v�I�8���D�<��d�M�0poh�kT�5��Oa����oan���xd`5�?@�J��t�F�:A��H����ƍ%Z'����04�!�;o&e
�Wo��Y�?�ȷl-�z@2�k&l!Y����t� ��*�q��V���b��3�$P�B����1�bd�V�mV��SA_�r�Q<��r#��_�|��M>����p��2��_��K傟
��eL ��#�f2ED_��a��LU��W �Q���Z
�8�ta*n_�A�n�U*4.�;�K� ����HUÙ,�N=pŮ�B�e��㖼��"���gX�VLY�rX)��}Wp�Y�Q^�rb�U�G�R�n0�/�Q)O�("?E��~�����]ҎߋoDE� v�(���ĺ+^Է�b\��5����c�w���Vr�� 
�����/k!��?�焘��,�E;���A\�}w���aD!=��l���ps7�.Ig�En^:��o\x�-��>�[��b��E��P <��eL�SII� �AZ,�RGKܣ��/q���"R�9E���c+�H��ָ�³j �|��P�a_A{ٟ!4=��H�q��Vŧ�/P�9��Z��_�.|m�w�ꫜ NX���x�J����zy���T������_�ccIy3���ZO
��,|���@�����cM1qv���Ev�� RU�9�u��Ia�2H�%&��A¼�{�}��-�sY�<��MK�Jo!H�Mj��Y�T�`a6K��n��hU��i� ?�YC�m~Z$�E�hAM����s���[�TE?f���AȦ!�]�@0{DKTX�6ha+����ߎ���Z�eϲ1����*�q�Q��^2��0�%��?��`Q��  2W
#ޚyއ<<$�g���ZRIŐurAE�J���M�F`�fDFX�a��t����Pjd9
�R���W�G7ː@ҏߪGG��BJD�u!DJP�2!��^�� =�'}.ɒ�2�}� wi�ܞ�ȱDDm�2���0�����᠟2�>Vk9�t2����gx*7��q:�7/7��~�����5
��g|�����|\�H*y�����Ԯ���w��O#݅/9�.~{	��2�}qëg����y���fU��hH�-����Z !ӑG�(pv[*<!st/f�B>���Om�s0�� �on� ��JXE��WL��A�M��-�_J�U���Y(fn%��� �̡Tq�"dBQ���3�:�$C�jA1��yW�
�rD*�N�wAt[���p⩜���ASt���g͞�%�$aR�����c��C/!�9h�GT�6��9 (GȚI�D�t��m+`T����>0g2�Hε)������_�S]3�ܓ�q�j~�G���Z�,r7�(����
�?pNL%ϗye�D�zѬ��ڥ�sT��`hT�^�!���b��,PT�KB���F���@�W����DJ���)4#�{���������c�5��2����t��"G-+�����)����J�[�!����Q9�:�/K��k�AJmX$FA_蠠���ch7�Rh��H���qX�!�[M^��D�����Ed�Lu�`�5�����5a�kb^COj��NV���ϋ"�������k�h�YBA�j	��n�%�|�au�+*=�y;�X�h�2��g*#�_Uq����7�u��޹r��1��uQ�[���#���P�c��y�$ۑV���"N�O[�@��zɺ�t�H�`M:��z{[��J΋�f���DO� ��R�-.�8��P\�,��g�g�����Ȩ;数���qǛ�K-��%��ڣ��\�)�p)�nE�����*RZWGr@t�M.k��2�u��AA�zm��~�U�ͫ��VQ|�X.&��(��	�;�Q!��?'����z7���C�+�a{��,�P^�I�W�s���C\�:��E�60��5�����-s�i�&�Mp���g��Ȉ�����k�;�z!kmF^�C�����~�����P��T��Їlx���ݕBH�	{���P�Noƪ�aop�Ȑ©��mm�_̸�JDQ/d�� ��W�q�7��X�ro�&�	�����ˤ�<��I' �Ca��dՃ�A�Q�)��o\��b�kJ�I�)�ӕ�["G��%��Ux�v����{)/��"�� 8����ż|�vNip�4}t4R�R��Yd���/Q�Xcg��>���Ho��PG�v�71'�^'r�ȿy��f�T�����T�6�n�Z��q���%fY��=-���UD��Qg|3��������J�X?c"$�ɮ�D�qB���SM�|�����uD�o�{Y���7��=�%H����q9�(���s���u��;šN�X�Xp�-�X�i�U#PY{T�k���U��D�z�N���O�p�Y�L��jj�J��S�,�p�R�� 2��|(����.��Ai�:V���*%SWOl��/�4*��,#�[05��=�Y��:��ʐc5-,���w��!c�����-�%�C^1h�#��]F)=�Ө�xWl�E�xe)�]�/a�����Gg*c6�J)�W��x��XIsI_�l0t�@�y%�_�DH� .�J?"��\�����l~'���dro{)��p)P�E�M���if ����烤W5#m�R3�Z~��侙͌ʔd7m�G}�L�d�q�u^ �fY~�8e%*�j5���^��_�������Rׁ#������\ܿ�\aT�g3j�P���Q�5R�r?����,�����ޛ>?���H��4R7M�bS�D�S��)�i�dPý���hX*н(ѓ�.�*H�oz�z���c	�YFK�>�yL�2�WU�;�P�t.ָkVz3H�h��<i�{adD$��I��C��s�z������}N(���8��I�c�7Vj
^[�NoN�K��� ���.̆6k	��U+O~ŧ�T<LgZ���-�Y:a����Vs(�O+��9Smun���5Qg�}�G^�5	�1�U��#�~�FS�[/(���]����#�p9�	�.\���$�3������L�����*쎳��5�g�K�Vh�腸
�)�չ�ҫ���C� �y�R����*H ����۵GukK�����}�d_��mȲX��@;6n6�C̯?o��Rw�U�Ԛ��Ґ44�2x>��M9ie�u���j�7��O��zB��fr_��j��c�c|��xd���P�Q�,b�^)�=���/s�ѳ���w�-�Ψ��&P����9����ᰞ��s�w�_laڂ	��Z>�����x��DJ���S�cY��w�94�J�C2�yAw��?�N�����0
=��oV�%��FTn)�ۏ���5q4m�O1����t�c���78�p�a^*�/�W�[�O�ւE3mӥIa��X��1���.�
ه���ǇLoVJ�6���)LO�k����u��8�O�+�L/���#�D����%��v�xMI�hX2/}$ A���<��p&�N,*elml$����^h�j$t+�;x�G�O������N&y�!�u��z���Izt*�Vȹgy�8}����3��Hʓ\,��Y��'w���ڂ���o69+��;�1Yd��9PY'\U�gmqF��2�/�o�}��J�B��nⶪ��ů�"UvN�@���+�1�����`V���H��<����pKs�q�EH9�bF��o���q#O|�3�}����<�3Z�9���>LC��š87a�H��L�_2�J����r�O���s�%8{[��ה.�I�q�E��/kIw*�M�E�O���o�>��JU�&L�B�p�}I��ZxY��VrCQ� ��|�S��c�4X�f���A�iŜ��
�� A�INX�l`!�
�0�l[P̣����v2��Jn��g6j|Ų�u@����%�!��2$�xM!P����F�i��a���I�2�J�H[��zO���&��ŀ1�����fV���V'5��B�'K�G>i�v%�kމ�W]�NƆ�6��}�����y�+��D�2��iI��1 ��̕���F\���j�dvd��𔻻�4�G���l����p=�������	!����wI��e�F��ɉ��?�f���,Gg+J9[Twv�}�l
p�f`�zc������R�^+'�	��l���U��w�
�Ǆ�C'�*����8T�Gs�`.ҭ�_)����Hb�Z�ԥ��t�� 2ki+�?�%��6s������\��j���w�/��K|�� S��ӝB����X�3pe&$w'��7kI�:���8.�:@X��������v��	Ӥ)fSwO�e�g���I��Azr("3�$)�@fwK�;j-��Qf���z%�6����:^��d���;l�\n������*J�_v͛�5��� ��_��XcA��|u�y}1�!NeKt��ڗ���ǟ{/7������[uD��$[VGD�Nۋ��#V�J\�,�*��d����%IN�S�_���R"]7��ENը�b�o�TN���n'(ŉ����o>xy�a��kbzZ��C���]�@$�ٖY���!�J�������#$���/`�q���#z��;Bld1����f��f+���=w����=�AcK�b�:Vh��B�r����t�n��]4�ro}w=�QA�B��V�LA�DUK�k���W�0�k1?X+�KS�j�@�5u�g|㢯�7��8��J��b{�6���(6�'���r1�jX�X���2F`�-�㒂4����?�C2r�Ț�G��@��m���q�+��:�ȡ������Nm�s�[�W*Z�mx��pq�n&��v��?'�Ԧ@��L��Z��H'�	�@��	�.��m�r�U��H'���е�����Nv���'�	+P�A
��/���Z�SE��DK4	{�γ��E�iEE������en��3�r/q:��e$�<,�SJۍH/Y	�Ⱦs�ی|!��,�3 �\޶;����gL��OE":�O��Ӂy���yQ�W��[��el*��`�����_z���W���KG�d�����`�:��^�KuMD���O0ɏ\Ix����o򎳥�W�8����vB��цLφ��j'N�_ 7�@��~͙���OſT/W�Ԏ&KZ�v"|����=��EN��_y{߱�����xx#�]$���W�sĿ�l}��D:7�F=;��k����8�f���~���ܦ�ŋ� �t��R�2��Ei�V��\���CH����n�e4��̈́�e�:uu��B�t�]�p�[v\��qP��N⃅�BR�ݒ�1�!}۸
o$�2��$0/5��с3� Fl��u�tOM�����̇ɮ��L^����������]~�=4�'XEF��P9�O��V!�#��|6{&iv�pp�@�����;����R�e]S"�
�<�0�OS,	�h0gOy��;�tԄ������g��3����6(�Ui��Qj,Af~*�X�^5Iɲԝ{٣���ZQ
N�_��(���E��Q��e5��m�V��|����Q���I���G��rw��@2��C���&�Av_�Zr��]��f�<�����و�2�Z��9��������;[�����z�h*��u=��j-�<�@zti�١���Ȭ��!ϩD?aJ�E5Ф<޸�NH<��W���T�H(fu��?� ��O�?x&�Ϛ}GOJӉ̿:����U���tvW���ZBD?�*MS@V��b	�OzS���[�㹯�����$����w�7�Ү�g34J�?�l�8��#�(������������?�7?߷�96���!��� g��	Ȗ�������^O��!�Z��I�g�.pu�H;EB<����rd.4{����0��4����fR����bT"�ԁa*�9d�����>�J,牃�ew�7��$�du�"��Wk=�e�@�@Y�J�gn5�Ͷ�ِs�)������Wxq�]Ɏ�l}��?�_�֓�Ǒ�ת�G��p������f�XZu(�a��8;.a]�N������X��B�8�~b�qR!;�DE�a���IC@R���}��u'�����]ŧz�2X0�\������#�tg8���Z��9м��R�8qR�{T%��zB��,��> �zʾ�^�O�� �JD�m�p����UY�^*|W��cM�����׼\�)���9k�SF�l���)��3���XA �(�uۃ9`P��❣m���ɐ�����T�Xp%�g}���!no�n�ڻ�?`���g����CR�~|"�tI�M�*
g����|
3��:�X�>#�N*Ƴ������ˉ�C�0�����pβf�%����&��r+TZs16]��#h]�~�)=�V���X�P�+���(�SrCs����%4�Eb{57��M��T��܍?$��
wE*�	a����^r]w*�b���M�;CD�����42�
���E�����?���TN��ŕ�^j��w;�?�\A��r�@ll�@N�n��7)�Z� %	��f�����6i$.I�-�D5����mp: ��fB����"�P� W�xz)��;�A�-�H_B�$�
6��PT����i��{����r����7�P�[�#$��r��BR1�<�MY��z�ĳ�8� VM��.��#T�P�A�eh"^����N�A�L�듮��sNsB�$���
�L�J������fzfk����p��*����T����/���;6Ì#��{��f}��ܢo��gO�(���I�dڔ�(���@\�'��C���Ja�D�����ȡ5��IX��r�)>+��L�c�r�w�HX}R�|"!���������sz�w��BfBi/7���^�h`7� f`�Q$�\��ߊ?�E�1)ҁ@ǂ�5?G}/TS�	y��KVm�r���x���M���8��$��Hg-yv�"���g�2����M��;�}O�F����
ŉ-e�'x͕�"�u��ϮU�w�>���ND��N+�,!v�~�/�L��%gb%p g�":������E�![�����#��3uD%ϣhCl	�T��E�9�9�,�_I+����o_ق��:�,�J��f��Vb��$$^� �L���<=G6��-�L�w���s�!��6\X��}����]�h|ռt�#��.xܷ�&+�:H����u&���n@Iww�S���e2������n��$np��'�[et���RV�Y�D��19����3�ye]�[@j�off�?`�V���k�'Z�����44� \�z	!wKq/��"��R�$k=!9�b�<Z,�)��8�o�����J��t�_���p�[:��R�����8�T��[D��lp�"�p�~�$&=`F\�"w4��[�Z��)�A!/����lq��� /��]���N�x�/����6����=�b��ޙ<2���	_T^z��2�g��`���|\C4V��V�P��Ӯq�i��E����Z���l�P��v�z�t}�D�xs�����1�	�K�!���Wv�b�%w����]�"��-��ڕ* X�q�~���#$)�Ò+?�m ��Y>���c4�Y�J��WO^\�q�`�}����@�کq!����`x�	A����o�$օflf��7 �K�\~]����Z�*\��VQL+�p�#��>s�m܇ɽ����`��z�Y�+��m����Q~$����72%������Z�#"��;2�as����H�Ӗ7����5%oc�#��zk����E�$�Y�7c��л���	�Ӈ��uk=T	��3��84�MjR�F_�����Cz��S4Mw��m��]9�Zl@��iԨ��g��52���w�I{���R����k�!�D��"a�*�Y-����]?qXd��\�ʅz��A�w��Jއ��C�d��M��l�t�^~7
!w��;���\�ǒ�/����4a}V�	9�������lX�O�a���w�ү�^Ea#�UJ��<�
���O!O-A��3/��FL�a����Ƙ<}a,Q�KQ^:ǆ����?�?Y�H|c*�U�dh�H��	ε����-n+�"ˇ�ji��t�Q�)���f����G�y��5��.�8����K��|]�$�a�̟���Q�]ϖŧb�1 ��I�]vD��W���<|�\��,��e���-D�<�N�/��`���П	�NbRi5�⪺�(*Min�����	�g�<�jƐ�_����n"P2����l���
B*-�/�"=��x<�~7FD�C��"�W�t�KL?��'�Y^���*���qC�����?_����%�7<eG(��Ex�7�n��'���X1����@���>l�(�{���ќfo��Μ�T$)��i@h)��H���������d�����8�,JKQ�?��}�W�P��?r�=�ė��+�J6�����v�d��1s;����}����T��z0��m�=ū���+�I:2b��S�V�NQ<YB�f����R�Q�s��ܽl��ĭ\dN6�4=I9��"�T�!J��_�ϭ�����U����G��D���dH�^y���v6��S�#�q��B�$����p�PI3z�g.�0�mI���O_~�(�\�'��/��-]ʵ��O/�9I��ݞ�zU���D���"��:UY����bW�_��l�460�-��N�ʕ"�!��z�`��a�W�W�n>	(Phl�F&���
���`��r��Y����$dh�폳R��b��h�O*����⎮��uJ���
*�9E)�v�+R�9�k�8Oe������"�(/;Wˑj1?�k�ɪK��>��-�6��t����ju_�\��#8V�Һ��＋�D�"8*����m~%"2P	�&5J�=�K��x�KK�:�L�9���|��-(��Q��-�T��ZZ(Z�|��VO]p3r�a",r��Vs�y��D�o�,��%�_�OUi����M�qH���p�n��s��7�����s3�e`�=d������<�E����aU��C�9�� ����~������ |� A�Mj�`�Su��(���1�rJ�|M)��&B�Z|���	�ax��F�3�dk��n��c4���|���|-[ȧD����r<T�ba$,yu�Q��2*+QR;q��_ٮ��*Ҁ��|���8�Lȋ���S�Kt�LP"�2��#�
sĈ=�$�!����Oɉ_ֈ�{t��#2��r�" ����LG��Ȅ����MZ�C��0Y�B����4WVf��18�g`bvЉ��5_�ٲ�
XlE�����f�4>������]%r�"�l�i|02�����U|AQ��mTg��Vn%�G��u�>��T��"S��
�A�������*GضH)�z�
�`A�>q�LUJ��9�f��JQ�����"2��h�*��yN�PJK�}��Ć;k��O��I��'�6ydMl�z�Uq���������x�U��Y&�YN�����sr����k��L�GF����ƃlv�;[2(q�]UG�,��g�p���1��1��;�m�H�)Ѯ-��<|�b�Zt�d��sF;�({$�v�Q_��\@�ͅ�@E�l�m���+�9ȁ�t�LĒ���)2��1���_N$`(������v��(
9sÔ�l�� �z���LwhE�A
O�H� *G��9[I��m2�q��<�V���Q�o�B�L��t�8��"n�3�D�|��I�'�5������W;k"#v^!%HC�����r��d��c� ]*����@t�1�[K=P��pA�Xۭ�B.0<��6��(�����0��Fb͉���#w���|�Y~�����-T2��E�:�� �_8:�V�C��VN�u.�R�/�Y ���ȫvb+�B�C�R��c�G�n#B:�����S�h1��QޞY��r||�=!ȭ�E󎮑��o����1�MC�Y�<�<Em��D�n�lvO�
a�2�ڌ��]�dP�[L�{�a���rQ�wΫL�����_�_f�I�A)�+�d/�A�Xq�e?8���i��'k��Q����6�.�����#�`j;]a~&������lf�SNY{����/�C����&΢����6��#8����\̾���Ŕ�p�r
Q
��^`��ଠ(\���i�ڷ���e@pPM����@�5a�S�˪K&�>�n�e�N��(	b>���d�Q�Z\C���9x_Ƙ�S�\��y�O�t�b"��_W*fE�e�j�b�)�:�Ë6�u:[�`j#Q�~n6OC�58�`O�$Jd�� @fBy�3ٜ���ݷ�mg��I�\���ѣ�GG( Ue�m9����r.]����?�K��!������>Q�
Ù�݈R��� ��`��c����_2���tA����\L�W���t�UHmq���2��4�$�n'�F*{�8��dɃ���+5.{R��iYP.:�z{���!Ae��}�a~�d�$��h�0��gԐT_L=:�I�7c5�V�������_�x\���:vv(�c�i1������`1)/��O��H:E@`�q+��}�-\���P��%�B��_�H�jގ����6[��ñ��/݀S
�]������Od�~����8f�2t�����\*��'�|�l����@���2!��}��l ��'�Oc<�,�i�E��O ���z�ܐek*�p��

��b��D	#����7	!O�!-�ue�u��L����
����Jy�ʌĿ�oe��P��=|�W�W�P\���k�����ɜ)�TkN$=
�5��5���ʯ�+��Dp�0<d3-,����ؤjPT���;�0�42M���"0���裝�Vt�;:ލ���G;�
�N�l!=�Vx6�#���i**g6�Zbh��`��i��}��!�4���CLٖ�Q+��,]<.�������������}hkk޴�'	B=�s��$�3E�k�|R2���g^s��L��on�c�I��AV6���^g��qH�������ci-��έ�":�#��ys�̒����H5��쎔��Ƅ�Pɔ�jbT�kAݍi�ޣ|.��Q�+�r�)|w�+�b{�ʉqk��+�T������q`lڦ��RU2⎼K8�ʌ[M�����2i�z��>���%�B�zP=	5�C�������z�	�9� 	���kd֮.��h���7�P�����t�n?�r'ew�# y�^fL�Iy�Nu���;�bQ��!���l���̹�Ԯx���}6��78�u0ݫ�Rh�e�v�36��CmB-��#��+!�6n~rL�>G␭�K	;��l\
ugΧ9=�$��t4 J�js��z΁�3��ċ�:Mb$������2	1��x�Q6���?��PY��y�/�ߑrw-���{<H�| �nI�.�g���KL����@Ke�AE��rG�u��
�TN�!��El�o�o�	��
7W���P�[!�� �&qʞ6�lG���||�ܩL����]Y����Bߙ�y���ŵfez���BB�Yo%6�n7!��,]����0r�`D4f�&e%���9��uw�}6�p+� �"ՠ�(��t���=TcE�m���2\�ǳ�����Zh���F����332ٮ���T8��	%��݇]�/RP6k���1��JX��i�j8j\���<��k$~���<�a��<�l<4)7��D��̄�߇�+�6]�x+~j]e���kb�{7 �c2��F"-�c�u;O.se����Kخl�~�Sd���K8���d8�D��ݍI@`|d��]�~��.HJ<�H�<���}s���v/�4t^s(�\rN2�g�����j�<��������-gԬrXqLt7��nGB?��s ����LCz1=���WR������h-E�,P�!�����Z�+�1�U#�x���.�\���Z��ҿd�4y�qٛLL�3�^nto�	�b��<͂@"������k�QU�����(��%&"�|�6�k�.o:�^��G&"�j�4�H裻��:QR	�L�P�"k�B:�9%_T�J���c�h������?�<�-0���.�#]B��_�j6�Q�P¢ɘ�{8� e^��:wU���}���\|��:B�����v>��2�"����4_!֋)��}�)ܟ�-�;��Gdf���^�
���3���3�J�XBY03q!�F�O�/?�Oι(3d}~9d��!>w
2%������l����۾ò �]~~����oY�α�.��;;p��T�Ǳ�Q�K���e��kb.����=�+#ZQ_o�
hrZ;��YԴ�ߜ��dis�E����ĪGJB��]��A�x3�.X���a�R��&�,n��E�J7b��p���XS�3�z;���mih�ڐ�:=�l��6FM<�e����kpw#A��0�x�MJ8>������|���im.ޡ�OԵzD����_߰KHk-��0��=��aF�澆L=�%[K��]��G���u���E�Y�2&����7���-�w
d�&$0��4�?kj��Dz:yoY�fb���dw��A$'=�tݔ��,������vw�� �۔��]���ぞ�mn�9P~� �t庁5��uXO>xU��B��|�^�����x��x�'
H�r�a�iErf�RΝ�5�A)f����(��,	>�0�A��"s$7�+vF`�����Q��oEۃ�FS��&4$H6�|%��ԯ�����,��k-z�_����ͳ������k�p�Zə0��V��|��G0��E��V����3ѭ���JQi4���� �)�bkǬG�RE�H�yj�Y;�Xr������͢v�K ����0�]Y�C��8���e�I�_�@B�vU�d�M�돂Ie�#� sʀδ�(1g%D���?� �[�O�$.�3y��g��L&i��p�?�\��Z�����J��A ��6u#�D��� 7��Bc�1��7�DB�v��5��\�9���J��SCr�EJx�?���Iڦ]0��Y�����FԱ��
��%1��A}0���5^ț���$�5?�J����A(��#XdY����!���_;��l5��mz���v6�I�N'�XA.��7+�@F��cZ��?�4���L	$�sg���D�%(=��;�bA�#�֧�sS�����y�䦳�+��˄�|���kшMS�f:��R�ǾtM��WK|�y!@(ڶX�3��܄�EG��i'��|`:�f����)�p����B�i��)��X�:���qj>����4^�┙5U&c�E@�C�֠S�gu�GK;�o�����/���˓:"e-y
na�兄ƪ,]5������h�v���3c�U)#V��3�:ܶ�]��C��]�*�}���jD��>gz�(�2����31Hʾ����3��=ۤ,�q���EQvB�Q"j�Fv��ϼ�k��ָׄ����6
w�:2+�c�]��Ws�Ų�<F���?x%}D
�eܜ[Y�.эc����~���\��)1�_m�G�2,��3VༀPs��g�HX�zW&)q�inL7�J8ํhپ�sQoYw~�3��6�� �4�y^���}��+�O�9?�7P� Z���Hw�^{�z�C����5�'NOJ��/z�I�����@^T����q�$8v�����8	�����h�����~��/8"r����D�����&�_J�}��\슸>Xr�%�ļ3ف�?��xcS�"�F9UI���A���68�z]Z8�Ne�7�;�G����fq��B,��%�^��mK�T�-F!_ѭ�7�~��^P&�B�M�£�R}	��4m"��xAX9�����ݝ|w�80ew~q%!�9���
�2]�^�9R>��{�+��S�aHl��L�q@L�m�XI^�Cؚ6=�3� ǹ�V�����UN�d���[_��`�M�ES����(�R��-ѿ��3������B�꺶�}��gO�c�v��v�%������.3I��~�``�����b9"�W��O��z���2G��~̪��uM����}�{�?�~7�3T$[1 �!�����(�_�`Z���zN���u������V��4�J�� �3��܈�)��0ypAc�M&���E�̩������:vH8^�r�R�\NES֔{���"�i�}U2t� �Q�{6��`D��nG�0P"w�,3=� z�mG��I$'���^FQ��9�){���� ��װe�P�d	=����b(��]�bO�^�,�1Wq��L�]��9n���7�g3mލڏ�:z�B��W���k�]V8�CF��@��d��|9��V�3r��˸l̅��S���Dx����NO�o���<���_;'�$��mQ05W	�/�E�,+�����g�I�����J>"��6`����q�g^�0Z���¹��ؓ�7ޗ��+H'S�/v�V��A�gHqB���u,fT$2�����۩^�C�XRv��%�Y�A�|z�Ä�1��k�,j���R�0��#o2�1�9���β�2/\G|�$�R=�i�,��1�u�kN�@�hKr��WT���[��{��6A(�v�����*.��l�W��P#� �P�+8hS�+��@�����m�Ln#Q�C>�܌31@=�(]ʐ�u�n��RJ�Q�=�+:��x��Zދ����x%�Hj2����ƨ�@n�o����%Ʀe���㉤T�Lz�t�3U�;P.Nj���(p`z4��v�A�VnS��&��,Gѳ�Ϊ�i��}f�/��ߡ J�����o�����F�Z=F��x�`��L�e��$d����\u=Jc�[b@�W0A�g�9�����s�B3!�:x!��W�gO��5G�z��$���K6o�r[e˰������x�pV��+�ݫ�8��`Q},�&�q�̞�Ųk��r��rH5�-�ek(x�~)}�}��#���Zy�(Yaηc��Cl��ZO��1�#�y�YRtO�_<�`"��#r��e%.ɞ���s�q�������JS�Zk���Hs�v��`ˣ�$�����*c�Vjq¦,P�����B��	@0��E<�y������_�ާ<��K�'UF�U�cP��l���,_0�=Հ��#�>�߶ZF�\��9�W6��Tz����*�#�)$>Z����
(� �c�F[~��X��Z)���@���TX&��6�Ι0��4����ۨ�~�Sx?��x�H�^�C^�BfH^�����IP0��8-����W�s^���>��]ʪt$>���;��{�㎶y�?�I� ��~	Z�|'���J�u�sJ�����C�V4�w������;T��6����v�Z�Ҋ����]D��D��f��Wl�� o���:����-L*�s������QC�����v��8hMc��:l�)@4�%E��F{-����o+*��A�~��� �4ޥ������4V��/�O�>�*;h�#!Z2��`������<�ـ�:�_�Nya^.�Rj=es0e����$����=�p�#�PЋy2�m����*�qj�
���$��9p)y�h|> =8*�������5`~����QT��h�&J�l���X���M���7U�04O.���
�n�D4&����E�G�x̤9��rJ�ȫ=@�̜&�U�YJ�=���ޔl-���Ʈ�	*���*h,��ף�������?u�἟�����ƴ*�&կ�Խ/�������֟&�/Y������z��p�f��L�����/�Mu�w�x ����8|��n�����Qp�7�� �zr���Q��o��������Ѻ��rP��R5����zh��,"+J�T��B���X�-Ǥ,�h�P/��B�r{\�����JN���}!����g�
x�N�TN�#�h���XWhU����ma�
��6᠇������b������L~NT�2�h5��D�fd���<E�9܍���%�����BD��
p�V��IH���.����9%�?s5���I��FO�`�~�����zo� �]V�}c�zJg�P�i휧��4�VC�;�CBR}�(�E�R%���#�Μ�s���S<���b{L�J���{|��O�@̓W����y�,7�'��E�Dw��'�i0^i�3��]{ԭ�(W��8��̈#|��7(��)�������n�M��B��y��l|���rA��W"�y!
�t0��ɿ�[w�#���<��6�v����^�����d�����+z���
�����j���c����"�����g�g�2�Ʉn����m��3C�N��F�AIq���4�%�����Y�Z<�9']Y�m���Y�T�yƊ��i<A��������Ce�����V�`�xL�k�&a!�@ze�N�R��|�Đ��=��|�$�~��}o!r����'�sB�@<G<����̉y5�҂'r�h��I$�/8a�����AMVVN~��[�z�fN��f���J#�`����s�"4��������	WL����H�A�9_�>s������)h9����1t���,�/�;8/k�	ʩ���2H^��{������Bl�e_�U�e��ĹQ�7���Re�I�z��v���3�=%��z6R5��R�\�	���d���_�j+e��u�|�ܨՆ�7-e{? u��U�m�ñ��Tl�,.&�Sϰ�']޸�����rIQ����W8`��fuj=꓅��me[�|��^��﹅��Z���:� ���,�/��R��u�M:�':�~X�=��'66�p��
���B$7��Z��̷�A^^��z�K��4�� Ut�&J�o�����s:�R��~�	4�7�G�(
[���+%�T����)�CV�ө�G�̞�����u�5��|���3�_�A�/�UOP>�-�\vQ�/@,��O�ٕ�Y�?x��)�Ndv!�?�{�1I�eai�Vĕ�������:�K=�+�E��(���1;������δ�;cU����{�?gk�(�Yƫ>�IVI�٩	Ȋz��;�1�g�j�`[��e9F� y%��P<�|˛�x*extl Q(A�T�x3٬�%K��r�x5i�p&8S 'g�e��'#Xz�.�Az�s����ə̏=���	�W^��Ծ*�:���]a�.y�J�N�B���ΠI���K�TzT�5�{l�J���B+: ���$D/oz�b�P
�rD�$��b/�6v����L'��x���}\�ߠ1���Go�<��c�J*}��t�~��-�J�Y\�=��k���ؚeuS	�����b��@��0loU�S����z����ImkV���2D4��"D-}��%Szz����K��^����J���C��2֣��'�������R�| F�i����\Ή�̥�Ӭ��&���T�c�lk������`�'a�D�*	��{�κ|�1;|7�+��i��J�Hni<�;G#�l:���c�s�WL��0�`Ne=�;��#���$3�'8���Kn�ߌVVc8/@�����J̸{M,{�K��&_��6e,�O!6�#��A�`�4dP^l9⣂uѝ.n���m��^��8k�+mv��~<�و�������wO�ǲI�bW�1E5�g��}���{�����ОB&wx~�T'�|�$ƙ�Jy,����W$�x�q���{��~�a"�]��)�%�aY���9�l�<AM:V��b!����q��3�f��_�.�7�����̩6��^J�,�){?F���ci��v�kG��g�g�'�ۍƶ�l���љ�ƞ��|9	�A`a����rvm�R��2zi9:�u�C��q����ܚ���I[d����k}��������Q��l�W�m�#=��եy�z�4�P�&��������<�B���ڹ��X�#�>�)���(Kw���_�B���3Ap��6���N��a��B��q��2�|�ozNP9O�s���3]�ç�;�{���g�yE����Q!�k�?�b�.$�eս%v�0_���B������&t�g�2��U�Mx�g2�zk-�t�N(��[Q>���v&:��C稠٤���)+5꘾P�.N���2��e�3�3�@%���G�2֠��|��ٱ��Z�b��$��)4ȡ��)�J(}�Ϸ��-ҥ��tpn�Ee�I����%_�Õ�΁4Jfa����.d3>�����t��P�O���r�3�������`�������T�i��_�/��6d@�.�roLE�I��H�/���:�+�����o�N3�C*���y����`���.�:BO�<�E�@�/	7����f&{c��ei�����P^��}����.o�\Ս�����	:�5�@�7�MWB��%x#[��+{w����1��F5*M���t��'�����ߙ=o+"\��孤^X��Ւ��B{�����[ď�ۨ������9[bc�O�-�v�?r�������G<C���r���Pw/���uC\�5��}o�CuxBd����%YdΝ�hEe�3�џ�plF�	i��I���l�`D
�[�2J�j���2)��mg�|z����dl�ڮ�(��Gf�,�`��p�lfK&w:c~g�M��<p�|A��"�ob��M����+J.��T��a��8I�����h� /���#��Clf��%��x,&�+��8���T�o�s�"�!�| ��Y���.S�� ԜE�!t�c�ཱྀwn���W�A`X9��l{8Si�����_�7��7���˒�>��o�&��Bw_���3c�����:�̨���^���ߢ��uXղK�"��1SţE�^�qMs�L\^�8����Bn��ñ�Wax����2��[C����Nľ:TJ����'!tf��U�v�Tm�@���ܾI�w�i�e��Ȃ�I�7d��x�㱌ΰ;�KS�O��A���G����q�MI\emb�ǔ��ωH��XM�؞>?F�L��?'$	�3��L��A�ل�F(ՠ��[Y�VAm-n�rg{�F[��s��a�W�7�6��D&!�܌q%[�1Z��J��.���yB�􁝃ړ��,7��I��� >�銿ԅ���Y�os��t��Gu�Z���p��*/C�t�%�p���<��z���mÃ��2K^��&��I��Ygـ����:�jr�c���x�X�`��Jp�v�`���/Ŏ$�!i�̲ҏ@s�^�ˌ��#.��w���[rj���d��\b��ȩW�W�%�+�7�OƊ�~��a{Mr��#S&]�A�!��D���A\�'�k�YȪѽ�H���z�%���^4������j�Ը�;��_i튍5��T"A�"py(� ���$9�,(�k��aH-�-���}X�ü({�@\�c�@�:��Q�	�Y݇�Mq�0l�Xf��0[������r��W�����1>Ʋ�tbۚ,C�t���Xv6��t@�_FX\�0,��qKɶT[%$Y�$*PUB!�S��&3{����}���Kh@VX���Z��S�J�����=�c�<��9ר�l�[�K.w�؝Et��rD
�	�@��k�<�='���}��As^�aA�����LtO'���^E�[��)f&sHT=�����������Tw��tvr�2%��d�a0.ii��G�@�b^��ne��Z�Q0�1\\�],m?]#`ŗ�K��U(a����-�.RP8ׯ��������*����̩��caI�=<�)�!O���C8��a�`t��f��U�Q�Z&O"a@�=ִ���"�I��ZB�TW�`߿�3fy**�!X%����%�TxX	H���~�����	��/��;����:N]� x�nu�d%��N YD�q�ω���QW�#�<�Gt�,6���Bn�B�uX!XS675��2�R���^G��S�R���W��i?�t��M��=}Č*�m#b ��E���u�� b��k�����#�Rɾ���7cuqE�Є��&*#N��wco�XQvc�j�Q ,����������k�C�Ꮈ�6dr���U�f�1:�2����(���w3�Wc!�'�*FQvSV!?�}�Y���h���ȱ�|kb�
!MIG�4��hU�L��}}kɳ�~�"jB�u���u>��͘�f{�(��Y��?�؏�Zf�|�������;-���\�w!ῲV>�%�ǘ`�'!�4���f;�=�^`e��Y��/#�\��;��x���o��������^Zc!%Y��n�m�a��v �ӛ�X��7A�z2Ϊ�[���7&79<��O�_�j�F�˒���%�_g��Xo��L���E����\�/1��$�~��vl�M��b�6cܴ�_�0̹bN���K`�Jd:��Y��v��CP�H���!ہq�{�����D&�P~�ۯ.N��Ɉت��5y�w5���{��>Pb3�s&a#�Sa�%A��FU&t2�a�����g�M&PHI�E{�V(��hUUƫ�ݵ�D�m����������,��ҬB��� t%�͘�����(�+�崤D�A�T1�{d�*���}?rm,3��Ρdx��c|���v��y�����L"Y{�
�9�P�j�gʘ��z�?�[�2=H����NF��D��q�h��'�AҺ>�L,�)����s+�����C8����lP&ySWb��4Y��]@��2�����[_<�~s��׵��/	Ӽ&����}+c���q-�1X硞#����� �؟��_�tt�"�~�� s�#�s�0_��z��̭D���ïqu(�n�K�X�u��{���`K�(P���ןd�	�����L;�����`��cY}�'��sӰ��4B�ǻ1a �'<��8 �떜��l�ǍQ�Gʛ�V�����É�U}�8���[�; ��٦O.?b��g����s�Db�)��2�1�C���AD�i�l�:qlo�.�홧�e�g�S2s��k2�l5��>)۲r�­�`�bh��m2Hk�cʼ�j=�6�`}*C9�b�.�'8�m�Ã�?p�gÕ\!��U��u:�uQ,�	�B��5A�8�=x�9��t���ir2���ضo^�?ez	�7��+'x��v��<�W��c%KJ��g��� �K9O�ie*T�����X��A�8!﷟�W���u�$?M9͸��s���.�.���ǲ�k�Ilef;�����ߦNG�S�r�,�������/�/\����O+�)����@ZxU���G(d�����u$��]I���������l�Z��YiO�k0�1i�b����稚�Tw��vxg���?����,�{[�sZ����:��=3~�K��S&<�p�H0g�>��"�iò8�Q�x��KGs� �H�Q���,'�W���;g�S>{�Q5�\,�H(tJ�
A)>�n�Z�_��ǘ�'>��M�����~�`�=�dQm�r.����]U�"�	*�H^6��pӖ�{.�%��Ĉ��j��{�$$b��ol9Y��zy]�!(K��R�K���9�%\�� �=��+"�� 4���1a����y���U�@i	'b��#��{��ৰk���I-��̤ ��k�KA/�7� @��s��u�g{��-��R�o~�z9!Z˪���s�|ѿ��i5�.��/WNj�<���(���[f��3�+����\�:�a<�to�IDq��;a\L<��3��C@����^i;4%ڨA&�3q:��<ެ��R�P��R��v��3�]�ֵ �m ?W��=�-�he�M�l��ήl��{ bS�Y����造�� Tn	�¾l[Q�d�W�ݶr�8l�c�/�\d�����}�T	G��sҺu�!����t�䜱I���c�+^*�}�up�,� (�k�72B�'?�w9L�s�UЇ똀�������#�����M!'%w61o�nV�A�K���B�����Rw>�_*sG�s92�LW�r
H������!�s=q�@���YZ�&�����V��lc1ϙ�4�#h�6��.�cr���<���Z_ �1���r(៵[`�xp�"��`X\؛�SJ�_������W�m�oA-�^Np���2��4�돽�=�#3�\z̷�w+:G$=x0��.q{?���؜�d�$Z�K#d%~��
.cI�9��:r)����P�����3z����_������0��%~�I1��F3�/#�JE����D��.��=�K)\�C�F*�1�S�" .�pV���>� ,��R�_D�v� $Ǟ����L�8��<��K,6[�s�W*%��0W[n	�{�旮��&r�S�s]�^f��aF�1��B���]�U�p�J���������|0���6D|+��]M���$�^�JEM�o���ϱU]�(��uJ�_���f&�p5�V��M�R�sKm�C�_m�.��7�0��ذ\��J�}O����Ò�i�%�7dNS���|�Y~0��@����C�l¯��9�a�p�fs�����a�c]jG�e�:	�LN�D��GUg§V<� J��D�����~�2��v��{�9P���қ�:5]�6�ˏ}Yo��(u�Z���N�l!oE|S�1e�ގ���<��?X	LN�:����if�,M3^�fG���ui���|l�81�楿+D��Y���)��z�	<���Ġ큱d2�,����rQ:��6Ȉ�!R�u{���/�a�?�qO���	����qp�.���N˙!s$�<G�q/W`s>�*�iJ��z�PtµF�4�8�D+w�͌�r4���7R�9� �O����.��]s���p�]Ź�	R��c���i�wp��N��Tt�N�"��q��������T�g��� ��"0�m.kA�:k��A�1�jS;���P=���)�±.e�PH��-{��@��d��������5��D�Z_.��W�f��/(�w�}�QN�}d{��\�m�>���;#�Y��ic="FZ�����^H�|Jr��=�G�[o4�k-�nQ�S2�ͫ�)���ċ����x�A�y���<��X�)SS$D&{�R7���	��z�7�'��VR3[��p������3�5`�j;�G2~5� r:��
��ͨ��dEy9�4o;��Ќ� ��w�ںa��y3��_��ߧ �� ����ң|�֟����=l~2G��<��E���zaJ�Xe�N����v�En�f^��1�e}Ml�f(�5F���u���̇��ad���_f���p��6����B(`���(��ѕ��K��'l�(x���"U��<S������͐���z�4`��]�ƱP���07Y�|j�����\D�	u�XEZT�ԀQ���z*����C>�.G��ZM�,���cK�es��I���槽{5���Q ��V�׷��#�vk�M��1n��Y�-\�pb11Rh�U�V9���N��n>x�S)����L���4��g;ߩ��،#	���j;;�lc��
%Z%l(����Wrq��W"+�#�B�a��=2w��na�L������L�(1�I��YmƔw.���>�}�@�W9��X�����
�����9~+ӷ�
��f�d'[nf�f;���"��Ђ�GbM4�i[$sF��y��� x\;�?C��9:�G�s�d[���u4�je��	�ݖ1Łe&�W� W��у&ذ	�VQ�ʨ=�^Q�[�ZG2-Z���ty����&�m����)B/�
v�q��̢Df��?
��G���^45.����t	j�h2T��!;�S'H��;M=�`�ɞ�w%�tv��Reg(�F,+]��Wˋumh�i�O�> ����R�%q��"<���`��S3�xf&b���-l@��z�`Ι�H���B��Ce��/{���ܜD'���Z��"I�~3��͖����Fl2ٜ��W�M�RcÛ�MTF�3�̔�qU6���r(,�}�~k�r�GQW���k?�k�{�I|Jc'�:�����y���+j��s������X3�;�8'�8�wG�����B⮧��:�|���*N~��o_��e�j����C"�'�=�4�ea����.R���G��y:�!��8��l�����"�g2���}̊�yt��sY���t�sc>�&��'�P^�KvDY+Je����^�[����q�C��=��6�S)(\�K����,�ѿ�>�K�F�C��ڨ�n�S�:6����#z�%����s�8�E��C�!�h]}��o��{(>�]�)"�n���	Ϝ?8�VJ�%>R]Ā-���Y��9�W��-y�/;J]a3g�-�����"����g(h�-H�i�\$:�?��.V3)q�F��|(�H_��Ύ�G���g�]sh� ۝��4���
�ɆM4��t��BR�������3�?60'BE�ti�=��ܾ��r���3A"a��	Jb�ȋYrsZ J���h�X3�S�*s�"���/A���aW��/c��HW�m�PW/��Y��)K����"!H���Ze�?���E���?��}��n�3����E�gי̲������0�23[�-��d]	���l�[?i���QD�ٵ�2���=�`��W�M'�8�<n��*���y=�~�sn�2��v&�sr���EC���,�<W�&V<O]s�L��'��#l���^`����D���id����ܑ^��9����TC���eۖ�j�?��=D�G=Ն�����+s�JYt���!I�~a%4�e���E�A�~�u���PX��s��)���c�#��8J��W[x�*b����_ʌ7�`h�����9��>���}H]&�[��a�!H�:��]x�H�����B�y��q��r�U�W�t\	X~��o��Ւ���mȕ/jj�������q�-���X����Uw
|�& �Gz�T]��/p<U ���5j��ޓ諯�@�n�,�����l�C�E+��B��J����\U��kkC�C�N�m^����m@����]�����l��?�W����@OÉ�z�aX�
���X-�xb�{~	\*w(V/�/���h/Ӕ�{!a�&B���Y����|��XEC�K�@N���7+���*m�?�aG(�Ə�q]	���(��"«�',��ٓ1E�e����[i�.���ۑD�)z�'�٦Z��&!`�m(l�m�E���
Q�������뚮!�/�B�$[4�(I�%�#�k�G�{���?V#��&��1'��#�l 5��&��<��q��c�����k�*��kr��S��<��0!��3�8D�&<vrjn}����E�f�Q���lf���d|�2��o�q�m�Z�d�C[pY�9��U�p|)�-�S<������?f�J3�cV�"��)̊��8����jŷ�o2Ggj�����ܿ����"ǫ"���A��d�A^&�c�`w�1��9\PXT�� ��:�(6���"��y�+�D�
�� �o
�Q�oxb`�֬��1R���>KP��d:|/�T	*�\+ )D�yw#�U^�5��&�1�vk6�3Ln��B�� hb	�`�cP�	���$V'ln'��2h�����oV�4����q<B����S��x��mdqW�n����$�D��V�B�o�W�>��&qE�ߎ�q�]���z�yX��(�;֖Ff�W�5��k �W��1=W>�Q�w�c�+C�Wv����6a�8�r����9&��7u�����#�>�s��n��vC0w�[@ҷ,�Ya�����j��aϷv��4,B:��>���Y�F ?ga9/% r>���������
�q����	��CLFE�5�pCu�?x����a(�b�w���$�Ӹäi'�Nk�yQ��b��Su�p4���O>a�Z����>1�&J��p!d_S)�8�L�-�e)�N�.y�f��{.�ø�V~2K
8a���rR�r���2'O62����.�|�<ڃt��c"\Ӯ�؊
X|�9X��|g@��!	[2pk.�]e`�OE�VJ���]»<;�9��1Fh藍����D^���yln���Op�i�ww�ן�Ԥ��Pv�]x�p��.�"��2r��$�e~��T�� �r���a�^�Fm������A�뜙N:Qpչ�Ȟ�n-��rA�|W���K����߱��Sk[?E@��?� 7��?�������t������;@N S3[�}P�ʪ�U~�L��,a:��D"C
��P�FU�����z�f_ˍ�<�,t�}48������:����PX�?��A#h���$���T�$�j^m��k��$�IX]���w��-��p�y�3P�EkDsϮ�^*�	 >��N������J�T�̒t�O����6����OU����㛪�VT�U�C��S�&O�S��~�[��B�Z����À�"#e�%	�d��d��n�H�N�O�`����YD�֝^#�͋�wa�ξÙ�K0@�汕TO-�XR�)���/�W*튊S�X���V�ȳ_�\�1N)��i>����:`��k?��i���}�����2&����&��\�Ļ3��g�\�S�-�}GT�4㥄<]��;_rI�7ڗ���xr;pi[��qx�{�k�{�P"7A�lK���OWG��mF�e� LbI�&�E�%��m0�#L+xR�q7���l�ܫa���'[mB�ӧ�I�%�9�"5�3tJo�_f�G����ŗ���"a]_>�6��MM4�G�z��9_�J��8Y�L�W,}��a��$.)�J���[��b7��)�۸;�B�y0Q��a��Bm�K^���*�N�iE��^!��,xury��TgG�2��2�V�`h�lʒ����*�a]���b�ӨV�^ŠP�橥EI]G2�Hx�NBq�����7n�_0	LP`�������%Bu!� �HN�P)y(�i:#I�R��|u�	��)���*��0ʹ+[7�Iu�D����Fe����=�k��� �-����o��?�݌kFz�p�$�Tz����m��M����d?4J�Ln��E�RX�=�"��s�i��M��UX�b�g��h��G�K0q�u<۬�|;*�H��0�̗�ǭ����'޷�ǯ;2LaJx9c>DIt���®�����+%+̓����N��PԤj`p�x�������V��]>��sg�0��,�;��U����M3m8�e�ë��>�d2��~-Px�����^u�^i�l��w����w�V�^/ߥ*p�r_o�火������p��si@(�B��l!���*L�����u�1@����+$CtI��:��.�p	|���?]ݕ�v�J��lX�r�t�}�T�d��g�9�j(��`K��Šx֓O���L)����2t�]���Nr�&�X)�|;Y�D�J���RJ�z&�u�&�(�N<hiC�]F���%.pi��O�B�a.�Hfy{z��p�f��;h��nOKW����5�F�6Ñ���2�p�@F?����pU�0 ��yp�Z*8�B�W���$�y��|_E�w�D�K����U�U��䘸v���ݜ�H&�\����8���vQ>��-�s$�.����]\΄����.0��������"fO�v#�`�ɚ\ct�gO�p���$�W�Я��H���o�twD������Ad1	�+�V��\@�3�_L���w��%�H^p"[E�'�ėm(R�p��.�6��'�0�D��.��;��E|_.o}蹞Ē@��ש��[E�D��92�t/,/5�g����X&�T֦��H,.�����X����)����K��Hl{|nwfz\���B���4i�M����QU��q7�k�h%�0�������at�N>�DGG0�Xe�=��%Dk� P�8.���ʗ@����IB�Ŷ��J�t���Dg�_��4!J����Y˶�<�TJ�����9���!�3AJ�+O�d�{Q ﳅ��ݿ[\�o_��~�������HY!�6��_k�q�k�<�(�����4�5D��� ���������ϢsF�^g�X��E�!+��k�Tϝ�t��O���y���!�뛞���]	�\�_N�o�#��o6��{���|Ο��C�<��/�^��:̽�b�t�W���X�;���;�~��^�������7P�y�����3���E�o���E�x�7�u�E��v�p]�wy�fv��~4ۂwhz��6��-2����o���a��z�������Q��y.]a�<uS��A����;����l�b�W��{�8�:l�#݋Һ7���<\o2=�{z�_�����*&8                                                                                                                                                                                                                                                                                                                                                                                                                                                                                                                                                                                                                                                                                                                                                        xT��b�ǳ������z�F`�ml����w��l!�5�G��~�!�tV��932����pq���?8=><=���v7�����:>y|��ћ��/ۋ�-���?z�������և�'���}��������O(���ݸ�ãǇ���U������痟��������7�k�<{zr����s<{v���Vƃ'Ϩ��������ǧ�^�]�ԣ�'O��>z���&���٣o�\�nnw�N?}B#��[9=:|������͇���?9|v������O?�ys{���s���N�<zw�����2?�kW�;�>~|���w���ѓ'���]�����G��_�~IEG'O��k�~ptD��m.?e��O���2eh��w�W���@���ۏ]��g�������ǧ�G]$������G���啻����������r���������S�:<>}��vs���y��񩚾�ݨ�gO�1�/�k������\�~vD��0����g�}�����>=8��z�O����qA��G4��6/�^��G�k�.�����G�_�R�gL��ͥ����g��Շ����Bow�L�O� �O�[u��!T���2�ӧL�ϛ;�q����B9==��n>n5����	���O����W}$<y�-��B��;*7�
{~��KS�;}���ћ�˝��x�x�O�>�n�1��<;>|�j���ޱm���!�t�y<�ބ�O�;��{|rzx��G�'�����r�u;9d����#>9<~��|�]��#O���d�^�8�(ޱ�"�����g6ح���G�B<�"��u�/��F��=�3�zB���g}"�|i�vw{G�>�w����O�=1�v��o�Q��O���x��s����	T�������`H�ɡ�d�9G{��ǫp��f�-]v%�O��Y�؎�=}F/��G�NO��B���&p��cK�	���DmC�O���`����dFL�tV���N�p������y�"#���	t(WD<�3L�c-k�rt����ٽI����u�5<:��|;I�NX�f��� �׀?�e�����)�O���T]Q����D�������N�+�QGoo�����6��||B�(�|�rQi�(�=zLW������h�Xǧ4�D0���ռ�1��|��Ͽv.�jw�>y�n�p�MC��Oh�?S�����ÇTw
�f�ʨ��f&,�9�M����!����O�h��'��͛����1���m��d~�s<���#�������L�/�k��$qx����~If6�;����!���
��c��g$��qDM���X\�$����C�j��� �v�x������Cx�/�J�ã#��>�>��������D�ݥ��-�����!=(����Y�4�4�~�uw�NA>�iD����֝{����>�,�?�?NF�l�+���-���*4�T��qw�>|ySM����7s~��aHq��N�����s�n���t<;>ae��<{����]�g,���6��Su?���)��M���� �,m���w�������.<=}�����J���0Z�t�����w��R�X>H;k��N���<�j�������	���!�Է'>�(U=Al�g�<9:�M.fQ�Ţ���c͔k�����b�>=��6�2"��n!�����llFv}�W;�	�(,�o�F��r#I��5���F=>E<�L���o�w�>[F���/���0����	�W�T����}�n�6�acvM�᣷W�_��'>T@�5����V! �F��n>&�%�})e#���M�Q��`�j�����c8>���>���Ւ���o/2�R���T ���2Чvx�1#Z o���'Д��Y����T0���]�����zQW���ٌ��f����꓆��mV��Qdd����@�H��#�/� �
a!�<��ع�ҁT 4��QkY��e����r� ]�y=�w(6����v-�X���p����G�PϪ�yu�h�J�L�Jȣ��;�!TP�#<�P����.ˡ��(�Ϻ�]�D"v��zu�J�[,��������m�	��L�$��c�q A��ҁ���$ �����o��"��D�G/Y��c}�塼�Ǭ {�Y��:`�&x��1���:�z:8T��{��w~��C�B�@6�c��jh�Ύ^�񛫊s�Lo����^��h�0����cL�7����q�e׺��6��1oҵz̈�==\!Q�<5��g����g��ˠ�gh%�?!w����^��"��=��_�嬀�w_�J�P��7_�<�g(�2J�	���� ����T>�(<	΂��a���M��3�~�+yϴ6����B�3�� U�5"�f?bY9#;��/���j��i��$$mi���M/]�)��>��.{����~4�;���Xlְ�$�I|K}xJg��^_n>u&�J����$e���G�&�Ĝ�z�������h���p�`Q�쐸Z����g��*O!�z�A�����4�oѤ� ���1ׁO�t�cH���u>��V��ݮ�&��z"��XI)���Q!�$�y������r�<���2ܘ5=a���4�"�!��	D�iJ���_��[�D�������%NѴ_1¿�de���u�FO�Y��Sn�����S�p�A�z����u�E	_���w��Ԑ};9%��"��5�ѭ TF���
�	?E�"�����xyЄ=�x�>T��ӄ;�=��d�y����)�TN��EY�)���_�!(���]���__�$��P*	q�Uq)X�� ����)+�N.�.�H�@��mw�pc��@���p�U͓AFv��Sy6����6*�!v�V�����1}r=��<�cd�
�C��.��e�\^�՞�^���Qvvu�����D���~Ũ�
��H�<�]	g�!z^qf��� �s��I��!��]+���I=�I��>?A�i�~������X�g�.���g�*���	d��������I�����zs�ip�ߕ��	����
��Å��g銟@��/���p��������vNADz���4��ņ���l;��}(��	�Ό�-�6�`8�	B����yH��$���հ�H;���$�Ս�H��t�#�n�I|��JoH�~���%?�k8bG�Ȝ����c�z��'"ċ��]x����3'`�#���a��|2_�h	&����F�!�R����i�1j˫pH��?�m>m.�,����v��&�Y�}���3Ī��i�Ha��*�>���ȸcX��Udi��q$���Ҙ��.�֯ty��cX�����>y9���c� ���-'�;��c���-��v���cQ�a��w�Z#4{��	y�(^8��:��n���\Xo�ʘ�|�?3�s{�U>�o���(�L���+XEa�j<����7�qڹb(J�?FUA�M�asx�fM (�h��1|��$�pT��C�A��?�U��$1��qM7d�x��1��뫫?���B��wǰ����#�<��j���I|��u"���p��t��(D}���Z��棟.>��#�(�K�����%%���+�O�\H�G(jҭ�LG��]���.��',�s��$&��������}��P� 
��A��΍�$A*S,�#T$��
XF��\�}w:�S�g<:t#�G�����m�"jD�Y�M��IjV�E�Ȧ8�O kͅ�t��p��0�MH�ҙ�b�]��L;u�J��q���J�8���. ��Jl�`�̬^j��OR>��,���ƹ%�ޏ�؈=B��s�q!Rk��+G!�,L�Μ��S�UZ]�L�0f�W�+���ú�ڟu�~}Ť�nDL!F�vt'� R�����L���Ŏ���}��z;+���"��G�h������:���-��jM�fʍmgl��l�}ڝ���"��G�Ö�� 6��aF��x�����!�C5j0��7��=�VD�;ЦuH΁��l5ygn�Z�Y�9LE�tf�Gp��8Hb��Y~�v�`Z���HN����L������o(��\#]�w�:w�͆,0��ъ����軬���C�%�oӜ�7���h,�W^�3�(���g��$1�/�w�
��ˮV��痘GɆ�R7�:Dٳ��Q �b>�Gi228����q�q|��s��f"�����?H ��z��v��(��uA��ܧn�سm,�C`1�T�D��y�����N?4��O&~*�g��y�1�� ��!���7,5k�-�c�ۛ(8��W�
M��X���χ@R#�cx��LO 8�`kOg�s�Y�	���9�� ��1���h�g��XT�۹ �G��W׽�$C�Ņ��jO�X��K밓����Ft�����t��h5��9�;l��`�T�l;ǭ�P���>��FZ\�N�d|�xY�������=�0���=�9��5@�)��˿�][~��^Z�����e����'F��9�(p�oΘ3H`kw.o%��#�|�S�B0�}�E
>��C�o7���:!��x���ͽg	P&c��k�?�#����bW���q����I)�s}hp��o�l�C�;Z��]����̆@h�snGS�����L�h
H��5����3]]����|vuѵ9:������&�*Be�'''c:-�x8�L`	M�	p�t}�v�{�M�i�KNڑ���7����<�$����I�)�n*���^��^|�9���_n��ݤ��@N6�?#��9���j����^�0�6�~�-bF�%��R�M�� �$�	�����%�w�H�<z*��,���;�%R䒵6����c˅$��h��)�!3EZ�Y�g: �t�g��M�;[�KY+�X؋��q%���	Cx�Xx�u�%T�q�Z4�BHb�I����4�]o�S::N�q��l�zp���c�� jn[���4���X�ͣ����!�_�
�H�n	���JJP�v1^P�t�����5�<�:�'��'���Ȫ Y�8&�W��To���>w�#ɵs�H}bp�"`l&�6-�-gy8�<&7̼��l��xd��)���;G��OI����ZL9-c��.��ND�Rf�"ܖ�;}G�J��V�T9pI�0�ھ��:*��O=QӑUʠ*��񨥙�5�$X���Y
&���;� f�(.x��9=�\���ǂ �jm��i������r���t?':�Ɨq-���;���#��w�Hw����{�μ�@N��1ك��]��#"�j�9W����K,�L���瞹I��9�k�%uM��
B��X��V��#����	d�+���Նm�1�U���6���t���PT�����eu{0p`��5��sǎ�Q۩[��9`{�Yen{�nw�!����6K�Y���zl)O������@�[2��-z��f�zب�,F&sz/FFX�w����ͅ��/2`Uf" �4Jgt���F�8I�#6e0�3���O���2����ʈ �TSb�������u&d�f��
8Fh�>���Ԝ�9�}���9�:{��v�Y��@���t�\o����Ų>�삐����|s؋��ݙ�bG`Yٶ=����Q��d� �'<����'��D��g����M����/{�����X@�w�x/" �}8 O�J���%B�@x:ފsx( �Kx��Au������u�y7�އ��RwS$-+�9�����JƔ�ae��	a��p���,�ÛMl�����Ky���P&3�A��1���7�" S��a����P���L謥0�+���qh� ��[��� ��2Y,R�7�w![`G��ĹZ��3�r6p��j��St0���С�$�o��\e�TGƗ���Z3�\�V�di����ë�6�t����uIATW6#H$<+���b8o�#�������q8��wC!lr+&�܈\}G�Fg˲��M)�#�7q�<rK��?�Ny*�1���yy����8��%6�b�z��#�8�������P�f��Tg�_	=lP�}6������ƲB�����?%��8<3d���̇ؾHE���ٻ)��0��}Z���l@>�\<�ϟ�w"MĀ1������t�������(,.�%�0�"�aa�:���P�|:D,��4�GX[[jr[x�:�3��46QEp&()-�C����R�����V�P�m�2����P=��y����I��Te�w%�(/AaN�L6�2�l��.����`�U;��_o9(��H'�}��(+����w���X�.��l�L����G��h?cv3���7(Ӯ�����/$�e�"ڂ�S��j�K��s��n�\�Gy��C�~FP���>=�������
ߧ�=DcH��D�� ��	*�G��;�.K�U�Y��
����|)�7�"*�U�[����%�.�D� ��r�=	�8��!҅�`i���D�3�N�bwR��U��/�.�-k?w^�oh5����K2A�ߐ��c��Q��K�E�2D��^��Ý}� C��2�8��A���vC���X��w�����y�����?c���DE �8C�7���5C�eg_J���P$=a��t	j�{�ğq�f�P��|�Omm�*ϼ�K�Z*�q������`���!S�ڑF}H�-H�;����:�[}󩁂�H:���͙D���.�>�	X	K�(��L��1�~�P��q�̐��M9��&�Aի�(C��U��r2A?�'��g$�?x?d�Ak�x`���?%�I��C*A�7�k2�Tb[�7*���Ħ#X���YM��+�%: ��I�
H�&�y�BA�i�|��5];Ъ[�"�Y7�@��z���W����w{$ƃ���as���G���7� J��)�:�;���0d��_ᷛ\�W	�u�s�е�7t8\J�?+�g��wK�:#������\�ù�"$~3��._��n�p�q�;��9�9Б:��i�PZ��Ӥ�xL�Dt�A%��%�14�iqք����𧏷(��
�B^q���sDzu�c<n�=�m_�Ih��<����߳ n��/�nc��w�$ A�Wk��*�G�s(ZY�n�'��=ftP�a�l; �
�/M��+y�=@��z,	"_mzʞid�N!��(�W��gGԥ�g��,�}�W���.F��Z��#�M�=ʖ��3V����Ov��T���=�ĸb!�m)�\Y ��Y9��$� ����$B�5����x��%���TP��� "C06��	��� a�5{���1)�	��S+o��'���@2�4�%�+���Oץ�3�Yy�e�"�/Wni[��CR�bP��7~:@6[F��Ɗ���@_���@�h!�%��8M�=�S$���E��v�9������1��2����~�ʡBq��C!�k�����Ta�R�7ne�4��2�U������������z!)l���{Z����q��]��%k0lsYX+�Rk�[F�~�m����h�0��j��s��� �/�P���P��j����q9'�O���k�z 270�B=r�[P�A����XDBG�L&lS9	��e�B� 1�e��6))�����t����VH���B� �cLa �[i�6�_�8����nm�oËr�˟�	� �ƽ��ȷ�l�t��q@�|��J/�0��pD�a��V`c�9ZUǴ�t/8���"f�U���nw�A�B�Q	Z��-r�y$��+���̏l��J/72Y5�$n���KX:�;�˹5� �6��wD��5���'�?�r0��f�T�6��Z����y�������Wژow_Y�~����[�2���y�-���C��o�ـ�諫~�1��2ہ<�~a��K"��I6��Y$Z���z��ATi t��):a®I�J����T��w��ts��f��XS5-��:���h!�?���|���6���X��H�5s&`8d��	�=�â<��B8�]l-�W�#`?�N�l���J�|~ݑ�{V-Ȅ(=��8�m{��Һ�^V?��jb�9���R�aZ���L �����alҐ�R�P����@j�H����Q��W�g�����G�]X�8�3����r� u�&��M��Ҿ<0�c�����X� ���*�YK�i�S��9�h}:tgw��-J�@�՛���A�s��Ƌ�y�]��4�<.�f@�[���@����^G��1v��ד":���\���O�x�d�󸤀�a�U�E8�1�BcA��zH����`��� �@l+ˋ�����CO��T$�$�G="����p�j�|�I���讂�g�o3�����?�eH�ju��u�M�Z�]ij�F7�*ME���F��+Vy�~�����D�%�S�2��T>�ŭ�OR~�5��(T�AK�Ua�bwuY���cPqF�n�Hذ� .G���`i͇.��|�{��&O��쉹��M�$;*��= �3e��0!���ehDqDXL'�F���;�{Q�)�k�KE�%$W�\SV�V���F��`mJ�!����j�B�Չ�0b5PP����q��i����OR�g���fIy�����Ap؟���*)�	�\�u�ʜQ{�"�d�ZA���=�C��.���^��8C���- �8����H��� ���+���1X� p�E+*�:��1I�E��� |�8��w�U��"O�V�A�q�w�������r�M)�l�+�S�Nd$�:dg&��U��yGx�$�r���%@��s}`��"l�t�UT疁�3�e~ �.^��r�:^g�AvM8�#:����%��-g{���=A��[��pN�9�t;c��"r�Xtq �)��G��D��z�,����X���~��@�F6 A�D�'���\�l�:v�3aZU���1T��"<�`T���#xG�]��2)���u���j�H�wu%!�^��/�c�� 	��3�ZD�`yBB�4���r #F;L��[��S�� (��a�(�&|OмB8�B�B6Rv�$h�D�z����`P�{�0�u�%��W�8�;�^�Ӫ� ܉˂�eޭ��������!�FA���7����dEa��\q&�
 �*f�6�@��؏CZ/��
���W��A�}٤y��!�P9�K��J�n��L-�����OS"�KF��@s�3᳙�iTN����S6��e��`�JB�wJ�{�R��r3$��x���}jJ��tj�yz�e�'�ި�$�"$́\T3`vq�@�./�Ϫ8Ee�h��*~L��=��6��mo>M��iB��K@߈��ɁCt��f�#����=�߁����5)�8�3�+A�7m�V&Z�Hh���e"g�����A�W������D��w�ҜĥG�M�k�S�<�؇�*�~�D"Ke��W����'"��6e�q�v)g�`=��q���uZ�����l�:�,����-u�J�l�d�	�?'���������6��4R��&���ڃ��|�.r����g������W�� ���L�_z '�S�s��6*�`2{}��(�`p�D'�)������_�jT���U�؊�צV��ǆ+��`A���d�O�DԠ�?�~"�cu�|��*|?�*�(�c0���I���<���B&A��w�}	N��t�JE�����]T|����5�Կ!�d��}&��0%�/��X�@���G�nF���g.�FԀ�Cao.�9J��/q��b�b���f�K �9���r*�Q"��R��׻����r��Y��>/��K����D����	�TI���G��91��6Ib��Aާ(����=z�[���Bp���Ccv�*��)>�|tКe�2���	�T��s��r�U5b�����B9%Dz�I6|��&<g������ut�O���x���ae���S�	���U�w�g�f�Ok���+BJ�=�~iUA*]���j�C5��~M&�)�.	.�E{��1J���ֈ���")��	���-�fڥRD�#�Y�a��T��X.<�N�w_�'
�-E+J�PǌR�69�fg��I��n3lH�H��A��ɖ�ZR�]��x^[M]Zm i�����:��u�5�}j���t�7����c��ǔ��
C�3����p���
��
��YZ̆*0�#=0�����!cU�����c����� /b7}���ܺ����ח���X�+��}5E�ض�u$] ���E0��%ἾF�_qc�Uj*�l��{��2Z�y����$`��N8���3�
�e��ƔBr!7-& E�	f��r��~��/�I^�<P�z����ku��T�/�N�U�^d��{O�<!s���ݔ�{Y
�IZ�{�{��*k���-��CnBZccG�G�jl2���Q�L� nI"�n��~'W{�?�870.��4�ʲ@�\���,��.B�C�!�Vr��=��r���&t} �w�~rd:���d�4]��k:u���h }s/_�/+��"A��4���Փ�e(�p�>�ж��4��J����j|�xJ���`R%���Z��c*�qy4��л��1y�h�vw�����	�F��v��LY�
n=�Ty:�Xm�9k��ڟgĪ��`���Q��W�D2�m�5۔�b�U�-�B�k�/A�����\����EU��	<�a6��_�Z!���3k��_�u�:�cc�̰�u�	�gۡ�5%��LDe|%)���K��tcdOkRP�s�d��j3C x���0I��J����0�7&@��2�����)��q�.0��ݾ�m��+M�PF����Hu�!��A	?KB��&D>�[/��G����+��#I���y���X!{��r�Ѹ���|��ɽ���żǥjPZ��M�#�w�!�g]��^�v�Ȁ�me��t����S����X�E���%<�a3�<]By�(5���ٴ����%������o��q���R@�Vh���7i�x����r-���q9BGW�?��K@K�%+���V ����р�B�hp�K;V�����Q&��4j��8�����i���x4�W3�=.[�;�>�.�UXfn$���7�g�'|�Ly�hMy�I�C�=�}j�L����_jK��U��>���e��-��E*�O�w	6��ۧD�fy����0 4��	�F���48x�0Z�/h��Ę=E;e����+�f�r��z3�V��̪�Mf!���<��0�<p�L?}��`�@R�Z�!ȴ��l��SM��Ϲ`1�GSRX�����Y}�9�įc�����v,���eA��u�L����� ��Q�� ��ڰ��
�8u�Q0oBx%�7�-�S)[ �i�v0k�JD[�s�@����.�)�Au$]/�S�a�hcsh��xy=���@uf�;R�����w7br	�a��7�^.v��i��_��=fZ|��WEP�3;�AF�mp�e֚U�U�ׁ�<��_N���#K�86b�"Rb�d� SB�۵<�x�S�{Ū4׽"��r����˚��yd�+U8$�̀�&5Q����q��p�QE��`�3�_�ܥ��#8L�l�����@��	Z���\x�|G�zB ���F�W:�(��}t`N�:��J��8�`^�R-�=��Om�"��	���,�d^���K&ް������@�O�r��>g�4����B��qv�W���LP� !�#H+1\��Yb�fbCH��VN#3"��۷��)���9����d���͢�F͞����|1ȯ��y����JuKQ�����������KQ�n�m7�������H�������l�cGA�bKY�cy�G{PJ�,z��e�7��N���9��q��1�P�
����ƚ��>��7�pRc`�g�ix�|��5��%�^ �c��p�|Yxk=y���J�l���V���{7F����:����� G��w��w�8�VW����Q��q����R���`�PoU�n`���J�H��-�Kf�f��7����~1���
��d �.P^��˹ E.9�r�YĬU��;^@0�/��"T��ے0rN)z���G�N��ٙ�D���h����ސm4@��/���d,k��B�ڀ�f���b%a5�q�j7|Z�.��8����)����� �7�Du�ɈAtY�����L�ˏ���e�u�W�����9�'��g�
x'W����UX�������ɡ�3<*!�}����"cc��L$����3S���*�$i����S�Y�r��koxh���W�~9��g�~)Q!�v�x��j�ͣs��Qľ]4�?��
��sV��,������˿��CX�����1Ng�mR���~��0a���2/#	���rLhU\!](���gf-�z2�tI�s`�������	��`�c�D��8(�zy�| �׵�O���ȉx-�"9����kT�h�>��a�N8)����빀��)��o�ǐ��~Y�
U�ix�UL�U���6&(���z
�����'٭����r��1��O�����h����q�!%@y�Nw�S�4c����@!=��v�/9~j��5�T��[*�O��x�A�p�ٸ#��V�<��|�T�D@����Ќ������T�-���@Zv�)�C�
;!����i;�B��̏d>�QV�-���*Uw�����1��_�Ȧ~�x)�m�L	���P�纲t1i�2�a߮Y�̪L�6��&,�ڃn�F�Y���s��M)@pv?����;�	_��<#�F����;w�ܒ���hE/	h*�s���N�DDɛ�$=��IR����_��b��D���R�'�x��νlz������b��z�]����	�8Ԙ�Y�Q�2[>��dU�t�x�:����\�"9 �`��MY(����h�	F��� �w��������}������C_�Ny��,����hcJ���B8��B�bkܛ;|9}�1��ⳮ�s�'E��a�5�5������nb!���g;x��S4�V�`�T��ޓĮ7� ]`ZP��9K���cQ�u D�@%��&��,!܆`f��O��wo�̑�d�=_-L{�����g�W��S��&0��V�F=�mq�ptjr�o&�Hwl����
Bo�c�/���)�`"a���8�ʍ��
��6�$W���>Ba�,�"�>��0���gKO�ˎR�y>��xw[�۽�IQguZ���<7���c�$����^�y�Y��������� Ąj`?І}�4R.Sj�їU���}y��F����j��7~RH��ǟ:�P[���)�=x��P+Îp:)�q&d8!у��Z���l�"2��jMF�.vX���DQkJ�a;וB��f���k�����}U#�E<!ry��/<��Y����1LM����H�oz����1:�B�`J"JJU%�ٶߴ�=#��4x��m�ɓyD���"%�	5:���q;��Q��?��1�!�˄�5c"�VC�a[Q!��ʦ
�+���� �-�	<����QV3o��~b)��QC��T'@Ue��Ir�N#�盁�	����o����S�Oύ�V�Yr;���8�=��T%�Cx_?_�o�A)�+������ݦ'rqU���_�W@����`�j;�
=g|N� "X�7#�ej���R����Oq<�I"q�z�.8(k�
8����z��h�J����%8D�����3��4��!*xDK�h�,�|����m��u/D�VtI"�����>�I��N�g���Y$b��d���狨G���1��N���3����#�V�d�~XjS<��*%����FYl���s<>�_����o+��z��8��&�WVW����Yt��,�w2�s����k��d�:�x(�>"����|����N�h@?�c����a�!	�U:}���0���4�g�:��l.⣢�s��0T9�v�-���#S#�֬�勖 ��#�[�&����Y=�B��VC��M�����k�R�Z�O�1i��H(4""o�ТB ��	���,RK��E�a͙WME �i��/���L��0Fv�N�B�3X�u��f�vLq��Т���^n��+��a��'�k)I�as}'Z�j�dіm(���E��������lݭP.�j�̀�n���mvv��l�8j�a]]n��{�ܙ]z�p�p���4%ٓ����0�@�Rri�U���Ic�mQ�p��{�=�g�{�*P�"��>����zD��zњ�ؽ����n ��ͤ��8E��fF�ˢ�_�wȁ��a�ɛ�t��<:��rl�wv1�e���
d��@����+�jϜ����c�	�t	�+����?9e�Br�A��^O��KM��'�vs����H��YMFJ=�IDqk�)�7�r[AH�m��֙��w|l�u��j�"Ѽ���!<k�T��\SN�߅9�}{K��,ye�d��rޙ��g8+Ug��N��2��|+��	��K���Y^���i���旓2���lێ���	P��k9×di&�i��kێ���?@!haL�?b#TL�%MN�g���nouO�y�Pz�WC>l�A߭!�1kb�T0��+����t����C6���'|^]�U��I���*�(đo�´�Z�C-4�|�]V��E�;�}���G��|���0Ԧc�������Dg��uehk��6����D���[8L�
��T.�hfG�2K�#6�a�Ch3
��Yd���8��@�+�n��O��e������g͌G"9�?�;]L�����]xs�h1!NG���N���+���O@���'a;�[f�s ȶSOA]!�]���x��C�7�{��;
?P�
��U�ҭ ��7��Z'285?��n�)##�������j����k����ʣI�{��yr��<ra򔘬���Ȧ����^\��5}�c��\�MM	�X~z0?l�}�������F�E�5S�e._+K���#�t�����W�6����,�:H�T��aRHǐa��P�;B���<�)6d���0���(�2������PP6�4�S�V�X��tn*m�N�l���.^ �t�5�����[����_���l��/g��i�W
{���MC>GU�s�'F�����/#L�K�8�R�\l���]C�H�P�ΰ�5n�dA,��c��X�	��rgD�Z����7�(�ɣ3�.'WR�*r�� �4�9�j�=g:ٺ��Z!�� �X
�d�>��<�����H���Sm�;'e:�h놑REץ�	�|l@��^�r���gQ�Gy�.&�(�CBW���~��YB�|&��]x=�z�w�:{��b�e`tꖃ������}"�k2�L:�E�ay 3�7{k��Ȁ��]�p�������?q�I�Z܉��+γ��v��&C��./�QB�[TH�)�w��w��sEO)[�&&)L��v�5����"�dPQ�$dњ5��bE�"��\�H4�u?p�Ju�&P���CRz�;l���]�yy���ā{����3-���ՄK��!O[9��^u2
F�3�4*�q��K:b��j���Q�GG'Y�4�n��C�LV���
 @%s��!ދ�;�*&�q���mZ�nM)������Q��I�6`D]{4�N�[d:��q�O7&/��.��Ќ�c��	>%֍����ĩV�4S�uخ3�(���M���W3K�I)/��v�yEqAyaRE�~� ٶuH��o���h� �Jcs���Zy���?��ݧ�ɂ7-�- ���^�R3�M��vK�mk/ypvAnir�.�M~�50�ҟE�Y�R7s�y�;J"���^r8�R�6��l�n��G:N��-�{G���A��\~���ώ�*<r_��ػ�4��l��:�U�t��W�1Ө��GL����:Ft�#wD�9n��	��E���n�Ta3v?K$�)�\��#Q�a�%y��=����Lu�.#�@t��.��6�#����2z8��������m���ڣ���,+�)T�׻t$�|` K�,�/KF�K�n���18�e-���d?�L�_ܪT���$H*<�z;R^T1M�4���8;�N�)2�)B1������2q�2�p�
^Pf@�D���S-��@��7�-t���O���%��N����b!��RͲ���3{AI��Š��z-�B7f��9?�\�^���̂�	��Ο�v�#>h���2��%��{P��;���:�H b[\��龃�l�.�Ίs�XS��w��U����,��?�l���>��͸;td�Ր!.��T���1��]��A�S'^�/b��+�j�������Z�U���D��;)�t�o��ڄ�ɡ����'����:/8�� p�G& ����VI
��2�)�3�����\&J�sD=����[D>�ZmJ�\�\ڣM=WJ�ݜ���Qǡ��۵=�@�vI`�W�'*�����Y���/�Z%���$R�:-�4�$�hUt-��� ]i)�8�C�#��X��$� �z�పM�g ʻ3�����6�>�T�![Ϧ�s��
�����;���	�ݑ)KPO��Ɠ�f�����M¶J���&Qo#�Z�X	8N��ȉEv
�6;T��DT�FR��P:>]��|��(nDn��e����'�yǱS�?�ԸVO׈B.�C/�62 R-L��2{T>��T�����L�}����$��攔/��S�����>a����e�7#�p
��٪�k����L^�H����bn���Q����jL!D�����:'��yI'�um��)`g3�m��U�����,W�1�6�'^}���xC:͡��ϐ;ᄦ��}$�B�f�1ŁM4�L8R[{�����Ԟz2�����^䟴�?��7��@�M���]%`~ja a<�� 6�%AϽ����@�_��إ罬���%�|��E㉙v�B�P!b
���L����%���~�\�2�}�:�6����r�Oc2�,����Z�_L0u�43M���j��ז��_�8W�g�(I�+=��	�Tf���$��*Po͵<g9P�39~��ɏ��ӌ	_���y�4Y	W׎���ZL&T�/)���'���!��k��'--�S���>TM#�w�9IA�$��2DP�3�� �, ��HH��O%';lg�]�����̝*�WKo7�/,�4��f+��ũUO��6��*���e-Ӑg�K�����.�o����;����j���� X��.)(���xN����L��n��KCw�5A��.>��`|%��8i6草�F�����>+#,��2�|�i1�I�� u���3O+e�Od��C�Mi@툘_��AG��w%� ����L��|	��5/%E;����bu���p�-�Xe�"�ɧ�UWH��)����8�~�n,�	�Yr]H:�����*ũ�s8����*�	U)<P�T��k��~�_��?�������kH"z�j��f���(W(�'{��kP՘ze�=�Yг]��ё���B����`3x��=�Ȇ�㈚��2K�v�R��FO���^,��2�H1fS5��>:�8�WUķF�ݡ���������n[���v))���}W	�f�������Z`T��E��M?u!i���琹�#u*��A}�h����M��]�FX�)Of�V>��mٯ��u+[e�bˆD��zK�v�pV�K<:OI�����P�;:�����-�H��.F+�LD�`f��Y����������b�x��?�6Se
h�x���q��V�ă���g�j�I��p�҄�c\m&�M�}�U�����Q��*��UAhʘ
e��[��.��\��u��)V�E���}�$��� s�g�_ݐ
�EB���,�0�t����Ә^�)�X���G>�`>{��� {�=2a���N���_�+�˦Jl�D �#I����_���Oz���E�i���d��&9��י��J=1WfS�*z"~M�����Ҥ�4��� �)ْ����f!uH�� Sm�V$�z�t��݄I^ig����/�S�6�Ws��B���H0Y���B�B�0�of�����~'KJi����Ԇ&>�\S�l$����Ç�`J�-/��q/.|��5#w��ʅ�����t�'ZfD&�<#�(
��95��ez�Q��G �f,�:`�^ߥ_ �A\����=ς
��/���qr�v8� �;���H%��VJ�݌���~�ܳ����i��OC�@���wDʟ����=���Αjݳ��M�bY�V�rT�Y=D�F(�n�5�6�4B	LY��?����&�Ǣ-�?�,��b�h����7��ݿ����2�8JXuR�D7s��̴���*BdXR��&��c*�3�v	�?+��e?�(���z�6�R�3l��������J��A=<{5��H|VǬ^?"<��B;��C*7DVA�ΐV6�[gd��}��"���S���e�����C �O���X4,��!��Pgd�Z�3�|�>��L����C�8��>Fj��D>7�$ C~�-���`N��	�~9s��$�O�����ߣ��O6�*Q	}�f�xz(�(u}��(ż;�H��N�Y��\�Q�"���G�E���G�\�,}ʯcT���e\��)�!_���X� r~���������Sm_�p�����g�tvZS���	�-�L�V��x���75	���HE��V����vX���y��ʂl[u���fj@�%�E�7��kN܇2O&�[ͳ�~���ȳ�^{�W�gz�22�f�w��b�)�XJ�P�O�`	cT�l�2B&av�\�l�N(W~���+0�|���p�vg�叛��#s:yAbV�\�ڮ��K}'��l'H�1�jv�.�&0˺��~1%����x?x:k�Z�����Q�ګQEC���k�}Ѝ��?���̰雡�$Kn
Q�Ϩ�_���P#��$�n|���'mش�����&�\zJrra�-pV����P��` �(L��1R�Y�wS�I��ȼc1��O2�ؙa�1J@��]��r`{mxY~d�}�Y�ʬuj4�}d���m���QE�w ��QP��v6��f�#��tp���1��̈Z!>@<!�&%09�Ъ�G�KT�6x�9���D	k�<����R��vX":�	�0��������y@��$��]���z�
���w�5W�`��~��>��ޝ��BQ^�
_���d[#��'&�� �П�#�sfd�k����kJ)!FU�IN�������/u�����O��G�:���8�����@��Tձ�,�$��[]�!��(��r���^�x����р&�ٵ�߲۸J��BO���e��Z$�L�n��|���yw�#��r��m����L�o.�����Gj�~�ȥ���zv�Q}T�rO���ЅI���������,B�:�mz�W���h�Ո=z�iQ��Oi~m��um/�*U ʶ��v�u�m>�Ý�Ū��fE�13^D|���?�N�0dgZ.t%�(����L"�+�ȷ�'*8��
Αj\zf1>C<s�j�����a/�ώ�t�vDr���Ǽ�����VDC[ �	9��>i��r�^��_Il����ǻؿ�l������/�G�f��l~�M�|�Jxd7��"�).�#c�S�j��N,��U�(]��=�)z�+��Ȃ�c.�C�2o�4���a�@����	��dヤYP%�/;�:{P,e�A�GD'?�~���FE�a31�q�,�����a/��o��\��{���:�ܚ*�ů|� �m�'��m��<ews������qOm��{�uStZW�V���eb���c8���F4�g��;�S(�)�iMb��3�i�)7�~�bΡ�iB��r����`E�;}���.����X�W�/e@H�P�]���^�M7DMg�/������R�;\���Z}�]��+�='dR.����&G�Z�AZ��+�|ľ�&�-$��2|!X<%c�>�C/��4jml�߁�nJ�A�8
����d������]���>�4X�0yl�-��mp�i)��Q�[�n��!�ȗ����@�	K����w"�����)�k��M����
���╾O����`_����JaxZ��rf��d~�*P��%!��f\߅��}�����δ��7k�~D<W�9�=陥����p���j�e�L����0u�����	��M���^��H5L�0k4 5� B�i����<� ��<���>��jz�E�#m�7
��907g� w��������9��SY�
��3�����5���ciϺ�S��.���4)[�X0�3=O��I	�WB�k��I�=�?}��� ̾_�S�e(夽��c7j���sݼ���1�w�r�#��*C I`Akd�*	�;kRu����G���F�F��P�T�)/�"B�W��^�4$L��>8��c:Y�燎�4�m�2����m������3��)�oЯ��~��$�O�������q<��,=9������V��� /`Z�YO���;z��i�q����	縮.»ڑw�n�ؠ� f��0y��DK��X`�]�}Y�u�TO@�*D|���ߟ�b�K�K�d 18�_�p�v�c�YnN���eըE�
�o��7{_�J���B�������`i5�Ǻ!=��K�~����`����Ԅgb�����൵�$}<�����p߯��cvS�hD���bv ���6�C�	������B�M�L(	�v����%�g��H��L�ejSqJD\(��cm�к��0��si�^qQׂr.�>ȃ:*��ݶc;kD�iq�ԇ��p5,$L�. V0,�sxE��2 �_^%l��>��Y������PՓ�S^g�U����ﰅ����;%{"`t3��ٷ<���9�̫��V�=<KX7��=}�n��o�Y�)�lȔ*p��A�{���|�ye�7�ZԵ�D�b0��Ҡ��f�q7��0�`^\�+���OB���愁Xd��Q��IjZ�90���9�A�+���f��t�Q�����Z\6��i�,��T��8Tz�x�I�v�u71e������]���!oYt�T�Sf��7yPXWt�0f]V&f�yP°�Ӎ(d+�ϥ0azPL��f�G@߭JL�ޛ]l���0("�Rý#��|�b�L����+�۸Nw����K���g� ��l|a��T�n-�nq-j<�Xζ{�y��Y��w�����y3~߲X�����������Ộ��v�������"G�L@���F �;a+�5�Ξё���T)�ڒo�Gs0�A��s��-���]ژ�V1����M�ۏ��)-�|�0�M��@Rxf�����F
pV4ͽ�\�u�m��lb.�G[�<a������Ӄ���ʕ�Ww؛��!p��~���`��pm��!଺�U�<���u�{U�
��D:��U��juFQ��-�j;%���dß]��NW뒅�,z�˥��͟�,q�K�P�H���Ę��-�'�ش =���{�6_�gƧm�ch�0�� �����}�vC�z��h�Ov��׌���}J��z;=�MG��Ǩ�����r�r��KUv#3(��5��w� F�W��`����߫��� 9fA���Y���h��Dw��7����yj�,s5^�\lU�c����
\2��a����٩����<h���) w��M��QU|�7K-�{���f�O���V��9�[�C���A�+��}փ	x�3���R����L7���8P�:9��x��z@�*�8�e�z�������c�<�;�{D�z�b�R������4����&6�kC&���lR���k,�tV�8WTHT6[E,��<�V�W��n��؜�S#��y�/ב	E8��j ��0������΅5�iWHȉҊ����^]����w�tkZM[9�?g��a��N�&M0b��8�*�H!���R�kU^�XU��)LE��t�~������5\���>X���܍B�݈+�{�no�n�0k^� �.���wk3r�z���(�LGR��^iz(�dy;0[�S�
�h������~������F�����9��z��!+����MH1���w�a�.�8�2� s]!b�](�;�D<�J&I(*9&�!Eu���i�H���ke�@kR��mG�!����4��n�Z�&���w[CωLT��aӂ�K���۞�س�/���vW
�����z�T-���g��C=��2��-��~�^�Zt�S��Ƥ���<��]��?B��?x�y��mg��仝I����s��z{�J��f�3��X�� �A�ѐѳW	�:�"m,v�z��@����n���`��3��H���o�ʘ߈�[���@�~�aV��LE�M3�A�4�p-Z�R�VI�C������S2��-�N�s�Rc����_Ų�9����O�F'���!ֿ�݃�����
���c�� {���ަ�s�)��w��봏�o�����gS|��R�g�9��	NNg��N���E�oW�>l���rd����F�O�w{�}'��D��n��,�;����!`I��B׺���5(�tg{����s�N9�;�{�4����;'m�x��́�R݉/�Fޏ�G��ul�Z�e�̗�§���*���7$J��S-�m������Eg����{#H��P�b���G��9�@�(�k���Ww���'&�׻�3����< �Q�k�5� �q���u�F�<�YQa{I��ץ���P��Z��D�g�Ǣ�#o@�]v����C�6uB�U���].V���y��*�n�����O�)٠-B��*�yX��T��^5|��w\(�τX�� �{�����"�^�o�x��'�t����1�.�zS�.r�� P�X�QƄt������O��|>H���R�e��������0&bm��2r�Dq�5�8�i�����I[	(,s�KU�g+L.����~��\�lҊ ���gs	� 6���zTo"oSm>M��`@s"�}���-�%�����xMp������$T5Y$2�R�q	@��J�_	"_�D|
�7�Q���2ff\8�#2�<4�����J�8\i� ����^�W��/�q�R��_�E^�bd/�s��n�{>��I�Y�%��c��Pŕ?����rv!�-�і�`���/�iV�J�:)��� ��t��%ܢFY+C΂��X�����/q�ㆴ}7y�� >������K����é��q8yyl�5��73�r���91!�����lv���J��\T��2�+��:䓩�;�f�e��Yv�z
��_�'�?�jv^j�BC��3�
�7�ːӀ,���y�h�ǁ��֠�6�z?C�8S�&x����A����D�L�܂,}2Ԋ	6����v���d��5�}��_��^͚!͖t �s�ӓM�Q\(��5�5!�S{�e�(�Z����GXꌄ�X��6�Q�@i�a�8�1��g�n��ӓ�˚]r��.�p�9��� �)���+���>ԡ�g�l'7���3%d�}{�|(| +t}t��k��[�5<M��@>� ��1A� ����P�w�t�Z���y3��%--{�e^R���(�+�J��	�C�#C�y�:/�N+�6���E��E��d���^��[2���!��}��h9?��,�8kw�1���gs�*��"���{.+��+W��]G��=����՗�hJoy�c�4������6�/%BK�
ꀯ�ϡO!!	b���b�g����s�Y��G��X�dR��y
�-e�rFq�G��p�m��v�ˆŌ(�Y9{_0����C�u���uՖ�7��[��&����^D����̆}����P}(zq*AI܃_�2�kl�h)�!az��s�o@5��RfN01�Yz��!�"+ێ��)�4��l/��9��AD�*0��Η��|#��T`�tN�|�U3���r7�]_��+�f�����5T����\�B�ؚ��Ì���1�q�O2A=��<-���.x���E����`�2��KqI�m���"*:�k��~����ڝՋ�;��?��x�z7{�7��R�~[}����x��^/' n�hM�aq�������{�$�ǔ�%����U�4.X��)#�䯴�Y�į���N)�ncO�nnx�k����<���G����R��G5�H튟x�B�GW�j�ʩ�6�" &s�7g����X��pJv�A,�V�ϥ����S���c�]�CAv�̚`�#�0�Uj����+��G��~�5�3;h�Dh���}J���nހ�آ�^V�f��5�e�/\�]�o9Go/{������y��t����"��zo��Դ�R=� ���ζ�˔ ]��)�;�)�sCfD���ʚ| w���^�#;�i�A�*�\�a����]3�czd�
��W`�U�*�Xؐ<�ڕq�p��Vu6 �gܝ��z�;2}��(�<�ƒ,-~O���_��ݿBa8߯���뜯˂�%���l˂�iğ��]w��DL�"�f�Ӑ��I��g����w>�r����Wc)"��k����$���nT�̝�������t��
h�k���	�-�x�z��d�ϱT�'7,��'hu{rv嫞r��1��u�8������<��	�{ �P��o1��,o��c�l�vEs3(c�
T�#��ak��O���9LOwZ�c��E��[t�!B�c����2";��[��*F�����c��!��⁆R�u�Q��qW9�L��#l;t���f�1�h��=(�\�4`��y����69�
Cq�E6�F�Y�Fb'qN T�g}�j�z�a*俻��Mt�75������ή{D�ee�0����x$��A�
��:�K z�xΊ����[��g9 l�2a�,
��#�����s��w�p��|-�2��<���C���XgIp�p�7W'��׆�I�k��yo�A�<7����o&���ur�()���ʶg~���pdf�!:���(J�o`�U���U����9���1������9���k�s�C�ٲo��w(�V��v�3�tuuN���g���(V6�D%=x�q΀4��?Q�����6��{� ���:���|I�ʏ��/BG�K��8��W�6&��XMk;��Y4�/�+sNt�^���7}w�p����(F�Ih0�����/�w�p�,~�׉(��ec�o}[F�9O����|��	{��K��bҲj�
�j��£F��w�Ƀ���;):�*�HE�� zj!,��P��뻞���к�Zz��ѕqќ2=�;�a�1)�x�▲��ܠf�ɫ�K*� ^è=G���
�;���!*�k
s�y�9E��k���KW��&N[�$_��_�F����C�u)�g���@�[^A��D�|&�xԔ>x95j�,x��b#��Ռ��c%��<�Pg�{�/;{͎��L�-����!��w\����n��}�?��l�K�v���_$�W�8�^|ۼ���9��[P�}:�F_�<���3>���#���u�a��v
�Z��ߒoe�-e�76�"�����gn��?�3~@����-V`&Đ\�`_�>�n� ��-��	����}���=wV�I�51�c`v]>��7Y�)�WF9���w=��3��Q`��+G!f&<��Rm��j��-ܓ�7mZ��!�~��"h�Ӿ.����*���q��z�"D�ԫ���G��X1�4<&^��S7�9�N�/{+��S�.	~���|��aw�Hld�h�W
�ږqʼpn�Q�Ȟ������b8|�����I)�C�9`���5^���N��]����i�VE)|��_�� %��z����� b�������c�mQHl���
�c_�ּ��\��̴.��S�V�p�Bإ�g�:���<���֮�c���>�w�in��*5K�!���]��OB
v����/�$^����S��Y��d�G���`̀%��ŧ��/�Bݠ?��E��!�{b�������O��`הI�x�w�J`OL�p^>r�]�%���=ÑQ�hgD���uO�3Vά�����~&�6�y��ĶG�Vڣk�~�9����D���L.��ð_{|� �!EU ����\9�S�(�F3i��,܀v~(��$>��~�9$Q�˻�^��s����JvAdk��P��4��I�?�n\)�}!��L"O��+�X�5�S�kmf�����V�ύ���Qm�@�!8>oy�c
���bȯ����W@I�5�{%�Б��Ȑ��������<��X�0/'�t��U�2]
��-`<ݴ'0��Rdj���g�2���-�8Z��H@���% :w��
e�<נg�ۺ��;Y��|eVfD�q��s���ݙv���HR���|�>��d���ק�,0��z����D,����(��{�P}Ā�:
N8��ǲ��*C��
�79����2��֤��?f01�$ B&�fO�Y^�d�=�ڸr4��&�y6�m�?�V����4�i��)-I8R�2�w�)�:�D���--����O�pQ��ymu���X��%a
�|Ī�`�m�u�Q>:�~���6_�k�g��u4^<s	2�|3��RU<0:6���u�w툴+xq#����մ4ѕ�����Ypn�����%w�����j߳�iBͻ
��i��� �1(WPFc@�I������%~�}Rr��j��&6�_���Q����>dNq�T�ؑ�Է�R��-��Ot���(vY>C<��?}���?ͱ�3�1�ˍ�f�q�t���[&��ψ�� ����Wy���Ԥr4/��7@��G�ک�z����u{�2ZBԓ�S����%8��|);~��ހ��)T0L������9{�lp�䁔y�;SKE���Ll	n�lkg�x�NޭWV�OG��4�gN����wpx櫓������2��u��50�GR_�7H��O�Kz�b���I���ox���F/�R���;҇�hF�Tyj���;�}������k�^U.��#�]�ww-���~�I��Y޺�������2K�%�}�}�o�<P�!C�1��F"�<.�8�O���P-㑹䙺V� ������:�a���T�
88�I�_Ҟ��>*��\(���syY0<��fˀ��>���"�g�*���\���ۖ,�t8>��=��H�u�X���%�sɵ�ɉ�3n��}��}ב<8i�����T>��sI���mO��,��~�q��s����q<��`��߆I�JM���כ�	�#���p�^#A{�lʟ�� ��������߿9B	�uHl����*�6_��?�zr�j��t���3�����9���O�����B�cz���漅7�u�R�af����c�$:X'����qЁ�k?	���/Iހ�o)$Oؕ��~�p�K� @P,>�6]������\G�8�?� W���p�vѧ�h}�/Cŷc�P�0�I�V���H-��fNN��΅�ו#��h ,1�R�I��-Z��6���.TrZ,H�2j�c	S�Б`��ʪ�����pGA��5��ӃԐ̛\����Ljn���r5��������=R�9�">)cdzzQ'����Ĕ�cGqo��<0;�,C��L83h	^��Ø弡��	��ή����G�Ê<b6�b]+GĄ��n�3��[ȭ��?�c'�8��bbb�;K���as��:�T:GL�X.Jf��b�g� {��Y���b�pp����_�,������́�����B�C%G9����7�G�����ʶS(mp����jF�����笶������||�i�vr q���t>�G���=�,�դZ��3���?��?����T�|�|_{�]��X�6�H��A�?�|vg������"��'�?�P<~Dh����;��`}��F31��IQ������̥�����>��q?]�\�o.������I���t�-F&���N?_�QW�]����E�xJ4Ь򏸭��	7�2~�L����E�=[�/dCw/�w��P޵%����9Ǩ���pJ
�]�r2��(�j���VV�ƃ��P��%V���ݨ���@��o1[��*����?�ˆGPDRo����F�Ft�me�����_�t�O��O��|�%�`X�t�n����A��`�<���Y�8W�4�TL�����(��N��H��?u@ت�m9�q��8K�m���X����Q p.�g3��\�܋�J(;�x?w,X�?�lc2�ƫ��uvNF:0�Y��c\�`�����yi�p'���6��9�"1����g�+���ΐ��ņ�����bB��L���,��7�M�2��<V����������Rrv&�j}kҫ��@�*SUOAU�\��}�aB��T
�H��qb���u�?���J�ݟ�G՛�gy+��s�epCVp�@��d�df���\�E������z���^}jK��T�����8]��� pؙ9��J�%d�����}Sb8���T�3�QE���"���IІ+���_z��Qa����Zu��)��R���[�$.��N�	vxka?^;|5�C�n�[��+�a<jf�`?�S�0��h�Y�@��w?���>a�\����%���N�/>�䣠�}"�0���7���4|NR�dJTK����dc��B0t��2%�~�j!2�����(�!3�N`�����\G�>x�����e��	I���#&�2��mMWܝ���h:願�ْ�@gb��B.㔞=�6r��%�-�����a�x5�!�C <�l��X������J�W	�CM�5M�h���{��p��[@�.���gv����И�Q׺��� IY9�U�³���?���˒�@��Ð�� �Z%�\��~��
��E4D����ӗ�͗1@�P��7�]@ַ��y_���I@�����؟�٘�,�o{��-2˥���.M~������W��������2��w�@�i�Q�&��n�������K+nyuxUx�'��UoC�?�����5��y��͉�.T��w���UT�9fA'��naz�8��vU����"]�.٢�g���q ��B�_C�k�Ց��`�#�r1��2�}��M��K$c�2�����%i	Jn�l���³��A��=6H���L:��3�.e�IoA�&��>c��쉐����3����2�Z�f��ESP{i�n�Jehv5�4�w*ZvIi��q��� �ںEc��xx���T��
d��	�s�n��t�����!#����H'tKoM�iQ*���vM�~3�$��/��k�"P;�v��*3�F�� 0-};�}ND��_�q�$���/��.�z�4���Cl�4���6�^�/S5T��Q/��9�ɭ�V�!����_ȫ�Pۡ�ނ��ƙ��^��|�YACI�X����ڵ���̫0����h�VjN?�(�ӽ/�"�%������z�l}������D�����z��:��6�7�?�Q�>M�Rd�~ū�m�%���^��=\��'� ��W�ւ�����qЗ��|�N��zgH��^��Z��m%�]  4a�{�ʭy��B��
�HuLAN4�+�A�@�t�7$&��k#%%�&�G� �.����/��w9��y4��O��I^�J��-�!�uw-��o4���Y*mi�A����t��*�0�-���iαJ�1�p��#�}ѯ�q�������I+��_��/�q�y�.>��� ���)��D�˗��Q&(s[�"��ʛ�"z&!���lB�%|,)�� �6����LR��ɽ�,`ؖ��2tv
����U��º����&⨤l:<�#F��	��{
i��
�6(}б��?�o�|��/��$ �ĝo�������^U���d�07���)[�#�Ne��@�Q*(�R�6��M����71��#���@�j�rs�"<���> ��2}�D��z��B)�8t�6���Ÿ��}g�����?t���R�{LJ�Uè1�yk�WqX��vP`�a.��*>l�DQ��LCN����xgwd��tL�4-zP��R0Ȥ�M"	�WJ���֤����-8fsC F�*����7�`����*�y���0��üK@'��zW�� �z8.<d�@��$����&�5��v���n�Nb&�|�*ոl�%UNa�代>�=�r��q��a�h�U�	�� ��u�W�F��C���os���l3�ax�Ѯ���&T�?��Y�v<=�p���,��٪`V��?#�u��du����Nl�~�+��7�t+��sR����l��Ǎ�������r���Hl�(aq��(d�H#�����f��m���X-f�~���<U�n3E���*�cȊ' q�����L��2q���2���Kg�	�h�G��@��2}t�>�������S��qii�������vѧ_G�zt�)bb�����vO�^��E[��C�rM$�%ߓN��^F_��۞�#�Q�g/����O%ыٻ��2�4�ˠa�C�fz�*G�`��%x��wH��s&�:�%T)0�H�G�:���ǲ�	0�
���������J����a�ъjV���	�lݿ���I]��N�#�����]px���d�:B���D�?1K���E�M)�%=������1��mWMߊ�2��iZ)�V��[Sf$�ĭ����s��.�*�yv�7
)*��.�8�L��=� �n3O��L~�0U],˂"��iGA1�t�I��� �o�L%��!݈�t�ir9^үm��L'H����5������1�PY���	�+���D��k�IQ%�:�Cp�4`mG�30�`d��"p��	O�Z���oE��Bhl�_�'l�i>
�Q<M��i\�&��[L<�/��l�U3�wgJ��T�vV#���b�NMƝ�o�y�E��� �DYn�vsl�VZ�aknF�]��N���e��������3�K�uO��+S�2w���8�N=-��S]�\8yr���'�!e�\�Q_:$\lX��_P�8���n���m��_0�	�]u����n\;Vu�[R��O��F8��m�b6�� ��������e}H����,����-�V�;u/� F�Μ�ȇ@�9�w��t$�`(|��������,�*�_+]՗��C�!!dG�����0dE*>�P�'�:x�}lfB��>�����e+�-x*�f�ץxnSMf��=:�!���	��Ǹ���G��'ڂLHcZS��:X�j�j��w��B`�ap[ Qh��q�C`ֲԒ+xG�v����.ʅ�q$�A,u����^@�n�F�V~�@h���A`�.���N���*�X�î�X�������Ȫ�^�a����K����ƣ��&#{�#�C�!`i�l3Z����ž{4�qpH{�fm
x�c���bc�po����ź��;�Է秜e�� ���!��?��A�Y��n$p|L����kH�)O���߄�p$@M��?:�SD�ɔ)>Sw
�"~:{�tM���7�;�wz��j�:�ȼFP	��RCO�Ss*)�zދ����C��S���z;�Q�,L
71,V�7�*a�ڴ��T$j��Xm|�m�߸�3��Nq)������30��i�:�]1�:ʇxp�6���%Y�aX	��<��cfU�%��P�$�E��I�_��{}�1YMߠ�[����BP��(#7��V����=H1b-6x���u�JNK�T�6�W�Z[��"�>�ҝE�8[��Ѷ���F��E(5Ayl]r����pa>7S|Y���o0_+E�m � �.����5�7�V��9�?Ͼq�6���-
�՘]������l�tY�yM؛�X:�G,r�7��s[B���/"�:���K�p��	��|
= ��3GX��a,�ѭ���ʐq�e
�<um� �N��u���i	�^OrY�:��Lbyc�x�m� ���ց�䷧�����a1���{)[N�L:%Ą�̥J>�b]��Mm{~_�n�v6�;�밵���7�x��O���D<g��阺k����2`�SK�#JQ�o��m��؂n�����6N�t��������#��m�)�l[��I��'7�PȔ�F�q������r��M��������#{�%J��_�6=�R��+��%x���Q]�Gg��iￖ��m$���^f2�Z^ɲ�s��n�<��N`]T��$e�����dP��k����#�|�UD�38� �m5������*z�r�ʈ�d��ٿ�Y�vnv���پ4���Mz�$�JaV� �D���Lh���	���Nm��c�2;A-h
ʡ��/3��e�V��m�x��'�p�nR,�ŧ5?��Nv0R�Ŷ՘�*/�k���K;r��͜%a�� ���A��o�r�'W�_`�����7(�����,p�K�FKZ�V�@�F'o�.Ty%��A�1�)��*����Ʃ"����R��*�����b�����`��11}�t	R�
{������C.x�6bVփ�d_~�P�������_m`(�
����Сj/��
��["J/��L'W�%��a�.�(=Uz��=3_�lD�1,vSV�
Fti�K�����	zfX����ջZ��Eރ�8�B1�?��S����ؽ3r�X���{f��CY�cj�j���a[���Ir���+�����r6hmK?p_�|��`щ�mBWBt��r��[ZX�==��f�'���j�e�B!����q��u�-�cӅ8����ת��ݩ�%pk��3V���w}�(=�"���$�f5�Ɯ���-���*>r���1Z]��nծ�iz�<\d��.��������sc�[.��?2gʥX�r/D� �DQ<���k���M'׵
��AVM�W���K����4yͬ�1'w��և+�ɤ>&x�l�������֤�[u��֒��j�cB�q�r��@�r����:�g�ڱ`%3�v���')����2.���.�}�o���cL0��cݍ�V� �of8T�J�y�> ���l�E���S���\B'��و�wz3ǂcs��'�u#�������kf�+�Dd}�A�Ҩ����e�z+���[	�Th���S����Y��Gk`�ń�� ��w��{A��,�s������3�Zև��L��!2�
�S��X�d2?,� ���pA�ET�O��<�iaH6�Ӝγlj|�����l��N�) �P�O0ar�=O�
�]��7\=wMc%�{�QT��K�����c�З.sBԳ��ꏉU��ؤ����5���K&�y����1�6 )C�l�-WMe�(���"n"��{��HP:4W0�y��{��2�G	t!�FG8+�s�s��\�l�2�}&���z���]*'tp7�=$�d8����j�>�q�˞�f��H����{b���u���-U�3�_�q�!�f1e����u1�/U��΅�,������#i���þ�]�N���C��g:n�6�����P�EP�u7��3���Ni��] ���R��28%O�����|8b�9�G� P��I����q?�ZHg��<�\�˿p�-8�����ܨ��\&���$�w�Ⱦ�9��Ȁ��f��t�sB�7k;Ҟ�C?�5l`�	���If;��C&Ӂ�������^S���_��	�{���,7���|X����.2��+��V+W��4��E8�ĬLW�ܓ�D#����>��tY��R�eM�%i��\A}G[U��h�0r�Q�9����ӯ��Uf�6s�}-+�/��/|P�|ɹt���;�E�w�W��nޮs@��.�b;)3yHe���U�zN��UX�E�P4�<^I-�
��q��g���׏U�3�n_@u����H�m��� ��-�9����y6�* �ps7[Qn$S
o�4j���. o�rx��/曡L�@�u�a2?]X�K�p(Y�,��D����g]h�ˣ�ͅ����")y04M�o�bKˈ�s�x�M�Tǫ���-��ُ��{��D��6�����ѓ��R�}IB�87OI�t��=�8�N���D�:j�0X� s12��+�ﰦ��8�9N{��­
��]|�+1Χ���'���p���� q}ѿ���GN�[%pW�2�	�|��dP��Rw�;��L1�#�Ќ��6�x��q"���B���&�=&O�W5����t2#�����8��Ȫ��E�Q�������wkpݰ'�e�t8�c0{�����AǇ"�l��އ�� ?�L	^*������G�Nk�[�*�q_���lAb''�cgB�͚_��^����+f���@�?>ǧ�g|�סͻ2����r'1[]�tL��U�YO��^FU�y�LЦb .�⯫>�j�imj�a��_�(�V�
g�{'w��[(�.���Ds;K��L�0( �� 	�AuÝx��W ��6"��2qvu�zbR���Q���X)C[�|�;��# R��'��"���o7��K�o�������\o�V�*e��xeB�oL�e���v��̮/�e�3��R��w����ˍ?_J.3�S��J̩��Z��Uq��&������:�-�dG�a��Fr��G����sų��`u�q/ق�ٹ���TY�<�"���!�;�8���S�D�d�w@�MV6�9ٷ��#���h��2����Ȝ��z����W�m�4�n�K�B�٢�f�C��X:���@��{��P�/`U:��nM�"YR�0��g�Z�WP��W��ҥ�/�s󚦘��$��t���P��r}N��еו���3� y��瘚\�k�K��=t)F���q�~LCp�$Z!��kY5,�
����٠���� 9�K��t�����Cv=$f���NQV�wT�A�dg���?E�1�K�08��4G�;�k2�?B�?O���^�ؼ�y����2�,7Т��gW v��A[�.f(w�W�kg�Hͪ�ߒ��8�ja�Mo�׮U��OP�N��V!�hA��ZvqǾ4�K���x %�ߡ����/	��V�уy�Θ��5�N�<��#��ĥ�7��fm�ȳ��s�
�6�pv��E�¦��q�����
0yF���0� R���4P`�#��)��Ԅ|)&&{�	e��Mpl�l��V���.�k�8��-��
��I���ԧj�oG�Rw; ����M=�(DT�U�b�f?�L4�P�j�c?5��Ҁʌ�z��I�d�3s����3^�PO3c%���ɏ��G�4m�թ5l��Rl�E��؈A������Sv"~��gW�����?��2�c�W$�������g�kH���U��!�E�-��L#��C�����ʛ���e�PGt���Y�yF�<�3H��wzHb����KgR��'M��Bbm+����s�i�� �Y:�N#J��Ň��!+�p�� ώ0T��
���G|CT��Q�+�W��!^Hgr)����>�u9���� T|�--s�Mv���?�����/���C��M�f�Mt�ilg�J���K�VC�]K�'��v(��L1����2f<S����4��w����g&I~_=�	1�\|�$�sN����7k����\�Ԟ�����m���R�]�hH`�R�Q���X�tkY�3���&�1(6\��NeT�ѵ�y�r۸�-��\��Me��MW�������1��g�f�����Y.`��۶;X��p����`�\����y�CZl�֏D.;x�ۀ��;7�����u�l�0�a�j�F�����J��;<:JW��S��	4ws��W��0���sS	��Q:\ƪ����ig�������{�x�j��Պ�vH��3�J�g��yV�5$�0����&p��ir���p���@6Ǘ	�@�J0O}	������3/[�\�Ll�ͱ���N�I0M@�٠3��]R
ƭʄ��V7ֿ����Q����*����XO!}e�4�#T�l4����*�	��	����:�:|����Z������o�������W�����/(�l
�A:��l;$�ب�H W5��Ih�r]b_0���m�IƬ�ɇ��ih=q�~l9���z���gҾ(��T��h�ڔJ�% m��ވ��%3����p�3�wM��Oɫ�7�,Ġ���h��r/����gs���(�y%Y��o�c�N���R��{�!�{�# T;�@����M��>fV�欖y���"���4�q��MG���߾p'�'�M�7.��������l��f^f�����:�׆&�?���3��G]�H]�~f*b}��uSv��e��A�?:_��_�N�R�9"1;�NĬK�O�m�-��'Є���JI�4�'2L"����CBp�a	��'ڹD���t��g\��^���J��AN���1�:{m'�[�]�<���Ѩ0{��ÃΌ�r!/ݪ��{��l���[!��y�ʆ~Pl� �5��RuR�~��Ԣ��<o\�w��Z��.@ᬛyx]�tE{iB����'�h=Ȯ������D�&P� ^��T*�@%�ɵ���۾�T%3R��U�x"勴�Y*	�L�J��|�3#b雤����H�C��g"`Y���"�$�b�����L��0�J�UlU�f[���,q�K���O�$=���UI�(BZ7�OH�b���L����ޙ�D��Z�D�e�p11��`�`!�GX��tVP.x�PfHr��������'Q�x�
�������}����7��Fip�B�(xxG�oOl����TޮlՏy=�����Ӭ�[���!�7v��K�f��ȜS�Ǡ�Ho�s�I�U&�HN]fQ(1�
8�#0:�����GF(,�����"Ёi��"Oj�՛��}p#�X8zP�5�|�w�1�A�*�*Ǘ�L�
�()0�j{��;p~���"��$�^X���\�wµ+���ꨝL T�T_p���xg�r6�_n�|�7$JEm5��#s�1�g�\i�����,u0��+o�g��O+o��ʄ�w��^�a���D��s�Q;���3��8m�)ݾ�/��y��!�x���H+0,�Ƅ�����8v��kڙ� ��Y��(�Hy��֭�;�*7�'�e�B��\[�O���цfxON�!KӚΗ㳱`��V��<qWh(���Y�R�V�9�z"u����� �~����1����4Hj'��Ʊ$��S,�Sߢ�Q�f3���@�����߭N
�Jc٭�_6��L�1������:C2�M>;����kt�hFW��=ӫ���}��QQ�V-�^.��L��s(�ڿ�������d�~&��:[qՌ2���Vn'���Z�|�ݚ�r����Wo3�<屦�g�:�Q�Ă��L�6���Ԭ�mG��x��p�L�x{B��������t5v���v+v���5�(p����
�NF�TG��C���L��{!3B��[g��Lo82s�#]�[�U׊��?�TڶT�C����
��M��t�f��5�"�Z���`��Q'���3O�����,9����!Qv'��>]��1�D!\G�\r�9{퉝������7?�2 ]��<����ˠ�	��ֳ)�B�+���Z��=|��OK��{�-���;�QhC*x:�SW���#(����*���Y'Z����f��#�pq��R��)Q򑧔�4�z����:��'y�BdB����?��l��)"o7����z�=��.��PC�UVV�i�
��^��3mk����8�Ą���+���ӷ�n�j�ڧ��A0�:�l�WT�=�建&$�h�ՙ(�5S$*��(�O�*%l�M��x�+�.;:1Ӣ-����.�d#�Y�5�ص�W:���z�$����e���l�c��]70M^׵�ӊ7m�������(n۴�;FmZ,I�9Enۦ�Z���I�V��cE�/�S�I�x�cЁG��A��I���_Gp��WU�g+�p���u+�����3�3�]�C����&���2C&�I�d��xTb�c�-� h)��]�-�;�gt|m	%�Ѐc���8��(O
~���
`��z~Gė��?P�(�t��yJUW�Wp%e�ux?C(s�R==���F?2��f�]����~.K���?Ml������6@`�v�F��2�h^���!���P��e�ֶ�䉌��%y.b�~���{5����M|!ڥ5P1��>����6+Q�� u�@���o�q7�y*�cRltw�}�+{���XK���c����`��]' "ς�E�o>,Yg�	�|��DΡ���Qn������w�e]>X�]�����cj����3W�3�a v_�z�)���H�g��ͥ򋾨9҉�Q��aVX��E�2w'G�5k ����C	̬Mo�tC�Z�#��r-}X��O��J��۴�3�n�[�c�SG���%Y�%j��{Q�)�,1>���F�
���y�L�x{
^��7�8j����?2��ϲ�OX�Yw�k���x���@��'��D��a�N`g���
_)�;��#+��ǖ.��q.e9�{����>���f�x��m�7̺�`	(�kp��1�ݦd� u�|����y�G���ǹ��	���,T���:�_q�ʹ�,��S��!'����H[����e�&�k�Pu ��I:n�`{���,ď�k$�\}�;�#�8*bEEL5�y/��
o�W�3���6.� �6z�ԍ�.�v��˃ �Y����Tx�}@��<I���C���,>��?��vb+��"�&�}�W1�#D�̨���@~�ͽၤ��;�rKl���5�r�N7v���J$������5F��x�n�m�֢�N�����5/������2�jw�z�l���ٛʓ�J�]��P~:@,tk��u=�ۜ�t4mm��C�6�ٰ��<��ޏX[s}��q�*O⊯�+Sh.��u�)G���B��.\^�)�0}Kã�z0�Yp���%#p〿����kB#�w�Q�ƩA����;���J��EF�3x��Qu`1�<�vG7�K Y �<��)�K{�Nj6G���/�N�B��'�s�^��g� ג����x.:2c<� �e��@���M��<����TI�y����-���\z<����tM�a8�c�^�s���}��F�8�n��(JS2���Ě���t|����qb
�?2�k�^\��+hU]a�
�t:W��$Fc
8D�E��W0�CP����F���k��:�vh���ԃ�僾aG#����nvo��A��"������i�~m��;
K���1�Nm��2���īl�B��4}��xz��(#E�7�V
#.j�/�˭�S^޼ա�%x��:.Cl�˄�rx{�C`Y���s5��5�� �s[b�{�٩aY\uU"���\�9����_����<�z�oa�oz�qv��d���
��q���!#�W	�@����o�}@Q�7��OfԺ��Z��q��0xGO���5)�Alj�w�@k�	^�{����&�nI4Z� ��;�pj_�.x ����x�F@9eU�^E�*C�f��oS�jtCl�-	=��C�6��u��" p+�hRF���_%���2��t���t��&^ؔ������Cv��U���<��<�3���N���Zq�nr�z������JzN���� G�y.����wS�9e"�AI"m�BIz���W� 	����]�+�aT�|�`��P��Z%R�.Q*$L�*��w�W'�(Sx�i�tKf�xX]@���s3k:AD���T}��g��v�ŗe:�@�w��ֺ���MH�nݬͯ6Ö��!1�u�L�n��i���0#g���yv�;�k�DG�W�ҧ�ѫq�fyl��3��u��a�Q�;{�:�x��ʌ�;9� �a�4ٓH�Yv`�����`!�w�8J��K���D�o⩘�_���#غ���a)ZUj� p�2|�sƑ�;�jES]��<�Ԧ!�l�iO�	�Ar& 
�>�(^�i��ʭ��ej�l���9���:l��=$7�Rƨ)x����E����i[�-�F�p��ѥ��XKry�ԭ��(e>C����{t!?W���Q�n͐�gW�N�L�4��KB��<����Ъ�.1:S���.�#1����\�a2�.��#�����ŕ��׳�ȝ�cFJr�-�|�u���zm&�4e�z�qO�JF�������#n��A&�s�ɝ�������7��z�iX�nsᔑ�~�s��v��<��b���F�}���~Q.Xt��t�q�h��6��#Է%M$f��5jpň2�2`��!�.��a+�m�Ӹ�Rb��kx�		���_�E�Ґ@@��>�E�H@A[����4�+I3��3>����1ٛ�������V�b���F,���b����B=!��~-������΅9K��D��6��S���S�Zn*�+�X8z�� ���T/=�b��?T�e�'�{N��Ly8��4�<u:����q��v�L��`���ݵ�R�N�DaZ�/[��+]�l�&��c8�wο�I���r.���(n�ovft!+��|�;�M����~�)k��z7����.j�^��.�.Rs~}���_x�5�����zr�(h����	�F�|����)�s�k3瓚�s�%Z���]��iU��.j ;�q� �"/l�U���z0�FA���7X����vZ�}��6Ÿ@^����k3�5lmc�9'b��ǹ�Ie[��EKg������9���<�����������eJ �#�0�B9`�8�q���� r���e���ZW�*���V�Zw�OP�V%g�6���L�h�!�����@�݊�@U�
Zr�W��hJ�s;��2���xpO7�j�֕64A����ן�=�o5A(8z�	pr	��~�)^�fkv�����^���"Ϧ�W
�k��^�n���'7L2Rr�OHK�k��d�fE�v������՗���)�T:�[Գ���z�o�I�M�l|��޿/�g�����p��!o�q�~%u����>"�?+���h��>UJ������ڟ��wt�KW��y���$����l��ۧ!.���v ����;����w(������Ou�����o�������{0E����<<��l_�;��`(���N�CPE��{{�x�"�y��{;G������!���g=���?�k�G{h�n5q��کR�fw��3�oس�;�OC��։R��L�/7�XFT����A��������M���с�Z^�Njj���������Nkr��������^�Ǝ�n�0y��� �����.�/Ӌ�e�����p�k����!O�*�`�Ppq��ă#V�kx�K���j���Bԯ5��o\e"=أbLՅ���]9F��#V��C��H���<Ȼ�$� ť���gZ�7�(���J��B�k9�?��������7�9���%�m����}���a�����= �-������P����RN��J	����k���=�|���݀R�������{(>)�_���8���{����IK爅nv�a0S��c��z��?܁h¹cHIz*K�y9�YTn�q�9�+���������M֟�/�v�A�	��{�^}����}K1ub���;��S�_�x����;;|���u��;s�������4�1H"jᵸ�DyI�ܻ���}�T�����, �}�@�)�����!�"r�q��>3�iڣ�,[���?T�&�b&<$�)��Y�\�5mۡ&A�t���F�۞�B��ˑ[�N�?�}��s��]V!-0X�m�w����۷d�>�Tq�NG�~�!�Q�*�-o�O��+�G�>=`+>B�Rݻ���`�k�p`J��\�5m˚�=�aKb����OtO�{D�NM�;"��������i�����!��(�.w���G��s��P0��k�o_KjO�����'UrH�v6tR����B��Ğ�+#�
�� ǰ!�.P
�>V����>Y�e����KBLwwA�S�:G఍컻��<�������ġ�v:��S˺��a��u��Y��y�����=��-��a��PB��8�{I	�ѓ����3�9c �z�����$���"R/�ę�$]��L���e�U�#D���&�hJ�����1���vIa���O� ��އ;X&RI=�/ª�1��c� �cN������ꤠ��
�?���i�)(3 �N�`~u� ����W2y��B�l�"��B�v�v���N_n��5���sE@шUʩM��Q���Ҏ1�@�I ��y��T!���&�$@ �s��
���>Xn�s��ؗ}T�.�����[��]�>'�#(�϶g}�[$8W`�W�Ƭq{�	��Pd��w9��2'�v�Qyg��ʗ)}�X�'O�d�*u�1�z����T�*�ѣ���U���3��#�#޻}��P>l`ބ��<����r�{�{�a��.06d���^�a��	����<��'pP[ �޽��J��Љ�߱Y��A�*�����6 x�1�?����#�-u}c�f�C�,��R�g"7ɮF{��YK��§�������}Z'.D�{^J�#��y$	����8af����ѵ���t���п �OzU�ɝ{/yLta�>}`�^��Hm����~���Q��7�Q��9�gplsr<�(�uW�����!܁9��|H�9��ޜ\~7Z
�Dʰ2"Ro
Ê�Y=�����9�&Q��1�7��PB����gI@����]�����ط���);{���Xx|f��욧�zxb3E���գx�Ux ������!@�M��q"��Ma7���"`�`���2s��zqe�'X�E�`sE�zh/�n1�:*��	�i��f)W��k�y �a����#��\�j�4mG��A����w�A�O�{{Z�X��ُ8��ΊLK�BB1�ߢ<��m`�͑���#�s���)"�)��O���s�3����|�lp�?����j�I��kd�HZ���� ��f�[��!�zz��[���'>��!�̭'w��9S�TKfJ0=ׯ��Qy�|NdPo�Ã�{Oq�U�r����JK
���+�;�������W9���"xP3Q�F+b�^�xC�%���Y�C$��hQ���NKo�CfX�G��9,���AmO�Z�pk:�����EF� y��l���������l$������Oi����-~	rF�dx]Cy?���n@6xc��ݗ�����]�+��&3L��U��Naݑ�_��?�c�y�h"����P&���nh� �+�GM�����Pvｔ�~@hc���ˇ�/_�/�Č/8��A��Wc��O)胤���g�G������7�eZw ����ŅVA���, D!�x Y�@���+�ّz׸�8#0���S��0��D�}�J�0�����R@T����nݕ}I�h��U��V׆�b/����E���`_�%8����q4����-�ٯ�On=�}�i����:�F�Bǘ�Q��'9Z=�Ot�h�A���s	g��yp���TJg��X����{��ܹ����}��eU�ir�ϡq�,៊�����I���4F�ZV�8Rr�v�����dA���{����CX��xDD��>�eL���d�Ľ_t��t�p���D��!b�M'�0��p�=|�{�0t�[^)�Q'�D�Q2�`�'M2������kT�.�_N����^�+$k���q����4)�qo��[�d����en���WQT��G{�!�Y�?øk�M��*�t\=�T�:N�����?�!�	M��
<��Y_Ӵ���'l���
�eh6�%���?����[�0�G����A~G����M-H9 �/��L�Cn�����J�#.���)����}O⫯/Z\���(v9�>a�t��!h}A�t�������)������=�������\��i�C�k����_��k7��3��(�U���;-y��y���o��z� IT;�:�g�w���r`(�)�.�I�-V�ќ��H��2��	S�UBaQ<5R&��^�.��%[ D�gآ� �LA.���^*F�
�Z_��@���@������|�aR����-慏�_4�J?�5l݅&I�&փ����e���cfݙ`��)%Ɵ�T�t�F�o�㗂�]�}�#��"���i.�Q������[)Ps�+�S�]���G@����?��K��]8��XR��[P���v8�]Qz���ԧ�e��B�9�� �OG�ӯ���@%���VDOZq�1����oeQ���7lB�z��n�>��d�LD�ޕL!o>�J����&�fa�$Jv'K.����E�E����_�|tL�;�.}�Мu'�>C�� ����=���y%A)ٙ$+�jk��6>�sƟ$�Ɍ�b��z�ܰ$9�vaMg��F�@ֈH4�d�<�^�J�����H�J����Qz��0�/�Kn�3��.	�z�YU[�WX�k���v	w�;b�4�N�UyI� g�+5S�_��L���k	�!��� ���܆���XF�[��T~�|�cf���B1i��ry���1I���1�*���{\�b�����m������df�BZ~s�b&���ߖ䘭��.�1,fjؕ��%$U2f�=��͠�Ы���q��[
j���b� �+��u��'a�4����䤱)���(�4�� <���\��X�`�`.A���E�A�-����)�l�4;ǟjN��>��K��G�	��W�T/t�us�a���	���QԈR�.�#�#������,X��y�0A;*I��p��?}��{y�x�̖R���A=�b^�6�ojj��<i!ͤM	�듈�<;RO������3��9�<�?��t����� )����޽�︌�	��ڝ�������g!��/��bx��R��|97Ϡ2��B�� �T ��Yt�1��C�6���Od0T�4�fQ���a<P��g� 7�ϫ��j��l�	L�&��P%d�HGLT��UN�I�_B�:<��&	o{w� %�(���N_q���7ݸ�u����DYʫIW��pV�<ˎ����ʼ�Z�fp9�PY[8n9s��~<R�������҆g>!{�g�r��]F�_Q�r�K����%����yu�b��9f0̭"�9_F.�y#a�9F=�uB	��ސ8�
�g�4�r�^ڍtQ�='��;U�H��B�zYً�5%���*.\��=-$ �����em�w!K�������X�⿀tğ���'���;"a��wh2���;5��ِo�k�$�z8|<#�02����	��<���hX"��Uk��f)�sխ�����6�n&Dޜ5 ���a�i�o��j J��D���a��_~B�>�m�ӊԉ�\�e)��.cS"@J�xY��s�-��9�wHĉ�KM
�K���\�N��?4��jy ����::u�7	94��]��������͡2�xϢ�I������X5=�;ج"j�ʡ��Y�sL��nwH�x�aJ��?�� �q��`h�J��R�e�*P
��]�Z/K#�1�h�"���H=;�L4B�3p���Ki�"��8�gp���d�[�n�Ɠ�K6:�s��ʊEC�;hP��<o�Ё���XG���Tl/�q��N� &x�MZoo7�XJ	��$[b��|��k
�xv"_�큙R���>0~�\u.�;ӊY�[�;w]���=��Er$�2�I�'�.�?�xm�t5"�����	�M>�CRH�]���%$8�KYI x.T�zp�Fr� �Wn�t�@���B�T7,	���[�xFe/�P��KlYlDs)1�y�5<���TCûT���������O��˖�����ERV�4��d���H<���l?X\\$Ү��r�=���}>;b����)���?��L6��B	��
�bPny�Sr��F@��?E �%��9�2�����} �<s	�©W���|�B�E�ć�vq@]p'�l1���/W�$r���91�
I9<���������E��8W��%Q��Ǣ���tcf�$:�����!�;�����ۘ!!�t��)ӭ��$��@(t����H��_�Őw��G ޢFm`f6�Y`�,�Q� 2�r�� wY���P�1��L#���}�I8J����8D����-���S1=<��]|��IM*��s(�)���U�9���俷ĉ���f&�1wb�7aqM֪�}�7p!��w�G&o;�<RոV�D� ��8�C��Ċ0nVc��)nq�˭����h����)�)��\,P�V��חL��a|�Y��%r���]h��f�H�]^iD��uf)�Q�m�$@��	|���v��9K@�����R
B|�ld�w�����Y��HǪi�Q�
���P�|l�@ї\��	��ּ#�!��|J]�4p),��_fw)#3�XH���eH�@�zW�DI%��#����&��7FF@����*�����|J��"�!���+,_��O$�C�TF������:�=��%%�7��*z��z+�BGm>}��=\�'wQ�M��wЀ��~n��II���	IT�d��8��#$tq��b�W)�@HՊ�OR�e8���̃���AL(!����@O����Ydz
�5ta��g>�,�U<c��d}���U�k���#��Je�Gq۴�=&iM	6y�g��D�xFh� &�P�C�p�w��4ic���/М ��/1r�<�9�䢍��^\Xh	a��"�h�]��pS��}�+����?�����Kl��^f%�4w��r�g��	�P8]�в���^c���F�'A�Pt�Dӕ������j�.pM˨D���$�(��O$n�^�J��x�,�,�!�C�Iӣ��m�3.�1���"ݶ0;�);]�.�d���5����n݊Sr�,�`?^�0q&��"� Ӷ:��"�thV���Q�EP$�nR�.Zٟ�&�|����H��}Lc;��d7�D(�ƈc�b�5�N7��K���ݽ2wN��ۚl¯�%=��^��`��1 �ӫo&�V]�����x�U����������"'1�W�A�$���~��T��y���@Ft���W9��8�Ζ�L�ƅ���]�6B�y��]AB�\��n#��v���$���t�����J|!eSz��	ExڌL��p��\.B �z�aIuu�����;"�7><���4`=(�H�9�|�L�`�g��u;��*�k~Y)] f��+�ј�W��"~�,�̌J� b��t�2�J�UH��}���H�6�ʳ_`l��hٶ;I?�[T����tK9�x�?8��bw�$jE�`�]�~��p�3<	��^��F�Gl*ׂq{/����f��G�*���/�������>���K�C9P(�o�gY����s�b&��`�,�<}`�4m���@ږGE�@z<}v�Yso�`����X�)bE@K;�CQ��c\P�7Rl��Ҫ��a�"D��O���� �$�$����a,�qY1���>��˯��#$�\��\���U!=�]%�6� ���e��b��ZX��Mo*�I-�ճ0Vz,�_�W+D�&�lE-�h_.��Md�o�$�*��nf��������d]��STC���M)lYˤ�/he?�O	����>L�����w�D����u�\�#�\6�?;3ʟ�"��.� "�&� �{�ζiB�S�H/ǹ�.�������ml�Q�j^�G,I�!���,Q�@�S8-���jcC�z���C�O���w݆x?���F�,�R:y�'�EeJ\�|8�d��	,��Pn���]k��(F�Z,���ړ35��Fo9����\z<R,k�`��z\��O�s���EJ*� �.&�<F@���y��,Ԓ�����P�%y(�2�v�G}J��2�!MX�{T
��G��5�G����YR�c�(:�~�����/\���|A�oE��'�b��u�B㢦�@"B��{�9J�%����%��`�<Ap�rQ�1E��EƤ���
�\o�!ӂ�p�I��<q`U�U���W�<��܆��L���`L��%'8��SSaU�@ϯ,2�V�kA���sJ�ν�K�M���Mε3
?�:�D���C.(���&�M?��}��_���1N��.sNU���H�_�rwJ{�[tfu_ �Z>���F"���F[�ó��؂�f��Ki�}g�Î�a��|}����U�Pq���r{�p��z��hCg��IΎT)/�E=�����<@����E�R+*�ƒ�Alf�!���g�"��6��G16Q�N8B�u�� �\��$;~��(dSb+��yԈr��C��J:�0��W��|s@jyc��8	mD���jZ��"�~sGt".L����1Z��H�{�6(�=|�| �yI���1�\��ȩ90(���-i�R�1}B�Lr��R����\�攲��oo㵫ĵ�?h�I`�/����֙�*�F���g����Y����F(`;�U �	U��-�Ay�ʹ(�r�/��`�Q�|��E$�$>x���+�m�	E���s�.�*Ā�}7� �!;�a�<�h'300���oh�����8���F5���RM\�}6��t\P�B|T��.K����t��ǕR�??�чl�3۳����-B���&��J4��އY-d:n�� 9Vk�t�����ق5��w�0��hU��R,B�'d�]�G�?�?�����2�#��_x�L�`����=�c�\�>^J~χ\�����¥R�H��{f'�ϰH4�,_lD|�a�'*;0�ԧ0��;�k@���֯1*>A�>��B���B7��&�]��7n`k|&�����)W¤�����%��RgK
>C(q�"X/���~��۞l�k�::�)�u��p��(Ʉiq�QPSa�H��/߇ ۓ(՜\��HL[�z�3�U�kӣ��.�8mL��6�5%Ч���ִ���`�1g���f����U�u���ES�_�d
1�
O�|)�������5��x����$iL>�ۛ6^\~�b�<���/��R|Q�i�A��;P�#��3�6��h��sm���s�+H�B����䮁2�<$Bh.ȯ~�0.ه6���i!�$���Ap��HP���,S�B�vz}�r�S�o��h1��\�-�-z��SV6KR�����MfU)�5�w�~�6\�~�^����!��O9��9ԏ��L�	\˵׼Q��F�"���B�`~�D@���S��)_�:0oWDDt}�W����`��t�ɆH���㋫��f���bھ6<ErO��lKI�h>�T��pB̐��m������z#^J�_���!�n���f���I��b����.� L���Ǝ����bF>�=�gUBN\�0���_+;!��S����M#L_t�������7<��vIo����
D3��.X������p�] �~�Y���8E_�J-ZP#q�;\&J�a�A�3�:��.�ҽ����ު��Ka�֑�'���wT�9�U8�g�uB�H ��${�ɕG�j�w�+Q��Uɕ+mb>�nSv���|f����PJ�9�k���QN5�\A��3Q��V�����C��t�>!$a��"��I���&޸�x�U
����u��| {J��4k����2��_�� qzAx�:��w��KE��Oo�`�]�ƉT�/����(����=�$�.*�^!��#���y����g��돷�^O�B~;��<}���#g��Ea�S+��eD �8n1�ѱ�"��{����@D�/��T� )T����BqM|=w"*L7�R،����S��%J��hH#L�^��۩����	��~K�Q����������H����fI���&�K��D��ڷ������k��)��a[�UC�a�����R�,�#B�����&���Ր`@��t�`H�$��r#��7_�л��0�n��x�q)]3�/��^����D���ld��?<M�bnL���CD��#�'�m�0�Hv�$�o�	�Z����S�A�G';�_��n�e� >��ʾD�IhJ7�kz����g�S�D/3�+ȚY��Dl��!�X�[)�8��d�%��'�?H�A䞐l<�B�|PqR�_�i,Ȗ�������w�\���ll�xlp��3�	�`p��5jA�p d��+7r��l�GM��,"8S���%��$x�'^x�z�lޓ�2.��v�_Z��s�L>3p�)�[s����$qq<�\�	z!ja����aײ�\��I�{�����$p���?���X�~T���\ "��@�0��l/����1%*�0{$��7��TR���M����0��:0�܍�*�k<��~�X�
ԑ(��^�k���ey����a�s�c���C6�����W\x���EgN!ގ@��#��Yir�i��+��ǫ��R�ه\��H8�Ԅ�<��U��(��T.m�Б-�J�jy"�.��u�l��/b���O��7ק1�DH�a�����g�S!�d�M�pkK�-:!ț�hs���c�_g�!�b����� {�N��
J$X��F|f'�>����WL��~���8(Qv=G����O��z�"��\�X�.u��ڬ�;A����/Day�5(��jF���1>�s���R�L��u��:Ic$R· ;���[�I]�%޷�h�UA.f�OE'H=�U�=|7���"X��E$�8u�jI���3���G��m`D�����<tI`�'����4�p�y�]�2`j��=�-����M�?Af��N2��)�o�X-=S��&�	|+!$� (������rF���E���N�Գ�a3X5/�	q]cDW��� b��FK� ��3Sc��������谄;�0�2W�n�hI./�W�Ko����<�z*��$����Uv�\vW,*x�.�࣏�O�	�*�7�Y�z ?�r�RP ��=��!�tt �'}�}��k)��
�������忙>�so=0e������A�y�Y1���AV����I�Ø������-�Nthh�u�GEI�E#��H��s��*���/}��	�W����n���`�W��|-;�I�#/3~h��-7�؅�|8:a�>}ɩ$���@h�#��{-g��])>�<A��ڡk���5J�⠚�+�DH蜟{����$�*������FR|�ܑ�F����7���_S��F�M7��>�]�E���#��$��h)v��=�)��:t���Fg(ʭ��O.GmFB����\?M�0�_$�,(`�Vy�L]�#(�\Ú�h/�̄UB��g��u�\6(���.)�lE�N��wkN�/�F�Y�oo�X+I��e�q�s��[K��p�����u̔�e�y�gʰ�t���m>�of*db�A��z�iJ���K��]��]d�I�l�-���&�,�ċB�?s�@�ˠ�28\��$`��tQ�,8���\���C�P|M�����5	�:^�㦮�0�&�Y�+Uô֒C|C�����\E��Ú�4g:��g1��U̵l�.�쵦��^ܜ.fq�vt`�l>̅Q>A8��Pנ���;H��]�Ӎ�V&^؞!��"���
�����U�f0���ϰuE����h���E������3�E$> u�~�#]��m~uq������U\l)��l�z@����$2[�虴#a.^�D�J.t�æ��
R*|
��OXu]P\�-v+��P��:��LЗ+������e��8{�
^2����C>̰8���b���%�����+r�'�B�=sH�;$H^��RTomQ����n4�����T��3'�+�FM} �P�"Rz�[�`�W{'�=A̒?�'��$�&�����hU��	���������E�/��/#�(�: D��e3�|�E$�ayH�2�kȂ��G85Ά0������IaF*�X�0>�?%^�%����������(+V祛B_�6�c	�X4���5|���%��!��M���>e^�@U���lh�b��n��9vI�(�1�̉o���ڔL�A]��AF�ps�'Ÿ��J�p��?7^���Gy{N�jazg���c�}ЫXc���RIC,v����x�n3?s�e	.��9����?yB$�T��mS�ߏ~�"�r-�E�RD��.`b�ڽ�7���A��q����%�z'�&��!>����d�|�0.��f���z�!`�#�]�f21����Μ\|��t:s�?|�+�$N�jv'_����z��<�������yry)�x�"l�E�MJ|Y�bő���఻���(&WD޴Eq���7+�b��6\$��K�jL)��zќ#��"N"o2���A���WC�y��buJK�{)��J�S��t��5w�}G�����.�AnrH����e��0G4�G:1��,UYM����Y�1#��Ǻ���×s������"7vV��>^`�[�x��:����4�HRGI��b�Yg�W�1�\���SV�4N�,k8��=�0��8����<0Xc�W��S����7ƚ/�bJT��.`���D��B��_6��p������b���8�u���x�P��$Z�]�B2��k6S;����_[�2%�n\OU�+��<t��
�9.�_����'/�yf�h�"��`��ϥ�)K� ������eKw���CR�F��)K��J':��D�?�*fݕ�7A���X4���u������[Z�O��������;�eo��+�?�"���jg9���o�} ��zeZ��x��� ��\:�38M��i��8��V/�����ٽ����U7;�x���/�i��k�6��?�W��^WAJq�~�uŉa��t�2l7�9������V�ō#"�8�;jth.s�r�C�ݱ)�րj���9��nXmWЩ�Ǝ�n@�l�ă�2�R���$��g"��}�](oz9���'�>�kۿNd)� ´A��Y0�h�h�Y�C,S\����6��Z�-��*��-�ć�X3Ǖ��Mu��`x���=�yR:Z	n�\ʮB�H�^M��<�ʇ�	� �,8���/�HN��3�:%4�����A�� ˾�f�r�xk�b�),pj�P�{VV�6[�N�kk��o�9�Q����0�к�0�xў!�������?R쓷��3�[�!�Ky�py��;6�$�x쪨/��:Y��Ɵt�Y#WǼ�e���g$S�x>��a��,2�5F"�D�����$��|�F4���>Ж/o����'�@Lwj�8��P`&9���V/R�R�@N���{dqȷߥ�-v<n$���I-x�8���	\!�%���p�;�H��:x���%�+ٹm��9�kO8~�Y6~1@Q�qz�i�������?��
� l��%+b�	��3�b��M;PN>k,S�Ђ�/�)^B:��-lP"ԎB��M�����5{�X��&��p?_���<"C0̥�I� G�Q`Ra� ;\�d�6��vq��� �_"[�|ٻ�ԂU���kX�I�,¨T.cXkh�:UrO��p�L���I�3]X� ��d�Z��`?� #�N�$;�D�/�Pd�J��m�P/-A�;�i2����N�6�eH_]��^m�ڻ�/@f�폪ډ
_�& iK�UP ��wmK�ׄb��}1.tJ@��,��r
Mh*��x��=E�p��z���z��p���k1x��_�cpQٚ��q��*10�=�-�3�q�;*�U���W1м�S
�@�,�-�ŧ�A��	Z'a W+���c��xs�KՈ���@�A��~G]��]�n�yDґ�{�kJ�<�c��¼���`�Թ�j�}����k)�Z
W��&ą4��Y��ߡR�4�L����`1�r��ϢŌ��5?��X�D6���H&�$D�֜��P���9�5q�/�Ԋ�'��ݣOr\2Sj��1/�^����Mw��*bx5	�5��]�����$֐7�q/*��@ީF�׼˷ߐ4����N�#�_��ELe@vY���,l!�t͟�n�����-ņ(�,�\�k�6A�	�W2�"�,i�B1�V/毈AU��W��e�~1��ò�ב�uo�6�s�|g�"��)���!!S��za�X0�'\d�]L�/�|T/AB��YE�r' <��I)���>AE�7H4
�`��Q
�Iо��Nx��V#�A/��!5�J�HK$�b ��b�MI�]�=Rb��l���V�l$���Y*���T2�E'3	P�b#�1ժ
�b;���Wۅȅ+�,����5���\j�cUN-�E�T�%�"�k!S3�ДMJnS��Q�-:k�j�?7Yy��C�3���3���t��x�\zcߵ��jl.�#�͔��������b�n)�>Y{K[�2�$z��N�j�����6-SF�M[|%l��+D��a�U���T��5�%��$F�/���'��_A����������8�ԒQ<c���g��.������	��X�!��۵�Oq�M���#ب�8G�@���m�DG��U� 0�M=��(d�S�.�ࠎ�>K�������p��`�Z�/B"��J"V� .7zrZ��o��^ʿ^�-+@��òr+����K�"8����Kǩ_Eԫn@�:u����f$��S��4�t�ePA4`iO����g����g�yJ����I�e�������N���C09�e��|=3�A�zi^�����i���Y�1�n[T\�Vˑ3�.������W��,�=g����̓"�+�Y��w]7�����ߢ)br·j����)߃�H���S���d� �,��WM�^e����"�a� �n��������ȫ�Dt�\c�����4l�.��0�*}��^e"�{��e��RR�dPr��/y+|�7�T�ۏ��6+a�������u:jbj�ڿ`�ʘ��,%@��(k k�A�����D���RǏwb�9�r.o.�^w�~�ň�ɰqWܳs�L�J���<3z���⍵X�C�ǥ�#m�`���ԋ:�.�N$*�@�N4�����s��d����Q��s&�9$��^@[;�U`�w _zq�6�Tp�R�/0ᡊ�����3½#4�{����F��/�^ޟ$��)ЊpI�'�V���O�yۇK<G�>8�Z��D9&>�[����{fGF
��k\�\DZ�p���U�s�ErH����-����k���H"��I�v��^\ReʺX9�t	_G�rļ�>Rc֖S������������v
J��!N��g�t�t]t� �V�(�����vA�l��聂��³���b����L��A1h^���m|w%���v��/8ю����1o�ĕ�X��ʜ�$�@�ArzIŮ��)������v] ;焐��?�i67�/�P���.�&�7WYa�r�B���@�V�6|�/r"�5_ܸ��o�\T�s��5��z&�T�&5.Mj.�%����-�a���C�*-᳘�|�2�ID�a���n��徛��>F���<*!�%����!��rE!ԑ�wD���b'	����`433����E��ѫ|�G�}'��A�ڧ���+h���)��m3U�Z��U�L�Txe�p���Or�OԐE1�����=��V�o9L��%Mo�^��|o�?���[��I����]��;~-k��5��>�))�>~[��H�|�8��]���U�s$�7�ٳF�_M��!�ET�L#֞��6��J�..���.
�]���C+]�0e��M��5^�?Կ_��n��'!k~�z*������^g�U��ױ���9�J�wh���ņ�=ԯ:�|�J������������|1L��I�8�S�3���g�3B@)�#y��Y]��ג$����ۑYbxH%�~X��I©��͑���>$�0�I�V�*t��\ʹa�t\�єN��c���0��;{T~Z�~�����1�.=NX�<��?"	��W��@���*/�$���xN�����5۾+�N���O�*�E���u=MS�E��ս�=�}��1$]9}��l�C?WAa-|+���	�#�t�B�����o�����SP����\j�{i�p�� �A�� z�:�e��_q�a���nN-��b��rt�C�V��!,Y �u}S�	)���zfa�n�����4��Rh��T��6�-�I_tkj���z���(��o�c��W��3FG�A���3��L�z?�gp�_b	,oM�.��_����:THIbN�B�Ei�Ur�{�S��I�B� ������EV~hg��v@�_3�Hob�Q=���R��L�\��[dϑ�<x�T��*���������{J�Cf���9	�<��rQF�1!$P�TdW�-���Mw���f|�^���oq�M�N_0�g�n�F���	�*X7G�(lW�D�2[]�
^������L-����8S@�]�Hߩ�Al�`Z��[�ˆǋ���
�;\����4`˟>��m	�W�r4Lc��K��)���O.��Z���O7����A�����O�1by���ϛ}�dI�P�����(�ۯ'��r�"��1��8_St��ù�n���a]�t0��������G�hi{3��1�/z��NU����*��~Uu}���M3��<�`�c���.{�d>��9;	�"I:L̜N��Y< �7mK6���[!_r0jo�Pl�uq�Áz!��!R:	����6">d6��x���K��2ۮK=����!F'~ ������`�q
�p�.$W��q0'�k�'Q-�o��fj��Se��qu��W6Ό+���Sw؝�X�%*�4%�-(��?8c�0� ca�!f/��R��rS"�r�� 0���bH�u��'MFh�
@k�%~�u��"�R$�'J�R��o��]��m�E�O��mݻ.�CE: f�|кh�j�s�&��
�N�'�C�����Q ����)�~+!�lWCa����}§�l����Ĝ��ݱ�
�uKA�[ס���Eљ�3,�\	�Ĝ}��
0�ns�O��p~����-lظ���*!~�Ӥ˦�	(��*3z ����;v��+�pҹ�l������v<���V�c4�H���t���������=P���W� iϹ�|[����]����.���t=�@@���1����3����@���'3$_���y"����̶�Jv4|_�C��ˮ�U�'�Ͱw6$��v�m�8�����"���v��
I����/b��HP��Hf�
���WX�
b��+z��6������ɩ4�H�=4 V��-�x����P�	Nu7 !��	�X�>��M�u"?"�R����1U����A�.��������3���3��UYO�yp��&tK\ǐ�{�s,�!�҃�����@=oP��;��8��
p�����d}���ž"^*S�Q�0��҆y�.E|�q����с_�JػI�+ k���*�1w���CC�JT���3�u��:��S���]�o{58H�T����������
�>�`5�8�9,EJX��)�Ѩ����9� ��>����iF<�7lۊ���S�>F"�aU���:I�H������D��;�W�$0s�&_��d�E��YoG1-�8����2��ĥx�O�M�y���.-J��L��L��G35|�㙝/hȴ��*��2�L�Ӛ���ˎ'��rIĺ�	�ɠ)�Y��h�mB�	���h�(w�~*?q����m"ϼ:@��ț~��w�Zz��|�1��-��)lѩ�a\GI�𰪯Z�t|�m/��>"��ɐ�50Q<H1c@��uY�����I�
��;�v �"�:�JK���e�WԞ� "�gϾ�vz��8�ƒ��R�H����b1I�441i����I�m�����������,��1����ts�A�V���tg2��bs�l���K��� �-�?W�d"��C͔�����\�H�Lq��,d�N�$�-�ڄ8`a,��'<�1U`�i��'̂�M���~	a�Һh��#�z��|�:h#g}/>�F=_J����c�ćǨG�?#�w4v�O@��!0]�x%����/7��Y���$�����_�*�G�_�C�_��A���rZyV�H�
2��b�ka�	p��~wS���L�����4+���!%ۼ�5�,Mo.>g�!�~������%M�$���
[m$t�<2�!5`�,��wk�$x�P;jp�vR	���oI���)���z�!�&�}�!^a�zZA���5���(BR0��L|��T9�ͺ��V���H��_�3��t��C:������X'B���9����N�����	��.8�4�������EdC�ADjU�AvHoQP6A�� Β{mX�*i�Qg�eC�{�	e#(2��pM}��Th9 J��� $�4���TW��B�P����4�N�)!L]i:I��xQ#�	���[Wd^<tB���\B*pdHc2�*�xL1�1���Q}q�8'�Ɖ[x*d��I���O�+���߷�����2�}��K�uS��NS"�z2��-d:D��H^ L��V����@VG/�����
Z@`�j&�`���X�S&�ޕ���i����f�Ջ��A2-f`JI��3��V:!q]��bW!$�f;"d1�A���$t�j&��Z��>�P�f����}���SăB�DǷ���<�sl��Z>l^8H��ǡ4V��5����=d�0}�t�{ʢs�:�3�	�Y�$��Ѣ��(M�)���r����vg�������o��e�K������e<��Ne_�pi���1$��e�|�=7���M�*k
�.B	�i���Q7|*�Z�z6ˑ��V�_n7�DÄ[<k���R�N�n|������J/2
�Т�d�)�H����s�^��:���0���ӇU�𾙰`N2n�i~RD�?�X:-�����B*�Ľ6T�D#�X�	��3!I��,�B|�
�.r����+p-j��6od��$[}�TK�k?���7A�W�J�G%����a�ǝ$�W�x`�3i%2�g�؈W�hEF��y�`[&�ٰ�c�~.�!�O�x�����|�� a-���v���k�K�o��A��'6P.P. o7��=U=�Sjs��_1Ur%���Ӌ�О2w��S����Ө��<�2����R����'�³Rf��r�%o�W0�kV���'l^ˌR�Ao'd���q�NE�_*��p�??�@r�����k]>��������[�\o���NL�lt�����n:�3e�YE�g���Y���]|ք���W��c%��Z��jSl�I�_��0���Lh�ûaj�.n�J`G���3i2 ��O8IYVqNZ+��#��_j-;��9C=���e�F�
�6�h+��	d
��w�(b����fJ�����D4̷)�Q���l����D����#�u��7-��B)د_��4%;�����q���@����O뙉!hkU������kv�Y)�i]y!f��}�.��L1m%z�����G$����齒�bU��a�/߹�{ �+.9����c��"I�Q�*�2����!�� �7���	�F`2k�	�By6�� 0�$Ht,Qؽ���H#ѳ��q@ֈ<8nz`� S
�:5����m��oIT�uf�.|?����d�JT.#�I�0��*�Ab���t��E)w)z�!�� �[i�,?���;����2�Ujf��"~��f-z�XE�q8��,'zh1k��Ԇd^��OZ)���ى�S�L�{v�̺~�Oi7�\c5&'�۔�o?[�%Ch��e @]{��z`�J�5-xw��&�R[u}�-A�X��9@��1�$��,���Zb;�!������o8#î�lE�>��=�>۬(��OD�\$ȌM{y�RH�N)��jJ��fdq0��WјFB��=��wj�4�mX��dI7��g����U�Y��l�ɔ�@������;mu�V��7	ۡ�N7?XƓx�C�����*I����Wy�91�����< Z�)�A�'b��W�z��Vw;����8�����c@�/{���岪��R=~a���o���4�©II���"���l c�*]P�g;2sU��~� \�ӱ�"7��.������D����A����!�Z�[���C��A�q���^^as�zJ̬�w�8�[��V6��W��楜Z,�+�V�q~5ڤ��R��h��Ԝ��J"�ٍ>H���e���7j��O�7>�ײw�5�qu`�s;��a8�F�c`[�|�b��� FE���~L>�ɞ�L���z_Oj�**�33_y1�aT���>
�d�����Ї�YY8L�q�-Z�W
'�r�1k{��͚�m�7gJ�)��+/�Y�}X[�S�U���Q�Ƃ}TT��*G�����Ja�YI��Kw�t �['��0L�)`�:C��w�#�QN�^��:�������.N��L��}�WR�c�>7�1�[�SŴ5p3f�O�V��X(��Ab��Ubg+|�[�o�(}�K�`@��1zǛO�n���:zO������ƽ�!u�"L�Ru�l0I2;�����ܿ9�&T��I����E5�SD�g���k�8-�zۺ�S�ve<bYY#��Di=�,��YZ˞�fχT�NK�z6������T�F;��p�{:��K�f����v2��Lε��7BO��lM�O5��bg��ޓ&�l�γ+R�D�B���\�:X�f����:�,��;'4��>$���L��S9�u'N��6�{��m�ZR�RH��m%�,�K���_r��);e0}{f'H]��6�A�v�����\�~��Z��wwӝ�g�w?��%���)������͕�W��,�l3�F���ukctY�:��㼘q����B�όj���P)��ɔ6��vC.WM�6�!�\�����t5ŀ[��i.����eyo�b�;����L;�V������q�a ��"��ߍ��/_\H�t��{MQS�R��.����^�o.�����2��h��W�);p�X�"��a�W,��-@�ޝ����3�0R�@�^��HB��+"v!�L�h�=�GU�e����!\l�`��`��B,�V�[��>�Gd������Ť��'���ګ�~c�2�&�aT4+=8*��>�[���L�(���@�Arc���-��KĪ� d�չ��܀��}�&��ؕ��'����"��֓�0j<�NvC�����a����<�l�B� ���N�H�E\2Z� #�GQd�Rs�~2���w��Ў=�]z�)d�K}�O����"�Y���`�:��)S�?<u�(��jP���d�ֶ��"xPW�z��{W-��5��/V2+�L����?^7DC,����e�Y�n����z�?��DrMm�*��8����1-�dQ:���b�7���u�q<�6'b��
9H= Q%���>�n6ޮ*�>O�q%Y���M��*�+��X(!b���:m�|�:�%��%J���bc���&e��yͽ��@��P�O�44��
�|)��{Z��Ô��禳5��P����.j�h �⚅4�B���պ��(U��~��$D"4rm����$%-r�/'�iV�c�Y�I�}H��Cĥ��b���t�P�/���,�x�`b\n��j��0���:�$��̔���+8��

�W�|p{[7B��:���z0MzPwMb��U �N��E�-�����M�QI������Jt�/į:$�*¢qpu����;���:�PZ�QEM�c	N7H�h-3��xjr���-��7�f��S����y�a��0NP�Ĉ�p�&�=�������W\���([���) y��IA	�l�mQ�*0G{�?�ͼ@���_o����Ǟ8 #�K|�o���Iʪ|�1␐�ӔجM����

4���aP�4N&ةc��u_�sb��(E�%���J%2)Yz��t�ʇɾO�*r_��I�"Hۋ��W��7s�_�%:=����n`��p�7=������a{��#%G�V8��2�'��4�ђc�
�Yp?�VZ!��am(U*Ԁ`��hXrĉ�8�vF�֞:��!�wxϹ��hB]h�8�W�=/v�6t��(#�iX�u��<�P"�dI����OF�����ՙ�ϬA}��uȮ���|S34pNu��#?"4bj{��2eC߆��͉�ٰ{�A@�&hy�Z�G�3p��s�u�8<��HKS��tb)�4����MBD�RGQ2 qu�~E�ڞ�_T��׵hNcAE�3�^<Zn�a��6JY�.��,�K�6#�R��Ihׇ�]Tn��Xf��i����G��H���ɂSQŋ�Reȏ�P��~���8����&�<V��j���n��&�G��P{��/>>�q�@�cR�֫a�����DG����y�\J��ͺ�����_ۦ<��
/�o�� UW�=�EsA�*F˜��կ(~�p�)^|5c�T�)����5_k��qyJ�����X�7d��A1�K]n%k�ꩃ�;/�i�g�[Hnr���X�_h��i��/
��?<�p�RB�_��me�3kBb���$^R-�7�]��a"g�:�x�kr�3/�yA�ݐ[ ��$�}8��ۢ�(�0g�%�k5V�ѝ�vh��D��t
1<��I�=����L��-���q����z�G�_��Q��-`Z��sA�:�7����%I�I��TNv(��m�V�݁�u�>����vJs3q�x������8ǅ4�r��OWz��;�>����{>�-�4oS4�vU�)z���7�H�4Kn<'�`;��� ��h�FLF(چ�I��K����Z�o��-Ow@hܤ^N5xh�%��/O��D�U�S� 짉���KR�=hJ_����1_��/
�tC�u���]�|Q�?y�Ã�5��3�uoޱ�� Ta����H_bpUΌR/�2L�F�#J��|Ҽt���
�1�����vbǺHm�-\�8]��R�`n�&�(���kJ�����\Q���"�9�'%���%�%��\�C�I���<� r��$���T�"��X�Ы�/�(�#�p���=~J���7_1��V~��檐dk�F�m��PQz�$z���_��ȨiW�̈́�d�Y�A���bؔ��}�,����8I������Ƒ9�}�X���+���db�)��pf�L�ĻcI�,Y�~y@�m�_�ݴ��I=�ο�� ��M�Bb)Y���_(g�A�R"�_�����K^�3>j�QY�NՊ��������Xr\Z�-�8�Ժ��KmI�=�'8�Ha��Z�A�?Ūx�5%����ZgrS:�T�$�.���@>e2�Ɵ	��O��'Q��l�Q�!���:�!E��KI�I!�J�6�:(��g�ި����BE]]8E��Q-vzA���i��/�RFM,��LU��)'���e��E��1�S��x��|��`A�֘)ŧP�w#�E��zD��ʠC�&���$j�Ob�mM~0­�ﾱ�u�=g��1�쬹M��|>{=]�r�
GQ䘕b��)Iŕ����G �lbWR��>ڈ���Y=9噍���-8�a;*.F�&�p�B�xp�Zϗ@��%.S1t��ZA�������0�ߠzK�����W�f�Ck�������Ći�k���T���;��$D��{��ƒģ�t+l�k�6��C׈&��! �\�#�rn�0�P�����{)��"JN#����}/��]	`�h�y�ҟCn�y�Ȼ�e$V���-�@]���ok!M�:�j��d�^ʮ�h��h3P��7= VC�Mu��1�ht���c�S�f�ҍ#)�
$��]#W�&&�.$��,�kU�Q�\d/m6�"�l�f���e^g�Jc[��:-��ϟSۿtV8CXG��<@O)���e0��N��Ŕ�R�D�ۂ��獹�(���֛5]�;�����'� ��|�	�Չ�t��Ό��_Fb��!"���j��n.���x��X`ѩM�Z��r����N0�<���W��Y%��r������1��ͮ���#��Ohpu�1�����3w�������c�>�$P[g\�v/X�32�2i]�W� ��$0>IP~*�D�������)��yyݕ��gh�ۡ/9��^��lD^�s��P,)��l��[6^@L���FM��:O��o@mPY�t�T�i[T�ۧ[Ǔ�
�Ѫf���^Yr>6<.{�M"�f�J�+>g\�0fk&L���(u$�| Z*�G��p�*��ʮ&ӹ��
!	��6)�@KOL������]tbM��M���5we%�\�BՇO+s��#rK���dm=I��� �ڲaI��p�X��x7i{Bp�@=DVH{�lm�1Оh��[{�������P��`���{q�!T�}Wk��m�k&����� �L/sB�ΘI���	���t��cLⲖ/ؚ ���r��{�,ꡗ�&���T8��7L����#�%� #1Ӣ Fp�h���@��	?�B���a&]z�ސ��g�L%�t%M���-��s�⎤�M9;e�X���������#�:�>��w*�-J<k�㛘�o�M
�R���v���=:�Lg�,�u�h���&��r�p������)�.�9t��/7�?��4M�>?:����8���I1���V~�͕~��A�U X���[7g4u��n����t$c�`��갅1��;���pDzl�h�n��BC+�?���j��A)c��%�"*�����Ł)	�5�� %����sDܓ��\ ��C<R[B���p�(g&&�o��(<�t�<a������A���?yH��_��¨��<�����������OqL�6B�����O��rY�y��I�HZ��0D}��i�[;�@�ɔ�ː+��.���а��k_E]S�t�� .�k+�7��3t����߿��1�\(��yÙ�|�P���\.m�k��H�ݸ�>Ӂ�t��~�Z�3M��YuicJ)�A2��9�I2:��d?��ܤ���LJ���o-c\�S�}���,Ղã��|;��DF����.'MD��5��t�s�L3�|g���f�V�x��%�r�(�:>: ����8���!Y�?*�r�����(�r���f��)\���^������p�
�v�h�Vbۈ���%\��p��wtS��"]Hńiy;l0Y��8%��G�,t�D��&A��:���EIQ�E3���m>]}��s�5�|�g��1Ӱ��h���u���JB�?�m��$���/���sa8����ʃ�2$��c��]��_ҏ�wۄQ"��-��ٽ�S9�ᨌ&�y�'$׋=Y�����1m���*���l�Ή�[�sn�W��3��mD�ɖ�x�]Y8F��Вe�[�7�b�u{�LC�a\"a�to�h!̧
1�Zr�?e���Vx&���pY]8�~�HD.7#�Y��P��>¥��p�Z��7[�YN��L0�dQH��b�V��t�ה}�I%�D¬��ڷ�� g$�٬��{Ss�ơ[`���E��ㅱMGٻ���k����+-���"�>��~{�k��9L��y�v� fw���
�F.��8Ӹc�V�P1���	v�C���0�L3��oݑ[[�@�4��{���rPw>�}v#�Qu���.�A(d�֧�=f������-��z^�O�Q��|?��=�C��F��
_Ή�x�������:���?q��;|k�A�i���WX�����}ث�l��L                                                                                                                                                                                                                                                                                                                                                                                                                                                                                                                                                                                                                                                                                                                                                                                                                                                                                                                                                                                                                                                                                                                                                                                                                                                                                                                                                                                                                                                                                                                                                                                                                                                                                                                                                                                                                                                                                                                                                                                                                                                                                                                                                                                                                                                                                                                                                                                                            r.com/naverSearchFe/naver_keep/v1_web_bookmark_create\", \"delete\": \"https://apis.naver.com/naverSearchFe/naver_keep/v1_web_keep_delete\" }, \"loginUrl\": \"https://nid.naver.com/nidlogin.login?url={=location}\" }); oSearchKeep.on({ \"create\": function (we) { var crLog = we.data(\"cr-on\"); if (crLog) tCR(crLog); }, \"delete\": function (we) { var crLog = we.data(\"cr-off\"); if (crLog) tCR(crLog); }, \"showLayer\": function (we) { var crLog = we.data(\"cr-on\"); if (crLog) tCR(crLog); }, \"hideLayer\": function (we) { var crLog = we.data(\"cr-off\"); if (crLog) tCR(crLog); } }); window.naver.common.gv.searchKeep = oSearchKeep; }); }; naver.common.load_js(window.require ? null : naver.common.gv.REQUIRE_JS, startApplication, true, 150); })(); </script> </div> <script type=\"text/javascript\"> (function() { var needFix = navigator.userAgent.toLowerCase().indexOf('webkit') > -1; d = document; if (!needFix || !d.querySelectorAll) return; var toArray = function(list){ var armap=[]; i=0; for(;i<list.length;++i){ armap.push(list[i]); } return Array.prototype.slice.call(armap, 0); } ; window.addEventListener('load', function() { toArray(d.querySelectorAll('#u_skip a')).forEach(function(el) { el.addEventListener('click', function() { var target = d.getElementById(this.href.split('#')[1]); oldTabIndex = target.getAttribute('tabindex'); oldOutlineWidth = d.defaultView.getComputedStyle(target, null).getPropertyValue('outline-width'); target.setAttribute('tabindex', 0); target.style.outlineWidth = 0; target.focus(); if (oldTabIndex === null) target.removeAttribute('tabindex'); else target.setAttribute('tabindex', oldTabIndex); }, false); }); }, false); })(); </script><script type=\"text/javascript\"> if(typeof nx_usain_beacon !== 'undefined') { nx_usain_beacon.add_tag(\"conn_._TLSv1.3_.\") ; $Fn(function () { nx_usain_beacon.send(); }).attach(window, \"load\") ; } </script></body> </html>\n"
     ]
    }
   ],
   "source": [
    "# get 메소드에 params 인자를 넣어 함께 get 요청(파라미터 : query)\n",
    "import requests\n",
    "URL = 'https://search.naver.com/search.naver'\n",
    "params = {'query':'aa'}\n",
    "response = requests.get(URL,params=params)\n",
    "print(response.status_code)\n",
    "print(response.text)"
   ]
  },
  {
   "cell_type": "code",
   "execution_count": 45,
   "id": "cfd2b38e",
   "metadata": {},
   "outputs": [
    {
     "name": "stdout",
     "output_type": "stream",
     "text": [
      "<h3 class=\"title\"><a href=\"https://www.naver.com/NOTICE\">공지사항</a> </h3>\n",
      "공지사항 \n"
     ]
    }
   ],
   "source": [
    "import requests\n",
    "URL = 'https://www.naver.com'\n",
    "response = requests.get(URL)\n",
    "content = response.text\n",
    "body = re.search('<h3.*/h3>',content)\n",
    "body = body.group()\n",
    "print(body)\n",
    "body = re.sub('<.+?>','',body)\n",
    "print(body)"
   ]
  },
  {
   "cell_type": "code",
   "execution_count": 52,
   "id": "22662efe",
   "metadata": {},
   "outputs": [
    {
     "name": "stdout",
     "output_type": "stream",
     "text": [
      "원피스\n"
     ]
    }
   ],
   "source": [
    "# Q. 'https://datalab.naver.com'에서 원피스를 출력하세요\n",
    "import requests\n",
    "URL = 'https://datalab.naver.com'\n",
    "response = requests.get(URL)\n",
    "html_text = response.text\n",
    "temp = html_text.split('<span class=\"title\">')[1]\n",
    "print(temp.split('</span>')[0])"
   ]
  },
  {
   "cell_type": "code",
   "execution_count": 48,
   "id": "1a07030c",
   "metadata": {},
   "outputs": [
    {
     "name": "stdout",
     "output_type": "stream",
     "text": [
      "크록스\n"
     ]
    }
   ],
   "source": [
    "# Q. 'https://search.shopping.naver.com/best100v2/main.nhn'에서 \n",
    "# 크록스를 출력하세요\n",
    "URL = 'https://search.shopping.naver.com/best100v2/main.nhn'\n",
    "req = requests.get(URL)\n",
    "html = req.text\n",
    "html = html.split('_popular_srch_lst_li\"')[1]\n",
    "html = html.split('\" kwdNm=')[0]\n",
    "html = html.split('=\"')[1]\n",
    "print(html)"
   ]
  },
  {
   "cell_type": "code",
   "execution_count": 53,
   "id": "d27da864",
   "metadata": {},
   "outputs": [
    {
     "name": "stdout",
     "output_type": "stream",
     "text": [
      "['메일', '카페', '블로그', '지식iN', '쇼핑']\n"
     ]
    }
   ],
   "source": [
    "# Q. URL = 'http://naver.com' 에서 split()함수와 정규표현식을 이용하여 \n",
    "# ['메일', '카페', '블로그', '지식iN', '쇼핑']을 출력하세요.\n",
    "URL = 'http://naver.com'\n",
    "response = requests.get(URL)\n",
    "html_data = response.text\n",
    "li = []\n",
    "for i in range(5):\n",
    "    result = html_data.split('<li class=\"nav_item\">')[i+1]\n",
    "#     print(result)\n",
    "    word = re.sub('<.*?>','',result)\n",
    "    word = re.sub(r'\\n','',word)\n",
    "    li.append(word)\n",
    "print(li)"
   ]
  },
  {
   "cell_type": "markdown",
   "id": "acaa6478",
   "metadata": {},
   "source": [
    "urllib 모듈이란: 파이썬의 표준 모듈로써 URL을 다루기 위한 모듈 패키지\n",
    "- 설치가 필요하지 않고 import urllib로 활용\n",
    "- requests 모듈과 마찬가지로 URL과 관련된 여러가지 기능들을 제공\n",
    "하위모듈\n",
    "- request : URL을 열고 읽는 모듈(HTTP 요청)\n",
    "- error : request 모듈에서 발생하는 에러들을 포함하는 모듈\n",
    "- parse : URL을 파싱하는 모듈(URL 해석 및 조작)\n",
    "- robots.txt 파일을 파싱하는 모듈"
   ]
  },
  {
   "cell_type": "code",
   "execution_count": 57,
   "id": "1cdd4e4e",
   "metadata": {},
   "outputs": [
    {
     "name": "stdout",
     "output_type": "stream",
     "text": [
      "<urllib.request.Request object at 0x0000029961B53610>\n",
      "https://www.naver.com\n",
      "https\n",
      "www.naver.com\n"
     ]
    }
   ],
   "source": [
    "import urllib\n",
    "URL = 'https://www.naver.com'\n",
    "request = urllib.request.Request(URL)\n",
    "print(request)\n",
    "print(request.full_url)\n",
    "print(request.type)\n",
    "print(request.host)"
   ]
  },
  {
   "cell_type": "code",
   "execution_count": 65,
   "id": "e9cb267d",
   "metadata": {},
   "outputs": [
    {
     "name": "stdout",
     "output_type": "stream",
     "text": [
      "\n",
      "<!doctype html>                          <html lang=\"ko\" data-dark=\"false\"> <head> <meta charset=\"utf-8\"> <title>NAVER</title> <meta http-equiv=\"X-UA-Compatible\" content=\"IE=edge\"> <meta name=\"viewport\" content=\"width=1190\"> <meta name=\"apple-mobile-web-app-title\" content=\"NAVER\"/> <meta name=\"robots\" content=\"index,nofollow\"/> <meta name=\"description\" content=\"네이버 메인에서 다양한 정보와 유용한 컨텐츠를 만나 보세요\"/> <meta property=\"og:title\" content=\"네이버\"> <m\n"
     ]
    }
   ],
   "source": [
    "import urllib\n",
    "URL = 'https://www.naver.com'\n",
    "response = urllib.request.urlopen(URL)\n",
    "byte_data = response.read(500)\n",
    "text_data = byte_data.decode('utf-8')\n",
    "print(text_data)"
   ]
  },
  {
   "cell_type": "code",
   "execution_count": 66,
   "id": "24d15480",
   "metadata": {},
   "outputs": [
    {
     "data": {
      "text/plain": [
       "('img.png', <http.client.HTTPMessage at 0x29961b53a30>)"
      ]
     },
     "execution_count": 66,
     "metadata": {},
     "output_type": "execute_result"
    }
   ],
   "source": [
    "# urllib.request.urlretrieve():웹상의 이미지 저장\n",
    "import urllib.request\n",
    "img_src = 'https://homepages.cae.wisc.edu/~ece533/images/tulips.png'\n",
    "new_name = 'img.png'\n",
    "urllib.request.urlretrieve(img_src,new_name)"
   ]
  },
  {
   "cell_type": "code",
   "execution_count": 71,
   "id": "83900d16",
   "metadata": {},
   "outputs": [
    {
     "name": "stdout",
     "output_type": "stream",
     "text": [
      "ParseResult(scheme='https', netloc='section.blog.naver.com', path='/Search/Post.naver', params='', query='pageNo=1&rangeType=ALL&orderBy=sim&keyword=ai', fragment='')\n",
      "https\n",
      "\n",
      "('https', 'section.blog.naver.com', '/Search/Post.naver', '', 'pageNo=1&rangeType=ALL&orderBy=sim&keyword=ai')\n",
      "pageNo=1&rangeType=ALL&orderBy=sim&keyword=ai\n"
     ]
    }
   ],
   "source": [
    "# 단순한 패턴을 읽을 때는 복잡한 정규표현식 보다는 간단한 parse 모듈을 사용\n",
    "# urllib.parse : url을 6개로 분리하여 반환\n",
    "\n",
    "import urllib\n",
    "parse = urllib.parse.urlparse('https://section.blog.naver.com/Search/Post.naver?pageNo=1&rangeType=ALL&orderBy=sim&keyword=ai')\n",
    "print(parse)\n",
    "print(parse[0])\n",
    "print(parse[5])\n",
    "print(parse[:5])\n",
    "print(parse.query)"
   ]
  },
  {
   "cell_type": "code",
   "execution_count": 74,
   "id": "973545a1",
   "metadata": {},
   "outputs": [
    {
     "name": "stdout",
     "output_type": "stream",
     "text": [
      "ParseResult(scheme='https', netloc='blog.naver.com', path='/koreatech91', params='a=1', query='b=2', fragment='b')\n",
      "['https', 'blog.daum.net', '/koreatech91', 'a=1', 'b=2', 'b']\n"
     ]
    }
   ],
   "source": [
    "# 튜플(변경 불가능)로 반환되기 때문에 리스트(변경 가능)로 변경하여 활용\n",
    "import urllib\n",
    "parse = urllib.parse.urlparse('https://blog.naver.com/koreatech91;a=1?b=2#b')\n",
    "print(parse)\n",
    "parse = list(parse)\n",
    "parse[1] = 'blog.daum.net'\n",
    "print(parse)"
   ]
  },
  {
   "cell_type": "code",
   "execution_count": null,
   "id": "ce5d0dff",
   "metadata": {},
   "outputs": [],
   "source": [
    "# Q. 원하는 웹 사이트를 requests 모듈과 urllib 모듈로 가져와서 text로 출력하세요."
   ]
  },
  {
   "cell_type": "code",
   "execution_count": null,
   "id": "9954ce3e",
   "metadata": {},
   "outputs": [],
   "source": [
    "# Q. 특정 단어를 출력하세요."
   ]
  },
  {
   "cell_type": "code",
   "execution_count": null,
   "id": "2eb108fa",
   "metadata": {},
   "outputs": [],
   "source": [
    "# Q. 웹에서 이미지를 다운 받아 저장하세요.(가능한 이미지 선택)"
   ]
  },
  {
   "cell_type": "code",
   "execution_count": null,
   "id": "0c2c7655",
   "metadata": {},
   "outputs": [],
   "source": [
    "# 도전 과제\n",
    "# Q. 네이버 영화 랭킹 가져와서 첫번째 영화제목을 출력하세요.\n"
   ]
  },
  {
   "cell_type": "code",
   "execution_count": null,
   "id": "a7fe406d",
   "metadata": {},
   "outputs": [],
   "source": [
    "# 도전 과제\n",
    "# Q. 네이버 영화 랭킹 가져와서 전체 영화제목을 출력하세요.\n"
   ]
  }
 ],
 "metadata": {
  "kernelspec": {
   "display_name": "Python 3",
   "language": "python",
   "name": "python3"
  },
  "language_info": {
   "codemirror_mode": {
    "name": "ipython",
    "version": 3
   },
   "file_extension": ".py",
   "mimetype": "text/x-python",
   "name": "python",
   "nbconvert_exporter": "python",
   "pygments_lexer": "ipython3",
   "version": "3.8.10"
  }
 },
 "nbformat": 4,
 "nbformat_minor": 5
}