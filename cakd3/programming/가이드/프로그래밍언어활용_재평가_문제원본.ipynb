{
 "cells": [
  {
   "cell_type": "markdown",
   "metadata": {},
   "source": [
    "## 빅데이터 기반 AI 응용 솔루션 개발자 전문과정\n",
    "\n",
    "#### 교과목명 : 프로그래밍 언어 활용\n",
    "\n",
    "- 평가일 : 21.07.09\n",
    "- 성명 :\n",
    "- 점수 :\n",
    "\n",
    "※ 문제당 5점으로 채점"
   ]
  },
  {
   "cell_type": "markdown",
   "metadata": {},
   "source": [
    "#### 1. numbers 리스트에서 5, 6, 7를 출력하세요.(for문과 if 조건 사용 필수)  \n",
    "numbers = [5, 15, 6, 20, 7, 25]"
   ]
  },
  {
   "cell_type": "markdown",
   "metadata": {},
   "source": [
    "#### 2. 아래 사용자 함수, 변수 리스트 및 2개의 내장함수를 각각 이용해서 [12, 14, 16, 18, 20], [6]를 출력하세요.(내장함수 2개 사용 필수) "
   ]
  },
  {
   "cell_type": "code",
   "execution_count": 4,
   "metadata": {},
   "outputs": [],
   "source": [
    "# 함수를 선언합니다.\n",
    "def power(item):\n",
    "    return item + item\n",
    "def under_7(item):\n",
    "    return item < 7\n",
    "\n",
    "# 변수를 선언합니다.\n",
    "list_input_a = [ 6,  7,  8,  9, 10]"
   ]
  },
  {
   "cell_type": "markdown",
   "metadata": {},
   "source": [
    "#### 3. 정수를 입력하면 3의 배수 여부를 반환해주는 프로그램을 작성하세요.(정수 입력 후 '3의 배수', '3의 배수가 아님'으로 출력). 단 정수를 입력하지 않으면 '정수를 입력해 주세요'라고 출력 "
   ]
  },
  {
   "cell_type": "markdown",
   "metadata": {},
   "source": [
    "#### 4. 람다 함수를 이용해서 a의 b제곱에서 a x b를 더한 수를 구하는 식을 만들고 그 식을 이용해서  a, b가 아래와 같이 주어졌을 때 각각의 값을 구하세요. \n",
    "a = 2, b = 5 \\\n",
    "a= 5, b = 2"
   ]
  },
  {
   "cell_type": "markdown",
   "metadata": {},
   "source": [
    "#### 5. 10자리 정수를 입력한 후  콤마로 천단위를 구분하여 출력하세요."
   ]
  },
  {
   "cell_type": "markdown",
   "metadata": {},
   "source": [
    "#### 6. car_lists = [\"마티즈\", \"그랜저\", \"제네시스\"]를 파이썬 내장함수를 이용하여 아래와 같이 출력하세요. \n",
    "1번 차는 마티즈입니다.\\\n",
    "2번 차는 그랜저입니다.\\\n",
    "3번 차는 제네시스입니다."
   ]
  },
  {
   "cell_type": "markdown",
   "metadata": {},
   "source": [
    "#### 7. 100을 37로 나눈 몫과 나머지를 내장함수를 이용하여 구하세요.(튜플로 출력 필수) "
   ]
  },
  {
   "cell_type": "markdown",
   "metadata": {},
   "source": [
    "#### 8. list_number = list(np.arange(21,26))로 변수 선언하고 정수를 입력하면 그 정수 인덱스와 리스트에서 해당하는 값을 출력하는 프로그램을 작성하세요. 단, 모든 예외처리를 수행하며 특히 ValueError와 IndexError는 별도 구분해서 예외처리 한 후 '예외처리 완료'를 마지막으로 출력하세요.\n",
    "\n",
    "- 1 ~ 5 정수 입력 \\\n",
    "1~5 정수 입력> 5 \\\n",
    "5번째 요소: 25 \\\n",
    "예외 처리 완료\n",
    "\n",
    "- 문자 입력시 \\\n",
    "정수 입력> 가 \\\n",
    "정수를 입력해 주세요!\n",
    "예외 처리 완료\n",
    "\n",
    "- 6 입력시 \\\n",
    "정수 입력> 6 \\\n",
    "리스트의 인덱스를 벗어났어요!\n",
    "예외 처리 완료"
   ]
  },
  {
   "cell_type": "markdown",
   "metadata": {},
   "source": [
    "#### 9. 사용자로부터 서로 다른 실수 두 개를 입력받고 첫 번째 와 두 번째중 큰 실수를 구하는 프로그램을 수행하세요."
   ]
  },
  {
   "cell_type": "markdown",
   "metadata": {},
   "source": [
    "#### 10. 1부터 1000까지 아래와 같은 방식으로 2개의 수를  곱했을 때 가장 큰 수를 구하세요.\n",
    "\n",
    " (1 * 999),(2 * 998) ...(999 * 1)"
   ]
  },
  {
   "cell_type": "markdown",
   "metadata": {},
   "source": [
    "#### 11. 정규표현식을 사용하여 text에서 지역코드를 제외한 넘버만 출력하세요."
   ]
  },
  {
   "cell_type": "markdown",
   "metadata": {},
   "source": [
    "#### 12. 'abcdefghij' 에 대하여 중첩을 적용한 서브그룹 5개로 컴파일하여 group()함수를 이용하여 'bcdefgh'와 cdefg'를 출력하세요"
   ]
  },
  {
   "cell_type": "markdown",
   "metadata": {},
   "source": [
    "#### 13. [0, 1, 2, 3, 4, 5, 6, 7, 8, 9, 'a', 'b', 'c']에서 알파벳 문자만을 리스트로 출력하세요"
   ]
  },
  {
   "cell_type": "markdown",
   "metadata": {},
   "source": [
    "#### 14. 500 ~ 1000사이의 정수 중 5의 배수이거나  7의 배수인 수의 합을 구하세요"
   ]
  },
  {
   "cell_type": "markdown",
   "metadata": {},
   "source": [
    "#### 15. [    ]을 채워서 아래와 같이 출력하세요.\n",
    "[[3, 6, 9], [1, 4, 7], [2, 5, 8]]"
   ]
  },
  {
   "cell_type": "code",
   "execution_count": null,
   "metadata": {},
   "outputs": [],
   "source": [
    "numbers = [1,2,3,4,5,6,7,8,9]\n",
    "output = [[], [], []]\n",
    "\n",
    "for number in numbers:\n",
    "    output[     ].append(number)\n",
    "print(output)"
   ]
  },
  {
   "cell_type": "markdown",
   "metadata": {},
   "source": [
    "####  16. 반복문으로 팩토리얼을 구하는 사용자 함수를 작성하고 5!, 10!를 구하세요."
   ]
  },
  {
   "cell_type": "markdown",
   "metadata": {},
   "source": [
    "#### 17. 문자열 리스트 states를 정형화하여 아래와 같이 출력하세요(내장함수 및 정규표현식 사용)"
   ]
  },
  {
   "cell_type": "code",
   "execution_count": null,
   "metadata": {},
   "outputs": [],
   "source": [
    "states = ['   Alabama ', 'Georgia!', 'Georgia', 'georgia', 'FlOrIda',\n",
    "          'south   carolina##', 'West virginia?']\n",
    "[출력]\n",
    "['Alabama',\n",
    " 'Georgia',\n",
    " 'Georgia',\n",
    " 'Georgia',\n",
    " 'Florida',\n",
    " 'South   Carolina',\n",
    " 'West Virginia']"
   ]
  },
  {
   "cell_type": "markdown",
   "metadata": {},
   "source": [
    "####  18.게시물의 총 건수와 한 페이지에 보여 줄 게시물 수를 입력시 총 페이지 수를 출력하는 프로그램을 작성하세요. 단, 잘못 입력시 예외 처리 필수"
   ]
  },
  {
   "cell_type": "markdown",
   "metadata": {},
   "source": [
    "#### 19. 발표할 인원을 입력하면 랜덤으로 발표자를 리스트로 출력해주는 프로그램을 작성 후 다음을 수행하세요.(중복 허용하지 않음)\n",
    "- 발표자 1명\n",
    "- 발표자 5명\n",
    "- 발표자 28명 전원"
   ]
  },
  {
   "cell_type": "code",
   "execution_count": null,
   "metadata": {},
   "outputs": [],
   "source": [
    "name = ['고영남', '김광훈', '김동일', '김진', '박기범', '박민아', '박시우', \n",
    "        '배송이', '송유빈', '신인철','오수문','우동주','이민찬','이범준',\n",
    "        '이슬','이원진','이종현','임희진','정하림','조경림','조현정',\n",
    "        '진유훈','채승혜','최윤진','최한결','최혜정','하도원','안아름']"
   ]
  },
  {
   "cell_type": "markdown",
   "metadata": {},
   "source": [
    "#### 20. 네이버 통합검색 사이트에서 빅데이터를 입력한 후 관련 뉴스의 타이틀만 t선택하여 아래 포멧으로 출력하세요."
   ]
  },
  {
   "cell_type": "code",
   "execution_count": null,
   "metadata": {},
   "outputs": [],
   "source": [
    "1.'4년만에'…6개 보험사, 공공의료데이터 받는다(종합)\n",
    "2.부산시 금융 빅데이터 센터 구축 공모사업 선정\n",
    "3.\"중 의료 빅데이터업체 미 상장 보류…당국 규제강화 후 첫사례\"\n",
    "4.소비자원, 빅데이터로 소비자 분쟁 지원...中企 대응력 키운다\n",
    "5.KISA, 사이버보안 8억건 'AI 데이터셋' 구축 추진\n",
    "6.농식품 공공데이터 개방…가격·요리정보 활용 높아\n",
    "7.과학화훈련단 빅데이터 활용한 프로그램 만든다\n",
    "8.세종대, 하계방학 빅데이터 분석실무2급 프로그램 운영\n",
    "9.한국농수산식품유통공사, 범정부 빅데이터 플랫폼 연계 상담회 개최\n",
    "10.KISA, '사이버보안' AI 데이터셋 구축 착수"
   ]
  }
 ],
 "metadata": {
  "kernelspec": {
   "display_name": "Python 3",
   "language": "python",
   "name": "python3"
  },
  "language_info": {
   "codemirror_mode": {
    "name": "ipython",
    "version": 3
   },
   "file_extension": ".py",
   "mimetype": "text/x-python",
   "name": "python",
   "nbconvert_exporter": "python",
   "pygments_lexer": "ipython3",
   "version": "3.8.10"
  }
 },
 "nbformat": 4,
 "nbformat_minor": 2
}
