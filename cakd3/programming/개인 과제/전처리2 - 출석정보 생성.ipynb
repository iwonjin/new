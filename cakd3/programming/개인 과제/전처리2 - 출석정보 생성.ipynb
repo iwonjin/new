{
 "cells": [
  {
   "cell_type": "code",
   "execution_count": 2,
   "id": "e37f955d",
   "metadata": {},
   "outputs": [
    {
     "ename": "IndentationError",
     "evalue": "unindent does not match any outer indentation level (<tokenize>, line 46)",
     "output_type": "error",
     "traceback": [
      "\u001b[1;36m  File \u001b[1;32m\"<tokenize>\"\u001b[1;36m, line \u001b[1;32m46\u001b[0m\n\u001b[1;33m    def car_confirm(self):\u001b[0m\n\u001b[1;37m    ^\u001b[0m\n\u001b[1;31mIndentationError\u001b[0m\u001b[1;31m:\u001b[0m unindent does not match any outer indentation level\n"
     ]
    }
   ],
   "source": [
    "# gui 적용을 위해 tkinter공부중\n",
    "class ChurchManagement(): # 교회관리 프로그램,  ## 최상위 클래스\n",
    "    \n",
    "    def __init__(self):\n",
    "    \n",
    "        print (\" \") # 영상예배 주소\n",
    "        print(' ') # 공지사항\n",
    "    \n",
    "    def member_manage(self): # 멤버관리 시작\n",
    "        pass\n",
    "    \n",
    "    def car_mnage(self): # 차량관리 시작\n",
    "        pass\n",
    "    \n",
    "    def stock(self): # 비품관리 시작\n",
    "        pass\n",
    "    \n",
    "    \n",
    "##################################\n",
    "#==============================##\n",
    "#==============================##\n",
    "#==============================##\n",
    "##################################\n",
    "\n",
    "class MenberManagement(ChurchManagement()): # 멤버관리 클래스\n",
    "    \n",
    "    def look_information(self): # 성도가 데이터를 조회\n",
    "        pass\n",
    "    \n",
    "    def change_information(self): # 관리자가 데이터를 수정\n",
    "        pass\n",
    "    \n",
    "#################################################################\n",
    "\n",
    "class LookInfo(MenberManagement()): # 성도 데이터 조회관련 클래스\n",
    "    pass\n",
    "\n",
    "    \n",
    "class ChangeInfo(MenberManagement()): # 관리자 성도자료 수정 클래스\n",
    "    # 시작하면 파일을 불러옴\n",
    "    # 리스트에 저장\n",
    "     def __init__(self):\n",
    "            pass\n",
    "\n",
    "            #  차량인식  메소드\n",
    "    def car_confirm(self):\n",
    "        pass # cctv -> 번호판 이미지 인식,  성도 차량에  일치하는 값이 있으면, 성도차량 로그에 저장하고, 차단바 올리는 신호 발생\n",
    "\n",
    "    \n",
    "    # 새로운 성도 추가\n",
    "    def set_member(self):\n",
    "        pass\n",
    "    \n",
    "    # 기존 성도정보 조회 / 변경\n",
    "    def mod_member(self):\n",
    "        pass\n",
    "    \n",
    "    #성도 정보 삭제\n",
    "    def del_member(self):\n",
    "        pass\n",
    "    \n",
    "    \n",
    "##################################\n",
    "#==============================##\n",
    "#==============================##\n",
    "#==============================##\n",
    "##################################\n",
    "class CarManagement(ChurchManagement()): # 차량관리시스템 클래스\n",
    "    pass\n",
    "\n",
    "\n",
    "\n",
    "\n",
    "###################################\n",
    "#==============================##\n",
    "#==============================##\n",
    "#==============================##\n",
    "##################################\n",
    "\n",
    "class StockManagement(ChurchManagement()): #재고관리 시스템 클래스\n",
    "    \n",
    "    def look_stock(self): # 비품 정보 조회\n",
    "        pass\n",
    "        # 비품별\n",
    "        # 장소별\n",
    "\n",
    "    def choange_stock(self): # 비품 정보 변경\n",
    "        pass\n",
    "        \n",
    "##########################################################\n",
    "\n",
    "        \n",
    "        \n",
    "\n",
    "###################################\n",
    "#==============================##\n",
    "#==============================##\n",
    "#==============================##\n",
    "##################################"
   ]
  },
  {
   "cell_type": "code",
   "execution_count": null,
   "id": "8fce06a0",
   "metadata": {},
   "outputs": [],
   "source": [
    "# 인덱스, 성명, 직분, 가입일, 생년월일, 성별, 나이 \n",
    "# 일련번호, 몇주차, 예배구분, 성명, 헌금, 출석, "
   ]
  },
  {
   "cell_type": "code",
   "execution_count": 18,
   "id": "2172da5a",
   "metadata": {},
   "outputs": [],
   "source": [
    "from random import *\n",
    "warship = []\n",
    "for i in range(2400) :\n",
    "    y= str(randrange(2020,2022))\n",
    "    m= str(randrange(1,13))\n",
    "    d= str(randrange(1,28))\n",
    "    bone = [y,m,d]\n",
    "\n",
    "\n",
    "    warship.append( \"-\".join(bone) )"
   ]
  },
  {
   "cell_type": "code",
   "execution_count": 19,
   "id": "e03ce4fd",
   "metadata": {},
   "outputs": [
    {
     "data": {
      "text/plain": [
       "4"
      ]
     },
     "execution_count": 19,
     "metadata": {},
     "output_type": "execute_result"
    }
   ],
   "source": [
    "from datetime import datetime\n",
    "weekdaylist = ['월', '화', '수','목','금','토','일']\n",
    "\n",
    "datetime(int (warship[0].split('-')[0]),int (warship[0].split('-')[1]),int (warship[0].split('-')[2])).weekday()\n"
   ]
  },
  {
   "cell_type": "code",
   "execution_count": 20,
   "id": "6b003ebb",
   "metadata": {},
   "outputs": [],
   "source": [
    "wahtwarship = []\n",
    "warshiplist = ['새벽예배', '새벽예배', '수요예배', '새벽예배', '금요기도회','새벽예배', '주일예배']\n",
    "\n",
    "for i in range(2400) :\n",
    "    wahtwarship.append( warshiplist[ datetime(int (warship[i].split('-')[0]),int (warship[i].split('-')[1]),int (warship[i].split('-')[2])).weekday() ] )"
   ]
  },
  {
   "cell_type": "code",
   "execution_count": 1,
   "id": "8161e455",
   "metadata": {},
   "outputs": [
    {
     "output_type": "error",
     "ename": "NameError",
     "evalue": "name 'wahtwarship' is not defined",
     "traceback": [
      "\u001b[1;31m---------------------------------------------------------------------------\u001b[0m",
      "\u001b[1;31mNameError\u001b[0m                                 Traceback (most recent call last)",
      "\u001b[1;32m<ipython-input-1-fe416caf831d>\u001b[0m in \u001b[0;36m<module>\u001b[1;34m\u001b[0m\n\u001b[1;32m----> 1\u001b[1;33m \u001b[0mwahtwarship\u001b[0m\u001b[1;33m\u001b[0m\u001b[1;33m\u001b[0m\u001b[0m\n\u001b[0m",
      "\u001b[1;31mNameError\u001b[0m: name 'wahtwarship' is not defined"
     ]
    }
   ],
   "source": [
    "wahtwarship"
   ]
  },
  {
   "cell_type": "code",
   "execution_count": 3,
   "id": "ec5e4b8b",
   "metadata": {},
   "outputs": [
    {
     "output_type": "stream",
     "name": "stdout",
     "text": [
      "['장달', '송다운', '문힘찬', '사공믿음', '봉빛가람', '손한결', '윤우람', '표한결', '강버들', '최우람', '사공버들', '고달', '조힘찬', '홍버들', '손빛가람', '추나길', '류한결', '송달', '백샘', '하힘찬', '류잔디', '오비', '최하늬', '문여름', '풍나라빛', '문초롱', '남궁라움', '봉별찌', '김나비', '장민들레', '남노을', '황보샘나', '권라움', '배기쁨', '남궁고은', '고조은', '한비', '류다솜', '봉나무', '손이레', '황보하준', '고형빈', '남궁동빈', '문현욱', '설태훈', '표은재', '강동근', '심병철', '백기영', '하우빈', '황수호', '풍효빈', '백원웅', '예하은', '조병일', '복민경', '양진기', '조윤재', '박영아', '봉현진', '강호', '남혁', '양철', '강혁', '임호', '제갈혁', '권혁', '임호', '안광', '강웅', '홍광', '안웅', '정훈', '남호', '봉철', '황훈', '오광', '성혁', '안광', '권호', '고성', '백재', '풍란', '류란', '탁진', '하성', '봉재', '성리', '봉린', '최은', '류현', '신상', '서상', '황보진', '유지', '윤재', '풍성', '예지', '강재', '황설', '사공세환', '심연지', '권지호', '이인혜', '하윤아', '남궁용식', '류선혜', '백성수', '이세진', '오윤지', '사공서정', '임민우', '안현철', '정용석', '양광민', '정천희', '정원준', '유진희', '조정수', '조선민', '배힘찬', '홍힘찬', '신한길', '노힘찬', '배달', '제갈우람', '정한길', '김버들', '남믿음', '봉빛가람', '탁빛가람', '장미르', '윤믿음', '유우람', '사공한결', '심한결', '사공샘', '표샘', '노미르', '조다운', '이라온', '전샘나', '정새벽', '조한별', '추잔디', '서바다', '손아라', '손아리', '서이슬', '안사랑', '류나리', '유라온', '하자람', '양잔디', '홍샛별', '노송이', '황보누리', '윤나라빛', '장노을', '봉초롱', '송호', '성혁', '임광', '표훈', '심훈', '표웅', '봉호', '추혁', '송호', '박철', '하호', '허훈', '심건', '권혁', '김철', '윤호', '유호', '추호', '손웅', '한훈', '고설', '심지', '심진', '조설', '설린', '송현', '노란', '임설', '복재', '윤설', '탁은', '하지', '김현', '임은', '남재', '안은', '임은', '양란', '표진', '문성', '탁광조', '문승헌', '김현승', '송철순', '사공이수', '고동건', '송치원', '심병헌', '예덕수', '노병헌', '한경택', '풍병헌', '추재범', '유현승', '강병헌', '권현승', '권무열', '예동건', '추성한', '양동건', '양재인', '류영애', '복여진', '문혜린', '오남순', '제갈재인', '봉재규', '송애정', '최장미', '하애정', '임혜린', '류민서', '정민서', '성미란', '류나영', '안이경', '정유리', '홍혜림', '정숙자', '허경완'] 240\n"
     ]
    }
   ],
   "source": [
    "with open ( '이름.txt', 'r',encoding='utf-8'  ) as f :\n",
    "    temp = f.read()\n",
    "    f.close\n",
    "    temp = temp.replace(\" \",\"\").replace(\"\\n\",\"\").split(',')\n",
    "    print(temp, len(temp))"
   ]
  },
  {
   "cell_type": "code",
   "execution_count": null,
   "metadata": {},
   "outputs": [],
   "source": []
  },
  {
   "cell_type": "code",
   "execution_count": 33,
   "id": "8b38eaa6",
   "metadata": {},
   "outputs": [],
   "source": [
    "from random import *\n",
    "name = []\n",
    "for i in range(2400) :\n",
    "    y= randrange(len(temp))\n",
    "    name.append( temp[y] )\n",
    "    \n"
   ]
  },
  {
   "cell_type": "code",
   "execution_count": 25,
   "id": "4c023f1d",
   "metadata": {},
   "outputs": [],
   "source": [
    "from random import *\n",
    "money = []\n",
    "for i in range(2400) :\n",
    "    \n",
    "    money.append( randrange(1000,100001,1000) )"
   ]
  },
  {
   "cell_type": "code",
   "execution_count": 28,
   "id": "7559fd84",
   "metadata": {},
   "outputs": [],
   "source": [
    "attend = []\n",
    "for i in range(2400) :\n",
    "    if randrange(7) == 0:\n",
    "        attend.append( False )\n",
    "    else: \n",
    "        attend.append( True )\n",
    "        \n",
    "        \n"
   ]
  },
  {
   "cell_type": "code",
   "execution_count": 29,
   "id": "a66a3b03",
   "metadata": {},
   "outputs": [
    {
     "name": "stdout",
     "output_type": "stream",
     "text": [
      "1,2020-2-13,새벽예배,안현철,79000,True\n",
      "\n"
     ]
    }
   ],
   "source": [
    "# 일련번호, 몇주차, 예배구분, 성명, 헌금, 출석,\n",
    "i = 1\n",
    "print(\"{},{},{},{},{},{}\\n\".format(i, warship[i], wahtwarship[i], name[i], money[i], attend[i] ))\n"
   ]
  },
  {
   "cell_type": "code",
   "execution_count": 38,
   "id": "8658652f",
   "metadata": {},
   "outputs": [],
   "source": [
    "with open ( '출석정보.csv', 'w' ) as f :\n",
    "#    f.write(\"인덱스\\t성명\\t직분\\t등록일\\t생년월일\\t성별\\t나이\")\n",
    "# 일련번호, 몇주차, 예배구분, 성명, 헌금, 출석,\n",
    "    f.write(\"일련번호,예배날짜,예배구분,성명,헌금,출석\\n\")\n",
    "    for i in range(2400) :\n",
    "        f.write(\"{},{},{},{},{},{}\\n\".format(i, warship[i], wahtwarship[i], name[i], money[i], attend[i]   ))"
   ]
  }
 ],
 "metadata": {
  "kernelspec": {
   "name": "python3",
   "display_name": "Python 3.8.8 64-bit ('base': conda)"
  },
  "language_info": {
   "codemirror_mode": {
    "name": "ipython",
    "version": 3
   },
   "file_extension": ".py",
   "mimetype": "text/x-python",
   "name": "python",
   "nbconvert_exporter": "python",
   "pygments_lexer": "ipython3",
   "version": "3.8.8"
  },
  "interpreter": {
   "hash": "cef9e06bb236b2a8629b07e87a04b187b952a0f661eff5533360a155783f0c33"
  }
 },
 "nbformat": 4,
 "nbformat_minor": 5
}