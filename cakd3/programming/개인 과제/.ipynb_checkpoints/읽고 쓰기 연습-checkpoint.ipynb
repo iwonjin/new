{
 "cells": [
  {
   "cell_type": "code",
   "execution_count": 2,
   "id": "e37f955d",
   "metadata": {},
   "outputs": [
    {
     "ename": "IndentationError",
     "evalue": "unindent does not match any outer indentation level (<tokenize>, line 46)",
     "output_type": "error",
     "traceback": [
      "\u001b[1;36m  File \u001b[1;32m\"<tokenize>\"\u001b[1;36m, line \u001b[1;32m46\u001b[0m\n\u001b[1;33m    def car_confirm(self):\u001b[0m\n\u001b[1;37m    ^\u001b[0m\n\u001b[1;31mIndentationError\u001b[0m\u001b[1;31m:\u001b[0m unindent does not match any outer indentation level\n"
     ]
    }
   ],
   "source": [
    "# gui 적용을 위해 tkinter공부중\n",
    "class ChurchManagement(): # 교회관리 프로그램,  ## 최상위 클래스\n",
    "    \n",
    "    def __init__(self):\n",
    "    \n",
    "        print (\" \") # 영상예배 주소\n",
    "        print(' ') # 공지사항\n",
    "    \n",
    "    def member_manage(self): # 멤버관리 시작\n",
    "        pass\n",
    "    \n",
    "    def car_mnage(self): # 차량관리 시작\n",
    "        pass\n",
    "    \n",
    "    def stock(self): # 비품관리 시작\n",
    "        pass\n",
    "    \n",
    "    \n",
    "##################################\n",
    "#==============================##\n",
    "#==============================##\n",
    "#==============================##\n",
    "##################################\n",
    "\n",
    "class MenberManagement(ChurchManagement()): # 멤버관리 클래스\n",
    "    \n",
    "    def look_information(self): # 성도가 데이터를 조회\n",
    "        pass\n",
    "    \n",
    "    def change_information(self): # 관리자가 데이터를 수정\n",
    "        pass\n",
    "    \n",
    "#################################################################\n",
    "\n",
    "class LookInfo(MenberManagement()): # 성도 데이터 조회관련 클래스\n",
    "    pass\n",
    "\n",
    "    \n",
    "class ChangeInfo(MenberManagement()): # 관리자 성도자료 수정 클래스\n",
    "    # 시작하면 파일을 불러옴\n",
    "    # 리스트에 저장\n",
    "     def __init__(self):\n",
    "            pass\n",
    "\n",
    "            #  차량인식  메소드\n",
    "    def car_confirm(self):\n",
    "        pass # cctv -> 번호판 이미지 인식,  성도 차량에  일치하는 값이 있으면, 성도차량 로그에 저장하고, 차단바 올리는 신호 발생\n",
    "\n",
    "    \n",
    "    # 새로운 성도 추가\n",
    "    def set_member(self):\n",
    "        pass\n",
    "    \n",
    "    # 기존 성도정보 조회 / 변경\n",
    "    def mod_member(self):\n",
    "        pass\n",
    "    \n",
    "    #성도 정보 삭제\n",
    "    def del_member(self):\n",
    "        pass\n",
    "    \n",
    "    \n",
    "##################################\n",
    "#==============================##\n",
    "#==============================##\n",
    "#==============================##\n",
    "##################################\n",
    "class CarManagement(ChurchManagement()): # 차량관리시스템 클래스\n",
    "    pass\n",
    "\n",
    "\n",
    "\n",
    "\n",
    "###################################\n",
    "#==============================##\n",
    "#==============================##\n",
    "#==============================##\n",
    "##################################\n",
    "\n",
    "class StockManagement(ChurchManagement()): #재고관리 시스템 클래스\n",
    "    \n",
    "    def look_stock(self): # 비품 정보 조회\n",
    "        pass\n",
    "        # 비품별\n",
    "        # 장소별\n",
    "\n",
    "    def choange_stock(self): # 비품 정보 변경\n",
    "        pass\n",
    "        \n",
    "##########################################################\n",
    "\n",
    "        \n",
    "        \n",
    "\n",
    "###################################\n",
    "#==============================##\n",
    "#==============================##\n",
    "#==============================##\n",
    "##################################"
   ]
  },
  {
   "cell_type": "code",
   "execution_count": 55,
   "id": "bbcd8846",
   "metadata": {},
   "outputs": [],
   "source": [
    "# 인덱스, 성명, 직분, 가입일, 생년월일, 성별, 나이 \n",
    "# 일련번호, 몇주차,  성명, 헌금, 출석, "
   ]
  },
  {
   "cell_type": "code",
   "execution_count": 2,
   "id": "e673a121",
   "metadata": {},
   "outputs": [],
   "source": [
    "with open ( '성도정보.txt', 'a+' ) as f :\n",
    "    f.write(\"인덱스\\t성명\\t직분\\t등록일\\t생년월일\\t성별\\t나이\")"
   ]
  },
  {
   "cell_type": "code",
   "execution_count": 1,
   "id": "091ae0a1",
   "metadata": {},
   "outputs": [
    {
     "name": "stdout",
     "output_type": "stream",
     "text": [
      "\n"
     ]
    }
   ],
   "source": [
    "\n",
    "with open ( '성도정보.txt', 'a+' ) as f :\n",
    "    temp = f.readline()\n",
    "    print(temp)\n",
    "\n",
    "    f.close()"
   ]
  },
  {
   "cell_type": "code",
   "execution_count": 3,
   "id": "8f226dfb",
   "metadata": {},
   "outputs": [],
   "source": [
    "import pandas as pd\n",
    "import numpy as np\n",
    "import matplotlib.pyplot as plt"
   ]
  },
  {
   "cell_type": "code",
   "execution_count": null,
   "id": "8fce06a0",
   "metadata": {},
   "outputs": [],
   "source": [
    "df2 = pd.DataFrame({'성명': 1.,\n",
    "                    '직분': pd.Timestamp('20130102'),\n",
    "                    '등록일': pd.Series(1, index=list(range(4)), dtype='float32'),\n",
    "                    '생년월일': np.array([3]*4, dtype='int32'),\n",
    "                    '성별': pd.Categorical(['test', 'train', 'test', 'train']),\n",
    "                    '나이': 'foo'})\n",
    "\n"
   ]
  },
  {
   "cell_type": "code",
   "execution_count": null,
   "id": "2172da5a",
   "metadata": {},
   "outputs": [],
   "source": []
  },
  {
   "cell_type": "code",
   "execution_count": null,
   "id": "e03ce4fd",
   "metadata": {},
   "outputs": [],
   "source": []
  },
  {
   "cell_type": "code",
   "execution_count": null,
   "id": "6b003ebb",
   "metadata": {},
   "outputs": [],
   "source": []
  }
 ],
 "metadata": {
  "kernelspec": {
   "display_name": "Python 3",
   "language": "python",
   "name": "python3"
  },
  "language_info": {
   "codemirror_mode": {
    "name": "ipython",
    "version": 3
   },
   "file_extension": ".py",
   "mimetype": "text/x-python",
   "name": "python",
   "nbconvert_exporter": "python",
   "pygments_lexer": "ipython3",
   "version": "3.8.8"
  }
 },
 "nbformat": 4,
 "nbformat_minor": 5
}
