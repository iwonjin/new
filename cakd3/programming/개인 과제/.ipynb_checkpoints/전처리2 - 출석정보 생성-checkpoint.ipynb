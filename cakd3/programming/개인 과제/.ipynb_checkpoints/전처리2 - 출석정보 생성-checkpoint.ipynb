{
 "cells": [
  {
   "cell_type": "code",
   "execution_count": 2,
   "id": "e37f955d",
   "metadata": {},
   "outputs": [
    {
     "ename": "IndentationError",
     "evalue": "unindent does not match any outer indentation level (<tokenize>, line 46)",
     "output_type": "error",
     "traceback": [
      "\u001b[1;36m  File \u001b[1;32m\"<tokenize>\"\u001b[1;36m, line \u001b[1;32m46\u001b[0m\n\u001b[1;33m    def car_confirm(self):\u001b[0m\n\u001b[1;37m    ^\u001b[0m\n\u001b[1;31mIndentationError\u001b[0m\u001b[1;31m:\u001b[0m unindent does not match any outer indentation level\n"
     ]
    }
   ],
   "source": [
    "# gui 적용을 위해 tkinter공부중\n",
    "class ChurchManagement(): # 교회관리 프로그램,  ## 최상위 클래스\n",
    "    \n",
    "    def __init__(self):\n",
    "    \n",
    "        print (\" \") # 영상예배 주소\n",
    "        print(' ') # 공지사항\n",
    "    \n",
    "    def member_manage(self): # 멤버관리 시작\n",
    "        pass\n",
    "    \n",
    "    def car_mnage(self): # 차량관리 시작\n",
    "        pass\n",
    "    \n",
    "    def stock(self): # 비품관리 시작\n",
    "        pass\n",
    "    \n",
    "    \n",
    "##################################\n",
    "#==============================##\n",
    "#==============================##\n",
    "#==============================##\n",
    "##################################\n",
    "\n",
    "class MenberManagement(ChurchManagement()): # 멤버관리 클래스\n",
    "    \n",
    "    def look_information(self): # 성도가 데이터를 조회\n",
    "        pass\n",
    "    \n",
    "    def change_information(self): # 관리자가 데이터를 수정\n",
    "        pass\n",
    "    \n",
    "#################################################################\n",
    "\n",
    "class LookInfo(MenberManagement()): # 성도 데이터 조회관련 클래스\n",
    "    pass\n",
    "\n",
    "    \n",
    "class ChangeInfo(MenberManagement()): # 관리자 성도자료 수정 클래스\n",
    "    # 시작하면 파일을 불러옴\n",
    "    # 리스트에 저장\n",
    "     def __init__(self):\n",
    "            pass\n",
    "\n",
    "            #  차량인식  메소드\n",
    "    def car_confirm(self):\n",
    "        pass # cctv -> 번호판 이미지 인식,  성도 차량에  일치하는 값이 있으면, 성도차량 로그에 저장하고, 차단바 올리는 신호 발생\n",
    "\n",
    "    \n",
    "    # 새로운 성도 추가\n",
    "    def set_member(self):\n",
    "        pass\n",
    "    \n",
    "    # 기존 성도정보 조회 / 변경\n",
    "    def mod_member(self):\n",
    "        pass\n",
    "    \n",
    "    #성도 정보 삭제\n",
    "    def del_member(self):\n",
    "        pass\n",
    "    \n",
    "    \n",
    "##################################\n",
    "#==============================##\n",
    "#==============================##\n",
    "#==============================##\n",
    "##################################\n",
    "class CarManagement(ChurchManagement()): # 차량관리시스템 클래스\n",
    "    pass\n",
    "\n",
    "\n",
    "\n",
    "\n",
    "###################################\n",
    "#==============================##\n",
    "#==============================##\n",
    "#==============================##\n",
    "##################################\n",
    "\n",
    "class StockManagement(ChurchManagement()): #재고관리 시스템 클래스\n",
    "    \n",
    "    def look_stock(self): # 비품 정보 조회\n",
    "        pass\n",
    "        # 비품별\n",
    "        # 장소별\n",
    "\n",
    "    def choange_stock(self): # 비품 정보 변경\n",
    "        pass\n",
    "        \n",
    "##########################################################\n",
    "\n",
    "        \n",
    "        \n",
    "\n",
    "###################################\n",
    "#==============================##\n",
    "#==============================##\n",
    "#==============================##\n",updateViewedDate=false&alt=json&enforceSingleParent=true
2021-07-21 18:37:39,026 +0900 INFO pid=12760 10252:Worker-0        http.py:288 Request user-agent: googledrivesync-3.56.3802.7766 (64-bit) google-api-python-client/1.7.12 (gzip) (Windows/10.0 [64-bit])
2021-07-21 18:37:39,160 +0900 INFO pid=12760 12468:Worker-1        http.py:308 Response: 347 bytes - application/json; charset=UTF-8 (encoding:gzip)
2021-07-21 18:37:39,161 +0900 INFO pid=12760 12468:Worker-1        drive_request.py:321 Drive response:
Request (qwqqr7@gmail.com):
InsertFolder(tags=Reason.CREATE_FOLDER(SyncType.UNKNOWN_SYNC_TYPE), name=u'b7', modified=1626860144, parent_id='1EhSpbpe0UvKuYrAu8QQWZIBSCHwxzOWn', doc_id=u'13MGi8VWn0tC3stIlAwot9aI6Z0-iZNlW')
Response:
Folder(modified=1626860144.0, trashed=False, acl_role=<AclRole.OWNER: 0>, reader_download_restricted=False, version=1L, shared=False, file_extension='', removed_parent_ids=frozenset([]), doc_id=u'13MGi8VWn0tC3stIlAwot9aI6Z0-iZNlW', parent_doc_ids=frozenset([u'1EhSpbpe0UvKuYrAu8QQWZIBSCHwxzOWn']), title=u'b7')
2021-07-21 18:37:39,161 +0900 INFO pid=12760 12468:Worker-1        uploads.py:885 setting shared icon on \\?\C:\workspace\녹화\cakd3\.git\objects\b7
2021-07-21 18:37:39,163 +0900 INFO pid=12760 12468:Worker-1        snapshot_sqlite.py:660 Removing pre_mapping local_id=LocalID(inode=844424930197102L, volume='serial:3188545052')
2021-07-21 18:37:39,163 +0900 INFO pid=12760 12468:Worker-1        snapshot_sqlite.py:111 Adding local entry local_id=LocalID(inode=844424930197102L, volume='serial:3188545052'), filename=None
2021-07-21 18:37:39,164 +0900 INFO pid=12760 12468:Worker-1        snapshot_sqlite.py:157 Adding cloud entry doc_id=13MGi8VWn0tC3stIlAwot9aI6Z0-iZNlW, filename=None
2021-07-21 18:37:39,164 +0900 INFO pid=12760 12468:Worker-1        snapshot_sqlite.py:248 Updating cloud entry doc_id=13MGi8VWn0tC3stIlAwot9aI6Z0-iZNlW, filename=b7
2021-07-21 18:37:39,164 +0900 INFO pid=12760 12468:Worker-1        snapshot_sqlite.py:221 Updating local entry local_id=LocalID(inode=844424930197102L, volume='serial:3188545052'), filename=b7, is_folder=True
2021-07-21 18:37:39,164 +0900 INFO pid=12760 12468:Worker-1        snapshot_sqlite.py:585 Adding local relation child_local_id=LocalID(inode=844424930197102L, volume='serial:3188545052'), parent_local_id=LocalID(inode=1125899906889119L, volume='serial:3188545052')
2021-07-21 18:37:39,164 +0900 INFO pid=12760 12468:Worker-1        snapshot_sqlite.py:533 Adding cloud relation child_doc_id=13MGi8VWn0tC3stIlAwot9aI6Z0-iZNlW, parent_doc_id=1EhSpbpe0UvKuYrAu8QQWZIBSCHwxzOWn
2021-07-21 18:37:39,165 +0900 INFO pid=12760 12468:Worker-1        snapshot_sqlite.py:613 Adding Mapping local_id=LocalID(inode=844424930197102L, volume='serial:3188545052'), doc_id=13MGi8VWn0tC3stIlAwot9aI6Z0-iZNlW
2021-07-21 18:37:39,171 +0900 INFO pid=12760 12468:Worker-1        workers.py:206 Worker successfully completed [FSChange(Direction.UPLOAD, Action.CREATE, local_id=LocalID(inode=844424930197102L, volume='serial:3188545052'), path=u'\\\\?\\C:\\workspace\\\ub179\ud654\\cakd3\\.git\\objects', name=u'b7', parent_local_id=LocalID(inode=1125899906889119L, volume='serial:3188545052'), is_folder=True, modified=1626860144, generator_module=Generator.LOCAL_EVENT_GENERATOR, shared=False, hash=-312295988, row_id=2071)]
2021-07-21 18:37:39,390 +0900 INFO pid=12760 12460:Worker-2        workers.py:192 Worker starting on [FSChange(Direction.UPLOAD, Action.CREATE, local_id=LocalID(inode=844424930197084L, volume='serial:3188545052'), path=u'\\\\?\\C:\\workspace\\\ub179\ud654\\cakd3\\.git\\objects', name=u'b1', parent_local_id=LocalID(inode=1125899906889119L, volume='serial:3188545052'), is_folder=True, modified=1626860144, generator_module=Generator.LOCAL_EVENT_GENERATOR, shared=False, hash=897875040, row_id=2078)]
2021-07-21 18:37:39,391 +0900 INFO pid=12760 12460:Worker-2        doc_id_provider.py:126 Returning doc ID '18B1iGc--UAKwkvOU8dum4FIgQsWmjB_Y'. 1240 IDs left in store.
2021-07-21 18:37:39,392 +0900 INFO pid=12760 12460:Worker-2        snapshot_sqlite.py:647 Adding pre_mapping local_id=LocalID(inode=844424930197084L, volume='serial:3188545052'), doc_id=18B1iGc--UAKwkvOU8dum4FIgQsWmjB_Y
2021-07-21 18:37:39,394 +0900 INFO pid=12760 12460:Worker-2        drive_request.py:314 Drive request: InsertFolder(tags=Reason.CREATE_FOLDER(SyncType.UNKNOWN_SYNC_TYPE), name=u'b1', modified=1626860144, parent_id='1EhSpbpe0UvKuYrAu8QQWZIBSCHwxzOWn', doc_id=u'18B1iGc--UAKwkvOU8dum4FIgQsWmjB_Y') - Write request - qwqqr7@gmail.com
2021-07-21 18:37:39,447 +0900 INFO pid=12760 12460:Worker-2        discovery.py:904 URL being requested: POST https://www.googleapis.com/drive/v2internal/files?fields=title%2Cparents%2Fid%2CmimeType%2CmodifiedDate%2Clabels%2Frestricted%2CuserPermission%2Frole%2Cversion%2Cshared%2CfullFileExtension%2CshortcutDetails%2CremovedParents%2Fid%2Cid&reason=204&updateViewedDate=false&alt=json&enforceSingleParent=true
2021-07-21 18:37:39,448 +0900 INFO pid=12760 12460:Worker-2        http.py:288 Request user-agent: googledrivesync-3.56.3802.7766 (64-bit) google-api-python-client/1.7.12 (gzip) (Windows/10.0 [64-bit])
2021-07-21 18:37:39,621 +0900 INFO pid=12760 10252:Worker-0        http.py:308 Response: 347 bytes - application/json; charset=UTF-8 (encoding:gzip)
2021-07-21 18:37:39,622 +0900 INFO pid=12760 10252:Worker-0        drive_request.py:321 Drive response:
Request (qwqqr7@gmail.com):
InsertFolder(tags=Reason.CREATE_FOLDER(SyncType.UNKNOWN_SYNC_TYPE), name=u'b0', modified=1626860144, parent_id='1EhSpbpe0UvKuYrAu8QQWZIBSCHwxzOWn', doc_id=u'1Q9MHPvyVyXleLZxCNg-UqcCZnKyYTuX7')
Response:
Folder(modified=1626860144.0, trashed=False, acl_role=<AclRole.OWNER: 0>, reader_download_restricted=False, version=1L, shared=False, file_extension='', removed_parent_ids=frozenset([]), doc_id=u'1Q9MHPvyVyXleLZxCNg-UqcCZnKyYTuX7', parent_doc_ids=frozenset([u'1EhSpbpe0UvKuYrAu8QQWZIBSCHwxzOWn']), title=u'b0')
2021-07-21 18:37:39,622 +0900 INFO pid=12760 10252:Worker-0        uploads.py:885 setting shared icon on \\?\C:\workspace\녹화\cakd3\.git\objects\b0
2021-07-21 18:37:39,625 +0900 INFO pid=12760 10252:Worker-0        snapshot_sqlite.py:660 Removing pre_mapping local_id=LocalID(inode=1407374883618394L, volume='serial:3188545052')
2021-07-21 18:37:39,625 +0900 INFO pid=12760 10252:Worker-0        snapshot_sqlite.py:111 Adding local entry local_id=LocalID(inode=1407374883618394L, volume='serial:3188545052'), filename=None
2021-07-21 18:37:39,625 +0900 INFO pid=12760 10252:Worker-0        snapshot_sqlite.py:157 Adding cloud entry doc_id=1Q9MHPvyVyXleLZxCNg-UqcCZnKyYTuX7, filename=None
2021-07-21 18:37:39,625 +0900 INFO pid=12760 10252:Worker-0        snapshot_sqlite.py:248 Updating cloud entry doc_id=1Q9MHPvyVyXleLZxCNg-UqcCZnKyYTuX7, filename=b0
2021-07-21 18:37:39,627 +0900 INFO pid=12760 10252:Worker-0        snapshot_sqlite.py:221 Updating local entry local_id=LocalID(inode=1407374883618394L, volume='serial:3188545052'), filename=b0, is_folder=True
2021-07-21 18:37:39,627 +0900 INFO pid=12760 10252:Worker-0        snapshot_sqlite.py:585 Adding local relation child_local_id=LocalID(inode=1407374883618394L, volume='serial:3188545052'), parent_local_id=LocalID(inode=1125899906889119L, volume='serial:3188545052')
2021-07-21 18:37:39,627 +0900 INFO pid=12760 10252:Worker-0        snapshot_sqlite.py:533 Adding cloud relation child_doc_id=1Q9MHPvyVyXleLZxCNg-UqcCZnKyYTuX7, parent_doc_id=1EhSpbpe0UvKuYrAu8QQWZIBSCHwxzOWn
2021-07-21 18:37:39,628 +0900 INFO pid=12760 10252:Worker-0        snapshot_sqlite.py:613 Adding Mapping local_id=LocalID(inode=1407374883618394L, volume='serial:3188545052'), doc_id=1Q9MHPvyVyXleLZxCNg-UqcCZnKyYTuX7
2021-07-21 18:37:39,638 +0900 INFO pid=12760 10252:Worker-0        workers.py:206 Worker successfully completed [FSChange(Direction.UPLOAD, Action.CREATE, local_id=LocalID(inode=1407374883618394L, volume='serial:3188545052'), path=u'\\\\?\\C:\\workspace\\\ub179\ud654\\cakd3\\.git\\objects', name=u'b0', parent_local_id=LocalID(inode=1125899906889119L, volume='serial:3188545052'), is_folder=True, modified=1626860144, generator_module=Generator.LOCAL_EVENT_GENERATOR, shared=False, hash=1619831841, row_id=2076)]
2021-07-21 18:37:39,835 +0900 INFO pid=12760 12468:Worker-1        change_buffer_entry.py:202 Removing entry from change buffer: ChangeBufferEntry(state=IN_PROGRESS, fschange=FSChange(Direction.UPLOAD, Action.CREATE, local_id=LocalID(inode=844424930197102L, volume='serial:3188545052'), path=u'\\\\?\\C:\\workspace\\\ub179\ud654\\cakd3\\.git\\objects', name=u'b7', parent_local_id=LocalID(inode=1125899906889119L, volume='serial:3188545052'), is_folder=True, modified=1626860144, generator_module=Generator.LOCAL_EVENT_GENERATOR, shared=False, row_id=2071), time=190559.14, row_id=1884)
2021-07-21 18:37:39,871 +0900 INFO pid=12760 10252:Worker-0        change_buffer_entry.py:202 Removing entry from change buffer: ChangeBufferEntry(state=IN_PROGRESS, fschange=FSChange(Direction.UPLOAD, Action.CREATE, local_id=LocalID(inode=1407374883618394L, volume='serial:3188545052'), path=u'\\\\?\\C:\\workspace\\\ub179\ud654\\cakd3\\.git\\objects', name=u'b0', parent_local_id=LocalID(inode=1125899906889119L, volume='serial:3188545052'), is_folder=True, modified=1626860144, generator_module=Generator.LOCAL_EVENT_GENERATOR, shared=False, row_id=2076), time=190559.406, row_id=1889)
2021-07-21 18:37:40,098 +0900 INFO pid=12760 12460:Worker-2        http.py:308 Response: 347 bytes - application/json; charset=UTF-8 (encoding:gzip)
2021-07-21 18:37:40,099 +0900 INFO pid=12760 12460:Worker-2        drive_request.py:321 Drive response:
Request (qwqqr7@gmail.com):
InsertFolder(tags=Reason.CREATE_FOLDER(SyncType.UNKNOWN_SYNC_TYPE), name=u'b1', modified=1626860144, parent_id='1EhSpbpe0UvKuYrAu8QQWZIBSCHwxzOWn', doc_id=u'18B1iGc--UAKwkvOU8dum4FIgQsWmjB_Y')
Response:
Folder(modified=1626860144.0, trashed=False, acl_role=<AclRole.OWNER: 0>, reader_download_restricted=False, version=1L, shared=False, file_extension='', removed_parent_ids=frozenset([]), doc_id=u'18B1iGc--UAKwkvOU8dum4FIgQsWmjB_Y', parent_doc_ids=frozenset([u'1EhSpbpe0UvKuYrAu8QQWZIBSCHwxzOWn']), title=u'b1')
2021-07-21 18:37:40,099 +0900 INFO pid=12760 12460:Worker-2        uploads.py:885 setting shared icon on \\?\C:\workspace\녹화\cakd3\.git\objects\b1
2021-07-21 18:37:40,101 +0900 INFO pid=12760 12460:Worker-2        snapshot_sqlite.py:660 Removing pre_mapping local_id=LocalID(inode=844424930197084L, volume='serial:3188545052')
2021-07-21 18:37:40,101 +0900 INFO pid=12760 12460:Worker-2        snapshot_sqlite.py:111 Adding local entry local_id=LocalID(inode=844424930197084L, volume='serial:3188545052'), filename=None
2021-07-21 18:37:40,101 +0900 INFO pid=12760 12460:Worker-2        snapshot_sqlite.py:157 Adding cloud entry doc_id=18B1iGc--UAKwkvOU8dum4FIgQsWmjB_Y, filename=None
2021-07-21 18:37:40,102 +0900 INFO pid=12760 12460:Worker-2        snapshot_sqlite.py:248 Updating cloud entry doc_id=18B1iGc--UAKwkvOU8dum4FIgQsWmjB_Y, filename=b1
2021-07-21 18:37:40,102 +0900 INFO pid=12760 12460:Worker-2        snapshot_sqlite.py:221 Updating local entry local_id=LocalID(inode=844424930197084L, volume='serial:3188545052'), filename=b1, is_folder=True
2021-07-21 18:37:40,104 +0900 INFO pid=12760 12460:Worker-2        snapshot_sqlite.py:585 Adding local relation child_local_id=LocalID(inode=844424930197084L, volume='serial:3188545052'), parent_local_id=LocalID(inode=1125899906889119L, volume='serial:3188545052')
2021-07-21 18:37:40,104 +0900 INFO pid=12760 12460:Worker-2        snapshot_sqlite.py:533 Adding cloud relation child_doc_id=18B1iGc--UAKwkvOU8dum4FIgQsWmjB_Y, parent_doc_id=1EhSpbpe0UvKuYrAu8QQWZIBSCHwxzOWn
2021-07-21 18:37:40,104 +0900 INFO pid=12760 12460:Worker-2        snapshot_sqlite.py:613 Adding Mapping local_id=LocalID(inode=844424930197084L, volume='serial:3188545052'), doc_id=18B1iGc--UAKwkvOU8dum4FIgQsWmjB_Y
2021-07-21 18:37:40,111 +0900 INFO pid=12760 12460:Worker-2        workers.py:206 Worker successfully completed [FSChange(Direction.UPLOAD, Action.CREATE, local_id=LocalID(inode=844424930197084L, volume='serial:3188545052'), path=u'\\\\?\\C:\\workspace\\\ub179\ud654\\cakd3\\.git\\objects', name=u'b1', parent_local_id=LocalID(inode=1125899906889119L, volume='serial:3188545052'), is_folder=True, modified=1626860144, generator_module=Generator.LOCAL_EVENT_GENERATOR, shared=False, hash=897875040, row_id=2078)]
2021-07-21 18:37:40,260 +0900 INFO pid=12760 12468:Worker-1        workers.py:192 Worker starting on [FSChange(Direction.UPLOAD, Action.CREATE, local_id=LocalID(inode=844424930197087L, volume='serial:3188545052'), path=u'\\\\?\\C:\\workspace\\\ub179\ud654\\cakd3\\.git\\objects', name=u'b2', parent_local_id=LocalID(inode=1125899906889119L, volume='serial:3188545052'), is_folder=True, modified=1626860144, generator_module=Generator.LOCAL_EVENT_GENERATOR, shared=False, hash=-917957780, row_id=2081)]
2021-07-21 18:37:40,263 +0900 INFO pid=12760 12468:Worker-1        doc_id_provider.py:126 Returning doc ID '135XP5nDw0yDc2SzF1Ia7KR8Ir6ZoaPkz'. 1239 IDs left in store.
2021-07-21 18:37:40,263 +0900 INFO pid=12760 12468:Worker-1        snapshot_sqlite.py:647 Adding pre_mapping local_id=LocalID(inode=844424930197087L, volume='serial:3188545052'), doc_id=135XP5nDw0yDc2SzF1Ia7KR8Ir6ZoaPkz
2021-07-21 18:37:40,265 +0900 INFO pid=12760 12468:Worker-1        drive_request.py:314 Drive request: InsertFolder(tags=Reason.CREATE_FOLDER(SyncType.UNKNOWN_SYNC_TYPE), name=u'b2', modified=1626860144, parent_id='1EhSpbpe0UvKuYrAu8QQWZIBSCHwxzOWn', doc_id=u'135XP5nDw0yDc2SzF1Ia7KR8Ir6ZoaPkz') - Write request - qwqqr7@gmail.com
2021-07-21 18:37:40,286 +0900 INFO pid=12760 12460:Worker-2        change_buffer_entry.py:202 Removing entry from change buffer: ChangeBufferEntry(state=IN_PROGRESS, fschange=FSChange(Direction.UPLOAD, Action.CREATE, local_id=LocalID(inode=844424930197084L, volume='serial:3188545052'), path=u'\\\\?\\C:\\workspace\\\ub179\ud654\\cakd3\\.git\\objects', name=u'b1', parent_local_id=LocalID(inode=1125899906889119L, volume='serial:3188545052'), is_folder=True, modified=1626860144, generator_module=Generator.LOCAL_EVENT_GENERATOR, shared=False, row_id=2078), time=190559.578, row_id=1891)
2021-07-21 18:37:40,299 +0900 INFO pid=12760 12468:Worker-1        discovery.py:904 URL being requested: POST https://www.googleapis.com/drive/v2internal/files?fields=title%2Cparents%2Fid%2CmimeType%2CmodifiedDate%2Clabels%2Frestricted%2CuserPermission%2Frole%2Cversion%2Cshared%2CfullFileExtension%2CshortcutDetails%2CremovedParents%2Fid%2Cid&reason=204&updateViewedDate=false&alt=json&enforceSingleParent=true
2021-07-21 18:37:40,301 +0900 INFO pid=12760 12468:Worker-1        http.py:288 Request user-agent: googledrivesync-3.56.3802.7766 (64-bit) google-api-python-client/1.7.12 (gzip) (Windows/10.0 [64-bit])
2021-07-21 18:37:40,654 +0900 INFO pid=12760 10252:Worker-0        workers.py:192 Worker starting on [FSChange(Direction.UPLOAD, Action.CREATE, lo