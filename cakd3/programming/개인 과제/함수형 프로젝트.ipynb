{
 "metadata": {
  "language_info": {
   "codemirror_mode": {
    "name": "ipython",
    "version": 3
   },
   "file_extension": ".py",
   "mimetype": "text/x-python",
   "name": "python",
   "nbconvert_exporter": "python",
   "pygments_lexer": "ipython3",
   "version": "3.8.8"
  },
  "orig_nbformat": 4,
  "kernelspec": {
   "name": "python3",
   "display_name": "Python 3.8.8 64-bit ('base': conda)"
  },
  "interpreter": {
   "hash": "cef9e06bb236b2a8629b07e87a04b187b952a0f661eff5533360a155783f0c33"
  }
 },
 "nbformat": 4,
 "nbformat_minor": 2,
 "cells": [
  {
   "cell_type": "code",
   "execution_count": 2,
   "metadata": {},
   "outputs": [
    {
     "output_type": "execute_result",
     "data": {
      "text/plain": [
       "      일련번호        예배날짜   예배구분    성명     헌금     출석\n",
       "0        0  2021-12-17  금요기도회    고설  12000  False\n",
       "1        1   2020-2-13   새벽예배   황수호  79000   True\n",
       "2        2   2021-2-20   새벽예배   노송이  77000   True\n",
       "3        3   2020-8-15   새벽예배   복민경  45000   True\n",
       "4        4    2020-3-5   새벽예배  사공세환  21000   True\n",
       "...    ...         ...    ...   ...    ...    ...\n",
       "2395  2395  2020-12-21   새벽예배    심지  77000  False\n",
       "2396  2396   2021-3-12  금요기도회   강동근  48000  False\n",
       "2397  2397  2021-10-13   수요예배   신한길  98000   True\n",
       "2398  2398    2021-7-7   수요예배   이인혜  49000   True\n",
       "2399  2399   2021-10-1  금요기도회   조병일  30000   True\n",
       "\n",
       "[2400 rows x 6 columns]"
      ],
      "text/html": "<div>\n<style scoped>\n    .dataframe tbody tr th:only-of-type {\n        vertical-align: middle;\n    }\n\n    .dataframe tbody tr th {\n        vertical-align: top;\n    }\n\n    .dataframe thead th {\n        text-align: right;\n    }\n</style>\n<table border=\"1\" class=\"dataframe\">\n  <thead>\n    <tr style=\"text-align: right;\">\n      <th></th>\n      <th>일련번호</th>\n      <th>예배날짜</th>\n      <th>예배구분</th>\n      <th>성명</th>\n      <th>헌금</th>\n      <th>출석</th>\n    </tr>\n  </thead>\n  <tbody>\n    <tr>\n      <th>0</th>\n      <td>0</td>\n      <td>2021-12-17</td>\n      <td>금요기도회</td>\n      <td>고설</td>\n      <td>12000</td>\n      <td>False</td>\n    </tr>\n    <tr>\n      <th>1</th>\n      <td>1</td>\n      <td>2020-2-13</td>\n      <td>새벽예배</td>\n      <td>황수호</td>\n      <td>79000</td>\n      <td>True</td>\n    </tr>\n    <tr>\n      <th>2</th>\n      <td>2</td>\n      <td>2021-2-20</td>\n      <td>새벽예배</td>\n      <td>노송이</td>\n      <td>77000</td>\n      <td>True</td>\n    </tr>\n    <tr>\n      <th>3</th>\n      <td>3</td>\n      <td>2020-8-15</td>\n      <td>새벽예배</td>\n      <td>복민경</td>\n      <td>45000</td>\n      <td>True</td>\n    </tr>\n    <tr>\n      <th>4</th>\n      <td>4</td>\n      <td>2020-3-5</td>\n      <td>새벽예배</td>\n      <td>사공세환</td>\n      <td>21000</td>\n      <td>True</td>\n    </tr>\n    <tr>\n      <th>...</th>\n      <td>...</td>\n      <td>...</td>\n      <td>...</td>\n      <td>...</td>\n      <td>...</td>\n      <td>...</td>\n    </tr>\n    <tr>\n      <th>2395</th>\n      <td>2395</td>\n      <td>2020-12-21</td>\n      <td>새벽예배</td>\n      <td>심지</td>\n      <td>77000</td>\n      <td>False</td>\n    </tr>\n    <tr>\n      <th>2396</th>\n      <td>2396</td>\n      <td>2021-3-12</td>\n      <td>금요기도회</td>\n      <td>강동근</td>\n      <td>48000</td>\n      <td>False</td>\n    </tr>\n    <tr>\n      <th>2397</th>\n      <td>2397</td>\n      <td>2021-10-13</td>\n      <td>수요예배</td>\n      <td>신한길</td>\n      <td>98000</td>\n      <td>True</td>\n    </tr>\n    <tr>\n      <th>2398</th>\n      <td>2398</td>\n      <td>2021-7-7</td>\n      <td>수요예배</td>\n      <td>이인혜</td>\n      <td>49000</td>\n      <td>True</td>\n    </tr>\n    <tr>\n      <th>2399</th>\n      <td>2399</td>\n      <td>2021-10-1</td>\n      <td>금요기도회</td>\n      <td>조병일</td>\n      <td>30000</td>\n      <td>True</td>\n    </tr>\n  </tbody>\n</table>\n<p>2400 rows × 6 columns</p>\n</div>"
     },
     "metadata": {},
     "execution_count": 2
    }
   ],
   "source": [
    "import pandas as pd\n",
    "import numpy as np\n",
    "import matplotlib.pyplot as plt\n",
    "\n",
    "pd.read_csv('성도정보.csv', encoding='ANSI' )\n",
    "pd.read_csv('출석정보.csv', encoding='ANSI' )"
   ]
  },
  {
   "cell_type": "code",
   "execution_count": 142,
   "metadata": {},
   "outputs": [
    {
     "output_type": "stream",
     "name": "stdout",
     "text": [
      "Index(['Unnamed: 0', '성명', '직분', '등록일', '생년월일', '성별', '나이'], dtype='object')\n생년월일\n"
     ]
    },
    {
     "output_type": "execute_result",
     "data": {
      "text/plain": [
       "7"
      ]
     },
     "metadata": {},
     "execution_count": 142
    }
   ],
   "source": [
    "def read_memberinfo():\n",
    "    import pandas as pd\n",
    "    import numpy as np\n",
    "    import matplotlib.pyplot as plt\n",
    "      \n",
    "    #memberinfo = pd.read_csv('성도정보.csv', encoding='ANSI' )\n",
    "    memberinfo = pd.read_csv('성도정보.csv' )\n",
    "\n",
    "    return memberinfo\n",
    "\n",
    "def read_attendinfo():\n",
    "    import pandas as pd\n",
    "    import numpy as np\n",
    "    import matplotlib.pyplot as plt\n",
    "\n",
    "    #attendinfo = pd.read_csv('출석정보.csv', encoding='ANSI' )\n",
    "    attendinfo = pd.read_csv('출석정보.csv' )\n",
    "\n",
    "    return attendinfo\n",
    "\n",
    "\n",
    "def save_attendinfo(attendinfo):\n",
    "    import pandas as pd\n",
    "    import numpy as np\n",
    "    import matplotlib.pyplot as plt\n",
    "    attendinfo.iloc[:,1:].to_csv('출석정보.csv')\n",
    "#    return attendinfo\n",
    "\n",
    "def save_memberinfo(memberinfo):\n",
    "    import pandas as pd\n",
    "    import numpy as np\n",
    "    import matplotlib.pyplot as plt\n",
    "    memberinfo.iloc[:,1:].to_csv('성도정보.csv')\n",
    "#    return memberinfo\n",
    "    \n",
    "\n",
    "\n",
    "\n",
    "def add_attendinfo(attendinfo,newline_attendinfo):\n",
    "    import pandas as pd\n",
    "    import numpy as np\n",
    "    import matplotlib.pyplot as plt\n",
    "    # 열 개수가 맞는지 확인\n",
    "    attendinfo = attendinfo.append(newline_attendinfo, ignore_index=True)\n",
    "    return attendinfo\n",
    "\n",
    "def add_memberinfo(memberinfo,newline_memberinfo):\n",
    "    import pandas as pd\n",
    "    import numpy as np\n",
    "    import matplotlib.pyplot as plt\n",
    "    # 열 개수가 맞는지 확인\n",
    "    #print(newline_memberinfo)\n",
    "    memberinfo = memberinfo.append(newline_memberinfo, ignore_index=True)\n",
    "    #print(memberinfo)\n",
    "    return memberinfo\n",
    "\n",
    "\n",
    "\n",
    "# r1.apply(len)\n",
    "def see_memberinfo_rowindex(memberinfo, startrow, endrow):\n",
    "# 0부터 len()까지\n",
    "    for i in range(startrow, endrow+1):\n",
    "        print ( memberinfo.iloc[i] , '\\n\\n' )\n",
    "\n",
    "\n",
    "def see_attendinfo_rowindex(attendinfo, startrow, endrow):\n",
    "# 0부터 len()까지\n",
    "    for i in range(startrow, endrow+1):\n",
    "        print ( attendinfo.iloc[i] , '\\n\\n' )\n",
    "\n",
    "\n",
    "\n",
    "\n",
    "\n",
    "def make_iloc_index():\n",
    "    print('추출할 행번호를 입력하세요.')\n",
    "    print('범위는 - 을 이용하여  1-20과 같이 지정하며,')\n",
    "    print('각 원소는 , 로 구분하여 25-80,91,92,93 와 같이 입력합니다.')\n",
    "    print('또한 모든 띄어쓰기는 제거됩니다. ex) 10 4 는 104로 입력됩니다.')\n",
    "    row1 = input(' >>>>>>>>> ')\n",
    "    row1 = row1.replace(\" \",'')\n",
    "    row1 = row1.split(',')\n",
    "    print (row1 )\n",
    "\n",
    "    row2 = []\n",
    "    # row1.extend(list(range(5,30)))\n",
    "\n",
    "    for i in row1:\n",
    "        if '-' in i:\n",
    "            temp = i.split('-')\n",
    "            row2.extend(list(range(int(temp[0]),int(temp[1])+1)))\n",
    "        else:\n",
    "            row2.append(int(i))\n",
    "\n",
    "    row2 = list(set(row2))\n",
    "    \n",
    "    print(row1)\n",
    "    print(row2)\n",
    "    return row2.sort()\n",
    "\n",
    "\n",
    "def see_columns(allinfo):\n",
    "    print(allinfo.columns)\n",
    "    print (allinfo.index.name)\n",
    "\n",
    "######################################################################\n",
    "#######################################################################3\n",
    "########################################################################\n",
    "\n",
    "\n",
    "r1 = read_memberinfo()\n",
    "#print (r1)\n",
    "\n",
    "r1 = add_memberinfo(r1 , r1.iloc[2])\n",
    "#print (r1)\n",
    "\n",
    "r2 = read_attendinfo()\n",
    "#print (r2)\n",
    "\n",
    "r2 = add_attendinfo(r2 , r2.iloc[2])\n",
    "#print (r2)\n",
    "\n",
    "i1 = 15 \n",
    "i2 = 30\n",
    "\n",
    "# r1 = see_memberinfo_rowindex(r1, i1, i2)\n",
    "# r1.apply(len)\n",
    "#print (r1.columns)\n",
    "\n",
    "r1.index\n",
    "#mli2 = pd.DataFrame( mli3 , index = mli['성명'])\n",
    "r1 = pd.DataFrame(r1, index = r1['생년월일'])\n",
    "#print (r1.index.name)\n",
    "see_columns(r1)\n",
    "len( r1.columns )\n"
   ]
  },
  {
   "cell_type": "code",
   "execution_count": null,
   "metadata": {},
   "outputs": [],
   "source": [
    "# pandas 범위 선택하는 방법\n",
    "\n",
    "# 1. []\n",
    "# 객체(변수)명 [ 행범위 or 열(전체) ] \n",
    "# 행 하나(숫자 하나)는 불가능\n",
    "\n",
    "\n",
    "#2. .iloc  .... 행번호\n",
    "# 객체(변수)명  .iloc [[특정행, 특정행...], [특정열, 특정열...]]\n",
    "# 객체(변수)명  .iloc [행범위, 열범위]\n",
    "# \n",
    "\n",
    "\n",
    "# 3.  .loc   .... 이름 \n",
    "# mli.loc[name1 , ['직분','생년월일']]\n",
    "# 객체(변수)명  .loc [  인덱스와 일치되는 값  ,  ['열이름1', '열이름2']   ]\n",
    "\n",
    "\n",
    "\n",
    "#4.   .iat  .... 1개만 추출\n",
    "# 객체(변수)명   .iat[숫자, 숫자]\n",
    "# = 객체(변수)명   .iloc[숫자, 숫자]\n",
    "\n",
    "\n",
    "\n",
    "#5. mli2 =  mli['나이'].isin([50,60,70,80,90]) \n",
    "# 개체 .isin( [원소들]  )\n",
    "# 개체의 모든값을 대상으로\n",
    "# []안에 있는 값에 해당하는 값이 있는지 확인해서\n",
    "# True / False 값을\n",
    "# 인덱스와 같이 반환해줌\n",
    "\n",
    "#mli[ mli['나이'].isin([50,60,70,80,90]) ]\n",
    "# 인덱스가 True인 값을 반환"
   ]
  },
  {
   "cell_type": "code",
   "execution_count": 92,
   "metadata": {},
   "outputs": [
    {
     "output_type": "stream",
     "name": "stdout",
     "text": [
      "   Unnamed: 0    성명    직분         등록일        생년월일 성별  나이\n0           0    장달  안수집사   2006-12-2   1949-2-20  남  72\n1           1   송다운  안수집사   2002-8-24   1960-6-16  여  61\n2           2   문힘찬    집사  2009-12-22    1974-2-4  여  47\n3           3  사공믿음    집사    2000-2-9    1962-7-6  여  59\n4           4  봉빛가람    집사    2003-8-6    1979-4-3  여  42\n5           5   손한결    성도   2004-9-22   1955-9-27  남  66\n6           6   윤우람  안수집사    1996-9-4    1942-9-9  여  79\n7           7   표한결    집사   1998-2-15   1950-2-25  남  71\n8           8   강버들    성도   1997-8-14  1971-11-27  여  50\n9           9   최우람    집사  1996-12-21    1969-7-6  여  52\n"
     ]
    }
   ],
   "source": [
    "r1 = read_memberinfo()\n",
    "print (r1[0:10])"
   ]
  },
  {
   "cell_type": "code",
   "execution_count": 34,
   "metadata": {},
   "outputs": [],
   "source": [
    "save_memberinfo(r1)\n",
    "save_attendinfo(r2)"
   ]
  },
  {
   "cell_type": "code",
   "execution_count": 42,
   "metadata": {},
   "outputs": [
    {
     "output_type": "stream",
     "name": "stdout",
     "text": [
      "     Unnamed: 0    성명    직분         등록일        생년월일 성별  나이\n0             0    장달  안수집사   2006-12-2   1949-2-20  남  72\n1             1   송다운  안수집사   2002-8-24   1960-6-16  여  61\n2             2   문힘찬    집사  2009-12-22    1974-2-4  여  47\n3             3  사공믿음    집사    2000-2-9    1962-7-6  여  59\n4             4  봉빛가람    집사    2003-8-6    1979-4-3  여  42\n..          ...   ...   ...         ...         ... ..  ..\n236         236   정유리    집사    2003-1-6   1938-3-21  여  83\n237         237   홍혜림    성도   2008-7-11    1961-7-7  남  60\n238         238   정숙자    집사   1998-1-11    2009-3-5  여  12\n239         239   허경완    장로    2005-2-8  1930-11-14  남  91\n240         240   이원진    성도    2000-1-1   1994-1-24  남  27\n\n[241 rows x 7 columns]\n"
     ]
    }
   ],
   "source": [
    "r1 = read_memberinfo()\n",
    "\n",
    "print (r1)"
   ]
  },
  {
   "cell_type": "code",
   "execution_count": null,
   "metadata": {},
   "outputs": [],
   "source": []
  },
  {
   "cell_type": "code",
   "execution_count": 59,
   "metadata": {},
   "outputs": [
    {
     "output_type": "stream",
     "name": "stdout",
     "text": [
      "     Unnamed: 0    성명    직분         등록일        생년월일 성별  나이\n0             0    장달  안수집사   2006-12-2   1949-2-20  남  72\n1             1   송다운  안수집사   2002-8-24   1960-6-16  여  61\n2             2   문힘찬    집사  2009-12-22    1974-2-4  여  47\n3             3  사공믿음    집사    2000-2-9    1962-7-6  여  59\n4             4  봉빛가람    집사    2003-8-6    1979-4-3  여  42\n..          ...   ...   ...         ...         ... ..  ..\n236         236   정유리    집사    2003-1-6   1938-3-21  여  83\n237         237   홍혜림    성도   2008-7-11    1961-7-7  남  60\n238         238   정숙자    집사   1998-1-11    2009-3-5  여  12\n239         239   허경완    장로    2005-2-8  1930-11-14  남  91\n240         240   이원진    성도    2000-1-1   1994-1-24  남  27\n\n[241 rows x 7 columns]\nUnnamed: 0             2\n성명                   문힘찬\n직분                    집사\n등록일           2009-12-22\n생년월일            1974-2-4\n성별                     여\n나이                    47\nName: 2, dtype: object\n     Unnamed: 0    성명    직분         등록일        생년월일 성별  나이\n0             0    장달  안수집사   2006-12-2   1949-2-20  남  72\n1             1   송다운  안수집사   2002-8-24   1960-6-16  여  61\n2             2   문힘찬    집사  2009-12-22    1974-2-4  여  47\n3             3  사공믿음    집사    2000-2-9    1962-7-6  여  59\n4             4  봉빛가람    집사    2003-8-6    1979-4-3  여  42\n..          ...   ...   ...         ...         ... ..  ..\n237         237   홍혜림    성도   2008-7-11    1961-7-7  남  60\n238         238   정숙자    집사   1998-1-11    2009-3-5  여  12\n239         239   허경완    장로    2005-2-8  1930-11-14  남  91\n240         240   이원진    성도    2000-1-1   1994-1-24  남  27\n241           2   문힘찬    집사  2009-12-22    1974-2-4  여  47\n\n[242 rows x 7 columns]\n"
     ]
    }
   ],
   "source": [
    "import pandas as pd\n",
    "import numpy as np\n",
    "import matplotlib.pyplot as plt\n",
    "\n",
    "memberinfo = pd.read_csv('성도정보.csv' )\n",
    "print(memberinfo)\n",
    "\n",
    "newline_memberinfo = memberinfo.iloc[2]\n",
    "# 열 개수가 맞는지 확인\n",
    "print(newline_memberinfo)\n",
    "\n",
    "memberinfo = memberinfo.append(newline_memberinfo, ignore_index=True)\n",
    "print(memberinfo)"
   ]
  },
  {
   "cell_type": "code",
   "execution_count": 98,
   "metadata": {},
   "outputs": [
    {
     "output_type": "stream",
     "name": "stdout",
     "text": [
      "10-50,25-80,91,92,93,105,126,204\n"
     ]
    }
   ],
   "source": [
    "row1 = input('추출할 행번호를 입력하세요')\n",
    "print (row1 )"
   ]
  },
  {
   "cell_type": "code",
   "execution_count": 108,
   "metadata": {},
   "outputs": [
    {
     "output_type": "stream",
     "name": "stdout",
     "text": [
      "10-50\n25-80\n91\n92\n93\n105\n126\n204\n[['10', '50'], ['25', '80'], ['91'], ['92'], ['93'], ['105'], ['126'], ['204']]\n"
     ]
    }
   ],
   "source": [
    "row1 = row1.split(',')\n",
    "row2 = []\n",
    "for i in row1:\n",
    "    print( i )\n",
    "    row2.append ( i.split('-') )\n",
    "\n",
    "print(row2)\n"
   ]
  },
  {
   "cell_type": "code",
   "execution_count": 115,
   "metadata": {},
   "outputs": [
    {
     "output_type": "stream",
     "name": "stdout",
     "text": [
      "10-50\n25-80\n91\n92\n93\n105\n126\n204\n150-200\n100-150\n"
     ]
    }
   ],
   "source": [
    "row1.append('100-150')\n",
    "for i in row1:\n",
    "    if '-' in i:\n",
    "        print(i)\n",
    "    else:\n",
    "        print(i)\n"
   ]
  },
  {
   "cell_type": "code",
   "execution_count": 122,
   "metadata": {},
   "outputs": [
    {
     "output_type": "stream",
     "name": "stdout",
     "text": [
      "['10-50', '25-80', '91', '92', '93', '105', '126', '204', '150-200', '100-150']\n[10, 11, 12, 13, 14, 15, 16, 17, 18, 19, 20, 21, 22, 23, 24, 25, 26, 27, 28, 29, 30, 31, 32, 33, 34, 35, 36, 37, 38, 39, 40, 41, 42, 43, 44, 45, 46, 47, 48, 49, 50, 51, 52, 53, 54, 55, 56, 57, 58, 59, 60, 61, 62, 63, 64, 65, 66, 67, 68, 69, 70, 71, 72, 73, 74, 75, 76, 77, 78, 79, 80, 91, 92, 93, 100, 101, 102, 103, 104, 105, 106, 107, 108, 109, 110, 111, 112, 113, 114, 115, 116, 117, 118, 119, 120, 121, 122, 123, 124, 125, 126, 127, 128, 129, 130, 131, 132, 133, 134, 135, 136, 137, 138, 139, 140, 141, 142, 143, 144, 145, 146, 147, 148, 149, 150, 151, 152, 153, 154, 155, 156, 157, 158, 159, 160, 161, 162, 163, 164, 165, 166, 167, 168, 169, 170, 171, 172, 173, 174, 175, 176, 177, 178, 179, 180, 181, 182, 183, 184, 185, 186, 187, 188, 189, 190, 191, 192, 193, 194, 195, 196, 197, 198, 199, 200, 204]\n"
     ]
    }
   ],
   "source": [
    "row2 = []\n",
    "# row1.extend(list(range(5,30)))\n",
    "\n",
    "for i in row1:\n",
    "    if '-' in i:\n",
    "        temp = i.split('-')\n",
    "        row2.extend(list(range(int(temp[0]),int(temp[1])+1)))\n",
    "    else:\n",
    "        row2.append(int(i))\n",
    "\n",
    "row2 = list(set(row2))\n",
    "row2.sort()\n",
    "print(row1)\n",
    "print(row2)\n"
   ]
  },
  {
   "cell_type": "code",
   "execution_count": 130,
   "metadata": {},
   "outputs": [
    {
     "output_type": "stream",
     "name": "stdout",
     "text": [
      "추출할 행번호를 입력하세요.\n",
      "범위는 - 을 이용하여  1-20과 같이 지정하며,\n",
      "각 원소는 , 로 구분하여 25-80,91,92,93 와 같이 입력합니다.\n",
      "또한 모든 띄어쓰기는 제거됩니다. ex) 10 4 는 104로 입력됩니다.\n",
      "['10-20', '15-30', '41', '51', '61', '55-60', '100', '101', '104']\n",
      "['10-20', '15-30', '41', '51', '61', '55-60', '100', '101', '104']\n",
      "[10, 11, 12, 13, 14, 15, 16, 17, 18, 19, 20, 21, 22, 23, 24, 25, 26, 27, 28, 29, 30, 41, 51, 55, 56, 57, 58, 59, 60, 61, 100, 101, 104]\n"
     ]
    }
   ],
   "source": [
    "def see():\n",
    "    print('추출할 행번호를 입력하세요.')\n",
    "    print('범위는 - 을 이용하여  1-20과 같이 지정하며,')\n",
    "    print('각 원소는 , 로 구분하여 25-80,91,92,93 와 같이 입력합니다.')\n",
    "    print('또한 모든 띄어쓰기는 제거됩니다. ex) 10 4 는 104로 입력됩니다.')\n",
    "    row1 = input(' >>>>>>>>> ')\n",
    "    row1 = row1.replace(\" \",'')\n",
    "    row1 = row1.split(',')\n",
    "    print (row1 )\n",
    "\n",
    "    row2 = []\n",
    "    # row1.extend(list(range(5,30)))\n",
    "\n",
    "    for i in row1:\n",
    "        if '-' in i:\n",
    "            temp = i.split('-')\n",
    "            row2.extend(list(range(int(temp[0]),int(temp[1])+1)))\n",
    "        else:\n",
    "            row2.append(int(i))\n",
    "\n",
    "    row2 = list(set(row2))\n",
    "    \n",
    "    print(row1)\n",
    "    print(row2)\n",
    "    return row2.sort()\n",
    "\n",
    "\n",
    "see()"
   ]
  },
  {
   "cell_type": "code",
   "execution_count": 128,
   "metadata": {},
   "outputs": [
    {
     "output_type": "execute_result",
     "data": {
      "text/plain": [
       "'10 - 20 , 15 - 30, 41,51,61, 55 - 60, 100,101,10 4'"
      ]
     },
     "metadata": {},
     "execution_count": 128
    }
   ],
   "source": [
    "row1 = '10 - 20 , 15 - 30, 41,51,61, 55 - 60, 100,101,10 4'\n",
    "row1.replace(\" \",\"\")\n",
    "row1"
   ]
  }
 ]
}