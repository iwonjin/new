{
 "cells": [
  {
   "cell_type": "code",
   "execution_count": 1,
   "id": "7dcbf81b",
   "metadata": {},
   "outputs": [
    {
     "name": "stdout",
     "output_type": "stream",
     "text": [
      "15\n",
      "20\n",
      "25\n"
     ]
    }
   ],
   "source": [
    "numbers = [5, 15, 6, 20, 7, 25]\n",
    "\n",
    "for i in numbers :\n",
    "    if i >= 15 :\n",
    "        print( i )"
   ]
  },
  {
   "cell_type": "code",
   "execution_count": 6,
   "id": "be299621",
   "metadata": {},
   "outputs": [
    {
     "name": "stdout",
     "output_type": "stream",
     "text": [
      "[1, 4, 9, 16, 25]\n",
      "[1, 2]\n"
     ]
    }
   ],
   "source": [
    "# 함수를 선언합니다.\n",
    "def power(item):\n",
    "    return item * item\n",
    "def under_3(item):\n",
    "    return item < 3\n",
    "\n",
    "# 변수를 선언합니다.\n",
    "list_input_a = [1, 2, 3, 4, 5]\n",
    "\n",
    "output1 = list( map(power, list_input_a))\n",
    "print(output1)\n",
    "\n",
    "output2 = list( filter(under_3, list_input_a) )\n",
    "print(output2)"
   ]
  },
  {
   "cell_type": "code",
   "execution_count": 19,
   "id": "0527f0b7",
   "metadata": {},
   "outputs": [
    {
     "name": "stdout",
     "output_type": "stream",
     "text": [
      "정수를 입력하세요>3\n",
      "홀수입니다.\n"
     ]
    }
   ],
   "source": [
    "data = int ( input('정수를 입력하세요>' ) )\n",
    "\n",
    "    \n",
    "if data % 2 == 0 :\n",
    "    print('짝수 입니다.')\n",
    "elif data % 2 == 1 :\n",
    "    print('홀수입니다.')\n",
    "else:\n",
    "    print( '잘못된 입력입니다.')"
   ]
  },
  {
   "cell_type": "code",
   "execution_count": 21,
   "id": "41f19bac",
   "metadata": {},
   "outputs": [
    {
     "data": {
      "text/plain": [
       "22"
      ]
     },
     "execution_count": 21,
     "metadata": {},
     "output_type": "execute_result"
    }
   ],
   "source": [
    "x4 = lambda a, b : a ** b - a*b \n",
    "\n",
    "a = 2\n",
    "b = 5\n",
    "\n",
    "x4 (a ,b )\n"
   ]
  },
  {
   "cell_type": "code",
   "execution_count": 22,
   "id": "e51003d5",
   "metadata": {},
   "outputs": [
    {
     "data": {
      "text/plain": [
       "15"
      ]
     },
     "execution_count": 22,
     "metadata": {},
     "output_type": "execute_result"
    }
   ],
   "source": [
    "x4 = lambda a, b : a ** b - a*b \n",
    "\n",
    "a = 5\n",
    "b = 2\n",
    "\n",
    "x4 (a ,b )"
   ]
  },
  {
   "cell_type": "code",
   "execution_count": 37,
   "id": "43d02ecf",
   "metadata": {},
   "outputs": [
    {
     "name": "stdout",
     "output_type": "stream",
     "text": [
      "123,456,789.85203\n",
      "<class 'str'>\n"
     ]
    }
   ],
   "source": [
    "tet = 123456789\n",
    "tet = 123456789.85203\n",
    "print('{:,}'.format(tet) )\n",
    "print(type('{:,}'.format(tet) ))\n",
    "\n"
   ]
  },
  {
   "cell_type": "code",
   "execution_count": 38,
   "id": "16a62a9f",
   "metadata": {},
   "outputs": [
    {
     "name": "stdout",
     "output_type": "stream",
     "text": [
      "0번째 요소는 요소A입니다.\n",
      "1번째 요소는 요소B입니다.\n",
      "2번째 요소는 요소C입니다.\n"
     ]
    }
   ],
   "source": [
    "example_list = [\"요소A\", \"요소B\", \"요소C\"]\n",
    "\n",
    "for (i, value) in enumerate(example_list):\n",
    "    print('{0}번째 요소는 {1}입니다.'.format(i,value))"
   ]
  },
  {
   "cell_type": "code",
   "execution_count": 39,
   "id": "2bfec3ec",
   "metadata": {},
   "outputs": [
    {
     "name": "stdout",
     "output_type": "stream",
     "text": [
      "0번째 요소는 요소A입니다.\n",
      "1번째 요소는 요소B입니다.\n",
      "2번째 요소는 요소C입니다.\n"
     ]
    }
   ],
   "source": [
    "example_list = [\"요소A\", \"요소B\", \"요소C\"]\n",
    "\n",
    "for (i, value) in enumerate(example_list):\n",
    "    print(f'{i}번째 요소는 {value}입니다.')"
   ]
  },
  {
   "cell_type": "code",
   "execution_count": 40,
   "id": "0dbcb5cc",
   "metadata": {},
   "outputs": [
    {
     "data": {
      "text/plain": [
       "(2, 17)"
      ]
     },
     "execution_count": 40,
     "metadata": {},
     "output_type": "execute_result"
    }
   ],
   "source": [
    "divmod(97,40)"
   ]
  },
  {
   "cell_type": "code",
   "execution_count": 42,
   "id": "039ecd8f",
   "metadata": {},
   "outputs": [
    {
     "name": "stdout",
     "output_type": "stream",
     "text": [
      "몇번째 원소를 출력할까요?  >>>ㅁㄴ\n",
      "ValueError \n",
      "예외처리 완료\n"
     ]
    }
   ],
   "source": [
    "list_number = [52, 273, 32, 72, 100]\n",
    "\n",
    "try:\n",
    "    select = int ( input ('몇번째 원소를 출력할까요?  >>>') )\n",
    "    print(f'{select}번째 원소는 {list_number[select]}입니다')\n",
    "    \n",
    "except ValueError:\n",
    "    print ( 'ValueError ')\n",
    "except IndexError :\n",
    "    print ( 'IndexError ')\n",
    "except Exception :\n",
    "    print ( Exception )\n",
    "finally:\n",
    "    print('예외처리 완료')\n",
    "    \n",
    "    \n"
   ]
  }
 ],
 "metadata": {
  "kernelspec": {
   "display_name": "Python 3",
   "language": "python",
   "name": "python3"
  },
  "language_info": {
   "codemirror_mode": {
    "name": "ipython",
    "version": 3
   },
   "file_extension": ".py",
   "mimetype": "text/x-python",
   "name": "python",
   "nbconvert_exporter": "python",
   "pygments_lexer": "ipython3",
   "version": "3.8.8"
  }
 },
 "nbformat": 4,
 "nbformat_minor": 5
}
