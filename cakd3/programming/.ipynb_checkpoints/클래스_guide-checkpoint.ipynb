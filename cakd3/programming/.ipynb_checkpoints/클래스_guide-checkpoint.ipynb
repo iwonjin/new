{
 "cells": [
  {
   "cell_type": "markdown",
   "id": "0542d68b",
   "metadata": {},
   "source": [
    "클래스\n",
    "\n",
    "class : 함수 + 변수 모아놓은 것\n",
    "\n",
    "오브젝트(object) : 클래스를 써서 만든 것\n",
    "\n",
    "오브젝트(object) == 인스턴스(instance) \n",
    "\n",
    "클래스를 정의한 후, 그 클래스를 사용해서 데이터 객체(인스턴스)를 만들 수 있다. \n",
    "\n",
    "동일한 클래스에 의해 만들어진 각 객체들은 유사한 특징을 공유한다. \n",
    "\n",
    "모든 인스턴스에서 메서드(=코드)는 동일하지만, 속성(데이터)는 다르다.\n",
    "\n",
    " * 메서드 : 코드 \n",
    " * 속성 : 데이터 \n",
    " * 인스턴스 : 클래스에 의해 만들어진 데이터 객체"
   ]
  },
  {
   "cell_type": "code",
   "execution_count": 2,
   "id": "526a04d4",
   "metadata": {},
   "outputs": [
    {
     "name": "stdout",
     "output_type": "stream",
     "text": [
      "<__main__.MyClass object at 0x000002762BF980A0>\n",
      "안녕하세요\n",
      "안녕하세요\n"
     ]
    }
   ],
   "source": [
    "# 클래스 멤버, 클래스 메소드\n",
    "# 클래스를 구성하는 주요 요소는 멤버(변수)와 메소드(함수)로 클래스 공간내에서 정의\n",
    "# 클래스 메소드는 첫번째 인자가 반드시 self로 시작\n",
    "# self는 이 클래스의 인스턴스 객체를 가리키는 참조자\n",
    "# 인스턴스 객체에서 클래스 메소드를 호출 시 첫번째 인자인 self 생략\n",
    "\n",
    "class MyClass:\n",
    "    var = '안녕하세요'  # 클래스 멤버\n",
    "    def sayHello(self): # 클래스 메소드\n",
    "        return self.var\n",
    "\n",
    "obj = MyClass()\n",
    "print(obj)\n",
    "print(obj.var)\n",
    "print(obj.sayHello())\n",
    "    "
   ]
  },
  {
   "cell_type": "code",
   "execution_count": 4,
   "id": "8c223f2f",
   "metadata": {},
   "outputs": [
    {
     "name": "stdout",
     "output_type": "stream",
     "text": [
      "안녕하세요\n",
      "안녕\n",
      "안녕하세요\n",
      "하이\n"
     ]
    }
   ],
   "source": [
    "# 클래스 멤버와 인스턴스 멤버\n",
    "# 클래스 멤버는 클래스 메소드 바깥에서 선언되고 인스턴스 멤버는 클래스 메소드 안에서\n",
    "# self와 함께 선언\n",
    "\n",
    "class MyClass:\n",
    "    var = '안녕하세요' # 클래스 멤버\n",
    "    def sayHello(self): # 클래스 메소드\n",
    "        param1 = '안녕' # 지역 변수\n",
    "        self.param2 = '하이' # 인스턴스 멤버\n",
    "        print(param1)\n",
    "        print(self.var)\n",
    "        print(self.param2)\n",
    "\n",
    "obj = MyClass()\n",
    "print(obj.var)\n",
    "obj.sayHello()\n",
    "# obj.param1"
   ]
  },
  {
   "cell_type": "code",
   "execution_count": 6,
   "id": "5aa5b61e",
   "metadata": {},
   "outputs": [
    {
     "name": "stdout",
     "output_type": "stream",
     "text": [
      "안녕하세요\n",
      "kevin! 다음에 또보자\n"
     ]
    }
   ],
   "source": [
    "# 클래스 메소드\n",
    "# 클래스 내에서 정의되는 클래스 메소드는 첫 번째 인자가 반드시 self여야 한다.\n",
    "class MyClass:\n",
    "    def sayHello(self):\n",
    "        print('안녕하세요')\n",
    "    def sayBye(self,name):\n",
    "        print('%s! 다음에 또보자' %name)\n",
    "        \n",
    "obj = MyClass()\n",
    "obj.sayHello()\n",
    "obj.sayBye('kevin')"
   ]
  },
  {
   "cell_type": "code",
   "execution_count": 10,
   "id": "00a5abc4",
   "metadata": {},
   "outputs": [
    {
     "name": "stdout",
     "output_type": "stream",
     "text": [
      "MyClass 인스턴스 객체가 생성되었습니다.\n",
      "안녕하세요\n"
     ]
    }
   ],
   "source": [
    "# 클래스 생성자(인자가 없는 경우)\n",
    "# 클래스의 인스턴스 객체가 생성될 때 자동적으로 호출되는 메소드\n",
    "class MyClass:\n",
    "    def __init__(self):\n",
    "        self.var = '안녕하세요' # 인스턴스 멤버\n",
    "        print('MyClass 인스턴스 객체가 생성되었습니다.')\n",
    "obj = MyClass()\n",
    "print(obj.var)\n"
   ]
  },
  {
   "cell_type": "code",
   "execution_count": 11,
   "id": "f23bffcd",
   "metadata": {},
   "outputs": [
    {
     "name": "stdout",
     "output_type": "stream",
     "text": [
      "생성자 인자로 전달받은 값은 <kevin>입니다.\n",
      "kevin\n"
     ]
    }
   ],
   "source": [
    "# 클래스 생성자(인자가 있는 경우)\n",
    "class MyClass:\n",
    "    def __init__(self,txt):\n",
    "        self.var = txt # 인스턴스 멤버\n",
    "        print('생성자 인자로 전달받은 값은 <'+self.var+'>입니다.')\n",
    "obj = MyClass('kevin')\n",
    "print(obj.var)"
   ]
  },
  {
   "cell_type": "code",
   "execution_count": 24,
   "id": "f9eb42a4",
   "metadata": {},
   "outputs": [
    {
     "name": "stdout",
     "output_type": "stream",
     "text": [
      "MyClass 인스턴스 객체가 메모리에서 제거됩니다.\n"
     ]
    }
   ],
   "source": [
    "# 클래스 소멸자\n",
    "# 클래스 인스턴스 객체가 메모리에서 제거될 때 자동으로 호출되는 클래스 메소드\n",
    "class MyClass:\n",
    "    def __del__(self):\n",
    "        print('MyClass 인스턴스 객체가 메모리에서 제거됩니다.')\n",
    "obj = MyClass()\n",
    "del obj"
   ]
  },
  {
   "cell_type": "code",
   "execution_count": null,
   "id": "f38074a6",
   "metadata": {},
   "outputs": [],
   "source": [
    "# 클래스 상속 : class 자식클래스(부모클래스)\n",
    "# 어떤 클래스(부모)가 가지고 있는 모든 멤버나 메소드를 상속받는 클래스(자식)가 \n",
    "# 모두 사용할 수 있도록 해주는 것.\n",
    "# 자식 클래스는 여러 부모 클래스로 부터 상속받을 수 있으며 다중상속이라 함\n",
    "# class 자식클래스(부모클래스1,부모클래스2,.....)"
   ]
  },
  {
   "cell_type": "code",
   "execution_count": 19,
   "id": "d6758424",
   "metadata": {},
   "outputs": [
    {
     "name": "stdout",
     "output_type": "stream",
     "text": [
      "3\n",
      "2\n"
     ]
    }
   ],
   "source": [
    "# Q. 더하기 Sum, 곱하기 Mul 클래스를 작성하고 상속을 받은 자식 클래스 Cal을 작성하여\n",
    "# 덧셈, 곱셈을 수행하세요.\n",
    "class Sum:\n",
    "    def sum(self,n1,n2):\n",
    "        return n1 + n2\n",
    "    \n",
    "class Mul:\n",
    "    def mul(self,n1,n2):\n",
    "        return n1 * n2\n",
    "    \n",
    "class Cal(Sum,Mul):  \n",
    "    pass\n",
    "#     def sub(self,n1,n2):\n",
    "#         return n1 - n2\n",
    "    \n",
    "obj = Cal()\n",
    "print(obj.sum(1,2))\n",
    "print(obj.mul(1,2))\n",
    "# print(obj.sub(5,3))"
   ]
  },
  {
   "cell_type": "code",
   "execution_count": null,
   "id": "abdfb60c",
   "metadata": {},
   "outputs": [],
   "source": [
    "# Q. 클래스 MyClass를 작성하고 객체를 생성하여 아래와 같이 출력하세요(생성자 사용)\n",
    "# kevin, 안녕하세요\n",
    "# kevin! 다음에 보자"
   ]
  },
  {
   "cell_type": "code",
   "execution_count": 23,
   "id": "c33f2393",
   "metadata": {},
   "outputs": [
    {
     "name": "stdout",
     "output_type": "stream",
     "text": [
      "kevin, 안녕하세요\n",
      "kevin! 다음에 보자\n"
     ]
    }
   ],
   "source": [
    "# Q. 클래스 MyClass를 작성하고 객체를 생성하여 아래와 같이 출력하세요(생성자 사용)\n",
    "# kevin, 안녕하세요\n",
    "# kevin! 다음에 보자\n",
    "\n",
    "class MyClass:\n",
    "    def __init__(self,name):\n",
    "        self.name = name\n",
    "        \n",
    "    def hello(self):\n",
    "        print (\"%s, 안녕하세요\" % self.name)\n",
    "        \n",
    "    def bye(self):\n",
    "        print (\"%s! 다음에 보자\" % self.name)\n",
    "        \n",
    "obj = MyClass(\"kevin\")\n",
    "\n",
    "obj.hello()\n",
    "obj.bye()\n"
   ]
  },
  {
   "cell_type": "code",
   "execution_count": 21,
   "id": "c38ac525",
   "metadata": {},
   "outputs": [
    {
     "name": "stdout",
     "output_type": "stream",
     "text": [
      "홍길동님 안녕하세요\n",
      "홍길동님 다음에 보자\n"
     ]
    }
   ],
   "source": [
    "class MyClass:\n",
    "    def sayHello(self,name):\n",
    "        print('%s님 안녕하세요' %name)\n",
    "    def sayBye(self,name):\n",
    "        print('%s님 다음에 보자' %name)\n",
    "        \n",
    "a = MyClass()\n",
    "a.sayHello('홍길동')\n",
    "a.sayBye('홍길동')\n"
   ]
  },
  {
   "cell_type": "code",
   "execution_count": 25,
   "id": "acea696a",
   "metadata": {},
   "outputs": [
    {
     "name": "stdout",
     "output_type": "stream",
     "text": [
      "추가 가격을 입력해 주세요> 1000\n",
      "가격: 2000원\n"
     ]
    }
   ],
   "source": [
    "# Q. 사용자 함수를 작성하여 기본가격 1000에 입력 받은 값을 추가한 가격을 산출하세요.\n",
    "# (지역변수, 전역변수 2가지 방법) \n",
    "p = int(input('추가 가격을 입력해 주세요> '))\n",
    "def price(p):\n",
    "    b = 1000\n",
    "    b += p\n",
    "    return b\n",
    "print('가격: {}원'.format(price(p)))"
   ]
  },
  {
   "cell_type": "code",
   "execution_count": 26,
   "id": "ebf07f1a",
   "metadata": {},
   "outputs": [
    {
     "name": "stdout",
     "output_type": "stream",
     "text": [
      "추가 가격을 입력해 주세요> 1000\n",
      "가격: 2000원\n"
     ]
    }
   ],
   "source": [
    "p = int(input('추가 가격을 입력해 주세요> '))\n",
    "b = 1000\n",
    "def price():\n",
    "    global b    \n",
    "    b += p\n",
    "    return b\n",
    "print('가격: {}원'.format(price()))"
   ]
  },
  {
   "cell_type": "code",
   "execution_count": null,
   "id": "4c1e7081",
   "metadata": {},
   "outputs": [],
   "source": [
    "# Q1. 기본가격 1000원인 3개의 상품에 대하여 임의의 추가 가격을 인수로 대입시 \n",
    "# 더한 가격을 산출하세요(클래스를 이용)"
   ]
  },
  {
   "cell_type": "code",
   "execution_count": null,
   "id": "7e9f3698",
   "metadata": {},
   "outputs": [],
   "source": [
    "# Q2. 기본가격 1000원인 2개의 상품에 대하여 임의의 추가 가격을 입력시 아래 두개의 \n",
    "# 방식으로 산출하세요(class 이용)\n",
    "# - price1 : 기본가격 + 추가가격\n",
    "# - price2 : (기본가격 + 추가가격) * 90% "
   ]
  },
  {
   "cell_type": "code",
   "execution_count": null,
   "id": "ac066855",
   "metadata": {},
   "outputs": [],
   "source": [
    "# Q3. 임의의 클래스를 작성한 후 인스턴스를 생성하고 그것의 타입을 확인하세요."
   ]
  },
  {
   "cell_type": "code",
   "execution_count": null,
   "id": "18538210",
   "metadata": {},
   "outputs": [],
   "source": [
    "# Q4. 4칙 연산 기능을 포함한 Cal4 클래스(생성자 이용)를 작성하고 이 클래스를 \n",
    "# 이용하여 cal1 계산기 객체를 만든 후 두개의 수  5,3에 대한 사칙연산을 수행하세요."
   ]
  },
  {
   "cell_type": "code",
   "execution_count": null,
   "id": "a71f905d",
   "metadata": {},
   "outputs": [],
   "source": [
    "# Q5. 4칙 연산 기능을 포함한 Cal4 클래스(set 메소드 이용)를 작성하고 이 클래스를 \n",
    "# 이용하여 cal 계산기 객체를 만든 후 두개의 수를 입력하여 사칙연산을 수행한 결과를 \n",
    "# 출력하세요."
   ]
  },
  {
   "cell_type": "code",
   "execution_count": null,
   "id": "9eda8a62",
   "metadata": {},
   "outputs": [],
   "source": [
    "# Q6. Order 클래스를 상속받아 extraOrder 클래스를 작성하고 extraCustomer의 \n",
    "# 주문가격을 다음과 같이 산출하였다. \n",
    "# ExtraOrder 클래스를 작성하세요\n",
    "\n",
    "class Order: \n",
    "    def __init__(self, name): \n",
    "        self.customer = 0 \n",
    "        self.name = name \n",
    "    def order(self, price): \n",
    "        self.customer += price \n",
    "        return self.customer \n",
    "    \n",
    "class ExtraOrder(Order): \n",
    "    pass \n",
    "\n",
    "extraCustomer = extraOrder('kevin') \n",
    "print(extraCustomer.order(1000))\n"
   ]
  },
  {
   "cell_type": "code",
   "execution_count": null,
   "id": "30f701fe",
   "metadata": {},
   "outputs": [],
   "source": [
    "# Q7. Order 클래스를 상속받아 extraOrder 클래스에서 메소드 오버라이딩하여 출력가격에 \n",
    "# '원'이 추가되도록 출력하세요"
   ]
  },
  {
   "cell_type": "code",
   "execution_count": null,
   "id": "30e27e6a",
   "metadata": {},
   "outputs": [],
   "source": [
    "# Q8. 업무미팅이 2시임을 알려주는 자동 이메일을 클래스 AutoEmail을 작성하여 \n",
    "# 아래와 같이 출력하세요.\n",
    "# 안녕하세요. kevin님, \n",
    "# 업무미팅은 2시입니다."
   ]
  },
  {
   "cell_type": "markdown",
   "id": "a9db32ad",
   "metadata": {},
   "source": [
    "날짜/시간"
   ]
  },
  {
   "cell_type": "code",
   "execution_count": null,
   "id": "f438d86b",
   "metadata": {},
   "outputs": [],
   "source": [
    "# Q1. 1609160537.371015을 \"Sat Jun 26 08:35:03 2021\" 포멧으로 출력하세요."
   ]
  },
  {
   "cell_type": "code",
   "execution_count": null,
   "id": "225c776c",
   "metadata": {},
   "outputs": [],
   "source": [
    "# Q2. 현재 날짜와 시간을 \"Sat Jun 26 08:35:03 2021\" 포멧으로 출력하세요."
   ]
  },
  {
   "cell_type": "code",
   "execution_count": null,
   "id": "cba0a66e",
   "metadata": {},
   "outputs": [],
   "source": [
    "# Q3. 현재 시간을 년-월-일 시:분:초로 출력하세요."
   ]
  },
  {
   "cell_type": "code",
   "execution_count": null,
   "id": "9ecf9e2a",
   "metadata": {},
   "outputs": [],
   "source": [
    "# Q4. 올해 경과된 날짜수 계산하세요"
   ]
  },
  {
   "cell_type": "code",
   "execution_count": null,
   "id": "fc97f034",
   "metadata": {},
   "outputs": [],
   "source": [
    "# Q5. 현재 요일을 \"2021-6-26 오늘은 토요일입니다.\"와 같은 형식으로 출력하세요."
   ]
  },
  {
   "cell_type": "code",
   "execution_count": null,
   "id": "7b7ecd09",
   "metadata": {},
   "outputs": [],
   "source": [
    "# 1000 밀리초(ms) = 1초\n",
    "# Q6. 1에서 백만까지 더하는데 걸리는 프로그램 실행 시간을 밀리초(ms) 단위로 구하세요."
   ]
  },
  {
   "cell_type": "code",
   "execution_count": null,
   "id": "280beb06",
   "metadata": {},
   "outputs": [],
   "source": [
    "# 보너스 문제\n",
    "name = ['고영남', '김광훈', '김동일', '김진', '박기범', '박민아', '박시우', '배송이', '송유빈', '신인철',\n",
    "       '양인석','오수문','우동주','이덕재','이민찬','이범준','이슬','이원진','이종현','임희진',\n",
    "       '정하림','조경림','조현정','진유훈','채승혜','최윤진','최한결','최혜정','하도원','안아름']\n",
    "# Q. 발표할 인원을 입력하면 랜덤으로 발표자를 리스트로 출력해주는 프로그램을 \n",
    "# 작성하세요.(중복 허용하지 않음)"
   ]
  }
 ],
 "metadata": {
  "kernelspec": {
   "display_name": "Python 3",
   "language": "python",
   "name": "python3"
  },
  "language_info": {
   "codemirror_mode": {
    "name": "ipython",
    "version": 3
   },
   "file_extension": ".py",
   "mimetype": "text/x-python",
   "name": "python",
   "nbconvert_exporter": "python",
   "pygments_lexer": "ipython3",
   "version": "3.8.8"
  }
 },
 "nbformat": 4,
 "nbformat_minor": 5
}
