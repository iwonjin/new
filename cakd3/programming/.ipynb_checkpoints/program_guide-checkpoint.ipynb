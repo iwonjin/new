{
 "cells": [
  {
   "cell_type": "code",
   "execution_count": null,
   "id": "62adf901",
   "metadata": {},
   "outputs": [],
   "source": [
    "# Q1. 사용자가 입력한 게임 회수만큼 로또 번호를 출력하는 프로그램을 작성하세요."
   ]
  },
  {
   "cell_type": "code",
   "execution_count": null,
   "id": "83840569",
   "metadata": {},
   "outputs": [],
   "source": [
    "# Q2. 남녀 파트너 정해주기 프로그램을 작성하세요.(5개 커플)"
   ]
  },
  {
   "cell_type": "code",
   "execution_count": null,
   "id": "e8fb6222",
   "metadata": {},
   "outputs": [],
   "source": [
    "# Q3. 입력받은 문자열의 각 문자를 그 다음 문자로 변경하여 출력하세요."
   ]
  },
  {
   "cell_type": "code",
   "execution_count": null,
   "id": "4a5301d3",
   "metadata": {},
   "outputs": [],
   "source": [
    "# Q4. url에서 호스트 도메인을 추출하여 출력하세요.\n",
    "url = 'http://news.naver.com/main/read.nhn?mode=LSD&mid=shm&sid1=105&\n",
    "oid=028&aid=0002334601'"
   ]
  },
  {
   "cell_type": "code",
   "execution_count": null,
   "id": "24ff425e",
   "metadata": {},
   "outputs": [],
   "source": [
    "# Q5. url에서 쿼리문을 추출하여 출력하세요.\n",
    "# url에서 '?'뒤에 표시되는 문자열을 쿼리 문자열이라고 하며 변수=값 사이 &로 \n",
    "# 구분되어 나열된다.\n",
    "url = 'http://news.naver.com/main/read.nhn?mode=LSD&mid=shm&sid1=105&oid=028&\n",
    "aid=0002334601'"
   ]
  },
  {
   "cell_type": "code",
   "execution_count": null,
   "id": "4b1d08cb",
   "metadata": {},
   "outputs": [],
   "source": [
    "# Q6. 텍스트 파일(mydata.txt)을 읽고  파일의 내용에서 나타나는 문자들에 대해 자주 \n",
    "# 나타나는 문자들을 아래와 같이 순서대로 출력하세요.\n",
    "# [ ] -> [177]회 나타남\n",
    "# [e] -> [97]회 나타남\n",
    "# [t] -> [85]회 나타남"
   ]
  },
  {
   "cell_type": "code",
   "execution_count": null,
   "id": "b97b62cd",
   "metadata": {},
   "outputs": [],
   "source": [
    "# Q7. mydata.txt 파일에 들어있는 단어수를 계산하여 출력하세요."
   ]
  },
  {
   "cell_type": "code",
   "execution_count": null,
   "id": "86952ae2",
   "metadata": {},
   "outputs": [],
   "source": [
    "# Q8. 사용자가 입력한 단어가 mydata.txt 파일에 포함된 개수를 계산하여 출력하세요."
   ]
  },
  {
   "cell_type": "code",
   "execution_count": null,
   "id": "ad378685",
   "metadata": {},
   "outputs": [],
   "source": [
    "# Q9. mydata.txt 파일에서 특정 단어 t1을  다른 단어 t2로 변경하여 출력하세요."
   ]
  },
  {
   "cell_type": "code",
   "execution_count": null,
   "id": "d398a97e",
   "metadata": {},
   "outputs": [],
   "source": [
    "# Q10. 주어진 데이터에서 1880년에서 2015년까지 이름별 출생아 수를 출력하세요.\n",
    "filename = 'data/names/yob%d.txt' %y"
   ]
  },
  {
   "cell_type": "code",
   "execution_count": null,
   "id": "6c30399c",
   "metadata": {},
   "outputs": [],
   "source": [
    "# Q11. 주어진 데이터에서 연도별 성별 출생아 수를 계산하여 출력하세요."
   ]
  },
  {
   "cell_type": "code",
   "execution_count": null,
   "id": "0c888b85",
   "metadata": {},
   "outputs": [],
   "source": [
    "# Q12. 출생년도를 입력하면 그해 인기순 상위10개 이름을 출력하세요."
   ]
  },
  {
   "cell_type": "code",
   "execution_count": null,
   "id": "37a35a7d",
   "metadata": {},
   "outputs": [],
   "source": [
    "# Q13. 음식점의 음식 주문가격 산출 프로그램을 자유롭게 작성하세요."
   ]
  },
  {
   "cell_type": "code",
   "execution_count": null,
   "id": "dff56225",
   "metadata": {},
   "outputs": [],
   "source": [
    "# Q14. Player가 3승할 때까지 계속 진행되는 가위바위보 게임 프로그램을 작성하세요.\n",
    "# 게임은 Player와 컴퓨터간 진행"
   ]
  },
  {
   "cell_type": "code",
   "execution_count": null,
   "id": "9dfab262",
   "metadata": {},
   "outputs": [],
   "source": [
    "# Q15. 컴퓨터가 랜덤하게 생성하는 숫자 맞추기 게임 프로그램을 작성하세요."
   ]
  }
 ],
 "metadata": {
  "kernelspec": {
   "display_name": "Python 3",
   "language": "python",
   "name": "python3"
  },
  "language_info": {
   "codemirror_mode": {
    "name": "ipython",
    "version": 3
   },
   "file_extension": ".py",
   "mimetype": "text/x-python",
   "name": "python",
   "nbconvert_exporter": "python",
   "pygments_lexer": "ipython3",
   "version": "3.8.8"
  }
 },
 "nbformat": 4,
 "nbformat_minor": 5
}
