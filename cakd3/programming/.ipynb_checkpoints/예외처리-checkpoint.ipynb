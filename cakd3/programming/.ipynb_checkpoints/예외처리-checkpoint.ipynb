{
 "cells": [
  {
   "cell_type": "code",
   "execution_count": 1,
   "id": "4753de16",
   "metadata": {},
   "outputs": [
    {
     "ename": "SyntaxError",
     "evalue": "EOL while scanning string literal (<ipython-input-1-97e69b1f8d4a>, line 4)",
     "output_type": "error",
     "traceback": [
      "\u001b[1;36m  File \u001b[1;32m\"<ipython-input-1-97e69b1f8d4a>\"\u001b[1;36m, line \u001b[1;32m4\u001b[0m\n\u001b[1;33m    print('예외를 강제로 발생!)\u001b[0m\n\u001b[1;37m                       ^\u001b[0m\n\u001b[1;31mSyntaxError\u001b[0m\u001b[1;31m:\u001b[0m EOL while scanning string literal\n"
     ]
    }
   ],
   "source": [
    "# 구문 오류 : 프로그램 실행전에 발생하는 오류\n",
    "# 예외 또는 런타임 오류 : 프로그램 실행중에 발생하는 오류\n",
    "\n",
    "print('예외를 강제로 발생!)"
   ]
  },
  {
   "cell_type": "code",
   "execution_count": 4,
   "id": "508a3113",
   "metadata": {},
   "outputs": [
    {
     "name": "stdout",
     "output_type": "stream",
     "text": [
      "정수 입력> 가\n"
     ]
    },
    {
     "ename": "ValueError",
     "evalue": "invalid literal for int() with base 10: '가'",
     "output_type": "error",
     "traceback": [
      "\u001b[1;31m---------------------------------------------------------------------------\u001b[0m",
      "\u001b[1;31mValueError\u001b[0m                                Traceback (most recent call last)",
      "\u001b[1;32m<ipython-input-4-32f68352830e>\u001b[0m in \u001b[0;36m<module>\u001b[1;34m\u001b[0m\n\u001b[0;32m      1\u001b[0m \u001b[1;31m# 정수를 입력하지 않은 경우 예외 발생\u001b[0m\u001b[1;33m\u001b[0m\u001b[1;33m\u001b[0m\u001b[1;33m\u001b[0m\u001b[0m\n\u001b[1;32m----> 2\u001b[1;33m \u001b[0mnum_input\u001b[0m \u001b[1;33m=\u001b[0m \u001b[0mint\u001b[0m\u001b[1;33m(\u001b[0m\u001b[0minput\u001b[0m\u001b[1;33m(\u001b[0m\u001b[1;34m'정수 입력> '\u001b[0m\u001b[1;33m)\u001b[0m\u001b[1;33m)\u001b[0m\u001b[1;33m\u001b[0m\u001b[1;33m\u001b[0m\u001b[0m\n\u001b[0m\u001b[0;32m      3\u001b[0m \u001b[0mprint\u001b[0m\u001b[1;33m(\u001b[0m\u001b[1;34m'원의 반지름: '\u001b[0m\u001b[1;33m,\u001b[0m \u001b[0mnum_input\u001b[0m\u001b[1;33m)\u001b[0m\u001b[1;33m\u001b[0m\u001b[1;33m\u001b[0m\u001b[0m\n",
      "\u001b[1;31mValueError\u001b[0m: invalid literal for int() with base 10: '가'"
     ]
    }
   ],
   "source": [
    "# 정수를 입력하지 않은 경우 예외 발생\n",
    "num_input = int(input('정수 입력> '))\n",
    "print('원의 반지름: ', num_input)"
   ]
  },
  {
   "cell_type": "code",
   "execution_count": 6,
   "id": "9d7f10d7",
   "metadata": {},
   "outputs": [
    {
     "name": "stdout",
     "output_type": "stream",
     "text": [
      "정수 입력> 가\n",
      "정수를 입력하지 않았습니다.\n"
     ]
    }
   ],
   "source": [
    "# 조건문으로 예외 처리\n",
    "user_input = input('정수 입력> ')\n",
    "if user_input.isdigit():\n",
    "    num_input = int(user_input)\n",
    "    print('원의 반지름: ',num_input)\n",
    "else:\n",
    "    print('정수를 입력하지 않았습니다.')"
   ]
  },
  {
   "cell_type": "code",
   "execution_count": 1,
   "id": "7adb7c6a",
   "metadata": {},
   "outputs": [
    {
     "name": "stdout",
     "output_type": "stream",
     "text": [
      "안녕하세요\n"
     ]
    },
    {
     "ename": "NameError",
     "evalue": "name 'param' is not defined",
     "output_type": "error",
     "traceback": [
      "\u001b[1;31m---------------------------------------------------------------------------\u001b[0m",
      "\u001b[1;31mNameError\u001b[0m                                 Traceback (most recent call last)",
      "\u001b[1;32m<ipython-input-1-936c7cb84703>\u001b[0m in \u001b[0;36m<module>\u001b[1;34m\u001b[0m\n\u001b[0;32m      1\u001b[0m \u001b[0mprint\u001b[0m\u001b[1;33m(\u001b[0m\u001b[1;34m'안녕하세요'\u001b[0m\u001b[1;33m)\u001b[0m\u001b[1;33m\u001b[0m\u001b[1;33m\u001b[0m\u001b[0m\n\u001b[1;32m----> 2\u001b[1;33m \u001b[0mprint\u001b[0m\u001b[1;33m(\u001b[0m\u001b[0mparam\u001b[0m\u001b[1;33m)\u001b[0m\u001b[1;33m\u001b[0m\u001b[1;33m\u001b[0m\u001b[0m\n\u001b[0m",
      "\u001b[1;31mNameError\u001b[0m: name 'param' is not defined"
     ]
    }
   ],
   "source": [
    "print('안녕하세요')\n",
    "print(param)"
   ]
  },
  {
   "cell_type": "code",
   "execution_count": 3,
   "id": "e6cec7bb",
   "metadata": {},
   "outputs": [
    {
     "name": "stdout",
     "output_type": "stream",
     "text": [
      "예외가 발생했습니다\n"
     ]
    }
   ],
   "source": [
    "# 프로그램이 실행되는 동안 오류가 발생하면 프로그램이 더 이상 진행될 수 없는 상태가\n",
    "# 되는데 이를 예외라고 함\n",
    "# 예외가 발생해도 프로그램을 중단하지 않고 예외에 대한 적절한 처리를 하여 프로그램을\n",
    "# 계속 진행하도록 하는 구문이 try ~ except\n",
    "try:    \n",
    "    print('안녕하세요')\n",
    "    print(param)    \n",
    "except:\n",
    "    print('예외가 발생했습니다')"
   ]
  },
  {
   "cell_type": "code",
   "execution_count": 10,
   "id": "ab237966",
   "metadata": {},
   "outputs": [
    {
     "name": "stdout",
     "output_type": "stream",
     "text": [
      "안녕하세요\n",
      "예외가 발생하지 않았습니다.\n"
     ]
    }
   ],
   "source": [
    "try:    \n",
    "    print('안녕하세요')  \n",
    "except:\n",
    "    print('예외가 발생했습니다')\n",
    "else:\n",
    "    print('예외가 발생하지 않았습니다.')"
   ]
  },
  {
   "cell_type": "code",
   "execution_count": 7,
   "id": "75ce16c6",
   "metadata": {},
   "outputs": [
    {
     "name": "stdout",
     "output_type": "stream",
     "text": [
      "안녕하세요\n",
      "예외가 발생했습니다\n",
      "무조건 실행하는 코드\n"
     ]
    }
   ],
   "source": [
    "try:    \n",
    "    print('안녕하세요')\n",
    "    print(param) \n",
    "except:\n",
    "    print('예외가 발생했습니다')\n",
    "finally:\n",
    "    print('무조건 실행하는 코드')"
   ]
  },
  {
   "cell_type": "code",
   "execution_count": 8,
   "id": "e85624a6",
   "metadata": {},
   "outputs": [
    {
     "name": "stdout",
     "output_type": "stream",
     "text": [
      "name 'param' is not defined\n"
     ]
    }
   ],
   "source": [
    "# 코드에서 예외 발생 내용을 확인하고자 하는 경우 처리 방법\n",
    "\n",
    "try:    \n",
    "    print(param) \n",
    "except Exception as e:\n",
    "    print(e)"
   ]
  },
  {
   "cell_type": "code",
   "execution_count": 13,
   "id": "2a6779dd",
   "metadata": {},
   "outputs": [
    {
     "name": "stdout",
     "output_type": "stream",
     "text": [
      "1\n",
      "2\n",
      "3\n",
      "4\n",
      "5\n",
      "6\n",
      "사용자에 의해 프로그램이 중단되었습니다.\n"
     ]
    }
   ],
   "source": [
    "import time\n",
    "count = 1\n",
    "try:\n",
    "    while True:\n",
    "        print(count)\n",
    "        count += 1\n",
    "        time.sleep(0.5)\n",
    "except KeyboardInterrupt:\n",
    "    print('사용자에 의해 프로그램이 중단되었습니다.')\n",
    "    "
   ]
  },
  {
   "cell_type": "code",
   "execution_count": 14,
   "id": "bc3e5e38",
   "metadata": {},
   "outputs": [
    {
     "name": "stdout",
     "output_type": "stream",
     "text": [
      "['52', '273', '32', '103']\n"
     ]
    }
   ],
   "source": [
    "# Q. 리스트 ['52','273','32','문자','103']에서 숫자 부분만 출력하세요(예외 처리 수행)\n",
    "list_input = ['52','273','32','문자','103']\n",
    "list_num = []\n",
    "for i in list_input:\n",
    "    try:\n",
    "        int(i)\n",
    "        list_num.append(i)\n",
    "    except:\n",
    "        pass\n",
    "print(list_num)"
   ]
  },
  {
   "cell_type": "code",
   "execution_count": 18,
   "id": "2e1ca285",
   "metadata": {},
   "outputs": [
    {
     "name": "stdout",
     "output_type": "stream",
     "text": [
      "정수 입력> 가\n",
      "정수 아님\n"
     ]
    }
   ],
   "source": [
    "# Q. 정수를 입력하면 '정수', 정수가 아니면 '정수 아님'을 출력하세요.\n",
    "\n",
    "try:\n",
    "    num_input = int(input('정수 입력> '))\n",
    "except:\n",
    "    print('정수 아님')\n",
    "else:\n",
    "    print('정수')\n"
   ]
  },
  {
   "cell_type": "code",
   "execution_count": 20,
   "id": "8a34c5ac",
   "metadata": {},
   "outputs": [
    {
     "name": "stdout",
     "output_type": "stream",
     "text": [
      "정수 입력> 가\n",
      "정수 아님\n",
      "프로그램 종료\n"
     ]
    }
   ],
   "source": [
    "# Q. 정수를 입력하면 '입력 정수' > '예외 발생하지 않음' > '프로그램 종료' \n",
    "# 정수가 아니면 '입력 값' > '정수 아님' > '프로그램 종료' 순서대로 출력하세요\n",
    "\n",
    "try:\n",
    "    n=int(input('정수 입력> '))\n",
    "except:\n",
    "    print('정수 아님')\n",
    "else:\n",
    "    print(n)\n",
    "    print('예외 발생하지 않음')\n",
    "finally:\n",
    "    print('프로그램 종료')\n"
   ]
  },
  {
   "cell_type": "code",
   "execution_count": 21,
   "id": "ee7ee054",
   "metadata": {},
   "outputs": [
    {
     "name": "stdout",
     "output_type": "stream",
     "text": [
      "프로그램이 시작되었습니다.\n",
      "try 구문이 시작되었습니다.\n",
      "finally 구문이 실행되었습니다.\n",
      "프로그램이 종료되었습니다.\n"
     ]
    }
   ],
   "source": [
    "# Q. 아래 코드에서 try ~ except ~ finally를 사용하여 'finally 구문이 실행되었습니다.'\n",
    "# 를 출력하세요\n",
    "print('프로그램이 시작되었습니다.')\n",
    "while True:\n",
    "    try:\n",
    "        print('try 구문이 시작되었습니다.')\n",
    "        break\n",
    "        print('try 구문의 break 키워드 뒤입니다.')\n",
    "    except:\n",
    "        print('except 구문이 실행되었습니다.')\n",
    "    finally:\n",
    "        print('finally 구문이 실행되었습니다.')\n",
    "    print('while 반복문의 마지막 줄입니다.')\n",
    "print('프로그램이 종료되었습니다.')"
   ]
  },
  {
   "cell_type": "code",
   "execution_count": 23,
   "id": "e44cb7d9",
   "metadata": {},
   "outputs": [
    {
     "name": "stdout",
     "output_type": "stream",
     "text": [
      "정수 입력> rk\n",
      "<class 'ValueError'>\n",
      "invalid literal for int() with base 10: 'rk'\n"
     ]
    }
   ],
   "source": [
    "# Q. 숫자 대신 문자를 입력 시 예외가 발생되는데 아래 코드를 수정해서 \n",
    "# 예외 객체의 자료형과 예외 객체 자체를 출력하세요\n",
    "\n",
    "try:\n",
    "    num_input = int(input('정수 입력> '))\n",
    "    print('원의 반지름:', num_input)\n",
    "    print('원의 둘레:', 2*3.14*num_input)\n",
    "    print('원의 넓이:', 3.14*num_input*num_input)\n",
    "except Exception as e:\n",
    "    print(type(e))\n",
    "    print(e)"
   ]
  },
  {
   "cell_type": "code",
   "execution_count": null,
   "id": "1a3db2c7",
   "metadata": {},
   "outputs": [],
   "source": [
    "# 과제\n",
    "# Q. 아래 코드를 모든 예외를 처리할 수 있도록 보완하세요\n",
    "list_num = [52,273,32,72,100]\n",
    "try:\n",
    "    num_input = int(input('정수 입력> '))\n",
    "    print('{}번째 요소: {}'.format(num_input, list_num[num_input]))\n",
    "    예외.발생()\n",
    "except ValueError as exception:\n",
    "    print('정수를 입력해 주세요.')\n",
    "    print(type(exception),exception)\n",
    "except IndexError as exception:\n",
    "    print('리스트의 인덱스를 벗어났어요.')\n",
    "    print(type(exception),exception)\n",
    "finally:\n",
    "    print('모든 예외 처리')"
   ]
  },
  {
   "cell_type": "code",
   "execution_count": null,
   "id": "5be35f43",
   "metadata": {},
   "outputs": [],
   "source": []
  },
  {
   "cell_type": "code",
   "execution_count": null,
   "id": "01c7783a",
   "metadata": {},
   "outputs": [],
   "source": []
  },
  {
   "cell_type": "code",
   "execution_count": null,
   "id": "831bcb0b",
   "metadata": {},
   "outputs": [],
   "source": []
  },
  {
   "cell_type": "code",
   "execution_count": 1,
   "id": "fcd89d01",
   "metadata": {},
   "outputs": [
    {
     "name": "stdout",
     "output_type": "stream",
     "text": [
      "정수 입력> 52\n",
      "리스트의 인덱스를 벗어났어요.\n",
      "<class 'IndexError'> list index out of range\n",
      "모든 예외 처리\n"
     ]
    }
   ],
   "source": [
    "# 과제\n",
    "# Q. 아래 코드를 모든 예외를 처리할 수 있도록 보완하세요\n",
    "list_num = [52,273,32,72,100]\n",
    "try:\n",
    "    num_input = int(input('정수 입력> '))\n",
    "    print('{}번째 요소: {}'.format(num_input, list_num[num_input]))\n",
    "    예외.발생()\n",
    "except ValueError as exception:\n",
    "    print('정수를 입력해 주세요.')\n",
    "    print(type(exception),exception)\n",
    "except IndexError as exception:\n",
    "    print('리스트의 인덱스를 벗어났어요.')\n",
    "    print(type(exception),exception)\n",
    "finally:\n",
    "    print('모든 예외 처리')"
   ]
  },
  {
   "cell_type": "code",
   "execution_count": 3,
   "id": "4b7b59ad",
   "metadata": {},
   "outputs": [
    {
     "ename": "SyntaxError",
     "evalue": "invalid syntax (<ipython-input-3-916eb327bad9>, line 1)",
     "output_type": "error",
     "traceback": [
      "\u001b[1;36m  File \u001b[1;32m\"<ipython-input-3-916eb327bad9>\"\u001b[1;36m, line \u001b[1;32m1\u001b[0m\n\u001b[1;33m    except.dir()\u001b[0m\n\u001b[1;37m    ^\u001b[0m\n\u001b[1;31mSyntaxError\u001b[0m\u001b[1;31m:\u001b[0m invalid syntax\n"
     ]
    }
   ],
   "source": []
  }
 ],
 "metadata": {
  "kernelspec": {
   "display_name": "Python 3",
   "language": "python",
   "name": "python3"
  },
  "language_info": {
   "codemirror_mode": {
    "name": "ipython",
    "version": 3
   },
   "file_extension": ".py",
   "mimetype": "text/x-python",
   "name": "python",
   "nbconvert_exporter": "python",
   "pygments_lexer": "ipython3",
   "version": "3.8.8"
  }
 },
 "nbformat": 4,
 "nbformat_minor": 5
}
