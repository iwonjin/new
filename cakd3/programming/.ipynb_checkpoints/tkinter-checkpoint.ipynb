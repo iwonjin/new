{
 "cells": [
  {
   "cell_type": "code",
   "execution_count": null,
   "id": "4b6ba212",
   "metadata": {},
   "outputs": [],
   "source": [
    "# https://blog.naver.com/amethyst_lee/222012497834"
   ]
  },
  {
   "cell_type": "code",
   "execution_count": null,
   "id": "c7dab6a5",
   "metadata": {},
   "outputs": [],
   "source": []
  },
  {
   "cell_type": "code",
   "execution_count": 1,
   "id": "9dee47f9",
   "metadata": {},
   "outputs": [],
   "source": [
    "from tkinter import *\n",
    "root = Tk()\n",
    "\n",
    "\n",
    "root.mainloop()# 위치 주의\n",
    "\n",
    "# 빈 화면 실행"
   ]
  },
  {
   "cell_type": "code",
   "execution_count": 54,
   "id": "779c460f",
   "metadata": {},
   "outputs": [],
   "source": [
    "def 눌렀을때실행하는함수명():\n",
    "    print( 'tlfgodehla')\n",
    "    "
   ]
  },
  {
   "cell_type": "code",
   "execution_count": null,
   "id": "51cdc66c",
   "metadata": {},
   "outputs": [],
   "source": [
    "from tkinter import *\n",
    "root = Tk()\n",
    "root.geometry(\"540x380+0+0\") # 크기 조절 \n",
    "# ' 가로 x 세로 + 가로좌표 + 세로좌표'\n",
    "# 띄어쓰기 허용 안함\n",
    "# 0,0 = 왼쪽 상단\n",
    "\n",
    "root.resizable(True, True)\n",
    "# 창 크기 조절 - ( 가로 , 세로)    \n",
    "\n",
    "\n",
    "\n",
    "#photo = PhotoImage(file=\"C:\\workspace\\cakd3\\programming\\image.gif\") #... 왜안될까?  별도로 실행하는 거구나  ...PGM, PPM, GIF 및 PNG형식, jpg안됨\n",
    "#photo = PhotoImage(file=\"image.gif\") \n",
    "#button = Button( root , text=\"버튼에 표시할 텍스트\", fg=\"글자색\", bg='배경색', command= '눌렀을때 실행하는 값')\n",
    "button = Button( root , text=\"버튼에 표시할 텍스트\", fg=\"red\", bg='blue', command= 눌렀을때실행하는함수명 , padx = 100 , pady = 30, \n",
    "                                width=10, height=2                              )\n",
    "# Button() 클래스 실행 .. ( 어느 창에 만들까?,  옵션들...text, fg, bg, commend, image....)\n",
    "# 버튼 객체를 생성\n",
    "# foreground: 전경\n",
    "# fred.config(fg=\"red\", bg=\"blue\"...)  #수정시 사용   .config\n",
    "# .객체명  someAction someOptions\n",
    "#photo = PhotoImage(file=\"C:\\workspace\\cakd3\\programming\\image.gif\") #... 왜안될까?  별도로 실행하는 거구나  ...PGM, PPM, GIF 및 PNG형식, jpg안됨\n",
    "# width=10, height=2 : 글자수 기준, 한글은 2개 크기\n",
    "\n",
    "button.pack() # 생성한 객체를  창에 삽입\n",
    "\n",
    "# labal  : command만 지워줌\n",
    "label = Label( root , text=\"레이블에 표시할 텍스트\", fg=\"red\", bg='#ABCCEF' , padx = 100 , pady = 30, width=10, height=2 )\n",
    "label.pack()\n",
    "#print(root.config())\n",
    "    \n",
    "txt = Text( root,  width=10, height=2 )\n",
    "txt.insert(END, \"글자를 입력하세요\")\n",
    "txt.pack()\n",
    "    # insert(index, chars, *args)\n",
    "    \n",
    "ent = Entry(root, width=30)\n",
    "\n",
    "# 1줄만 입력 가능한  텍스트창\n",
    "    \n",
    "root.mainloop() # 위치 주의\n",
    "#print(buttom.config())"
   ]
  },
  {
   "cell_type": "code",
   "execution_count": 69,
   "id": "6c20c690",
   "metadata": {},
   "outputs": [
    {
     "ename": "SyntaxError",
     "evalue": "invalid syntax (<ipython-input-69-eeb4c153d9d3>, line 3)",
     "output_type": "error",
     "traceback": [
      "\u001b[1;36m  File \u001b[1;32m\"<ipython-input-69-eeb4c153d9d3>\"\u001b[1;36m, line \u001b[1;32m3\u001b[0m\n\u001b[1;33m    * 함수 내에서는 새로운 변수 실행을 원하면 '전역변수'로 선언해 주자.\u001b[0m\n\u001b[1;37m         ^\u001b[0m\n\u001b[1;31mSyntaxError\u001b[0m\u001b[1;31m:\u001b[0m invalid syntax\n"
     ]
    }
   ],
   "source": [
    "%pwd\n",
    "\n",
    "* 함수 내에서는 새로운 변수 실행을 원하면 '전역변수'로 선언해 주자.\n",
    "만약 전역변수로 선언해 주지 않으면 프로그램이 한 번 실행 후 가비지 컬렉션(garbage collection: 불필요한 메모리 공간 해제 ) 개념으로 \n",
    "photo2를 가비지 즉 쓰레기로 알고 지워버리게 됨.\n"
   ]
  },
  {
   "cell_type": "code",
   "execution_count": null,
   "id": "c92f318f",
   "metadata": {},
   "outputs": [],
   "source": [
    "root = Tk()\n",
    "root.mainloop()\n",
    "\n",
    "'bd': \n",
    "('bd', '-borderwidth'), \n",
    "\n",
    "'borderwidth': \n",
    "('borderwidth', 'borderWidth', 'BorderWidth', <string object: '0'>, 0),\n",
    "\n",
    "'class': \n",
    "('class', 'class', 'Class', 'Toplevel', 'Tk'), \n",
    "\n",
    "'menu': \n",
    "('menu', 'menu', 'Menu', '', ''), \n",
    "\n",
    "'relief': \n",
    "('relief', 'relief', 'Relief', <string object: 'flat'>, 'flat'), \n",
    "\n",
    "'screen': \n",
    "('screen', 'screen', 'Screen', '', ''), \n",
    "\n",
    "'use': \n",
    "('use', 'use', 'Use', '', ''), \n",
    "\n",
    "'background': \n",
    "('background', 'background', 'Background', <string object: 'SystemButtonFace'>, 'SystemButtonFace'), \n",
    "\n",
    "'bg': \n",
    "('bg', '-background'), \n",
    "\n",
    "'colormap': \n",
    "('colormap', 'colormap', 'Colormap', '', ''), \n",
    "\n",
    "'container': \n",
    "('container', 'container', 'Container', 0, 0), \n",
    "\n",
    "'cursor': \n",
    "('cursor', 'cursor', 'Cursor', '', ''), \n",
    "\n",
    "'height': \n",
    "('height', 'height', 'Height', <string object: '0'>, 0), \n",
    "\n",
    "'highlightbackground': \n",
    "('highlightbackground', 'highlightBackground', 'HighlightBackground', <string object: 'SystemButtonFace'>, 'SystemButtonFace'),\n",
    "\n",
    "'highlightcolor': \n",
    "('highlightcolor', 'highlightColor', 'HighlightColor', <string object: 'SystemWindowFrame'>, 'SystemWindowFrame'), \n",
    "\n",
    "'highlightthickness': \n",
    "('highlightthickness', 'highlightThickness', 'HighlightThickness', <string object: '0'>, 0), \n",
    "\n",
    "'padx': \n",
    "('padx', 'padX', 'Pad', <string object: '0'>, <string object: '0'>), \n",
    "\n",
    "'pady': \n",
    "('pady', 'padY', 'Pad', <string object: '0'>, <string object: '0'>), \n",
    "\n",
    "'takefocus': \n",
    "('takefocus', 'takeFocus', 'TakeFocus', '0', '0'), \n",
    "\n",
    "'visual': \n",
    "('visual', 'visual', 'Visual', '', ''), \n",
    "\n",
    "'width': \n",
    "('width', 'width', 'Width', <string object: '0'>, 0)"
   ]
  }
 ],
 "metadata": {
  "kernelspec": {
   "display_name": "Python 3",
   "language": "python",
   "name": "python3"
  },
  "language_info": {
   "codemirror_mode": {
    "name": "ipython",
    "version": 3
   },
   "file_extension": ".py",
   "mimetype": "text/x-python",
   "name": "python",
   "nbconvert_exporter": "python",
   "pygments_lexer": "ipython3",
   "version": "3.8.8"
  }
 },
 "nbformat": 4,
 "nbformat_minor": 5
}
